{
 "cells": [
  {
   "cell_type": "markdown",
   "metadata": {},
   "source": [
    "# 查看目录下数据"
   ]
  },
  {
   "cell_type": "markdown",
   "metadata": {},
   "source": [
    "## 列出../data目录"
   ]
  },
  {
   "cell_type": "code",
   "execution_count": 7,
   "metadata": {},
   "outputs": [
    {
     "name": "stdout",
     "output_type": "stream",
     "text": [
      "underexpose_test      underexpose_train      解压.ipynb\n",
      "underexpose_test.zip  underexpose_train.zip\n"
     ]
    }
   ],
   "source": [
    "!ls ../data/"
   ]
  },
  {
   "cell_type": "markdown",
   "metadata": {},
   "source": [
    "## 列出../data/underexpose_train/目录下数据"
   ]
  },
  {
   "cell_type": "code",
   "execution_count": 8,
   "metadata": {},
   "outputs": [
    {
     "name": "stdout",
     "output_type": "stream",
     "text": [
      "underexpose_item_feat.csv      underexpose_train_click-4.csv\n",
      "underexpose_train_click-0.csv  underexpose_train_click-4.zip\n",
      "underexpose_train_click-1.csv  underexpose_train_click-5.zip\n",
      "underexpose_train_click-1.zip  underexpose_train_click-6.zip\n",
      "underexpose_train_click-2.csv  underexpose_train_click-7.zip\n",
      "underexpose_train_click-2.zip  underexpose_train_click-8.zip\n",
      "underexpose_train_click-3.csv  underexpose_train_click-9.zip\n",
      "underexpose_train_click-3.zip  underexpose_user_feat.csv\n"
     ]
    }
   ],
   "source": [
    "!ls ../data/underexpose_train/"
   ]
  },
  {
   "cell_type": "markdown",
   "metadata": {},
   "source": [
    "## 列出../data/underexpose_test/目录下目录"
   ]
  },
  {
   "cell_type": "code",
   "execution_count": 9,
   "metadata": {},
   "outputs": [
    {
     "name": "stdout",
     "output_type": "stream",
     "text": [
      "underexpose_test_click-0      underexpose_test_click-4\n",
      "underexpose_test_click-1      underexpose_test_click-4.zip\n",
      "underexpose_test_click-1.zip  underexpose_test_click-5.zip\n",
      "underexpose_test_click-2      underexpose_test_click-6.zip\n",
      "underexpose_test_click-2.zip  underexpose_test_click-7.zip\n",
      "underexpose_test_click-3      underexpose_test_click-8.zip\n",
      "underexpose_test_click-3.zip  underexpose_test_click-9.zip\n"
     ]
    }
   ],
   "source": [
    "!ls ../data/underexpose_test/"
   ]
  },
  {
   "cell_type": "markdown",
   "metadata": {},
   "source": [
    "## 列出../data/underexpose_test/underexpose_test_click-0/目录下数据"
   ]
  },
  {
   "cell_type": "code",
   "execution_count": 10,
   "metadata": {
    "scrolled": true
   },
   "outputs": [
    {
     "name": "stdout",
     "output_type": "stream",
     "text": [
      "underexpose_test_click-0.csv  underexpose_test_qtime-0.csv\n"
     ]
    }
   ],
   "source": [
    "!ls ../data/underexpose_test/underexpose_test_click-0/"
   ]
  },
  {
   "cell_type": "markdown",
   "metadata": {},
   "source": [
    "## 查看../data/underexpose_train/underexpose_user_feat.csv数据"
   ]
  },
  {
   "cell_type": "code",
   "execution_count": 11,
   "metadata": {},
   "outputs": [
    {
     "name": "stdout",
     "output_type": "stream",
     "text": [
      "17,8,M,4\n",
      "26,7,M,2\n",
      "35,6,F,4\n",
      "40,6,M,1\n",
      "49,6,M,1\n",
      "51,7,F,2\n",
      "58,6,M,2\n",
      "87,7,M,1\n",
      "97,6,F,2\n",
      "98,7,F,2\n"
     ]
    }
   ],
   "source": [
    "!head ../data/underexpose_train/underexpose_user_feat.csv"
   ]
  },
  {
   "cell_type": "markdown",
   "metadata": {},
   "source": [
    "## 查看../data/underexpose_train/underexpose_item_feat.csv数据"
   ]
  },
  {
   "cell_type": "code",
   "execution_count": 12,
   "metadata": {},
   "outputs": [
    {
     "name": "stdout",
     "output_type": "stream",
     "text": [
      "42844,[4.514945030212402, -2.3837196826934814, 0.5004140138626099, 0.40706828236579895, -1.995228886604309, 0.10907801240682602, -0.6917753219604492, 2.2274599075317383, -6.437974452972412, -0.8248971700668335, -0.13872423768043518, -0.3793291747570038, 0.6276600956916809, 0.41837671399116516, 4.441218376159668, 0.29981935024261475, 0.5785568356513977, -4.699289321899414, -0.39474016427993774, -2.3916513919830322, 0.37053167819976807, -1.3554661273956299, -1.0741775035858154, -2.3216402530670166, -0.33245617151260376, 0.12388594448566437, -2.4391555786132812, -0.3455986976623535, -3.304347038269043, 1.4852843284606934, 0.9098017811775208, -1.643001914024353, 5.037034034729004, 2.7801148891448975, 4.776496410369873, 2.255274772644043, 3.769707441329956, -3.6616835594177246, -0.6494054794311523, 4.199635982513428, -0.6348056197166443, 2.430340051651001, -2.874018669128418, -0.7861775159835815, -0.504916250705719, -6.00778865814209, 1.4984948635101318, 1.530612826347351, 2.3796546459198, -0.023146437481045723, -0.7036052942276001, 2.1469361782073975, 3.9448320865631104, -3.0985984802246094, 2.513453483581543, -5.395860195159912, 0.7621323466300964, 2.8018035888671875, 0.8779643177986145, -0.5859798192977905, 1.9625556468963623, -5.171217441558838, 1.181687355041504, 0.5419528484344482, 0.4858333170413971, 4.212568283081055, 3.458198308944702, 1.4029390811920166, -0.5462926030158997, 2.182100534439087, -0.09625467658042908, 1.7366081476211548, 0.6851462721824646, -1.6132848262786865, -0.9128761887550354, -0.5323970317840576, 1.7248421907424927, 2.2641146183013916, -2.259755849838257, 4.506508827209473, -0.34608832001686096, 0.9281976819038391, -2.078261137008667, -0.19557562470436096, 4.847578048706055, -2.958686351776123, 1.0060796737670898, 2.0822322368621826, -2.2596824169158936, -2.0333144664764404, 0.2182324230670929, 3.9753122329711914, 2.0034470558166504, -0.24062836170196533, -2.468548059463501, 1.6660641431808472, -2.081960678100586, -2.4968724250793457, -1.9016369581222534, 0.2714739739894867, -2.298168420791626, -1.7873090505599976, 1.6180669069290161, -2.997577428817749, 0.04206437990069389, -1.2196398973464966, -2.3956730365753174, 5.60908317565918, -1.491484522819519, 1.7885915040969849, 4.177252292633057, 4.460817337036133, -1.2361496686935425, -2.0794692039489746, -4.397149562835693, 0.3652189075946808, 0.8151836395263672, 5.475111484527588, 4.239776611328125, 0.9392179846763611, 1.1986280679702759, -1.4769824743270874, -1.5552177429199219, 0.3611471354961395, 2.0227699279785156, -1.5996438264846802, 3.223153829574585, -1.4574943780899048],[-2.8722801208496094, 1.4587551355361938, 2.579012632369995, -1.6097468137741089, 1.4378223419189453, 1.387495994567871, 0.7249992489814758, 0.02033231034874916, 0.3120986819267273, -1.9997732639312744, -1.805732250213623, -0.17392373085021973, -2.17514967918396, -0.4395467936992645, -1.8935351371765137, -0.7034621834754944, -1.9535105228424072, 0.6914859414100647, 0.6445956826210022, 2.0112810134887695, -0.4342123568058014, 2.614630937576294, 2.123403549194336, -2.8775033950805664, 1.0714125633239746, 0.4730164110660553, 2.4707813262939453, -1.6296484470367432, -2.594815492630005, 2.1294517517089844, -1.0729905366897583, 2.4951767921447754, -0.6153161525726318, -0.3726658523082733, 1.4416368007659912, -0.38695797324180603, 0.5742669105529785, 0.2901403605937958, 2.143984079360962, -2.1797549724578857, 1.0018137693405151, 1.7092645168304443, 1.7659958600997925, -0.9781475067138672, 2.37626576423645, 1.2863856554031372, -1.4987120628356934, -2.1206870079040527, -1.6261025667190552, -1.7383675575256348, -0.22327128052711487, 1.2644373178482056, -0.9871305823326111, -1.9093743562698364, 2.2314555644989014, -2.6836464405059814, -0.6353181004524231, 0.0858888104557991, -0.82350754737854, 0.5569828152656555, 2.5153543949127197, -3.420529842376709, 0.06346563994884491, 0.009474173188209534, -0.06575080752372742, -1.075365424156189, -2.971308946609497, 1.0196198225021362, 2.509558916091919, -1.5258373022079468, 0.5425801277160645, -0.2697300314903259, -0.035962194204330444, 0.39179956912994385, -1.2341160774230957, 2.3140294551849365, 1.898616909980774, -2.361128330230713, 0.3124046325683594, 3.4446072578430176, -0.8862501382827759, -1.3436369895935059, 0.9544589519500732, 0.6308349370956421, -2.394721746444702, 0.6834869980812073, 1.1490038633346558, -1.3511732816696167, 2.023900032043457, 1.599198341369629, 1.3828682899475098, 1.6056783199310303, 1.8806668519973755, -0.5081608891487122, 0.24284043908119202, -0.2608487904071808, 1.8759434223175049, 0.20613457262516022, 0.18697303533554077, 2.04744553565979, -0.5754722952842712, 3.0164101123809814, 2.757145643234253, 3.3537209033966064, -0.457271546125412, -0.12533661723136902, 2.332963466644287, 3.858966827392578, -2.0754899978637695, -0.7054958343505859, 0.20345205068588257, 1.7197328805923462, 2.9250385761260986, -0.38863879442214966, 1.2257323265075684, -1.773137092590332, 0.052655115723609924, 1.2799222469329834, -3.374727249145508, -1.5069689750671387, -1.8201801776885986, -3.024643659591675, 0.4452633857727051, 0.013933304697275162, -1.3002386093139648, 2.759948492050171, 2.056171178817749, 0.5087034702301025]\n"
     ]
    }
   ],
   "source": [
    "!head -1 ../data/underexpose_train/underexpose_item_feat.csv"
   ]
  },
  {
   "cell_type": "markdown",
   "metadata": {},
   "source": [
    "## 查看../data/underexpose_train/underexpose_train_click-0.csv数据"
   ]
  },
  {
   "cell_type": "code",
   "execution_count": 13,
   "metadata": {
    "scrolled": true
   },
   "outputs": [
    {
     "name": "stdout",
     "output_type": "stream",
     "text": [
      "4965,18,0.9837634760241426\n",
      "20192,34,0.9837723702817137\n",
      "30128,91,0.9837801863518689\n",
      "29473,189,0.9839301484049713\n",
      "10625,225,0.9839253997117711\n",
      "2426,233,0.9839370194050568\n",
      "4043,253,0.9839540262500946\n",
      "19451,258,0.9838947108009123\n",
      "7944,264,0.9838520608864155\n",
      "14329,264,0.9839390470787577\n"
     ]
    }
   ],
   "source": [
    "!head ../data/underexpose_train/underexpose_train_click-0.csv"
   ]
  },
  {
   "cell_type": "markdown",
   "metadata": {},
   "source": [
    "## 查看../data/underexpose_test/underexpose_test_click-0/underexpose_test_click-0.csv数据"
   ]
  },
  {
   "cell_type": "code",
   "execution_count": 14,
   "metadata": {},
   "outputs": [
    {
     "name": "stdout",
     "output_type": "stream",
     "text": [
      "1133,221,0.9838116537783924\n",
      "17864,253,0.9837829609968396\n",
      "6941,309,0.9837845962582685\n",
      "34089,358,0.9837808998860803\n",
      "21659,536,0.9837933069274615\n",
      "9185,570,0.9839333388050662\n",
      "6270,694,0.9837913764104969\n",
      "31823,934,0.9837780085268486\n",
      "4004,1129,0.9839554306065532\n",
      "19668,1204,0.9837406656413409\n"
     ]
    }
   ],
   "source": [
    "!head ../data/underexpose_test/underexpose_test_click-0/underexpose_test_click-0.csv"
   ]
  },
  {
   "cell_type": "markdown",
   "metadata": {},
   "source": [
    "## 查看../data/underexpose_test/underexpose_test_click-0/underexpose_test_qtime-0.csv数据"
   ]
  },
  {
   "cell_type": "code",
   "execution_count": 15,
   "metadata": {},
   "outputs": [
    {
     "name": "stdout",
     "output_type": "stream",
     "text": [
      "11,0.9838685415709473\n",
      "22,0.9839564400271883\n",
      "44,0.9839238881043699\n",
      "55,0.9839529196727235\n",
      "66,0.9838954798532588\n",
      "88,0.983900583105457\n",
      "99,0.9839459546703412\n",
      "132,0.9839541082655212\n",
      "143,0.9839407416436488\n",
      "154,0.9838833750071801\n"
     ]
    }
   ],
   "source": [
    "!head ../data/underexpose_test/underexpose_test_click-0/underexpose_test_qtime-0.csv"
   ]
  },
  {
   "cell_type": "markdown",
   "metadata": {},
   "source": [
    "# 导入python包"
   ]
  },
  {
   "cell_type": "code",
   "execution_count": 16,
   "metadata": {},
   "outputs": [],
   "source": [
    "import pandas as pd\n",
    "import numpy as np\n",
    "from tqdm import tqdm\n",
    "import warnings\n",
    "warnings.filterwarnings(\"ignore\")"
   ]
  },
  {
   "cell_type": "markdown",
   "metadata": {},
   "source": [
    "# 读取数据"
   ]
  },
  {
   "cell_type": "markdown",
   "metadata": {},
   "source": [
    "## 候选集——用户候选集，商品候选集"
   ]
  },
  {
   "cell_type": "code",
   "execution_count": 17,
   "metadata": {},
   "outputs": [
    {
     "data": {
      "text/plain": [
       "\u001b[0;31mSignature:\u001b[0m \u001b[0mpd\u001b[0m\u001b[0;34m.\u001b[0m\u001b[0mread_csv\u001b[0m\u001b[0;34m(\u001b[0m\u001b[0mfilepath_or_buffer\u001b[0m\u001b[0;34m:\u001b[0m\u001b[0mUnion\u001b[0m\u001b[0;34m[\u001b[0m\u001b[0mstr\u001b[0m\u001b[0;34m,\u001b[0m \u001b[0mpathlib\u001b[0m\u001b[0;34m.\u001b[0m\u001b[0mPath\u001b[0m\u001b[0;34m,\u001b[0m \u001b[0mIO\u001b[0m\u001b[0;34m[\u001b[0m\u001b[0;34m~\u001b[0m\u001b[0mAnyStr\u001b[0m\u001b[0;34m]\u001b[0m\u001b[0;34m]\u001b[0m\u001b[0;34m,\u001b[0m \u001b[0msep\u001b[0m\u001b[0;34m=\u001b[0m\u001b[0;34m','\u001b[0m\u001b[0;34m,\u001b[0m \u001b[0mdelimiter\u001b[0m\u001b[0;34m=\u001b[0m\u001b[0;32mNone\u001b[0m\u001b[0;34m,\u001b[0m \u001b[0mheader\u001b[0m\u001b[0;34m=\u001b[0m\u001b[0;34m'infer'\u001b[0m\u001b[0;34m,\u001b[0m \u001b[0mnames\u001b[0m\u001b[0;34m=\u001b[0m\u001b[0;32mNone\u001b[0m\u001b[0;34m,\u001b[0m \u001b[0mindex_col\u001b[0m\u001b[0;34m=\u001b[0m\u001b[0;32mNone\u001b[0m\u001b[0;34m,\u001b[0m \u001b[0musecols\u001b[0m\u001b[0;34m=\u001b[0m\u001b[0;32mNone\u001b[0m\u001b[0;34m,\u001b[0m \u001b[0msqueeze\u001b[0m\u001b[0;34m=\u001b[0m\u001b[0;32mFalse\u001b[0m\u001b[0;34m,\u001b[0m \u001b[0mprefix\u001b[0m\u001b[0;34m=\u001b[0m\u001b[0;32mNone\u001b[0m\u001b[0;34m,\u001b[0m \u001b[0mmangle_dupe_cols\u001b[0m\u001b[0;34m=\u001b[0m\u001b[0;32mTrue\u001b[0m\u001b[0;34m,\u001b[0m \u001b[0mdtype\u001b[0m\u001b[0;34m=\u001b[0m\u001b[0;32mNone\u001b[0m\u001b[0;34m,\u001b[0m \u001b[0mengine\u001b[0m\u001b[0;34m=\u001b[0m\u001b[0;32mNone\u001b[0m\u001b[0;34m,\u001b[0m \u001b[0mconverters\u001b[0m\u001b[0;34m=\u001b[0m\u001b[0;32mNone\u001b[0m\u001b[0;34m,\u001b[0m \u001b[0mtrue_values\u001b[0m\u001b[0;34m=\u001b[0m\u001b[0;32mNone\u001b[0m\u001b[0;34m,\u001b[0m \u001b[0mfalse_values\u001b[0m\u001b[0;34m=\u001b[0m\u001b[0;32mNone\u001b[0m\u001b[0;34m,\u001b[0m \u001b[0mskipinitialspace\u001b[0m\u001b[0;34m=\u001b[0m\u001b[0;32mFalse\u001b[0m\u001b[0;34m,\u001b[0m \u001b[0mskiprows\u001b[0m\u001b[0;34m=\u001b[0m\u001b[0;32mNone\u001b[0m\u001b[0;34m,\u001b[0m \u001b[0mskipfooter\u001b[0m\u001b[0;34m=\u001b[0m\u001b[0;36m0\u001b[0m\u001b[0;34m,\u001b[0m \u001b[0mnrows\u001b[0m\u001b[0;34m=\u001b[0m\u001b[0;32mNone\u001b[0m\u001b[0;34m,\u001b[0m \u001b[0mna_values\u001b[0m\u001b[0;34m=\u001b[0m\u001b[0;32mNone\u001b[0m\u001b[0;34m,\u001b[0m \u001b[0mkeep_default_na\u001b[0m\u001b[0;34m=\u001b[0m\u001b[0;32mTrue\u001b[0m\u001b[0;34m,\u001b[0m \u001b[0mna_filter\u001b[0m\u001b[0;34m=\u001b[0m\u001b[0;32mTrue\u001b[0m\u001b[0;34m,\u001b[0m \u001b[0mverbose\u001b[0m\u001b[0;34m=\u001b[0m\u001b[0;32mFalse\u001b[0m\u001b[0;34m,\u001b[0m \u001b[0mskip_blank_lines\u001b[0m\u001b[0;34m=\u001b[0m\u001b[0;32mTrue\u001b[0m\u001b[0;34m,\u001b[0m \u001b[0mparse_dates\u001b[0m\u001b[0;34m=\u001b[0m\u001b[0;32mFalse\u001b[0m\u001b[0;34m,\u001b[0m \u001b[0minfer_datetime_format\u001b[0m\u001b[0;34m=\u001b[0m\u001b[0;32mFalse\u001b[0m\u001b[0;34m,\u001b[0m \u001b[0mkeep_date_col\u001b[0m\u001b[0;34m=\u001b[0m\u001b[0;32mFalse\u001b[0m\u001b[0;34m,\u001b[0m \u001b[0mdate_parser\u001b[0m\u001b[0;34m=\u001b[0m\u001b[0;32mNone\u001b[0m\u001b[0;34m,\u001b[0m \u001b[0mdayfirst\u001b[0m\u001b[0;34m=\u001b[0m\u001b[0;32mFalse\u001b[0m\u001b[0;34m,\u001b[0m \u001b[0mcache_dates\u001b[0m\u001b[0;34m=\u001b[0m\u001b[0;32mTrue\u001b[0m\u001b[0;34m,\u001b[0m \u001b[0miterator\u001b[0m\u001b[0;34m=\u001b[0m\u001b[0;32mFalse\u001b[0m\u001b[0;34m,\u001b[0m \u001b[0mchunksize\u001b[0m\u001b[0;34m=\u001b[0m\u001b[0;32mNone\u001b[0m\u001b[0;34m,\u001b[0m \u001b[0mcompression\u001b[0m\u001b[0;34m=\u001b[0m\u001b[0;34m'infer'\u001b[0m\u001b[0;34m,\u001b[0m \u001b[0mthousands\u001b[0m\u001b[0;34m=\u001b[0m\u001b[0;32mNone\u001b[0m\u001b[0;34m,\u001b[0m \u001b[0mdecimal\u001b[0m\u001b[0;34m:\u001b[0m\u001b[0mstr\u001b[0m\u001b[0;34m=\u001b[0m\u001b[0;34m'.'\u001b[0m\u001b[0;34m,\u001b[0m \u001b[0mlineterminator\u001b[0m\u001b[0;34m=\u001b[0m\u001b[0;32mNone\u001b[0m\u001b[0;34m,\u001b[0m \u001b[0mquotechar\u001b[0m\u001b[0;34m=\u001b[0m\u001b[0;34m'\"'\u001b[0m\u001b[0;34m,\u001b[0m \u001b[0mquoting\u001b[0m\u001b[0;34m=\u001b[0m\u001b[0;36m0\u001b[0m\u001b[0;34m,\u001b[0m \u001b[0mdoublequote\u001b[0m\u001b[0;34m=\u001b[0m\u001b[0;32mTrue\u001b[0m\u001b[0;34m,\u001b[0m \u001b[0mescapechar\u001b[0m\u001b[0;34m=\u001b[0m\u001b[0;32mNone\u001b[0m\u001b[0;34m,\u001b[0m \u001b[0mcomment\u001b[0m\u001b[0;34m=\u001b[0m\u001b[0;32mNone\u001b[0m\u001b[0;34m,\u001b[0m \u001b[0mencoding\u001b[0m\u001b[0;34m=\u001b[0m\u001b[0;32mNone\u001b[0m\u001b[0;34m,\u001b[0m \u001b[0mdialect\u001b[0m\u001b[0;34m=\u001b[0m\u001b[0;32mNone\u001b[0m\u001b[0;34m,\u001b[0m \u001b[0merror_bad_lines\u001b[0m\u001b[0;34m=\u001b[0m\u001b[0;32mTrue\u001b[0m\u001b[0;34m,\u001b[0m \u001b[0mwarn_bad_lines\u001b[0m\u001b[0;34m=\u001b[0m\u001b[0;32mTrue\u001b[0m\u001b[0;34m,\u001b[0m \u001b[0mdelim_whitespace\u001b[0m\u001b[0;34m=\u001b[0m\u001b[0;32mFalse\u001b[0m\u001b[0;34m,\u001b[0m \u001b[0mlow_memory\u001b[0m\u001b[0;34m=\u001b[0m\u001b[0;32mTrue\u001b[0m\u001b[0;34m,\u001b[0m \u001b[0mmemory_map\u001b[0m\u001b[0;34m=\u001b[0m\u001b[0;32mFalse\u001b[0m\u001b[0;34m,\u001b[0m \u001b[0mfloat_precision\u001b[0m\u001b[0;34m=\u001b[0m\u001b[0;32mNone\u001b[0m\u001b[0;34m)\u001b[0m\u001b[0;34m\u001b[0m\u001b[0;34m\u001b[0m\u001b[0m\n",
       "\u001b[0;31mDocstring:\u001b[0m\n",
       "Read a comma-separated values (csv) file into DataFrame.\n",
       "\n",
       "Also supports optionally iterating or breaking of the file\n",
       "into chunks.\n",
       "\n",
       "Additional help can be found in the online docs for\n",
       "`IO Tools <https://pandas.pydata.org/pandas-docs/stable/user_guide/io.html>`_.\n",
       "\n",
       "Parameters\n",
       "----------\n",
       "filepath_or_buffer : str, path object or file-like object\n",
       "    Any valid string path is acceptable. The string could be a URL. Valid\n",
       "    URL schemes include http, ftp, s3, and file. For file URLs, a host is\n",
       "    expected. A local file could be: file://localhost/path/to/table.csv.\n",
       "\n",
       "    If you want to pass in a path object, pandas accepts any ``os.PathLike``.\n",
       "\n",
       "    By file-like object, we refer to objects with a ``read()`` method, such as\n",
       "    a file handler (e.g. via builtin ``open`` function) or ``StringIO``.\n",
       "sep : str, default ','\n",
       "    Delimiter to use. If sep is None, the C engine cannot automatically detect\n",
       "    the separator, but the Python parsing engine can, meaning the latter will\n",
       "    be used and automatically detect the separator by Python's builtin sniffer\n",
       "    tool, ``csv.Sniffer``. In addition, separators longer than 1 character and\n",
       "    different from ``'\\s+'`` will be interpreted as regular expressions and\n",
       "    will also force the use of the Python parsing engine. Note that regex\n",
       "    delimiters are prone to ignoring quoted data. Regex example: ``'\\r\\t'``.\n",
       "delimiter : str, default ``None``\n",
       "    Alias for sep.\n",
       "header : int, list of int, default 'infer'\n",
       "    Row number(s) to use as the column names, and the start of the\n",
       "    data.  Default behavior is to infer the column names: if no names\n",
       "    are passed the behavior is identical to ``header=0`` and column\n",
       "    names are inferred from the first line of the file, if column\n",
       "    names are passed explicitly then the behavior is identical to\n",
       "    ``header=None``. Explicitly pass ``header=0`` to be able to\n",
       "    replace existing names. The header can be a list of integers that\n",
       "    specify row locations for a multi-index on the columns\n",
       "    e.g. [0,1,3]. Intervening rows that are not specified will be\n",
       "    skipped (e.g. 2 in this example is skipped). Note that this\n",
       "    parameter ignores commented lines and empty lines if\n",
       "    ``skip_blank_lines=True``, so ``header=0`` denotes the first line of\n",
       "    data rather than the first line of the file.\n",
       "names : array-like, optional\n",
       "    List of column names to use. If the file contains a header row,\n",
       "    then you should explicitly pass ``header=0`` to override the column names.\n",
       "    Duplicates in this list are not allowed.\n",
       "index_col : int, str, sequence of int / str, or False, default ``None``\n",
       "  Column(s) to use as the row labels of the ``DataFrame``, either given as\n",
       "  string name or column index. If a sequence of int / str is given, a\n",
       "  MultiIndex is used.\n",
       "\n",
       "  Note: ``index_col=False`` can be used to force pandas to *not* use the first\n",
       "  column as the index, e.g. when you have a malformed file with delimiters at\n",
       "  the end of each line.\n",
       "usecols : list-like or callable, optional\n",
       "    Return a subset of the columns. If list-like, all elements must either\n",
       "    be positional (i.e. integer indices into the document columns) or strings\n",
       "    that correspond to column names provided either by the user in `names` or\n",
       "    inferred from the document header row(s). For example, a valid list-like\n",
       "    `usecols` parameter would be ``[0, 1, 2]`` or ``['foo', 'bar', 'baz']``.\n",
       "    Element order is ignored, so ``usecols=[0, 1]`` is the same as ``[1, 0]``.\n",
       "    To instantiate a DataFrame from ``data`` with element order preserved use\n",
       "    ``pd.read_csv(data, usecols=['foo', 'bar'])[['foo', 'bar']]`` for columns\n",
       "    in ``['foo', 'bar']`` order or\n",
       "    ``pd.read_csv(data, usecols=['foo', 'bar'])[['bar', 'foo']]``\n",
       "    for ``['bar', 'foo']`` order.\n",
       "\n",
       "    If callable, the callable function will be evaluated against the column\n",
       "    names, returning names where the callable function evaluates to True. An\n",
       "    example of a valid callable argument would be ``lambda x: x.upper() in\n",
       "    ['AAA', 'BBB', 'DDD']``. Using this parameter results in much faster\n",
       "    parsing time and lower memory usage.\n",
       "squeeze : bool, default False\n",
       "    If the parsed data only contains one column then return a Series.\n",
       "prefix : str, optional\n",
       "    Prefix to add to column numbers when no header, e.g. 'X' for X0, X1, ...\n",
       "mangle_dupe_cols : bool, default True\n",
       "    Duplicate columns will be specified as 'X', 'X.1', ...'X.N', rather than\n",
       "    'X'...'X'. Passing in False will cause data to be overwritten if there\n",
       "    are duplicate names in the columns.\n",
       "dtype : Type name or dict of column -> type, optional\n",
       "    Data type for data or columns. E.g. {'a': np.float64, 'b': np.int32,\n",
       "    'c': 'Int64'}\n",
       "    Use `str` or `object` together with suitable `na_values` settings\n",
       "    to preserve and not interpret dtype.\n",
       "    If converters are specified, they will be applied INSTEAD\n",
       "    of dtype conversion.\n",
       "engine : {'c', 'python'}, optional\n",
       "    Parser engine to use. The C engine is faster while the python engine is\n",
       "    currently more feature-complete.\n",
       "converters : dict, optional\n",
       "    Dict of functions for converting values in certain columns. Keys can either\n",
       "    be integers or column labels.\n",
       "true_values : list, optional\n",
       "    Values to consider as True.\n",
       "false_values : list, optional\n",
       "    Values to consider as False.\n",
       "skipinitialspace : bool, default False\n",
       "    Skip spaces after delimiter.\n",
       "skiprows : list-like, int or callable, optional\n",
       "    Line numbers to skip (0-indexed) or number of lines to skip (int)\n",
       "    at the start of the file.\n",
       "\n",
       "    If callable, the callable function will be evaluated against the row\n",
       "    indices, returning True if the row should be skipped and False otherwise.\n",
       "    An example of a valid callable argument would be ``lambda x: x in [0, 2]``.\n",
       "skipfooter : int, default 0\n",
       "    Number of lines at bottom of file to skip (Unsupported with engine='c').\n",
       "nrows : int, optional\n",
       "    Number of rows of file to read. Useful for reading pieces of large files.\n",
       "na_values : scalar, str, list-like, or dict, optional\n",
       "    Additional strings to recognize as NA/NaN. If dict passed, specific\n",
       "    per-column NA values.  By default the following values are interpreted as\n",
       "    NaN: '', '#N/A', '#N/A N/A', '#NA', '-1.#IND', '-1.#QNAN', '-NaN', '-nan',\n",
       "    '1.#IND', '1.#QNAN', '<NA>', 'N/A', 'NA', 'NULL', 'NaN', 'n/a',\n",
       "    'nan', 'null'.\n",
       "keep_default_na : bool, default True\n",
       "    Whether or not to include the default NaN values when parsing the data.\n",
       "    Depending on whether `na_values` is passed in, the behavior is as follows:\n",
       "\n",
       "    * If `keep_default_na` is True, and `na_values` are specified, `na_values`\n",
       "      is appended to the default NaN values used for parsing.\n",
       "    * If `keep_default_na` is True, and `na_values` are not specified, only\n",
       "      the default NaN values are used for parsing.\n",
       "    * If `keep_default_na` is False, and `na_values` are specified, only\n",
       "      the NaN values specified `na_values` are used for parsing.\n",
       "    * If `keep_default_na` is False, and `na_values` are not specified, no\n",
       "      strings will be parsed as NaN.\n",
       "\n",
       "    Note that if `na_filter` is passed in as False, the `keep_default_na` and\n",
       "    `na_values` parameters will be ignored.\n",
       "na_filter : bool, default True\n",
       "    Detect missing value markers (empty strings and the value of na_values). In\n",
       "    data without any NAs, passing na_filter=False can improve the performance\n",
       "    of reading a large file.\n",
       "verbose : bool, default False\n",
       "    Indicate number of NA values placed in non-numeric columns.\n",
       "skip_blank_lines : bool, default True\n",
       "    If True, skip over blank lines rather than interpreting as NaN values.\n",
       "parse_dates : bool or list of int or names or list of lists or dict, default False\n",
       "    The behavior is as follows:\n",
       "\n",
       "    * boolean. If True -> try parsing the index.\n",
       "    * list of int or names. e.g. If [1, 2, 3] -> try parsing columns 1, 2, 3\n",
       "      each as a separate date column.\n",
       "    * list of lists. e.g.  If [[1, 3]] -> combine columns 1 and 3 and parse as\n",
       "      a single date column.\n",
       "    * dict, e.g. {'foo' : [1, 3]} -> parse columns 1, 3 as date and call\n",
       "      result 'foo'\n",
       "\n",
       "    If a column or index cannot be represented as an array of datetimes,\n",
       "    say because of an unparseable value or a mixture of timezones, the column\n",
       "    or index will be returned unaltered as an object data type. For\n",
       "    non-standard datetime parsing, use ``pd.to_datetime`` after\n",
       "    ``pd.read_csv``. To parse an index or column with a mixture of timezones,\n",
       "    specify ``date_parser`` to be a partially-applied\n",
       "    :func:`pandas.to_datetime` with ``utc=True``. See\n",
       "    :ref:`io.csv.mixed_timezones` for more.\n",
       "\n",
       "    Note: A fast-path exists for iso8601-formatted dates.\n",
       "infer_datetime_format : bool, default False\n",
       "    If True and `parse_dates` is enabled, pandas will attempt to infer the\n",
       "    format of the datetime strings in the columns, and if it can be inferred,\n",
       "    switch to a faster method of parsing them. In some cases this can increase\n",
       "    the parsing speed by 5-10x.\n",
       "keep_date_col : bool, default False\n",
       "    If True and `parse_dates` specifies combining multiple columns then\n",
       "    keep the original columns.\n",
       "date_parser : function, optional\n",
       "    Function to use for converting a sequence of string columns to an array of\n",
       "    datetime instances. The default uses ``dateutil.parser.parser`` to do the\n",
       "    conversion. Pandas will try to call `date_parser` in three different ways,\n",
       "    advancing to the next if an exception occurs: 1) Pass one or more arrays\n",
       "    (as defined by `parse_dates`) as arguments; 2) concatenate (row-wise) the\n",
       "    string values from the columns defined by `parse_dates` into a single array\n",
       "    and pass that; and 3) call `date_parser` once for each row using one or\n",
       "    more strings (corresponding to the columns defined by `parse_dates`) as\n",
       "    arguments.\n",
       "dayfirst : bool, default False\n",
       "    DD/MM format dates, international and European format.\n",
       "cache_dates : bool, default True\n",
       "    If True, use a cache of unique, converted dates to apply the datetime\n",
       "    conversion. May produce significant speed-up when parsing duplicate\n",
       "    date strings, especially ones with timezone offsets.\n",
       "\n",
       "    .. versionadded:: 0.25.0\n",
       "iterator : bool, default False\n",
       "    Return TextFileReader object for iteration or getting chunks with\n",
       "    ``get_chunk()``.\n",
       "chunksize : int, optional\n",
       "    Return TextFileReader object for iteration.\n",
       "    See the `IO Tools docs\n",
       "    <https://pandas.pydata.org/pandas-docs/stable/io.html#io-chunking>`_\n",
       "    for more information on ``iterator`` and ``chunksize``.\n",
       "compression : {'infer', 'gzip', 'bz2', 'zip', 'xz', None}, default 'infer'\n",
       "    For on-the-fly decompression of on-disk data. If 'infer' and\n",
       "    `filepath_or_buffer` is path-like, then detect compression from the\n",
       "    following extensions: '.gz', '.bz2', '.zip', or '.xz' (otherwise no\n",
       "    decompression). If using 'zip', the ZIP file must contain only one data\n",
       "    file to be read in. Set to None for no decompression.\n",
       "thousands : str, optional\n",
       "    Thousands separator.\n",
       "decimal : str, default '.'\n",
       "    Character to recognize as decimal point (e.g. use ',' for European data).\n",
       "lineterminator : str (length 1), optional\n",
       "    Character to break file into lines. Only valid with C parser.\n",
       "quotechar : str (length 1), optional\n",
       "    The character used to denote the start and end of a quoted item. Quoted\n",
       "    items can include the delimiter and it will be ignored.\n",
       "quoting : int or csv.QUOTE_* instance, default 0\n",
       "    Control field quoting behavior per ``csv.QUOTE_*`` constants. Use one of\n",
       "    QUOTE_MINIMAL (0), QUOTE_ALL (1), QUOTE_NONNUMERIC (2) or QUOTE_NONE (3).\n",
       "doublequote : bool, default ``True``\n",
       "   When quotechar is specified and quoting is not ``QUOTE_NONE``, indicate\n",
       "   whether or not to interpret two consecutive quotechar elements INSIDE a\n",
       "   field as a single ``quotechar`` element.\n",
       "escapechar : str (length 1), optional\n",
       "    One-character string used to escape other characters.\n",
       "comment : str, optional\n",
       "    Indicates remainder of line should not be parsed. If found at the beginning\n",
       "    of a line, the line will be ignored altogether. This parameter must be a\n",
       "    single character. Like empty lines (as long as ``skip_blank_lines=True``),\n",
       "    fully commented lines are ignored by the parameter `header` but not by\n",
       "    `skiprows`. For example, if ``comment='#'``, parsing\n",
       "    ``#empty\\na,b,c\\n1,2,3`` with ``header=0`` will result in 'a,b,c' being\n",
       "    treated as the header.\n",
       "encoding : str, optional\n",
       "    Encoding to use for UTF when reading/writing (ex. 'utf-8'). `List of Python\n",
       "    standard encodings\n",
       "    <https://docs.python.org/3/library/codecs.html#standard-encodings>`_ .\n",
       "dialect : str or csv.Dialect, optional\n",
       "    If provided, this parameter will override values (default or not) for the\n",
       "    following parameters: `delimiter`, `doublequote`, `escapechar`,\n",
       "    `skipinitialspace`, `quotechar`, and `quoting`. If it is necessary to\n",
       "    override values, a ParserWarning will be issued. See csv.Dialect\n",
       "    documentation for more details.\n",
       "error_bad_lines : bool, default True\n",
       "    Lines with too many fields (e.g. a csv line with too many commas) will by\n",
       "    default cause an exception to be raised, and no DataFrame will be returned.\n",
       "    If False, then these \"bad lines\" will dropped from the DataFrame that is\n",
       "    returned.\n",
       "warn_bad_lines : bool, default True\n",
       "    If error_bad_lines is False, and warn_bad_lines is True, a warning for each\n",
       "    \"bad line\" will be output.\n",
       "delim_whitespace : bool, default False\n",
       "    Specifies whether or not whitespace (e.g. ``' '`` or ``'    '``) will be\n",
       "    used as the sep. Equivalent to setting ``sep='\\s+'``. If this option\n",
       "    is set to True, nothing should be passed in for the ``delimiter``\n",
       "    parameter.\n",
       "low_memory : bool, default True\n",
       "    Internally process the file in chunks, resulting in lower memory use\n",
       "    while parsing, but possibly mixed type inference.  To ensure no mixed\n",
       "    types either set False, or specify the type with the `dtype` parameter.\n",
       "    Note that the entire file is read into a single DataFrame regardless,\n",
       "    use the `chunksize` or `iterator` parameter to return the data in chunks.\n",
       "    (Only valid with C parser).\n",
       "memory_map : bool, default False\n",
       "    If a filepath is provided for `filepath_or_buffer`, map the file object\n",
       "    directly onto memory and access the data directly from there. Using this\n",
       "    option can improve performance because there is no longer any I/O overhead.\n",
       "float_precision : str, optional\n",
       "    Specifies which converter the C engine should use for floating-point\n",
       "    values. The options are `None` for the ordinary converter,\n",
       "    `high` for the high-precision converter, and `round_trip` for the\n",
       "    round-trip converter.\n",
       "\n",
       "Returns\n",
       "-------\n",
       "DataFrame or TextParser\n",
       "    A comma-separated values (csv) file is returned as two-dimensional\n",
       "    data structure with labeled axes.\n",
       "\n",
       "See Also\n",
       "--------\n",
       "to_csv : Write DataFrame to a comma-separated values (csv) file.\n",
       "read_csv : Read a comma-separated values (csv) file into DataFrame.\n",
       "read_fwf : Read a table of fixed-width formatted lines into DataFrame.\n",
       "\n",
       "Examples\n",
       "--------\n",
       ">>> pd.read_csv('data.csv')  # doctest: +SKIP\n",
       "\u001b[0;31mFile:\u001b[0m      /usr/local/anaconda3/lib/python3.6/site-packages/pandas/io/parsers.py\n",
       "\u001b[0;31mType:\u001b[0m      function\n"
      ]
     },
     "metadata": {},
     "output_type": "display_data"
    }
   ],
   "source": [
    "pd.read_csv?"
   ]
  },
  {
   "cell_type": "markdown",
   "metadata": {},
   "source": [
    "## 用户候选集"
   ]
  },
  {
   "cell_type": "code",
   "execution_count": 18,
   "metadata": {},
   "outputs": [],
   "source": [
    "underexpose_user_feat = pd.read_csv(\"../data/underexpose_train/underexpose_user_feat.csv\"\n",
    "                                    ,names=[\"user_id\", \"user_age_level\", \"user_gender\", \"user_city_level\"]\n",
    "                                    ,nrows=None      \n",
    "                                    ,sep=\",\"\n",
    "                                   )"
   ]
  },
  {
   "cell_type": "code",
   "execution_count": 19,
   "metadata": {
    "scrolled": true
   },
   "outputs": [
    {
     "data": {
      "text/html": [
       "<div>\n",
       "<style scoped>\n",
       "    .dataframe tbody tr th:only-of-type {\n",
       "        vertical-align: middle;\n",
       "    }\n",
       "\n",
       "    .dataframe tbody tr th {\n",
       "        vertical-align: top;\n",
       "    }\n",
       "\n",
       "    .dataframe thead th {\n",
       "        text-align: right;\n",
       "    }\n",
       "</style>\n",
       "<table border=\"1\" class=\"dataframe\">\n",
       "  <thead>\n",
       "    <tr style=\"text-align: right;\">\n",
       "      <th></th>\n",
       "      <th>user_id</th>\n",
       "      <th>user_age_level</th>\n",
       "      <th>user_gender</th>\n",
       "      <th>user_city_level</th>\n",
       "    </tr>\n",
       "  </thead>\n",
       "  <tbody>\n",
       "    <tr>\n",
       "      <th>0</th>\n",
       "      <td>17</td>\n",
       "      <td>8.0</td>\n",
       "      <td>M</td>\n",
       "      <td>4.0</td>\n",
       "    </tr>\n",
       "    <tr>\n",
       "      <th>1</th>\n",
       "      <td>26</td>\n",
       "      <td>7.0</td>\n",
       "      <td>M</td>\n",
       "      <td>2.0</td>\n",
       "    </tr>\n",
       "    <tr>\n",
       "      <th>2</th>\n",
       "      <td>35</td>\n",
       "      <td>6.0</td>\n",
       "      <td>F</td>\n",
       "      <td>4.0</td>\n",
       "    </tr>\n",
       "    <tr>\n",
       "      <th>3</th>\n",
       "      <td>40</td>\n",
       "      <td>6.0</td>\n",
       "      <td>M</td>\n",
       "      <td>1.0</td>\n",
       "    </tr>\n",
       "    <tr>\n",
       "      <th>4</th>\n",
       "      <td>49</td>\n",
       "      <td>6.0</td>\n",
       "      <td>M</td>\n",
       "      <td>1.0</td>\n",
       "    </tr>\n",
       "  </tbody>\n",
       "</table>\n",
       "</div>"
      ],
      "text/plain": [
       "   user_id  user_age_level user_gender  user_city_level\n",
       "0       17             8.0           M              4.0\n",
       "1       26             7.0           M              2.0\n",
       "2       35             6.0           F              4.0\n",
       "3       40             6.0           M              1.0\n",
       "4       49             6.0           M              1.0"
      ]
     },
     "execution_count": 19,
     "metadata": {},
     "output_type": "execute_result"
    }
   ],
   "source": [
    "underexpose_user_feat.head()"
   ]
  },
  {
   "cell_type": "markdown",
   "metadata": {},
   "source": [
    "## 候选用户user_id个数"
   ]
  },
  {
   "cell_type": "code",
   "execution_count": 20,
   "metadata": {},
   "outputs": [
    {
     "data": {
      "text/plain": [
       "6789"
      ]
     },
     "execution_count": 20,
     "metadata": {},
     "output_type": "execute_result"
    }
   ],
   "source": [
    "underexpose_user_feat.user_id.count()"
   ]
  },
  {
   "cell_type": "markdown",
   "metadata": {},
   "source": [
    "## 查看用户user_age_level分布"
   ]
  },
  {
   "cell_type": "code",
   "execution_count": 21,
   "metadata": {},
   "outputs": [
    {
     "data": {
      "text/plain": [
       "\u001b[0;31mSignature:\u001b[0m \u001b[0munderexpose_user_feat\u001b[0m\u001b[0;34m.\u001b[0m\u001b[0muser_age_level\u001b[0m\u001b[0;34m.\u001b[0m\u001b[0mvalue_counts\u001b[0m\u001b[0;34m(\u001b[0m\u001b[0mnormalize\u001b[0m\u001b[0;34m=\u001b[0m\u001b[0;32mFalse\u001b[0m\u001b[0;34m,\u001b[0m \u001b[0msort\u001b[0m\u001b[0;34m=\u001b[0m\u001b[0;32mTrue\u001b[0m\u001b[0;34m,\u001b[0m \u001b[0mascending\u001b[0m\u001b[0;34m=\u001b[0m\u001b[0;32mFalse\u001b[0m\u001b[0;34m,\u001b[0m \u001b[0mbins\u001b[0m\u001b[0;34m=\u001b[0m\u001b[0;32mNone\u001b[0m\u001b[0;34m,\u001b[0m \u001b[0mdropna\u001b[0m\u001b[0;34m=\u001b[0m\u001b[0;32mTrue\u001b[0m\u001b[0;34m)\u001b[0m\u001b[0;34m\u001b[0m\u001b[0;34m\u001b[0m\u001b[0m\n",
       "\u001b[0;31mDocstring:\u001b[0m\n",
       "Return a Series containing counts of unique values.\n",
       "\n",
       "The resulting object will be in descending order so that the\n",
       "first element is the most frequently-occurring element.\n",
       "Excludes NA values by default.\n",
       "\n",
       "Parameters\n",
       "----------\n",
       "normalize : bool, default False\n",
       "    If True then the object returned will contain the relative\n",
       "    frequencies of the unique values.\n",
       "sort : bool, default True\n",
       "    Sort by frequencies.\n",
       "ascending : bool, default False\n",
       "    Sort in ascending order.\n",
       "bins : int, optional\n",
       "    Rather than count values, group them into half-open bins,\n",
       "    a convenience for ``pd.cut``, only works with numeric data.\n",
       "dropna : bool, default True\n",
       "    Don't include counts of NaN.\n",
       "\n",
       "Returns\n",
       "-------\n",
       "Series\n",
       "\n",
       "See Also\n",
       "--------\n",
       "Series.count: Number of non-NA elements in a Series.\n",
       "DataFrame.count: Number of non-NA elements in a DataFrame.\n",
       "\n",
       "Examples\n",
       "--------\n",
       ">>> index = pd.Index([3, 1, 2, 3, 4, np.nan])\n",
       ">>> index.value_counts()\n",
       "3.0    2\n",
       "4.0    1\n",
       "2.0    1\n",
       "1.0    1\n",
       "dtype: int64\n",
       "\n",
       "With `normalize` set to `True`, returns the relative frequency by\n",
       "dividing all values by the sum of values.\n",
       "\n",
       ">>> s = pd.Series([3, 1, 2, 3, 4, np.nan])\n",
       ">>> s.value_counts(normalize=True)\n",
       "3.0    0.4\n",
       "4.0    0.2\n",
       "2.0    0.2\n",
       "1.0    0.2\n",
       "dtype: float64\n",
       "\n",
       "**bins**\n",
       "\n",
       "Bins can be useful for going from a continuous variable to a\n",
       "categorical variable; instead of counting unique\n",
       "apparitions of values, divide the index in the specified\n",
       "number of half-open bins.\n",
       "\n",
       ">>> s.value_counts(bins=3)\n",
       "(2.0, 3.0]      2\n",
       "(0.996, 2.0]    2\n",
       "(3.0, 4.0]      1\n",
       "dtype: int64\n",
       "\n",
       "**dropna**\n",
       "\n",
       "With `dropna` set to `False` we can also see NaN index values.\n",
       "\n",
       ">>> s.value_counts(dropna=False)\n",
       "3.0    2\n",
       "NaN    1\n",
       "4.0    1\n",
       "2.0    1\n",
       "1.0    1\n",
       "dtype: int64\n",
       "\u001b[0;31mFile:\u001b[0m      /usr/local/anaconda3/lib/python3.6/site-packages/pandas/core/base.py\n",
       "\u001b[0;31mType:\u001b[0m      method\n"
      ]
     },
     "metadata": {},
     "output_type": "display_data"
    }
   ],
   "source": [
    "underexpose_user_feat.user_age_level.value_counts?"
   ]
  },
  {
   "cell_type": "code",
   "execution_count": 22,
   "metadata": {},
   "outputs": [
    {
     "data": {
      "text/plain": [
       "8.0     294\n",
       "7.0     890\n",
       "6.0     817\n",
       "5.0    1363\n",
       "4.0    1425\n",
       "NaN      83\n",
       "2.0     869\n",
       "3.0     816\n",
       "1.0     232\n",
       "Name: user_age_level, dtype: int64"
      ]
     },
     "execution_count": 22,
     "metadata": {},
     "output_type": "execute_result"
    }
   ],
   "source": [
    "underexpose_user_feat.user_age_level.value_counts(dropna=False,ascending=False,sort=False)"
   ]
  },
  {
   "cell_type": "markdown",
   "metadata": {},
   "source": [
    "## 查看用户user_gender分布"
   ]
  },
  {
   "cell_type": "code",
   "execution_count": 23,
   "metadata": {},
   "outputs": [
    {
     "data": {
      "text/plain": [
       "NaN      81\n",
       "M      1497\n",
       "F      5211\n",
       "Name: user_gender, dtype: int64"
      ]
     },
     "execution_count": 23,
     "metadata": {},
     "output_type": "execute_result"
    }
   ],
   "source": [
    "underexpose_user_feat.user_gender.value_counts(dropna=False,ascending=False,sort=False)"
   ]
  },
  {
   "cell_type": "markdown",
   "metadata": {},
   "source": [
    "## 查看用户user_city_level分布"
   ]
  },
  {
   "cell_type": "code",
   "execution_count": 24,
   "metadata": {},
   "outputs": [
    {
     "data": {
      "text/plain": [
       "4.0     541\n",
       "2.0    1515\n",
       "1.0     760\n",
       "6.0    1870\n",
       "NaN      22\n",
       "3.0    1242\n",
       "5.0     839\n",
       "Name: user_city_level, dtype: int64"
      ]
     },
     "execution_count": 24,
     "metadata": {},
     "output_type": "execute_result"
    }
   ],
   "source": [
    "underexpose_user_feat.user_city_level.value_counts(dropna=False,ascending=False,sort=False)"
   ]
  },
  {
   "cell_type": "markdown",
   "metadata": {},
   "source": [
    "## 商品候选集"
   ]
  },
  {
   "cell_type": "code",
   "execution_count": 25,
   "metadata": {
    "scrolled": true
   },
   "outputs": [
    {
     "name": "stderr",
     "output_type": "stream",
     "text": [
      "108916it [00:01, 70102.51it/s]\n"
     ]
    }
   ],
   "source": [
    "list_item_id = []\n",
    "list_txt_vec = []\n",
    "list_img_vec = []\n",
    "with open(\"../data/underexpose_train/underexpose_item_feat.csv\") as f:\n",
    "    for line in tqdm(f):\n",
    "        line_split = line.strip().split(',[')\n",
    "        list_item_id.append(line_split[0])\n",
    "        list_txt_vec.append(line_split[1].strip(']'))\n",
    "        list_img_vec.append(line_split[2].strip(']'))\n",
    "underexpose_item_feat = pd.DataFrame({\"item_id\":list_item_id,\"txt_vec\":list_txt_vec,\"img_vec\":list_img_vec})\n",
    "underexpose_item_feat = underexpose_item_feat[[\"item_id\", \"txt_vec\", \"img_vec\"]]"
   ]
  },
  {
   "cell_type": "code",
   "execution_count": 26,
   "metadata": {
    "scrolled": false
   },
   "outputs": [
    {
     "data": {
      "text/html": [
       "<div>\n",
       "<style scoped>\n",
       "    .dataframe tbody tr th:only-of-type {\n",
       "        vertical-align: middle;\n",
       "    }\n",
       "\n",
       "    .dataframe tbody tr th {\n",
       "        vertical-align: top;\n",
       "    }\n",
       "\n",
       "    .dataframe thead th {\n",
       "        text-align: right;\n",
       "    }\n",
       "</style>\n",
       "<table border=\"1\" class=\"dataframe\">\n",
       "  <thead>\n",
       "    <tr style=\"text-align: right;\">\n",
       "      <th></th>\n",
       "      <th>item_id</th>\n",
       "      <th>txt_vec</th>\n",
       "      <th>img_vec</th>\n",
       "    </tr>\n",
       "  </thead>\n",
       "  <tbody>\n",
       "    <tr>\n",
       "      <th>0</th>\n",
       "      <td>42844</td>\n",
       "      <td>4.514945030212402, -2.3837196826934814, 0.5004...</td>\n",
       "      <td>-2.8722801208496094, 1.4587551355361938, 2.579...</td>\n",
       "    </tr>\n",
       "    <tr>\n",
       "      <th>1</th>\n",
       "      <td>67898</td>\n",
       "      <td>-2.0029051303863525, -0.9298805594444275, 0.79...</td>\n",
       "      <td>-0.07052088528871536, -1.4393335580825806, 0.7...</td>\n",
       "    </tr>\n",
       "    <tr>\n",
       "      <th>2</th>\n",
       "      <td>66446</td>\n",
       "      <td>4.221673011779785, -1.4971394538879395, 1.1335...</td>\n",
       "      <td>-5.18036413192749, -0.38824713230133057, -0.03...</td>\n",
       "    </tr>\n",
       "    <tr>\n",
       "      <th>3</th>\n",
       "      <td>63651</td>\n",
       "      <td>2.6579699516296387, -0.941863477230072, 1.1215...</td>\n",
       "      <td>-1.077273964881897, 2.8394529819488525, 1.1834...</td>\n",
       "    </tr>\n",
       "    <tr>\n",
       "      <th>4</th>\n",
       "      <td>46824</td>\n",
       "      <td>3.192194938659668, -1.9366759061813354, 1.1999...</td>\n",
       "      <td>-3.2601945400238037, 0.49889034032821655, 2.58...</td>\n",
       "    </tr>\n",
       "  </tbody>\n",
       "</table>\n",
       "</div>"
      ],
      "text/plain": [
       "  item_id                                            txt_vec  \\\n",
       "0   42844  4.514945030212402, -2.3837196826934814, 0.5004...   \n",
       "1   67898  -2.0029051303863525, -0.9298805594444275, 0.79...   \n",
       "2   66446  4.221673011779785, -1.4971394538879395, 1.1335...   \n",
       "3   63651  2.6579699516296387, -0.941863477230072, 1.1215...   \n",
       "4   46824  3.192194938659668, -1.9366759061813354, 1.1999...   \n",
       "\n",
       "                                             img_vec  \n",
       "0  -2.8722801208496094, 1.4587551355361938, 2.579...  \n",
       "1  -0.07052088528871536, -1.4393335580825806, 0.7...  \n",
       "2  -5.18036413192749, -0.38824713230133057, -0.03...  \n",
       "3  -1.077273964881897, 2.8394529819488525, 1.1834...  \n",
       "4  -3.2601945400238037, 0.49889034032821655, 2.58...  "
      ]
     },
     "execution_count": 26,
     "metadata": {},
     "output_type": "execute_result"
    }
   ],
   "source": [
    "underexpose_item_feat.head()"
   ]
  },
  {
   "cell_type": "markdown",
   "metadata": {},
   "source": [
    "## 查看商品item_id个数"
   ]
  },
  {
   "cell_type": "code",
   "execution_count": 27,
   "metadata": {},
   "outputs": [
    {
     "data": {
      "text/plain": [
       "108916"
      ]
     },
     "execution_count": 27,
     "metadata": {},
     "output_type": "execute_result"
    }
   ],
   "source": [
    "underexpose_item_feat.item_id.count()"
   ]
  },
  {
   "cell_type": "markdown",
   "metadata": {},
   "source": [
    "## 查看商品txt_vec向量维度"
   ]
  },
  {
   "cell_type": "code",
   "execution_count": 28,
   "metadata": {},
   "outputs": [
    {
     "data": {
      "text/plain": [
       "128"
      ]
     },
     "execution_count": 28,
     "metadata": {},
     "output_type": "execute_result"
    }
   ],
   "source": [
    "len(underexpose_item_feat.txt_vec.values[0].split(\",\"))"
   ]
  },
  {
   "cell_type": "code",
   "execution_count": 29,
   "metadata": {},
   "outputs": [
    {
     "data": {
      "text/plain": [
       "808.8675917468368"
      ]
     },
     "execution_count": 29,
     "metadata": {},
     "output_type": "execute_result"
    }
   ],
   "source": [
    "np.sum([float(x_)**2 for x_ in underexpose_item_feat.txt_vec.values[0].split(\",\")])"
   ]
  },
  {
   "cell_type": "code",
   "execution_count": 30,
   "metadata": {},
   "outputs": [
    {
     "data": {
      "text/plain": [
       "405.9183285070672"
      ]
     },
     "execution_count": 30,
     "metadata": {},
     "output_type": "execute_result"
    }
   ],
   "source": [
    "np.sum([float(x_)**2 for x_ in underexpose_item_feat.txt_vec.values[1].split(\",\")])"
   ]
  },
  {
   "cell_type": "markdown",
   "metadata": {},
   "source": [
    "## 查看商品img_vec向量维度"
   ]
  },
  {
   "cell_type": "code",
   "execution_count": 31,
   "metadata": {},
   "outputs": [
    {
     "data": {
      "text/plain": [
       "128"
      ]
     },
     "execution_count": 31,
     "metadata": {},
     "output_type": "execute_result"
    }
   ],
   "source": [
    "len(underexpose_item_feat.img_vec.values[0].split(\",\"))"
   ]
  },
  {
   "cell_type": "code",
   "execution_count": 32,
   "metadata": {},
   "outputs": [
    {
     "data": {
      "text/plain": [
       "372.028070148304"
      ]
     },
     "execution_count": 32,
     "metadata": {},
     "output_type": "execute_result"
    }
   ],
   "source": [
    "np.sum([float(x_)**2 for x_ in underexpose_item_feat.img_vec.values[0].split(\",\")])"
   ]
  },
  {
   "cell_type": "code",
   "execution_count": 33,
   "metadata": {},
   "outputs": [
    {
     "data": {
      "text/plain": [
       "374.25006719310994"
      ]
     },
     "execution_count": 33,
     "metadata": {},
     "output_type": "execute_result"
    }
   ],
   "source": [
    "np.sum([float(x_)**2 for x_ in underexpose_item_feat.img_vec.values[1].split(\",\")])"
   ]
  },
  {
   "cell_type": "markdown",
   "metadata": {},
   "source": [
    "# 训练集——用户点击商品数据"
   ]
  },
  {
   "cell_type": "code",
   "execution_count": 34,
   "metadata": {},
   "outputs": [],
   "source": [
    "list_phase_range = [0,1,2,3,4]\n",
    "list_train_phase_file = [(x_,\"../data/underexpose_train/underexpose_train_click-\"+str(x_)+\".csv\") for x_ in list_phase_range]"
   ]
  },
  {
   "cell_type": "code",
   "execution_count": 35,
   "metadata": {},
   "outputs": [
    {
     "data": {
      "text/plain": [
       "[(0, '../data/underexpose_train/underexpose_train_click-0.csv'),\n",
       " (1, '../data/underexpose_train/underexpose_train_click-1.csv'),\n",
       " (2, '../data/underexpose_train/underexpose_train_click-2.csv'),\n",
       " (3, '../data/underexpose_train/underexpose_train_click-3.csv'),\n",
       " (4, '../data/underexpose_train/underexpose_train_click-4.csv')]"
      ]
     },
     "execution_count": 35,
     "metadata": {},
     "output_type": "execute_result"
    }
   ],
   "source": [
    "list_train_phase_file"
   ]
  },
  {
   "cell_type": "code",
   "execution_count": 36,
   "metadata": {},
   "outputs": [],
   "source": [
    "def get_train_click(list_train_phase_file):\n",
    "    list_underexpose_click = []\n",
    "    columns = [\"user_id\", \"item_id\", \"time\", \"phase\"]\n",
    "    for phase, file in tqdm(list_train_phase_file):\n",
    "        underexpose_click = pd.read_csv(file\n",
    "                                        ,names=[\"user_id\", \"item_id\", \"time\"]\n",
    "                                        ,nrows=None      \n",
    "                                        ,sep=\",\"\n",
    "                                       )\n",
    "        underexpose_click[\"phase\"] = phase\n",
    "        underexpose_click = underexpose_click[columns]\n",
    "        list_underexpose_click.append(underexpose_click)\n",
    "    all_underexpose_click = pd.concat(list_underexpose_click)\n",
    "    return all_underexpose_click[columns]"
   ]
  },
  {
   "cell_type": "code",
   "execution_count": 37,
   "metadata": {
    "scrolled": true
   },
   "outputs": [
    {
     "name": "stderr",
     "output_type": "stream",
     "text": [
      "100%|██████████| 5/5 [00:00<00:00, 10.16it/s]\n"
     ]
    }
   ],
   "source": [
    "underexpose_train_click = get_train_click(list_train_phase_file)"
   ]
  },
  {
   "cell_type": "markdown",
   "metadata": {},
   "source": [
    "## 查看训练集--点击用户点击商品数据"
   ]
  },
  {
   "cell_type": "code",
   "execution_count": 38,
   "metadata": {},
   "outputs": [
    {
     "data": {
      "text/plain": [
       "1258742"
      ]
     },
     "execution_count": 38,
     "metadata": {},
     "output_type": "execute_result"
    }
   ],
   "source": [
    "len(underexpose_train_click)"
   ]
  },
  {
   "cell_type": "code",
   "execution_count": 39,
   "metadata": {},
   "outputs": [
    {
     "data": {
      "text/html": [
       "<div>\n",
       "<style scoped>\n",
       "    .dataframe tbody tr th:only-of-type {\n",
       "        vertical-align: middle;\n",
       "    }\n",
       "\n",
       "    .dataframe tbody tr th {\n",
       "        vertical-align: top;\n",
       "    }\n",
       "\n",
       "    .dataframe thead th {\n",
       "        text-align: right;\n",
       "    }\n",
       "</style>\n",
       "<table border=\"1\" class=\"dataframe\">\n",
       "  <thead>\n",
       "    <tr style=\"text-align: right;\">\n",
       "      <th></th>\n",
       "      <th>user_id</th>\n",
       "      <th>item_id</th>\n",
       "      <th>time</th>\n",
       "      <th>phase</th>\n",
       "    </tr>\n",
       "  </thead>\n",
       "  <tbody>\n",
       "    <tr>\n",
       "      <th>0</th>\n",
       "      <td>4965</td>\n",
       "      <td>18</td>\n",
       "      <td>0.983763</td>\n",
       "      <td>0</td>\n",
       "    </tr>\n",
       "    <tr>\n",
       "      <th>1</th>\n",
       "      <td>20192</td>\n",
       "      <td>34</td>\n",
       "      <td>0.983772</td>\n",
       "      <td>0</td>\n",
       "    </tr>\n",
       "    <tr>\n",
       "      <th>2</th>\n",
       "      <td>30128</td>\n",
       "      <td>91</td>\n",
       "      <td>0.983780</td>\n",
       "      <td>0</td>\n",
       "    </tr>\n",
       "    <tr>\n",
       "      <th>3</th>\n",
       "      <td>29473</td>\n",
       "      <td>189</td>\n",
       "      <td>0.983930</td>\n",
       "      <td>0</td>\n",
       "    </tr>\n",
       "    <tr>\n",
       "      <th>4</th>\n",
       "      <td>10625</td>\n",
       "      <td>225</td>\n",
       "      <td>0.983925</td>\n",
       "      <td>0</td>\n",
       "    </tr>\n",
       "  </tbody>\n",
       "</table>\n",
       "</div>"
      ],
      "text/plain": [
       "   user_id  item_id      time  phase\n",
       "0     4965       18  0.983763      0\n",
       "1    20192       34  0.983772      0\n",
       "2    30128       91  0.983780      0\n",
       "3    29473      189  0.983930      0\n",
       "4    10625      225  0.983925      0"
      ]
     },
     "execution_count": 39,
     "metadata": {},
     "output_type": "execute_result"
    }
   ],
   "source": [
    "underexpose_train_click.head()"
   ]
  },
  {
   "cell_type": "code",
   "execution_count": 40,
   "metadata": {
    "scrolled": true
   },
   "outputs": [
    {
     "data": {
      "text/html": [
       "<div>\n",
       "<style scoped>\n",
       "    .dataframe tbody tr th:only-of-type {\n",
       "        vertical-align: middle;\n",
       "    }\n",
       "\n",
       "    .dataframe tbody tr th {\n",
       "        vertical-align: top;\n",
       "    }\n",
       "\n",
       "    .dataframe thead th {\n",
       "        text-align: right;\n",
       "    }\n",
       "</style>\n",
       "<table border=\"1\" class=\"dataframe\">\n",
       "  <thead>\n",
       "    <tr style=\"text-align: right;\">\n",
       "      <th></th>\n",
       "      <th>user_id</th>\n",
       "      <th>item_id</th>\n",
       "      <th>time</th>\n",
       "      <th>phase</th>\n",
       "    </tr>\n",
       "  </thead>\n",
       "  <tbody>\n",
       "    <tr>\n",
       "      <th>19829</th>\n",
       "      <td>1</td>\n",
       "      <td>78142</td>\n",
       "      <td>0.983742</td>\n",
       "      <td>0</td>\n",
       "    </tr>\n",
       "    <tr>\n",
       "      <th>236132</th>\n",
       "      <td>1</td>\n",
       "      <td>26646</td>\n",
       "      <td>0.983757</td>\n",
       "      <td>0</td>\n",
       "    </tr>\n",
       "    <tr>\n",
       "      <th>20480</th>\n",
       "      <td>1</td>\n",
       "      <td>89568</td>\n",
       "      <td>0.983763</td>\n",
       "      <td>0</td>\n",
       "    </tr>\n",
       "    <tr>\n",
       "      <th>19709</th>\n",
       "      <td>1</td>\n",
       "      <td>76240</td>\n",
       "      <td>0.983770</td>\n",
       "      <td>0</td>\n",
       "    </tr>\n",
       "    <tr>\n",
       "      <th>108033</th>\n",
       "      <td>1</td>\n",
       "      <td>87533</td>\n",
       "      <td>0.983790</td>\n",
       "      <td>0</td>\n",
       "    </tr>\n",
       "    <tr>\n",
       "      <th>56362</th>\n",
       "      <td>1</td>\n",
       "      <td>78380</td>\n",
       "      <td>0.983790</td>\n",
       "      <td>0</td>\n",
       "    </tr>\n",
       "    <tr>\n",
       "      <th>159250</th>\n",
       "      <td>1</td>\n",
       "      <td>85492</td>\n",
       "      <td>0.983875</td>\n",
       "      <td>0</td>\n",
       "    </tr>\n",
       "    <tr>\n",
       "      <th>160489</th>\n",
       "      <td>1</td>\n",
       "      <td>85492</td>\n",
       "      <td>0.983875</td>\n",
       "      <td>2</td>\n",
       "    </tr>\n",
       "    <tr>\n",
       "      <th>20968</th>\n",
       "      <td>1</td>\n",
       "      <td>97795</td>\n",
       "      <td>0.983877</td>\n",
       "      <td>0</td>\n",
       "    </tr>\n",
       "    <tr>\n",
       "      <th>111177</th>\n",
       "      <td>1</td>\n",
       "      <td>18522</td>\n",
       "      <td>0.983887</td>\n",
       "      <td>0</td>\n",
       "    </tr>\n",
       "    <tr>\n",
       "      <th>112207</th>\n",
       "      <td>1</td>\n",
       "      <td>18522</td>\n",
       "      <td>0.983887</td>\n",
       "      <td>2</td>\n",
       "    </tr>\n",
       "    <tr>\n",
       "      <th>175014</th>\n",
       "      <td>1</td>\n",
       "      <td>81337</td>\n",
       "      <td>0.983887</td>\n",
       "      <td>2</td>\n",
       "    </tr>\n",
       "    <tr>\n",
       "      <th>3123</th>\n",
       "      <td>1</td>\n",
       "      <td>47611</td>\n",
       "      <td>0.983887</td>\n",
       "      <td>0</td>\n",
       "    </tr>\n",
       "    <tr>\n",
       "      <th>214540</th>\n",
       "      <td>1</td>\n",
       "      <td>31443</td>\n",
       "      <td>0.983887</td>\n",
       "      <td>0</td>\n",
       "    </tr>\n",
       "    <tr>\n",
       "      <th>208867</th>\n",
       "      <td>1</td>\n",
       "      <td>31443</td>\n",
       "      <td>0.983887</td>\n",
       "      <td>2</td>\n",
       "    </tr>\n",
       "    <tr>\n",
       "      <th>74513</th>\n",
       "      <td>1</td>\n",
       "      <td>17887</td>\n",
       "      <td>0.983894</td>\n",
       "      <td>0</td>\n",
       "    </tr>\n",
       "    <tr>\n",
       "      <th>84964</th>\n",
       "      <td>1</td>\n",
       "      <td>69359</td>\n",
       "      <td>0.983942</td>\n",
       "      <td>0</td>\n",
       "    </tr>\n",
       "    <tr>\n",
       "      <th>78353</th>\n",
       "      <td>1</td>\n",
       "      <td>69359</td>\n",
       "      <td>0.983942</td>\n",
       "      <td>2</td>\n",
       "    </tr>\n",
       "    <tr>\n",
       "      <th>92822</th>\n",
       "      <td>1</td>\n",
       "      <td>69359</td>\n",
       "      <td>0.983942</td>\n",
       "      <td>3</td>\n",
       "    </tr>\n",
       "    <tr>\n",
       "      <th>186580</th>\n",
       "      <td>1</td>\n",
       "      <td>28869</td>\n",
       "      <td>0.984030</td>\n",
       "      <td>2</td>\n",
       "    </tr>\n",
       "  </tbody>\n",
       "</table>\n",
       "</div>"
      ],
      "text/plain": [
       "        user_id  item_id      time  phase\n",
       "19829         1    78142  0.983742      0\n",
       "236132        1    26646  0.983757      0\n",
       "20480         1    89568  0.983763      0\n",
       "19709         1    76240  0.983770      0\n",
       "108033        1    87533  0.983790      0\n",
       "56362         1    78380  0.983790      0\n",
       "159250        1    85492  0.983875      0\n",
       "160489        1    85492  0.983875      2\n",
       "20968         1    97795  0.983877      0\n",
       "111177        1    18522  0.983887      0\n",
       "112207        1    18522  0.983887      2\n",
       "175014        1    81337  0.983887      2\n",
       "3123          1    47611  0.983887      0\n",
       "214540        1    31443  0.983887      0\n",
       "208867        1    31443  0.983887      2\n",
       "74513         1    17887  0.983894      0\n",
       "84964         1    69359  0.983942      0\n",
       "78353         1    69359  0.983942      2\n",
       "92822         1    69359  0.983942      3\n",
       "186580        1    28869  0.984030      2"
      ]
     },
     "execution_count": 40,
     "metadata": {},
     "output_type": "execute_result"
    }
   ],
   "source": [
    "underexpose_train_click.sort_values(['user_id','time']).head(20)"
   ]
  },
  {
   "cell_type": "code",
   "execution_count": 41,
   "metadata": {
    "scrolled": true
   },
   "outputs": [
    {
     "data": {
      "text/html": [
       "<div>\n",
       "<style scoped>\n",
       "    .dataframe tbody tr th:only-of-type {\n",
       "        vertical-align: middle;\n",
       "    }\n",
       "\n",
       "    .dataframe tbody tr th {\n",
       "        vertical-align: top;\n",
       "    }\n",
       "\n",
       "    .dataframe thead th {\n",
       "        text-align: right;\n",
       "    }\n",
       "</style>\n",
       "<table border=\"1\" class=\"dataframe\">\n",
       "  <thead>\n",
       "    <tr style=\"text-align: right;\">\n",
       "      <th></th>\n",
       "      <th>user_id</th>\n",
       "      <th>item_id</th>\n",
       "      <th>time</th>\n",
       "      <th>phase</th>\n",
       "    </tr>\n",
       "  </thead>\n",
       "  <tbody>\n",
       "    <tr>\n",
       "      <th>19829</th>\n",
       "      <td>1</td>\n",
       "      <td>78142</td>\n",
       "      <td>0.983742</td>\n",
       "      <td>0</td>\n",
       "    </tr>\n",
       "    <tr>\n",
       "      <th>236132</th>\n",
       "      <td>1</td>\n",
       "      <td>26646</td>\n",
       "      <td>0.983757</td>\n",
       "      <td>0</td>\n",
       "    </tr>\n",
       "    <tr>\n",
       "      <th>20480</th>\n",
       "      <td>1</td>\n",
       "      <td>89568</td>\n",
       "      <td>0.983763</td>\n",
       "      <td>0</td>\n",
       "    </tr>\n",
       "    <tr>\n",
       "      <th>19709</th>\n",
       "      <td>1</td>\n",
       "      <td>76240</td>\n",
       "      <td>0.983770</td>\n",
       "      <td>0</td>\n",
       "    </tr>\n",
       "    <tr>\n",
       "      <th>108033</th>\n",
       "      <td>1</td>\n",
       "      <td>87533</td>\n",
       "      <td>0.983790</td>\n",
       "      <td>0</td>\n",
       "    </tr>\n",
       "    <tr>\n",
       "      <th>56362</th>\n",
       "      <td>1</td>\n",
       "      <td>78380</td>\n",
       "      <td>0.983790</td>\n",
       "      <td>0</td>\n",
       "    </tr>\n",
       "    <tr>\n",
       "      <th>160489</th>\n",
       "      <td>1</td>\n",
       "      <td>85492</td>\n",
       "      <td>0.983875</td>\n",
       "      <td>2</td>\n",
       "    </tr>\n",
       "    <tr>\n",
       "      <th>159250</th>\n",
       "      <td>1</td>\n",
       "      <td>85492</td>\n",
       "      <td>0.983875</td>\n",
       "      <td>0</td>\n",
       "    </tr>\n",
       "    <tr>\n",
       "      <th>20968</th>\n",
       "      <td>1</td>\n",
       "      <td>97795</td>\n",
       "      <td>0.983877</td>\n",
       "      <td>0</td>\n",
       "    </tr>\n",
       "    <tr>\n",
       "      <th>111177</th>\n",
       "      <td>1</td>\n",
       "      <td>18522</td>\n",
       "      <td>0.983887</td>\n",
       "      <td>0</td>\n",
       "    </tr>\n",
       "    <tr>\n",
       "      <th>112207</th>\n",
       "      <td>1</td>\n",
       "      <td>18522</td>\n",
       "      <td>0.983887</td>\n",
       "      <td>2</td>\n",
       "    </tr>\n",
       "    <tr>\n",
       "      <th>175014</th>\n",
       "      <td>1</td>\n",
       "      <td>81337</td>\n",
       "      <td>0.983887</td>\n",
       "      <td>2</td>\n",
       "    </tr>\n",
       "    <tr>\n",
       "      <th>3123</th>\n",
       "      <td>1</td>\n",
       "      <td>47611</td>\n",
       "      <td>0.983887</td>\n",
       "      <td>0</td>\n",
       "    </tr>\n",
       "    <tr>\n",
       "      <th>214540</th>\n",
       "      <td>1</td>\n",
       "      <td>31443</td>\n",
       "      <td>0.983887</td>\n",
       "      <td>0</td>\n",
       "    </tr>\n",
       "    <tr>\n",
       "      <th>208867</th>\n",
       "      <td>1</td>\n",
       "      <td>31443</td>\n",
       "      <td>0.983887</td>\n",
       "      <td>2</td>\n",
       "    </tr>\n",
       "    <tr>\n",
       "      <th>74513</th>\n",
       "      <td>1</td>\n",
       "      <td>17887</td>\n",
       "      <td>0.983894</td>\n",
       "      <td>0</td>\n",
       "    </tr>\n",
       "    <tr>\n",
       "      <th>78353</th>\n",
       "      <td>1</td>\n",
       "      <td>69359</td>\n",
       "      <td>0.983942</td>\n",
       "      <td>2</td>\n",
       "    </tr>\n",
       "    <tr>\n",
       "      <th>84964</th>\n",
       "      <td>1</td>\n",
       "      <td>69359</td>\n",
       "      <td>0.983942</td>\n",
       "      <td>0</td>\n",
       "    </tr>\n",
       "    <tr>\n",
       "      <th>92822</th>\n",
       "      <td>1</td>\n",
       "      <td>69359</td>\n",
       "      <td>0.983942</td>\n",
       "      <td>3</td>\n",
       "    </tr>\n",
       "    <tr>\n",
       "      <th>204459</th>\n",
       "      <td>1</td>\n",
       "      <td>28869</td>\n",
       "      <td>0.984030</td>\n",
       "      <td>4</td>\n",
       "    </tr>\n",
       "  </tbody>\n",
       "</table>\n",
       "</div>"
      ],
      "text/plain": [
       "        user_id  item_id      time  phase\n",
       "19829         1    78142  0.983742      0\n",
       "236132        1    26646  0.983757      0\n",
       "20480         1    89568  0.983763      0\n",
       "19709         1    76240  0.983770      0\n",
       "108033        1    87533  0.983790      0\n",
       "56362         1    78380  0.983790      0\n",
       "160489        1    85492  0.983875      2\n",
       "159250        1    85492  0.983875      0\n",
       "20968         1    97795  0.983877      0\n",
       "111177        1    18522  0.983887      0\n",
       "112207        1    18522  0.983887      2\n",
       "175014        1    81337  0.983887      2\n",
       "3123          1    47611  0.983887      0\n",
       "214540        1    31443  0.983887      0\n",
       "208867        1    31443  0.983887      2\n",
       "74513         1    17887  0.983894      0\n",
       "78353         1    69359  0.983942      2\n",
       "84964         1    69359  0.983942      0\n",
       "92822         1    69359  0.983942      3\n",
       "204459        1    28869  0.984030      4"
      ]
     },
     "execution_count": 41,
     "metadata": {},
     "output_type": "execute_result"
    }
   ],
   "source": [
    "underexpose_train_click[underexpose_train_click[\"user_id\"]==1].sort_values([\"time\"]).head(20)"
   ]
  },
  {
   "cell_type": "code",
   "execution_count": 42,
   "metadata": {},
   "outputs": [
    {
     "data": {
      "text/html": [
       "<div>\n",
       "<style scoped>\n",
       "    .dataframe tbody tr th:only-of-type {\n",
       "        vertical-align: middle;\n",
       "    }\n",
       "\n",
       "    .dataframe tbody tr th {\n",
       "        vertical-align: top;\n",
       "    }\n",
       "\n",
       "    .dataframe thead th {\n",
       "        text-align: right;\n",
       "    }\n",
       "</style>\n",
       "<table border=\"1\" class=\"dataframe\">\n",
       "  <thead>\n",
       "    <tr style=\"text-align: right;\">\n",
       "      <th></th>\n",
       "      <th>user_id</th>\n",
       "      <th>item_id</th>\n",
       "      <th>time</th>\n",
       "      <th>phase</th>\n",
       "    </tr>\n",
       "  </thead>\n",
       "  <tbody>\n",
       "    <tr>\n",
       "      <th>19829</th>\n",
       "      <td>1</td>\n",
       "      <td>78142</td>\n",
       "      <td>0.983742</td>\n",
       "      <td>0</td>\n",
       "    </tr>\n",
       "    <tr>\n",
       "      <th>236132</th>\n",
       "      <td>1</td>\n",
       "      <td>26646</td>\n",
       "      <td>0.983757</td>\n",
       "      <td>0</td>\n",
       "    </tr>\n",
       "    <tr>\n",
       "      <th>20480</th>\n",
       "      <td>1</td>\n",
       "      <td>89568</td>\n",
       "      <td>0.983763</td>\n",
       "      <td>0</td>\n",
       "    </tr>\n",
       "    <tr>\n",
       "      <th>19709</th>\n",
       "      <td>1</td>\n",
       "      <td>76240</td>\n",
       "      <td>0.983770</td>\n",
       "      <td>0</td>\n",
       "    </tr>\n",
       "    <tr>\n",
       "      <th>108033</th>\n",
       "      <td>1</td>\n",
       "      <td>87533</td>\n",
       "      <td>0.983790</td>\n",
       "      <td>0</td>\n",
       "    </tr>\n",
       "    <tr>\n",
       "      <th>56362</th>\n",
       "      <td>1</td>\n",
       "      <td>78380</td>\n",
       "      <td>0.983790</td>\n",
       "      <td>0</td>\n",
       "    </tr>\n",
       "    <tr>\n",
       "      <th>159250</th>\n",
       "      <td>1</td>\n",
       "      <td>85492</td>\n",
       "      <td>0.983875</td>\n",
       "      <td>0</td>\n",
       "    </tr>\n",
       "    <tr>\n",
       "      <th>160489</th>\n",
       "      <td>1</td>\n",
       "      <td>85492</td>\n",
       "      <td>0.983875</td>\n",
       "      <td>2</td>\n",
       "    </tr>\n",
       "    <tr>\n",
       "      <th>20968</th>\n",
       "      <td>1</td>\n",
       "      <td>97795</td>\n",
       "      <td>0.983877</td>\n",
       "      <td>0</td>\n",
       "    </tr>\n",
       "    <tr>\n",
       "      <th>111177</th>\n",
       "      <td>1</td>\n",
       "      <td>18522</td>\n",
       "      <td>0.983887</td>\n",
       "      <td>0</td>\n",
       "    </tr>\n",
       "    <tr>\n",
       "      <th>112207</th>\n",
       "      <td>1</td>\n",
       "      <td>18522</td>\n",
       "      <td>0.983887</td>\n",
       "      <td>2</td>\n",
       "    </tr>\n",
       "    <tr>\n",
       "      <th>175014</th>\n",
       "      <td>1</td>\n",
       "      <td>81337</td>\n",
       "      <td>0.983887</td>\n",
       "      <td>2</td>\n",
       "    </tr>\n",
       "    <tr>\n",
       "      <th>3123</th>\n",
       "      <td>1</td>\n",
       "      <td>47611</td>\n",
       "      <td>0.983887</td>\n",
       "      <td>0</td>\n",
       "    </tr>\n",
       "    <tr>\n",
       "      <th>214540</th>\n",
       "      <td>1</td>\n",
       "      <td>31443</td>\n",
       "      <td>0.983887</td>\n",
       "      <td>0</td>\n",
       "    </tr>\n",
       "    <tr>\n",
       "      <th>208867</th>\n",
       "      <td>1</td>\n",
       "      <td>31443</td>\n",
       "      <td>0.983887</td>\n",
       "      <td>2</td>\n",
       "    </tr>\n",
       "    <tr>\n",
       "      <th>74513</th>\n",
       "      <td>1</td>\n",
       "      <td>17887</td>\n",
       "      <td>0.983894</td>\n",
       "      <td>0</td>\n",
       "    </tr>\n",
       "    <tr>\n",
       "      <th>84964</th>\n",
       "      <td>1</td>\n",
       "      <td>69359</td>\n",
       "      <td>0.983942</td>\n",
       "      <td>0</td>\n",
       "    </tr>\n",
       "    <tr>\n",
       "      <th>78353</th>\n",
       "      <td>1</td>\n",
       "      <td>69359</td>\n",
       "      <td>0.983942</td>\n",
       "      <td>2</td>\n",
       "    </tr>\n",
       "    <tr>\n",
       "      <th>92822</th>\n",
       "      <td>1</td>\n",
       "      <td>69359</td>\n",
       "      <td>0.983942</td>\n",
       "      <td>3</td>\n",
       "    </tr>\n",
       "    <tr>\n",
       "      <th>186580</th>\n",
       "      <td>1</td>\n",
       "      <td>28869</td>\n",
       "      <td>0.984030</td>\n",
       "      <td>2</td>\n",
       "    </tr>\n",
       "  </tbody>\n",
       "</table>\n",
       "</div>"
      ],
      "text/plain": [
       "        user_id  item_id      time  phase\n",
       "19829         1    78142  0.983742      0\n",
       "236132        1    26646  0.983757      0\n",
       "20480         1    89568  0.983763      0\n",
       "19709         1    76240  0.983770      0\n",
       "108033        1    87533  0.983790      0\n",
       "56362         1    78380  0.983790      0\n",
       "159250        1    85492  0.983875      0\n",
       "160489        1    85492  0.983875      2\n",
       "20968         1    97795  0.983877      0\n",
       "111177        1    18522  0.983887      0\n",
       "112207        1    18522  0.983887      2\n",
       "175014        1    81337  0.983887      2\n",
       "3123          1    47611  0.983887      0\n",
       "214540        1    31443  0.983887      0\n",
       "208867        1    31443  0.983887      2\n",
       "74513         1    17887  0.983894      0\n",
       "84964         1    69359  0.983942      0\n",
       "78353         1    69359  0.983942      2\n",
       "92822         1    69359  0.983942      3\n",
       "186580        1    28869  0.984030      2"
      ]
     },
     "execution_count": 42,
     "metadata": {},
     "output_type": "execute_result"
    }
   ],
   "source": [
    "underexpose_train_click[underexpose_train_click[\"user_id\"]==1].sort_values([\"time\",\"phase\"]).head(20)"
   ]
  },
  {
   "cell_type": "code",
   "execution_count": 43,
   "metadata": {},
   "outputs": [
    {
     "data": {
      "text/html": [
       "<div>\n",
       "<style scoped>\n",
       "    .dataframe tbody tr th:only-of-type {\n",
       "        vertical-align: middle;\n",
       "    }\n",
       "\n",
       "    .dataframe tbody tr th {\n",
       "        vertical-align: top;\n",
       "    }\n",
       "\n",
       "    .dataframe thead th {\n",
       "        text-align: right;\n",
       "    }\n",
       "</style>\n",
       "<table border=\"1\" class=\"dataframe\">\n",
       "  <thead>\n",
       "    <tr style=\"text-align: right;\">\n",
       "      <th></th>\n",
       "      <th>user_id</th>\n",
       "      <th>item_id</th>\n",
       "      <th>time</th>\n",
       "      <th>phase</th>\n",
       "    </tr>\n",
       "  </thead>\n",
       "  <tbody>\n",
       "    <tr>\n",
       "      <th>475</th>\n",
       "      <td>2</td>\n",
       "      <td>7053</td>\n",
       "      <td>0.983819</td>\n",
       "      <td>0</td>\n",
       "    </tr>\n",
       "    <tr>\n",
       "      <th>7818</th>\n",
       "      <td>2</td>\n",
       "      <td>7745</td>\n",
       "      <td>0.983783</td>\n",
       "      <td>0</td>\n",
       "    </tr>\n",
       "    <tr>\n",
       "      <th>15007</th>\n",
       "      <td>2</td>\n",
       "      <td>4983</td>\n",
       "      <td>0.983872</td>\n",
       "      <td>0</td>\n",
       "    </tr>\n",
       "    <tr>\n",
       "      <th>23732</th>\n",
       "      <td>2</td>\n",
       "      <td>23824</td>\n",
       "      <td>0.983872</td>\n",
       "      <td>0</td>\n",
       "    </tr>\n",
       "    <tr>\n",
       "      <th>28607</th>\n",
       "      <td>2</td>\n",
       "      <td>104635</td>\n",
       "      <td>0.983819</td>\n",
       "      <td>0</td>\n",
       "    </tr>\n",
       "    <tr>\n",
       "      <th>44450</th>\n",
       "      <td>2</td>\n",
       "      <td>4168</td>\n",
       "      <td>0.983872</td>\n",
       "      <td>0</td>\n",
       "    </tr>\n",
       "    <tr>\n",
       "      <th>66660</th>\n",
       "      <td>2</td>\n",
       "      <td>8481</td>\n",
       "      <td>0.983830</td>\n",
       "      <td>0</td>\n",
       "    </tr>\n",
       "    <tr>\n",
       "      <th>113659</th>\n",
       "      <td>2</td>\n",
       "      <td>58621</td>\n",
       "      <td>0.983884</td>\n",
       "      <td>0</td>\n",
       "    </tr>\n",
       "    <tr>\n",
       "      <th>138931</th>\n",
       "      <td>2</td>\n",
       "      <td>111576</td>\n",
       "      <td>0.983819</td>\n",
       "      <td>0</td>\n",
       "    </tr>\n",
       "    <tr>\n",
       "      <th>146083</th>\n",
       "      <td>2</td>\n",
       "      <td>109065</td>\n",
       "      <td>0.983819</td>\n",
       "      <td>0</td>\n",
       "    </tr>\n",
       "    <tr>\n",
       "      <th>148512</th>\n",
       "      <td>2</td>\n",
       "      <td>28099</td>\n",
       "      <td>0.983783</td>\n",
       "      <td>0</td>\n",
       "    </tr>\n",
       "    <tr>\n",
       "      <th>167105</th>\n",
       "      <td>2</td>\n",
       "      <td>93552</td>\n",
       "      <td>0.983884</td>\n",
       "      <td>0</td>\n",
       "    </tr>\n",
       "    <tr>\n",
       "      <th>202410</th>\n",
       "      <td>2</td>\n",
       "      <td>72912</td>\n",
       "      <td>0.983765</td>\n",
       "      <td>0</td>\n",
       "    </tr>\n",
       "    <tr>\n",
       "      <th>204993</th>\n",
       "      <td>2</td>\n",
       "      <td>115561</td>\n",
       "      <td>0.983841</td>\n",
       "      <td>0</td>\n",
       "    </tr>\n",
       "    <tr>\n",
       "      <th>231623</th>\n",
       "      <td>2</td>\n",
       "      <td>73084</td>\n",
       "      <td>0.983784</td>\n",
       "      <td>0</td>\n",
       "    </tr>\n",
       "    <tr>\n",
       "      <th>7638</th>\n",
       "      <td>2</td>\n",
       "      <td>4983</td>\n",
       "      <td>0.983872</td>\n",
       "      <td>1</td>\n",
       "    </tr>\n",
       "    <tr>\n",
       "      <th>23896</th>\n",
       "      <td>2</td>\n",
       "      <td>23824</td>\n",
       "      <td>0.983872</td>\n",
       "      <td>1</td>\n",
       "    </tr>\n",
       "    <tr>\n",
       "      <th>28772</th>\n",
       "      <td>2</td>\n",
       "      <td>104635</td>\n",
       "      <td>0.983819</td>\n",
       "      <td>1</td>\n",
       "    </tr>\n",
       "    <tr>\n",
       "      <th>36706</th>\n",
       "      <td>2</td>\n",
       "      <td>111893</td>\n",
       "      <td>0.983981</td>\n",
       "      <td>1</td>\n",
       "    </tr>\n",
       "    <tr>\n",
       "      <th>44662</th>\n",
       "      <td>2</td>\n",
       "      <td>4168</td>\n",
       "      <td>0.983872</td>\n",
       "      <td>1</td>\n",
       "    </tr>\n",
       "  </tbody>\n",
       "</table>\n",
       "</div>"
      ],
      "text/plain": [
       "        user_id  item_id      time  phase\n",
       "475           2     7053  0.983819      0\n",
       "7818          2     7745  0.983783      0\n",
       "15007         2     4983  0.983872      0\n",
       "23732         2    23824  0.983872      0\n",
       "28607         2   104635  0.983819      0\n",
       "44450         2     4168  0.983872      0\n",
       "66660         2     8481  0.983830      0\n",
       "113659        2    58621  0.983884      0\n",
       "138931        2   111576  0.983819      0\n",
       "146083        2   109065  0.983819      0\n",
       "148512        2    28099  0.983783      0\n",
       "167105        2    93552  0.983884      0\n",
       "202410        2    72912  0.983765      0\n",
       "204993        2   115561  0.983841      0\n",
       "231623        2    73084  0.983784      0\n",
       "7638          2     4983  0.983872      1\n",
       "23896         2    23824  0.983872      1\n",
       "28772         2   104635  0.983819      1\n",
       "36706         2   111893  0.983981      1\n",
       "44662         2     4168  0.983872      1"
      ]
     },
     "execution_count": 43,
     "metadata": {},
     "output_type": "execute_result"
    }
   ],
   "source": [
    "underexpose_train_click[underexpose_train_click[\"user_id\"]==2].head(20)"
   ]
  },
  {
   "cell_type": "markdown",
   "metadata": {},
   "source": [
    "# 测试集——用户点击数据-待预测数据"
   ]
  },
  {
   "cell_type": "code",
   "execution_count": 44,
   "metadata": {},
   "outputs": [],
   "source": [
    "list_phase_range = [0,1,2,3,4]\n",
    "list_test_phase_file = [(x_,\"../data/underexpose_test/underexpose_test_click-\"+str(x_)+\"/underexpose_test_click-\"+str(x_)+\".csv\") for x_ in list_phase_range]\n",
    "list_test_phase_query_file = [(x_,\"../data/underexpose_test/underexpose_test_click-\"+str(x_)+\"/underexpose_test_qtime-\"+str(x_)+\".csv\") for x_ in list_phase_range]"
   ]
  },
  {
   "cell_type": "code",
   "execution_count": 45,
   "metadata": {},
   "outputs": [
    {
     "data": {
      "text/plain": [
       "[(0,\n",
       "  '../data/underexpose_test/underexpose_test_click-0/underexpose_test_click-0.csv'),\n",
       " (1,\n",
       "  '../data/underexpose_test/underexpose_test_click-1/underexpose_test_click-1.csv'),\n",
       " (2,\n",
       "  '../data/underexpose_test/underexpose_test_click-2/underexpose_test_click-2.csv'),\n",
       " (3,\n",
       "  '../data/underexpose_test/underexpose_test_click-3/underexpose_test_click-3.csv'),\n",
       " (4,\n",
       "  '../data/underexpose_test/underexpose_test_click-4/underexpose_test_click-4.csv')]"
      ]
     },
     "execution_count": 45,
     "metadata": {},
     "output_type": "execute_result"
    }
   ],
   "source": [
    "list_test_phase_file"
   ]
  },
  {
   "cell_type": "code",
   "execution_count": 46,
   "metadata": {},
   "outputs": [
    {
     "data": {
      "text/plain": [
       "[(0,\n",
       "  '../data/underexpose_test/underexpose_test_click-0/underexpose_test_qtime-0.csv'),\n",
       " (1,\n",
       "  '../data/underexpose_test/underexpose_test_click-1/underexpose_test_qtime-1.csv'),\n",
       " (2,\n",
       "  '../data/underexpose_test/underexpose_test_click-2/underexpose_test_qtime-2.csv'),\n",
       " (3,\n",
       "  '../data/underexpose_test/underexpose_test_click-3/underexpose_test_qtime-3.csv'),\n",
       " (4,\n",
       "  '../data/underexpose_test/underexpose_test_click-4/underexpose_test_qtime-4.csv')]"
      ]
     },
     "execution_count": 46,
     "metadata": {},
     "output_type": "execute_result"
    }
   ],
   "source": [
    "list_test_phase_query_file"
   ]
  },
  {
   "cell_type": "code",
   "execution_count": 47,
   "metadata": {},
   "outputs": [],
   "source": [
    "def get_test_click(list_test_phase_file, list_test_phase_query_file):\n",
    "    list_underexpose_click = []\n",
    "    columns = [\"user_id\", \"item_id\", \"time\", \"phase\"]\n",
    "    for phase, file in tqdm(list_test_phase_file):\n",
    "        underexpose_click = pd.read_csv(file\n",
    "                                        ,names=[\"user_id\", \"item_id\", \"time\"]\n",
    "                                        ,nrows=None      \n",
    "                                        ,sep=\",\"\n",
    "                                       )\n",
    "        underexpose_click[\"phase\"] = phase\n",
    "        underexpose_click = underexpose_click[columns] \n",
    "        list_underexpose_click.append(underexpose_click)\n",
    "    for phase, file in tqdm(list_test_phase_query_file):\n",
    "        underexpose_qtime = pd.read_csv(file\n",
    "                                    ,names=[\"user_id\", \"query_time\"]\n",
    "                                    ,nrows=None      \n",
    "                                    ,sep=\",\"\n",
    "                                   )   \n",
    "        underexpose_qtime.columns = [\"user_id\", \"time\"]\n",
    "        underexpose_qtime[\"phase\"] = phase\n",
    "        underexpose_qtime[\"item_id\"] = -999\n",
    "        underexpose_qtime = underexpose_qtime[columns]\n",
    "        list_underexpose_click.append(underexpose_qtime)\n",
    "    all_underexpose_click = pd.concat(list_underexpose_click)\n",
    "    return all_underexpose_click[columns]"
   ]
  },
  {
   "cell_type": "code",
   "execution_count": 48,
   "metadata": {
    "scrolled": true
   },
   "outputs": [
    {
     "name": "stderr",
     "output_type": "stream",
     "text": [
      "100%|██████████| 5/5 [00:00<00:00, 91.94it/s]\n",
      "100%|██████████| 5/5 [00:00<00:00, 192.37it/s]\n"
     ]
    }
   ],
   "source": [
    "underexpose_test_click = get_test_click(list_test_phase_file, list_test_phase_query_file)"
   ]
  },
  {
   "cell_type": "code",
   "execution_count": 151,
   "metadata": {},
   "outputs": [
    {
     "data": {
      "text/plain": [
       "8462"
      ]
     },
     "execution_count": 151,
     "metadata": {},
     "output_type": "execute_result"
    }
   ],
   "source": [
    "len(underexpose_test_click[underexpose_test_click['item_id']<0])"
   ]
  },
  {
   "cell_type": "code",
   "execution_count": 152,
   "metadata": {},
   "outputs": [
    {
     "data": {
      "text/plain": [
       "8462"
      ]
     },
     "execution_count": 152,
     "metadata": {},
     "output_type": "execute_result"
    }
   ],
   "source": [
    "len(set(underexpose_test_click[underexpose_test_click['item_id']<0].user_id))"
   ]
  },
  {
   "cell_type": "markdown",
   "metadata": {},
   "source": [
    "## 查看测试集合数据-待预测的数据"
   ]
  },
  {
   "cell_type": "code",
   "execution_count": 49,
   "metadata": {},
   "outputs": [
    {
     "data": {
      "text/plain": [
       "118833"
      ]
     },
     "execution_count": 49,
     "metadata": {},
     "output_type": "execute_result"
    }
   ],
   "source": [
    "len(underexpose_test_click[underexpose_test_click[\"item_id\"]!=-999])"
   ]
  },
  {
   "cell_type": "code",
   "execution_count": 50,
   "metadata": {},
   "outputs": [
    {
     "data": {
      "text/plain": [
       "8462"
      ]
     },
     "execution_count": 50,
     "metadata": {},
     "output_type": "execute_result"
    }
   ],
   "source": [
    "len(underexpose_test_click[underexpose_test_click[\"item_id\"]==-999])"
   ]
  },
  {
   "cell_type": "code",
   "execution_count": 51,
   "metadata": {
    "scrolled": false
   },
   "outputs": [
    {
     "data": {
      "text/html": [
       "<div>\n",
       "<style scoped>\n",
       "    .dataframe tbody tr th:only-of-type {\n",
       "        vertical-align: middle;\n",
       "    }\n",
       "\n",
       "    .dataframe tbody tr th {\n",
       "        vertical-align: top;\n",
       "    }\n",
       "\n",
       "    .dataframe thead th {\n",
       "        text-align: right;\n",
       "    }\n",
       "</style>\n",
       "<table border=\"1\" class=\"dataframe\">\n",
       "  <thead>\n",
       "    <tr style=\"text-align: right;\">\n",
       "      <th></th>\n",
       "      <th>user_id</th>\n",
       "      <th>item_id</th>\n",
       "      <th>time</th>\n",
       "      <th>phase</th>\n",
       "    </tr>\n",
       "  </thead>\n",
       "  <tbody>\n",
       "    <tr>\n",
       "      <th>0</th>\n",
       "      <td>1133</td>\n",
       "      <td>221</td>\n",
       "      <td>0.983812</td>\n",
       "      <td>0</td>\n",
       "    </tr>\n",
       "    <tr>\n",
       "      <th>1</th>\n",
       "      <td>17864</td>\n",
       "      <td>253</td>\n",
       "      <td>0.983783</td>\n",
       "      <td>0</td>\n",
       "    </tr>\n",
       "    <tr>\n",
       "      <th>2</th>\n",
       "      <td>6941</td>\n",
       "      <td>309</td>\n",
       "      <td>0.983785</td>\n",
       "      <td>0</td>\n",
       "    </tr>\n",
       "    <tr>\n",
       "      <th>3</th>\n",
       "      <td>34089</td>\n",
       "      <td>358</td>\n",
       "      <td>0.983781</td>\n",
       "      <td>0</td>\n",
       "    </tr>\n",
       "    <tr>\n",
       "      <th>4</th>\n",
       "      <td>21659</td>\n",
       "      <td>536</td>\n",
       "      <td>0.983793</td>\n",
       "      <td>0</td>\n",
       "    </tr>\n",
       "  </tbody>\n",
       "</table>\n",
       "</div>"
      ],
      "text/plain": [
       "   user_id  item_id      time  phase\n",
       "0     1133      221  0.983812      0\n",
       "1    17864      253  0.983783      0\n",
       "2     6941      309  0.983785      0\n",
       "3    34089      358  0.983781      0\n",
       "4    21659      536  0.983793      0"
      ]
     },
     "execution_count": 51,
     "metadata": {},
     "output_type": "execute_result"
    }
   ],
   "source": [
    "underexpose_test_click.head()"
   ]
  },
  {
   "cell_type": "code",
   "execution_count": 52,
   "metadata": {
    "scrolled": true
   },
   "outputs": [
    {
     "data": {
      "text/html": [
       "<div>\n",
       "<style scoped>\n",
       "    .dataframe tbody tr th:only-of-type {\n",
       "        vertical-align: middle;\n",
       "    }\n",
       "\n",
       "    .dataframe tbody tr th {\n",
       "        vertical-align: top;\n",
       "    }\n",
       "\n",
       "    .dataframe thead th {\n",
       "        text-align: right;\n",
       "    }\n",
       "</style>\n",
       "<table border=\"1\" class=\"dataframe\">\n",
       "  <thead>\n",
       "    <tr style=\"text-align: right;\">\n",
       "      <th></th>\n",
       "      <th>user_id</th>\n",
       "      <th>item_id</th>\n",
       "      <th>time</th>\n",
       "      <th>phase</th>\n",
       "    </tr>\n",
       "  </thead>\n",
       "  <tbody>\n",
       "    <tr>\n",
       "      <th>21171</th>\n",
       "      <td>1</td>\n",
       "      <td>63733</td>\n",
       "      <td>0.983848</td>\n",
       "      <td>1</td>\n",
       "    </tr>\n",
       "    <tr>\n",
       "      <th>16181</th>\n",
       "      <td>1</td>\n",
       "      <td>85492</td>\n",
       "      <td>0.983875</td>\n",
       "      <td>1</td>\n",
       "    </tr>\n",
       "    <tr>\n",
       "      <th>10475</th>\n",
       "      <td>1</td>\n",
       "      <td>17770</td>\n",
       "      <td>0.983886</td>\n",
       "      <td>1</td>\n",
       "    </tr>\n",
       "    <tr>\n",
       "      <th>11233</th>\n",
       "      <td>1</td>\n",
       "      <td>18522</td>\n",
       "      <td>0.983887</td>\n",
       "      <td>1</td>\n",
       "    </tr>\n",
       "    <tr>\n",
       "      <th>351</th>\n",
       "      <td>1</td>\n",
       "      <td>47611</td>\n",
       "      <td>0.983887</td>\n",
       "      <td>1</td>\n",
       "    </tr>\n",
       "    <tr>\n",
       "      <th>20982</th>\n",
       "      <td>1</td>\n",
       "      <td>31443</td>\n",
       "      <td>0.983887</td>\n",
       "      <td>1</td>\n",
       "    </tr>\n",
       "    <tr>\n",
       "      <th>8245</th>\n",
       "      <td>1</td>\n",
       "      <td>17887</td>\n",
       "      <td>0.983894</td>\n",
       "      <td>1</td>\n",
       "    </tr>\n",
       "    <tr>\n",
       "      <th>6399</th>\n",
       "      <td>1</td>\n",
       "      <td>72939</td>\n",
       "      <td>0.983898</td>\n",
       "      <td>1</td>\n",
       "    </tr>\n",
       "    <tr>\n",
       "      <th>7848</th>\n",
       "      <td>1</td>\n",
       "      <td>69359</td>\n",
       "      <td>0.983942</td>\n",
       "      <td>1</td>\n",
       "    </tr>\n",
       "    <tr>\n",
       "      <th>0</th>\n",
       "      <td>1</td>\n",
       "      <td>-999</td>\n",
       "      <td>0.983942</td>\n",
       "      <td>1</td>\n",
       "    </tr>\n",
       "    <tr>\n",
       "      <th>2270</th>\n",
       "      <td>2</td>\n",
       "      <td>23824</td>\n",
       "      <td>0.983872</td>\n",
       "      <td>2</td>\n",
       "    </tr>\n",
       "    <tr>\n",
       "      <th>4245</th>\n",
       "      <td>2</td>\n",
       "      <td>4168</td>\n",
       "      <td>0.983872</td>\n",
       "      <td>2</td>\n",
       "    </tr>\n",
       "    <tr>\n",
       "      <th>16334</th>\n",
       "      <td>2</td>\n",
       "      <td>93552</td>\n",
       "      <td>0.983884</td>\n",
       "      <td>2</td>\n",
       "    </tr>\n",
       "    <tr>\n",
       "      <th>10680</th>\n",
       "      <td>2</td>\n",
       "      <td>58621</td>\n",
       "      <td>0.983884</td>\n",
       "      <td>2</td>\n",
       "    </tr>\n",
       "    <tr>\n",
       "      <th>4256</th>\n",
       "      <td>2</td>\n",
       "      <td>5461</td>\n",
       "      <td>0.983948</td>\n",
       "      <td>2</td>\n",
       "    </tr>\n",
       "    <tr>\n",
       "      <th>3471</th>\n",
       "      <td>2</td>\n",
       "      <td>111893</td>\n",
       "      <td>0.983981</td>\n",
       "      <td>2</td>\n",
       "    </tr>\n",
       "    <tr>\n",
       "      <th>11666</th>\n",
       "      <td>2</td>\n",
       "      <td>107358</td>\n",
       "      <td>0.983983</td>\n",
       "      <td>2</td>\n",
       "    </tr>\n",
       "    <tr>\n",
       "      <th>14323</th>\n",
       "      <td>2</td>\n",
       "      <td>107956</td>\n",
       "      <td>0.983983</td>\n",
       "      <td>2</td>\n",
       "    </tr>\n",
       "    <tr>\n",
       "      <th>13003</th>\n",
       "      <td>2</td>\n",
       "      <td>115361</td>\n",
       "      <td>0.983983</td>\n",
       "      <td>2</td>\n",
       "    </tr>\n",
       "    <tr>\n",
       "      <th>14650</th>\n",
       "      <td>2</td>\n",
       "      <td>40083</td>\n",
       "      <td>0.983983</td>\n",
       "      <td>2</td>\n",
       "    </tr>\n",
       "  </tbody>\n",
       "</table>\n",
       "</div>"
      ],
      "text/plain": [
       "       user_id  item_id      time  phase\n",
       "21171        1    63733  0.983848      1\n",
       "16181        1    85492  0.983875      1\n",
       "10475        1    17770  0.983886      1\n",
       "11233        1    18522  0.983887      1\n",
       "351          1    47611  0.983887      1\n",
       "20982        1    31443  0.983887      1\n",
       "8245         1    17887  0.983894      1\n",
       "6399         1    72939  0.983898      1\n",
       "7848         1    69359  0.983942      1\n",
       "0            1     -999  0.983942      1\n",
       "2270         2    23824  0.983872      2\n",
       "4245         2     4168  0.983872      2\n",
       "16334        2    93552  0.983884      2\n",
       "10680        2    58621  0.983884      2\n",
       "4256         2     5461  0.983948      2\n",
       "3471         2   111893  0.983981      2\n",
       "11666        2   107358  0.983983      2\n",
       "14323        2   107956  0.983983      2\n",
       "13003        2   115361  0.983983      2\n",
       "14650        2    40083  0.983983      2"
      ]
     },
     "execution_count": 52,
     "metadata": {},
     "output_type": "execute_result"
    }
   ],
   "source": [
    "underexpose_test_click.sort_values(['user_id','time']).head(20)"
   ]
  },
  {
   "cell_type": "code",
   "execution_count": 53,
   "metadata": {},
   "outputs": [
    {
     "data": {
      "text/html": [
       "<div>\n",
       "<style scoped>\n",
       "    .dataframe tbody tr th:only-of-type {\n",
       "        vertical-align: middle;\n",
       "    }\n",
       "\n",
       "    .dataframe tbody tr th {\n",
       "        vertical-align: top;\n",
       "    }\n",
       "\n",
       "    .dataframe thead th {\n",
       "        text-align: right;\n",
       "    }\n",
       "</style>\n",
       "<table border=\"1\" class=\"dataframe\">\n",
       "  <thead>\n",
       "    <tr style=\"text-align: right;\">\n",
       "      <th></th>\n",
       "      <th>user_id</th>\n",
       "      <th>item_id</th>\n",
       "      <th>time</th>\n",
       "      <th>phase</th>\n",
       "    </tr>\n",
       "  </thead>\n",
       "  <tbody>\n",
       "    <tr>\n",
       "      <th>21171</th>\n",
       "      <td>1</td>\n",
       "      <td>63733</td>\n",
       "      <td>0.983848</td>\n",
       "      <td>1</td>\n",
       "    </tr>\n",
       "    <tr>\n",
       "      <th>16181</th>\n",
       "      <td>1</td>\n",
       "      <td>85492</td>\n",
       "      <td>0.983875</td>\n",
       "      <td>1</td>\n",
       "    </tr>\n",
       "    <tr>\n",
       "      <th>10475</th>\n",
       "      <td>1</td>\n",
       "      <td>17770</td>\n",
       "      <td>0.983886</td>\n",
       "      <td>1</td>\n",
       "    </tr>\n",
       "    <tr>\n",
       "      <th>11233</th>\n",
       "      <td>1</td>\n",
       "      <td>18522</td>\n",
       "      <td>0.983887</td>\n",
       "      <td>1</td>\n",
       "    </tr>\n",
       "    <tr>\n",
       "      <th>351</th>\n",
       "      <td>1</td>\n",
       "      <td>47611</td>\n",
       "      <td>0.983887</td>\n",
       "      <td>1</td>\n",
       "    </tr>\n",
       "    <tr>\n",
       "      <th>20982</th>\n",
       "      <td>1</td>\n",
       "      <td>31443</td>\n",
       "      <td>0.983887</td>\n",
       "      <td>1</td>\n",
       "    </tr>\n",
       "    <tr>\n",
       "      <th>8245</th>\n",
       "      <td>1</td>\n",
       "      <td>17887</td>\n",
       "      <td>0.983894</td>\n",
       "      <td>1</td>\n",
       "    </tr>\n",
       "    <tr>\n",
       "      <th>6399</th>\n",
       "      <td>1</td>\n",
       "      <td>72939</td>\n",
       "      <td>0.983898</td>\n",
       "      <td>1</td>\n",
       "    </tr>\n",
       "    <tr>\n",
       "      <th>7848</th>\n",
       "      <td>1</td>\n",
       "      <td>69359</td>\n",
       "      <td>0.983942</td>\n",
       "      <td>1</td>\n",
       "    </tr>\n",
       "    <tr>\n",
       "      <th>0</th>\n",
       "      <td>1</td>\n",
       "      <td>-999</td>\n",
       "      <td>0.983942</td>\n",
       "      <td>1</td>\n",
       "    </tr>\n",
       "  </tbody>\n",
       "</table>\n",
       "</div>"
      ],
      "text/plain": [
       "       user_id  item_id      time  phase\n",
       "21171        1    63733  0.983848      1\n",
       "16181        1    85492  0.983875      1\n",
       "10475        1    17770  0.983886      1\n",
       "11233        1    18522  0.983887      1\n",
       "351          1    47611  0.983887      1\n",
       "20982        1    31443  0.983887      1\n",
       "8245         1    17887  0.983894      1\n",
       "6399         1    72939  0.983898      1\n",
       "7848         1    69359  0.983942      1\n",
       "0            1     -999  0.983942      1"
      ]
     },
     "execution_count": 53,
     "metadata": {},
     "output_type": "execute_result"
    }
   ],
   "source": [
    "underexpose_test_click[underexpose_test_click[\"user_id\"]==1].sort_values(['time']).head(20)"
   ]
  },
  {
   "cell_type": "code",
   "execution_count": 54,
   "metadata": {},
   "outputs": [
    {
     "data": {
      "text/html": [
       "<div>\n",
       "<style scoped>\n",
       "    .dataframe tbody tr th:only-of-type {\n",
       "        vertical-align: middle;\n",
       "    }\n",
       "\n",
       "    .dataframe tbody tr th {\n",
       "        vertical-align: top;\n",
       "    }\n",
       "\n",
       "    .dataframe thead th {\n",
       "        text-align: right;\n",
       "    }\n",
       "</style>\n",
       "<table border=\"1\" class=\"dataframe\">\n",
       "  <thead>\n",
       "    <tr style=\"text-align: right;\">\n",
       "      <th></th>\n",
       "      <th>user_id</th>\n",
       "      <th>item_id</th>\n",
       "      <th>time</th>\n",
       "      <th>phase</th>\n",
       "    </tr>\n",
       "  </thead>\n",
       "  <tbody>\n",
       "    <tr>\n",
       "      <th>21171</th>\n",
       "      <td>1</td>\n",
       "      <td>63733</td>\n",
       "      <td>0.983848</td>\n",
       "      <td>1</td>\n",
       "    </tr>\n",
       "    <tr>\n",
       "      <th>16181</th>\n",
       "      <td>1</td>\n",
       "      <td>85492</td>\n",
       "      <td>0.983875</td>\n",
       "      <td>1</td>\n",
       "    </tr>\n",
       "    <tr>\n",
       "      <th>10475</th>\n",
       "      <td>1</td>\n",
       "      <td>17770</td>\n",
       "      <td>0.983886</td>\n",
       "      <td>1</td>\n",
       "    </tr>\n",
       "    <tr>\n",
       "      <th>11233</th>\n",
       "      <td>1</td>\n",
       "      <td>18522</td>\n",
       "      <td>0.983887</td>\n",
       "      <td>1</td>\n",
       "    </tr>\n",
       "    <tr>\n",
       "      <th>351</th>\n",
       "      <td>1</td>\n",
       "      <td>47611</td>\n",
       "      <td>0.983887</td>\n",
       "      <td>1</td>\n",
       "    </tr>\n",
       "    <tr>\n",
       "      <th>20982</th>\n",
       "      <td>1</td>\n",
       "      <td>31443</td>\n",
       "      <td>0.983887</td>\n",
       "      <td>1</td>\n",
       "    </tr>\n",
       "    <tr>\n",
       "      <th>8245</th>\n",
       "      <td>1</td>\n",
       "      <td>17887</td>\n",
       "      <td>0.983894</td>\n",
       "      <td>1</td>\n",
       "    </tr>\n",
       "    <tr>\n",
       "      <th>6399</th>\n",
       "      <td>1</td>\n",
       "      <td>72939</td>\n",
       "      <td>0.983898</td>\n",
       "      <td>1</td>\n",
       "    </tr>\n",
       "    <tr>\n",
       "      <th>7848</th>\n",
       "      <td>1</td>\n",
       "      <td>69359</td>\n",
       "      <td>0.983942</td>\n",
       "      <td>1</td>\n",
       "    </tr>\n",
       "    <tr>\n",
       "      <th>0</th>\n",
       "      <td>1</td>\n",
       "      <td>-999</td>\n",
       "      <td>0.983942</td>\n",
       "      <td>1</td>\n",
       "    </tr>\n",
       "  </tbody>\n",
       "</table>\n",
       "</div>"
      ],
      "text/plain": [
       "       user_id  item_id      time  phase\n",
       "21171        1    63733  0.983848      1\n",
       "16181        1    85492  0.983875      1\n",
       "10475        1    17770  0.983886      1\n",
       "11233        1    18522  0.983887      1\n",
       "351          1    47611  0.983887      1\n",
       "20982        1    31443  0.983887      1\n",
       "8245         1    17887  0.983894      1\n",
       "6399         1    72939  0.983898      1\n",
       "7848         1    69359  0.983942      1\n",
       "0            1     -999  0.983942      1"
      ]
     },
     "execution_count": 54,
     "metadata": {},
     "output_type": "execute_result"
    }
   ],
   "source": [
    "underexpose_test_click[underexpose_test_click[\"user_id\"]==1].sort_values(['time','phase']).head(20)"
   ]
  },
  {
   "cell_type": "code",
   "execution_count": 55,
   "metadata": {},
   "outputs": [
    {
     "data": {
      "text/plain": [
       "8462"
      ]
     },
     "execution_count": 55,
     "metadata": {},
     "output_type": "execute_result"
    }
   ],
   "source": [
    "len(underexpose_test_click.drop_duplicates(['user_id','phase']))"
   ]
  },
  {
   "cell_type": "code",
   "execution_count": 56,
   "metadata": {},
   "outputs": [
    {
     "data": {
      "text/plain": [
       "8462"
      ]
     },
     "execution_count": 56,
     "metadata": {},
     "output_type": "execute_result"
    }
   ],
   "source": [
    "len(set(underexpose_test_click['user_id']))"
   ]
  },
  {
   "cell_type": "markdown",
   "metadata": {},
   "source": [
    "# 建模数据准备"
   ]
  },
  {
   "cell_type": "markdown",
   "metadata": {},
   "source": [
    "## 序列数据处理"
   ]
  },
  {
   "cell_type": "code",
   "execution_count": 57,
   "metadata": {
    "scrolled": true
   },
   "outputs": [
    {
     "data": {
      "text/html": [
       "<div>\n",
       "<style scoped>\n",
       "    .dataframe tbody tr th:only-of-type {\n",
       "        vertical-align: middle;\n",
       "    }\n",
       "\n",
       "    .dataframe tbody tr th {\n",
       "        vertical-align: top;\n",
       "    }\n",
       "\n",
       "    .dataframe thead th {\n",
       "        text-align: right;\n",
       "    }\n",
       "</style>\n",
       "<table border=\"1\" class=\"dataframe\">\n",
       "  <thead>\n",
       "    <tr style=\"text-align: right;\">\n",
       "      <th></th>\n",
       "      <th>user_id</th>\n",
       "      <th>item_id</th>\n",
       "      <th>time</th>\n",
       "      <th>phase</th>\n",
       "    </tr>\n",
       "  </thead>\n",
       "  <tbody>\n",
       "    <tr>\n",
       "      <th>0</th>\n",
       "      <td>4965</td>\n",
       "      <td>18</td>\n",
       "      <td>0.983763</td>\n",
       "      <td>0</td>\n",
       "    </tr>\n",
       "    <tr>\n",
       "      <th>1</th>\n",
       "      <td>20192</td>\n",
       "      <td>34</td>\n",
       "      <td>0.983772</td>\n",
       "      <td>0</td>\n",
       "    </tr>\n",
       "    <tr>\n",
       "      <th>2</th>\n",
       "      <td>30128</td>\n",
       "      <td>91</td>\n",
       "      <td>0.983780</td>\n",
       "      <td>0</td>\n",
       "    </tr>\n",
       "    <tr>\n",
       "      <th>3</th>\n",
       "      <td>29473</td>\n",
       "      <td>189</td>\n",
       "      <td>0.983930</td>\n",
       "      <td>0</td>\n",
       "    </tr>\n",
       "    <tr>\n",
       "      <th>4</th>\n",
       "      <td>10625</td>\n",
       "      <td>225</td>\n",
       "      <td>0.983925</td>\n",
       "      <td>0</td>\n",
       "    </tr>\n",
       "  </tbody>\n",
       "</table>\n",
       "</div>"
      ],
      "text/plain": [
       "   user_id  item_id      time  phase\n",
       "0     4965       18  0.983763      0\n",
       "1    20192       34  0.983772      0\n",
       "2    30128       91  0.983780      0\n",
       "3    29473      189  0.983930      0\n",
       "4    10625      225  0.983925      0"
      ]
     },
     "execution_count": 57,
     "metadata": {},
     "output_type": "execute_result"
    }
   ],
   "source": [
    "underexpose_train_click.head()"
   ]
  },
  {
   "cell_type": "code",
   "execution_count": 58,
   "metadata": {},
   "outputs": [],
   "source": [
    "def deal_click_data(underexpose_click_data):\n",
    "    underexpose_click_data = underexpose_click_data.sort_values(['user_id','phase','time'])\n",
    "    dict_user_phase_action = {}\n",
    "    for i,row in tqdm(underexpose_click_data.iterrows()):\n",
    "        user_id, item_id, time, phase = int(row[\"user_id\"]), int(row[\"item_id\"]), float(row[\"time\"]), int(row[\"phase\"])\n",
    "        if phase not in dict_user_phase_action:\n",
    "            dict_user_phase_action[phase] = {}\n",
    "        if user_id not in dict_user_phase_action[phase]:\n",
    "            dict_user_phase_action[phase][user_id] = {\"item_seq\":[],\"time_seq\":[],\"diff_time_seq\":[]}\n",
    "        else:\n",
    "            diff_time = (time - dict_user_phase_action[phase][user_id][\"time_seq\"][-1]) * 10**4\n",
    "            dict_user_phase_action[phase][user_id][\"diff_time_seq\"].append(diff_time)    \n",
    "        dict_user_phase_action[phase][user_id][\"item_seq\"].append(item_id)\n",
    "        dict_user_phase_action[phase][user_id][\"time_seq\"].append(time)\n",
    "    return dict_user_phase_action"
   ]
  },
  {
   "cell_type": "code",
   "execution_count": 59,
   "metadata": {},
   "outputs": [],
   "source": [
    "# 2 * 10 **4"
   ]
  },
  {
   "cell_type": "code",
   "execution_count": 60,
   "metadata": {},
   "outputs": [
    {
     "name": "stderr",
     "output_type": "stream",
     "text": [
      "1258742it [03:11, 6585.37it/s]\n"
     ]
    }
   ],
   "source": [
    "dict_train_user_phase_action = deal_click_data(underexpose_train_click)"
   ]
  },
  {
   "cell_type": "code",
   "execution_count": 61,
   "metadata": {},
   "outputs": [
    {
     "name": "stderr",
     "output_type": "stream",
     "text": [
      "127295it [00:19, 6551.70it/s]\n"
     ]
    }
   ],
   "source": [
    "dict_test_user_phase_action = deal_click_data(underexpose_test_click)"
   ]
  },
  {
   "cell_type": "markdown",
   "metadata": {},
   "source": [
    "## 查看处理好的序列数据"
   ]
  },
  {
   "cell_type": "markdown",
   "metadata": {},
   "source": [
    "### 训练数据"
   ]
  },
  {
   "cell_type": "code",
   "execution_count": 68,
   "metadata": {},
   "outputs": [
    {
     "data": {
      "text/plain": [
       "dict_keys([0, 2, 3, 4, 1])"
      ]
     },
     "execution_count": 68,
     "metadata": {},
     "output_type": "execute_result"
    }
   ],
   "source": [
    "dict_train_user_phase_action.keys()"
   ]
  },
  {
   "cell_type": "code",
   "execution_count": 69,
   "metadata": {},
   "outputs": [
    {
     "data": {
      "text/plain": [
       "dict_keys([1, 2, 4, 7, 9, 10, 12, 13, 14, 16, 27, 30, 32, 34, 35, 36, 39, 41, 42, 45, 47, 50, 51, 53, 54, 57, 61, 62, 63, 64, 65, 70, 71, 72, 76, 78, 81, 84, 85, 90, 92, 94, 96, 97, 98, 100, 101, 104, 105, 106, 107, 108, 109, 111, 112, 114, 117, 119, 122, 123, 124, 125, 127, 129, 133, 134, 136, 140, 145, 148, 150, 152, 155, 157, 158, 160, 161, 162, 163, 164, 167, 169, 172, 173, 174, 177, 179, 180, 181, 183, 185, 186, 188, 189, 190, 191, 192, 193, 194, 197, 200, 201, 205, 207, 208, 210, 212, 213, 214, 216, 217, 221, 224, 225, 226, 229, 230, 233, 235, 237, 238, 239, 241, 243, 244, 246, 247, 248, 251, 254, 255, 256, 257, 258, 262, 263, 265, 267, 268, 270, 271, 272, 273, 274, 278, 279, 281, 283, 284, 287, 289, 290, 291, 292, 293, 295, 296, 298, 299, 300, 301, 302, 303, 304, 305, 306, 307, 310, 312, 313, 314, 315, 320, 322, 323, 325, 329, 331, 332, 336, 337, 339, 340, 343, 344, 346, 347, 349, 350, 351, 353, 355, 356, 358, 359, 360, 364, 367, 368, 371, 372, 373, 379, 380, 381, 382, 383, 384, 386, 387, 389, 391, 394, 397, 398, 401, 402, 403, 404, 405, 406, 408, 409, 414, 417, 419, 420, 421, 423, 424, 425, 426, 427, 428, 433, 434, 435, 437, 438, 439, 441, 443, 445, 446, 447, 449, 452, 453, 454, 455, 458, 460, 461, 464, 466, 468, 470, 471, 472, 474, 475, 480, 483, 485, 487, 489, 492, 493, 497, 499, 500, 503, 504, 505, 508, 512, 513, 515, 520, 522, 523, 524, 525, 526, 529, 535, 536, 538, 540, 545, 546, 554, 556, 558, 559, 562, 563, 567, 568, 570, 571, 573, 574, 576, 577, 579, 581, 586, 588, 590, 591, 592, 595, 597, 599, 600, 602, 603, 607, 608, 610, 611, 612, 615, 617, 618, 620, 628, 629, 632, 634, 636, 637, 639, 643, 645, 647, 648, 651, 654, 655, 657, 658, 659, 662, 666, 667, 668, 672, 674, 675, 677, 678, 680, 686, 687, 688, 689, 690, 692, 695, 696, 698, 699, 701, 702, 703, 705, 706, 707, 711, 712, 713, 720, 721, 723, 727, 728, 729, 731, 732, 735, 736, 740, 741, 742, 744, 746, 747, 749, 751, 754, 757, 758, 760, 764, 766, 767, 768, 769, 771, 772, 773, 774, 775, 777, 783, 784, 785, 786, 787, 788, 790, 793, 794, 795, 797, 802, 808, 811, 812, 815, 817, 819, 820, 823, 826, 829, 832, 833, 837, 838, 839, 840, 842, 843, 844, 845, 846, 850, 851, 853, 854, 856, 857, 860, 861, 862, 863, 864, 865, 866, 867, 870, 871, 872, 873, 875, 876, 877, 878, 881, 883, 884, 885, 886, 887, 888, 889, 893, 894, 896, 897, 899, 900, 904, 906, 907, 910, 911, 914, 918, 921, 925, 927, 929, 930, 932, 934, 936, 942, 944, 947, 950, 951, 955, 958, 959, 960, 962, 963, 965, 967, 970, 973, 974, 976, 977, 980, 983, 984, 985, 987, 988, 992, 993, 994, 996, 997, 998, 999, 1002, 1003, 1004, 1005, 1007, 1009, 1011, 1013, 1015, 1016, 1017, 1018, 1022, 1024, 1026, 1027, 1031, 1032, 1033, 1038, 1039, 1040, 1042, 1043, 1044, 1046, 1047, 1049, 1050, 1054, 1057, 1059, 1060, 1062, 1064, 1065, 1069, 1070, 1072, 1073, 1075, 1076, 1077, 1081, 1083, 1084, 1086, 1091, 1092, 1093, 1094, 1095, 1097, 1099, 1102, 1103, 1104, 1106, 1108, 1109, 1113, 1116, 1117, 1119, 1120, 1124, 1125, 1126, 1127, 1128, 1129, 1131, 1132, 1136, 1141, 1143, 1145, 1148, 1150, 1153, 1157, 1161, 1162, 1164, 1165, 1167, 1171, 1173, 1174, 1176, 1179, 1182, 1183, 1185, 1186, 1189, 1193, 1194, 1195, 1198, 1201, 1202, 1204, 1205, 1206, 1208, 1209, 1211, 1213, 1214, 1218, 1219, 1220, 1222, 1223, 1224, 1226, 1228, 1230, 1231, 1233, 1234, 1238, 1242, 1244, 1247, 1248, 1249, 1252, 1253, 1257, 1258, 1260, 1261, 1262, 1266, 1269, 1271, 1273, 1277, 1280, 1281, 1282, 1283, 1284, 1285, 1286, 1288, 1290, 1291, 1293, 1295, 1297, 1299, 1300, 1301, 1302, 1303, 1304, 1305, 1306, 1308, 1310, 1314, 1315, 1317, 1318, 1319, 1322, 1323, 1324, 1325, 1334, 1335, 1336, 1338, 1340, 1343, 1344, 1345, 1346, 1347, 1356, 1361, 1363, 1365, 1368, 1369, 1370, 1371, 1373, 1374, 1376, 1377, 1378, 1379, 1380, 1384, 1389, 1392, 1393, 1395, 1398, 1402, 1406, 1407, 1409, 1410, 1412, 1418, 1421, 1422, 1423, 1425, 1431, 1434, 1436, 1437, 1439, 1443, 1445, 1447, 1448, 1449, 1450, 1451, 1453, 1455, 1456, 1457, 1459, 1460, 1461, 1462, 1464, 1465, 1466, 1467, 1469, 1470, 1471, 1473, 1477, 1480, 1482, 1484, 1486, 1487, 1488, 1489, 1490, 1492, 1494, 1495, 1497, 1498, 1499, 1500, 1501, 1502, 1505, 1509, 1511, 1512, 1514, 1515, 1520, 1521, 1522, 1523, 1527, 1528, 1530, 1531, 1532, 1533, 1536, 1537, 1538, 1543, 1544, 1547, 1548, 1549, 1550, 1552, 1554, 1555, 1556, 1560, 1561, 1564, 1565, 1566, 1568, 1570, 1572, 1576, 1577, 1579, 1580, 1581, 1582, 1586, 1588, 1589, 1593, 1594, 1596, 1597, 1599, 1600, 1601, 1602, 1603, 1604, 1607, 1608, 1609, 1610, 1611, 1614, 1620, 1625, 1629, 1630, 1631, 1632, 1633, 1635, 1636, 1642, 1644, 1647, 1654, 1655, 1656, 1657, 1658, 1662, 1663, 1664, 1666, 1667, 1668, 1669, 1671, 1674, 1675, 1676, 1677, 1679, 1680, 1681, 1682, 1686, 1687, 1689, 1690, 1691, 1692, 1693, 1698, 1699, 1700, 1701, 1702, 1703, 1707, 1709, 1710, 1711, 1712, 1713, 1714, 1717, 1718, 1719, 1720, 1721, 1723, 1725, 1729, 1730, 1731, 1733, 1735, 1737, 1739, 1740, 1741, 1742, 1744, 1746, 1761, 1762, 1763, 1764, 1765, 1767, 1769, 1773, 1775, 1776, 1779, 1780, 1781, 1783, 1784, 1785, 1788, 1789, 1790, 1791, 1794, 1796, 1797, 1798, 1799, 1800, 1801, 1802, 1805, 1806, 1811, 1812, 1813, 1814, 1816, 1817, 1818, 1819, 1820, 1821, 1822, 1829, 1830, 1831, 1833, 1835, 1836, 1838, 1840, 1841, 1843, 1844, 1845, 1846, 1847, 1849, 1850, 1851, 1852, 1853, 1854, 1856, 1857, 1858, 1860, 1861, 1862, 1863, 1867, 1868, 1869, 1872, 1873, 1874, 1876, 1878, 1883, 1885, 1886, 1887, 1889, 1891, 1893, 1894, 1895, 1896, 1897, 1898, 1899, 1900, 1901, 1902, 1906, 1907, 1911, 1913, 1916, 1918, 1919, 1920, 1922, 1924, 1926, 1929, 1930, 1932, 1934, 1935, 1938, 1940, 1942, 1943, 1946, 1949, 1950, 1952, 1953, 1954, 1956, 1961, 1963, 1966, 1967, 1968, 1971, 1972, 1974, 1975, 1976, 1977, 1979, 1981, 1984, 1985, 1986, 1987, 1989, 1990, 1992, 1993, 1994, 1996, 1998, 1999, 2001, 2003, 2006, 2008, 2010, 2011, 2012, 2014, 2016, 2017, 2019, 2020, 2023, 2027, 2028, 2029, 2031, 2032, 2034, 2040, 2041, 2042, 2043, 2049, 2050, 2051, 2052, 2053, 2055, 2056, 2059, 2062, 2064, 2066, 2067, 2071, 2072, 2073, 2074, 2075, 2076, 2081, 2082, 2084, 2085, 2086, 2087, 2088, 2089, 2091, 2092, 2093, 2099, 2105, 2106, 2107, 2108, 2110, 2111, 2113, 2118, 2119, 2125, 2126, 2127, 2129, 2133, 2135, 2136, 2137, 2138, 2139, 2140, 2141, 2142, 2143, 2146, 2147, 2149, 2152, 2153, 2155, 2158, 2160, 2161, 2162, 2163, 2164, 2165, 2168, 2169, 2172, 2174, 2175, 2176, 2180, 2181, 2182, 2183, 2184, 2185, 2187, 2188, 2190, 2192, 2193, 2194, 2197, 2199, 2201, 2202, 2203, 2204, 2205, 2206, 2207, 2209, 2210, 2212, 2215, 2216, 2217, 2219, 2220, 2221, 2224, 2228, 2231, 2232, 2234, 2235, 2236, 2237, 2238, 2239, 2246, 2247, 2249, 2251, 2252, 2254, 2258, 2259, 2262, 2263, 2265, 2267, 2271, 2275, 2280, 2281, 2285, 2286, 2287, 2290, 2291, 2292, 2294, 2296, 2297, 2298, 2300, 2303, 2305, 2306, 2307, 2309, 2311, 2313, 2314, 2317, 2320, 2324, 2326, 2329, 2330, 2331, 2334, 2336, 2337, 2338, 2339, 2340, 2341, 2345, 2348, 2351, 2353, 2355, 2357, 2358, 2362, 2364, 2367, 2368, 2369, 2370, 2372, 2374, 2377, 2378, 2380, 2381, 2384, 2385, 2386, 2391, 2392, 2395, 2396, 2397, 2400, 2401, 2402, 2403, 2406, 2407, 2410, 2411, 2412, 2413, 2416, 2417, 2418, 2421, 2422, 2425, 2426, 2427, 2428, 2429, 2430, 2433, 2437, 2438, 2446, 2447, 2449, 2451, 2454, 2456, 2459, 2460, 2461, 2462, 2463, 2470, 2471, 2473, 2474, 2476, 2477, 2479, 2481, 2483, 2485, 2487, 2489, 2492, 2494, 2495, 2496, 2498, 2499, 2501, 2502, 2503, 2504, 2505, 2507, 2510, 2511, 2513, 2515, 2516, 2518, 2520, 2523, 2524, 2525, 2526, 2528, 2531, 2532, 2533, 2536, 2538, 2540, 2542, 2543, 2545, 2550, 2555, 2557, 2560, 2564, 2565, 2567, 2568, 2570, 2571, 2572, 2575, 2576, 2579, 2580, 2581, 2582, 2583, 2586, 2588, 2589, 2590, 2591, 2592, 2594, 2597, 2598, 2599, 2601, 2602, 2603, 2604, 2606, 2610, 2611, 2613, 2615, 2617, 2619, 2620, 2621, 2622, 2623, 2624, 2625, 2628, 2630, 2632, 2633, 2636, 2637, 2638, 2641, 2645, 2647, 2650, 2652, 2653, 2655, 2656, 2657, 2658, 2660, 2663, 2665, 2667, 2668, 2669, 2671, 2672, 2675, 2677, 2678, 2679, 2681, 2683, 2686, 2687, 2688, 2689, 2692, 2693, 2694, 2697, 2700, 2701, 2702, 2705, 2707, 2708, 2709, 2714, 2718, 2720, 2722, 2723, 2724, 2731, 2732, 2733, 2736, 2740, 2741, 2744, 2746, 2748, 2749, 2752, 2753, 2754, 2755, 2756, 2757, 2758, 2759, 2760, 2765, 2768, 2769, 2774, 2776, 2777, 2778, 2779, 2781, 2784, 2785, 2786, 2790, 2791, 2792, 2795, 2798, 2801, 2802, 2804, 2808, 2809, 2810, 2811, 2812, 2813, 2815, 2817, 2820, 2821, 2823, 2824, 2829, 2832, 2836, 2837, 2847, 2848, 2850, 2852, 2854, 2855, 2857, 2858, 2861, 2863, 2865, 2866, 2868, 2872, 2873, 2874, 2875, 2876, 2877, 2879, 2881, 2884, 2885, 2887, 2888, 2889, 2892, 2894, 2897, 2900, 2901, 2902, 2903, 2908, 2911, 2912, 2913, 2917, 2921, 2922, 2924, 2927, 2932, 2934, 2935, 2938, 2940, 2942, 2944, 2951, 2952, 2954, 2957, 2958, 2960, 2961, 2962, 2963, 2964, 2967, 2968, 2969, 2971, 2974, 2975, 2976, 2977, 2978, 2979, 2980, 2982, 2983, 2984, 2986, 2987, 2989, 2996, 2997, 2999, 3002, 3004, 3006, 3007, 3009, 3011, 3015, 3016, 3018, 3019, 3020, 3021, 3023, 3024, 3028, 3029, 3031, 3034, 3035, 3038, 3042, 3044, 3046, 3050, 3053, 3055, 3056, 3059, 3061, 3065, 3067, 3071, 3072, 3076, 3077, 3078, 3079, 3081, 3083, 3085, 3086, 3088, 3089, 3094, 3095, 3098, 3099, 3100, 3101, 3106, 3107, 3108, 3111, 3116, 3117, 3120, 3122, 3123, 3126, 3128, 3129, 3130, 3131, 3132, 3136, 3138, 3140, 3141, 3143, 3144, 3145, 3153, 3154, 3155, 3156, 3158, 3159, 3160, 3164, 3165, 3170, 3172, 3173, 3174, 3180, 3181, 3184, 3185, 3188, 3191, 3192, 3197, 3199, 3200, 3202, 3204, 3207, 3208, 3210, 3211, 3213, 3215, 3217, 3218, 3227, 3228, 3231, 3232, 3233, 3236, 3238, 3240, 3241, 3242, 3243, 3247, 3249, 3250, 3253, 3254, 3259, 3260, 3261, 3265, 3266, 3270, 3271, 3272, 3274, 3284, 3286, 3287, 3288, 3290, 3291, 3292, 3294, 3295, 3296, 3297, 3302, 3303, 3305, 3306, 3308, 3309, 3310, 3312, 3314, 3318, 3319, 3321, 3323, 3326, 3328, 3329, 3332, 3335, 3336, 3338, 3341, 3342, 3343, 3349, 3357, 3360, 3367, 3368, 3369, 3371, 3373, 3376, 3379, 3382, 3385, 3390, 3391, 3393, 3394, 3395, 3397, 3398, 3403, 3405, 3407, 3408, 3409, 3411, 3412, 3413, 3414, 3415, 3416, 3417, 3418, 3419, 3420, 3423, 3424, 3425, 3428, 3429, 3433, 3436, 3438, 3439, 3440, 3442, 3446, 3447, 3449, 3451, 3453, 3455, 3456, 3459, 3460, 3461, 3463, 3464, 3466, 3468, 3469, 3470, 3471, 3472, 3473, 3474, 3475, 3477, 3478, 3479, 3481, 3482, 3483, 3484, 3485, 3486, 3488, 3489, 3490, 3491, 3492, 3493, 3496, 3497, 3499, 3500, 3501, 3502, 3503, 3504, 3505, 3506, 3507, 3510, 3514, 3515, 3518, 3519, 3522, 3525, 3526, 3528, 3530, 3532, 3534, 3535, 3536, 3540, 3545, 3547, 3548, 3549, 3551, 3552, 3554, 3555, 3556, 3558, 3559, 3561, 3562, 3565, 3566, 3567, 3568, 3570, 3573, 3576, 3578, 3580, 3581, 3582, 3587, 3588, 3589, 3592, 3595, 3599, 3600, 3601, 3602, 3606, 3609, 3611, 3614, 3616, 3617, 3622, 3624, 3625, 3628, 3632, 3633, 3635, 3636, 3637, 3639, 3640, 3642, 3645, 3646, 3647, 3651, 3653, 3654, 3657, 3660, 3661, 3664, 3666, 3669, 3670, 3671, 3673, 3675, 3677, 3678, 3680, 3682, 3686, 3687, 3688, 3689, 3691, 3693, 3695, 3698, 3699, 3700, 3701, 3704, 3705, 3708, 3710, 3712, 3714, 3715, 3716, 3717, 3720, 3721, 3722, 3724, 3726, 3728, 3730, 3731, 3732, 3733, 3734, 3736, 3737, 3739, 3743, 3744, 3745, 3748, 3749, 3755, 3756, 3758, 3759, 3760, 3761, 3763, 3765, 3766, 3767, 3770, 3771, 3772, 3775, 3778, 3780, 3781, 3782, 3783, 3786, 3788, 3793, 3797, 3798, 3799, 3800, 3801, 3803, 3804, 3805, 3807, 3808, 3809, 3810, 3811, 3813, 3818, 3822, 3824, 3826, 3829, 3832, 3834, 3835, 3836, 3837, 3841, 3842, 3843, 3844, 3845, 3847, 3848, 3849, 3852, 3853, 3854, 3856, 3858, 3859, 3860, 3863, 3864, 3865, 3868, 3869, 3871, 3875, 3877, 3885, 3887, 3892, 3899, 3900, 3901, 3902, 3903, 3904, 3906, 3908, 3909, 3910, 3917, 3919, 3920, 3922, 3924, 3925, 3926, 3929, 3930, 3932, 3935, 3936, 3939, 3941, 3942, 3943, 3944, 3946, 3948, 3952, 3953, 3954, 3955, 3958, 3959, 3961, 3962, 3964, 3966, 3967, 3970, 3973, 3974, 3975, 3976, 3978, 3980, 3983, 3985, 3987, 3988, 3989, 3990, 3992, 3995, 3996, 3998, 4000, 4001, 4002, 4006, 4007, 4008, 4017, 4018, 4020, 4023, 4024, 4025, 4028, 4030, 4032, 4034, 4035, 4040, 4041, 4042, 4043, 4044, 4045, 4046, 4047, 4050, 4051, 4054, 4055, 4057, 4058, 4060, 4061, 4062, 4063, 4064, 4065, 4066, 4067, 4071, 4072, 4073, 4075, 4076, 4078, 4083, 4084, 4085, 4087, 4089, 4096, 4098, 4099, 4100, 4101, 4104, 4105, 4106, 4108, 4109, 4110, 4111, 4113, 4115, 4116, 4118, 4119, 4121, 4123, 4124, 4128, 4129, 4130, 4131, 4134, 4135, 4137, 4138, 4139, 4140, 4141, 4142, 4143, 4145, 4150, 4152, 4153, 4155, 4157, 4159, 4161, 4163, 4166, 4168, 4170, 4173, 4175, 4176, 4178, 4181, 4183, 4186, 4187, 4188, 4190, 4192, 4193, 4194, 4195, 4197, 4198, 4199, 4200, 4201, 4204, 4205, 4209, 4210, 4212, 4214, 4215, 4216, 4219, 4220, 4222, 4227, 4230, 4232, 4236, 4239, 4248, 4249, 4251, 4252, 4254, 4255, 4261, 4262, 4263, 4264, 4265, 4266, 4267, 4269, 4271, 4272, 4273, 4276, 4278, 4281, 4284, 4286, 4289, 4291, 4292, 4293, 4296, 4297, 4300, 4302, 4303, 4304, 4305, 4306, 4307, 4308, 4310, 4311, 4314, 4316, 4318, 4319, 4320, 4321, 4322, 4324, 4325, 4326, 4328, 4329, 4330, 4331, 4332, 4333, 4337, 4340, 4342, 4344, 4346, 4349, 4351, 4353, 4354, 4358, 4361, 4362, 4364, 4365, 4369, 4370, 4372, 4373, 4374, 4376, 4377, 4382, 4385, 4390, 4391, 4393, 4394, 4395, 4403, 4405, 4407, 4408, 4409, 4418, 4419, 4421, 4423, 4424, 4425, 4427, 4429, 4430, 4431, 4435, 4436, 4437, 4438, 4439, 4441, 4446, 4450, 4451, 4452, 4453, 4454, 4457, 4458, 4459, 4461, 4462, 4464, 4465, 4467, 4469, 4473, 4474, 4475, 4476, 4479, 4481, 4483, 4485, 4487, 4489, 4490, 4493, 4494, 4495, 4496, 4498, 4500, 4501, 4502, 4503, 4504, 4506, 4508, 4509, 4512, 4513, 4514, 4518, 4519, 4522, 4526, 4527, 4530, 4533, 4535, 4538, 4539, 4540, 4541, 4542, 4545, 4546, 4548, 4550, 4553, 4555, 4557, 4558, 4560, 4562, 4564, 4566, 4567, 4570, 4572, 4573, 4575, 4577, 4578, 4579, 4580, 4582, 4583, 4584, 4586, 4588, 4590, 4591, 4592, 4593, 4594, 4599, 4603, 4604, 4605, 4606, 4607, 4608, 4610, 4611, 4612, 4613, 4615, 4618, 4619, 4622, 4623, 4625, 4626, 4627, 4628, 4629, 4630, 4632, 4633, 4634, 4636, 4637, 4639, 4641, 4643, 4644, 4645, 4646, 4651, 4655, 4656, 4662, 4665, 4667, 4669, 4670, 4671, 4672, 4674, 4679, 4680, 4682, 4684, 4685, 4691, 4692, 4693, 4694, 4695, 4699, 4701, 4702, 4704, 4705, 4706, 4710, 4711, 4714, 4715, 4718, 4723, 4724, 4725, 4726, 4728, 4733, 4735, 4737, 4738, 4739, 4740, 4742, 4743, 4748, 4749, 4751, 4754, 4755, 4756, 4757, 4758, 4759, 4762, 4764, 4765, 4766, 4767, 4769, 4771, 4772, 4776, 4777, 4778, 4779, 4780, 4781, 4782, 4784, 4786, 4790, 4793, 4795, 4798, 4800, 4803, 4808, 4810, 4813, 4814, 4816, 4819, 4822, 4823, 4824, 4827, 4828, 4830, 4831, 4832, 4833, 4836, 4838, 4841, 4846, 4849, 4852, 4856, 4857, 4859, 4865, 4866, 4869, 4870, 4871, 4872, 4874, 4875, 4876, 4879, 4881, 4883, 4885, 4887, 4890, 4892, 4897, 4898, 4899, 4902, 4903, 4909, 4911, 4912, 4914, 4915, 4916, 4921, 4922, 4924, 4925, 4929, 4930, 4931, 4933, 4935, 4936, 4937, 4941, 4942, 4943, 4944, 4949, 4951, 4952, 4953, 4957, 4962, 4964, 4965, 4966, 4967, 4968, 4969, 4973, 4974, 4976, 4979, 4980, 4981, 4982, 4985, 4987, 4988, 4989, 4990, 4991, 4993, 4998, 4999, 5002, 5003, 5004, 5006, 5007, 5010, 5014, 5015, 5019, 5021, 5022, 5028, 5030, 5031, 5033, 5037, 5039, 5040, 5041, 5042, 5047, 5048, 5050, 5051, 5052, 5054, 5057, 5058, 5059, 5063, 5067, 5073, 5076, 5077, 5079, 5080, 5081, 5083, 5085, 5087, 5088, 5089, 5090, 5091, 5092, 5094, 5095, 5096, 5097, 5099, 5100, 5102, 5105, 5107, 5108, 5109, 5110, 5111, 5112, 5113, 5120, 5122, 5124, 5130, 5131, 5133, 5134, 5135, 5139, 5141, 5144, 5145, 5147, 5151, 5153, 5155, 5156, 5157, 5158, 5160, 5163, 5166, 5167, 5168, 5169, 5172, 5174, 5177, 5179, 5182, 5185, 5186, 5188, 5190, 5193, 5195, 5196, 5198, 5201, 5204, 5205, 5206, 5210, 5211, 5212, 5215, 5216, 5218, 5219, 5223, 5224, 5226, 5228, 5229, 5230, 5231, 5232, 5235, 5237, 5240, 5241, 5243, 5245, 5246, 5248, 5249, 5250, 5251, 5252, 5254, 5255, 5256, 5260, 5262, 5264, 5266, 5271, 5273, 5277, 5279, 5281, 5282, 5283, 5284, 5285, 5286, 5287, 5288, 5289, 5292, 5293, 5294, 5295, 5297, 5298, 5301, 5303, 5304, 5305, 5306, 5309, 5310, 5311, 5312, 5314, 5315, 5317, 5318, 5319, 5320, 5321, 5322, 5325, 5327, 5328, 5330, 5331, 5333, 5334, 5336, 5337, 5339, 5340, 5341, 5342, 5344, 5345, 5347, 5348, 5349, 5350, 5352, 5358, 5359, 5362, 5365, 5367, 5369, 5370, 5373, 5376, 5377, 5380, 5381, 5383, 5384, 5387, 5391, 5392, 5393, 5394, 5397, 5398, 5402, 5403, 5404, 5405, 5406, 5408, 5410, 5411, 5414, 5415, 5416, 5417, 5419, 5420, 5421, 5422, 5424, 5425, 5428, 5429, 5431, 5433, 5435, 5436, 5438, 5439, 5440, 5441, 5442, 5443, 5444, 5446, 5447, 5451, 5452, 5457, 5458, 5459, 5460, 5461, 5462, 5463, 5464, 5465, 5466, 5468, 5469, 5472, 5474, 5476, 5480, 5481, 5482, 5483, 5485, 5486, 5487, 5488, 5490, 5494, 5495, 5497, 5503, 5504, 5505, 5508, 5510, 5512, 5513, 5517, 5519, 5520, 5521, 5524, 5525, 5526, 5527, 5528, 5531, 5535, 5536, 5537, 5538, 5540, 5541, 5542, 5546, 5547, 5549, 5552, 5554, 5557, 5560, 5565, 5568, 5570, 5571, 5573, 5574, 5575, 5576, 5578, 5579, 5580, 5581, 5583, 5585, 5586, 5587, 5589, 5591, 5592, 5594, 5595, 5597, 5600, 5601, 5605, 5606, 5607, 5609, 5613, 5614, 5615, 5616, 5622, 5624, 5625, 5626, 5627, 5628, 5633, 5635, 5636, 5639, 5640, 5641, 5645, 5647, 5650, 5651, 5653, 5656, 5660, 5663, 5664, 5666, 5668, 5672, 5673, 5675, 5678, 5679, 5680, 5681, 5682, 5683, 5684, 5690, 5691, 5696, 5699, 5700, 5701, 5702, 5703, 5704, 5707, 5708, 5710, 5712, 5714, 5717, 5718, 5722, 5724, 5725, 5727, 5728, 5729, 5730, 5733, 5734, 5735, 5736, 5737, 5738, 5739, 5740, 5745, 5746, 5747, 5748, 5750, 5751, 5754, 5755, 5756, 5757, 5758, 5759, 5761, 5767, 5772, 5773, 5776, 5777, 5780, 5782, 5783, 5784, 5785, 5787, 5788, 5789, 5790, 5791, 5793, 5794, 5795, 5796, 5798, 5800, 5804, 5806, 5807, 5809, 5810, 5811, 5813, 5817, 5818, 5820, 5821, 5823, 5825, 5828, 5829, 5832, 5833, 5838, 5840, 5842, 5843, 5844, 5847, 5848, 5850, 5851, 5853, 5854, 5855, 5856, 5857, 5858, 5859, 5861, 5865, 5866, 5869, 5870, 5871, 5873, 5878, 5880, 5881, 5883, 5886, 5887, 5888, 5890, 5891, 5892, 5894, 5895, 5898, 5899, 5901, 5902, 5906, 5909, 5910, 5912, 5913, 5915, 5916, 5920, 5922, 5923, 5925, 5926, 5928, 5931, 5932, 5933, 5935, 5936, 5937, 5938, 5939, 5941, 5948, 5950, 5952, 5953, 5954, 5955, 5956, 5957, 5958, 5959, 5961, 5965, 5966, 5969, 5972, 5976, 5977, 5981, 5983, 5988, 5991, 5992, 5993, 5994, 5997, 6002, 6009, 6010, 6011, 6012, 6018, 6019, 6023, 6027, 6029, 6030, 6031, 6033, 6034, 6037, 6038, 6041, 6043, 6044, 6046, 6047, 6048, 6049, 6055, 6056, 6063, 6065, 6069, 6070, 6071, 6073, 6074, 6076, 6077, 6078, 6080, 6081, 6082, 6084, 6085, 6086, 6087, 6089, 6090, 6092, 6095, 6097, 6098, 6099, 6100, 6102, 6103, 6106, 6107, 6108, 6109, 6110, 6111, 6112, 6113, 6114, 6115, 6117, 6120, 6121, 6123, 6124, 6128, 6129, 6131, 6133, 6134, 6135, 6136, 6137, 6141, 6143, 6144, 6145, 6148, 6150, 6153, 6156, 6161, 6163, 6164, 6165, 6166, 6167, 6169, 6170, 6172, 6175, 6176, 6178, 6179, 6180, 6181, 6185, 6186, 6189, 6190, 6194, 6195, 6197, 6198, 6201, 6202, 6205, 6206, 6209, 6210, 6211, 6216, 6217, 6218, 6221, 6223, 6227, 6228, 6229, 6230, 6233, 6234, 6235, 6236, 6239, 6244, 6245, 6249, 6253, 6254, 6255, 6256, 6260, 6261, 6262, 6264, 6267, 6269, 6271, 6272, 6273, 6275, 6278, 6279, 6283, 6289, 6290, 6293, 6294, 6295, 6298, 6299, 6300, 6301, 6305, 6306, 6308, 6310, 6311, 6313, 6316, 6318, 6319, 6321, 6323, 6326, 6327, 6328, 6329, 6331, 6332, 6334, 6335, 6338, 6341, 6343, 6349, 6350, 6352, 6353, 6356, 6360, 6361, 6363, 6364, 6365, 6366, 6367, 6373, 6375, 6376, 6377, 6378, 6381, 6382, 6383, 6387, 6389, 6394, 6395, 6396, 6397, 6399, 6400, 6403, 6404, 6405, 6408, 6409, 6410, 6412, 6414, 6416, 6419, 6420, 6421, 6422, 6423, 6425, 6429, 6430, 6432, 6433, 6434, 6437, 6438, 6439, 6442, 6443, 6444, 6445, 6447, 6448, 6449, 6450, 6451, 6453, 6454, 6458, 6459, 6461, 6462, 6463, 6465, 6466, 6467, 6472, 6473, 6474, 6480, 6481, 6483, 6484, 6486, 6489, 6493, 6494, 6496, 6499, 6502, 6504, 6505, 6507, 6509, 6518, 6519, 6520, 6522, 6525, 6529, 6532, 6536, 6537, 6538, 6542, 6544, 6546, 6551, 6553, 6554, 6555, 6557, 6558, 6559, 6560, 6563, 6564, 6568, 6569, 6570, 6571, 6572, 6573, 6574, 6576, 6579, 6581, 6584, 6585, 6588, 6590, 6591, 6593, 6594, 6597, 6598, 6599, 6602, 6603, 6608, 6610, 6612, 6613, 6614, 6615, 6616, 6619, 6621, 6624, 6626, 6627, 6628, 6629, 6631, 6632, 6634, 6635, 6637, 6640, 6641, 6642, 6643, 6645, 6647, 6649, 6650, 6654, 6657, 6658, 6663, 6665, 6670, 6672, 6673, 6674, 6675, 6676, 6679, 6681, 6682, 6683, 6686, 6687, 6691, 6696, 6697, 6698, 6700, 6702, 6703, 6705, 6708, 6709, 6713, 6715, 6716, 6718, 6719, 6722, 6724, 6726, 6727, 6728, 6734, 6735, 6738, 6739, 6742, 6744, 6746, 6747, 6748, 6749, 6750, 6752, 6753, 6755, 6760, 6764, 6767, 6770, 6771, 6772, 6777, 6779, 6784, 6785, 6788, 6789, 6790, 6793, 6795, 6801, 6803, 6805, 6810, 6811, 6812, 6813, 6814, 6815, 6817, 6818, 6819, 6821, 6825, 6827, 6830, 6832, 6833, 6834, 6835, 6837, 6838, 6839, 6841, 6844, 6847, 6848, 6849, 6850, 6854, 6855, 6856, 6858, 6859, 6860, 6861, 6863, 6869, 6870, 6871, 6872, 6874, 6877, 6882, 6884, 6885, 6889, 6890, 6893, 6896, 6898, 6899, 6901, 6902, 6903, 6904, 6907, 6910, 6915, 6918, 6920, 6922, 6923, 6924, 6926, 6927, 6928, 6933, 6934, 6935, 6936, 6938, 6939, 6940, 6942, 6945, 6947, 6948, 6950, 6953, 6955, 6962, 6964, 6965, 6969, 6970, 6972, 6977, 6980, 6981, 6982, 6984, 6986, 6987, 6988, 6990, 6991, 6994, 6995, 6997, 6999, 7000, 7001, 7002, 7003, 7005, 7008, 7009, 7011, 7012, 7017, 7021, 7022, 7026, 7028, 7034, 7037, 7043, 7044, 7045, 7046, 7047, 7048, 7050, 7053, 7054, 7063, 7064, 7066, 7070, 7071, 7075, 7076, 7079, 7081, 7082, 7083, 7085, 7087, 7089, 7091, 7092, 7098, 7100, 7107, 7108, 7109, 7110, 7112, 7113, 7114, 7115, 7118, 7120, 7122, 7124, 7126, 7127, 7133, 7134, 7135, 7137, 7138, 7142, 7143, 7144, 7146, 7147, 7148, 7151, 7152, 7153, 7154, 7162, 7166, 7167, 7169, 7170, 7171, 7180, 7181, 7182, 7188, 7189, 7190, 7192, 7193, 7196, 7197, 7198, 7199, 7201, 7202, 7204, 7208, 7209, 7210, 7211, 7213, 7215, 7219, 7221, 7225, 7226, 7230, 7231, 7232, 7234, 7235, 7239, 7240, 7242, 7243, 7246, 7250, 7251, 7252, 7253, 7254, 7255, 7256, 7257, 7258, 7261, 7262, 7263, 7264, 7266, 7267, 7269, 7277, 7280, 7281, 7283, 7284, 7285, 7288, 7289, 7295, 7299, 7302, 7307, 7308, 7309, 7310, 7311, 7312, 7313, 7314, 7322, 7323, 7328, 7330, 7331, 7333, 7334, 7336, 7338, 7340, 7343, 7344, 7347, 7350, 7353, 7354, 7358, 7360, 7361, 7362, 7363, 7364, 7365, 7367, 7368, 7371, 7372, 7375, 7376, 7377, 7378, 7379, 7380, 7382, 7385, 7386, 7387, 7388, 7389, 7390, 7391, 7395, 7396, 7397, 7398, 7399, 7400, 7401, 7402, 7404, 7405, 7406, 7409, 7412, 7415, 7418, 7419, 7423, 7426, 7427, 7428, 7432, 7433, 7437, 7439, 7441, 7442, 7443, 7448, 7449, 7451, 7452, 7453, 7455, 7459, 7460, 7463, 7464, 7465, 7473, 7474, 7475, 7477, 7478, 7479, 7481, 7485, 7486, 7487, 7488, 7489, 7492, 7493, 7494, 7496, 7497, 7499, 7501, 7503, 7505, 7506, 7507, 7509, 7512, 7514, 7515, 7516, 7517, 7518, 7519, 7520, 7522, 7523, 7525, 7530, 7531, 7532, 7536, 7537, 7538, 7540, 7541, 7542, 7544, 7545, 7547, 7552, 7553, 7554, 7555, 7556, 7564, 7566, 7570, 7572, 7574, 7575, 7576, 7577, 7581, 7582, 7584, 7585, 7588, 7591, 7595, 7596, 7598, 7599, 7602, 7603, 7605, 7608, 7609, 7613, 7614, 7615, 7616, 7618, 7624, 7625, 7626, 7628, 7630, 7631, 7632, 7633, 7635, 7636, 7637, 7638, 7640, 7644, 7646, 7647, 7648, 7649, 7652, 7653, 7654, 7655, 7658, 7660, 7662, 7663, 7666, 7668, 7669, 7670, 7671, 7672, 7674, 7675, 7676, 7679, 7680, 7682, 7684, 7686, 7688, 7690, 7691, 7692, 7693, 7695, 7696, 7697, 7698, 7702, 7703, 7704, 7705, 7706, 7707, 7708, 7709, 7713, 7715, 7716, 7718, 7720, 7721, 7724, 7725, 7726, 7727, 7728, 7729, 7732, 7738, 7742, 7743, 7747, 7749, 7750, 7754, 7757, 7758, 7759, 7762, 7763, 7765, 7767, 7768, 7769, 7770, 7772, 7776, 7778, 7781, 7783, 7786, 7789, 7790, 7792, 7795, 7801, 7802, 7804, 7806, 7807, 7809, 7818, 7819, 7823, 7825, 7826, 7827, 7828, 7829, 7831, 7833, 7836, 7837, 7839, 7840, 7842, 7844, 7847, 7849, 7851, 7853, 7856, 7857, 7859, 7860, 7861, 7862, 7863, 7864, 7867, 7869, 7870, 7873, 7875, 7877, 7878, 7880, 7882, 7884, 7888, 7889, 7890, 7893, 7894, 7895, 7896, 7900, 7902, 7906, 7907, 7911, 7912, 7913, 7921, 7923, 7924, 7925, 7926, 7936, 7941, 7943, 7944, 7945, 7946, 7948, 7949, 7951, 7952, 7954, 7956, 7957, 7958, 7960, 7961, 7962, 7965, 7967, 7968, 7971, 7972, 7973, 7978, 7983, 7988, 7990, 7992, 7993, 7995, 7998, 7999, 8000, 8002, 8004, 8005, 8012, 8013, 8014, 8015, 8016, 8017, 8018, 8022, 8023, 8024, 8027, 8029, 8031, 8035, 8038, 8039, 8045, 8047, 8048, 8049, 8051, 8054, 8060, 8064, 8068, 8076, 8077, 8078, 8084, 8087, 8088, 8094, 8095, 8099, 8100, 8101, 8102, 8103, 8104, 8106, 8108, 8111, 8112, 8113, 8114, 8115, 8119, 8120, 8121, 8122, 8124, 8127, 8130, 8132, 8133, 8134, 8135, 8136, 8138, 8139, 8142, 8144, 8145, 8146, 8148, 8149, 8155, 8156, 8158, 8159, 8160, 8163, 8165, 8166, 8167, 8169, 8171, 8172, 8174, 8175, 8176, 8178, 8180, 8181, 8186, 8189, 8194, 8196, 8197, 8198, 8199, 8203, 8207, 8208, 8213, 8214, 8215, 8216, 8219, 8220, 8221, 8222, 8224, 8225, 8226, 8227, 8229, 8230, 8231, 8232, 8233, 8240, 8241, 8242, 8245, 8246, 8247, 8251, 8253, 8257, 8258, 8259, 8260, 8263, 8264, 8266, 8269, 8270, 8273, 8275, 8277, 8280, 8281, 8282, 8287, 8291, 8293, 8295, 8299, 8303, 8304, 8306, 8307, 8309, 8311, 8313, 8317, 8318, 8320, 8321, 8322, 8324, 8325, 8328, 8329, 8330, 8332, 8333, 8334, 8340, 8341, 8342, 8343, 8344, 8345, 8346, 8347, 8353, 8354, 8355, 8356, 8357, 8361, 8362, 8363, 8366, 8367, 8370, 8376, 8377, 8379, 8381, 8384, 8386, 8388, 8389, 8390, 8392, 8394, 8395, 8397, 8398, 8401, 8403, 8407, 8409, 8412, 8414, 8417, 8419, 8424, 8425, 8428, 8429, 8432, 8433, 8434, 8436, 8438, 8440, 8442, 8444, 8445, 8446, 8449, 8451, 8453, 8454, 8455, 8456, 8457, 8461, 8462, 8463, 8464, 8465, 8466, 8467, 8468, 8469, 8473, 8475, 8476, 8477, 8480, 8484, 8488, 8489, 8493, 8499, 8500, 8501, 8504, 8505, 8506, 8507, 8510, 8511, 8512, 8513, 8515, 8516, 8517, 8520, 8526, 8528, 8530, 8533, 8534, 8538, 8541, 8544, 8545, 8546, 8548, 8549, 8552, 8553, 8554, 8555, 8556, 8557, 8561, 8562, 8563, 8565, 8566, 8567, 8568, 8570, 8571, 8573, 8574, 8575, 8579, 8581, 8582, 8584, 8586, 8588, 8589, 8593, 8594, 8595, 8596, 8597, 8600, 8601, 8603, 8605, 8606, 8607, 8609, 8610, 8611, 8612, 8614, 8616, 8622, 8623, 8630, 8631, 8634, 8637, 8639, 8642, 8648, 8650, 8651, 8654, 8658, 8660, 8661, 8662, 8663, 8664, 8666, 8667, 8669, 8671, 8673, 8674, 8675, 8676, 8678, 8680, 8682, 8683, 8685, 8689, 8694, 8695, 8696, 8698, 8699, 8702, 8703, 8704, 8705, 8707, 8708, 8714, 8715, 8716, 8717, 8719, 8720, 8721, 8722, 8724, 8725, 8726, 8728, 8730, 8731, 8732, 8735, 8737, 8738, 8741, 8743, 8744, 8746, 8747, 8748, 8749, 8750, 8751, 8753, 8754, 8759, 8760, 8762, 8763, 8764, 8765, 8770, 8771, 8772, 8773, 8774, 8775, 8777, 8780, 8785, 8786, 8788, 8791, 8792, 8795, 8796, 8797, 8799, 8802, 8803, 8804, 8807, 8808, 8809, 8810, 8812, 8814, 8815, 8817, 8818, 8819, 8820, 8826, 8828, 8832, 8834, 8835, 8839, 8845, 8847, 8848, 8853, 8854, 8856, 8857, 8858, 8859, 8860, 8862, 8863, 8864, 8867, 8869, 8871, 8873, 8874, 8875, 8876, 8878, 8879, 8881, 8885, 8890, 8891, 8893, 8895, 8897, 8900, 8901, 8903, 8904, 8908, 8911, 8912, 8919, 8920, 8922, 8926, 8927, 8928, 8929, 8930, 8931, 8933, 8934, 8939, 8940, 8942, 8949, 8951, 8953, 8956, 8957, 8966, 8967, 8968, 8971, 8972, 8974, 8975, 8977, 8978, 8979, 8980, 8981, 8982, 8983, 8985, 8986, 8988, 8989, 8992, 8994, 8995, 8997, 9001, 9002, 9004, 9006, 9010, 9012, 9014, 9018, 9022, 9023, 9024, 9027, 9028, 9029, 9030, 9032, 9033, 9037, 9038, 9043, 9046, 9048, 9052, 9055, 9056, 9058, 9059, 9060, 9061, 9063, 9066, 9071, 9073, 9074, 9077, 9078, 9081, 9082, 9083, 9085, 9087, 9089, 9092, 9093, 9094, 9098, 9100, 9103, 9106, 9107, 9115, 9120, 9122, 9125, 9128, 9129, 9132, 9134, 9135, 9137, 9138, 9142, 9144, 9149, 9151, 9154, 9155, 9156, 9157, 9164, 9165, 9167, 9168, 9169, 9172, 9173, 9175, 9176, 9177, 9182, 9184, 9186, 9188, 9190, 9191, 9193, 9195, 9197, 9198, 9200, 9202, 9203, 9204, 9206, 9208, 9209, 9210, 9211, 9213, 9214, 9215, 9222, 9225, 9226, 9230, 9231, 9232, 9233, 9234, 9236, 9242, 9243, 9244, 9245, 9246, 9248, 9249, 9252, 9253, 9255, 9256, 9261, 9264, 9267, 9271, 9274, 9276, 9277, 9278, 9280, 9281, 9282, 9283, 9285, 9286, 9287, 9289, 9290, 9291, 9296, 9300, 9302, 9304, 9305, 9307, 9308, 9309, 9310, 9313, 9316, 9318, 9321, 9323, 9325, 9326, 9327, 9331, 9332, 9333, 9335, 9337, 9342, 9343, 9347, 9348, 9349, 9351, 9359, 9360, 9362, 9364, 9365, 9366, 9367, 9368, 9369, 9374, 9375, 9376, 9377, 9378, 9380, 9381, 9385, 9387, 9388, 9390, 9393, 9395, 9397, 9399, 9401, 9402, 9406, 9408, 9409, 9410, 9412, 9417, 9418, 9420, 9423, 9425, 9429, 9430, 9431, 9435, 9436, 9441, 9442, 9445, 9447, 9450, 9453, 9455, 9463, 9465, 9467, 9469, 9470, 9472, 9474, 9475, 9476, 9479, 9481, 9485, 9486, 9487, 9488, 9489, 9491, 9495, 9496, 9497, 9500, 9503, 9505, 9508, 9509, 9510, 9513, 9517, 9518, 9519, 9521, 9522, 9523, 9525, 9528, 9530, 9531, 9534, 9541, 9543, 9546, 9553, 9554, 9557, 9558, 9560, 9561, 9562, 9563, 9564, 9565, 9566, 9568, 9571, 9572, 9576, 9577, 9579, 9580, 9582, 9583, 9585, 9586, 9589, 9590, 9591, 9595, 9596, 9598, 9600, 9601, 9602, 9604, 9607, 9610, 9612, 9616, 9617, 9618, 9619, 9620, 9624, 9628, 9631, 9638, 9639, 9640, 9642, 9643, 9650, 9651, 9659, 9664, 9665, 9670, 9671, 9674, 9675, 9676, 9681, 9684, 9685, 9686, 9687, 9688, 9689, 9692, 9693, 9694, 9696, 9697, 9698, 9699, 9700, 9704, 9706, 9708, 9710, 9712, 9714, 9715, 9716, 9717, 9718, 9720, 9721, 9722, 9736, 9737, 9738, 9739, 9741, 9743, 9745, 9748, 9752, 9755, 9756, 9760, 9761, 9763, 9765, 9766, 9769, 9770, 9771, 9772, 9776, 9778, 9780, 9782, 9783, 9785, 9786, 9787, 9788, 9792, 9796, 9798, 9799, 9802, 9804, 9805, 9807, 9809, 9810, 9811, 9813, 9814, 9816, 9821, 9824, 9827, 9828, 9829, 9830, 9831, 9835, 9839, 9841, 9842, 9843, 9844, 9846, 9847, 9848, 9849, 9850, 9852, 9854, 9858, 9859, 9860, 9862, 9863, 9866, 9869, 9870, 9871, 9872, 9874, 9880, 9881, 9882, 9883, 9885, 9886, 9887, 9888, 9890, 9891, 9892, 9893, 9895, 9896, 9898, 9899, 9903, 9905, 9906, 9907, 9910, 9913, 9914, 9917, 9920, 9923, 9925, 9926, 9928, 9930, 9931, 9932, 9934, 9937, 9938, 9941, 9947, 9949, 9952, 9953, 9954, 9956, 9957, 9963, 9964, 9967, 9968, 9969, 9970, 9974, 9976, 9981, 9983, 9985, 9989, 9991, 9993, 9996, 9998, 10000, 10002, 10003, 10004, 10005, 10007, 10009, 10013, 10014, 10015, 10016, 10017, 10018, 10020, 10022, 10023, 10027, 10030, 10031, 10033, 10034, 10035, 10036, 10038, 10039, 10040, 10042, 10048, 10052, 10053, 10055, 10058, 10059, 10060, 10063, 10064, 10066, 10067, 10069, 10071, 10073, 10074, 10075, 10077, 10078, 10081, 10083, 10088, 10091, 10096, 10101, 10111, 10115, 10116, 10117, 10118, 10119, 10122, 10123, 10125, 10126, 10127, 10129, 10132, 10133, 10135, 10137, 10138, 10141, 10143, 10144, 10145, 10147, 10149, 10151, 10152, 10155, 10156, 10158, 10160, 10161, 10165, 10169, 10171, 10172, 10174, 10179, 10182, 10184, 10185, 10189, 10190, 10191, 10192, 10194, 10196, 10201, 10202, 10203, 10206, 10207, 10209, 10210, 10215, 10216, 10217, 10220, 10224, 10225, 10226, 10228, 10229, 10231, 10232, 10233, 10234, 10235, 10236, 10239, 10240, 10246, 10251, 10253, 10254, 10255, 10256, 10257, 10258, 10259, 10260, 10262, 10264, 10267, 10269, 10272, 10275, 10276, 10277, 10278, 10279, 10283, 10284, 10289, 10294, 10295, 10297, 10298, 10299, 10303, 10304, 10308, 10310, 10311, 10312, 10313, 10316, 10322, 10324, 10325, 10330, 10331, 10332, 10334, 10335, 10339, 10341, 10342, 10344, 10345, 10346, 10348, 10349, 10352, 10353, 10354, 10355, 10357, 10358, 10359, 10364, 10366, 10367, 10370, 10372, 10376, 10377, 10380, 10381, 10386, 10388, 10391, 10392, 10393, 10394, 10396, 10397, 10398, 10399, 10400, 10401, 10402, 10405, 10407, 10409, 10410, 10411, 10413, 10414, 10416, 10420, 10421, 10422, 10423, 10424, 10425, 10427, 10431, 10436, 10438, 10440, 10444, 10446, 10447, 10451, 10453, 10454, 10456, 10457, 10458, 10459, 10460, 10462, 10463, 10464, 10466, 10470, 10471, 10473, 10474, 10475, 10476, 10478, 10479, 10481, 10482, 10487, 10488, 10490, 10491, 10492, 10493, 10497, 10499, 10500, 10502, 10503, 10507, 10508, 10509, 10510, 10511, 10512, 10517, 10519, 10520, 10521, 10525, 10526, 10531, 10533, 10534, 10535, 10537, 10544, 10545, 10548, 10550, 10552, 10553, 10554, 10555, 10558, 10559, 10561, 10562, 10563, 10564, 10565, 10574, 10575, 10576, 10578, 10579, 10581, 10583, 10586, 10587, 10589, 10590, 10591, 10594, 10596, 10598, 10599, 10602, 10605, 10606, 10607, 10608, 10611, 10613, 10614, 10616, 10618, 10620, 10625, 10628, 10630, 10631, 10634, 10635, 10640, 10641, 10645, 10647, 10650, 10652, 10653, 10657, 10658, 10661, 10665, 10667, 10669, 10671, 10675, 10678, 10679, 10685, 10686, 10688, 10690, 10691, 10693, 10694, 10695, 10696, 10697, 10700, 10704, 10705, 10706, 10712, 10713, 10715, 10717, 10722, 10724, 10726, 10727, 10731, 10732, 10734, 10735, 10737, 10739, 10740, 10743, 10744, 10745, 10746, 10748, 10749, 10750, 10751, 10756, 10760, 10761, 10762, 10763, 10764, 10765, 10766, 10767, 10773, 10776, 10777, 10778, 10779, 10781, 10784, 10785, 10787, 10788, 10789, 10790, 10793, 10795, 10796, 10797, 10798, 10800, 10801, 10803, 10804, 10805, 10807, 10808, 10810, 10814, 10817, 10818, 10819, 10820, 10821, 10822, 10823, 10825, 10827, 10829, 10830, 10832, 10834, 10836, 10837, 10841, 10843, 10849, 10850, 10852, 10853, 10855, 10856, 10858, 10861, 10862, 10865, 10866, 10867, 10869, 10872, 10873, 10875, 10877, 10881, 10884, 10885, 10886, 10888, 10889, 10892, 10894, 10899, 10904, 10905, 10906, 10907, 10909, 10910, 10913, 10914, 10919, 10920, 10928, 10930, 10931, 10932, 10933, 10939, 10941, 10942, 10944, 10946, 10948, 10949, 10950, 10952, 10953, 10955, 10958, 10960, 10963, 10964, 10965, 10966, 10970, 10971, 10973, 10974, 10975, 10976, 10979, 10981, 10982, 10983, 10984, 10987, 10990, 10995, 10996, 10997, 10998, 10999, 11001, 11006, 11010, 11012, 11013, 11015, 11016, 11017, 11018, 11019, 11021, 11023, 11025, 11027, 11030, 11032, 11034, 11035, 11037, 11039, 11040, 11041, 11042, 11043, 11047, 11049, 11050, 11052, 11053, 11054, 11056, 11058, 11060, 11061, 11062, 11063, 11064, 11065, 11067, 11068, 11069, 11072, 11074, 11076, 11079, 11080, 11081, 11082, 11083, 11085, 11086, 11087, 11090, 11094, 11096, 11097, 11098, 11100, 11101, 11102, 11104, 11106, 11109, 11113, 11114, 11118, 11120, 11123, 11124, 11125, 11126, 11127, 11128, 11129, 11131, 11133, 11135, 11138, 11139, 11145, 11146, 11150, 11152, 11155, 11156, 11158, 11160, 11161, 11163, 11164, 11166, 11167, 11170, 11173, 11178, 11179, 11180, 11181, 11182, 11186, 11189, 11191, 11192, 11195, 11196, 11197, 11200, 11203, 11204, 11205, 11206, 11207, 11208, 11211, 11213, 11216, 11222, 11223, 11225, 11226, 11227, 11228, 11233, 11234, 11236, 11237, 11238, 11239, 11244, 11246, 11247, 11248, 11251, 11254, 11256, 11257, 11260, 11261, 11262, 11263, 11265, 11267, 11268, 11276, 11280, 11281, 11282, 11283, 11285, 11287, 11291, 11292, 11293, 11295, 11296, 11301, 11304, 11305, 11306, 11311, 11312, 11313, 11317, 11318, 11323, 11324, 11325, 11327, 11329, 11333, 11334, 11337, 11340, 11345, 11348, 11349, 11350, 11355, 11362, 11366, 11368, 11369, 11371, 11372, 11373, 11375, 11376, 11379, 11381, 11382, 11384, 11388, 11391, 11392, 11398, 11399, 11400, 11406, 11408, 11413, 11415, 11419, 11423, 11425, 11431, 11432, 11433, 11435, 11437, 11438, 11439, 11441, 11442, 11444, 11447, 11448, 11453, 11454, 11459, 11460, 11465, 11468, 11469, 11475, 11476, 11477, 11480, 11483, 11486, 11487, 11488, 11490, 11493, 11498, 11500, 11501, 11503, 11505, 11510, 11512, 11513, 11519, 11522, 11524, 11526, 11527, 11530, 11531, 11533, 11534, 11541, 11542, 11543, 11544, 11545, 11546, 11548, 11549, 11554, 11555, 11562, 11564, 11565, 11566, 11576, 11578, 11580, 11581, 11582, 11593, 11595, 11598, 11599, 11600, 11601, 11603, 11604, 11606, 11607, 11608, 11609, 11611, 11612, 11615, 11617, 11619, 11621, 11624, 11625, 11626, 11628, 11629, 11633, 11635, 11636, 11637, 11641, 11643, 11646, 11647, 11651, 11654, 11655, 11657, 11659, 11662, 11663, 11664, 11665, 11666, 11670, 11673, 11677, 11679, 11680, 11685, 11686, 11687, 11690, 11691, 11692, 11695, 11698, 11699, 11701, 11703, 11706, 11707, 11709, 11716, 11717, 11718, 11720, 11722, 11723, 11724, 11727, 11730, 11734, 11736, 11739, 11742, 11745, 11750, 11751, 11752, 11760, 11761, 11762, 11764, 11766, 11767, 11768, 11769, 11775, 11777, 11778, 11779, 11782, 11784, 11785, 11786, 11787, 11789, 11790, 11791, 11793, 11798, 11801, 11804, 11805, 11806, 11810, 11815, 11817, 11818, 11820, 11822, 11823, 11824, 11826, 11828, 11830, 11832, 11837, 11838, 11842, 11846, 11848, 11849, 11850, 11851, 11853, 11855, 11856, 11857, 11859, 11860, 11861, 11862, 11863, 11865, 11866, 11867, 11871, 11872, 11874, 11876, 11877, 11882, 11885, 11886, 11887, 11889, 11890, 11892, 11896, 11897, 11898, 11901, 11903, 11904, 11905, 11906, 11909, 11910, 11914, 11915, 11916, 11918, 11920, 11923, 11925, 11926, 11928, 11929, 11930, 11931, 11932, 11938, 11940, 11942, 11945, 11947, 11950, 11951, 11952, 11954, 11956, 11958, 11959, 11961, 11962, 11963, 11964, 11965, 11966, 11967, 11969, 11970, 11972, 11973, 11975, 11976, 11977, 11978, 11981, 11985, 11986, 11987, 11988, 11989, 11991, 11992, 11996, 11997, 11998, 12000, 12002, 12004, 12006, 12007, 12009, 12011, 12015, 12020, 12021, 12022, 12027, 12028, 12029, 12030, 12032, 12033, 12035, 12036, 12043, 12048, 12050, 12051, 12052, 12054, 12055, 12057, 12060, 12061, 12062, 12063, 12064, 12065, 12066, 12072, 12074, 12075, 12076, 12077, 12079, 12080, 12081, 12083, 12084, 12085, 12092, 12093, 12094, 12096, 12099, 12102, 12103, 12104, 12107, 12109, 12110, 12112, 12113, 12114, 12117, 12121, 12124, 12125, 12129, 12132, 12134, 12136, 12137, 12139, 12140, 12142, 12145, 12149, 12150, 12153, 12157, 12163, 12167, 12170, 12171, 12173, 12175, 12178, 12179, 12181, 12183, 12184, 12191, 12192, 12194, 12195, 12196, 12198, 12201, 12202, 12204, 12205, 12209, 12211, 12213, 12214, 12215, 12216, 12217, 12218, 12220, 12222, 12223, 12225, 12228, 12229, 12231, 12234, 12236, 12237, 12239, 12240, 12242, 12244, 12245, 12247, 12248, 12249, 12250, 12251, 12252, 12253, 12256, 12258, 12259, 12260, 12261, 12262, 12264, 12266, 12267, 12268, 12271, 12273, 12274, 12275, 12277, 12281, 12284, 12286, 12288, 12293, 12295, 12297, 12299, 12301, 12304, 12305, 12310, 12311, 12313, 12314, 12315, 12316, 12319, 12321, 12322, 12324, 12327, 12330, 12333, 12334, 12335, 12336, 12338, 12347, 12348, 12351, 12356, 12357, 12359, 12360, 12361, 12366, 12367, 12369, 12370, 12371, 12372, 12378, 12380, 12381, 12382, 12384, 12387, 12388, 12390, 12391, 12392, 12394, 12395, 12399, 12401, 12403, 12404, 12405, 12407, 12410, 12411, 12412, 12413, 12414, 12417, 12418, 12421, 12424, 12425, 12426, 12427, 12429, 12433, 12435, 12437, 12438, 12439, 12442, 12447, 12448, 12451, 12453, 12454, 12456, 12457, 12458, 12459, 12461, 12462, 12464, 12465, 12466, 12467, 12468, 12469, 12470, 12471, 12473, 12475, 12477, 12478, 12479, 12480, 12481, 12486, 12487, 12488, 12490, 12491, 12492, 12493, 12497, 12499, 12503, 12506, 12508, 12510, 12511, 12513, 12519, 12523, 12526, 12527, 12531, 12532, 12533, 12534, 12535, 12536, 12537, 12541, 12543, 12544, 12545, 12546, 12547, 12549, 12552, 12553, 12554, 12556, 12558, 12563, 12569, 12571, 12572, 12574, 12575, 12578, 12581, 12587, 12588, 12589, 12590, 12597, 12598, 12599, 12600, 12601, 12602, 12603, 12607, 12608, 12609, 12610, 12613, 12616, 12618, 12620, 12621, 12622, 12623, 12626, 12627, 12629, 12634, 12636, 12641, 12643, 12647, 12648, 12649, 12651, 12655, 12658, 12659, 12660, 12662, 12665, 12666, 12667, 12670, 12673, 12675, 12676, 12677, 12680, 12687, 12689, 12690, 12695, 12696, 12697, 12698, 12700, 12702, 12703, 12704, 12706, 12707, 12708, 12710, 12711, 12715, 12720, 12721, 12722, 12723, 12724, 12726, 12728, 12729, 12731, 12732, 12734, 12735, 12736, 12739, 12741, 12742, 12746, 12747, 12748, 12751, 12753, 12754, 12756, 12758, 12759, 12762, 12763, 12764, 12765, 12770, 12775, 12776, 12777, 12783, 12787, 12792, 12794, 12795, 12799, 12800, 12803, 12806, 12809, 12811, 12813, 12814, 12818, 12820, 12821, 12822, 12823, 12824, 12825, 12830, 12833, 12834, 12835, 12836, 12838, 12839, 12840, 12841, 12843, 12844, 12845, 12846, 12847, 12851, 12852, 12853, 12856, 12857, 12858, 12860, 12862, 12863, 12864, 12865, 12866, 12868, 12869, 12871, 12873, 12875, 12878, 12879, 12880, 12884, 12885, 12886, 12887, 12890, 12894, 12896, 12898, 12899, 12900, 12902, 12904, 12906, 12907, 12911, 12912, 12913, 12915, 12916, 12920, 12922, 12923, 12924, 12926, 12929, 12931, 12932, 12933, 12935, 12937, 12938, 12941, 12943, 12944, 12945, 12946, 12949, 12951, 12952, 12953, 12954, 12956, 12959, 12960, 12961, 12962, 12964, 12965, 12966, 12968, 12970, 12977, 12979, 12981, 12982, 12989, 12993, 12994, 12995, 12998, 12999, 13004, 13005, 13007, 13009, 13014, 13015, 13016, 13020, 13021, 13023, 13025, 13026, 13028, 13029, 13031, 13032, 13033, 13034, 13037, 13038, 13039, 13040, 13041, 13042, 13043, 13048, 13051, 13053, 13054, 13056, 13064, 13067, 13069, 13071, 13074, 13075, 13076, 13083, 13084, 13087, 13091, 13092, 13093, 13094, 13097, 13099, 13100, 13106, 13107, 13108, 13109, 13110, 13111, 13114, 13118, 13119, 13124, 13130, 13131, 13137, 13138, 13139, 13140, 13142, 13143, 13146, 13148, 13150, 13151, 13152, 13154, 13155, 13157, 13160, 13161, 13165, 13166, 13168, 13169, 13171, 13173, 13174, 13175, 13176, 13177, 13180, 13182, 13185, 13187, 13188, 13190, 13192, 13193, 13197, 13198, 13201, 13202, 13203, 13204, 13205, 13207, 13210, 13212, 13213, 13215, 13216, 13217, 13219, 13220, 13223, 13224, 13226, 13227, 13229, 13230, 13231, 13232, 13234, 13239, 13240, 13241, 13243, 13245, 13247, 13248, 13250, 13252, 13254, 13256, 13257, 13258, 13259, 13260, 13265, 13267, 13269, 13270, 13271, 13272, 13273, 13274, 13276, 13279, 13280, 13282, 13285, 13287, 13289, 13290, 13291, 13295, 13296, 13298, 13300, 13303, 13304, 13308, 13309, 13313, 13314, 13315, 13316, 13318, 13322, 13323, 13324, 13325, 13328, 13331, 13335, 13339, 13340, 13342, 13346, 13347, 13350, 13351, 13355, 13357, 13358, 13361, 13362, 13363, 13364, 13366, 13369, 13373, 13375, 13377, 13378, 13379, 13381, 13382, 13384, 13389, 13392, 13393, 13396, 13397, 13399, 13400, 13402, 13403, 13404, 13405, 13408, 13413, 13414, 13417, 13418, 13419, 13421, 13422, 13425, 13428, 13429, 13435, 13436, 13437, 13438, 13440, 13441, 13443, 13445, 13447, 13452, 13458, 13459, 13460, 13462, 13463, 13468, 13470, 13476, 13477, 13480, 13481, 13482, 13485, 13489, 13492, 13493, 13495, 13496, 13500, 13501, 13502, 13503, 13504, 13506, 13507, 13510, 13511, 13514, 13515, 13517, 13518, 13523, 13526, 13528, 13529, 13531, 13532, 13536, 13538, 13539, 13544, 13545, 13546, 13547, 13548, 13549, 13550, 13555, 13556, 13559, 13560, 13561, 13565, 13566, 13568, 13570, 13573, 13576, 13577, 13578, 13579, 13582, 13583, 13584, 13586, 13587, 13602, 13603, 13605, 13606, 13611, 13612, 13615, 13617, 13620, 13624, 13625, 13626, 13628, 13631, 13635, 13636, 13638, 13642, 13643, 13645, 13646, 13648, 13649, 13650, 13654, 13658, 13660, 13666, 13670, 13672, 13678, 13680, 13682, 13683, 13685, 13686, 13688, 13690, 13693, 13696, 13697, 13699, 13702, 13705, 13710, 13711, 13714, 13715, 13718, 13719, 13720, 13722, 13723, 13725, 13727, 13731, 13734, 13735, 13737, 13738, 13740, 13741, 13742, 13743, 13744, 13745, 13746, 13747, 13751, 13753, 13754, 13756, 13760, 13762, 13763, 13765, 13767, 13768, 13775, 13778, 13779, 13781, 13784, 13785, 13786, 13789, 13790, 13791, 13795, 13796, 13798, 13799, 13802, 13803, 13804, 13806, 13808, 13810, 13814, 13817, 13818, 13820, 13822, 13823, 13824, 13826, 13828, 13829, 13830, 13833, 13835, 13836, 13840, 13841, 13843, 13845, 13848, 13850, 13851, 13852, 13854, 13855, 13857, 13859, 13861, 13862, 13863, 13864, 13867, 13868, 13873, 13874, 13875, 13876, 13877, 13878, 13879, 13884, 13891, 13892, 13894, 13896, 13897, 13898, 13899, 13900, 13902, 13906, 13907, 13911, 13912, 13913, 13914, 13918, 13920, 13922, 13923, 13924, 13925, 13927, 13928, 13929, 13931, 13932, 13933, 13934, 13935, 13938, 13940, 13941, 13944, 13945, 13946, 13949, 13950, 13954, 13956, 13957, 13958, 13960, 13961, 13962, 13963, 13964, 13965, 13967, 13968, 13971, 13973, 13974, 13976, 13977, 13978, 13979, 13985, 13994, 13995, 13996, 13997, 13999, 14000, 14001, 14002, 14005, 14006, 14010, 14011, 14016, 14017, 14019, 14022, 14026, 14027, 14029, 14032, 14034, 14035, 14037, 14039, 14042, 14043, 14044, 14045, 14048, 14050, 14051, 14055, 14056, 14061, 14064, 14065, 14066, 14067, 14068, 14070, 14071, 14072, 14076, 14078, 14079, 14082, 14083, 14088, 14090, 14092, 14093, 14095, 14097, 14098, 14100, 14107, 14108, 14109, 14112, 14114, 14115, 14116, 14117, 14118, 14120, 14122, 14123, 14127, 14128, 14131, 14133, 14134, 14137, 14139, 14140, 14141, 14142, 14143, 14147, 14148, 14150, 14158, 14159, 14161, 14162, 14163, 14169, 14170, 14171, 14173, 14175, 14176, 14177, 14180, 14181, 14182, 14183, 14184, 14185, 14186, 14187, 14189, 14191, 14193, 14194, 14196, 14197, 14200, 14203, 14204, 14207, 14213, 14214, 14216, 14217, 14219, 14222, 14224, 14225, 14226, 14228, 14232, 14233, 14239, 14240, 14242, 14244, 14246, 14249, 14251, 14252, 14257, 14259, 14262, 14263, 14264, 14265, 14266, 14272, 14273, 14277, 14279, 14280, 14283, 14286, 14287, 14288, 14292, 14295, 14298, 14299, 14301, 14303, 14304, 14305, 14310, 14312, 14315, 14317, 14319, 14320, 14321, 14323, 14328, 14329, 14332, 14334, 14336, 14339, 14341, 14343, 14349, 14350, 14352, 14353, 14354, 14359, 14360, 14361, 14362, 14363, 14369, 14373, 14374, 14375, 14376, 14379, 14380, 14381, 14382, 14384, 14387, 14389, 14390, 14393, 14394, 14395, 14396, 14397, 14400, 14401, 14402, 14404, 14405, 14406, 14407, 14408, 14412, 14414, 14415, 14419, 14422, 14424, 14425, 14429, 14435, 14437, 14438, 14440, 14447, 14450, 14451, 14452, 14455, 14457, 14464, 14466, 14468, 14469, 14473, 14474, 14477, 14479, 14486, 14488, 14489, 14492, 14493, 14494, 14495, 14497, 14499, 14500, 14502, 14503, 14504, 14505, 14507, 14511, 14513, 14515, 14516, 14519, 14524, 14525, 14528, 14532, 14533, 14534, 14535, 14536, 14538, 14541, 14544, 14545, 14546, 14548, 14550, 14551, 14552, 14556, 14557, 14559, 14560, 14562, 14563, 14565, 14566, 14567, 14568, 14569, 14570, 14571, 14573, 14574, 14576, 14577, 14579, 14583, 14584, 14593, 14596, 14600, 14601, 14603, 14604, 14607, 14610, 14612, 14615, 14616, 14617, 14621, 14622, 14625, 14629, 14631, 14632, 14637, 14638, 14642, 14643, 14644, 14645, 14646, 14647, 14650, 14653, 14654, 14656, 14661, 14665, 14667, 14668, 14670, 14671, 14672, 14675, 14676, 14677, 14679, 14681, 14682, 14684, 14688, 14689, 14690, 14691, 14692, 14695, 14697, 14700, 14701, 14702, 14703, 14704, 14705, 14706, 14708, 14710, 14715, 14716, 14719, 14722, 14724, 14727, 14731, 14735, 14737, 14739, 14741, 14742, 14743, 14744, 14745, 14747, 14748, 14749, 14752, 14753, 14757, 14758, 14760, 14761, 14763, 14765, 14769, 14770, 14771, 14774, 14775, 14776, 14778, 14779, 14781, 14782, 14783, 14786, 14789, 14792, 14796, 14797, 14801, 14802, 14803, 14807, 14808, 14809, 14810, 14812, 14813, 14816, 14818, 14821, 14822, 14824, 14826, 14827, 14829, 14830, 14833, 14835, 14836, 14837, 14838, 14840, 14842, 14843, 14844, 14845, 14846, 14847, 14849, 14854, 14858, 14862, 14864, 14865, 14867, 14869, 14870, 14871, 14873, 14877, 14881, 14882, 14885, 14886, 14891, 14895, 14896, 14897, 14898, 14901, 14902, 14906, 14907, 14909, 14912, 14914, 14918, 14920, 14921, 14922, 14924, 14925, 14926, 14928, 14930, 14931, 14932, 14934, 14936, 14939, 14941, 14942, 14944, 14946, 14948, 14950, 14951, 14953, 14955, 14956, 14958, 14961, 14963, 14966, 14967, 14969, 14972, 14975, 14976, 14980, 14981, 14984, 14985, 14987, 14989, 14990, 14992, 14996, 14997, 14998, 15000, 15001, 15005, 15006, 15008, 15019, 15020, 15021, 15024, 15025, 15032, 15033, 15034, 15035, 15036, 15041, 15042, 15045, 15046, 15047, 15049, 15053, 15054, 15055, 15056, 15062, 15065, 15068, 15069, 15073, 15076, 15080, 15083, 15084, 15085, 15088, 15093, 15098, 15099, 15100, 15101, 15104, 15105, 15106, 15107, 15108, 15115, 15118, 15120, 15121, 15124, 15126, 15128, 15129, 15130, 15131, 15132, 15135, 15138, 15139, 15140, 15141, 15145, 15146, 15150, 15152, 15153, 15155, 15159, 15160, 15162, 15165, 15166, 15171, 15174, 15175, 15179, 15182, 15188, 15189, 15190, 15192, 15193, 15195, 15197, 15198, 15204, 15208, 15210, 15211, 15214, 15215, 15218, 15219, 15220, 15223, 15225, 15228, 15230, 15231, 15232, 15233, 15234, 15236, 15237, 15238, 15239, 15242, 15245, 15249, 15254, 15255, 15258, 15259, 15260, 15262, 15263, 15265, 15267, 15269, 15271, 15274, 15276, 15277, 15282, 15284, 15285, 15292, 15293, 15296, 15299, 15300, 15302, 15305, 15307, 15310, 15311, 15313, 15317, 15318, 15319, 15321, 15322, 15324, 15325, 15326, 15327, 15330, 15332, 15333, 15335, 15336, 15340, 15342, 15344, 15346, 15354, 15358, 15360, 15363, 15364, 15365, 15370, 15372, 15373, 15374, 15375, 15379, 15381, 15386, 15387, 15388, 15390, 15391, 15393, 15395, 15397, 15402, 15403, 15405, 15408, 15409, 15413, 15414, 15417, 15418, 15421, 15424, 15426, 15427, 15430, 15434, 15436, 15438, 15440, 15441, 15443, 15445, 15448, 15450, 15453, 15454, 15458, 15459, 15460, 15461, 15462, 15463, 15467, 15468, 15469, 15470, 15471, 15472, 15475, 15476, 15478, 15479, 15480, 15483, 15486, 15490, 15493, 15495, 15496, 15497, 15498, 15501, 15503, 15504, 15507, 15508, 15511, 15514, 15516, 15518, 15522, 15523, 15524, 15525, 15526, 15527, 15528, 15530, 15531, 15534, 15535, 15538, 15539, 15540, 15544, 15545, 15546, 15549, 15550, 15552, 15555, 15560, 15572, 15573, 15574, 15575, 15578, 15579, 15580, 15583, 15584, 15586, 15588, 15589, 15590, 15592, 15595, 15596, 15597, 15601, 15602, 15603, 15604, 15606, 15608, 15611, 15612, 15615, 15617, 15619, 15622, 15626, 15630, 15633, 15636, 15637, 15638, 15639, 15640, 15643, 15644, 15645, 15646, 15647, 15648, 15651, 15654, 15656, 15657, 15658, 15659, 15660, 15661, 15666, 15669, 15672, 15674, 15676, 15681, 15682, 15683, 15684, 15691, 15692, 15693, 15694, 15698, 15699, 15702, 15703, 15704, 15706, 15707, 15712, 15714, 15715, 15716, 15717, 15718, 15720, 15721, 15723, 15725, 15729, 15731, 15732, 15734, 15742, 15749, 15750, 15751, 15753, 15754, 15755, 15757, 15761, 15766, 15767, 15768, 15770, 15771, 15772, 15773, 15776, 15784, 15791, 15792, 15794, 15795, 15797, 15800, 15810, 15812, 15817, 15819, 15821, 15822, 15826, 15828, 15830, 15831, 15834, 15836, 15838, 15839, 15841, 15843, 15844, 15845, 15846, 15850, 15852, 15853, 15854, 15855, 15857, 15858, 15860, 15863, 15865, 15866, 15867, 15868, 15872, 15874, 15875, 15876, 15878, 15879, 15881, 15887, 15888, 15891, 15894, 15896, 15897, 15898, 15899, 15900, 15904, 15905, 15908, 15909, 15913, 15914, 15915, 15920, 15927, 15929, 15932, 15934, 15937, 15941, 15942, 15943, 15945, 15946, 15948, 15951, 15956, 15959, 15960, 15962, 15965, 15966, 15967, 15969, 15971, 15974, 15975, 15977, 15978, 15980, 15982, 15985, 15986, 15987, 15992, 15993, 15995, 15997, 16001, 16002, 16003, 16004, 16008, 16009, 16011, 16013, 16014, 16019, 16022, 16025, 16026, 16029, 16030, 16031, 16032, 16034, 16039, 16041, 16043, 16045, 16048, 16050, 16051, 16053, 16054, 16056, 16058, 16061, 16062, 16063, 16064, 16065, 16069, 16073, 16076, 16077, 16078, 16079, 16080, 16081, 16083, 16084, 16090, 16094, 16095, 16096, 16097, 16101, 16103, 16105, 16106, 16108, 16110, 16111, 16113, 16114, 16119, 16123, 16124, 16127, 16129, 16130, 16131, 16132, 16133, 16134, 16136, 16138, 16139, 16140, 16142, 16144, 16150, 16151, 16152, 16153, 16154, 16156, 16157, 16158, 16161, 16162, 16164, 16165, 16167, 16169, 16172, 16173, 16174, 16175, 16177, 16180, 16184, 16186, 16189, 16190, 16191, 16195, 16196, 16198, 16199, 16200, 16201, 16204, 16205, 16209, 16213, 16216, 16219, 16221, 16224, 16226, 16227, 16229, 16231, 16232, 16234, 16235, 16238, 16241, 16242, 16244, 16248, 16251, 16252, 16257, 16259, 16261, 16267, 16268, 16274, 16275, 16277, 16281, 16283, 16284, 16286, 16288, 16292, 16293, 16295, 16298, 16301, 16304, 16306, 16308, 16309, 16311, 16317, 16320, 16321, 16323, 16325, 16326, 16328, 16329, 16331, 16332, 16333, 16334, 16336, 16337, 16340, 16341, 16343, 16344, 16345, 16348, 16352, 16354, 16355, 16356, 16358, 16361, 16367, 16371, 16377, 16380, 16381, 16382, 16385, 16386, 16387, 16389, 16392, 16393, 16395, 16396, 16397, 16398, 16399, 16402, 16403, 16404, 16407, 16408, 16409, 16410, 16411, 16415, 16416, 16419, 16420, 16425, 16426, 16428, 16430, 16431, 16432, 16433, 16435, 16436, 16437, 16438, 16439, 16440, 16441, 16447, 16449, 16452, 16460, 16461, 16462, 16463, 16464, 16466, 16471, 16479, 16484, 16486, 16488, 16491, 16492, 16494, 16495, 16496, 16497, 16499, 16503, 16505, 16506, 16508, 16510, 16512, 16515, 16517, 16518, 16519, 16521, 16523, 16524, 16526, 16527, 16529, 16530, 16536, 16537, 16539, 16540, 16541, 16545, 16549, 16550, 16552, 16553, 16554, 16557, 16559, 16562, 16568, 16570, 16572, 16573, 16574, 16575, 16576, 16578, 16579, 16580, 16582, 16584, 16586, 16589, 16591, 16592, 16593, 16596, 16598, 16600, 16601, 16602, 16603, 16604, 16606, 16612, 16614, 16615, 16616, 16617, 16618, 16620, 16626, 16627, 16629, 16630, 16631, 16633, 16634, 16637, 16639, 16640, 16641, 16645, 16646, 16647, 16649, 16653, 16655, 16657, 16658, 16661, 16662, 16666, 16669, 16670, 16671, 16675, 16680, 16682, 16684, 16685, 16686, 16690, 16691, 16692, 16693, 16695, 16703, 16704, 16705, 16707, 16710, 16711, 16712, 16713, 16719, 16723, 16724, 16726, 16727, 16732, 16734, 16735, 16737, 16743, 16744, 16747, 16748, 16749, 16751, 16752, 16755, 16756, 16757, 16761, 16763, 16765, 16767, 16768, 16769, 16770, 16774, 16776, 16781, 16783, 16784, 16785, 16787, 16790, 16791, 16792, 16793, 16795, 16798, 16799, 16800, 16801, 16802, 16803, 16804, 16807, 16809, 16811, 16812, 16815, 16816, 16817, 16820, 16822, 16823, 16824, 16825, 16827, 16828, 16829, 16831, 16832, 16837, 16839, 16840, 16842, 16843, 16844, 16845, 16846, 16847, 16848, 16850, 16851, 16853, 16854, 16855, 16858, 16859, 16866, 16868, 16871, 16872, 16875, 16877, 16879, 16880, 16881, 16883, 16887, 16889, 16893, 16894, 16897, 16898, 16899, 16901, 16903, 16904, 16905, 16906, 16908, 16912, 16914, 16919, 16925, 16926, 16928, 16932, 16933, 16937, 16938, 16941, 16942, 16946, 16947, 16950, 16952, 16955, 16956, 16958, 16959, 16963, 16964, 16967, 16971, 16972, 16975, 16977, 16979, 16980, 16981, 16982, 16983, 16985, 16987, 16991, 16994, 16996, 16997, 16998, 17001, 17002, 17004, 17008, 17009, 17012, 17014, 17018, 17021, 17022, 17024, 17025, 17029, 17030, 17031, 17032, 17034, 17035, 17038, 17040, 17041, 17042, 17043, 17044, 17045, 17046, 17049, 17051, 17052, 17053, 17054, 17055, 17057, 17058, 17063, 17064, 17065, 17066, 17067, 17068, 17069, 17070, 17071, 17074, 17076, 17078, 17079, 17082, 17086, 17088, 17089, 17098, 17100, 17102, 17103, 17106, 17107, 17108, 17109, 17111, 17112, 17114, 17117, 17119, 17121, 17123, 17125, 17128, 17130, 17131, 17132, 17135, 17140, 17141, 17142, 17144, 17150, 17151, 17153, 17154, 17157, 17158, 17161, 17162, 17165, 17167, 17168, 17174, 17175, 17176, 17178, 17179, 17181, 17184, 17187, 17195, 17196, 17199, 17203, 17205, 17206, 17207, 17208, 17210, 17211, 17214, 17216, 17219, 17220, 17222, 17224, 17227, 17228, 17230, 17233, 17235, 17241, 17242, 17246, 17250, 17252, 17253, 17254, 17255, 17257, 17260, 17262, 17263, 17264, 17267, 17269, 17273, 17274, 17277, 17278, 17280, 17282, 17285, 17287, 17289, 17290, 17293, 17294, 17296, 17299, 17301, 17307, 17308, 17309, 17311, 17316, 17317, 17319, 17320, 17321, 17327, 17329, 17330, 17331, 17332, 17334, 17339, 17340, 17341, 17350, 17351, 17353, 17354, 17356, 17361, 17363, 17365, 17367, 17370, 17371, 17372, 17373, 17374, 17375, 17376, 17377, 17379, 17382, 17383, 17384, 17385, 17387, 17388, 17389, 17390, 17392, 17394, 17395, 17396, 17398, 17399, 17400, 17401, 17403, 17404, 17405, 17407, 17408, 17410, 17412, 17415, 17416, 17419, 17421, 17422, 17423, 17425, 17426, 17428, 17429, 17431, 17432, 17433, 17434, 17436, 17438, 17441, 17442, 17443, 17445, 17447, 17448, 17452, 17456, 17461, 17462, 17463, 17464, 17465, 17466, 17467, 17471, 17473, 17474, 17475, 17478, 17480, 17483, 17484, 17485, 17487, 17488, 17491, 17492, 17493, 17497, 17500, 17503, 17507, 17508, 17509, 17510, 17514, 17515, 17517, 17519, 17521, 17522, 17525, 17526, 17527, 17528, 17529, 17530, 17531, 17533, 17535, 17538, 17539, 17540, 17544, 17546, 17547, 17548, 17551, 17552, 17555, 17558, 17559, 17563, 17565, 17568, 17571, 17572, 17573, 17574, 17576, 17577, 17580, 17581, 17583, 17585, 17588, 17590, 17591, 17592, 17594, 17596, 17598, 17599, 17602, 17604, 17605, 17609, 17610, 17614, 17615, 17617, 17618, 17619, 17625, 17630, 17631, 17636, 17638, 17641, 17646, 17648, 17650, 17651, 17652, 17656, 17659, 17662, 17664, 17665, 17672, 17678, 17681, 17685, 17689, 17692, 17693, 17696, 17697, 17698, 17701, 17702, 17705, 17708, 17709, 17712, 17713, 17715, 17722, 17724, 17725, 17726, 17733, 17736, 17737, 17741, 17744, 17745, 17746, 17748, 17749, 17750, 17751, 17757, 17759, 17760, 17762, 17772, 17774, 17775, 17778, 17782, 17785, 17788, 17790, 17791, 17792, 17793, 17797, 17799, 17801, 17802, 17803, 17804, 17805, 17806, 17810, 17817, 17819, 17821, 17823, 17825, 17827, 17828, 17829, 17834, 17836, 17838, 17839, 17843, 17844, 17847, 17850, 17851, 17852, 17856, 17857, 17858, 17860, 17861, 17863, 17866, 17867, 17869, 17870, 17871, 17872, 17873, 17877, 17878, 17880, 17884, 17888, 17889, 17890, 17891, 17895, 17896, 17898, 17899, 17900, 17901, 17902, 17906, 17909, 17910, 17912, 17915, 17917, 17920, 17922, 17923, 17924, 17925, 17926, 17927, 17932, 17933, 17934, 17935, 17939, 17940, 17942, 17944, 17945, 17948, 17949, 17950, 17953, 17954, 17955, 17956, 17957, 17959, 17966, 17968, 17971, 17972, 17976, 17978, 17980, 17981, 17983, 17988, 17990, 17995, 17997, 17999, 18000, 18001, 18003, 18005, 18006, 18009, 18010, 18011, 18012, 18014, 18017, 18021, 18022, 18023, 18031, 18033, 18035, 18037, 18041, 18042, 18047, 18048, 18050, 18052, 18053, 18058, 18061, 18064, 18065, 18066, 18067, 18068, 18070, 18072, 18075, 18076, 18077, 18078, 18079, 18081, 18082, 18083, 18085, 18090, 18093, 18094, 18098, 18099, 18101, 18104, 18105, 18107, 18108, 18115, 18116, 18119, 18120, 18124, 18125, 18126, 18129, 18130, 18133, 18135, 18141, 18144, 18147, 18148, 18154, 18155, 18157, 18158, 18160, 18162, 18164, 18165, 18169, 18171, 18174, 18175, 18177, 18181, 18182, 18186, 18187, 18188, 18192, 18195, 18196, 18197, 18198, 18199, 18202, 18206, 18207, 18208, 18210, 18211, 18213, 18214, 18218, 18221, 18223, 18224, 18226, 18230, 18231, 18232, 18233, 18235, 18236, 18237, 18239, 18240, 18244, 18246, 18247, 18248, 18250, 18251, 18252, 18253, 18254, 18255, 18257, 18259, 18262, 18263, 18264, 18267, 18270, 18272, 18274, 18279, 18280, 18281, 18283, 18285, 18286, 18290, 18292, 18298, 18299, 18301, 18305, 18306, 18309, 18314, 18316, 18317, 18321, 18322, 18327, 18328, 18331, 18332, 18333, 18338, 18340, 18344, 18345, 18346, 18347, 18349, 18350, 18351, 18352, 18356, 18360, 18364, 18365, 18369, 18371, 18372, 18374, 18375, 18376, 18377, 18379, 18380, 18383, 18384, 18388, 18390, 18391, 18393, 18395, 18396, 18397, 18399, 18402, 18405, 18409, 18412, 18415, 18418, 18420, 18423, 18424, 18432, 18435, 18437, 18438, 18440, 18444, 18445, 18448, 18450, 18452, 18453, 18454, 18455, 18459, 18460, 18461, 18468, 18470, 18472, 18474, 18475, 18476, 18478, 18479, 18482, 18487, 18488, 18493, 18494, 18495, 18497, 18499, 18503, 18504, 18506, 18507, 18509, 18510, 18514, 18515, 18517, 18519, 18522, 18523, 18526, 18527, 18530, 18531, 18532, 18533, 18534, 18536, 18539, 18541, 18543, 18545, 18547, 18549, 18550, 18551, 18553, 18554, 18555, 18556, 18559, 18560, 18562, 18565, 18566, 18567, 18569, 18571, 18577, 18581, 18583, 18584, 18586, 18587, 18588, 18589, 18591, 18592, 18594, 18596, 18598, 18599, 18602, 18605, 18607, 18610, 18611, 18615, 18616, 18618, 18624, 18626, 18629, 18630, 18633, 18635, 18638, 18640, 18642, 18643, 18644, 18646, 18648, 18650, 18651, 18655, 18658, 18659, 18660, 18662, 18663, 18664, 18666, 18668, 18669, 18670, 18671, 18674, 18675, 18676, 18677, 18679, 18684, 18685, 18686, 18687, 18691, 18694, 18696, 18699, 18701, 18703, 18707, 18709, 18710, 18712, 18713, 18714, 18717, 18718, 18723, 18726, 18728, 18730, 18737, 18738, 18740, 18741, 18742, 18749, 18752, 18754, 18757, 18758, 18760, 18763, 18767, 18768, 18771, 18772, 18773, 18778, 18779, 18780, 18781, 18784, 18786, 18787, 18794, 18796, 18801, 18802, 18803, 18804, 18807, 18812, 18813, 18815, 18817, 18818, 18820, 18828, 18829, 18833, 18834, 18836, 18837, 18840, 18841, 18844, 18848, 18850, 18851, 18855, 18857, 18859, 18860, 18864, 18868, 18869, 18870, 18871, 18872, 18873, 18874, 18875, 18877, 18878, 18879, 18880, 18882, 18883, 18884, 18885, 18892, 18893, 18896, 18897, 18904, 18905, 18906, 18907, 18908, 18913, 18914, 18915, 18916, 18917, 18918, 18919, 18922, 18924, 18925, 18926, 18929, 18934, 18935, 18937, 18938, 18943, 18944, 18946, 18947, 18951, 18952, 18954, 18959, 18960, 18961, 18962, 18963, 18965, 18967, 18968, 18969, 18973, 18976, 18978, 18979, 18980, 18981, 18982, 18983, 18985, 18991, 18992, 18995, 18996, 19001, 19002, 19003, 19004, 19005, 19006, 19007, 19012, 19014, 19018, 19020, 19021, 19023, 19024, 19029, 19032, 19033, 19035, 19036, 19039, 19042, 19043, 19044, 19047, 19049, 19053, 19054, 19055, 19056, 19058, 19059, 19060, 19061, 19062, 19064, 19065, 19066, 19067, 19069, 19071, 19075, 19076, 19080, 19081, 19082, 19092, 19093, 19094, 19097, 19098, 19100, 19101, 19103, 19104, 19106, 19108, 19111, 19112, 19114, 19115, 19119, 19120, 19123, 19125, 19130, 19131, 19136, 19139, 19141, 19142, 19143, 19145, 19146, 19150, 19152, 19153, 19155, 19156, 19157, 19158, 19160, 19164, 19167, 19169, 19171, 19174, 19177, 19181, 19185, 19186, 19188, 19189, 19190, 19193, 19197, 19199, 19202, 19203, 19205, 19207, 19208, 19209, 19213, 19215, 19216, 19218, 19220, 19224, 19225, 19226, 19229, 19231, 19232, 19235, 19237, 19240, 19241, 19242, 19244, 19249, 19253, 19254, 19255, 19259, 19262, 19263, 19266, 19268, 19270, 19275, 19277, 19279, 19281, 19282, 19284, 19285, 19286, 19287, 19288, 19289, 19290, 19291, 19296, 19297, 19298, 19301, 19303, 19306, 19308, 19309, 19312, 19318, 19319, 19322, 19323, 19325, 19330, 19331, 19334, 19335, 19339, 19340, 19342, 19343, 19346, 19350, 19352, 19354, 19356, 19358, 19361, 19362, 19363, 19365, 19368, 19370, 19372, 19375, 19377, 19378, 19380, 19384, 19385, 19386, 19387, 19389, 19390, 19392, 19394, 19396, 19399, 19401, 19402, 19403, 19405, 19406, 19407, 19408, 19409, 19412, 19413, 19418, 19423, 19427, 19428, 19430, 19432, 19433, 19434, 19436, 19444, 19445, 19449, 19450, 19451, 19453, 19454, 19455, 19462, 19467, 19469, 19472, 19473, 19474, 19475, 19479, 19480, 19482, 19484, 19485, 19487, 19489, 19491, 19496, 19498, 19500, 19501, 19502, 19507, 19508, 19510, 19512, 19513, 19515, 19517, 19518, 19520, 19522, 19523, 19526, 19528, 19532, 19534, 19537, 19538, 19540, 19546, 19549, 19550, 19551, 19553, 19556, 19559, 19561, 19562, 19563, 19564, 19565, 19567, 19570, 19571, 19576, 19579, 19581, 19582, 19583, 19584, 19588, 19592, 19593, 19594, 19595, 19596, 19597, 19599, 19600, 19604, 19605, 19607, 19611, 19615, 19616, 19618, 19621, 19623, 19625, 19627, 19628, 19630, 19634, 19636, 19637, 19640, 19642, 19643, 19644, 19647, 19648, 19655, 19659, 19664, 19665, 19666, 19667, 19671, 19672, 19674, 19675, 19676, 19680, 19684, 19685, 19686, 19687, 19692, 19694, 19696, 19697, 19698, 19702, 19703, 19704, 19705, 19708, 19710, 19715, 19716, 19717, 19719, 19721, 19722, 19726, 19727, 19728, 19729, 19730, 19731, 19732, 19737, 19738, 19739, 19740, 19743, 19744, 19747, 19748, 19749, 19750, 19754, 19757, 19761, 19762, 19763, 19765, 19768, 19769, 19770, 19771, 19773, 19774, 19775, 19776, 19777, 19779, 19784, 19785, 19787, 19790, 19792, 19794, 19796, 19797, 19798, 19802, 19804, 19805, 19807, 19810, 19814, 19815, 19819, 19823, 19826, 19827, 19828, 19829, 19835, 19839, 19840, 19841, 19843, 19848, 19851, 19852, 19853, 19857, 19858, 19860, 19863, 19865, 19868, 19871, 19872, 19874, 19875, 19879, 19882, 19884, 19886, 19887, 19889, 19891, 19892, 19895, 19896, 19898, 19900, 19902, 19903, 19904, 19905, 19907, 19908, 19909, 19911, 19912, 19913, 19914, 19915, 19916, 19917, 19918, 19919, 19923, 19924, 19925, 19927, 19928, 19930, 19936, 19937, 19938, 19939, 19942, 19949, 19951, 19952, 19957, 19958, 19959, 19960, 19961, 19962, 19963, 19964, 19969, 19972, 19974, 19979, 19982, 19984, 19985, 19988, 19989, 19990, 19991, 19994, 19995, 19999, 20000, 20002, 20003, 20006, 20008, 20013, 20014, 20016, 20017, 20018, 20019, 20022, 20023, 20024, 20026, 20028, 20029, 20035, 20037, 20038, 20040, 20043, 20045, 20046, 20047, 20048, 20049, 20052, 20055, 20057, 20058, 20059, 20060, 20065, 20067, 20069, 20073, 20074, 20076, 20077, 20079, 20080, 20082, 20083, 20084, 20085, 20087, 20088, 20091, 20092, 20094, 20096, 20099, 20101, 20106, 20111, 20113, 20114, 20116, 20120, 20123, 20124, 20127, 20128, 20129, 20132, 20133, 20135, 20136, 20138, 20139, 20142, 20144, 20145, 20146, 20148, 20149, 20156, 20158, 20159, 20160, 20165, 20170, 20171, 20173, 20176, 20177, 20179, 20181, 20182, 20183, 20184, 20189, 20191, 20192, 20193, 20194, 20195, 20204, 20205, 20206, 20211, 20212, 20213, 20214, 20215, 20216, 20217, 20219, 20220, 20223, 20224, 20225, 20226, 20227, 20232, 20234, 20235, 20236, 20237, 20238, 20239, 20245, 20247, 20248, 20250, 20252, 20253, 20254, 20255, 20260, 20261, 20263, 20264, 20265, 20266, 20270, 20271, 20272, 20274, 20275, 20276, 20280, 20282, 20283, 20285, 20286, 20288, 20289, 20291, 20293, 20301, 20304, 20307, 20308, 20309, 20310, 20312, 20313, 20314, 20318, 20320, 20321, 20323, 20324, 20330, 20331, 20332, 20333, 20338, 20340, 20342, 20344, 20346, 20348, 20355, 20356, 20358, 20359, 20360, 20362, 20363, 20364, 20365, 20367, 20373, 20375, 20376, 20378, 20380, 20381, 20386, 20388, 20389, 20392, 20396, 20398, 20399, 20400, 20402, 20403, 20404, 20406, 20408, 20410, 20411, 20413, 20417, 20418, 20419, 20420, 20422, 20424, 20429, 20432, 20436, 20439, 20440, 20441, 20442, 20443, 20446, 20447, 20450, 20451, 20455, 20456, 20457, 20458, 20464, 20465, 20466, 20469, 20472, 20473, 20478, 20480, 20483, 20484, 20485, 20486, 20487, 20489, 20490, 20491, 20494, 20495, 20497, 20499, 20500, 20501, 20503, 20505, 20506, 20507, 20508, 20512, 20517, 20518, 20520, 20521, 20522, 20523, 20524, 20528, 20530, 20531, 20533, 20534, 20536, 20540, 20541, 20549, 20551, 20552, 20557, 20558, 20561, 20562, 20563, 20566, 20569, 20571, 20572, 20573, 20574, 20575, 20578, 20580, 20582, 20584, 20588, 20589, 20591, 20594, 20596, 20601, 20604, 20607, 20608, 20609, 20612, 20613, 20615, 20616, 20617, 20620, 20621, 20624, 20626, 20627, 20628, 20629, 20630, 20631, 20633, 20634, 20635, 20637, 20639, 20641, 20645, 20646, 20648, 20650, 20656, 20657, 20661, 20663, 20664, 20666, 20667, 20668, 20670, 20671, 20672, 20673, 20675, 20676, 20678, 20679, 20682, 20683, 20686, 20689, 20690, 20692, 20695, 20696, 20698, 20701, 20703, 20705, 20710, 20711, 20712, 20714, 20715, 20718, 20719, 20720, 20721, 20722, 20725, 20726, 20727, 20728, 20729, 20730, 20732, 20733, 20736, 20737, 20739, 20741, 20745, 20747, 20751, 20754, 20755, 20756, 20764, 20765, 20766, 20767, 20771, 20772, 20774, 20776, 20780, 20781, 20782, 20783, 20785, 20789, 20791, 20793, 20794, 20795, 20796, 20798, 20800, 20802, 20804, 20805, 20808, 20810, 20814, 20815, 20816, 20819, 20820, 20821, 20824, 20826, 20828, 20830, 20831, 20835, 20838, 20840, 20841, 20843, 20846, 20849, 20851, 20852, 20853, 20855, 20857, 20858, 20859, 20861, 20862, 20866, 20868, 20869, 20870, 20872, 20873, 20875, 20876, 20879, 20880, 20881, 20883, 20885, 20886, 20888, 20890, 20891, 20893, 20896, 20899, 20901, 20902, 20908, 20909, 20912, 20914, 20916, 20917, 20918, 20919, 20921, 20923, 20924, 20925, 20928, 20929, 20930, 20932, 20934, 20937, 20941, 20942, 20945, 20948, 20949, 20950, 20954, 20956, 20957, 20958, 20962, 20963, 20965, 20968, 20970, 20971, 20972, 20974, 20978, 20982, 20984, 20985, 20986, 20987, 20989, 20990, 20991, 20992, 20996, 20997, 20998, 21000, 21003, 21004, 21007, 21011, 21013, 21016, 21017, 21020, 21022, 21025, 21027, 21036, 21037, 21041, 21042, 21044, 21048, 21049, 21051, 21057, 21059, 21060, 21061, 21064, 21068, 21069, 21071, 21075, 21080, 21081, 21084, 21086, 21088, 21091, 21092, 21096, 21100, 21103, 21104, 21105, 21107, 21110, 21111, 21113, 21114, 21117, 21118, 21121, 21123, 21126, 21127, 21128, 21132, 21133, 21135, 21136, 21139, 21140, 21143, 21144, 21148, 21150, 21155, 21156, 21157, 21158, 21162, 21165, 21166, 21167, 21171, 21174, 21177, 21180, 21185, 21187, 21188, 21189, 21193, 21195, 21196, 21198, 21199, 21201, 21202, 21204, 21205, 21206, 21207, 21209, 21211, 21213, 21214, 21216, 21217, 21218, 21220, 21221, 21222, 21225, 21226, 21229, 21234, 21235, 21238, 21239, 21243, 21249, 21250, 21251, 21253, 21256, 21257, 21258, 21259, 21261, 21262, 21266, 21267, 21268, 21269, 21273, 21275, 21277, 21279, 21282, 21284, 21287, 21288, 21289, 21290, 21291, 21293, 21297, 21298, 21303, 21304, 21305, 21308, 21310, 21312, 21313, 21314, 21315, 21319, 21320, 21322, 21323, 21326, 21327, 21330, 21332, 21334, 21335, 21337, 21341, 21342, 21345, 21348, 21350, 21352, 21353, 21355, 21358, 21359, 21360, 21361, 21363, 21366, 21367, 21370, 21371, 21375, 21376, 21377, 21378, 21379, 21380, 21381, 21383, 21385, 21387, 21388, 21389, 21392, 21401, 21403, 21404, 21407, 21408, 21418, 21419, 21420, 21421, 21422, 21424, 21425, 21426, 21427, 21434, 21435, 21436, 21437, 21440, 21442, 21444, 21445, 21446, 21448, 21452, 21453, 21454, 21457, 21462, 21464, 21467, 21475, 21476, 21478, 21479, 21481, 21485, 21486, 21487, 21490, 21491, 21492, 21497, 21498, 21500, 21501, 21506, 21507, 21508, 21509, 21512, 21514, 21515, 21518, 21520, 21523, 21524, 21528, 21531, 21532, 21535, 21537, 21539, 21541, 21543, 21546, 21548, 21550, 21553, 21555, 21556, 21558, 21559, 21561, 21562, 21566, 21567, 21569, 21570, 21572, 21574, 21580, 21581, 21583, 21584, 21585, 21590, 21597, 21598, 21600, 21602, 21607, 21608, 21611, 21614, 21616, 21620, 21623, 21628, 21629, 21630, 21631, 21632, 21633, 21634, 21635, 21636, 21639, 21642, 21646, 21647, 21649, 21654, 21656, 21661, 21664, 21665, 21671, 21673, 21674, 21677, 21678, 21679, 21683, 21685, 21686, 21689, 21690, 21691, 21693, 21694, 21701, 21705, 21706, 21707, 21708, 21711, 21713, 21715, 21716, 21717, 21719, 21720, 21723, 21724, 21726, 21727, 21728, 21730, 21733, 21735, 21737, 21741, 21743, 21746, 21748, 21749, 21750, 21752, 21753, 21754, 21756, 21757, 21761, 21763, 21765, 21773, 21775, 21778, 21779, 21781, 21782, 21784, 21786, 21787, 21789, 21792, 21794, 21797, 21798, 21799, 21801, 21803, 21804, 21808, 21811, 21812, 21816, 21817, 21819, 21822, 21825, 21830, 21832, 21834, 21836, 21837, 21839, 21841, 21842, 21844, 21847, 21850, 21851, 21853, 21854, 21855, 21858, 21862, 21863, 21864, 21866, 21869, 21870, 21871, 21873, 21880, 21883, 21886, 21887, 21888, 21889, 21895, 21898, 21899, 21911, 21913, 21914, 21915, 21917, 21918, 21919, 21922, 21926, 21927, 21928, 21931, 21932, 21936, 21937, 21939, 21940, 21941, 21942, 21943, 21957, 21959, 21961, 21963, 21964, 21965, 21966, 21968, 21969, 21970, 21973, 21975, 21977, 21979, 21981, 21982, 21988, 21990, 21992, 21996, 21999, 22002, 22003, 22004, 22005, 22006, 22009, 22010, 22012, 22013, 22014, 22017, 22019, 22020, 22021, 22023, 22025, 22026, 22027, 22029, 22031, 22032, 22034, 22036, 22038, 22041, 22046, 22049, 22051, 22052, 22053, 22054, 22058, 22061, 22062, 22063, 22064, 22069, 22074, 22078, 22080, 22081, 22083, 22085, 22087, 22093, 22094, 22095, 22096, 22106, 22108, 22109, 22111, 22112, 22113, 22114, 22115, 22116, 22117, 22118, 22119, 22123, 22128, 22129, 22131, 22135, 22136, 22137, 22138, 22140, 22144, 22145, 22149, 22151, 22152, 22156, 22158, 22159, 22160, 22162, 22163, 22164, 22167, 22171, 22174, 22178, 22179, 22180, 22184, 22185, 22188, 22190, 22191, 22192, 22193, 22195, 22197, 22202, 22206, 22211, 22213, 22214, 22219, 22221, 22223, 22224, 22226, 22228, 22230, 22233, 22234, 22235, 22238, 22241, 22245, 22250, 22252, 22254, 22256, 22257, 22259, 22261, 22262, 22266, 22272, 22273, 22276, 22280, 22281, 22282, 22283, 22284, 22287, 22288, 22290, 22293, 22295, 22296, 22300, 22301, 22307, 22309, 22311, 22312, 22313, 22318, 22320, 22322, 22324, 22325, 22326, 22327, 22329, 22333, 22334, 22335, 22337, 22338, 22342, 22345, 22346, 22349, 22353, 22358, 22362, 22364, 22365, 22366, 22368, 22370, 22371, 22372, 22375, 22380, 22382, 22383, 22384, 22387, 22389, 22393, 22394, 22395, 22399, 22400, 22401, 22402, 22403, 22404, 22405, 22406, 22408, 22411, 22413, 22415, 22419, 22420, 22427, 22430, 22431, 22432, 22433, 22434, 22435, 22436, 22438, 22441, 22445, 22446, 22448, 22449, 22450, 22452, 22453, 22454, 22457, 22458, 22460, 22461, 22463, 22465, 22466, 22468, 22470, 22472, 22474, 22475, 22477, 22478, 22480, 22486, 22487, 22488, 22489, 22490, 22496, 22498, 22503, 22504, 22505, 22507, 22508, 22510, 22512, 22514, 22519, 22521, 22526, 22530, 22531, 22532, 22533, 22535, 22538, 22540, 22541, 22542, 22543, 22544, 22548, 22549, 22554, 22555, 22563, 22567, 22568, 22571, 22573, 22574, 22576, 22578, 22580, 22581, 22582, 22584, 22586, 22589, 22591, 22592, 22598, 22600, 22606, 22607, 22608, 22609, 22610, 22611, 22613, 22618, 22621, 22623, 22628, 22629, 22635, 22636, 22639, 22641, 22644, 22647, 22650, 22651, 22652, 22654, 22657, 22658, 22661, 22663, 22664, 22665, 22666, 22667, 22669, 22670, 22672, 22675, 22676, 22677, 22678, 22679, 22684, 22685, 22686, 22688, 22689, 22690, 22692, 22694, 22699, 22700, 22702, 22703, 22706, 22707, 22709, 22710, 22711, 22712, 22713, 22716, 22717, 22719, 22720, 22723, 22724, 22731, 22732, 22733, 22734, 22738, 22739, 22740, 22741, 22742, 22743, 22745, 22747, 22750, 22752, 22753, 22754, 22762, 22763, 22764, 22766, 22769, 22776, 22777, 22780, 22785, 22793, 22794, 22795, 22796, 22797, 22802, 22804, 22806, 22807, 22811, 22813, 22815, 22816, 22817, 22820, 22823, 22824, 22826, 22827, 22831, 22833, 22837, 22839, 22844, 22845, 22846, 22849, 22852, 22854, 22855, 22857, 22859, 22860, 22864, 22867, 22868, 22870, 22872, 22873, 22874, 22875, 22876, 22878, 22882, 22883, 22885, 22889, 22890, 22892, 22893, 22894, 22896, 22899, 22905, 22906, 22907, 22910, 22912, 22915, 22917, 22918, 22922, 22923, 22926, 22928, 22930, 22931, 22932, 22933, 22936, 22938, 22939, 22940, 22941, 22942, 22950, 22952, 22953, 22954, 22955, 22956, 22959, 22960, 22962, 22963, 22966, 22972, 22974, 22977, 22980, 22982, 22987, 22988, 22989, 22992, 22995, 22996, 22997, 22998, 23000, 23002, 23004, 23005, 23006, 23008, 23009, 23011, 23015, 23016, 23018, 23020, 23026, 23027, 23028, 23031, 23032, 23033, 23035, 23037, 23038, 23039, 23042, 23043, 23046, 23047, 23049, 23051, 23053, 23055, 23057, 23059, 23060, 23061, 23064, 23069, 23070, 23074, 23075, 23079, 23082, 23084, 23086, 23090, 23092, 23094, 23095, 23099, 23104, 23105, 23107, 23110, 23112, 23113, 23114, 23116, 23118, 23120, 23123, 23124, 23129, 23130, 23136, 23137, 23141, 23142, 23143, 23145, 23147, 23148, 23149, 23152, 23153, 23157, 23158, 23159, 23160, 23165, 23168, 23170, 23172, 23173, 23174, 23176, 23178, 23184, 23186, 23187, 23189, 23190, 23192, 23195, 23198, 23200, 23201, 23206, 23207, 23209, 23211, 23213, 23215, 23217, 23218, 23219, 23224, 23227, 23228, 23229, 23231, 23233, 23235, 23237, 23238, 23239, 23241, 23245, 23247, 23252, 23255, 23256, 23258, 23259, 23261, 23262, 23263, 23268, 23270, 23272, 23273, 23274, 23279, 23283, 23286, 23296, 23297, 23299, 23300, 23303, 23304, 23305, 23306, 23308, 23310, 23311, 23317, 23319, 23321, 23322, 23326, 23328, 23329, 23330, 23333, 23336, 23337, 23338, 23339, 23343, 23344, 23348, 23349, 23350, 23355, 23357, 23358, 23359, 23360, 23365, 23369, 23374, 23377, 23379, 23380, 23382, 23384, 23385, 23387, 23389, 23390, 23391, 23393, 23394, 23396, 23399, 23402, 23403, 23404, 23405, 23411, 23412, 23415, 23416, 23418, 23420, 23422, 23428, 23429, 23433, 23436, 23439, 23440, 23442, 23443, 23446, 23456, 23457, 23461, 23462, 23464, 23465, 23468, 23469, 23471, 23472, 23475, 23481, 23482, 23483, 23484, 23486, 23488, 23490, 23491, 23492, 23493, 23495, 23498, 23502, 23504, 23508, 23509, 23510, 23516, 23517, 23519, 23520, 23521, 23522, 23524, 23525, 23526, 23528, 23531, 23537, 23538, 23539, 23543, 23544, 23545, 23546, 23547, 23548, 23552, 23554, 23555, 23557, 23559, 23565, 23566, 23568, 23570, 23575, 23576, 23578, 23579, 23580, 23583, 23585, 23586, 23587, 23588, 23589, 23600, 23601, 23603, 23604, 23607, 23609, 23610, 23614, 23616, 23618, 23619, 23620, 23621, 23622, 23623, 23624, 23625, 23626, 23627, 23630, 23633, 23635, 23637, 23641, 23643, 23645, 23651, 23652, 23656, 23658, 23662, 23665, 23666, 23667, 23668, 23669, 23670, 23677, 23679, 23681, 23682, 23687, 23688, 23692, 23696, 23697, 23699, 23712, 23719, 23720, 23721, 23722, 23724, 23725, 23728, 23730, 23731, 23735, 23736, 23739, 23740, 23743, 23745, 23746, 23747, 23753, 23754, 23755, 23756, 23758, 23759, 23762, 23764, 23766, 23767, 23772, 23773, 23776, 23780, 23781, 23783, 23784, 23786, 23787, 23788, 23789, 23790, 23791, 23792, 23794, 23795, 23797, 23798, 23802, 23803, 23805, 23806, 23807, 23808, 23809, 23811, 23812, 23813, 23814, 23816, 23817, 23820, 23822, 23829, 23830, 23832, 23833, 23834, 23835, 23838, 23840, 23842, 23843, 23847, 23849, 23850, 23853, 23854, 23855, 23856, 23857, 23858, 23860, 23861, 23863, 23865, 23866, 23868, 23869, 23871, 23872, 23873, 23875, 23878, 23882, 23883, 23884, 23886, 23887, 23888, 23889, 23890, 23891, 23894, 23896, 23899, 23901, 23905, 23907, 23908, 23912, 23913, 23916, 23918, 23923, 23927, 23933, 23934, 23938, 23939, 23941, 23942, 23943, 23948, 23951, 23952, 23954, 23959, 23960, 23962, 23963, 23965, 23968, 23972, 23973, 23977, 23982, 23983, 23984, 23985, 23988, 23989, 23992, 23995, 23998, 23999, 24001, 24004, 24006, 24008, 24011, 24016, 24017, 24018, 24022, 24026, 24036, 24037, 24040, 24041, 24042, 24044, 24047, 24048, 24049, 24053, 24054, 24058, 24061, 24066, 24069, 24071, 24077, 24078, 24081, 24084, 24085, 24087, 24088, 24093, 24097, 24098, 24099, 24100, 24103, 24104, 24105, 24107, 24108, 24109, 24110, 24114, 24116, 24117, 24120, 24122, 24124, 24125, 24127, 24128, 24130, 24132, 24135, 24136, 24144, 24146, 24149, 24150, 24153, 24154, 24155, 24157, 24159, 24160, 24162, 24163, 24166, 24170, 24171, 24173, 24174, 24176, 24179, 24183, 24186, 24187, 24188, 24191, 24192, 24194, 24195, 24196, 24205, 24208, 24210, 24212, 24216, 24217, 24218, 24219, 24220, 24221, 24224, 24226, 24229, 24230, 24231, 24235, 24236, 24237, 24238, 24239, 24240, 24242, 24243, 24250, 24251, 24253, 24254, 24257, 24259, 24263, 24267, 24268, 24269, 24270, 24273, 24276, 24278, 24280, 24282, 24283, 24284, 24285, 24287, 24289, 24292, 24293, 24294, 24296, 24297, 24298, 24301, 24302, 24303, 24306, 24308, 24311, 24314, 24315, 24317, 24318, 24319, 24320, 24327, 24328, 24330, 24334, 24335, 24336, 24337, 24339, 24341, 24342, 24347, 24350, 24351, 24353, 24355, 24357, 24358, 24359, 24364, 24366, 24368, 24370, 24373, 24377, 24378, 24381, 24382, 24383, 24384, 24388, 24389, 24392, 24393, 24394, 24395, 24400, 24402, 24405, 24406, 24411, 24412, 24413, 24414, 24416, 24418, 24425, 24429, 24430, 24433, 24435, 24436, 24437, 24440, 24441, 24444, 24445, 24447, 24448, 24451, 24454, 24455, 24458, 24459, 24462, 24470, 24471, 24474, 24477, 24478, 24479, 24481, 24482, 24484, 24488, 24490, 24492, 24493, 24495, 24496, 24498, 24499, 24503, 24504, 24507, 24509, 24510, 24512, 24513, 24515, 24520, 24521, 24522, 24523, 24524, 24525, 24526, 24527, 24532, 24533, 24534, 24536, 24540, 24542, 24543, 24544, 24547, 24551, 24553, 24554, 24555, 24557, 24558, 24560, 24561, 24562, 24566, 24567, 24568, 24569, 24572, 24575, 24576, 24578, 24582, 24583, 24586, 24587, 24591, 24592, 24593, 24594, 24595, 24599, 24601, 24603, 24604, 24605, 24608, 24612, 24615, 24616, 24619, 24620, 24623, 24624, 24625, 24626, 24628, 24630, 24631, 24632, 24635, 24636, 24637, 24639, 24641, 24644, 24649, 24652, 24655, 24656, 24657, 24658, 24659, 24660, 24664, 24665, 24668, 24670, 24672, 24674, 24679, 24680, 24685, 24687, 24689, 24690, 24691, 24692, 24693, 24696, 24697, 24698, 24700, 24703, 24710, 24715, 24716, 24718, 24720, 24725, 24726, 24727, 24729, 24730, 24732, 24734, 24738, 24740, 24741, 24744, 24746, 24748, 24752, 24763, 24764, 24765, 24769, 24773, 24774, 24776, 24778, 24779, 24780, 24789, 24790, 24796, 24797, 24799, 24802, 24803, 24804, 24808, 24810, 24811, 24812, 24818, 24820, 24824, 24825, 24828, 24829, 24831, 24836, 24839, 24840, 24843, 24845, 24846, 24848, 24850, 24853, 24855, 24856, 24858, 24861, 24862, 24863, 24865, 24866, 24869, 24870, 24876, 24880, 24883, 24885, 24886, 24887, 24891, 24895, 24897, 24898, 24899, 24902, 24905, 24908, 24910, 24911, 24912, 24916, 24917, 24918, 24922, 24925, 24928, 24929, 24930, 24933, 24935, 24938, 24940, 24941, 24942, 24943, 24945, 24951, 24952, 24953, 24954, 24962, 24966, 24968, 24973, 24974, 24976, 24978, 24982, 24984, 24986, 24989, 24990, 24991, 24993, 24995, 24998, 24999, 25001, 25004, 25005, 25009, 25010, 25012, 25013, 25015, 25019, 25022, 25024, 25027, 25028, 25032, 25033, 25035, 25039, 25042, 25043, 25046, 25049, 25052, 25053, 25056, 25057, 25060, 25064, 25068, 25070, 25071, 25072, 25075, 25077, 25082, 25083, 25084, 25085, 25086, 25089, 25096, 25099, 25100, 25103, 25104, 25106, 25108, 25109, 25114, 25115, 25118, 25120, 25121, 25122, 25123, 25126, 25129, 25130, 25132, 25133, 25137, 25139, 25140, 25141, 25143, 25147, 25153, 25155, 25158, 25159, 25161, 25162, 25165, 25166, 25171, 25173, 25176, 25180, 25182, 25184, 25185, 25186, 25187, 25189, 25191, 25194, 25197, 25199, 25200, 25203, 25204, 25205, 25209, 25210, 25213, 25217, 25221, 25224, 25226, 25227, 25232, 25233, 25235, 25237, 25238, 25241, 25242, 25243, 25244, 25248, 25250, 25251, 25252, 25254, 25257, 25259, 25261, 25262, 25264, 25266, 25270, 25272, 25275, 25279, 25280, 25281, 25283, 25284, 25285, 25286, 25287, 25291, 25292, 25294, 25296, 25297, 25298, 25302, 25303, 25304, 25305, 25306, 25312, 25313, 25314, 25317, 25321, 25323, 25325, 25330, 25331, 25334, 25335, 25336, 25339, 25341, 25343, 25345, 25347, 25348, 25349, 25353, 25357, 25358, 25359, 25360, 25361, 25362, 25363, 25365, 25368, 25369, 25372, 25373, 25375, 25376, 25378, 25380, 25382, 25384, 25385, 25387, 25389, 25392, 25393, 25394, 25396, 25397, 25400, 25402, 25406, 25407, 25409, 25414, 25415, 25416, 25417, 25418, 25423, 25427, 25428, 25429, 25430, 25435, 25436, 25438, 25445, 25449, 25451, 25452, 25453, 25455, 25456, 25457, 25459, 25460, 25461, 25464, 25466, 25468, 25469, 25472, 25473, 25475, 25478, 25479, 25481, 25488, 25492, 25493, 25494, 25495, 25497, 25501, 25502, 25504, 25505, 25506, 25507, 25511, 25512, 25513, 25514, 25516, 25517, 25519, 25521, 25522, 25524, 25525, 25526, 25529, 25530, 25532, 25535, 25536, 25541, 25545, 25547, 25548, 25551, 25555, 25557, 25562, 25565, 25568, 25569, 25570, 25571, 25576, 25577, 25578, 25580, 25582, 25584, 25590, 25593, 25596, 25598, 25599, 25600, 25601, 25603, 25605, 25606, 25609, 25611, 25614, 25616, 25617, 25618, 25620, 25622, 25625, 25629, 25634, 25635, 25636, 25638, 25640, 25642, 25643, 25647, 25648, 25650, 25651, 25653, 25654, 25655, 25657, 25658, 25660, 25661, 25662, 25665, 25666, 25667, 25668, 25669, 25672, 25677, 25678, 25681, 25682, 25683, 25687, 25690, 25691, 25693, 25694, 25695, 25697, 25703, 25704, 25708, 25709, 25712, 25713, 25715, 25716, 25720, 25728, 25730, 25734, 25736, 25739, 25741, 25742, 25743, 25747, 25748, 25752, 25753, 25754, 25756, 25757, 25758, 25759, 25760, 25761, 25764, 25765, 25766, 25769, 25770, 25771, 25772, 25776, 25779, 25781, 25785, 25789, 25793, 25794, 25797, 25798, 25799, 25801, 25802, 25803, 25807, 25808, 25809, 25812, 25813, 25815, 25818, 25819, 25822, 25823, 25827, 25830, 25832, 25833, 25834, 25835, 25836, 25837, 25838, 25840, 25846, 25847, 25849, 25851, 25853, 25854, 25858, 25862, 25863, 25864, 25865, 25868, 25870, 25871, 25874, 25878, 25879, 25881, 25882, 25884, 25885, 25886, 25887, 25891, 25892, 25896, 25898, 25901, 25904, 25907, 25908, 25909, 25911, 25921, 25922, 25925, 25926, 25928, 25929, 25932, 25933, 25934, 25939, 25944, 25950, 25951, 25953, 25954, 25955, 25961, 25962, 25965, 25966, 25969, 25970, 25975, 25977, 25979, 25981, 25983, 25984, 25985, 25987, 25988, 25989, 25990, 25991, 25992, 25998, 26002, 26008, 26009, 26010, 26012, 26013, 26017, 26018, 26019, 26020, 26022, 26023, 26025, 26027, 26028, 26030, 26033, 26036, 26039, 26040, 26041, 26044, 26046, 26047, 26050, 26054, 26055, 26056, 26057, 26062, 26063, 26064, 26065, 26066, 26068, 26074, 26076, 26078, 26082, 26085, 26087, 26089, 26090, 26096, 26098, 26105, 26107, 26109, 26110, 26112, 26116, 26117, 26120, 26123, 26127, 26131, 26132, 26133, 26138, 26142, 26148, 26150, 26159, 26160, 26161, 26162, 26165, 26166, 26171, 26172, 26175, 26176, 26177, 26181, 26185, 26186, 26187, 26188, 26189, 26190, 26192, 26199, 26200, 26201, 26203, 26204, 26205, 26209, 26210, 26211, 26212, 26214, 26215, 26216, 26219, 26220, 26222, 26223, 26227, 26229, 26231, 26232, 26234, 26237, 26238, 26242, 26243, 26245, 26248, 26251, 26253, 26254, 26255, 26256, 26258, 26259, 26261, 26264, 26265, 26267, 26269, 26271, 26272, 26275, 26276, 26277, 26278, 26280, 26281, 26282, 26284, 26285, 26286, 26288, 26291, 26292, 26293, 26295, 26297, 26299, 26300, 26302, 26305, 26306, 26308, 26309, 26311, 26313, 26316, 26317, 26318, 26319, 26320, 26321, 26325, 26326, 26327, 26328, 26329, 26330, 26331, 26337, 26338, 26341, 26342, 26344, 26346, 26347, 26348, 26349, 26350, 26351, 26355, 26358, 26361, 26362, 26363, 26365, 26366, 26371, 26375, 26376, 26380, 26384, 26390, 26393, 26396, 26398, 26399, 26401, 26405, 26406, 26410, 26417, 26419, 26421, 26427, 26428, 26430, 26432, 26435, 26437, 26438, 26439, 26440, 26441, 26443, 26445, 26448, 26449, 26450, 26451, 26452, 26453, 26456, 26458, 26459, 26460, 26462, 26465, 26467, 26468, 26470, 26471, 26472, 26480, 26482, 26483, 26484, 26486, 26489, 26491, 26492, 26503, 26505, 26507, 26509, 26513, 26514, 26515, 26516, 26519, 26520, 26522, 26524, 26527, 26530, 26533, 26534, 26535, 26540, 26541, 26542, 26544, 26547, 26549, 26551, 26555, 26556, 26557, 26559, 26564, 26567, 26570, 26572, 26573, 26578, 26579, 26580, 26581, 26585, 26588, 26592, 26595, 26597, 26599, 26600, 26603, 26604, 26605, 26607, 26610, 26611, 26612, 26613, 26616, 26617, 26618, 26619, 26622, 26624, 26625, 26627, 26629, 26633, 26635, 26637, 26638, 26639, 26645, 26647, 26648, 26649, 26652, 26654, 26656, 26658, 26661, 26662, 26666, 26668, 26669, 26670, 26674, 26678, 26685, 26688, 26695, 26702, 26703, 26704, 26709, 26710, 26711, 26712, 26713, 26714, 26717, 26718, 26721, 26723, 26724, 26727, 26732, 26734, 26735, 26742, 26744, 26745, 26746, 26750, 26751, 26753, 26755, 26762, 26764, 26765, 26767, 26775, 26778, 26779, 26780, 26781, 26782, 26783, 26784, 26787, 26788, 26790, 26793, 26795, 26799, 26800, 26801, 26808, 26814, 26815, 26816, 26817, 26819, 26820, 26825, 26826, 26827, 26833, 26836, 26838, 26846, 26849, 26850, 26853, 26856, 26858, 26860, 26865, 26867, 26869, 26870, 26874, 26875, 26876, 26877, 26880, 26883, 26885, 26888, 26889, 26893, 26894, 26897, 26901, 26903, 26908, 26910, 26911, 26915, 26918, 26920, 26922, 26924, 26925, 26929, 26931, 26932, 26933, 26934, 26935, 26936, 26941, 26943, 26946, 26947, 26949, 26951, 26954, 26957, 26959, 26964, 26967, 26968, 26969, 26971, 26976, 26978, 26981, 26982, 26991, 26992, 26996, 26997, 27004, 27007, 27010, 27017, 27020, 27022, 27023, 27025, 27028, 27029, 27031, 27034, 27035, 27036, 27039, 27041, 27042, 27048, 27052, 27053, 27055, 27056, 27057, 27061, 27064, 27065, 27066, 27069, 27075, 27076, 27078, 27079, 27080, 27081, 27083, 27085, 27086, 27090, 27091, 27095, 27096, 27098, 27101, 27105, 27110, 27111, 27114, 27116, 27117, 27118, 27120, 27121, 27125, 27127, 27129, 27130, 27132, 27133, 27135, 27138, 27139, 27140, 27146, 27150, 27151, 27152, 27156, 27157, 27161, 27162, 27166, 27171, 27175, 27177, 27178, 27180, 27182, 27186, 27187, 27188, 27189, 27190, 27191, 27194, 27195, 27198, 27199, 27204, 27205, 27210, 27211, 27213, 27215, 27216, 27218, 27219, 27221, 27224, 27226, 27227, 27229, 27234, 27235, 27237, 27239, 27242, 27243, 27244, 27248, 27251, 27255, 27256, 27257, 27259, 27262, 27264, 27265, 27266, 27272, 27273, 27275, 27276, 27277, 27278, 27281, 27282, 27283, 27284, 27289, 27292, 27293, 27296, 27297, 27299, 27301, 27303, 27306, 27309, 27311, 27315, 27316, 27317, 27318, 27319, 27322, 27323, 27326, 27327, 27328, 27329, 27330, 27333, 27337, 27342, 27344, 27349, 27350, 27352, 27354, 27356, 27358, 27359, 27360, 27361, 27363, 27364, 27365, 27370, 27371, 27375, 27378, 27380, 27381, 27382, 27383, 27385, 27386, 27387, 27388, 27391, 27392, 27395, 27396, 27400, 27403, 27406, 27409, 27411, 27413, 27417, 27418, 27419, 27420, 27421, 27422, 27424, 27425, 27427, 27429, 27431, 27435, 27438, 27441, 27443, 27449, 27450, 27455, 27458, 27462, 27463, 27465, 27466, 27468, 27469, 27473, 27475, 27476, 27479, 27481, 27485, 27487, 27488, 27490, 27491, 27494, 27495, 27499, 27501, 27503, 27504, 27505, 27507, 27508, 27510, 27512, 27513, 27517, 27518, 27520, 27524, 27529, 27530, 27532, 27538, 27540, 27541, 27543, 27546, 27547, 27548, 27550, 27553, 27556, 27558, 27559, 27560, 27570, 27573, 27576, 27578, 27579, 27580, 27581, 27582, 27583, 27585, 27589, 27593, 27594, 27595, 27596, 27598, 27601, 27602, 27603, 27606, 27609, 27612, 27613, 27614, 27616, 27617, 27619, 27620, 27624, 27627, 27628, 27629, 27630, 27631, 27634, 27636, 27637, 27640, 27645, 27646, 27647, 27648, 27649, 27651, 27653, 27656, 27659, 27660, 27666, 27667, 27668, 27669, 27671, 27674, 27675, 27678, 27681, 27682, 27683, 27684, 27685, 27690, 27691, 27692, 27693, 27694, 27696, 27702, 27704, 27707, 27708, 27710, 27714, 27715, 27719, 27721, 27722, 27724, 27725, 27726, 27729, 27730, 27733, 27743, 27747, 27748, 27752, 27754, 27758, 27759, 27760, 27761, 27762, 27763, 27767, 27769, 27770, 27776, 27777, 27778, 27779, 27782, 27785, 27788, 27789, 27791, 27792, 27793, 27794, 27800, 27803, 27804, 27805, 27807, 27809, 27810, 27811, 27813, 27814, 27816, 27817, 27818, 27820, 27821, 27822, 27823, 27828, 27831, 27833, 27834, 27839, 27840, 27842, 27843, 27849, 27851, 27855, 27856, 27858, 27859, 27864, 27867, 27868, 27869, 27870, 27872, 27873, 27875, 27877, 27879, 27880, 27882, 27883, 27884, 27888, 27889, 27890, 27894, 27897, 27898, 27901, 27903, 27904, 27905, 27906, 27908, 27911, 27912, 27913, 27914, 27917, 27919, 27920, 27923, 27925, 27926, 27928, 27930, 27931, 27933, 27934, 27935, 27937, 27938, 27939, 27944, 27945, 27946, 27952, 27954, 27955, 27956, 27957, 27959, 27963, 27964, 27965, 27966, 27968, 27972, 27975, 27976, 27977, 27981, 27982, 27983, 27985, 27988, 27990, 27991, 27993, 27994, 27996, 28000, 28002, 28004, 28007, 28009, 28010, 28012, 28014, 28015, 28016, 28021, 28024, 28025, 28027, 28031, 28033, 28035, 28036, 28040, 28041, 28042, 28044, 28049, 28051, 28052, 28053, 28060, 28063, 28064, 28070, 28071, 28073, 28074, 28076, 28078, 28082, 28084, 28093, 28095, 28096, 28098, 28099, 28100, 28102, 28104, 28107, 28108, 28109, 28110, 28111, 28112, 28113, 28114, 28115, 28117, 28118, 28120, 28121, 28122, 28123, 28124, 28125, 28128, 28130, 28135, 28140, 28144, 28145, 28146, 28148, 28150, 28151, 28152, 28153, 28155, 28157, 28158, 28162, 28165, 28174, 28176, 28177, 28179, 28180, 28183, 28184, 28189, 28190, 28194, 28196, 28197, 28199, 28200, 28202, 28203, 28205, 28206, 28207, 28208, 28213, 28217, 28219, 28221, 28224, 28229, 28230, 28233, 28235, 28239, 28240, 28245, 28246, 28247, 28251, 28253, 28255, 28260, 28261, 28262, 28264, 28266, 28271, 28274, 28275, 28276, 28278, 28282, 28283, 28286, 28290, 28291, 28293, 28298, 28302, 28304, 28305, 28306, 28308, 28309, 28312, 28313, 28315, 28318, 28319, 28322, 28324, 28327, 28328, 28329, 28335, 28338, 28343, 28344, 28345, 28348, 28349, 28351, 28352, 28356, 28359, 28368, 28371, 28372, 28378, 28379, 28381, 28382, 28385, 28386, 28388, 28389, 28393, 28394, 28396, 28398, 28400, 28405, 28406, 28407, 28408, 28412, 28419, 28420, 28421, 28422, 28425, 28427, 28430, 28432, 28433, 28436, 28437, 28441, 28443, 28444, 28448, 28450, 28452, 28453, 28454, 28458, 28459, 28463, 28469, 28471, 28473, 28477, 28478, 28482, 28483, 28486, 28488, 28489, 28492, 28493, 28494, 28502, 28503, 28504, 28506, 28507, 28511, 28516, 28518, 28519, 28521, 28525, 28528, 28529, 28532, 28535, 28538, 28539, 28541, 28542, 28543, 28547, 28548, 28552, 28555, 28557, 28560, 28564, 28566, 28568, 28569, 28571, 28573, 28574, 28575, 28576, 28577, 28579, 28584, 28588, 28590, 28594, 28595, 28596, 28597, 28599, 28601, 28602, 28603, 28605, 28610, 28613, 28615, 28616, 28618, 28621, 28624, 28627, 28629, 28630, 28631, 28634, 28635, 28637, 28638, 28645, 28646, 28647, 28648, 28649, 28650, 28651, 28653, 28654, 28656, 28657, 28658, 28659, 28660, 28662, 28663, 28667, 28668, 28671, 28672, 28673, 28674, 28676, 28681, 28683, 28684, 28685, 28687, 28692, 28693, 28694, 28695, 28702, 28705, 28708, 28714, 28715, 28717, 28719, 28720, 28722, 28726, 28727, 28729, 28730, 28731, 28733, 28736, 28737, 28738, 28739, 28744, 28745, 28753, 28756, 28758, 28761, 28762, 28764, 28767, 28768, 28769, 28772, 28773, 28774, 28775, 28777, 28778, 28781, 28782, 28783, 28784, 28790, 28791, 28794, 28796, 28800, 28801, 28803, 28804, 28806, 28807, 28814, 28815, 28816, 28818, 28822, 28823, 28824, 28826, 28827, 28828, 28832, 28833, 28835, 28837, 28839, 28840, 28844, 28845, 28847, 28852, 28855, 28856, 28858, 28860, 28861, 28865, 28874, 28876, 28878, 28881, 28882, 28883, 28884, 28888, 28889, 28891, 28892, 28893, 28894, 28903, 28904, 28905, 28907, 28909, 28911, 28913, 28914, 28916, 28917, 28918, 28920, 28921, 28926, 28929, 28933, 28934, 28935, 28936, 28938, 28942, 28945, 28947, 28948, 28949, 28950, 28951, 28955, 28956, 28959, 28961, 28962, 28964, 28965, 28967, 28968, 28972, 28977, 28980, 28983, 28987, 28991, 28992, 28993, 28994, 28995, 28998, 28999, 29000, 29003, 29004, 29005, 29013, 29020, 29021, 29022, 29024, 29027, 29031, 29033, 29036, 29037, 29038, 29041, 29042, 29043, 29045, 29047, 29048, 29052, 29053, 29054, 29055, 29058, 29059, 29068, 29074, 29077, 29078, 29079, 29082, 29090, 29092, 29093, 29096, 29101, 29102, 29104, 29105, 29107, 29108, 29109, 29112, 29113, 29114, 29115, 29120, 29122, 29124, 29125, 29127, 29129, 29131, 29133, 29134, 29135, 29136, 29137, 29138, 29140, 29146, 29147, 29149, 29152, 29153, 29154, 29158, 29159, 29162, 29165, 29167, 29168, 29169, 29170, 29173, 29174, 29179, 29182, 29185, 29186, 29187, 29188, 29189, 29190, 29191, 29192, 29195, 29196, 29198, 29199, 29203, 29206, 29209, 29212, 29213, 29217, 29219, 29220, 29223, 29224, 29225, 29230, 29232, 29233, 29234, 29235, 29236, 29237, 29242, 29246, 29247, 29250, 29251, 29257, 29258, 29259, 29261, 29262, 29263, 29265, 29266, 29267, 29268, 29269, 29270, 29273, 29274, 29275, 29276, 29283, 29285, 29286, 29289, 29294, 29295, 29297, 29299, 29301, 29303, 29305, 29308, 29309, 29311, 29312, 29314, 29319, 29320, 29323, 29331, 29336, 29339, 29340, 29341, 29342, 29343, 29347, 29349, 29350, 29355, 29357, 29358, 29360, 29361, 29363, 29366, 29368, 29369, 29371, 29373, 29374, 29377, 29378, 29379, 29382, 29384, 29385, 29387, 29391, 29396, 29398, 29399, 29402, 29405, 29408, 29410, 29412, 29415, 29417, 29418, 29420, 29421, 29427, 29429, 29431, 29438, 29441, 29444, 29445, 29446, 29448, 29450, 29455, 29457, 29463, 29464, 29466, 29472, 29473, 29476, 29479, 29481, 29483, 29484, 29487, 29488, 29495, 29496, 29499, 29503, 29504, 29505, 29508, 29509, 29510, 29514, 29516, 29517, 29518, 29519, 29520, 29522, 29526, 29530, 29531, 29532, 29536, 29539, 29541, 29544, 29547, 29549, 29553, 29555, 29564, 29565, 29571, 29575, 29576, 29578, 29580, 29582, 29585, 29586, 29589, 29593, 29595, 29597, 29599, 29600, 29602, 29604, 29614, 29615, 29620, 29622, 29624, 29625, 29631, 29636, 29637, 29638, 29639, 29640, 29642, 29646, 29649, 29650, 29651, 29654, 29655, 29665, 29666, 29670, 29671, 29672, 29673, 29675, 29677, 29679, 29680, 29684, 29686, 29687, 29688, 29692, 29694, 29696, 29697, 29698, 29701, 29702, 29705, 29706, 29707, 29708, 29709, 29710, 29715, 29716, 29717, 29718, 29719, 29720, 29726, 29728, 29730, 29732, 29737, 29740, 29741, 29742, 29747, 29748, 29753, 29754, 29757, 29759, 29763, 29765, 29768, 29769, 29770, 29772, 29773, 29774, 29782, 29784, 29786, 29787, 29790, 29792, 29793, 29794, 29795, 29796, 29800, 29802, 29811, 29812, 29813, 29819, 29820, 29823, 29828, 29829, 29830, 29831, 29833, 29834, 29842, 29845, 29847, 29848, 29849, 29851, 29852, 29856, 29857, 29860, 29861, 29862, 29864, 29866, 29869, 29870, 29871, 29872, 29873, 29874, 29881, 29882, 29883, 29884, 29885, 29888, 29889, 29890, 29891, 29894, 29895, 29896, 29897, 29901, 29902, 29903, 29904, 29905, 29906, 29907, 29908, 29910, 29911, 29915, 29917, 29919, 29927, 29928, 29929, 29930, 29937, 29938, 29940, 29941, 29944, 29948, 29950, 29951, 29952, 29954, 29955, 29956, 29959, 29962, 29963, 29967, 29970, 29971, 29972, 29974, 29976, 29977, 29979, 29988, 29991, 29993, 29994, 29999, 30003, 30006, 30007, 30010, 30016, 30017, 30020, 30023, 30024, 30025, 30028, 30031, 30032, 30033, 30035, 30038, 30040, 30042, 30046, 30048, 30050, 30053, 30054, 30055, 30060, 30061, 30062, 30068, 30069, 30070, 30072, 30076, 30084, 30089, 30091, 30092, 30093, 30094, 30095, 30097, 30099, 30100, 30102, 30103, 30106, 30108, 30109, 30111, 30112, 30113, 30114, 30115, 30116, 30121, 30126, 30128, 30134, 30137, 30143, 30144, 30147, 30156, 30157, 30159, 30169, 30172, 30174, 30178, 30179, 30182, 30187, 30192, 30197, 30198, 30200, 30204, 30205, 30207, 30210, 30211, 30212, 30215, 30219, 30220, 30229, 30230, 30231, 30233, 30234, 30236, 30237, 30238, 30240, 30241, 30242, 30243, 30245, 30248, 30251, 30253, 30254, 30255, 30259, 30263, 30264, 30265, 30266, 30268, 30270, 30278, 30280, 30282, 30287, 30289, 30291, 30295, 30296, 30298, 30299, 30303, 30304, 30306, 30308, 30309, 30311, 30314, 30320, 30325, 30329, 30330, 30334, 30335, 30339, 30341, 30343, 30345, 30347, 30348, 30351, 30353, 30354, 30355, 30356, 30357, 30358, 30362, 30366, 30368, 30369, 30377, 30381, 30384, 30386, 30387, 30388, 30389, 30390, 30392, 30394, 30395, 30396, 30399, 30400, 30402, 30406, 30408, 30409, 30410, 30412, 30416, 30417, 30418, 30420, 30427, 30429, 30430, 30433, 30435, 30436, 30440, 30441, 30442, 30444, 30445, 30446, 30447, 30450, 30451, 30453, 30454, 30455, 30456, 30458, 30460, 30461, 30462, 30464, 30465, 30466, 30469, 30471, 30475, 30476, 30478, 30479, 30480, 30490, 30493, 30504, 30505, 30508, 30511, 30516, 30518, 30528, 30530, 30532, 30534, 30537, 30540, 30544, 30545, 30546, 30550, 30552, 30556, 30559, 30560, 30561, 30564, 30566, 30571, 30572, 30574, 30579, 30583, 30585, 30590, 30593, 30594, 30595, 30596, 30598, 30599, 30603, 30604, 30605, 30607, 30608, 30612, 30616, 30618, 30620, 30622, 30628, 30630, 30637, 30639, 30641, 30642, 30645, 30647, 30648, 30651, 30654, 30655, 30660, 30661, 30662, 30663, 30665, 30666, 30667, 30670, 30673, 30674, 30675, 30676, 30681, 30683, 30688, 30689, 30693, 30695, 30697, 30700, 30702, 30704, 30705, 30706, 30709, 30710, 30713, 30716, 30717, 30721, 30722, 30724, 30728, 30730, 30731, 30732, 30737, 30738, 30739, 30740, 30741, 30748, 30749, 30750, 30757, 30760, 30761, 30762, 30764, 30766, 30768, 30769, 30771, 30772, 30777, 30780, 30781, 30782, 30786, 30791, 30793, 30802, 30805, 30806, 30813, 30814, 30817, 30818, 30821, 30824, 30826, 30828, 30829, 30832, 30834, 30837, 30839, 30840, 30841, 30843, 30845, 30849, 30850, 30851, 30853, 30858, 30861, 30863, 30865, 30868, 30870, 30875, 30878, 30880, 30884, 30886, 30889, 30891, 30897, 30898, 30900, 30902, 30905, 30906, 30908, 30911, 30914, 30915, 30916, 30917, 30922, 30926, 30927, 30928, 30929, 30931, 30937, 30938, 30940, 30942, 30945, 30955, 30956, 30957, 30958, 30959, 30960, 30961, 30963, 30964, 30966, 30967, 30969, 30970, 30971, 30972, 30973, 30980, 30986, 30993, 31000, 31005, 31006, 31007, 31008, 31010, 31011, 31017, 31021, 31023, 31026, 31030, 31033, 31034, 31037, 31038, 31039, 31041, 31043, 31044, 31045, 31049, 31052, 31054, 31059, 31061, 31063, 31065, 31066, 31067, 31070, 31071, 31072, 31077, 31078, 31080, 31081, 31082, 31083, 31088, 31092, 31094, 31095, 31096, 31100, 31103, 31105, 31109, 31114, 31115, 31116, 31118, 31123, 31126, 31127, 31132, 31134, 31135, 31138, 31139, 31140, 31142, 31143, 31144, 31148, 31153, 31155, 31156, 31157, 31159, 31160, 31162, 31165, 31166, 31168, 31169, 31172, 31173, 31175, 31177, 31178, 31180, 31181, 31183, 31186, 31189, 31190, 31193, 31194, 31197, 31200, 31201, 31203, 31204, 31208, 31210, 31211, 31214, 31216, 31222, 31225, 31227, 31228, 31234, 31236, 31237, 31238, 31242, 31243, 31245, 31247, 31248, 31250, 31252, 31253, 31257, 31258, 31259, 31260, 31272, 31274, 31275, 31276, 31277, 31279, 31280, 31285, 31286, 31287, 31288, 31291, 31292, 31294, 31296, 31297, 31298, 31300, 31307, 31308, 31309, 31312, 31313, 31314, 31320, 31321, 31323, 31324, 31325, 31329, 31330, 31333, 31334, 31335, 31336, 31338, 31340, 31342, 31343, 31344, 31345, 31347, 31348, 31353, 31354, 31355, 31356, 31357, 31358, 31359, 31360, 31364, 31365, 31371, 31375, 31376, 31377, 31378, 31379, 31384, 31386, 31387, 31390, 31391, 31393, 31395, 31397, 31400, 31402, 31403, 31407, 31408, 31410, 31411, 31414, 31415, 31417, 31418, 31419, 31420, 31421, 31422, 31423, 31425, 31431, 31436, 31440, 31446, 31456, 31457, 31458, 31459, 31462, 31467, 31470, 31475, 31476, 31480, 31483, 31484, 31485, 31487, 31489, 31490, 31492, 31494, 31495, 31496, 31501, 31502, 31510, 31522, 31527, 31533, 31534, 31539, 31540, 31544, 31546, 31549, 31551, 31554, 31555, 31558, 31568, 31569, 31571, 31573, 31575, 31577, 31578, 31580, 31587, 31588, 31589, 31593, 31595, 31596, 31602, 31605, 31607, 31609, 31611, 31613, 31615, 31616, 31622, 31624, 31626, 31627, 31628, 31630, 31632, 31633, 31634, 31635, 31640, 31642, 31650, 31651, 31661, 31662, 31665, 31667, 31668, 31673, 31674, 31676, 31678, 31679, 31686, 31688, 31690, 31692, 31693, 31695, 31696, 31698, 31700, 31701, 31707, 31708, 31710, 31712, 31717, 31722, 31726, 31727, 31728, 31729, 31731, 31733, 31737, 31740, 31742, 31743, 31748, 31751, 31754, 31756, 31758, 31759, 31760, 31764, 31766, 31767, 31769, 31770, 31777, 31780, 31781, 31782, 31783, 31785, 31792, 31793, 31794, 31797, 31799, 31800, 31804, 31809, 31811, 31817, 31818, 31819, 31822, 31824, 31825, 31827, 31828, 31829, 31833, 31835, 31836, 31839, 31842, 31843, 31844, 31846, 31847, 31848, 31849, 31853, 31854, 31855, 31858, 31859, 31864, 31865, 31868, 31869, 31870, 31875, 31876, 31880, 31881, 31882, 31883, 31884, 31886, 31888, 31891, 31892, 31898, 31899, 31903, 31905, 31907, 31910, 31912, 31916, 31917, 31920, 31924, 31926, 31927, 31930, 31935, 31936, 31938, 31943, 31945, 31950, 31951, 31953, 31954, 31956, 31959, 31961, 31963, 31967, 31968, 31972, 31978, 31979, 31980, 31986, 31987, 31990, 31991, 31992, 31994, 31996, 31998, 32000, 32003, 32004, 32012, 32013, 32015, 32017, 32022, 32024, 32027, 32028, 32029, 32031, 32035, 32038, 32039, 32044, 32045, 32046, 32049, 32051, 32053, 32055, 32056, 32058, 32059, 32060, 32061, 32062, 32069, 32070, 32071, 32072, 32073, 32074, 32079, 32081, 32083, 32085, 32090, 32091, 32094, 32095, 32096, 32099, 32100, 32102, 32103, 32105, 32106, 32110, 32111, 32114, 32116, 32117, 32118, 32119, 32124, 32125, 32130, 32136, 32138, 32139, 32146, 32147, 32151, 32152, 32157, 32160, 32161, 32166, 32168, 32169, 32170, 32171, 32173, 32174, 32176, 32178, 32179, 32180, 32182, 32183, 32184, 32185, 32190, 32191, 32192, 32193, 32194, 32199, 32202, 32204, 32205, 32206, 32207, 32209, 32210, 32211, 32212, 32213, 32217, 32218, 32220, 32222, 32225, 32227, 32231, 32233, 32235, 32237, 32238, 32239, 32243, 32249, 32251, 32255, 32256, 32260, 32261, 32262, 32264, 32265, 32269, 32272, 32277, 32281, 32282, 32283, 32284, 32286, 32288, 32289, 32292, 32293, 32295, 32299, 32300, 32301, 32304, 32305, 32308, 32310, 32311, 32312, 32313, 32314, 32315, 32316, 32317, 32319, 32321, 32323, 32324, 32331, 32332, 32335, 32336, 32338, 32341, 32346, 32347, 32348, 32349, 32350, 32353, 32354, 32355, 32356, 32357, 32358, 32361, 32363, 32364, 32367, 32371, 32372, 32375, 32377, 32378, 32379, 32380, 32387, 32388, 32389, 32390, 32392, 32393, 32398, 32402, 32404, 32407, 32410, 32415, 32418, 32419, 32420, 32424, 32429, 32431, 32434, 32435, 32436, 32437, 32443, 32444, 32445, 32446, 32447, 32449, 32451, 32453, 32455, 32460, 32468, 32470, 32475, 32476, 32480, 32481, 32485, 32486, 32489, 32491, 32492, 32495, 32499, 32500, 32502, 32504, 32507, 32508, 32509, 32514, 32517, 32523, 32526, 32528, 32531, 32532, 32533, 32534, 32541, 32544, 32545, 32546, 32548, 32550, 32554, 32555, 32556, 32558, 32562, 32564, 32567, 32570, 32574, 32575, 32578, 32580, 32584, 32590, 32592, 32595, 32599, 32600, 32602, 32606, 32608, 32611, 32612, 32613, 32614, 32616, 32617, 32619, 32620, 32622, 32625, 32630, 32631, 32632, 32634, 32635, 32636, 32638, 32639, 32640, 32647, 32650, 32654, 32656, 32658, 32660, 32661, 32662, 32664, 32672, 32675, 32676, 32677, 32679, 32680, 32682, 32683, 32686, 32687, 32690, 32691, 32698, 32699, 32701, 32704, 32706, 32708, 32713, 32717, 32724, 32727, 32732, 32734, 32735, 32737, 32739, 32741, 32742, 32744, 32745, 32746, 32748, 32751, 32753, 32756, 32757, 32759, 32760, 32762, 32763, 32764, 32765, 32766, 32770, 32774, 32776, 32781, 32783, 32785, 32786, 32787, 32792, 32796, 32798, 32799, 32801, 32803, 32804, 32805, 32808, 32811, 32812, 32816, 32817, 32818, 32825, 32826, 32827, 32829, 32830, 32834, 32836, 32839, 32840, 32847, 32848, 32851, 32852, 32853, 32854, 32858, 32859, 32862, 32863, 32866, 32867, 32873, 32880, 32883, 32884, 32886, 32888, 32889, 32892, 32894, 32898, 32903, 32906, 32910, 32911, 32915, 32924, 32925, 32933, 32936, 32937, 32938, 32939, 32942, 32943, 32944, 32948, 32949, 32950, 32952, 32954, 32955, 32958, 32961, 32963, 32964, 32970, 32972, 32973, 32976, 32982, 32985, 32990, 32993, 32994, 32996, 32997, 33005, 33007, 33008, 33009, 33012, 33013, 33014, 33017, 33020, 33021, 33023, 33024, 33025, 33026, 33027, 33029, 33031, 33034, 33037, 33038, 33039, 33040, 33041, 33042, 33043, 33046, 33049, 33052, 33054, 33056, 33058, 33059, 33060, 33061, 33069, 33070, 33072, 33074, 33078, 33079, 33087, 33090, 33091, 33096, 33097, 33100, 33101, 33102, 33103, 33105, 33107, 33108, 33117, 33119, 33125, 33126, 33127, 33129, 33131, 33137, 33139, 33145, 33146, 33148, 33149, 33150, 33155, 33159, 33161, 33162, 33166, 33167, 33168, 33169, 33172, 33175, 33179, 33181, 33182, 33183, 33184, 33190, 33192, 33194, 33195, 33197, 33200, 33203, 33204, 33208, 33210, 33211, 33212, 33214, 33215, 33216, 33217, 33218, 33219, 33221, 33224, 33227, 33229, 33230, 33232, 33233, 33234, 33235, 33238, 33239, 33240, 33244, 33246, 33247, 33251, 33254, 33255, 33257, 33261, 33262, 33263, 33265, 33267, 33268, 33269, 33270, 33272, 33274, 33276, 33277, 33278, 33279, 33283, 33284, 33289, 33291, 33292, 33296, 33298, 33300, 33303, 33304, 33305, 33309, 33310, 33317, 33318, 33321, 33325, 33331, 33334, 33335, 33339, 33340, 33343, 33347, 33349, 33350, 33356, 33357, 33358, 33362, 33364, 33368, 33371, 33372, 33377, 33378, 33381, 33383, 33386, 33388, 33389, 33390, 33392, 33393, 33394, 33395, 33397, 33398, 33403, 33405, 33408, 33409, 33412, 33413, 33417, 33419, 33423, 33424, 33425, 33427, 33428, 33433, 33438, 33439, 33442, 33446, 33455, 33456, 33461, 33463, 33466, 33467, 33469, 33472, 33475, 33476, 33477, 33478, 33479, 33482, 33483, 33485, 33488, 33489, 33492, 33493, 33494, 33500, 33501, 33502, 33503, 33504, 33505, 33507, 33512, 33516, 33521, 33524, 33525, 33527, 33529, 33530, 33531, 33534, 33535, 33540, 33542, 33543, 33544, 33549, 33551, 33553, 33555, 33557, 33560, 33562, 33563, 33565, 33568, 33570, 33571, 33575, 33576, 33578, 33579, 33585, 33586, 33588, 33589, 33590, 33592, 33596, 33597, 33599, 33601, 33606, 33607, 33611, 33612, 33613, 33614, 33621, 33624, 33626, 33630, 33631, 33633, 33634, 33635, 33636, 33640, 33641, 33647, 33650, 33655, 33656, 33658, 33659, 33662, 33665, 33666, 33668, 33669, 33670, 33672, 33676, 33678, 33679, 33681, 33684, 33685, 33687, 33688, 33691, 33694, 33695, 33696, 33701, 33703, 33706, 33707, 33709, 33710, 33712, 33713, 33714, 33716, 33720, 33721, 33723, 33724, 33727, 33733, 33735, 33741, 33745, 33746, 33747, 33750, 33753, 33756, 33757, 33758, 33760, 33762, 33764, 33769, 33772, 33773, 33778, 33779, 33780, 33782, 33783, 33785, 33786, 33788, 33795, 33798, 33801, 33805, 33806, 33808, 33815, 33819, 33820, 33828, 33829, 33830, 33841, 33846, 33849, 33851, 33854, 33856, 33857, 33861, 33862, 33864, 33865, 33866, 33870, 33871, 33875, 33876, 33877, 33878, 33883, 33884, 33890, 33893, 33894, 33896, 33897, 33901, 33905, 33906, 33908, 33912, 33915, 33916, 33918, 33921, 33927, 33932, 33933, 33934, 33937, 33944, 33949, 33952, 33954, 33956, 33959, 33960, 33964, 33965, 33969, 33972, 33977, 33980, 33981, 33982, 33983, 33984, 33989, 33995, 33997, 33998, 33999, 34000, 34002, 34005, 34006, 34007, 34008, 34016, 34017, 34018, 34019, 34022, 34028, 34030, 34032, 34033, 34036, 34039, 34040, 34041, 34044, 34048, 34050, 34057, 34058, 34060, 34061, 34065, 34066, 34071, 34072, 34073, 34074, 34076, 34077, 34079, 34084, 34087, 34092, 34099, 34101, 34102, 34103, 34104, 34105, 34107, 34108, 34109, 34110, 34114, 34115, 34117, 34118, 34120, 34121, 34123, 34126, 34127, 34129, 34130, 34132, 34135, 34136, 34137, 34139, 34140, 34141, 34142, 34143, 34145, 34146, 34148, 34152, 34160, 34167, 34168, 34169, 34174, 34175, 34179, 34182, 34183, 34184, 34185, 34189, 34190, 34191, 34193, 34195, 34198, 34200, 34202, 34205, 34207, 34209, 34212, 34213, 34214, 34215, 34217, 34220, 34225, 34226, 34228, 34237, 34239, 34241, 34244, 34245, 34249, 34255, 34256, 34260, 34271, 34274, 34277, 34278, 34281, 34285, 34286, 34289, 34292, 34293, 34310, 34312, 34313, 34314, 34315, 34318, 34319, 34321, 34322, 34323, 34324, 34326, 34329, 34330, 34332, 34336, 34339, 34340, 34343, 34346, 34349, 34350, 34355, 34356, 34358, 34359, 34360, 34362, 34365, 34368, 34372, 34373, 34374, 34376, 34378, 34380, 34382, 34384, 34387, 34389, 34402, 34404, 34409, 34411, 34414, 34416, 34417, 34418, 34422, 34424, 34425, 34428, 34429, 34435, 34436, 34437, 34440, 34442, 34444, 34450, 34451, 34453, 34454, 34458, 34460, 34462, 34470, 34472, 34473, 34475, 34476, 34477, 34480, 34482, 34483, 34484, 34486, 34488, 34489, 34490, 34491, 34494, 34499, 34501, 34508, 34510, 34513, 34515, 34516, 34519, 34521, 34523, 34525, 34526, 34528, 34530, 34533, 34538, 34539, 34545, 34547, 34553, 34556, 34558, 34567, 34568, 34571, 34575, 34577, 34580, 34581, 34582, 34585, 34587, 34589, 34591, 34594, 34597, 34598, 34599, 34607, 34608, 34609, 34611, 34614, 34615, 34618, 34620, 34621, 34622, 34625, 34627, 34629, 34631, 34632, 34635, 34642, 34646, 34649, 34655, 34662, 34663, 34665, 34668, 34670, 34675, 34676, 34680, 34682, 34686, 34688, 34689, 34690, 34691, 34692, 34698, 34701, 34702, 34704, 34707, 34709, 34710, 34711, 34715, 34717, 34718, 34719, 34721, 34722, 34723, 34724, 34728, 34731, 34733, 34734, 34735, 34736, 34737, 34739, 34740, 34741, 34742, 34745, 34746, 34747, 34748, 34750, 34753, 34757, 34759, 34761, 34762, 34765, 34768, 34773, 34774, 34775, 34776, 34778, 34779, 34781, 34785, 34786, 34787, 34789, 34790, 34792, 34796, 34805, 34806, 34808, 34809, 34813, 34816, 34820, 34821, 34823, 34825, 34827, 34829, 34830, 34833, 34840, 34842, 34843, 34846, 34847, 34849, 34854, 34856, 34857, 34858, 34860, 34862, 34863, 34866, 34868, 34871, 34874, 34875, 34876, 34879, 34883, 34886, 34887, 34890, 34893, 34894, 34898, 34902, 34905, 34906, 34908, 34909, 34910, 34912, 34913, 34916, 34920, 34921, 34924, 34927, 34929, 34930, 34931, 34933, 34934, 34935, 34937, 34938, 34939, 34943, 34944, 34946, 34951, 34952, 34957, 34963, 34965, 34971, 34973, 34974, 34975, 34977, 34979, 34982, 34985, 34986, 34988, 34989, 34995, 35001, 35003, 35004, 35010, 35012, 35015, 35019, 35020, 35022, 35023, 35025, 35027, 35030, 35031, 35034, 35037, 35044, 35045, 35047, 35049, 35050, 35052, 35055, 35056, 35059, 35064, 35066, 35070, 35071, 35074, 35076, 35077, 35085, 35086, 35091, 35092, 35094, 35097, 35104, 35107, 35110, 35114, 35115, 35120, 35124, 35125, 35127, 35128, 35129, 35130, 35131, 35136, 35138, 35139, 35140, 35141, 35143, 35144, 35146, 35147, 35149, 35151, 35154, 35155, 35157, 35160, 35161, 35166, 35168, 35169, 35173, 35174, 35180, 35182, 35183, 35186, 35187, 35188, 35192, 35194, 35198, 35202, 35206, 35207, 35208, 35212, 35213, 35214, 35216, 35217, 35218, 35221, 35223, 35224, 35226, 35227, 35236, 35240, 35245, 35246, 35247, 35248, 35249, 35251, 35252, 35253, 35254, 35256, 35260, 35263, 35264, 35265, 35268, 35269, 35270, 35272, 35273, 35276, 35279, 35280, 35282, 35284, 35286, 35289, 35290, 35291, 35293, 35297, 35300, 35302, 35303, 35304, 35307, 35314, 35319, 35327, 35328, 35333, 35335, 35336, 35337, 35340, 35345, 35347, 35352, 35353, 35357, 35358, 35359, 35361, 35363, 35366, 35367, 35369, 35373, 35375, 35377, 35379, 35381, 35384, 35386, 35388, 35389, 35391, 35393, 35399, 35419])"
      ]
     },
     "execution_count": 69,
     "metadata": {},
     "output_type": "execute_result"
    }
   ],
   "source": [
    "dict_train_user_phase_action[0].keys()"
   ]
  },
  {
   "cell_type": "code",
   "execution_count": 70,
   "metadata": {
    "scrolled": true
   },
   "outputs": [
    {
     "data": {
      "text/plain": [
       "{'item_seq': [78142,\n",
       "  26646,\n",
       "  89568,\n",
       "  76240,\n",
       "  87533,\n",
       "  78380,\n",
       "  85492,\n",
       "  97795,\n",
       "  18522,\n",
       "  47611,\n",
       "  31443,\n",
       "  17887,\n",
       "  69359],\n",
       " 'time_seq': [0.9837416195438412,\n",
       "  0.9837566561259768,\n",
       "  0.983763437539981,\n",
       "  0.9837704328249822,\n",
       "  0.9837895070896584,\n",
       "  0.9837895279089588,\n",
       "  0.9838754813378136,\n",
       "  0.9838771248007852,\n",
       "  0.9838865445879744,\n",
       "  0.9838866404829348,\n",
       "  0.9838869477253404,\n",
       "  0.9838936622652276,\n",
       "  0.9839419314982224],\n",
       " 'diff_time_seq': [0.15036582135641297,\n",
       "  0.06781414004120023,\n",
       "  0.06995285001254459,\n",
       "  0.19074264676177677,\n",
       "  0.00020819300394769868,\n",
       "  0.8595342885475699,\n",
       "  0.016434629716011173,\n",
       "  0.09419787189268725,\n",
       "  0.0009589496041684242,\n",
       "  0.0030724240551727178,\n",
       "  0.0671453988720927,\n",
       "  0.4826923299483532]}"
      ]
     },
     "execution_count": 70,
     "metadata": {},
     "output_type": "execute_result"
    }
   ],
   "source": [
    "dict_train_user_phase_action[0][1]"
   ]
  },
  {
   "cell_type": "markdown",
   "metadata": {},
   "source": [
    "### 测试数据"
   ]
  },
  {
   "cell_type": "code",
   "execution_count": 71,
   "metadata": {},
   "outputs": [
    {
     "data": {
      "text/plain": [
       "dict_keys([1, 2, 3, 0, 4])"
      ]
     },
     "execution_count": 71,
     "metadata": {},
     "output_type": "execute_result"
    }
   ],
   "source": [
    "dict_test_user_phase_action.keys()"
   ]
  },
  {
   "cell_type": "code",
   "execution_count": 72,
   "metadata": {
    "scrolled": true
   },
   "outputs": [
    {
     "data": {
      "text/plain": [
       "dict_keys([11, 22, 44, 55, 66, 88, 99, 132, 143, 154, 176, 187, 242, 253, 264, 286, 297, 319, 341, 352, 363, 374, 385, 396, 407, 451, 462, 473, 484, 506, 572, 583, 594, 616, 660, 682, 704, 715, 726, 770, 781, 836, 847, 858, 869, 880, 891, 902, 924, 935, 968, 979, 990, 1001, 1012, 1034, 1056, 1067, 1100, 1111, 1122, 1133, 1243, 1254, 1265, 1287, 1298, 1353, 1364, 1375, 1386, 1397, 1419, 1430, 1463, 1496, 1507, 1518, 1529, 1540, 1551, 1562, 1584, 1639, 1661, 1672, 1683, 1705, 1727, 1738, 1749, 1771, 1793, 1848, 1870, 1881, 1892, 1914, 1925, 1947, 1969, 2002, 2024, 2035, 2057, 2079, 2123, 2134, 2145, 2156, 2200, 2211, 2222, 2244, 2255, 2266, 2299, 2310, 2321, 2332, 2354, 2376, 2398, 2420, 2431, 2453, 2464, 2475, 2508, 2519, 2574, 2585, 2640, 2651, 2662, 2673, 2717, 2761, 2772, 2805, 2827, 2849, 2882, 2893, 2904, 2937, 3025, 3036, 3047, 3058, 3102, 3124, 3135, 3157, 3168, 3179, 3190, 3212, 3223, 3234, 3256, 3300, 3311, 3333, 3344, 3355, 3366, 3377, 3388, 3421, 3443, 3465, 3476, 3487, 3498, 3509, 3520, 3531, 3542, 3564, 3575, 3619, 3630, 3652, 3663, 3685, 3696, 3707, 3751, 3762, 3784, 3795, 3817, 3839, 3861, 3872, 3927, 3938, 3949, 3960, 3971, 3993, 4004, 4015, 4048, 4070, 4081, 4114, 4136, 4147, 4158, 4169, 4180, 4213, 4224, 4279, 4301, 4334, 4345, 4356, 4378, 4389, 4400, 4433, 4444, 4455, 4499, 4510, 4521, 4532, 4543, 4554, 4565, 4576, 4587, 4609, 4631, 4642, 4664, 4675, 4686, 4719, 4741, 4763, 4774, 4785, 4796, 4829, 4840, 4851, 4873, 4884, 4895, 4906, 4917, 4928, 4939, 4950, 4961, 4983, 5005, 5016, 5038, 5049, 5071, 5082, 5093, 5115, 5126, 5137, 5148, 5159, 5181, 5214, 5236, 5247, 5269, 5291, 5302, 5324, 5335, 5379, 5390, 5401, 5412, 5423, 5445, 5456, 5467, 5478, 5500, 5533, 5544, 5577, 5588, 5599, 5610, 5632, 5643, 5665, 5676, 5687, 5709, 5731, 5742, 5764, 5786, 5841, 5852, 5863, 5874, 5885, 5896, 5907, 5918, 5940, 5973, 5995, 6006, 6017, 6039, 6072, 6083, 6127, 6138, 6149, 6160, 6171, 6182, 6204, 6215, 6226, 6237, 6259, 6270, 6281, 6314, 6347, 6369, 6380, 6413, 6424, 6446, 6468, 6490, 6534, 6545, 6556, 6611, 6633, 6644, 6699, 6710, 6743, 6754, 6765, 6776, 6809, 6820, 6842, 6875, 6886, 6897, 6930, 6941, 6952, 6963, 6985, 6996, 7007, 7018, 7029, 7084, 7117, 7150, 7172, 7183, 7238, 7249, 7260, 7271, 7293, 7315, 7326, 7337, 7370, 7381, 7403, 7425, 7447, 7458, 7469, 7491, 7513, 7535, 7546, 7557, 7612, 7645, 7667, 7678, 7700, 7711, 7722, 7744, 7755, 7777, 7810, 7832, 7854, 7865, 7876, 7887, 7909, 7964, 7975, 7997, 8019, 8030, 8096, 8107, 8118, 8129, 8173, 8184, 8195, 8217, 8239, 8294, 8305, 8327, 8338, 8349, 8360, 8371, 8382, 8404, 8415, 8448, 8470, 8503, 8514, 8547, 8569, 8624, 8646, 8657, 8690, 8701, 8734, 8745, 8756, 8767, 8844, 8888, 8899, 8910, 8932, 8954, 8965, 8976, 8987, 9064, 9075, 9097, 9108, 9119, 9163, 9185, 9207, 9218, 9229, 9251, 9262, 9317, 9328, 9339, 9361, 9383, 9394, 9427, 9438, 9493, 9504, 9515, 9526, 9537, 9548, 9570, 9592, 9636, 9647, 9658, 9691, 9702, 9735, 9757, 9768, 9779, 9790, 9823, 9834, 9867, 9878, 9889, 9933, 9955, 9966, 9977, 10032, 10043, 10054, 10065, 10076, 10109, 10131, 10142, 10153, 10175, 10186, 10197, 10208, 10241, 10263, 10274, 10285, 10307, 10329, 10351, 10362, 10373, 10384, 10406, 10428, 10450, 10461, 10494, 10516, 10571, 10582, 10626, 10637, 10648, 10692, 10703, 10714, 10725, 10747, 10769, 10791, 10802, 10813, 10824, 10846, 10857, 10868, 10879, 10912, 10923, 10934, 10945, 10956, 10978, 11000, 11011, 11022, 11033, 11044, 11066, 11099, 11121, 11154, 11165, 11176, 11187, 11198, 11209, 11220, 11242, 11253, 11264, 11275, 11319, 11330, 11341, 11352, 11374, 11407, 11418, 11440, 11462, 11473, 11484, 11495, 11506, 11517, 11528, 11550, 11583, 11616, 11627, 11660, 11693, 11704, 11715, 11759, 11770, 11792, 11803, 11814, 11825, 11847, 11891, 11902, 11913, 11924, 11935, 11946, 11957, 11968, 11979, 12012, 12045, 12056, 12067, 12111, 12166, 12177, 12199, 12210, 12221, 12243, 12254, 12265, 12276, 12287, 12331, 12342, 12353, 12375, 12397, 12419, 12430, 12441, 12452, 12474, 12485, 12496, 12518, 12529, 12540, 12551, 12573, 12628, 12650, 12705, 12760, 12771, 12782, 12793, 12804, 12826, 12837, 12848, 12859, 12870, 12914, 12958, 12969, 12980, 13002, 13013, 13024, 13101, 13145, 13156, 13178, 13211, 13222, 13233, 13277, 13310, 13332, 13354, 13365, 13376, 13398, 13409, 13420, 13431, 13442, 13453, 13464, 13475, 13486, 13497, 13508, 13519, 13530, 13541, 13563, 13574, 13618, 13629, 13640, 13662, 13684, 13695, 13728, 13739, 13772, 13783, 13794, 13805, 13816, 13838, 13849, 13871, 13893, 13904, 13948, 13970, 14025, 14036, 14047, 14058, 14069, 14102, 14113, 14124, 14135, 14168, 14179, 14201, 14212, 14223, 14234, 14289, 14300, 14322, 14333, 14366, 14377, 14399, 14432, 14465, 14476, 14487, 14509, 14520, 14531, 14564, 14575, 14597, 14619, 14630, 14663, 14674, 14707, 14740, 14762, 14784, 14795, 14806, 14817, 14839, 14872, 14883, 14894, 14916, 14938, 14949, 14960, 14982, 14993, 15015, 15048, 15059, 15070, 15103, 15114, 15125, 15136, 15147, 15180, 15191, 15202, 15213, 15257, 15268, 15290, 15323, 15378, 15389, 15422, 15433, 15488, 15499, 15510, 15521, 15576, 15587, 15620, 15697, 15708, 15719, 15730, 15774, 15796, 15851, 15862, 15895, 15906, 15928, 15939, 15950, 15972, 15994, 16016, 16049, 16093, 16104, 16115, 16170, 16247, 16258, 16280, 16302, 16313, 16324, 16335, 16357, 16368, 16401, 16412, 16423, 16445, 16489, 16500, 16522, 16544, 16599, 16610, 16643, 16654, 16665, 16687, 16709, 16731, 16753, 16786, 16797, 16819, 16830, 16896, 16907, 16918, 16973, 16995, 17006, 17017, 17028, 17039, 17072, 17105, 17127, 17138, 17160, 17171, 17193, 17215, 17259, 17336, 17369, 17424, 17446, 17490, 17512, 17534, 17545, 17556, 17567, 17600, 17611, 17622, 17644, 17655, 17666, 17677, 17688, 17710, 17721, 17754, 17787, 17798, 17809, 17820, 17831, 17842, 17864, 17886, 17919, 17930, 17963, 17974, 18007, 18018, 18029, 18040, 18062, 18095, 18106, 18117, 18128, 18172, 18183, 18216, 18227, 18260, 18271, 18282, 18337, 18348, 18370, 18403, 18414, 18436, 18480, 18491, 18524, 18546, 18568, 18601, 18612, 18623, 18634, 18667, 18700, 18711, 18722, 18755, 18777, 18788, 18799, 18832, 18854, 18865, 18876, 18898, 18920, 18942, 18953, 18964, 19008, 19030, 19052, 19074, 19085, 19151, 19184, 19217, 19239, 19250, 19261, 19283, 19294, 19316, 19360, 19382, 19393, 19404, 19415, 19470, 19481, 19503, 19514, 19525, 19536, 19558, 19569, 19580, 19602, 19613, 19624, 19635, 19646, 19657, 19668, 19690, 19734, 19745, 19756, 19789, 19800, 19833, 19844, 19855, 19877, 19899, 19943, 19976, 19987, 19998, 20009, 20020, 20031, 20042, 20075, 20097, 20119, 20152, 20207, 20229, 20240, 20284, 20306, 20317, 20350, 20405, 20427, 20438, 20460, 20482, 20493, 20526, 20537, 20548, 20570, 20603, 20636, 20647, 20658, 20669, 20680, 20702, 20713, 20724, 20746, 20757, 20768, 20801, 20812, 20823, 20834, 20845, 20878, 20900, 20922, 20933, 20966, 20988, 21010, 21087, 21098, 21109, 21131, 21153, 21164, 21208, 21219, 21230, 21241, 21285, 21296, 21307, 21351, 21362, 21384, 21428, 21439, 21461, 21483, 21494, 21516, 21538, 21560, 21571, 21593, 21604, 21615, 21626, 21637, 21648, 21659, 21703, 21725, 21758, 21780, 21791, 21802, 21846, 21857, 21868, 21879, 21912, 21967, 21978, 21989, 22044, 22055, 22077, 22099, 22110, 22132, 22154, 22187, 22198, 22220, 22231, 22253, 22264, 22308, 22319, 22341, 22352, 22363, 22374, 22385, 22407, 22429, 22440, 22462, 22473, 22484, 22528, 22539, 22550, 22561, 22583, 22660, 22671, 22682, 22693, 22704, 22737, 22759, 22814, 22825, 22836, 22891, 22924, 22946, 22957, 22968, 23001, 23012, 23034, 23045, 23067, 23100, 23111, 23144, 23155, 23166, 23199, 23210, 23221, 23232, 23254, 23287, 23309, 23331, 23397, 23408, 23419, 23441, 23474, 23529, 23551, 23562, 23573, 23584, 23595, 23628, 23639, 23661, 23672, 23694, 23705, 23716, 23749, 23793, 23837, 23870, 23881, 23892, 23914, 23969, 23980, 23991, 24002, 24046, 24057, 24068, 24079, 24123, 24134, 24156, 24167, 24222, 24244, 24266, 24277, 24288, 24321, 24343, 24354, 24365, 24376, 24398, 24420, 24442, 24464, 24497, 24530, 24541, 24563, 24585, 24607, 24618, 24629, 24640, 24662, 24717, 24750, 24783, 24816, 24827, 24838, 24882, 24893, 24904, 24915, 24937, 24948, 24959, 24981, 24992, 25003, 25014, 25036, 25058, 25091, 25102, 25201, 25212, 25223, 25234, 25300, 25311, 25322, 25344, 25355, 25377, 25432, 25487, 25531, 25542, 25575, 25619, 25641, 25652, 25663, 25674, 25685, 25751, 25795, 25806, 25828, 25839, 25850, 25861, 25872, 25894, 25905, 25960, 25982, 25993, 26048, 26158, 26202, 26213, 26224, 26235, 26279, 26312, 26334, 26356, 26400, 26411, 26433, 26510, 26521, 26543, 26576, 26598, 26609, 26664, 26708, 26719, 26741, 26752, 26785, 26796, 26818, 26862, 26873, 26884, 26950, 26994, 27005, 27038, 27060, 27115, 27170, 27181, 27192, 27203, 27236, 27247, 27269, 27280, 27302, 27346, 27412, 27445, 27456, 27489, 27500, 27533, 27588, 27610, 27643, 27654, 27665, 27687, 27698, 27709, 27720, 27731, 27742, 27753, 27764, 27775, 27786, 27797, 27819, 27830, 27863, 27874, 27907, 27951, 27973, 27984, 27995, 28050, 28061, 28072, 28138, 28149, 28160, 28171, 28193, 28204, 28215, 28226, 28237, 28248, 28259, 28270, 28303, 28336, 28347, 28391, 28402, 28468, 28512, 28523, 28556, 28567, 28578, 28589, 28600, 28611, 28622, 28699, 28721, 28732, 28743, 28754, 28765, 28798, 28809, 28820, 28897, 28908, 28919, 28952, 28996, 29007, 29018, 29029, 29040, 29051, 29073, 29084, 29128, 29139, 29150, 29216, 29249, 29271, 29315, 29370, 29381, 29414, 29425, 29458, 29535, 29568, 29590, 29601, 29612, 29623, 29634, 29645, 29678, 29689, 29711, 29722, 29744, 29799, 29810, 29832, 29865, 29876, 29887, 29898, 29909, 29953, 29964, 29975, 30008, 30019, 30030, 30052, 30074, 30107, 30140, 30151, 30173, 30228, 30239, 30272, 30283, 30360, 30415, 30459, 30492, 30503, 30514, 30525, 30547, 30558, 30569, 30591, 30602, 30624, 30668, 30679, 30712, 30800, 30833, 30844, 30866, 30877, 30888, 30899, 31009, 31020, 31086, 31108, 31119, 31141, 31163, 31196, 31218, 31229, 31240, 31251, 31295, 31306, 31328, 31361, 31372, 31416, 31438, 31449, 31471, 31504, 31515, 31614, 31625, 31680, 31691, 31702, 31713, 31779, 31812, 31823, 31834, 31867, 31900, 31933, 31944, 31977, 31988, 32054, 32098, 32109, 32131, 32142, 32164, 32186, 32241, 32252, 32285, 32340, 32351, 32384, 32406, 32461, 32505, 32516, 32538, 32549, 32560, 32593, 32604, 32659, 32692, 32714, 32725, 32758, 32769, 32791, 32879, 32890, 32934, 32978, 32989, 33011, 33022, 33044, 33077, 33088, 33099, 33110, 33154, 33165, 33187, 33209, 33220, 33231, 33242, 33264, 33275, 33297, 33308, 33352, 33363, 33418, 33440, 33473, 33506, 33528, 33539, 33550, 33561, 33572, 33583, 33605, 33649, 33660, 33682, 33693, 33726, 33737, 33759, 33770, 33781, 33792, 33836, 33880, 33891, 33913, 33924, 33946, 33957, 33979, 34023, 34045, 34056, 34067, 34078, 34089, 34100, 34111, 34122, 34144, 34166, 34199, 34254, 34287, 34331, 34353, 34375, 34397, 34419, 34496, 34507, 34518, 34551, 34562, 34573, 34606, 34628, 34639, 34650, 34661, 34683, 34694, 34705, 34727, 34771, 34793, 34804, 34826, 34837, 34859, 34870, 34903, 34914, 34925, 34936, 34947, 34969, 34980, 35002, 35013, 35024, 35057, 35123, 35145, 35244, 35266, 35277, 35299, 35321, 35343, 35354, 35365, 35398])"
      ]
     },
     "execution_count": 72,
     "metadata": {},
     "output_type": "execute_result"
    }
   ],
   "source": [
    "dict_test_user_phase_action[0].keys()"
   ]
  },
  {
   "cell_type": "code",
   "execution_count": 73,
   "metadata": {
    "scrolled": true
   },
   "outputs": [
    {
     "data": {
      "text/plain": [
       "{'item_seq': [88058,\n",
       "  66082,\n",
       "  29755,\n",
       "  78804,\n",
       "  43074,\n",
       "  75757,\n",
       "  23323,\n",
       "  22113,\n",
       "  20317,\n",
       "  64689,\n",
       "  28210,\n",
       "  8052,\n",
       "  -999],\n",
       " 'time_seq': [0.9837398543195056,\n",
       "  0.9837403218074372,\n",
       "  0.9837406845679778,\n",
       "  0.9837699287455526,\n",
       "  0.9838303091335048,\n",
       "  0.983830314180608,\n",
       "  0.9838681668235364,\n",
       "  0.9838682015223708,\n",
       "  0.9838683989902826,\n",
       "  0.9838684431524354,\n",
       "  0.9838684967779068,\n",
       "  0.9838685327385168,\n",
       "  0.9838685415709472],\n",
       " 'diff_time_seq': [0.004674879315880176,\n",
       "  0.00362760540606466,\n",
       "  0.29244177574772046,\n",
       "  0.6038038795219691,\n",
       "  5.047103179833812e-05,\n",
       "  0.37852642928437596,\n",
       "  0.00034698834361357456,\n",
       "  0.001974679117999756,\n",
       "  0.0004416215282354585,\n",
       "  0.0005362547139675655,\n",
       "  0.00035960610045293606,\n",
       "  8.832430342664566e-05]}"
      ]
     },
     "execution_count": 73,
     "metadata": {},
     "output_type": "execute_result"
    }
   ],
   "source": [
    "dict_test_user_phase_action[0][11]"
   ]
  },
  {
   "cell_type": "markdown",
   "metadata": {},
   "source": [
    "## 用户画像数据处理"
   ]
  },
  {
   "cell_type": "code",
   "execution_count": 74,
   "metadata": {},
   "outputs": [
    {
     "data": {
      "text/html": [
       "<div>\n",
       "<style scoped>\n",
       "    .dataframe tbody tr th:only-of-type {\n",
       "        vertical-align: middle;\n",
       "    }\n",
       "\n",
       "    .dataframe tbody tr th {\n",
       "        vertical-align: top;\n",
       "    }\n",
       "\n",
       "    .dataframe thead th {\n",
       "        text-align: right;\n",
       "    }\n",
       "</style>\n",
       "<table border=\"1\" class=\"dataframe\">\n",
       "  <thead>\n",
       "    <tr style=\"text-align: right;\">\n",
       "      <th></th>\n",
       "      <th>user_id</th>\n",
       "      <th>user_age_level</th>\n",
       "      <th>user_gender</th>\n",
       "      <th>user_city_level</th>\n",
       "    </tr>\n",
       "  </thead>\n",
       "  <tbody>\n",
       "    <tr>\n",
       "      <th>0</th>\n",
       "      <td>17</td>\n",
       "      <td>8.0</td>\n",
       "      <td>M</td>\n",
       "      <td>4.0</td>\n",
       "    </tr>\n",
       "    <tr>\n",
       "      <th>1</th>\n",
       "      <td>26</td>\n",
       "      <td>7.0</td>\n",
       "      <td>M</td>\n",
       "      <td>2.0</td>\n",
       "    </tr>\n",
       "    <tr>\n",
       "      <th>2</th>\n",
       "      <td>35</td>\n",
       "      <td>6.0</td>\n",
       "      <td>F</td>\n",
       "      <td>4.0</td>\n",
       "    </tr>\n",
       "    <tr>\n",
       "      <th>3</th>\n",
       "      <td>40</td>\n",
       "      <td>6.0</td>\n",
       "      <td>M</td>\n",
       "      <td>1.0</td>\n",
       "    </tr>\n",
       "    <tr>\n",
       "      <th>4</th>\n",
       "      <td>49</td>\n",
       "      <td>6.0</td>\n",
       "      <td>M</td>\n",
       "      <td>1.0</td>\n",
       "    </tr>\n",
       "  </tbody>\n",
       "</table>\n",
       "</div>"
      ],
      "text/plain": [
       "   user_id  user_age_level user_gender  user_city_level\n",
       "0       17             8.0           M              4.0\n",
       "1       26             7.0           M              2.0\n",
       "2       35             6.0           F              4.0\n",
       "3       40             6.0           M              1.0\n",
       "4       49             6.0           M              1.0"
      ]
     },
     "execution_count": 74,
     "metadata": {},
     "output_type": "execute_result"
    }
   ],
   "source": [
    "underexpose_user_feat.head()"
   ]
  },
  {
   "cell_type": "code",
   "execution_count": 75,
   "metadata": {},
   "outputs": [],
   "source": [
    "def deal_user_feat_data(user_feat_data):\n",
    "    user_feat_data = user_feat_data.fillna(-1)\n",
    "    dict_user_feat = {}\n",
    "    dict_user_age_level, index_user_age_level = {}, 0\n",
    "    dict_user_gender, index_user_gender = {}, 0\n",
    "    dict_user_city_level, index_user_city_level = {}, 0\n",
    "    for i,row in tqdm(user_feat_data.iterrows()):\n",
    "        user_id, user_age_level, user_gender, user_city_level = int(row[\"user_id\"]), int(row[\"user_age_level\"]), row[\"user_gender\"], int(row[\"user_city_level\"])\n",
    "        if user_id not in dict_user_feat:\n",
    "            dict_user_feat[user_id] = {}\n",
    "        if user_age_level not in dict_user_age_level:\n",
    "            dict_user_age_level[user_age_level] = index_user_age_level\n",
    "            index_user_age_level += 1\n",
    "        if user_gender not in dict_user_gender:\n",
    "            dict_user_gender[user_gender] = index_user_gender\n",
    "            index_user_gender += 1\n",
    "        if user_city_level not in dict_user_city_level:\n",
    "            dict_user_city_level[user_city_level] = index_user_city_level\n",
    "            index_user_city_level += 1\n",
    "        dict_user_feat[user_id][\"user_age_level\"] = dict_user_age_level[user_age_level]\n",
    "        dict_user_feat[user_id][\"user_gender\"] = dict_user_gender[user_gender]\n",
    "        dict_user_feat[user_id][\"user_city_level\"] = dict_user_city_level[user_city_level]\n",
    "    return dict_user_feat, dict_user_age_level, dict_user_gender, dict_user_city_level"
   ]
  },
  {
   "cell_type": "code",
   "execution_count": 76,
   "metadata": {},
   "outputs": [
    {
     "name": "stderr",
     "output_type": "stream",
     "text": [
      "6789it [00:01, 5230.74it/s]\n"
     ]
    }
   ],
   "source": [
    "dict_user_feat, dict_user_age_level, dict_user_gender, dict_user_city_level = deal_user_feat_data(underexpose_user_feat)"
   ]
  },
  {
   "cell_type": "code",
   "execution_count": 77,
   "metadata": {},
   "outputs": [
    {
     "data": {
      "text/plain": [
       "{'user_age_level': 0, 'user_gender': 0, 'user_city_level': 0}"
      ]
     },
     "execution_count": 77,
     "metadata": {},
     "output_type": "execute_result"
    }
   ],
   "source": [
    "dict_user_feat[17]"
   ]
  },
  {
   "cell_type": "code",
   "execution_count": 78,
   "metadata": {},
   "outputs": [
    {
     "data": {
      "text/plain": [
       "{8: 0, 7: 1, 6: 2, 5: 3, 4: 4, -1: 5, 2: 6, 3: 7, 1: 8}"
      ]
     },
     "execution_count": 78,
     "metadata": {},
     "output_type": "execute_result"
    }
   ],
   "source": [
    "dict_user_age_level"
   ]
  },
  {
   "cell_type": "code",
   "execution_count": 79,
   "metadata": {},
   "outputs": [
    {
     "data": {
      "text/plain": [
       "{'M': 0, 'F': 1, -1: 2}"
      ]
     },
     "execution_count": 79,
     "metadata": {},
     "output_type": "execute_result"
    }
   ],
   "source": [
    "dict_user_gender"
   ]
  },
  {
   "cell_type": "code",
   "execution_count": 80,
   "metadata": {},
   "outputs": [
    {
     "data": {
      "text/plain": [
       "{4: 0, 2: 1, 1: 2, 6: 3, -1: 4, 3: 5, 5: 6}"
      ]
     },
     "execution_count": 80,
     "metadata": {},
     "output_type": "execute_result"
    }
   ],
   "source": [
    "dict_user_city_level"
   ]
  },
  {
   "cell_type": "markdown",
   "metadata": {},
   "source": [
    "## 商品画像数据处理"
   ]
  },
  {
   "cell_type": "code",
   "execution_count": 81,
   "metadata": {
    "scrolled": false
   },
   "outputs": [
    {
     "data": {
      "text/html": [
       "<div>\n",
       "<style scoped>\n",
       "    .dataframe tbody tr th:only-of-type {\n",
       "        vertical-align: middle;\n",
       "    }\n",
       "\n",
       "    .dataframe tbody tr th {\n",
       "        vertical-align: top;\n",
       "    }\n",
       "\n",
       "    .dataframe thead th {\n",
       "        text-align: right;\n",
       "    }\n",
       "</style>\n",
       "<table border=\"1\" class=\"dataframe\">\n",
       "  <thead>\n",
       "    <tr style=\"text-align: right;\">\n",
       "      <th></th>\n",
       "      <th>item_id</th>\n",
       "      <th>txt_vec</th>\n",
       "      <th>img_vec</th>\n",
       "    </tr>\n",
       "  </thead>\n",
       "  <tbody>\n",
       "    <tr>\n",
       "      <th>0</th>\n",
       "      <td>42844</td>\n",
       "      <td>4.514945030212402, -2.3837196826934814, 0.5004...</td>\n",
       "      <td>-2.8722801208496094, 1.4587551355361938, 2.579...</td>\n",
       "    </tr>\n",
       "    <tr>\n",
       "      <th>1</th>\n",
       "      <td>67898</td>\n",
       "      <td>-2.0029051303863525, -0.9298805594444275, 0.79...</td>\n",
       "      <td>-0.07052088528871536, -1.4393335580825806, 0.7...</td>\n",
       "    </tr>\n",
       "    <tr>\n",
       "      <th>2</th>\n",
       "      <td>66446</td>\n",
       "      <td>4.221673011779785, -1.4971394538879395, 1.1335...</td>\n",
       "      <td>-5.18036413192749, -0.38824713230133057, -0.03...</td>\n",
       "    </tr>\n",
       "    <tr>\n",
       "      <th>3</th>\n",
       "      <td>63651</td>\n",
       "      <td>2.6579699516296387, -0.941863477230072, 1.1215...</td>\n",
       "      <td>-1.077273964881897, 2.8394529819488525, 1.1834...</td>\n",
       "    </tr>\n",
       "    <tr>\n",
       "      <th>4</th>\n",
       "      <td>46824</td>\n",
       "      <td>3.192194938659668, -1.9366759061813354, 1.1999...</td>\n",
       "      <td>-3.2601945400238037, 0.49889034032821655, 2.58...</td>\n",
       "    </tr>\n",
       "  </tbody>\n",
       "</table>\n",
       "</div>"
      ],
      "text/plain": [
       "  item_id                                            txt_vec  \\\n",
       "0   42844  4.514945030212402, -2.3837196826934814, 0.5004...   \n",
       "1   67898  -2.0029051303863525, -0.9298805594444275, 0.79...   \n",
       "2   66446  4.221673011779785, -1.4971394538879395, 1.1335...   \n",
       "3   63651  2.6579699516296387, -0.941863477230072, 1.1215...   \n",
       "4   46824  3.192194938659668, -1.9366759061813354, 1.1999...   \n",
       "\n",
       "                                             img_vec  \n",
       "0  -2.8722801208496094, 1.4587551355361938, 2.579...  \n",
       "1  -0.07052088528871536, -1.4393335580825806, 0.7...  \n",
       "2  -5.18036413192749, -0.38824713230133057, -0.03...  \n",
       "3  -1.077273964881897, 2.8394529819488525, 1.1834...  \n",
       "4  -3.2601945400238037, 0.49889034032821655, 2.58...  "
      ]
     },
     "execution_count": 81,
     "metadata": {},
     "output_type": "execute_result"
    }
   ],
   "source": [
    "underexpose_item_feat.head()"
   ]
  },
  {
   "cell_type": "code",
   "execution_count": 82,
   "metadata": {},
   "outputs": [],
   "source": [
    "def deal_item_feat_data(item_feat_data):\n",
    "    dict_item_feat = {}\n",
    "    for i,row in tqdm(item_feat_data.iterrows()):    \n",
    "        item_id, txt_vec, img_vec = int(row[\"item_id\"]), [float(x_) for x_ in row[\"txt_vec\"].split(\",\")], [float(x_) for x_ in row[\"img_vec\"].split(\",\")]   \n",
    "        if item_id not in dict_item_feat:\n",
    "            dict_item_feat[item_id] = {}\n",
    "        dict_item_feat[item_id][\"txt_vec\"] = txt_vec\n",
    "        dict_item_feat[item_id][\"img_vec\"] = img_vec\n",
    "    return dict_item_feat"
   ]
  },
  {
   "cell_type": "code",
   "execution_count": 83,
   "metadata": {},
   "outputs": [
    {
     "name": "stderr",
     "output_type": "stream",
     "text": [
      "108916it [00:40, 2710.38it/s]\n"
     ]
    }
   ],
   "source": [
    "dict_item_feat = deal_item_feat_data(underexpose_item_feat)"
   ]
  },
  {
   "cell_type": "code",
   "execution_count": 84,
   "metadata": {
    "scrolled": false
   },
   "outputs": [
    {
     "data": {
      "text/plain": [
       "{'txt_vec': [1.7666375637054443,\n",
       "  -2.346564292907715,\n",
       "  -2.6982970237731934,\n",
       "  -2.2688496112823486,\n",
       "  -0.512924313545227,\n",
       "  0.383025586605072,\n",
       "  1.5153915882110596,\n",
       "  -1.793656587600708,\n",
       "  -3.375066041946411,\n",
       "  -1.7356140613555908,\n",
       "  -1.4488118886947632,\n",
       "  0.37305888533592224,\n",
       "  1.2421644926071167,\n",
       "  0.20273008942604065,\n",
       "  0.1523425132036209,\n",
       "  -4.863239288330078,\n",
       "  0.7611547708511353,\n",
       "  0.4133894741535187,\n",
       "  -0.02597382664680481,\n",
       "  1.3881211280822754,\n",
       "  0.908719539642334,\n",
       "  0.4326136112213135,\n",
       "  2.819796562194824,\n",
       "  -0.11872899532318115,\n",
       "  1.759788990020752,\n",
       "  -2.130720853805542,\n",
       "  -0.9828834533691406,\n",
       "  -1.3969204425811768,\n",
       "  -0.46778756380081177,\n",
       "  -0.2125086784362793,\n",
       "  -2.6478614807128906,\n",
       "  1.8164061307907104,\n",
       "  0.4256328344345093,\n",
       "  -0.5654808282852173,\n",
       "  -2.3022749423980713,\n",
       "  -1.1511421203613281,\n",
       "  -0.6566124558448792,\n",
       "  -1.961538553237915,\n",
       "  -0.14991673827171326,\n",
       "  -0.02903914451599121,\n",
       "  -0.543321430683136,\n",
       "  0.7845445871353149,\n",
       "  -1.0764912366867065,\n",
       "  3.1454033851623535,\n",
       "  -1.6029587984085083,\n",
       "  -1.1262439489364624,\n",
       "  2.0407021045684814,\n",
       "  4.229191303253174,\n",
       "  0.7757853269577026,\n",
       "  0.6068161129951477,\n",
       "  -3.7516536712646484,\n",
       "  -1.2940216064453125,\n",
       "  -0.32737523317337036,\n",
       "  -0.7134799957275391,\n",
       "  0.5541882514953613,\n",
       "  1.3570427894592285,\n",
       "  -0.49048036336898804,\n",
       "  4.998167037963867,\n",
       "  1.2464888095855713,\n",
       "  -1.0878782272338867,\n",
       "  -1.9876773357391357,\n",
       "  1.5843586921691895,\n",
       "  -0.4353233873844147,\n",
       "  1.227582573890686,\n",
       "  -0.4775536060333252,\n",
       "  1.0094351768493652,\n",
       "  -0.8001195192337036,\n",
       "  0.4490676522254944,\n",
       "  0.9085069894790649,\n",
       "  -0.44597262144088745,\n",
       "  1.7541694641113281,\n",
       "  -0.21844851970672607,\n",
       "  0.6172528862953186,\n",
       "  -0.5292344689369202,\n",
       "  -3.264615058898926,\n",
       "  -4.009411334991455,\n",
       "  -2.806208610534668,\n",
       "  -0.475618839263916,\n",
       "  -3.6112618446350098,\n",
       "  2.445284366607666,\n",
       "  -1.0434340238571167,\n",
       "  4.746551513671875,\n",
       "  -2.4151358604431152,\n",
       "  1.3831803798675537,\n",
       "  0.5256510972976685,\n",
       "  -2.1475656032562256,\n",
       "  -0.46499720215797424,\n",
       "  1.1762669086456299,\n",
       "  -1.2789623737335205,\n",
       "  -1.7059555053710938,\n",
       "  0.07198259234428406,\n",
       "  1.2507832050323486,\n",
       "  0.5067065954208374,\n",
       "  -1.8587450981140137,\n",
       "  0.6728061437606812,\n",
       "  -0.3553043007850647,\n",
       "  -3.033071279525757,\n",
       "  1.6960692405700684,\n",
       "  1.8893039226531982,\n",
       "  -1.7152862548828125,\n",
       "  -0.2571159601211548,\n",
       "  -2.2712242603302,\n",
       "  0.25638601183891296,\n",
       "  1.5514806509017944,\n",
       "  -0.8501389026641846,\n",
       "  -1.1019796133041382,\n",
       "  1.4024394750595093,\n",
       "  -1.0746984481811523,\n",
       "  -0.3062349855899811,\n",
       "  -0.256767600774765,\n",
       "  -3.0336852073669434,\n",
       "  2.2182087898254395,\n",
       "  2.641333818435669,\n",
       "  1.1228187084197998,\n",
       "  2.4037299156188965,\n",
       "  -0.31008923053741455,\n",
       "  -0.24036157131195068,\n",
       "  4.105828762054443,\n",
       "  -0.5597924590110779,\n",
       "  1.2652665376663208,\n",
       "  1.8525701761245728,\n",
       "  -2.210692882537842,\n",
       "  -3.0834779739379883,\n",
       "  -0.3425610661506653,\n",
       "  -1.9290387630462646,\n",
       "  -2.0315005779266357,\n",
       "  0.6436665058135986,\n",
       "  1.9442715644836426],\n",
       " 'img_vec': [-0.29260289669036865,\n",
       "  1.6998257637023926,\n",
       "  -0.8043385744094849,\n",
       "  -2.4441514015197754,\n",
       "  2.9275805950164795,\n",
       "  -1.520246148109436,\n",
       "  -1.8748328685760498,\n",
       "  -2.768303394317627,\n",
       "  0.3532502055168152,\n",
       "  -0.9273422360420227,\n",
       "  1.4537396430969238,\n",
       "  -0.5792363286018372,\n",
       "  -2.487691879272461,\n",
       "  3.7423808574676514,\n",
       "  -2.5287790298461914,\n",
       "  2.6536266803741455,\n",
       "  -3.3165621757507324,\n",
       "  -1.4544062614440918,\n",
       "  -0.6305550336837769,\n",
       "  -2.623734951019287,\n",
       "  2.040332317352295,\n",
       "  -0.24203693866729736,\n",
       "  -2.0247318744659424,\n",
       "  -2.1834404468536377,\n",
       "  -0.9016563296318054,\n",
       "  -0.9289847016334534,\n",
       "  0.9237385988235474,\n",
       "  -0.08733201026916504,\n",
       "  0.6086347103118896,\n",
       "  -1.0146448612213135,\n",
       "  2.2525599002838135,\n",
       "  1.4858067035675049,\n",
       "  -2.1115615367889404,\n",
       "  -2.1330556869506836,\n",
       "  -0.07216933369636536,\n",
       "  -5.023961067199707,\n",
       "  -3.0610246658325195,\n",
       "  2.7852120399475098,\n",
       "  2.062836170196533,\n",
       "  -2.265406608581543,\n",
       "  3.234431266784668,\n",
       "  -2.0262699127197266,\n",
       "  -2.5052497386932373,\n",
       "  1.5663436651229858,\n",
       "  1.0240973234176636,\n",
       "  0.7972100973129272,\n",
       "  -0.5179876685142517,\n",
       "  -1.0237501859664917,\n",
       "  1.9124395847320557,\n",
       "  -3.7776360511779785,\n",
       "  3.7150416374206543,\n",
       "  -2.002011775970459,\n",
       "  3.0076534748077393,\n",
       "  -0.758434534072876,\n",
       "  4.758275985717773,\n",
       "  -2.4231643676757812,\n",
       "  0.10935854911804199,\n",
       "  -0.26437175273895264,\n",
       "  1.0148534774780273,\n",
       "  0.4498378038406372,\n",
       "  -1.353919267654419,\n",
       "  -0.6302188038825989,\n",
       "  -1.0730692148208618,\n",
       "  -2.4352893829345703,\n",
       "  -1.4483344554901123,\n",
       "  0.769179105758667,\n",
       "  -0.9925645589828491,\n",
       "  0.13988345861434937,\n",
       "  -1.6225628852844238,\n",
       "  2.7623276710510254,\n",
       "  -2.957061529159546,\n",
       "  1.7373602390289307,\n",
       "  0.9543311595916748,\n",
       "  -1.6362848281860352,\n",
       "  0.22351759672164917,\n",
       "  0.3190009593963623,\n",
       "  -0.6104225516319275,\n",
       "  -2.16640305519104,\n",
       "  1.5561795234680176,\n",
       "  -1.7489851713180542,\n",
       "  -0.46624577045440674,\n",
       "  -0.6222776174545288,\n",
       "  -0.5310858488082886,\n",
       "  -1.157242774963379,\n",
       "  0.5531723499298096,\n",
       "  -3.4686217308044434,\n",
       "  2.170647621154785,\n",
       "  -0.5631227493286133,\n",
       "  3.949146032333374,\n",
       "  -1.404654860496521,\n",
       "  -1.2497498989105225,\n",
       "  -0.0786430686712265,\n",
       "  0.16803377866744995,\n",
       "  -1.9873435497283936,\n",
       "  3.2312071323394775,\n",
       "  0.251852810382843,\n",
       "  -2.1119208335876465,\n",
       "  -0.6846374273300171,\n",
       "  0.4167931079864502,\n",
       "  0.8831769227981567,\n",
       "  3.3032729625701904,\n",
       "  1.4185552597045898,\n",
       "  0.7754594087600708,\n",
       "  -0.38045257329940796,\n",
       "  2.2515881061553955,\n",
       "  2.607100009918213,\n",
       "  3.0325233936309814,\n",
       "  -0.9165595769882202,\n",
       "  -2.4852590560913086,\n",
       "  -2.6953835487365723,\n",
       "  2.096130132675171,\n",
       "  0.9237862825393677,\n",
       "  1.8017417192459106,\n",
       "  -0.4177505373954773,\n",
       "  1.4858973026275635,\n",
       "  -0.4922475218772888,\n",
       "  -1.013980746269226,\n",
       "  1.2460204362869263,\n",
       "  2.4903695583343506,\n",
       "  -2.661857843399048,\n",
       "  1.2282228469848633,\n",
       "  2.038147449493408,\n",
       "  -1.1337909698486328,\n",
       "  -0.19425886869430542,\n",
       "  1.5561858415603638,\n",
       "  3.609055995941162,\n",
       "  -0.7044529318809509,\n",
       "  -0.29612624645233154]}"
      ]
     },
     "execution_count": 84,
     "metadata": {},
     "output_type": "execute_result"
    }
   ],
   "source": [
    "dict_item_feat[1]"
   ]
  },
  {
   "cell_type": "markdown",
   "metadata": {},
   "source": [
    "# id 转化为embeeding特征"
   ]
  },
  {
   "cell_type": "markdown",
   "metadata": {},
   "source": [
    "## user_id, item_id 特征"
   ]
  },
  {
   "cell_type": "code",
   "execution_count": 85,
   "metadata": {},
   "outputs": [],
   "source": [
    "def get_node_user_item(underexpose_train_click, underexpose_test_click):\n",
    "    list_user_id = []\n",
    "    list_item_id = []\n",
    "    list_index_user_id = []\n",
    "    list_index_item_id = []\n",
    "    list_score = []\n",
    "    index_user_id = 0\n",
    "    index_item_id = 0\n",
    "    dict_user_id = {}\n",
    "    dict_item_id = {}\n",
    "    list_underexpose_click = [underexpose_train_click, underexpose_test_click]\n",
    "    for underexpose_click in list_underexpose_click:\n",
    "        for i,row in tqdm(underexpose_click.iterrows()):\n",
    "            user_id, item_id, time, phase = int(row[\"user_id\"]), int(row[\"item_id\"]), float(row[\"time\"]), int(row[\"phase\"])\n",
    "            if item_id > 0:\n",
    "                list_user_id.append(user_id)\n",
    "                list_item_id.append(item_id)\n",
    "                list_score.append(1)\n",
    "                if user_id not in dict_user_id:\n",
    "                    dict_user_id[user_id] = index_user_id\n",
    "                    index_user_id += 1\n",
    "                list_index_user_id.append(dict_user_id[user_id])\n",
    "                if item_id not in dict_item_id:\n",
    "                    dict_item_id[item_id] = index_item_id\n",
    "                    index_item_id += 1\n",
    "                list_index_item_id.append(dict_item_id[item_id])\n",
    "    node_user_item = pd.DataFrame({\"user_id\":list_user_id, \"item_id\":list_item_id, \"score\":list_score, \"index_user_id\":list_index_user_id, \"index_item_id\":list_index_item_id})\n",
    "    node_user_item = node_user_item.groupby([\"user_id\", \"item_id\", \"index_user_id\", \"index_item_id\"])[\"score\"].sum().reset_index()\n",
    "    node_user_item.columns = [\"user_id\", \"item_id\", \"index_user_id\", \"index_item_id\", \"score\"]\n",
    "    return node_user_item, dict_user_id, dict_item_id"
   ]
  },
  {
   "cell_type": "code",
   "execution_count": 86,
   "metadata": {},
   "outputs": [
    {
     "name": "stderr",
     "output_type": "stream",
     "text": [
      "1258742it [03:09, 6633.45it/s]\n",
      "127295it [00:19, 6637.56it/s]\n"
     ]
    }
   ],
   "source": [
    "node_user_item, dict_user_id, dict_item_id = get_node_user_item(underexpose_train_click, underexpose_test_click)"
   ]
  },
  {
   "cell_type": "markdown",
   "metadata": {},
   "source": [
    "### 探索数据"
   ]
  },
  {
   "cell_type": "code",
   "execution_count": 87,
   "metadata": {
    "scrolled": false
   },
   "outputs": [
    {
     "data": {
      "text/plain": [
       "0"
      ]
     },
     "execution_count": 87,
     "metadata": {},
     "output_type": "execute_result"
    }
   ],
   "source": [
    "node_user_item.index_user_id.min()"
   ]
  },
  {
   "cell_type": "code",
   "execution_count": 88,
   "metadata": {},
   "outputs": [
    {
     "data": {
      "text/plain": [
       "27767"
      ]
     },
     "execution_count": 88,
     "metadata": {},
     "output_type": "execute_result"
    }
   ],
   "source": [
    "node_user_item.index_user_id.max()"
   ]
  },
  {
   "cell_type": "code",
   "execution_count": 89,
   "metadata": {},
   "outputs": [
    {
     "data": {
      "text/plain": [
       "0"
      ]
     },
     "execution_count": 89,
     "metadata": {},
     "output_type": "execute_result"
    }
   ],
   "source": [
    "node_user_item.index_item_id.min()"
   ]
  },
  {
   "cell_type": "code",
   "execution_count": 90,
   "metadata": {},
   "outputs": [
    {
     "data": {
      "text/plain": [
       "80749"
      ]
     },
     "execution_count": 90,
     "metadata": {},
     "output_type": "execute_result"
    }
   ],
   "source": [
    "node_user_item.index_item_id.max()"
   ]
  },
  {
   "cell_type": "markdown",
   "metadata": {},
   "source": [
    "### underexpose_user_feat 用户画像只覆盖部分用户"
   ]
  },
  {
   "cell_type": "markdown",
   "metadata": {},
   "source": [
    "训练集中有的用户 和 用户画像 共有"
   ]
  },
  {
   "cell_type": "code",
   "execution_count": 91,
   "metadata": {},
   "outputs": [
    {
     "data": {
      "text/plain": [
       "5617"
      ]
     },
     "execution_count": 91,
     "metadata": {},
     "output_type": "execute_result"
    }
   ],
   "source": [
    "len((set(underexpose_test_click.user_id.astype(str)) |\n",
    "    set(underexpose_train_click.user_id.astype(str)))\n",
    "    & set(underexpose_user_feat.user_id.astype(str)))"
   ]
  },
  {
   "cell_type": "markdown",
   "metadata": {},
   "source": [
    "训练集中有的用户 有 和 用户画像 没有"
   ]
  },
  {
   "cell_type": "code",
   "execution_count": 92,
   "metadata": {},
   "outputs": [
    {
     "data": {
      "text/plain": [
       "22151"
      ]
     },
     "execution_count": 92,
     "metadata": {},
     "output_type": "execute_result"
    }
   ],
   "source": [
    "len((set(underexpose_test_click.user_id.astype(str)) |\n",
    "    set(underexpose_train_click.user_id.astype(str))) \n",
    "    - set(underexpose_user_feat.user_id.astype(str)))"
   ]
  },
  {
   "cell_type": "markdown",
   "metadata": {},
   "source": [
    "训练集中有的用户 没有 和 用户画像 有"
   ]
  },
  {
   "cell_type": "code",
   "execution_count": 93,
   "metadata": {
    "scrolled": false
   },
   "outputs": [
    {
     "data": {
      "text/plain": [
       "1169"
      ]
     },
     "execution_count": 93,
     "metadata": {},
     "output_type": "execute_result"
    }
   ],
   "source": [
    "len(set(underexpose_user_feat.user_id.astype(str)) \n",
    "    - (set(underexpose_test_click.user_id.astype(str)) |\n",
    "    set(underexpose_train_click.user_id.astype(str))))"
   ]
  },
  {
   "cell_type": "markdown",
   "metadata": {},
   "source": [
    "### underexpose_item_feat 商品画像只覆盖部分商品"
   ]
  },
  {
   "cell_type": "markdown",
   "metadata": {},
   "source": [
    "训练集中有的商品 和 商品画像 共有"
   ]
  },
  {
   "cell_type": "code",
   "execution_count": 94,
   "metadata": {},
   "outputs": [
    {
     "data": {
      "text/plain": [
       "75387"
      ]
     },
     "execution_count": 94,
     "metadata": {},
     "output_type": "execute_result"
    }
   ],
   "source": [
    "len((set(underexpose_test_click.item_id.astype(str)) |\n",
    "    set(underexpose_train_click.item_id.astype(str)))\n",
    "    & set(underexpose_item_feat.item_id.astype(str)))"
   ]
  },
  {
   "cell_type": "markdown",
   "metadata": {},
   "source": [
    "训练集中有的商品 有 和 商品画像 没有"
   ]
  },
  {
   "cell_type": "code",
   "execution_count": 95,
   "metadata": {},
   "outputs": [
    {
     "data": {
      "text/plain": [
       "5364"
      ]
     },
     "execution_count": 95,
     "metadata": {},
     "output_type": "execute_result"
    }
   ],
   "source": [
    "len((set(underexpose_test_click.item_id.astype(str)) |\n",
    "    set(underexpose_train_click.item_id.astype(str))) \n",
    "    - set(underexpose_item_feat.item_id.astype(str)))"
   ]
  },
  {
   "cell_type": "markdown",
   "metadata": {},
   "source": [
    "训练集中有的商品 没有 和 商品画像 有"
   ]
  },
  {
   "cell_type": "code",
   "execution_count": 96,
   "metadata": {},
   "outputs": [
    {
     "data": {
      "text/plain": [
       "33529"
      ]
     },
     "execution_count": 96,
     "metadata": {},
     "output_type": "execute_result"
    }
   ],
   "source": [
    "len(set(underexpose_item_feat.item_id.astype(str)) \n",
    "    - (set(underexpose_test_click.item_id.astype(str)) |\n",
    "    set(underexpose_train_click.item_id.astype(str))))"
   ]
  },
  {
   "cell_type": "markdown",
   "metadata": {},
   "source": [
    "# 导入tensorflow"
   ]
  },
  {
   "cell_type": "code",
   "execution_count": 97,
   "metadata": {},
   "outputs": [
    {
     "name": "stdout",
     "output_type": "stream",
     "text": [
      "WARNING:tensorflow:From /usr/local/anaconda3/lib/python3.6/site-packages/tensorflow_core/python/compat/v2_compat.py:68: disable_resource_variables (from tensorflow.python.ops.variable_scope) is deprecated and will be removed in a future version.\n",
      "Instructions for updating:\n",
      "non-resource variables are not supported in the long term\n"
     ]
    }
   ],
   "source": [
    "import tensorflow.compat.v1 as tf\n",
    "tf.disable_v2_behavior()"
   ]
  },
  {
   "cell_type": "markdown",
   "metadata": {},
   "source": [
    "## 矩阵分解 图算法 Word2Vec FM"
   ]
  },
  {
   "cell_type": "markdown",
   "metadata": {},
   "source": [
    "## 矩阵分解"
   ]
  },
  {
   "cell_type": "code",
   "execution_count": 98,
   "metadata": {},
   "outputs": [],
   "source": [
    "class Decompose:\n",
    "    def __init__(self\n",
    "                 ,size_user_id\n",
    "                 ,size_item_id\n",
    "                 ,embedding_size\n",
    "                 ,learning_rate\n",
    "                ):\n",
    "        self.size_user_id = size_user_id+1\n",
    "        self.size_item_id = size_item_id+1\n",
    "        self.embedding_size = 128\n",
    "        self.learning_rate = learning_rate\n",
    "        self.model()\n",
    "        self.sess = tf.InteractiveSession()\n",
    "        self.saver = tf.train.Saver()\n",
    "\n",
    "    def model(self):\n",
    "        self.input_user_id = tf.placeholder(dtype=tf.int32, shape=[None])\n",
    "        self.input_item_id = tf.placeholder(dtype=tf.int32, shape=[None])\n",
    "        self.input_score = tf.placeholder(dtype=tf.float32, shape=[None])\n",
    "\n",
    "        self.variable_user_id = tf.Variable(tf.random_uniform([self.size_user_id, self.embedding_size], -1.0, 1.0), name=\"variable_user_id\")\n",
    "        self.variable_item_id = tf.Variable(tf.random_uniform([self.size_item_id, self.embedding_size], -1.0, 1.0), name=\"variable_item_id\")\n",
    "\n",
    "        self.embeeding_user_id = tf.nn.embedding_lookup(self.variable_user_id, self.input_user_id)\n",
    "        self.embeeding_item_id = tf.nn.embedding_lookup(self.variable_item_id, self.input_item_id)\n",
    "\n",
    "        self.output_score = tf.reduce_sum(self.embeeding_user_id * self.embeeding_item_id, axis=1)\n",
    "        self.loss = tf.reduce_mean((self.input_score-self.output_score) ** 2)\n",
    "\n",
    "        self.optimizer = tf.train.GradientDescentOptimizer(self.learning_rate).minimize(self.loss)\n",
    "\n",
    "    def initializer(self):\n",
    "        self.sess.run(tf.global_variables_initializer())\n",
    "        \n",
    "    def train(self, feed_dict):\n",
    "        return self.sess.run([self.loss, self.optimizer], feed_dict)\n",
    "        \n",
    "    def loss(self, feed_dict):\n",
    "        return self.sess.run(self.loss, feed_dict)\n",
    "\n",
    "    def get_embeeding_user_id(self, feed_dict):\n",
    "        return self.sess.run(self.embeeding_user_id, feed_dict)\n",
    "        \n",
    "    def get_embeeding_item_id(self, feed_dict):\n",
    "        return self.sess.run(self.embeeding_item_id, feed_dict)\n",
    "        \n",
    "    def save(self, model_name):\n",
    "        self.saver.save(self.sess, \"./tf_model/\"+model_name)\n",
    "    \n",
    "    def load(self, model_name):\n",
    "        self.saver.restore(self.sess, \"./tf_model/\"+model_name)"
   ]
  },
  {
   "cell_type": "code",
   "execution_count": 99,
   "metadata": {},
   "outputs": [],
   "source": [
    "size_user_id = node_user_item.index_user_id.max()\n",
    "size_item_id = node_user_item.index_item_id.max()\n",
    "embedding_size = 128\n",
    "learning_rate = 0.03"
   ]
  },
  {
   "cell_type": "code",
   "execution_count": 100,
   "metadata": {},
   "outputs": [
    {
     "name": "stdout",
     "output_type": "stream",
     "text": [
      "WARNING:tensorflow:From /usr/local/anaconda3/lib/python3.6/site-packages/tensorflow_core/python/ops/math_grad.py:1375: where (from tensorflow.python.ops.array_ops) is deprecated and will be removed in a future version.\n",
      "Instructions for updating:\n",
      "Use tf.where in 2.0, which has the same broadcast rule as np.where\n"
     ]
    }
   ],
   "source": [
    "decompose = Decompose(\n",
    "                  size_user_id=size_user_id\n",
    "                 ,size_item_id=size_item_id\n",
    "                 ,embedding_size=embedding_size\n",
    "                 ,learning_rate=learning_rate\n",
    "                )\n",
    "decompose.initializer()"
   ]
  },
  {
   "cell_type": "code",
   "execution_count": 101,
   "metadata": {},
   "outputs": [
    {
     "name": "stdout",
     "output_type": "stream",
     "text": [
      "INFO:tensorflow:Restoring parameters from ./tf_model/decompose.model05\n"
     ]
    }
   ],
   "source": [
    "decompose.load(\"decompose.model05\")"
   ]
  },
  {
   "cell_type": "code",
   "execution_count": 102,
   "metadata": {
    "scrolled": false
   },
   "outputs": [
    {
     "data": {
      "text/html": [
       "<div>\n",
       "<style scoped>\n",
       "    .dataframe tbody tr th:only-of-type {\n",
       "        vertical-align: middle;\n",
       "    }\n",
       "\n",
       "    .dataframe tbody tr th {\n",
       "        vertical-align: top;\n",
       "    }\n",
       "\n",
       "    .dataframe thead th {\n",
       "        text-align: right;\n",
       "    }\n",
       "</style>\n",
       "<table border=\"1\" class=\"dataframe\">\n",
       "  <thead>\n",
       "    <tr style=\"text-align: right;\">\n",
       "      <th></th>\n",
       "      <th>user_id</th>\n",
       "      <th>item_id</th>\n",
       "      <th>index_user_id</th>\n",
       "      <th>index_item_id</th>\n",
       "      <th>score</th>\n",
       "    </tr>\n",
       "  </thead>\n",
       "  <tbody>\n",
       "    <tr>\n",
       "      <th>0</th>\n",
       "      <td>1</td>\n",
       "      <td>2945</td>\n",
       "      <td>2690</td>\n",
       "      <td>34274</td>\n",
       "      <td>1</td>\n",
       "    </tr>\n",
       "    <tr>\n",
       "      <th>1</th>\n",
       "      <td>1</td>\n",
       "      <td>4033</td>\n",
       "      <td>2690</td>\n",
       "      <td>27709</td>\n",
       "      <td>2</td>\n",
       "    </tr>\n",
       "    <tr>\n",
       "      <th>2</th>\n",
       "      <td>1</td>\n",
       "      <td>4889</td>\n",
       "      <td>2690</td>\n",
       "      <td>230</td>\n",
       "      <td>1</td>\n",
       "    </tr>\n",
       "    <tr>\n",
       "      <th>3</th>\n",
       "      <td>1</td>\n",
       "      <td>13025</td>\n",
       "      <td>2690</td>\n",
       "      <td>11384</td>\n",
       "      <td>3</td>\n",
       "    </tr>\n",
       "    <tr>\n",
       "      <th>4</th>\n",
       "      <td>1</td>\n",
       "      <td>13905</td>\n",
       "      <td>2690</td>\n",
       "      <td>69354</td>\n",
       "      <td>1</td>\n",
       "    </tr>\n",
       "  </tbody>\n",
       "</table>\n",
       "</div>"
      ],
      "text/plain": [
       "   user_id  item_id  index_user_id  index_item_id  score\n",
       "0        1     2945           2690          34274      1\n",
       "1        1     4033           2690          27709      2\n",
       "2        1     4889           2690            230      1\n",
       "3        1    13025           2690          11384      3\n",
       "4        1    13905           2690          69354      1"
      ]
     },
     "execution_count": 102,
     "metadata": {},
     "output_type": "execute_result"
    }
   ],
   "source": [
    "node_user_item.head()"
   ]
  },
  {
   "cell_type": "code",
   "execution_count": 103,
   "metadata": {},
   "outputs": [],
   "source": [
    "set_index_user_id = set(node_user_item[\"index_user_id\"])\n",
    "set_index_item_id = set(node_user_item[\"index_item_id\"])\n",
    "# set_index_user_id_item_id = set([str(index_user_id)+\"-\"+str(index_item_id) for (index_user_id, index_item_id) in zip(node_user_item[\"index_user_id\"], node_user_item[\"index_item_id\"])])\n",
    "set_index_user_id_index_item_id = set(zip(node_user_item[\"index_user_id\"], node_user_item[\"index_item_id\"]))"
   ]
  },
  {
   "cell_type": "code",
   "execution_count": 104,
   "metadata": {},
   "outputs": [],
   "source": [
    "# (17811, 732) in set_index_user_id_item_id"
   ]
  },
  {
   "cell_type": "code",
   "execution_count": 105,
   "metadata": {},
   "outputs": [],
   "source": [
    "import random"
   ]
  },
  {
   "cell_type": "code",
   "execution_count": 106,
   "metadata": {},
   "outputs": [
    {
     "data": {
      "text/plain": [
       "80749"
      ]
     },
     "execution_count": 106,
     "metadata": {},
     "output_type": "execute_result"
    }
   ],
   "source": [
    "size_item_id"
   ]
  },
  {
   "cell_type": "code",
   "execution_count": 107,
   "metadata": {},
   "outputs": [
    {
     "data": {
      "text/plain": [
       "27767"
      ]
     },
     "execution_count": 107,
     "metadata": {},
     "output_type": "execute_result"
    }
   ],
   "source": [
    "size_user_id"
   ]
  },
  {
   "cell_type": "code",
   "execution_count": 108,
   "metadata": {},
   "outputs": [
    {
     "data": {
      "text/plain": [
       "[49755, 43343, 46745, 404, 37539]"
      ]
     },
     "execution_count": 108,
     "metadata": {},
     "output_type": "execute_result"
    }
   ],
   "source": [
    "random.sample(set_index_item_id, 5)"
   ]
  },
  {
   "cell_type": "code",
   "execution_count": 109,
   "metadata": {},
   "outputs": [],
   "source": [
    "sample_num = 5\n",
    "epoch_num = 10"
   ]
  },
  {
   "cell_type": "code",
   "execution_count": 110,
   "metadata": {},
   "outputs": [
    {
     "data": {
      "text/plain": [
       "675361"
      ]
     },
     "execution_count": 110,
     "metadata": {},
     "output_type": "execute_result"
    }
   ],
   "source": [
    "len(set_index_user_id_index_item_id)"
   ]
  },
  {
   "cell_type": "code",
   "execution_count": 111,
   "metadata": {},
   "outputs": [],
   "source": [
    "index = 0\n",
    "n = 1000\n",
    "# max_index = 1000"
   ]
  },
  {
   "cell_type": "code",
   "execution_count": 112,
   "metadata": {},
   "outputs": [],
   "source": [
    "log_file = open('./temp/log/decompose.log','w')"
   ]
  },
  {
   "cell_type": "code",
   "execution_count": null,
   "metadata": {
    "scrolled": false
   },
   "outputs": [
    {
     "name": "stderr",
     "output_type": "stream",
     "text": [
      "\n",
      "\n",
      "  0%|          | 0/10 [00:00<?, ?it/s]\u001b[A\u001b[A\n",
      "\n",
      " 10%|█         | 1/10 [27:05<4:03:46, 1625.21s/it]\u001b[A\u001b[A\n",
      "\n",
      " 20%|██        | 2/10 [54:06<3:36:31, 1623.97s/it]\u001b[A\u001b[A\n",
      "\n",
      " 30%|███       | 3/10 [1:21:03<3:09:13, 1621.92s/it]\u001b[A\u001b[A\n",
      "\n",
      " 40%|████      | 4/10 [1:48:06<2:42:14, 1622.40s/it]\u001b[A\u001b[A\n",
      "\n",
      " 50%|█████     | 5/10 [2:15:15<2:15:21, 1624.34s/it]\u001b[A\u001b[A"
     ]
    }
   ],
   "source": [
    "for epoch in tqdm(range(epoch_num)):\n",
    "    for (index_user_id, index_item_id) in set_index_user_id_index_item_id:\n",
    "        list_input_user_id = []\n",
    "        list_input_item_id = []\n",
    "        list_input_score = []\n",
    "\n",
    "        list_input_user_id.append(index_user_id)\n",
    "        list_input_item_id.append(index_item_id)\n",
    "        list_input_score.append(1)\n",
    "\n",
    "        for sample_index_item_id in random.sample(set_index_item_id, sample_num):\n",
    "            if (index_item_id, sample_index_item_id) not in set_index_user_id_index_item_id:\n",
    "                list_input_user_id.append(index_user_id)\n",
    "                list_input_item_id.append(sample_index_item_id)\n",
    "                list_input_score.append(0)\n",
    "\n",
    "        for sample_index_user_id in random.sample(set_index_user_id, sample_num):\n",
    "            if (sample_index_user_id, index_item_id) not in set_index_user_id_index_item_id:\n",
    "                list_input_user_id.append(sample_index_user_id)\n",
    "                list_input_item_id.append(index_item_id)\n",
    "                list_input_score.append(0)   \n",
    "\n",
    "        feed_dict = {\n",
    "            decompose.input_user_id:list_input_user_id,\n",
    "            decompose.input_item_id:list_input_item_id,\n",
    "            decompose.input_score:list_input_score\n",
    "        }\n",
    "        loss, optimizer = decompose.train(feed_dict)\n",
    "        index += 1\n",
    "        if index % n == 0:\n",
    "            log_file.write(\"epoch : \" + str(epoch) +\", index : \" + str(index) + \", loss :\" + str(loss) + \"\\n\")\n",
    "            log_file.flush()\n",
    "# decompose.save(\"decompose.model\")"
   ]
  },
  {
   "cell_type": "code",
   "execution_count": null,
   "metadata": {},
   "outputs": [],
   "source": []
  },
  {
   "cell_type": "code",
   "execution_count": 124,
   "metadata": {},
   "outputs": [
    {
     "name": "stderr",
     "output_type": "stream",
     "text": [
      "100%|██████████| 1/1 [00:00<00:00,  9.55it/s]"
     ]
    },
    {
     "name": "stdout",
     "output_type": "stream",
     "text": [
      "[0, 0, 0, 0, 0, 0, 0, 0, 0, 0]\n",
      "0.028537944\n",
      "[1]\n",
      "0.32805237\n",
      "[0, 0, 0, 0, 0, 0, 0, 0, 0, 0]\n",
      "0.02141049\n",
      "[1]\n",
      "0.47899142\n",
      "[0, 0, 0, 0, 0, 0, 0, 0, 0, 0]\n",
      "0.037932485\n",
      "[1]\n",
      "0.7499018\n",
      "[0, 0, 0, 0, 0, 0, 0, 0, 0, 0]\n",
      "0.009750263\n",
      "[1]\n",
      "0.44788417\n",
      "[0, 0, 0, 0, 0, 0, 0, 0, 0, 0]\n",
      "0.003022074\n",
      "[1]\n",
      "0.88115615\n",
      "[0, 0, 0, 0, 0, 0, 0, 0, 0, 0]\n",
      "0.22445157\n",
      "[1]\n",
      "0.17618969\n",
      "[0, 0, 0, 0, 0, 0, 0, 0, 0, 0]\n",
      "0.016753675\n",
      "[1]\n",
      "0.91306525\n",
      "[0, 0, 0, 0, 0, 0, 0, 0, 0, 0]\n",
      "0.015746335\n",
      "[1]\n",
      "0.4693376\n",
      "[0, 0, 0, 0, 0, 0, 0, 0, 0, 0]\n",
      "0.02001405\n",
      "[1]\n",
      "1.0866144\n",
      "[0, 0, 0, 0, 0, 0, 0, 0, 0, 0]\n",
      "0.04383972\n",
      "[1]\n",
      "0.2560113\n",
      "[0, 0, 0, 0, 0, 0, 0, 0, 0, 0]\n",
      "0.07873188\n",
      "[1]\n",
      "0.26247963\n",
      "[0, 0, 0, 0, 0, 0, 0, 0, 0, 0]\n",
      "0.060424972\n",
      "[1]\n",
      "0.37028676\n",
      "[0, 0, 0, 0, 0, 0, 0, 0, 0, 0]\n",
      "0.019060358\n",
      "[1]\n",
      "0.262583\n",
      "[0, 0, 0, 0, 0, 0, 0, 0, 0, 0]\n",
      "0.060069013\n",
      "[1]\n",
      "0.4752728\n",
      "[0, 0, 0, 0, 0, 0, 0, 0, 0, 0]\n",
      "0.10537334\n",
      "[1]\n",
      "0.43265876\n",
      "[0, 0, 0, 0, 0, 0, 0, 0, 0, 0]\n",
      "0.08917895\n",
      "[1]\n",
      "0.66738594\n",
      "[0, 0, 0, 0, 0, 0, 0, 0, 0, 0]\n",
      "0.020465726\n",
      "[1]\n",
      "1.1748208\n",
      "[0, 0, 0, 0, 0, 0, 0, 0, 0, 0]\n",
      "0.109679505\n",
      "[1]\n",
      "0.4367585\n",
      "[0, 0, 0, 0, 0, 0, 0, 0, 0, 0]\n",
      "0.019452393\n",
      "[1]\n",
      "0.51244235\n",
      "[0, 0, 0, 0, 0, 0, 0, 0, 0, 0]\n",
      "0.037813876\n",
      "[1]\n",
      "0.5598593\n"
     ]
    },
    {
     "name": "stderr",
     "output_type": "stream",
     "text": [
      "\n"
     ]
    }
   ],
   "source": [
    "for epoch in tqdm(range(1)):\n",
    "    for (index_user_id, index_item_id) in random.sample(set_index_user_id_index_item_id, 20):\n",
    "        list_input_user_id = []\n",
    "        list_input_item_id = []\n",
    "        list_input_score = []\n",
    "\n",
    "#         list_input_user_id.append(index_user_id)\n",
    "#         list_input_item_id.append(index_item_id)\n",
    "#         list_input_score.append(1)\n",
    "\n",
    "        for sample_index_item_id in random.sample(set_index_item_id, sample_num):\n",
    "            if (index_item_id, sample_index_item_id) not in set_index_user_id_index_item_id:\n",
    "                list_input_user_id.append(index_user_id)\n",
    "                list_input_item_id.append(sample_index_item_id)\n",
    "                list_input_score.append(0)\n",
    "\n",
    "        for sample_index_user_id in random.sample(set_index_user_id, sample_num):\n",
    "            if (sample_index_user_id, index_item_id) not in set_index_user_id_index_item_id:\n",
    "                list_input_user_id.append(sample_index_user_id)\n",
    "                list_input_item_id.append(index_item_id)\n",
    "                list_input_score.append(0)   \n",
    "\n",
    "        feed_dict = {\n",
    "            decompose.input_user_id:list_input_user_id,\n",
    "            decompose.input_item_id:list_input_item_id,\n",
    "            decompose.input_score:list_input_score\n",
    "        }\n",
    "        print(list_input_score)\n",
    "        loss, optimizer = decompose.train(feed_dict)\n",
    "        print(loss)\n",
    "        \n",
    "        list_input_user_id = []\n",
    "        list_input_item_id = []\n",
    "        list_input_score = []\n",
    "        \n",
    "        list_input_user_id.append(index_user_id)\n",
    "        list_input_item_id.append(index_item_id)\n",
    "        list_input_score.append(1)\n",
    "        \n",
    "        feed_dict = {\n",
    "            decompose.input_user_id:list_input_user_id,\n",
    "            decompose.input_item_id:list_input_item_id,\n",
    "            decompose.input_score:list_input_score\n",
    "        }\n",
    "        print(list_input_score)\n",
    "        loss, optimizer = decompose.train(feed_dict)\n",
    "        print(loss)  \n",
    "\n",
    "#         index += 1\n",
    "        \n",
    "#         if index > 20:\n",
    "#             break\n",
    "#         if index % n == 0:\n",
    "#             log_file.write(\"epoch : \" + str(epoch) +\", index : \" + str(index) + \", loss :\" + str(loss) + \"\\n\")\n",
    "#             log_file.flush()\n",
    "#         break"
   ]
  },
  {
   "cell_type": "code",
   "execution_count": null,
   "metadata": {},
   "outputs": [],
   "source": []
  },
  {
   "cell_type": "code",
   "execution_count": null,
   "metadata": {},
   "outputs": [],
   "source": []
  },
  {
   "cell_type": "code",
   "execution_count": 6,
   "metadata": {},
   "outputs": [],
   "source": [
    "# decompose.save(\"decompose.model05\")"
   ]
  },
  {
   "cell_type": "code",
   "execution_count": 132,
   "metadata": {},
   "outputs": [],
   "source": [
    "# decompose.save(\"decompose.model\")"
   ]
  },
  {
   "cell_type": "code",
   "execution_count": 127,
   "metadata": {},
   "outputs": [],
   "source": [
    "# user_id\titem_id\tindex_user_id\tindex_item_id\tscore"
   ]
  },
  {
   "cell_type": "markdown",
   "metadata": {},
   "source": [
    "## 抽取user_id的embeeding"
   ]
  },
  {
   "cell_type": "code",
   "execution_count": 125,
   "metadata": {
    "scrolled": true
   },
   "outputs": [],
   "source": [
    "dict_index_user_id_to_user_id = dict(zip(node_user_item.index_user_id,node_user_item.user_id))\n",
    "dict_user_id_embeeding = {}\n",
    "for index_user_id in set_index_user_id:\n",
    "    user_id_embeeding = decompose.get_embeeding_user_id(feed_dict={decompose.input_user_id:[index_user_id]})\n",
    "    dict_user_id_embeeding[dict_index_user_id_to_user_id[index_user_id]] = user_id_embeeding[0]"
   ]
  },
  {
   "cell_type": "code",
   "execution_count": 140,
   "metadata": {},
   "outputs": [],
   "source": [
    "def save_embeeding(dict_embeeding, file_name):\n",
    "    with open(file_name,'w') as f:\n",
    "        for k in tqdm(dict_embeeding.keys()):\n",
    "            embeeding = ','.join([str(x_) for x_ in dict_embeeding[k]])\n",
    "            f.write(str(k)+','+embeeding+'\\n')"
   ]
  },
  {
   "cell_type": "code",
   "execution_count": 148,
   "metadata": {},
   "outputs": [],
   "source": [
    "# dict_user_id_embeeding[11]"
   ]
  },
  {
   "cell_type": "code",
   "execution_count": 141,
   "metadata": {},
   "outputs": [
    {
     "name": "stderr",
     "output_type": "stream",
     "text": [
      "100%|██████████| 27768/27768 [00:02<00:00, 9307.60it/s]\n"
     ]
    }
   ],
   "source": [
    "save_embeeding(dict_user_id_embeeding, './embeeding/embeeding_user_id.txt')"
   ]
  },
  {
   "cell_type": "code",
   "execution_count": null,
   "metadata": {},
   "outputs": [],
   "source": [
    "# dict_user_id_embeeding."
   ]
  },
  {
   "cell_type": "markdown",
   "metadata": {},
   "source": [
    "## 抽取item_id的embeeding"
   ]
  },
  {
   "cell_type": "code",
   "execution_count": 126,
   "metadata": {},
   "outputs": [],
   "source": [
    "dict_index_item_id_to_item_id = dict(zip(node_user_item.index_item_id,node_user_item.item_id))\n",
    "dict_item_id_embeeding = {}\n",
    "for index_item_id in set_index_item_id:\n",
    "    item_id_embeeding = decompose.get_embeeding_item_id(feed_dict={decompose.input_item_id:[index_item_id]})\n",
    "    dict_item_id_embeeding[dict_index_item_id_to_item_id[index_item_id]] = item_id_embeeding[0]"
   ]
  },
  {
   "cell_type": "code",
   "execution_count": 142,
   "metadata": {},
   "outputs": [
    {
     "name": "stderr",
     "output_type": "stream",
     "text": [
      "100%|██████████| 80750/80750 [00:08<00:00, 9820.62it/s]\n"
     ]
    }
   ],
   "source": [
    "save_embeeding(dict_item_id_embeeding, './embeeding/embeeding_item_id.txt')"
   ]
  },
  {
   "cell_type": "code",
   "execution_count": 144,
   "metadata": {},
   "outputs": [],
   "source": [
    "# !head ./embeeding/embeeding_item_id.txt"
   ]
  },
  {
   "cell_type": "code",
   "execution_count": 146,
   "metadata": {},
   "outputs": [],
   "source": [
    "# !head ./embeeding/embeeding_user_id.txt"
   ]
  },
  {
   "cell_type": "code",
   "execution_count": 385,
   "metadata": {},
   "outputs": [
    {
     "data": {
      "text/plain": [
       "array([ 0.22423042, -0.48210767,  0.03356946, -0.2707985 ,  0.71050435,\n",
       "        0.5813222 , -0.63212526, -0.71332717,  0.9757393 ,  0.9462941 ,\n",
       "        0.33033386,  0.42129427, -0.89298475, -0.32238966,  0.81082964,\n",
       "       -0.22686806, -0.5692448 , -0.12806395, -0.12523845,  0.8524612 ,\n",
       "       -0.7545183 ,  0.5430359 ,  0.5622592 , -0.91083425,  0.15164876,\n",
       "        0.5167875 , -0.2465704 ,  0.8317903 ,  0.14422846,  0.03996215,\n",
       "        0.17206806, -0.01892105,  0.1896569 , -0.06329364,  0.8350614 ,\n",
       "        0.36291176, -0.17493013,  0.44389015, -0.44197845, -0.5244715 ,\n",
       "        0.50322056,  0.49054083, -0.4627979 , -0.27405587,  0.86015046,\n",
       "        0.3172751 , -0.9939518 ,  0.907597  , -0.87493664,  0.87205595,\n",
       "        0.46418846,  0.30480447,  0.23628038, -0.50080645,  0.7452698 ,\n",
       "        0.89948875, -0.6510336 , -0.65512246, -0.611752  ,  0.6525644 ,\n",
       "       -0.0432893 ,  0.5810238 ,  0.17970225, -0.8471599 , -0.14836255,\n",
       "       -0.6481957 , -1.0244323 ,  0.42420533,  0.01275021, -0.13910776,\n",
       "       -0.95904183,  0.1079789 ,  0.30481425,  0.7857774 ,  0.9692663 ,\n",
       "       -0.91225284,  0.8060491 , -0.45829585, -0.22024938,  0.21264152,\n",
       "       -0.41679278, -0.9360248 , -0.6798754 ,  0.85312563, -0.22749682,\n",
       "       -0.4261685 ,  0.5009478 ,  0.24579942,  0.6776858 ,  0.07109351,\n",
       "       -0.8596714 ,  0.97401017, -0.14079444,  0.5771637 ,  0.15697059,\n",
       "       -0.49517477,  0.19925079, -0.33922252,  0.44870594,  0.4972781 ,\n",
       "        0.16338067,  0.68264794, -0.22472468, -0.45754465,  0.8306538 ,\n",
       "       -0.8424587 , -0.2841226 , -0.2914614 ,  0.9480295 ,  0.30593687,\n",
       "        0.67436934, -0.7515283 ,  0.0934618 , -0.38608631,  0.82299256,\n",
       "        0.30820873, -0.18415289,  0.01242989, -0.80260426,  0.33783048,\n",
       "        0.6383861 ,  0.55375165,  0.31882343, -0.68458503,  0.76263183,\n",
       "       -0.50274444,  0.43653813,  0.97527945], dtype=float32)"
      ]
     },
     "execution_count": 385,
     "metadata": {},
     "output_type": "execute_result"
    }
   ],
   "source": [
    "dict_item_id_embeeding[18]"
   ]
  },
  {
   "cell_type": "code",
   "execution_count": null,
   "metadata": {},
   "outputs": [],
   "source": []
  },
  {
   "cell_type": "code",
   "execution_count": 127,
   "metadata": {},
   "outputs": [
    {
     "data": {
      "text/html": [
       "<div>\n",
       "<style scoped>\n",
       "    .dataframe tbody tr th:only-of-type {\n",
       "        vertical-align: middle;\n",
       "    }\n",
       "\n",
       "    .dataframe tbody tr th {\n",
       "        vertical-align: top;\n",
       "    }\n",
       "\n",
       "    .dataframe thead th {\n",
       "        text-align: right;\n",
       "    }\n",
       "</style>\n",
       "<table border=\"1\" class=\"dataframe\">\n",
       "  <thead>\n",
       "    <tr style=\"text-align: right;\">\n",
       "      <th></th>\n",
       "      <th>user_id</th>\n",
       "      <th>item_id</th>\n",
       "      <th>index_user_id</th>\n",
       "      <th>index_item_id</th>\n",
       "      <th>score</th>\n",
       "    </tr>\n",
       "  </thead>\n",
       "  <tbody>\n",
       "    <tr>\n",
       "      <th>0</th>\n",
       "      <td>1</td>\n",
       "      <td>2945</td>\n",
       "      <td>2690</td>\n",
       "      <td>34274</td>\n",
       "      <td>1</td>\n",
       "    </tr>\n",
       "    <tr>\n",
       "      <th>1</th>\n",
       "      <td>1</td>\n",
       "      <td>4033</td>\n",
       "      <td>2690</td>\n",
       "      <td>27709</td>\n",
       "      <td>2</td>\n",
       "    </tr>\n",
       "    <tr>\n",
       "      <th>2</th>\n",
       "      <td>1</td>\n",
       "      <td>4889</td>\n",
       "      <td>2690</td>\n",
       "      <td>230</td>\n",
       "      <td>1</td>\n",
       "    </tr>\n",
       "    <tr>\n",
       "      <th>3</th>\n",
       "      <td>1</td>\n",
       "      <td>13025</td>\n",
       "      <td>2690</td>\n",
       "      <td>11384</td>\n",
       "      <td>3</td>\n",
       "    </tr>\n",
       "    <tr>\n",
       "      <th>4</th>\n",
       "      <td>1</td>\n",
       "      <td>13905</td>\n",
       "      <td>2690</td>\n",
       "      <td>69354</td>\n",
       "      <td>1</td>\n",
       "    </tr>\n",
       "  </tbody>\n",
       "</table>\n",
       "</div>"
      ],
      "text/plain": [
       "   user_id  item_id  index_user_id  index_item_id  score\n",
       "0        1     2945           2690          34274      1\n",
       "1        1     4033           2690          27709      2\n",
       "2        1     4889           2690            230      1\n",
       "3        1    13025           2690          11384      3\n",
       "4        1    13905           2690          69354      1"
      ]
     },
     "execution_count": 127,
     "metadata": {},
     "output_type": "execute_result"
    }
   ],
   "source": [
    "node_user_item.head()"
   ]
  },
  {
   "cell_type": "code",
   "execution_count": 129,
   "metadata": {},
   "outputs": [
    {
     "data": {
      "text/html": [
       "<div>\n",
       "<style scoped>\n",
       "    .dataframe tbody tr th:only-of-type {\n",
       "        vertical-align: middle;\n",
       "    }\n",
       "\n",
       "    .dataframe tbody tr th {\n",
       "        vertical-align: top;\n",
       "    }\n",
       "\n",
       "    .dataframe thead th {\n",
       "        text-align: right;\n",
       "    }\n",
       "</style>\n",
       "<table border=\"1\" class=\"dataframe\">\n",
       "  <thead>\n",
       "    <tr style=\"text-align: right;\">\n",
       "      <th></th>\n",
       "      <th>user_id</th>\n",
       "      <th>item_id</th>\n",
       "      <th>index_user_id</th>\n",
       "      <th>index_item_id</th>\n",
       "      <th>score</th>\n",
       "    </tr>\n",
       "  </thead>\n",
       "  <tbody>\n",
       "    <tr>\n",
       "      <th>429453</th>\n",
       "      <td>20650</td>\n",
       "      <td>48353</td>\n",
       "      <td>2023</td>\n",
       "      <td>13086</td>\n",
       "      <td>2</td>\n",
       "    </tr>\n",
       "    <tr>\n",
       "      <th>263802</th>\n",
       "      <td>12510</td>\n",
       "      <td>43347</td>\n",
       "      <td>10009</td>\n",
       "      <td>58047</td>\n",
       "      <td>2</td>\n",
       "    </tr>\n",
       "    <tr>\n",
       "      <th>160188</th>\n",
       "      <td>7492</td>\n",
       "      <td>69936</td>\n",
       "      <td>6424</td>\n",
       "      <td>8599</td>\n",
       "      <td>5</td>\n",
       "    </tr>\n",
       "    <tr>\n",
       "      <th>337380</th>\n",
       "      <td>16062</td>\n",
       "      <td>37410</td>\n",
       "      <td>458</td>\n",
       "      <td>12541</td>\n",
       "      <td>3</td>\n",
       "    </tr>\n",
       "    <tr>\n",
       "      <th>551605</th>\n",
       "      <td>27574</td>\n",
       "      <td>86897</td>\n",
       "      <td>25629</td>\n",
       "      <td>18529</td>\n",
       "      <td>1</td>\n",
       "    </tr>\n",
       "    <tr>\n",
       "      <th>327355</th>\n",
       "      <td>15586</td>\n",
       "      <td>22232</td>\n",
       "      <td>12622</td>\n",
       "      <td>19924</td>\n",
       "      <td>5</td>\n",
       "    </tr>\n",
       "    <tr>\n",
       "      <th>634841</th>\n",
       "      <td>32585</td>\n",
       "      <td>31057</td>\n",
       "      <td>21402</td>\n",
       "      <td>12251</td>\n",
       "      <td>3</td>\n",
       "    </tr>\n",
       "    <tr>\n",
       "      <th>278677</th>\n",
       "      <td>13202</td>\n",
       "      <td>70657</td>\n",
       "      <td>3688</td>\n",
       "      <td>3331</td>\n",
       "      <td>2</td>\n",
       "    </tr>\n",
       "    <tr>\n",
       "      <th>401321</th>\n",
       "      <td>19249</td>\n",
       "      <td>63073</td>\n",
       "      <td>6641</td>\n",
       "      <td>8297</td>\n",
       "      <td>2</td>\n",
       "    </tr>\n",
       "    <tr>\n",
       "      <th>186936</th>\n",
       "      <td>8738</td>\n",
       "      <td>104777</td>\n",
       "      <td>2785</td>\n",
       "      <td>15622</td>\n",
       "      <td>2</td>\n",
       "    </tr>\n",
       "  </tbody>\n",
       "</table>\n",
       "</div>"
      ],
      "text/plain": [
       "        user_id  item_id  index_user_id  index_item_id  score\n",
       "429453    20650    48353           2023          13086      2\n",
       "263802    12510    43347          10009          58047      2\n",
       "160188     7492    69936           6424           8599      5\n",
       "337380    16062    37410            458          12541      3\n",
       "551605    27574    86897          25629          18529      1\n",
       "327355    15586    22232          12622          19924      5\n",
       "634841    32585    31057          21402          12251      3\n",
       "278677    13202    70657           3688           3331      2\n",
       "401321    19249    63073           6641           8297      2\n",
       "186936     8738   104777           2785          15622      2"
      ]
     },
     "execution_count": 129,
     "metadata": {},
     "output_type": "execute_result"
    }
   ],
   "source": [
    "node_user_item.sample(10)"
   ]
  },
  {
   "cell_type": "code",
   "execution_count": 137,
   "metadata": {},
   "outputs": [
    {
     "name": "stdout",
     "output_type": "stream",
     "text": [
      "0.039954983 0.06756872 -0.13646513 1\n",
      "0.60770893 -0.77115715 -0.38425344 0\n",
      "0.28175172 0.051564194 0.14642006 0\n",
      "0.21868186 -0.026494019 0.24998271 2\n",
      "0.124357246 0.039601605 0.07593032 0\n",
      "0.5851779 -0.20119143 0.23536117 0\n",
      "0.028369188 0.122490406 0.0885307 1\n",
      "0.091449656 -0.38283908 0.44612423 2\n",
      "0.6951151 0.17682777 0.18527643 0\n",
      "0.045028355 -0.18965477 0.015358195 0\n",
      "0.47572237 -0.2103323 0.006198691 0\n",
      "0.2610441 0.25985092 0.42297047 2\n",
      "0.6199084 -0.22035187 0.04708599 0\n",
      "0.8106548 0.07214417 0.24135303 0\n",
      "0.52062947 0.27946573 0.23923679 0\n",
      "0.43764973 0.16646586 -0.16958039 0\n",
      "0.3991322 0.22394836 -0.017680183 0\n",
      "0.062204704 -0.080377795 -0.057120785 0\n",
      "0.37051556 -0.055702187 -0.1213292 0\n",
      "0.20260581 -0.08727529 0.10290846 0\n",
      "0.3154003 -0.12285087 0.03528142 0\n",
      "0.45935506 0.02821356 0.017090023 0\n",
      "0.35136175 -0.06652072 -0.27884293 0\n",
      "0.3423479 0.008867964 0.040967956 0\n",
      "0.33288217 -0.026414374 -0.042339604 0\n",
      "0.37810034 -0.14853016 -0.30967206 0\n",
      "0.6189983 0.046057142 0.24926764 0\n",
      "0.39024165 0.16981459 0.28192097 0\n",
      "0.09658224 -0.07311323 0.026791263 0\n",
      "0.59084046 0.03619954 -0.12401047 0\n"
     ]
    }
   ],
   "source": [
    "for i, row in node_user_item.sample(30).iterrows():\n",
    "    item_id = int(row[\"item_id\"])\n",
    "    user_id = int(row[\"user_id\"])\n",
    "    score1 = np.sum(dict_user_id_embeeding[user_id] * dict_item_id_embeeding[item_id])\n",
    "    \n",
    "    sample_item_id = int(node_user_item.sample(1)[\"item_id\"].values)\n",
    "    score2 = np.sum(dict_user_id_embeeding[user_id] * dict_item_id_embeeding[sample_item_id])\n",
    "    \n",
    "    sample_user_id = int(node_user_item.sample(1)[\"user_id\"].values)\n",
    "    score3 = np.sum(dict_user_id_embeeding[sample_user_id] * dict_item_id_embeeding[item_id])\n",
    "    \n",
    "    print(score1, score2, score3, np.argmax([score1, score2, score3]))\n",
    "    "
   ]
  },
  {
   "cell_type": "code",
   "execution_count": 138,
   "metadata": {},
   "outputs": [],
   "source": [
    "# 保存 用户 和 商品特征"
   ]
  },
  {
   "cell_type": "code",
   "execution_count": null,
   "metadata": {},
   "outputs": [],
   "source": []
  },
  {
   "cell_type": "markdown",
   "metadata": {},
   "source": [
    "## LINE 分解"
   ]
  },
  {
   "cell_type": "code",
   "execution_count": 371,
   "metadata": {
    "scrolled": true
   },
   "outputs": [],
   "source": [
    "# !./tool/LINE-master/linux/line"
   ]
  },
  {
   "cell_type": "code",
   "execution_count": 352,
   "metadata": {},
   "outputs": [],
   "source": [
    "# !ls \"./line_model/\""
   ]
  },
  {
   "cell_type": "code",
   "execution_count": 353,
   "metadata": {
    "scrolled": true
   },
   "outputs": [],
   "source": [
    "# node_user_item[[\"item_id\",\"user_id\",\"score\"]].to_csv(\"./line_model/net.txt\")"
   ]
  },
  {
   "cell_type": "code",
   "execution_count": 361,
   "metadata": {},
   "outputs": [],
   "source": [
    "# !./tool/LINE-master/linux/line -train ./line_model/net.txt -output ./line_model/vec.txt -binary 1 -size 200 -order 2 -negative 5 -samples 100 -rho 0.025"
   ]
  },
  {
   "cell_type": "code",
   "execution_count": 320,
   "metadata": {},
   "outputs": [],
   "source": [
    "# decompose.load(\"decompose.model\")"
   ]
  },
  {
   "cell_type": "code",
   "execution_count": 362,
   "metadata": {},
   "outputs": [],
   "source": [
    "# !ls ./line_model/"
   ]
  },
  {
   "cell_type": "markdown",
   "metadata": {},
   "source": [
    "## 深度学习Baseline"
   ]
  },
  {
   "cell_type": "markdown",
   "metadata": {},
   "source": [
    "# 建模"
   ]
  },
  {
   "cell_type": "markdown",
   "metadata": {},
   "source": [
    "构建训练数据"
   ]
  },
  {
   "cell_type": "code",
   "execution_count": 386,
   "metadata": {},
   "outputs": [
    {
     "data": {
      "text/html": [
       "<div>\n",
       "<style scoped>\n",
       "    .dataframe tbody tr th:only-of-type {\n",
       "        vertical-align: middle;\n",
       "    }\n",
       "\n",
       "    .dataframe tbody tr th {\n",
       "        vertical-align: top;\n",
       "    }\n",
       "\n",
       "    .dataframe thead th {\n",
       "        text-align: right;\n",
       "    }\n",
       "</style>\n",
       "<table border=\"1\" class=\"dataframe\">\n",
       "  <thead>\n",
       "    <tr style=\"text-align: right;\">\n",
       "      <th></th>\n",
       "      <th>user_id</th>\n",
       "      <th>item_id</th>\n",
       "      <th>time</th>\n",
       "      <th>phase</th>\n",
       "    </tr>\n",
       "  </thead>\n",
       "  <tbody>\n",
       "    <tr>\n",
       "      <th>0</th>\n",
       "      <td>4965</td>\n",
       "      <td>18</td>\n",
       "      <td>0.983763</td>\n",
       "      <td>0</td>\n",
       "    </tr>\n",
       "    <tr>\n",
       "      <th>1</th>\n",
       "      <td>20192</td>\n",
       "      <td>34</td>\n",
       "      <td>0.983772</td>\n",
       "      <td>0</td>\n",
       "    </tr>\n",
       "    <tr>\n",
       "      <th>2</th>\n",
       "      <td>30128</td>\n",
       "      <td>91</td>\n",
       "      <td>0.983780</td>\n",
       "      <td>0</td>\n",
       "    </tr>\n",
       "    <tr>\n",
       "      <th>3</th>\n",
       "      <td>29473</td>\n",
       "      <td>189</td>\n",
       "      <td>0.983930</td>\n",
       "      <td>0</td>\n",
       "    </tr>\n",
       "    <tr>\n",
       "      <th>4</th>\n",
       "      <td>10625</td>\n",
       "      <td>225</td>\n",
       "      <td>0.983925</td>\n",
       "      <td>0</td>\n",
       "    </tr>\n",
       "  </tbody>\n",
       "</table>\n",
       "</div>"
      ],
      "text/plain": [
       "   user_id  item_id      time  phase\n",
       "0     4965       18  0.983763      0\n",
       "1    20192       34  0.983772      0\n",
       "2    30128       91  0.983780      0\n",
       "3    29473      189  0.983930      0\n",
       "4    10625      225  0.983925      0"
      ]
     },
     "execution_count": 386,
     "metadata": {},
     "output_type": "execute_result"
    }
   ],
   "source": [
    "underexpose_train_click.head()"
   ]
  },
  {
   "cell_type": "code",
   "execution_count": 391,
   "metadata": {
    "scrolled": true
   },
   "outputs": [
    {
     "data": {
      "text/plain": [
       "{'diff_time_seq': [0.15036582135641297,\n",
       "  0.06781414004120023,\n",
       "  0.06995285001254459,\n",
       "  0.19074264676177677,\n",
       "  0.00020819300394769868,\n",
       "  0.8595342885475699,\n",
       "  0.016434629716011173,\n",
       "  0.09419787189268725,\n",
       "  0.0009589496041684242,\n",
       "  0.0030724240551727178,\n",
       "  0.0671453988720927,\n",
       "  0.4826923299483532],\n",
       " 'item_seq': [78142,\n",
       "  26646,\n",
       "  89568,\n",
       "  76240,\n",
       "  87533,\n",
       "  78380,\n",
       "  85492,\n",
       "  97795,\n",
       "  18522,\n",
       "  47611,\n",
       "  31443,\n",
       "  17887,\n",
       "  69359],\n",
       " 'time_seq': [0.9837416195438412,\n",
       "  0.9837566561259768,\n",
       "  0.983763437539981,\n",
       "  0.9837704328249822,\n",
       "  0.9837895070896584,\n",
       "  0.9837895279089588,\n",
       "  0.9838754813378136,\n",
       "  0.9838771248007852,\n",
       "  0.9838865445879744,\n",
       "  0.9838866404829348,\n",
       "  0.9838869477253404,\n",
       "  0.9838936622652276,\n",
       "  0.9839419314982224]}"
      ]
     },
     "execution_count": 391,
     "metadata": {},
     "output_type": "execute_result"
    }
   ],
   "source": [
    "dict_train_user_phase_action[0][1]"
   ]
  },
  {
   "cell_type": "code",
   "execution_count": 394,
   "metadata": {
    "scrolled": false
   },
   "outputs": [
    {
     "data": {
      "text/html": [
       "<div>\n",
       "<style scoped>\n",
       "    .dataframe tbody tr th:only-of-type {\n",
       "        vertical-align: middle;\n",
       "    }\n",
       "\n",
       "    .dataframe tbody tr th {\n",
       "        vertical-align: top;\n",
       "    }\n",
       "\n",
       "    .dataframe thead th {\n",
       "        text-align: right;\n",
       "    }\n",
       "</style>\n",
       "<table border=\"1\" class=\"dataframe\">\n",
       "  <thead>\n",
       "    <tr style=\"text-align: right;\">\n",
       "      <th></th>\n",
       "      <th>user_id</th>\n",
       "      <th>item_id</th>\n",
       "      <th>time</th>\n",
       "      <th>phase</th>\n",
       "    </tr>\n",
       "  </thead>\n",
       "  <tbody>\n",
       "    <tr>\n",
       "      <th>0</th>\n",
       "      <td>1133</td>\n",
       "      <td>221</td>\n",
       "      <td>0.983812</td>\n",
       "      <td>0</td>\n",
       "    </tr>\n",
       "    <tr>\n",
       "      <th>1</th>\n",
       "      <td>17864</td>\n",
       "      <td>253</td>\n",
       "      <td>0.983783</td>\n",
       "      <td>0</td>\n",
       "    </tr>\n",
       "    <tr>\n",
       "      <th>2</th>\n",
       "      <td>6941</td>\n",
       "      <td>309</td>\n",
       "      <td>0.983785</td>\n",
       "      <td>0</td>\n",
       "    </tr>\n",
       "    <tr>\n",
       "      <th>3</th>\n",
       "      <td>34089</td>\n",
       "      <td>358</td>\n",
       "      <td>0.983781</td>\n",
       "      <td>0</td>\n",
       "    </tr>\n",
       "    <tr>\n",
       "      <th>4</th>\n",
       "      <td>21659</td>\n",
       "      <td>536</td>\n",
       "      <td>0.983793</td>\n",
       "      <td>0</td>\n",
       "    </tr>\n",
       "  </tbody>\n",
       "</table>\n",
       "</div>"
      ],
      "text/plain": [
       "   user_id  item_id      time  phase\n",
       "0     1133      221  0.983812      0\n",
       "1    17864      253  0.983783      0\n",
       "2     6941      309  0.983785      0\n",
       "3    34089      358  0.983781      0\n",
       "4    21659      536  0.983793      0"
      ]
     },
     "execution_count": 394,
     "metadata": {},
     "output_type": "execute_result"
    }
   ],
   "source": [
    "underexpose_test_click.head()"
   ]
  },
  {
   "cell_type": "code",
   "execution_count": 393,
   "metadata": {
    "scrolled": true
   },
   "outputs": [
    {
     "data": {
      "text/plain": [
       "{'diff_time_seq': [0.004674879315880176,\n",
       "  0.00362760540606466,\n",
       "  0.29244177574772046,\n",
       "  0.6038038795219691,\n",
       "  5.047103179833812e-05,\n",
       "  0.37852642928437596,\n",
       "  0.00034698834361357456,\n",
       "  0.001974679117999756,\n",
       "  0.0004416215282354585,\n",
       "  0.0005362547139675655,\n",
       "  0.00035960610045293606,\n",
       "  8.832430342664566e-05],\n",
       " 'item_seq': [88058,\n",
       "  66082,\n",
       "  29755,\n",
       "  78804,\n",
       "  43074,\n",
       "  75757,\n",
       "  23323,\n",
       "  22113,\n",
       "  20317,\n",
       "  64689,\n",
       "  28210,\n",
       "  8052,\n",
       "  -999],\n",
       " 'time_seq': [0.9837398543195056,\n",
       "  0.9837403218074372,\n",
       "  0.9837406845679778,\n",
       "  0.9837699287455526,\n",
       "  0.9838303091335048,\n",
       "  0.983830314180608,\n",
       "  0.9838681668235364,\n",
       "  0.9838682015223708,\n",
       "  0.9838683989902826,\n",
       "  0.9838684431524354,\n",
       "  0.9838684967779068,\n",
       "  0.9838685327385168,\n",
       "  0.9838685415709472]}"
      ]
     },
     "execution_count": 393,
     "metadata": {},
     "output_type": "execute_result"
    }
   ],
   "source": [
    "dict_test_user_phase_action[0][11]"
   ]
  },
  {
   "cell_type": "code",
   "execution_count": 397,
   "metadata": {},
   "outputs": [
    {
     "data": {
      "text/plain": [
       "(13, 12)"
      ]
     },
     "execution_count": 397,
     "metadata": {},
     "output_type": "execute_result"
    }
   ],
   "source": [
    "len(dict_test_user_phase_action[0][11][\"item_seq\"]),len(dict_test_user_phase_action[0][11][\"diff_time_seq\"])"
   ]
  },
  {
   "cell_type": "code",
   "execution_count": 396,
   "metadata": {
    "scrolled": true
   },
   "outputs": [
    {
     "data": {
      "text/plain": [
       "(3, [1, 2])"
      ]
     },
     "execution_count": 396,
     "metadata": {},
     "output_type": "execute_result"
    }
   ],
   "source": [
    "[1,2,3][-1], [1,2,3][:-1]"
   ]
  },
  {
   "cell_type": "code",
   "execution_count": 398,
   "metadata": {},
   "outputs": [
    {
     "data": {
      "text/plain": [
       "[1, 2, 3]"
      ]
     },
     "execution_count": 398,
     "metadata": {},
     "output_type": "execute_result"
    }
   ],
   "source": [
    "([1,2,3] + [0])[:-1]"
   ]
  },
  {
   "cell_type": "code",
   "execution_count": 409,
   "metadata": {},
   "outputs": [
    {
     "data": {
      "text/plain": [
       "([1], 2)"
      ]
     },
     "execution_count": 409,
     "metadata": {},
     "output_type": "execute_result"
    }
   ],
   "source": [
    "[1,2,3,4][:-3], [1,2,3,4][-3]"
   ]
  },
  {
   "cell_type": "code",
   "execution_count": 410,
   "metadata": {},
   "outputs": [],
   "source": [
    "def get_train_test_data(\n",
    "            dict_train_user_phase_action\n",
    "            ,dict_test_user_phase_action\n",
    "            ,list_sep_last_num\n",
    "            ):\n",
    "    list_seq_last_num, list_flag, list_phase, list_user_id, list_item_seq, list_diff_time, list_item_seq_next = [], [], [], [], [], [], []\n",
    "    list_data = [(1, dict_train_user_phase_action), (0, dict_test_user_phase_action)]\n",
    "    for sep_last_num in list_sep_last_num:\n",
    "        for (flag, dict_user_phase_action) in list_data:\n",
    "            for phase in dict_user_phase_action.keys():\n",
    "                for user_id in dict_user_phase_action[phase].keys():\n",
    "                    if sep_last_num < len(dict_user_phase_action[phase][user_id][\"item_seq\"]):\n",
    "                        list_seq_last_num.append(sep_last_num)\n",
    "                        list_flag.append(flag)\n",
    "                        list_phase.append(phase)\n",
    "                        list_user_id.append(user_id)\n",
    "                        list_item_seq.append(dict_user_phase_action[phase][user_id][\"item_seq\"][:-sep_last_num])\n",
    "                        list_diff_time.append((dict_user_phase_action[phase][user_id][\"diff_time_seq\"]+[0])[:-sep_last_num])\n",
    "                        list_item_seq_next.append(dict_user_phase_action[phase][user_id][\"item_seq\"][-sep_last_num])\n",
    "    underexpose_train_test_data = pd.DataFrame()\n",
    "    underexpose_train_test_data[\"seq_last_num\"] = list_seq_last_num\n",
    "    underexpose_train_test_data[\"flag\"] = list_flag\n",
    "    underexpose_train_test_data[\"phase\"] = list_phase\n",
    "    underexpose_train_test_data[\"user_id\"] = list_user_id\n",
    "    underexpose_train_test_data[\"item_seq\"] = list_item_seq\n",
    "    underexpose_train_test_data[\"diff_time\"] = list_diff_time\n",
    "    underexpose_train_test_data[\"item_seq_next\"] = list_item_seq_next\n",
    "    underexpose_train_test_data[\"pred_if\"] = underexpose_train_test_data[\"item_seq_next\"].map(lambda x: 1 if x==-999 else 0)\n",
    "    return underexpose_train_test_data "
   ]
  },
  {
   "cell_type": "code",
   "execution_count": 411,
   "metadata": {
    "scrolled": true
   },
   "outputs": [],
   "source": [
    "underexpose_train_test_data = get_train_test_data(\n",
    "                            dict_train_user_phase_action\n",
    "                            ,dict_test_user_phase_action \n",
    "                            ,list_sep_last_num=[1,2,3]\n",
    "                            )"
   ]
  },
  {
   "cell_type": "code",
   "execution_count": 412,
   "metadata": {},
   "outputs": [
    {
     "data": {
      "text/html": [
       "<div>\n",
       "<style scoped>\n",
       "    .dataframe tbody tr th:only-of-type {\n",
       "        vertical-align: middle;\n",
       "    }\n",
       "\n",
       "    .dataframe tbody tr th {\n",
       "        vertical-align: top;\n",
       "    }\n",
       "\n",
       "    .dataframe thead th {\n",
       "        text-align: right;\n",
       "    }\n",
       "</style>\n",
       "<table border=\"1\" class=\"dataframe\">\n",
       "  <thead>\n",
       "    <tr style=\"text-align: right;\">\n",
       "      <th></th>\n",
       "      <th>seq_last_num</th>\n",
       "      <th>flag</th>\n",
       "      <th>phase</th>\n",
       "      <th>user_id</th>\n",
       "      <th>item_seq</th>\n",
       "      <th>diff_time</th>\n",
       "      <th>item_seq_next</th>\n",
       "      <th>pred_if</th>\n",
       "    </tr>\n",
       "  </thead>\n",
       "  <tbody>\n",
       "    <tr>\n",
       "      <th>0</th>\n",
       "      <td>1</td>\n",
       "      <td>1</td>\n",
       "      <td>0</td>\n",
       "      <td>1</td>\n",
       "      <td>[78142, 26646, 89568, 76240, 87533, 78380, 854...</td>\n",
       "      <td>[0.15036582135641297, 0.06781414004120023, 0.0...</td>\n",
       "      <td>69359</td>\n",
       "      <td>0</td>\n",
       "    </tr>\n",
       "    <tr>\n",
       "      <th>1</th>\n",
       "      <td>1</td>\n",
       "      <td>1</td>\n",
       "      <td>0</td>\n",
       "      <td>2</td>\n",
       "      <td>[72912, 7745, 28099, 73084, 111576, 104635, 70...</td>\n",
       "      <td>[0.1862444160538601, 0.000977876239982578, 0.0...</td>\n",
       "      <td>58621</td>\n",
       "      <td>0</td>\n",
       "    </tr>\n",
       "    <tr>\n",
       "      <th>2</th>\n",
       "      <td>1</td>\n",
       "      <td>1</td>\n",
       "      <td>0</td>\n",
       "      <td>4</td>\n",
       "      <td>[8291, 6609, 13283, 35419, 64404]</td>\n",
       "      <td>[0.0025109338297468753, 0.00054887247191715, 0...</td>\n",
       "      <td>90818</td>\n",
       "      <td>0</td>\n",
       "    </tr>\n",
       "    <tr>\n",
       "      <th>3</th>\n",
       "      <td>1</td>\n",
       "      <td>1</td>\n",
       "      <td>0</td>\n",
       "      <td>7</td>\n",
       "      <td>[19110, 24258, 39291, 6731]</td>\n",
       "      <td>[0.011179333534450109, 0.6648549013099636, 0.0...</td>\n",
       "      <td>23436</td>\n",
       "      <td>0</td>\n",
       "    </tr>\n",
       "    <tr>\n",
       "      <th>4</th>\n",
       "      <td>1</td>\n",
       "      <td>1</td>\n",
       "      <td>0</td>\n",
       "      <td>9</td>\n",
       "      <td>[109463, 88371, 78360, 63216, 30767, 102526]</td>\n",
       "      <td>[7.57065488077302e-05, 0.19621244482737055, 0....</td>\n",
       "      <td>114268</td>\n",
       "      <td>0</td>\n",
       "    </tr>\n",
       "  </tbody>\n",
       "</table>\n",
       "</div>"
      ],
      "text/plain": [
       "   seq_last_num  flag  phase  user_id  \\\n",
       "0             1     1      0        1   \n",
       "1             1     1      0        2   \n",
       "2             1     1      0        4   \n",
       "3             1     1      0        7   \n",
       "4             1     1      0        9   \n",
       "\n",
       "                                            item_seq  \\\n",
       "0  [78142, 26646, 89568, 76240, 87533, 78380, 854...   \n",
       "1  [72912, 7745, 28099, 73084, 111576, 104635, 70...   \n",
       "2                  [8291, 6609, 13283, 35419, 64404]   \n",
       "3                        [19110, 24258, 39291, 6731]   \n",
       "4       [109463, 88371, 78360, 63216, 30767, 102526]   \n",
       "\n",
       "                                           diff_time  item_seq_next  pred_if  \n",
       "0  [0.15036582135641297, 0.06781414004120023, 0.0...          69359        0  \n",
       "1  [0.1862444160538601, 0.000977876239982578, 0.0...          58621        0  \n",
       "2  [0.0025109338297468753, 0.00054887247191715, 0...          90818        0  \n",
       "3  [0.011179333534450109, 0.6648549013099636, 0.0...          23436        0  \n",
       "4  [7.57065488077302e-05, 0.19621244482737055, 0....         114268        0  "
      ]
     },
     "execution_count": 412,
     "metadata": {},
     "output_type": "execute_result"
    }
   ],
   "source": [
    "underexpose_train_test_data.head()"
   ]
  },
  {
   "cell_type": "markdown",
   "metadata": {},
   "source": [
    "# 特征工程 + 辅助特征"
   ]
  },
  {
   "cell_type": "code",
   "execution_count": 421,
   "metadata": {},
   "outputs": [],
   "source": [
    "underexpose_train_test_data_feat = underexpose_train_test_data.copy()"
   ]
  },
  {
   "cell_type": "code",
   "execution_count": 422,
   "metadata": {
    "scrolled": true
   },
   "outputs": [
    {
     "data": {
      "text/html": [
       "<div>\n",
       "<style scoped>\n",
       "    .dataframe tbody tr th:only-of-type {\n",
       "        vertical-align: middle;\n",
       "    }\n",
       "\n",
       "    .dataframe tbody tr th {\n",
       "        vertical-align: top;\n",
       "    }\n",
       "\n",
       "    .dataframe thead th {\n",
       "        text-align: right;\n",
       "    }\n",
       "</style>\n",
       "<table border=\"1\" class=\"dataframe\">\n",
       "  <thead>\n",
       "    <tr style=\"text-align: right;\">\n",
       "      <th></th>\n",
       "      <th>seq_last_num</th>\n",
       "      <th>flag</th>\n",
       "      <th>phase</th>\n",
       "      <th>user_id</th>\n",
       "      <th>item_seq</th>\n",
       "      <th>diff_time</th>\n",
       "      <th>item_seq_next</th>\n",
       "      <th>pred_if</th>\n",
       "    </tr>\n",
       "  </thead>\n",
       "  <tbody>\n",
       "    <tr>\n",
       "      <th>0</th>\n",
       "      <td>1</td>\n",
       "      <td>1</td>\n",
       "      <td>0</td>\n",
       "      <td>1</td>\n",
       "      <td>[78142, 26646, 89568, 76240, 87533, 78380, 854...</td>\n",
       "      <td>[0.15036582135641297, 0.06781414004120023, 0.0...</td>\n",
       "      <td>69359</td>\n",
       "      <td>0</td>\n",
       "    </tr>\n",
       "    <tr>\n",
       "      <th>1</th>\n",
       "      <td>1</td>\n",
       "      <td>1</td>\n",
       "      <td>0</td>\n",
       "      <td>2</td>\n",
       "      <td>[72912, 7745, 28099, 73084, 111576, 104635, 70...</td>\n",
       "      <td>[0.1862444160538601, 0.000977876239982578, 0.0...</td>\n",
       "      <td>58621</td>\n",
       "      <td>0</td>\n",
       "    </tr>\n",
       "    <tr>\n",
       "      <th>2</th>\n",
       "      <td>1</td>\n",
       "      <td>1</td>\n",
       "      <td>0</td>\n",
       "      <td>4</td>\n",
       "      <td>[8291, 6609, 13283, 35419, 64404]</td>\n",
       "      <td>[0.0025109338297468753, 0.00054887247191715, 0...</td>\n",
       "      <td>90818</td>\n",
       "      <td>0</td>\n",
       "    </tr>\n",
       "    <tr>\n",
       "      <th>3</th>\n",
       "      <td>1</td>\n",
       "      <td>1</td>\n",
       "      <td>0</td>\n",
       "      <td>7</td>\n",
       "      <td>[19110, 24258, 39291, 6731]</td>\n",
       "      <td>[0.011179333534450109, 0.6648549013099636, 0.0...</td>\n",
       "      <td>23436</td>\n",
       "      <td>0</td>\n",
       "    </tr>\n",
       "    <tr>\n",
       "      <th>4</th>\n",
       "      <td>1</td>\n",
       "      <td>1</td>\n",
       "      <td>0</td>\n",
       "      <td>9</td>\n",
       "      <td>[109463, 88371, 78360, 63216, 30767, 102526]</td>\n",
       "      <td>[7.57065488077302e-05, 0.19621244482737055, 0....</td>\n",
       "      <td>114268</td>\n",
       "      <td>0</td>\n",
       "    </tr>\n",
       "  </tbody>\n",
       "</table>\n",
       "</div>"
      ],
      "text/plain": [
       "   seq_last_num  flag  phase  user_id  \\\n",
       "0             1     1      0        1   \n",
       "1             1     1      0        2   \n",
       "2             1     1      0        4   \n",
       "3             1     1      0        7   \n",
       "4             1     1      0        9   \n",
       "\n",
       "                                            item_seq  \\\n",
       "0  [78142, 26646, 89568, 76240, 87533, 78380, 854...   \n",
       "1  [72912, 7745, 28099, 73084, 111576, 104635, 70...   \n",
       "2                  [8291, 6609, 13283, 35419, 64404]   \n",
       "3                        [19110, 24258, 39291, 6731]   \n",
       "4       [109463, 88371, 78360, 63216, 30767, 102526]   \n",
       "\n",
       "                                           diff_time  item_seq_next  pred_if  \n",
       "0  [0.15036582135641297, 0.06781414004120023, 0.0...          69359        0  \n",
       "1  [0.1862444160538601, 0.000977876239982578, 0.0...          58621        0  \n",
       "2  [0.0025109338297468753, 0.00054887247191715, 0...          90818        0  \n",
       "3  [0.011179333534450109, 0.6648549013099636, 0.0...          23436        0  \n",
       "4  [7.57065488077302e-05, 0.19621244482737055, 0....         114268        0  "
      ]
     },
     "execution_count": 422,
     "metadata": {},
     "output_type": "execute_result"
    }
   ],
   "source": [
    "underexpose_train_test_data_feat.head()"
   ]
  },
  {
   "cell_type": "code",
   "execution_count": 430,
   "metadata": {},
   "outputs": [],
   "source": [
    "underexpose_train_test_data_feat[\"item_seq_num\"] = underexpose_train_test_data_feat[\"item_seq\"].map(lambda x:len(x))\n",
    "underexpose_train_test_data_feat[\"diff_time_max\"] = underexpose_train_test_data_feat[\"diff_time\"].map(lambda x:np.max(x))\n",
    "underexpose_train_test_data_feat[\"diff_time_min\"] = underexpose_train_test_data_feat[\"diff_time\"].map(lambda x:np.min(x))\n",
    "underexpose_train_test_data_feat[\"diff_time_mean\"] = underexpose_train_test_data_feat[\"diff_time\"].map(lambda x:np.mean(x))\n",
    "underexpose_train_test_data_feat[\"diff_time_std\"] = underexpose_train_test_data_feat[\"diff_time\"].map(lambda x:np.std(x))"
   ]
  },
  {
   "cell_type": "code",
   "execution_count": 434,
   "metadata": {},
   "outputs": [],
   "source": [
    "def diff2_time(diff_time):\n",
    "    if len(diff_time) < 2:\n",
    "        return [0]\n",
    "    else:\n",
    "        diff2_time = []\n",
    "        for i in range(len(diff_time)-1):\n",
    "            diff2_time.append(diff_time[i+1]-diff_time[i])\n",
    "        return diff2_time"
   ]
  },
  {
   "cell_type": "code",
   "execution_count": 439,
   "metadata": {},
   "outputs": [],
   "source": [
    "underexpose_train_test_data_feat[\"diff2_time\"] = underexpose_train_test_data_feat[\"diff_time\"].map(lambda x:diff2_time(x))"
   ]
  },
  {
   "cell_type": "code",
   "execution_count": 440,
   "metadata": {},
   "outputs": [],
   "source": [
    "underexpose_train_test_data_feat[\"diff2_time_max\"] = underexpose_train_test_data_feat[\"diff2_time\"].map(lambda x:np.max(x))\n",
    "underexpose_train_test_data_feat[\"diff2_time_min\"] = underexpose_train_test_data_feat[\"diff2_time\"].map(lambda x:np.min(x))\n",
    "underexpose_train_test_data_feat[\"diff2_time_mean\"] = underexpose_train_test_data_feat[\"diff2_time\"].map(lambda x:np.mean(x))\n",
    "underexpose_train_test_data_feat[\"diff2_time_std\"] = underexpose_train_test_data_feat[\"diff2_time\"].map(lambda x:np.std(x))"
   ]
  },
  {
   "cell_type": "code",
   "execution_count": 455,
   "metadata": {},
   "outputs": [],
   "source": [
    "def get_item_seq_similarity(item_seq, dict_item_id_embeeding):\n",
    "    item_seq_similarity = []\n",
    "    for i in range(len(item_seq)-1):\n",
    "        item_id_0 = item_seq[i]\n",
    "        item_id_1 = item_seq[i+1]\n",
    "        similarity = np.sum(dict_item_id_embeeding[item_id_0] * dict_item_id_embeeding[item_id_1]) / np.sqrt(np.sum(dict_item_id_embeeding[item_id_0]**2) * np.sum(dict_item_id_embeeding[item_id_1]**2))\n",
    "        item_seq_similarity.append(similarity)\n",
    "    return item_seq_similarity "
   ]
  },
  {
   "cell_type": "code",
   "execution_count": 467,
   "metadata": {},
   "outputs": [],
   "source": [
    "underexpose_train_test_data_feat[\"item_seq_similarity\"] = underexpose_train_test_data_feat[\"item_seq\"].map(lambda x:get_item_seq_similarity(x,dict_item_id_embeeding))"
   ]
  },
  {
   "cell_type": "code",
   "execution_count": null,
   "metadata": {},
   "outputs": [],
   "source": []
  },
  {
   "cell_type": "code",
   "execution_count": 468,
   "metadata": {},
   "outputs": [],
   "source": [
    "def get_user_item_seq_similarity(list_user_id, list_item_seq, dict_user_id_embeeding, dict_item_id_embeeding):\n",
    "    list_user_id_item_seq_similarity = []\n",
    "    for (user_id, item_seq) in zip(list_user_id, list_item_seq):\n",
    "        user_id_item_seq_similarity = []\n",
    "        for item_id in item_seq:\n",
    "            similarity = np.sum(dict_user_id_embeeding[user_id] * dict_item_id_embeeding[item_id]) / np.sqrt(np.sum(dict_user_id_embeeding[user_id]**2) * np.sum(dict_item_id_embeeding[item_id]**2))\n",
    "            user_id_item_seq_similarity.append(similarity)\n",
    "        list_user_id_item_seq_similarity.append(user_id_item_seq_similarity)\n",
    "    return list_user_id_item_seq_similarity"
   ]
  },
  {
   "cell_type": "code",
   "execution_count": 469,
   "metadata": {},
   "outputs": [],
   "source": [
    "underexpose_train_test_data_feat[\"user_id_item_seq_similarity\"] = get_user_item_seq_similarity(\n",
    "                                                    underexpose_train_test_data_feat[\"user_id\"]\n",
    "                                                    ,underexpose_train_test_data_feat[\"item_seq\"]\n",
    "                                                    ,dict_user_id_embeeding\n",
    "                                                    ,dict_item_id_embeeding)"
   ]
  },
  {
   "cell_type": "code",
   "execution_count": 470,
   "metadata": {},
   "outputs": [
    {
     "data": {
      "text/html": [
       "<div>\n",
       "<style scoped>\n",
       "    .dataframe tbody tr th:only-of-type {\n",
       "        vertical-align: middle;\n",
       "    }\n",
       "\n",
       "    .dataframe tbody tr th {\n",
       "        vertical-align: top;\n",
       "    }\n",
       "\n",
       "    .dataframe thead th {\n",
       "        text-align: right;\n",
       "    }\n",
       "</style>\n",
       "<table border=\"1\" class=\"dataframe\">\n",
       "  <thead>\n",
       "    <tr style=\"text-align: right;\">\n",
       "      <th></th>\n",
       "      <th>seq_last_num</th>\n",
       "      <th>flag</th>\n",
       "      <th>phase</th>\n",
       "      <th>user_id</th>\n",
       "      <th>item_seq</th>\n",
       "      <th>diff_time</th>\n",
       "      <th>item_seq_next</th>\n",
       "      <th>pred_if</th>\n",
       "      <th>diff2_time</th>\n",
       "      <th>item_seq_num</th>\n",
       "      <th>diff_time_max</th>\n",
       "      <th>diff_time_min</th>\n",
       "      <th>diff_time_mean</th>\n",
       "      <th>diff_time_std</th>\n",
       "      <th>diff2_time_max</th>\n",
       "      <th>diff2_time_min</th>\n",
       "      <th>diff2_time_mean</th>\n",
       "      <th>diff2_time_std</th>\n",
       "      <th>item_seq_similarity</th>\n",
       "      <th>user_id_item_seq_similarity</th>\n",
       "    </tr>\n",
       "  </thead>\n",
       "  <tbody>\n",
       "    <tr>\n",
       "      <th>0</th>\n",
       "      <td>1</td>\n",
       "      <td>1</td>\n",
       "      <td>0</td>\n",
       "      <td>1</td>\n",
       "      <td>[78142, 26646, 89568, 76240, 87533, 78380, 854...</td>\n",
       "      <td>[0.15036582135641297, 0.06781414004120023, 0.0...</td>\n",
       "      <td>69359</td>\n",
       "      <td>0</td>\n",
       "      <td>[-0.08255168131521273, 0.0021387099713443547, ...</td>\n",
       "      <td>12</td>\n",
       "      <td>0.859534</td>\n",
       "      <td>0.000208</td>\n",
       "      <td>0.166927</td>\n",
       "      <td>0.244875</td>\n",
       "      <td>0.859326</td>\n",
       "      <td>-0.843100</td>\n",
       "      <td>0.030212</td>\n",
       "      <td>0.391786</td>\n",
       "      <td>[0.03379265, 0.100336336, -0.064082466, -0.020...</td>\n",
       "      <td>[0.13155395, -4.397514e-05, 0.12356806, 0.0850...</td>\n",
       "    </tr>\n",
       "    <tr>\n",
       "      <th>1</th>\n",
       "      <td>1</td>\n",
       "      <td>1</td>\n",
       "      <td>0</td>\n",
       "      <td>2</td>\n",
       "      <td>[72912, 7745, 28099, 73084, 111576, 104635, 70...</td>\n",
       "      <td>[0.1862444160538601, 0.000977876239982578, 0.0...</td>\n",
       "      <td>58621</td>\n",
       "      <td>0</td>\n",
       "      <td>[-0.18526653981387753, 0.00039115049754734343,...</td>\n",
       "      <td>14</td>\n",
       "      <td>0.350711</td>\n",
       "      <td>0.000025</td>\n",
       "      <td>0.084982</td>\n",
       "      <td>0.116619</td>\n",
       "      <td>0.349342</td>\n",
       "      <td>-0.350042</td>\n",
       "      <td>-0.014227</td>\n",
       "      <td>0.186902</td>\n",
       "      <td>[-0.044206586, 0.02659848, -0.014747822, 0.053...</td>\n",
       "      <td>[0.031668354, -0.120600335, -0.034783345, 0.01...</td>\n",
       "    </tr>\n",
       "    <tr>\n",
       "      <th>2</th>\n",
       "      <td>1</td>\n",
       "      <td>1</td>\n",
       "      <td>0</td>\n",
       "      <td>4</td>\n",
       "      <td>[8291, 6609, 13283, 35419, 64404]</td>\n",
       "      <td>[0.0025109338297468753, 0.00054887247191715, 0...</td>\n",
       "      <td>90818</td>\n",
       "      <td>0</td>\n",
       "      <td>[-0.0019620613578297252, 0.002050385662366594,...</td>\n",
       "      <td>5</td>\n",
       "      <td>0.624112</td>\n",
       "      <td>0.000549</td>\n",
       "      <td>0.188667</td>\n",
       "      <td>0.248948</td>\n",
       "      <td>0.621513</td>\n",
       "      <td>-0.310548</td>\n",
       "      <td>0.077763</td>\n",
       "      <td>0.338577</td>\n",
       "      <td>[0.019239455, 0.06083721, 0.029296305, -0.0330...</td>\n",
       "      <td>[0.0071558245, -0.014475469, -0.083014734, -0....</td>\n",
       "    </tr>\n",
       "    <tr>\n",
       "      <th>3</th>\n",
       "      <td>1</td>\n",
       "      <td>1</td>\n",
       "      <td>0</td>\n",
       "      <td>7</td>\n",
       "      <td>[19110, 24258, 39291, 6731]</td>\n",
       "      <td>[0.011179333534450109, 0.6648549013099636, 0.0...</td>\n",
       "      <td>23436</td>\n",
       "      <td>0</td>\n",
       "      <td>[0.6536755677755135, -0.6624890716944165, 0.93...</td>\n",
       "      <td>4</td>\n",
       "      <td>0.935802</td>\n",
       "      <td>0.002366</td>\n",
       "      <td>0.403551</td>\n",
       "      <td>0.408190</td>\n",
       "      <td>0.933436</td>\n",
       "      <td>-0.662489</td>\n",
       "      <td>0.308208</td>\n",
       "      <td>0.695824</td>\n",
       "      <td>[-0.00035265734, -0.09410994, -0.09496403]</td>\n",
       "      <td>[-0.12894766, 0.0848858, -0.07415101, 0.002755...</td>\n",
       "    </tr>\n",
       "    <tr>\n",
       "      <th>4</th>\n",
       "      <td>1</td>\n",
       "      <td>1</td>\n",
       "      <td>0</td>\n",
       "      <td>9</td>\n",
       "      <td>[109463, 88371, 78360, 63216, 30767, 102526]</td>\n",
       "      <td>[7.57065488077302e-05, 0.19621244482737055, 0....</td>\n",
       "      <td>114268</td>\n",
       "      <td>0</td>\n",
       "      <td>[0.19613673827856282, -0.04276789053569985, -0...</td>\n",
       "      <td>6</td>\n",
       "      <td>0.815864</td>\n",
       "      <td>0.000076</td>\n",
       "      <td>0.232759</td>\n",
       "      <td>0.275441</td>\n",
       "      <td>0.814224</td>\n",
       "      <td>-0.586549</td>\n",
       "      <td>0.045848</td>\n",
       "      <td>0.460398</td>\n",
       "      <td>[0.09778331, 0.057142626, 0.023092844, -0.1163...</td>\n",
       "      <td>[-0.028044349, 0.112252995, 0.011407702, 0.060...</td>\n",
       "    </tr>\n",
       "  </tbody>\n",
       "</table>\n",
       "</div>"
      ],
      "text/plain": [
       "   seq_last_num  flag  phase  user_id  \\\n",
       "0             1     1      0        1   \n",
       "1             1     1      0        2   \n",
       "2             1     1      0        4   \n",
       "3             1     1      0        7   \n",
       "4             1     1      0        9   \n",
       "\n",
       "                                            item_seq  \\\n",
       "0  [78142, 26646, 89568, 76240, 87533, 78380, 854...   \n",
       "1  [72912, 7745, 28099, 73084, 111576, 104635, 70...   \n",
       "2                  [8291, 6609, 13283, 35419, 64404]   \n",
       "3                        [19110, 24258, 39291, 6731]   \n",
       "4       [109463, 88371, 78360, 63216, 30767, 102526]   \n",
       "\n",
       "                                           diff_time  item_seq_next  pred_if  \\\n",
       "0  [0.15036582135641297, 0.06781414004120023, 0.0...          69359        0   \n",
       "1  [0.1862444160538601, 0.000977876239982578, 0.0...          58621        0   \n",
       "2  [0.0025109338297468753, 0.00054887247191715, 0...          90818        0   \n",
       "3  [0.011179333534450109, 0.6648549013099636, 0.0...          23436        0   \n",
       "4  [7.57065488077302e-05, 0.19621244482737055, 0....         114268        0   \n",
       "\n",
       "                                          diff2_time  item_seq_num  \\\n",
       "0  [-0.08255168131521273, 0.0021387099713443547, ...            12   \n",
       "1  [-0.18526653981387753, 0.00039115049754734343,...            14   \n",
       "2  [-0.0019620613578297252, 0.002050385662366594,...             5   \n",
       "3  [0.6536755677755135, -0.6624890716944165, 0.93...             4   \n",
       "4  [0.19613673827856282, -0.04276789053569985, -0...             6   \n",
       "\n",
       "   diff_time_max  diff_time_min  diff_time_mean  diff_time_std  \\\n",
       "0       0.859534       0.000208        0.166927       0.244875   \n",
       "1       0.350711       0.000025        0.084982       0.116619   \n",
       "2       0.624112       0.000549        0.188667       0.248948   \n",
       "3       0.935802       0.002366        0.403551       0.408190   \n",
       "4       0.815864       0.000076        0.232759       0.275441   \n",
       "\n",
       "   diff2_time_max  diff2_time_min  diff2_time_mean  diff2_time_std  \\\n",
       "0        0.859326       -0.843100         0.030212        0.391786   \n",
       "1        0.349342       -0.350042        -0.014227        0.186902   \n",
       "2        0.621513       -0.310548         0.077763        0.338577   \n",
       "3        0.933436       -0.662489         0.308208        0.695824   \n",
       "4        0.814224       -0.586549         0.045848        0.460398   \n",
       "\n",
       "                                 item_seq_similarity  \\\n",
       "0  [0.03379265, 0.100336336, -0.064082466, -0.020...   \n",
       "1  [-0.044206586, 0.02659848, -0.014747822, 0.053...   \n",
       "2  [0.019239455, 0.06083721, 0.029296305, -0.0330...   \n",
       "3         [-0.00035265734, -0.09410994, -0.09496403]   \n",
       "4  [0.09778331, 0.057142626, 0.023092844, -0.1163...   \n",
       "\n",
       "                         user_id_item_seq_similarity  \n",
       "0  [0.13155395, -4.397514e-05, 0.12356806, 0.0850...  \n",
       "1  [0.031668354, -0.120600335, -0.034783345, 0.01...  \n",
       "2  [0.0071558245, -0.014475469, -0.083014734, -0....  \n",
       "3  [-0.12894766, 0.0848858, -0.07415101, 0.002755...  \n",
       "4  [-0.028044349, 0.112252995, 0.011407702, 0.060...  "
      ]
     },
     "execution_count": 470,
     "metadata": {},
     "output_type": "execute_result"
    }
   ],
   "source": [
    "underexpose_train_test_data_feat.head().head()"
   ]
  },
  {
   "cell_type": "code",
   "execution_count": 471,
   "metadata": {},
   "outputs": [
    {
     "data": {
      "text/plain": [
       "Index(['seq_last_num', 'flag', 'phase', 'user_id', 'item_seq', 'diff_time',\n",
       "       'item_seq_next', 'pred_if', 'diff2_time', 'item_seq_num',\n",
       "       'diff_time_max', 'diff_time_min', 'diff_time_mean', 'diff_time_std',\n",
       "       'diff2_time_max', 'diff2_time_min', 'diff2_time_mean', 'diff2_time_std',\n",
       "       'item_seq_similarity', 'user_id_item_seq_similarity'],\n",
       "      dtype='object')"
      ]
     },
     "execution_count": 471,
     "metadata": {},
     "output_type": "execute_result"
    }
   ],
   "source": [
    "underexpose_train_test_data_feat.columns"
   ]
  },
  {
   "cell_type": "code",
   "execution_count": null,
   "metadata": {},
   "outputs": [],
   "source": []
  },
  {
   "cell_type": "markdown",
   "metadata": {},
   "source": [
    "# 模型"
   ]
  },
  {
   "cell_type": "code",
   "execution_count": null,
   "metadata": {},
   "outputs": [],
   "source": []
  },
  {
   "cell_type": "code",
   "execution_count": null,
   "metadata": {},
   "outputs": [],
   "source": [
    "def get_train_data(dict_user_action, sep_last_num):\n",
    "    # user_id-sep_last_num, item_seq, diff_time_seq, item_seq_next\n",
    "    # sep_last_num = -1, -2, -3\n",
    "    list_index, list_user_id, list_item_seq, list_diff_time_seq, list_item_seq_next = [], [], [], [], []\n",
    "    for user_id in dict_user_action.keys():\n",
    "        if sep_last_num < len(dict_user_action[user_id][\"item_seq\"]):\n",
    "            list_index.append(str(user_id) + \"_\" + str(sep_last_num))\n",
    "            list_user_id.append(user_id)\n",
    "            list_item_seq.append(dict_user_action[user_id][\"item_seq\"][:-sep_last_num])\n",
    "            if 1-sep_last_num == 0:\n",
    "                list_diff_time_seq.append(dict_user_action[user_id][\"diff_time_seq\"][:])\n",
    "            else:\n",
    "                list_diff_time_seq.append(dict_user_action[user_id][\"diff_time_seq\"][:1-sep_last_num])\n",
    "            list_item_seq_next.append(dict_user_action[user_id][\"item_seq\"][-sep_last_num])\n",
    "    df_train_data = pd.DataFrame()\n",
    "    df_train_data[\"index\"], df_train_data[\"user_id\"], df_train_data[\"item_seq\"], df_train_data[\"diff_time_seq\"], df_train_data[\"item_seq_next\"] = list_index, list_user_id, list_item_seq, list_diff_time_seq, list_item_seq_next\n",
    "    return df_train_data"
   ]
  },
  {
   "cell_type": "code",
   "execution_count": null,
   "metadata": {},
   "outputs": [],
   "source": []
  },
  {
   "cell_type": "code",
   "execution_count": null,
   "metadata": {},
   "outputs": [],
   "source": [
    "def get_pred_data(dict_user_action_test_click, test_qtime):\n",
    "    # user_id-0, item_seq_diff_time_seq, pred_item_seq_next\n",
    "    list_user_id, list_query_time, list_item_seq, list_diff_time_seq = [], [], [], []\n",
    "    for i,row in test_qtime.iterrows(): \n",
    "        user_id, query_time = int(row[\"user_id\"]), float(row[\"query_time\"])\n",
    "        list_user_id.append(user_id)\n",
    "        list_query_time.append(query_time)\n",
    "        list_item_seq.append(dict_user_action_test_click[user_id][\"item_seq\"])\n",
    "        list_diff_time_seq.append(dict_user_action_test_click[user_id][\"diff_time_seq\"] + [(query_time-dict_user_action_test_click[user_id][\"time_seq\"][-1]) * 10**4])\n",
    "    df_test_data = pd.DataFrame()\n",
    "    df_test_data[\"user_id\"], df_test_data[\"query_time\"], df_test_data[\"item_seq\"], df_test_data[\"diff_time_seq\"] = list_user_id, list_query_time, list_item_seq, list_diff_time_seq\n",
    "    return df_test_data"
   ]
  },
  {
   "cell_type": "code",
   "execution_count": null,
   "metadata": {},
   "outputs": [],
   "source": []
  },
  {
   "cell_type": "code",
   "execution_count": 195,
   "metadata": {},
   "outputs": [
    {
     "data": {
      "text/html": [
       "<div>\n",
       "<style scoped>\n",
       "    .dataframe tbody tr th:only-of-type {\n",
       "        vertical-align: middle;\n",
       "    }\n",
       "\n",
       "    .dataframe tbody tr th {\n",
       "        vertical-align: top;\n",
       "    }\n",
       "\n",
       "    .dataframe thead th {\n",
       "        text-align: right;\n",
       "    }\n",
       "</style>\n",
       "<table border=\"1\" class=\"dataframe\">\n",
       "  <thead>\n",
       "    <tr style=\"text-align: right;\">\n",
       "      <th></th>\n",
       "      <th>user_id</th>\n",
       "      <th>item_id</th>\n",
       "      <th>time</th>\n",
       "      <th>phase</th>\n",
       "    </tr>\n",
       "  </thead>\n",
       "  <tbody>\n",
       "    <tr>\n",
       "      <th>7848</th>\n",
       "      <td>1</td>\n",
       "      <td>69359</td>\n",
       "      <td>0.983942</td>\n",
       "      <td>1</td>\n",
       "    </tr>\n",
       "    <tr>\n",
       "      <th>21171</th>\n",
       "      <td>1</td>\n",
       "      <td>63733</td>\n",
       "      <td>0.983848</td>\n",
       "      <td>1</td>\n",
       "    </tr>\n",
       "    <tr>\n",
       "      <th>11233</th>\n",
       "      <td>1</td>\n",
       "      <td>18522</td>\n",
       "      <td>0.983887</td>\n",
       "      <td>1</td>\n",
       "    </tr>\n",
       "    <tr>\n",
       "      <th>10475</th>\n",
       "      <td>1</td>\n",
       "      <td>17770</td>\n",
       "      <td>0.983886</td>\n",
       "      <td>1</td>\n",
       "    </tr>\n",
       "    <tr>\n",
       "      <th>0</th>\n",
       "      <td>1</td>\n",
       "      <td>-999</td>\n",
       "      <td>0.983942</td>\n",
       "      <td>1</td>\n",
       "    </tr>\n",
       "  </tbody>\n",
       "</table>\n",
       "</div>"
      ],
      "text/plain": [
       "       user_id  item_id      time  phase\n",
       "7848         1    69359  0.983942      1\n",
       "21171        1    63733  0.983848      1\n",
       "11233        1    18522  0.983887      1\n",
       "10475        1    17770  0.983886      1\n",
       "0            1     -999  0.983942      1"
      ]
     },
     "execution_count": 195,
     "metadata": {},
     "output_type": "execute_result"
    }
   ],
   "source": [
    "underexpose_test_click.sort_values(['user_id']).head()"
   ]
  },
  {
   "cell_type": "code",
   "execution_count": 196,
   "metadata": {},
   "outputs": [
    {
     "data": {
      "text/html": [
       "<div>\n",
       "<style scoped>\n",
       "    .dataframe tbody tr th:only-of-type {\n",
       "        vertical-align: middle;\n",
       "    }\n",
       "\n",
       "    .dataframe tbody tr th {\n",
       "        vertical-align: top;\n",
       "    }\n",
       "\n",
       "    .dataframe thead th {\n",
       "        text-align: right;\n",
       "    }\n",
       "</style>\n",
       "<table border=\"1\" class=\"dataframe\">\n",
       "  <thead>\n",
       "    <tr style=\"text-align: right;\">\n",
       "      <th></th>\n",
       "      <th>user_id</th>\n",
       "      <th>item_id</th>\n",
       "      <th>time</th>\n",
       "      <th>phase</th>\n",
       "    </tr>\n",
       "  </thead>\n",
       "  <tbody>\n",
       "    <tr>\n",
       "      <th>15962</th>\n",
       "      <td>1</td>\n",
       "      <td>14722</td>\n",
       "      <td>0.984038</td>\n",
       "      <td>2</td>\n",
       "    </tr>\n",
       "    <tr>\n",
       "      <th>13187</th>\n",
       "      <td>1</td>\n",
       "      <td>89568</td>\n",
       "      <td>0.984048</td>\n",
       "      <td>2</td>\n",
       "    </tr>\n",
       "    <tr>\n",
       "      <th>92822</th>\n",
       "      <td>1</td>\n",
       "      <td>69359</td>\n",
       "      <td>0.983942</td>\n",
       "      <td>3</td>\n",
       "    </tr>\n",
       "    <tr>\n",
       "      <th>84964</th>\n",
       "      <td>1</td>\n",
       "      <td>69359</td>\n",
       "      <td>0.983942</td>\n",
       "      <td>0</td>\n",
       "    </tr>\n",
       "    <tr>\n",
       "      <th>115161</th>\n",
       "      <td>1</td>\n",
       "      <td>68164</td>\n",
       "      <td>0.984061</td>\n",
       "      <td>2</td>\n",
       "    </tr>\n",
       "  </tbody>\n",
       "</table>\n",
       "</div>"
      ],
      "text/plain": [
       "        user_id  item_id      time  phase\n",
       "15962         1    14722  0.984038      2\n",
       "13187         1    89568  0.984048      2\n",
       "92822         1    69359  0.983942      3\n",
       "84964         1    69359  0.983942      0\n",
       "115161        1    68164  0.984061      2"
      ]
     },
     "execution_count": 196,
     "metadata": {},
     "output_type": "execute_result"
    }
   ],
   "source": [
    "underexpose_train_click.sort_values(['user_id']).head()"
   ]
  },
  {
   "cell_type": "code",
   "execution_count": 192,
   "metadata": {},
   "outputs": [
    {
     "data": {
      "text/plain": [
       "{1,\n",
       " 2,\n",
       " 3,\n",
       " 4,\n",
       " 32769,\n",
       " 6,\n",
       " 7,\n",
       " 8,\n",
       " 9,\n",
       " 32770,\n",
       " 11,\n",
       " 12,\n",
       " 32776,\n",
       " 14,\n",
       " 15,\n",
       " 32779,\n",
       " 32783,\n",
       " 32785,\n",
       " 19,\n",
       " 32786,\n",
       " 32787,\n",
       " 22,\n",
       " 32788,\n",
       " 32790,\n",
       " 25,\n",
       " 32792,\n",
       " 27,\n",
       " 32794,\n",
       " 29,\n",
       " 30,\n",
       " 32795,\n",
       " 32,\n",
       " 32796,\n",
       " 34,\n",
       " 32798,\n",
       " 36,\n",
       " 32802,\n",
       " 32803,\n",
       " 39,\n",
       " 32804,\n",
       " 41,\n",
       " 32808,\n",
       " 43,\n",
       " 44,\n",
       " 32811,\n",
       " 46,\n",
       " 47,\n",
       " 32812,\n",
       " 32813,\n",
       " 50,\n",
       " 32817,\n",
       " 52,\n",
       " 53,\n",
       " 54,\n",
       " 55,\n",
       " 32818,\n",
       " 57,\n",
       " 32820,\n",
       " 59,\n",
       " 60,\n",
       " 61,\n",
       " 62,\n",
       " 63,\n",
       " 64,\n",
       " 65,\n",
       " 66,\n",
       " 32826,\n",
       " 68,\n",
       " 32828,\n",
       " 70,\n",
       " 32830,\n",
       " 32833,\n",
       " 73,\n",
       " 32834,\n",
       " 32836,\n",
       " 32839,\n",
       " 77,\n",
       " 32840,\n",
       " 81,\n",
       " 32849,\n",
       " 83,\n",
       " 84,\n",
       " 85,\n",
       " 32851,\n",
       " 32852,\n",
       " 88,\n",
       " 89,\n",
       " 90,\n",
       " 91,\n",
       " 92,\n",
       " 32853,\n",
       " 94,\n",
       " 95,\n",
       " 96,\n",
       " 32858,\n",
       " 32859,\n",
       " 32860,\n",
       " 100,\n",
       " 101,\n",
       " 102,\n",
       " 32862,\n",
       " 104,\n",
       " 105,\n",
       " 106,\n",
       " 107,\n",
       " 108,\n",
       " 109,\n",
       " 110,\n",
       " 111,\n",
       " 32871,\n",
       " 32873,\n",
       " 32874,\n",
       " 32876,\n",
       " 32880,\n",
       " 32881,\n",
       " 32886,\n",
       " 32887,\n",
       " 120,\n",
       " 121,\n",
       " 122,\n",
       " 32888,\n",
       " 124,\n",
       " 125,\n",
       " 32889,\n",
       " 32891,\n",
       " 32894,\n",
       " 32895,\n",
       " 130,\n",
       " 131,\n",
       " 32898,\n",
       " 32899,\n",
       " 134,\n",
       " 32900,\n",
       " 136,\n",
       " 137,\n",
       " 32903,\n",
       " 139,\n",
       " 140,\n",
       " 32906,\n",
       " 142,\n",
       " 143,\n",
       " 144,\n",
       " 145,\n",
       " 32907,\n",
       " 147,\n",
       " 32908,\n",
       " 149,\n",
       " 32909,\n",
       " 32911,\n",
       " 32915,\n",
       " 32917,\n",
       " 154,\n",
       " 32918,\n",
       " 32919,\n",
       " 157,\n",
       " 32921,\n",
       " 159,\n",
       " 160,\n",
       " 161,\n",
       " 162,\n",
       " 32922,\n",
       " 164,\n",
       " 32925,\n",
       " 32928,\n",
       " 32930,\n",
       " 168,\n",
       " 169,\n",
       " 32932,\n",
       " 32933,\n",
       " 32934,\n",
       " 173,\n",
       " 32935,\n",
       " 175,\n",
       " 176,\n",
       " 32936,\n",
       " 178,\n",
       " 179,\n",
       " 32939,\n",
       " 181,\n",
       " 32942,\n",
       " 183,\n",
       " 32943,\n",
       " 185,\n",
       " 186,\n",
       " 187,\n",
       " 188,\n",
       " 189,\n",
       " 190,\n",
       " 191,\n",
       " 192,\n",
       " 193,\n",
       " 32954,\n",
       " 32958,\n",
       " 32961,\n",
       " 197,\n",
       " 32962,\n",
       " 32963,\n",
       " 200,\n",
       " 201,\n",
       " 202,\n",
       " 32964,\n",
       " 204,\n",
       " 32965,\n",
       " 206,\n",
       " 207,\n",
       " 208,\n",
       " 32970,\n",
       " 210,\n",
       " 211,\n",
       " 32972,\n",
       " 213,\n",
       " 214,\n",
       " 215,\n",
       " 32976,\n",
       " 217,\n",
       " 32977,\n",
       " 219,\n",
       " 220,\n",
       " 221,\n",
       " 32982,\n",
       " 32983,\n",
       " 224,\n",
       " 32984,\n",
       " 32985,\n",
       " 32989,\n",
       " 32990,\n",
       " 229,\n",
       " 230,\n",
       " 231,\n",
       " 232,\n",
       " 233,\n",
       " 32994,\n",
       " 32995,\n",
       " 32996,\n",
       " 237,\n",
       " 238,\n",
       " 33001,\n",
       " 33005,\n",
       " 241,\n",
       " 33007,\n",
       " 243,\n",
       " 244,\n",
       " 245,\n",
       " 246,\n",
       " 247,\n",
       " 33008,\n",
       " 33009,\n",
       " 33011,\n",
       " 33012,\n",
       " 252,\n",
       " 253,\n",
       " 254,\n",
       " 33014,\n",
       " 256,\n",
       " 257,\n",
       " 258,\n",
       " 33018,\n",
       " 33019,\n",
       " 33020,\n",
       " 262,\n",
       " 263,\n",
       " 33023,\n",
       " 33024,\n",
       " 33026,\n",
       " 267,\n",
       " 268,\n",
       " 269,\n",
       " 270,\n",
       " 271,\n",
       " 33031,\n",
       " 273,\n",
       " 274,\n",
       " 33035,\n",
       " 33036,\n",
       " 277,\n",
       " 33037,\n",
       " 279,\n",
       " 33040,\n",
       " 281,\n",
       " 33041,\n",
       " 283,\n",
       " 33046,\n",
       " 33048,\n",
       " 33049,\n",
       " 33051,\n",
       " 33054,\n",
       " 289,\n",
       " 290,\n",
       " 291,\n",
       " 33055,\n",
       " 293,\n",
       " 294,\n",
       " 295,\n",
       " 296,\n",
       " 297,\n",
       " 33057,\n",
       " 299,\n",
       " 300,\n",
       " 301,\n",
       " 302,\n",
       " 33063,\n",
       " 304,\n",
       " 305,\n",
       " 306,\n",
       " 307,\n",
       " 33067,\n",
       " 33068,\n",
       " 310,\n",
       " 33071,\n",
       " 312,\n",
       " 313,\n",
       " 314,\n",
       " 315,\n",
       " 33076,\n",
       " 33078,\n",
       " 318,\n",
       " 319,\n",
       " 320,\n",
       " 33081,\n",
       " 322,\n",
       " 323,\n",
       " 33083,\n",
       " 325,\n",
       " 326,\n",
       " 327,\n",
       " 33087,\n",
       " 329,\n",
       " 33090,\n",
       " 331,\n",
       " 332,\n",
       " 333,\n",
       " 33094,\n",
       " 335,\n",
       " 336,\n",
       " 33096,\n",
       " 33097,\n",
       " 33100,\n",
       " 340,\n",
       " 341,\n",
       " 33101,\n",
       " 33102,\n",
       " 344,\n",
       " 33105,\n",
       " 346,\n",
       " 33107,\n",
       " 33108,\n",
       " 349,\n",
       " 350,\n",
       " 351,\n",
       " 33113,\n",
       " 353,\n",
       " 33116,\n",
       " 355,\n",
       " 356,\n",
       " 33117,\n",
       " 358,\n",
       " 359,\n",
       " 33119,\n",
       " 33123,\n",
       " 33126,\n",
       " 33127,\n",
       " 364,\n",
       " 33128,\n",
       " 366,\n",
       " 33129,\n",
       " 368,\n",
       " 33131,\n",
       " 33132,\n",
       " 371,\n",
       " 372,\n",
       " 373,\n",
       " 33135,\n",
       " 33137,\n",
       " 33138,\n",
       " 33140,\n",
       " 33141,\n",
       " 379,\n",
       " 380,\n",
       " 381,\n",
       " 33142,\n",
       " 33143,\n",
       " 33145,\n",
       " 385,\n",
       " 33146,\n",
       " 33148,\n",
       " 33149,\n",
       " 389,\n",
       " 33150,\n",
       " 391,\n",
       " 33151,\n",
       " 393,\n",
       " 394,\n",
       " 395,\n",
       " 33155,\n",
       " 397,\n",
       " 33158,\n",
       " 33160,\n",
       " 400,\n",
       " 401,\n",
       " 33161,\n",
       " 33162,\n",
       " 404,\n",
       " 405,\n",
       " 33165,\n",
       " 33166,\n",
       " 408,\n",
       " 409,\n",
       " 33170,\n",
       " 33175,\n",
       " 33179,\n",
       " 413,\n",
       " 33180,\n",
       " 33181,\n",
       " 33182,\n",
       " 417,\n",
       " 33183,\n",
       " 33184,\n",
       " 420,\n",
       " 421,\n",
       " 422,\n",
       " 423,\n",
       " 424,\n",
       " 425,\n",
       " 426,\n",
       " 33194,\n",
       " 428,\n",
       " 33195,\n",
       " 33196,\n",
       " 431,\n",
       " 432,\n",
       " 433,\n",
       " 434,\n",
       " 435,\n",
       " 33197,\n",
       " 33200,\n",
       " 438,\n",
       " 439,\n",
       " 33202,\n",
       " 33203,\n",
       " 33204,\n",
       " 443,\n",
       " 33206,\n",
       " 445,\n",
       " 446,\n",
       " 447,\n",
       " 448,\n",
       " 33208,\n",
       " 450,\n",
       " 451,\n",
       " 452,\n",
       " 33212,\n",
       " 454,\n",
       " 33214,\n",
       " 33215,\n",
       " 457,\n",
       " 33217,\n",
       " 459,\n",
       " 460,\n",
       " 461,\n",
       " 462,\n",
       " 33224,\n",
       " 464,\n",
       " 465,\n",
       " 466,\n",
       " 33227,\n",
       " 468,\n",
       " 33228,\n",
       " 470,\n",
       " 471,\n",
       " 472,\n",
       " 33232,\n",
       " 474,\n",
       " 475,\n",
       " 476,\n",
       " 33238,\n",
       " 33240,\n",
       " 33244,\n",
       " 480,\n",
       " 33246,\n",
       " 482,\n",
       " 483,\n",
       " 484,\n",
       " 485,\n",
       " 33247,\n",
       " 487,\n",
       " 33251,\n",
       " 489,\n",
       " 490,\n",
       " 491,\n",
       " 492,\n",
       " 33252,\n",
       " 494,\n",
       " 33254,\n",
       " 496,\n",
       " 497,\n",
       " 33257,\n",
       " 499,\n",
       " 33261,\n",
       " 33262,\n",
       " 33263,\n",
       " 503,\n",
       " 504,\n",
       " 505,\n",
       " 33265,\n",
       " 507,\n",
       " 508,\n",
       " 33268,\n",
       " 33270,\n",
       " 511,\n",
       " 33273,\n",
       " 513,\n",
       " 33275,\n",
       " 515,\n",
       " 33276,\n",
       " 33277,\n",
       " 33278,\n",
       " 519,\n",
       " 520,\n",
       " 521,\n",
       " 522,\n",
       " 33282,\n",
       " 524,\n",
       " 525,\n",
       " 33286,\n",
       " 527,\n",
       " 33289,\n",
       " 529,\n",
       " 530,\n",
       " 33291,\n",
       " 532,\n",
       " 33292,\n",
       " 33293,\n",
       " 535,\n",
       " 536,\n",
       " 537,\n",
       " 538,\n",
       " 539,\n",
       " 540,\n",
       " 33300,\n",
       " 542,\n",
       " 543,\n",
       " 33303,\n",
       " 33304,\n",
       " 546,\n",
       " 547,\n",
       " 548,\n",
       " 549,\n",
       " 33312,\n",
       " 33316,\n",
       " 33318,\n",
       " 33321,\n",
       " 554,\n",
       " 33323,\n",
       " 556,\n",
       " 33325,\n",
       " 558,\n",
       " 559,\n",
       " 560,\n",
       " 561,\n",
       " 562,\n",
       " 563,\n",
       " 33326,\n",
       " 565,\n",
       " 566,\n",
       " 567,\n",
       " 568,\n",
       " 33329,\n",
       " 570,\n",
       " 571,\n",
       " 572,\n",
       " 33332,\n",
       " 574,\n",
       " 33334,\n",
       " 576,\n",
       " 577,\n",
       " 578,\n",
       " 579,\n",
       " 33339,\n",
       " 581,\n",
       " 33341,\n",
       " 583,\n",
       " 33346,\n",
       " 33347,\n",
       " 586,\n",
       " 587,\n",
       " 33350,\n",
       " 33354,\n",
       " 33356,\n",
       " 591,\n",
       " 33357,\n",
       " 593,\n",
       " 594,\n",
       " 595,\n",
       " 33359,\n",
       " 33360,\n",
       " 33363,\n",
       " 33364,\n",
       " 33365,\n",
       " 601,\n",
       " 602,\n",
       " 603,\n",
       " 604,\n",
       " 33366,\n",
       " 33368,\n",
       " 607,\n",
       " 608,\n",
       " 33369,\n",
       " 610,\n",
       " 611,\n",
       " 33371,\n",
       " 33372,\n",
       " 614,\n",
       " 615,\n",
       " 616,\n",
       " 617,\n",
       " 33377,\n",
       " 33378,\n",
       " 620,\n",
       " 621,\n",
       " 622,\n",
       " 33383,\n",
       " 33384,\n",
       " 625,\n",
       " 626,\n",
       " 627,\n",
       " 628,\n",
       " 629,\n",
       " 630,\n",
       " 33391,\n",
       " 632,\n",
       " 633,\n",
       " 634,\n",
       " 635,\n",
       " 33395,\n",
       " 637,\n",
       " 33401,\n",
       " 639,\n",
       " 640,\n",
       " 33406,\n",
       " 642,\n",
       " 643,\n",
       " 33407,\n",
       " 645,\n",
       " 33408,\n",
       " 33409,\n",
       " 648,\n",
       " 649,\n",
       " 33412,\n",
       " 651,\n",
       " 33413,\n",
       " 33417,\n",
       " 654,\n",
       " 655,\n",
       " 656,\n",
       " 657,\n",
       " 33418,\n",
       " 659,\n",
       " 660,\n",
       " 33420,\n",
       " 662,\n",
       " 33424,\n",
       " 33425,\n",
       " 33426,\n",
       " 666,\n",
       " 33428,\n",
       " 668,\n",
       " 33429,\n",
       " 33430,\n",
       " 671,\n",
       " 672,\n",
       " 673,\n",
       " 33433,\n",
       " 33435,\n",
       " 676,\n",
       " 677,\n",
       " 33438,\n",
       " 679,\n",
       " 680,\n",
       " 681,\n",
       " 33441,\n",
       " 33442,\n",
       " 684,\n",
       " 33449,\n",
       " 686,\n",
       " 687,\n",
       " 33450,\n",
       " 689,\n",
       " 690,\n",
       " 33452,\n",
       " 692,\n",
       " 33457,\n",
       " 694,\n",
       " 695,\n",
       " 696,\n",
       " 33458,\n",
       " 698,\n",
       " 699,\n",
       " 33461,\n",
       " 701,\n",
       " 702,\n",
       " 703,\n",
       " 704,\n",
       " 705,\n",
       " 706,\n",
       " 707,\n",
       " 708,\n",
       " 33469,\n",
       " 710,\n",
       " 711,\n",
       " 712,\n",
       " 33475,\n",
       " 714,\n",
       " 715,\n",
       " 716,\n",
       " 33476,\n",
       " 33477,\n",
       " 719,\n",
       " 33479,\n",
       " 721,\n",
       " 722,\n",
       " 723,\n",
       " 33483,\n",
       " 725,\n",
       " 33485,\n",
       " 727,\n",
       " 728,\n",
       " 33488,\n",
       " 730,\n",
       " 731,\n",
       " 33492,\n",
       " 33493,\n",
       " 33494,\n",
       " 735,\n",
       " 736,\n",
       " 33497,\n",
       " 33500,\n",
       " 33501,\n",
       " 740,\n",
       " 741,\n",
       " 33503,\n",
       " 33505,\n",
       " 744,\n",
       " 745,\n",
       " 746,\n",
       " 747,\n",
       " 33507,\n",
       " 749,\n",
       " 750,\n",
       " 751,\n",
       " 752,\n",
       " 753,\n",
       " 754,\n",
       " 755,\n",
       " 33516,\n",
       " 757,\n",
       " 33521,\n",
       " 759,\n",
       " 760,\n",
       " 33522,\n",
       " 33525,\n",
       " 763,\n",
       " 33527,\n",
       " 765,\n",
       " 766,\n",
       " 767,\n",
       " 768,\n",
       " 769,\n",
       " 33529,\n",
       " 33531,\n",
       " 772,\n",
       " 33532,\n",
       " 33534,\n",
       " 775,\n",
       " 776,\n",
       " 777,\n",
       " 33538,\n",
       " 779,\n",
       " 780,\n",
       " 33540,\n",
       " 782,\n",
       " 783,\n",
       " 784,\n",
       " 785,\n",
       " 786,\n",
       " 787,\n",
       " 788,\n",
       " 33548,\n",
       " 790,\n",
       " 791,\n",
       " 792,\n",
       " 793,\n",
       " 794,\n",
       " 795,\n",
       " 33555,\n",
       " 797,\n",
       " 798,\n",
       " 799,\n",
       " 33560,\n",
       " 33561,\n",
       " 802,\n",
       " 33562,\n",
       " 804,\n",
       " 33566,\n",
       " 33568,\n",
       " 807,\n",
       " 33570,\n",
       " 33571,\n",
       " 810,\n",
       " 811,\n",
       " 812,\n",
       " 813,\n",
       " 33575,\n",
       " 815,\n",
       " 33576,\n",
       " 33578,\n",
       " 818,\n",
       " 819,\n",
       " 820,\n",
       " 33582,\n",
       " 33583,\n",
       " 823,\n",
       " 33585,\n",
       " 825,\n",
       " 33586,\n",
       " 827,\n",
       " 828,\n",
       " 829,\n",
       " 33589,\n",
       " 33590,\n",
       " 832,\n",
       " 33592,\n",
       " 834,\n",
       " 835,\n",
       " 33596,\n",
       " 837,\n",
       " 838,\n",
       " 839,\n",
       " 840,\n",
       " 841,\n",
       " 842,\n",
       " 843,\n",
       " 844,\n",
       " 845,\n",
       " 846,\n",
       " 847,\n",
       " 33607,\n",
       " 849,\n",
       " 33611,\n",
       " 851,\n",
       " 33613,\n",
       " 853,\n",
       " 33614,\n",
       " 33616,\n",
       " 33617,\n",
       " 857,\n",
       " 858,\n",
       " 33621,\n",
       " 860,\n",
       " 861,\n",
       " 862,\n",
       " 863,\n",
       " 864,\n",
       " 33624,\n",
       " 866,\n",
       " 867,\n",
       " 868,\n",
       " 869,\n",
       " 870,\n",
       " 871,\n",
       " 33631,\n",
       " 873,\n",
       " 33633,\n",
       " 875,\n",
       " 876,\n",
       " 877,\n",
       " 33637,\n",
       " 33641,\n",
       " 33643,\n",
       " 881,\n",
       " 882,\n",
       " 883,\n",
       " 884,\n",
       " 885,\n",
       " 886,\n",
       " 887,\n",
       " 888,\n",
       " 33648,\n",
       " 33649,\n",
       " 33650,\n",
       " 33652,\n",
       " 893,\n",
       " 894,\n",
       " 33655,\n",
       " 896,\n",
       " 897,\n",
       " 898,\n",
       " 899,\n",
       " 900,\n",
       " 901,\n",
       " 902,\n",
       " 903,\n",
       " 33665,\n",
       " 33666,\n",
       " 33669,\n",
       " 907,\n",
       " 33672,\n",
       " 33673,\n",
       " 910,\n",
       " 911,\n",
       " 912,\n",
       " 33676,\n",
       " 914,\n",
       " 33677,\n",
       " 33679,\n",
       " 33681,\n",
       " 33682,\n",
       " 33683,\n",
       " 920,\n",
       " 921,\n",
       " 33684,\n",
       " 923,\n",
       " 924,\n",
       " 33685,\n",
       " 33687,\n",
       " 33688,\n",
       " 928,\n",
       " 929,\n",
       " 33691,\n",
       " 33693,\n",
       " 932,\n",
       " 933,\n",
       " 934,\n",
       " 33694,\n",
       " 936,\n",
       " 33696,\n",
       " 938,\n",
       " 33698,\n",
       " 940,\n",
       " 33701,\n",
       " 942,\n",
       " 943,\n",
       " 944,\n",
       " 945,\n",
       " 33705,\n",
       " 947,\n",
       " 33707,\n",
       " 33709,\n",
       " 33710,\n",
       " 951,\n",
       " 33713,\n",
       " 33714,\n",
       " 954,\n",
       " 33715,\n",
       " 956,\n",
       " 33717,\n",
       " 958,\n",
       " 33720,\n",
       " 33721,\n",
       " 33723,\n",
       " 33724,\n",
       " 963,\n",
       " 964,\n",
       " 965,\n",
       " 966,\n",
       " 33726,\n",
       " 968,\n",
       " 33735,\n",
       " 971,\n",
       " 972,\n",
       " 973,\n",
       " 974,\n",
       " 33741,\n",
       " 976,\n",
       " 33742,\n",
       " 978,\n",
       " 33745,\n",
       " 980,\n",
       " 981,\n",
       " 33747,\n",
       " 983,\n",
       " 984,\n",
       " 33751,\n",
       " 986,\n",
       " 987,\n",
       " 988,\n",
       " 33755,\n",
       " 990,\n",
       " 33757,\n",
       " 992,\n",
       " 33758,\n",
       " 994,\n",
       " 33759,\n",
       " 996,\n",
       " 997,\n",
       " 998,\n",
       " 999,\n",
       " 33760,\n",
       " 1001,\n",
       " 1002,\n",
       " 1003,\n",
       " ...}"
      ]
     },
     "execution_count": 192,
     "metadata": {},
     "output_type": "execute_result"
    }
   ],
   "source": [
    "set(underexpose_train_click.user_id)-set(underexpose_user_feat.user_id)"
   ]
  },
  {
   "cell_type": "code",
   "execution_count": 178,
   "metadata": {},
   "outputs": [
    {
     "data": {
      "text/html": [
       "<div>\n",
       "<style scoped>\n",
       "    .dataframe tbody tr th:only-of-type {\n",
       "        vertical-align: middle;\n",
       "    }\n",
       "\n",
       "    .dataframe tbody tr th {\n",
       "        vertical-align: top;\n",
       "    }\n",
       "\n",
       "    .dataframe thead th {\n",
       "        text-align: right;\n",
       "    }\n",
       "</style>\n",
       "<table border=\"1\" class=\"dataframe\">\n",
       "  <thead>\n",
       "    <tr style=\"text-align: right;\">\n",
       "      <th></th>\n",
       "      <th>user_id</th>\n",
       "      <th>item_id</th>\n",
       "      <th>index_user_id</th>\n",
       "      <th>index_item_id</th>\n",
       "      <th>score</th>\n",
       "    </tr>\n",
       "  </thead>\n",
       "  <tbody>\n",
       "    <tr>\n",
       "      <th>0</th>\n",
       "      <td>1</td>\n",
       "      <td>4033</td>\n",
       "      <td>2690</td>\n",
       "      <td>27709</td>\n",
       "      <td>2</td>\n",
       "    </tr>\n",
       "    <tr>\n",
       "      <th>1</th>\n",
       "      <td>1</td>\n",
       "      <td>13025</td>\n",
       "      <td>2690</td>\n",
       "      <td>11384</td>\n",
       "      <td>2</td>\n",
       "    </tr>\n",
       "    <tr>\n",
       "      <th>2</th>\n",
       "      <td>1</td>\n",
       "      <td>13905</td>\n",
       "      <td>2690</td>\n",
       "      <td>69354</td>\n",
       "      <td>1</td>\n",
       "    </tr>\n",
       "    <tr>\n",
       "      <th>3</th>\n",
       "      <td>1</td>\n",
       "      <td>14547</td>\n",
       "      <td>2690</td>\n",
       "      <td>42100</td>\n",
       "      <td>1</td>\n",
       "    </tr>\n",
       "    <tr>\n",
       "      <th>4</th>\n",
       "      <td>1</td>\n",
       "      <td>14665</td>\n",
       "      <td>2690</td>\n",
       "      <td>54128</td>\n",
       "      <td>1</td>\n",
       "    </tr>\n",
       "    <tr>\n",
       "      <th>5</th>\n",
       "      <td>1</td>\n",
       "      <td>14722</td>\n",
       "      <td>2690</td>\n",
       "      <td>6023</td>\n",
       "      <td>2</td>\n",
       "    </tr>\n",
       "    <tr>\n",
       "      <th>6</th>\n",
       "      <td>1</td>\n",
       "      <td>17770</td>\n",
       "      <td>2690</td>\n",
       "      <td>48045</td>\n",
       "      <td>1</td>\n",
       "    </tr>\n",
       "    <tr>\n",
       "      <th>7</th>\n",
       "      <td>1</td>\n",
       "      <td>17887</td>\n",
       "      <td>2690</td>\n",
       "      <td>19803</td>\n",
       "      <td>2</td>\n",
       "    </tr>\n",
       "    <tr>\n",
       "      <th>8</th>\n",
       "      <td>1</td>\n",
       "      <td>18522</td>\n",
       "      <td>2690</td>\n",
       "      <td>31853</td>\n",
       "      <td>3</td>\n",
       "    </tr>\n",
       "    <tr>\n",
       "      <th>9</th>\n",
       "      <td>1</td>\n",
       "      <td>26646</td>\n",
       "      <td>2690</td>\n",
       "      <td>34527</td>\n",
       "      <td>1</td>\n",
       "    </tr>\n",
       "    <tr>\n",
       "      <th>10</th>\n",
       "      <td>1</td>\n",
       "      <td>28869</td>\n",
       "      <td>2690</td>\n",
       "      <td>55971</td>\n",
       "      <td>2</td>\n",
       "    </tr>\n",
       "    <tr>\n",
       "      <th>11</th>\n",
       "      <td>1</td>\n",
       "      <td>31443</td>\n",
       "      <td>2690</td>\n",
       "      <td>34581</td>\n",
       "      <td>3</td>\n",
       "    </tr>\n",
       "    <tr>\n",
       "      <th>12</th>\n",
       "      <td>1</td>\n",
       "      <td>47607</td>\n",
       "      <td>2690</td>\n",
       "      <td>2286</td>\n",
       "      <td>1</td>\n",
       "    </tr>\n",
       "    <tr>\n",
       "      <th>13</th>\n",
       "      <td>1</td>\n",
       "      <td>47611</td>\n",
       "      <td>2690</td>\n",
       "      <td>2287</td>\n",
       "      <td>2</td>\n",
       "    </tr>\n",
       "    <tr>\n",
       "      <th>14</th>\n",
       "      <td>1</td>\n",
       "      <td>63733</td>\n",
       "      <td>2690</td>\n",
       "      <td>42601</td>\n",
       "      <td>1</td>\n",
       "    </tr>\n",
       "    <tr>\n",
       "      <th>15</th>\n",
       "      <td>1</td>\n",
       "      <td>68164</td>\n",
       "      <td>2690</td>\n",
       "      <td>57621</td>\n",
       "      <td>2</td>\n",
       "    </tr>\n",
       "    <tr>\n",
       "      <th>16</th>\n",
       "      <td>1</td>\n",
       "      <td>69359</td>\n",
       "      <td>2690</td>\n",
       "      <td>34983</td>\n",
       "      <td>4</td>\n",
       "    </tr>\n",
       "    <tr>\n",
       "      <th>17</th>\n",
       "      <td>1</td>\n",
       "      <td>72939</td>\n",
       "      <td>2690</td>\n",
       "      <td>48354</td>\n",
       "      <td>1</td>\n",
       "    </tr>\n",
       "    <tr>\n",
       "      <th>18</th>\n",
       "      <td>1</td>\n",
       "      <td>76240</td>\n",
       "      <td>2690</td>\n",
       "      <td>14368</td>\n",
       "      <td>1</td>\n",
       "    </tr>\n",
       "    <tr>\n",
       "      <th>19</th>\n",
       "      <td>1</td>\n",
       "      <td>77096</td>\n",
       "      <td>2690</td>\n",
       "      <td>3606</td>\n",
       "      <td>1</td>\n",
       "    </tr>\n",
       "    <tr>\n",
       "      <th>20</th>\n",
       "      <td>1</td>\n",
       "      <td>78142</td>\n",
       "      <td>2690</td>\n",
       "      <td>14456</td>\n",
       "      <td>1</td>\n",
       "    </tr>\n",
       "    <tr>\n",
       "      <th>21</th>\n",
       "      <td>1</td>\n",
       "      <td>78380</td>\n",
       "      <td>2690</td>\n",
       "      <td>21451</td>\n",
       "      <td>1</td>\n",
       "    </tr>\n",
       "    <tr>\n",
       "      <th>22</th>\n",
       "      <td>1</td>\n",
       "      <td>79684</td>\n",
       "      <td>2690</td>\n",
       "      <td>52588</td>\n",
       "      <td>1</td>\n",
       "    </tr>\n",
       "    <tr>\n",
       "      <th>23</th>\n",
       "      <td>1</td>\n",
       "      <td>81337</td>\n",
       "      <td>2690</td>\n",
       "      <td>57071</td>\n",
       "      <td>1</td>\n",
       "    </tr>\n",
       "    <tr>\n",
       "      <th>24</th>\n",
       "      <td>1</td>\n",
       "      <td>85482</td>\n",
       "      <td>2690</td>\n",
       "      <td>54709</td>\n",
       "      <td>2</td>\n",
       "    </tr>\n",
       "    <tr>\n",
       "      <th>25</th>\n",
       "      <td>1</td>\n",
       "      <td>85492</td>\n",
       "      <td>2690</td>\n",
       "      <td>38266</td>\n",
       "      <td>3</td>\n",
       "    </tr>\n",
       "    <tr>\n",
       "      <th>26</th>\n",
       "      <td>1</td>\n",
       "      <td>87533</td>\n",
       "      <td>2690</td>\n",
       "      <td>35174</td>\n",
       "      <td>1</td>\n",
       "    </tr>\n",
       "    <tr>\n",
       "      <th>27</th>\n",
       "      <td>1</td>\n",
       "      <td>88234</td>\n",
       "      <td>2690</td>\n",
       "      <td>61503</td>\n",
       "      <td>2</td>\n",
       "    </tr>\n",
       "    <tr>\n",
       "      <th>28</th>\n",
       "      <td>1</td>\n",
       "      <td>89568</td>\n",
       "      <td>2690</td>\n",
       "      <td>14941</td>\n",
       "      <td>2</td>\n",
       "    </tr>\n",
       "    <tr>\n",
       "      <th>29</th>\n",
       "      <td>1</td>\n",
       "      <td>97795</td>\n",
       "      <td>2690</td>\n",
       "      <td>15297</td>\n",
       "      <td>1</td>\n",
       "    </tr>\n",
       "    <tr>\n",
       "      <th>...</th>\n",
       "      <td>...</td>\n",
       "      <td>...</td>\n",
       "      <td>...</td>\n",
       "      <td>...</td>\n",
       "      <td>...</td>\n",
       "    </tr>\n",
       "    <tr>\n",
       "      <th>574431</th>\n",
       "      <td>35422</td>\n",
       "      <td>72136</td>\n",
       "      <td>23729</td>\n",
       "      <td>21288</td>\n",
       "      <td>2</td>\n",
       "    </tr>\n",
       "    <tr>\n",
       "      <th>574432</th>\n",
       "      <td>35422</td>\n",
       "      <td>81810</td>\n",
       "      <td>23729</td>\n",
       "      <td>57076</td>\n",
       "      <td>1</td>\n",
       "    </tr>\n",
       "    <tr>\n",
       "      <th>574433</th>\n",
       "      <td>35422</td>\n",
       "      <td>87494</td>\n",
       "      <td>23729</td>\n",
       "      <td>59283</td>\n",
       "      <td>1</td>\n",
       "    </tr>\n",
       "    <tr>\n",
       "      <th>574434</th>\n",
       "      <td>35422</td>\n",
       "      <td>93558</td>\n",
       "      <td>23729</td>\n",
       "      <td>62758</td>\n",
       "      <td>1</td>\n",
       "    </tr>\n",
       "    <tr>\n",
       "      <th>574435</th>\n",
       "      <td>35422</td>\n",
       "      <td>93899</td>\n",
       "      <td>23729</td>\n",
       "      <td>68361</td>\n",
       "      <td>1</td>\n",
       "    </tr>\n",
       "    <tr>\n",
       "      <th>574436</th>\n",
       "      <td>35424</td>\n",
       "      <td>4724</td>\n",
       "      <td>20162</td>\n",
       "      <td>49015</td>\n",
       "      <td>3</td>\n",
       "    </tr>\n",
       "    <tr>\n",
       "      <th>574437</th>\n",
       "      <td>35424</td>\n",
       "      <td>26688</td>\n",
       "      <td>20162</td>\n",
       "      <td>41050</td>\n",
       "      <td>1</td>\n",
       "    </tr>\n",
       "    <tr>\n",
       "      <th>574438</th>\n",
       "      <td>35424</td>\n",
       "      <td>28462</td>\n",
       "      <td>20162</td>\n",
       "      <td>6674</td>\n",
       "      <td>3</td>\n",
       "    </tr>\n",
       "    <tr>\n",
       "      <th>574439</th>\n",
       "      <td>35424</td>\n",
       "      <td>54561</td>\n",
       "      <td>20162</td>\n",
       "      <td>47664</td>\n",
       "      <td>3</td>\n",
       "    </tr>\n",
       "    <tr>\n",
       "      <th>574440</th>\n",
       "      <td>35430</td>\n",
       "      <td>12941</td>\n",
       "      <td>25195</td>\n",
       "      <td>68516</td>\n",
       "      <td>1</td>\n",
       "    </tr>\n",
       "    <tr>\n",
       "      <th>574441</th>\n",
       "      <td>35430</td>\n",
       "      <td>34145</td>\n",
       "      <td>25195</td>\n",
       "      <td>45351</td>\n",
       "      <td>1</td>\n",
       "    </tr>\n",
       "    <tr>\n",
       "      <th>574442</th>\n",
       "      <td>35430</td>\n",
       "      <td>49795</td>\n",
       "      <td>25195</td>\n",
       "      <td>63441</td>\n",
       "      <td>1</td>\n",
       "    </tr>\n",
       "    <tr>\n",
       "      <th>574443</th>\n",
       "      <td>35430</td>\n",
       "      <td>110210</td>\n",
       "      <td>25195</td>\n",
       "      <td>65033</td>\n",
       "      <td>1</td>\n",
       "    </tr>\n",
       "    <tr>\n",
       "      <th>574444</th>\n",
       "      <td>35434</td>\n",
       "      <td>16324</td>\n",
       "      <td>26004</td>\n",
       "      <td>22903</td>\n",
       "      <td>1</td>\n",
       "    </tr>\n",
       "    <tr>\n",
       "      <th>574445</th>\n",
       "      <td>35434</td>\n",
       "      <td>42049</td>\n",
       "      <td>26004</td>\n",
       "      <td>52252</td>\n",
       "      <td>1</td>\n",
       "    </tr>\n",
       "    <tr>\n",
       "      <th>574446</th>\n",
       "      <td>35434</td>\n",
       "      <td>70452</td>\n",
       "      <td>26004</td>\n",
       "      <td>3317</td>\n",
       "      <td>1</td>\n",
       "    </tr>\n",
       "    <tr>\n",
       "      <th>574447</th>\n",
       "      <td>35434</td>\n",
       "      <td>77071</td>\n",
       "      <td>26004</td>\n",
       "      <td>8914</td>\n",
       "      <td>1</td>\n",
       "    </tr>\n",
       "    <tr>\n",
       "      <th>574448</th>\n",
       "      <td>35434</td>\n",
       "      <td>79835</td>\n",
       "      <td>26004</td>\n",
       "      <td>60774</td>\n",
       "      <td>1</td>\n",
       "    </tr>\n",
       "    <tr>\n",
       "      <th>574449</th>\n",
       "      <td>35434</td>\n",
       "      <td>90334</td>\n",
       "      <td>26004</td>\n",
       "      <td>14967</td>\n",
       "      <td>1</td>\n",
       "    </tr>\n",
       "    <tr>\n",
       "      <th>574450</th>\n",
       "      <td>35434</td>\n",
       "      <td>93437</td>\n",
       "      <td>26004</td>\n",
       "      <td>27293</td>\n",
       "      <td>1</td>\n",
       "    </tr>\n",
       "    <tr>\n",
       "      <th>574451</th>\n",
       "      <td>35434</td>\n",
       "      <td>101552</td>\n",
       "      <td>26004</td>\n",
       "      <td>70001</td>\n",
       "      <td>1</td>\n",
       "    </tr>\n",
       "    <tr>\n",
       "      <th>574452</th>\n",
       "      <td>35435</td>\n",
       "      <td>3133</td>\n",
       "      <td>24252</td>\n",
       "      <td>51641</td>\n",
       "      <td>1</td>\n",
       "    </tr>\n",
       "    <tr>\n",
       "      <th>574453</th>\n",
       "      <td>35435</td>\n",
       "      <td>23215</td>\n",
       "      <td>24252</td>\n",
       "      <td>64254</td>\n",
       "      <td>1</td>\n",
       "    </tr>\n",
       "    <tr>\n",
       "      <th>574454</th>\n",
       "      <td>35435</td>\n",
       "      <td>25792</td>\n",
       "      <td>24252</td>\n",
       "      <td>20022</td>\n",
       "      <td>1</td>\n",
       "    </tr>\n",
       "    <tr>\n",
       "      <th>574455</th>\n",
       "      <td>35435</td>\n",
       "      <td>40849</td>\n",
       "      <td>24252</td>\n",
       "      <td>61560</td>\n",
       "      <td>1</td>\n",
       "    </tr>\n",
       "    <tr>\n",
       "      <th>574456</th>\n",
       "      <td>35435</td>\n",
       "      <td>65907</td>\n",
       "      <td>24252</td>\n",
       "      <td>21110</td>\n",
       "      <td>1</td>\n",
       "    </tr>\n",
       "    <tr>\n",
       "      <th>574457</th>\n",
       "      <td>35435</td>\n",
       "      <td>69405</td>\n",
       "      <td>24252</td>\n",
       "      <td>71847</td>\n",
       "      <td>1</td>\n",
       "    </tr>\n",
       "    <tr>\n",
       "      <th>574458</th>\n",
       "      <td>35435</td>\n",
       "      <td>74285</td>\n",
       "      <td>24252</td>\n",
       "      <td>70208</td>\n",
       "      <td>1</td>\n",
       "    </tr>\n",
       "    <tr>\n",
       "      <th>574459</th>\n",
       "      <td>35435</td>\n",
       "      <td>80251</td>\n",
       "      <td>24252</td>\n",
       "      <td>68295</td>\n",
       "      <td>1</td>\n",
       "    </tr>\n",
       "    <tr>\n",
       "      <th>574460</th>\n",
       "      <td>35435</td>\n",
       "      <td>88855</td>\n",
       "      <td>24252</td>\n",
       "      <td>24922</td>\n",
       "      <td>1</td>\n",
       "    </tr>\n",
       "  </tbody>\n",
       "</table>\n",
       "<p>574461 rows × 5 columns</p>\n",
       "</div>"
      ],
      "text/plain": [
       "        user_id  item_id  index_user_id  index_item_id  score\n",
       "0             1     4033           2690          27709      2\n",
       "1             1    13025           2690          11384      2\n",
       "2             1    13905           2690          69354      1\n",
       "3             1    14547           2690          42100      1\n",
       "4             1    14665           2690          54128      1\n",
       "5             1    14722           2690           6023      2\n",
       "6             1    17770           2690          48045      1\n",
       "7             1    17887           2690          19803      2\n",
       "8             1    18522           2690          31853      3\n",
       "9             1    26646           2690          34527      1\n",
       "10            1    28869           2690          55971      2\n",
       "11            1    31443           2690          34581      3\n",
       "12            1    47607           2690           2286      1\n",
       "13            1    47611           2690           2287      2\n",
       "14            1    63733           2690          42601      1\n",
       "15            1    68164           2690          57621      2\n",
       "16            1    69359           2690          34983      4\n",
       "17            1    72939           2690          48354      1\n",
       "18            1    76240           2690          14368      1\n",
       "19            1    77096           2690           3606      1\n",
       "20            1    78142           2690          14456      1\n",
       "21            1    78380           2690          21451      1\n",
       "22            1    79684           2690          52588      1\n",
       "23            1    81337           2690          57071      1\n",
       "24            1    85482           2690          54709      2\n",
       "25            1    85492           2690          38266      3\n",
       "26            1    87533           2690          35174      1\n",
       "27            1    88234           2690          61503      2\n",
       "28            1    89568           2690          14941      2\n",
       "29            1    97795           2690          15297      1\n",
       "...         ...      ...            ...            ...    ...\n",
       "574431    35422    72136          23729          21288      2\n",
       "574432    35422    81810          23729          57076      1\n",
       "574433    35422    87494          23729          59283      1\n",
       "574434    35422    93558          23729          62758      1\n",
       "574435    35422    93899          23729          68361      1\n",
       "574436    35424     4724          20162          49015      3\n",
       "574437    35424    26688          20162          41050      1\n",
       "574438    35424    28462          20162           6674      3\n",
       "574439    35424    54561          20162          47664      3\n",
       "574440    35430    12941          25195          68516      1\n",
       "574441    35430    34145          25195          45351      1\n",
       "574442    35430    49795          25195          63441      1\n",
       "574443    35430   110210          25195          65033      1\n",
       "574444    35434    16324          26004          22903      1\n",
       "574445    35434    42049          26004          52252      1\n",
       "574446    35434    70452          26004           3317      1\n",
       "574447    35434    77071          26004           8914      1\n",
       "574448    35434    79835          26004          60774      1\n",
       "574449    35434    90334          26004          14967      1\n",
       "574450    35434    93437          26004          27293      1\n",
       "574451    35434   101552          26004          70001      1\n",
       "574452    35435     3133          24252          51641      1\n",
       "574453    35435    23215          24252          64254      1\n",
       "574454    35435    25792          24252          20022      1\n",
       "574455    35435    40849          24252          61560      1\n",
       "574456    35435    65907          24252          21110      1\n",
       "574457    35435    69405          24252          71847      1\n",
       "574458    35435    74285          24252          70208      1\n",
       "574459    35435    80251          24252          68295      1\n",
       "574460    35435    88855          24252          24922      1\n",
       "\n",
       "[574461 rows x 5 columns]"
      ]
     },
     "execution_count": 178,
     "metadata": {},
     "output_type": "execute_result"
    }
   ],
   "source": [
    "node_user_item"
   ]
  },
  {
   "cell_type": "code",
   "execution_count": null,
   "metadata": {},
   "outputs": [],
   "source": []
  },
  {
   "cell_type": "code",
   "execution_count": 183,
   "metadata": {},
   "outputs": [],
   "source": [
    "# underexpose_user_feat.user_id.max()"
   ]
  },
  {
   "cell_type": "code",
   "execution_count": null,
   "metadata": {},
   "outputs": [],
   "source": []
  },
  {
   "cell_type": "code",
   "execution_count": null,
   "metadata": {},
   "outputs": [],
   "source": [
    "pd.DataFrame"
   ]
  },
  {
   "cell_type": "code",
   "execution_count": 163,
   "metadata": {},
   "outputs": [
    {
     "data": {
      "text/html": [
       "<div>\n",
       "<style scoped>\n",
       "    .dataframe tbody tr th:only-of-type {\n",
       "        vertical-align: middle;\n",
       "    }\n",
       "\n",
       "    .dataframe tbody tr th {\n",
       "        vertical-align: top;\n",
       "    }\n",
       "\n",
       "    .dataframe thead th {\n",
       "        text-align: right;\n",
       "    }\n",
       "</style>\n",
       "<table border=\"1\" class=\"dataframe\">\n",
       "  <thead>\n",
       "    <tr style=\"text-align: right;\">\n",
       "      <th></th>\n",
       "      <th>user_id</th>\n",
       "      <th>item_id</th>\n",
       "      <th>time</th>\n",
       "      <th>phase</th>\n",
       "    </tr>\n",
       "  </thead>\n",
       "  <tbody>\n",
       "    <tr>\n",
       "      <th>0</th>\n",
       "      <td>4965</td>\n",
       "      <td>18</td>\n",
       "      <td>0.983763</td>\n",
       "      <td>0</td>\n",
       "    </tr>\n",
       "    <tr>\n",
       "      <th>1</th>\n",
       "      <td>20192</td>\n",
       "      <td>34</td>\n",
       "      <td>0.983772</td>\n",
       "      <td>0</td>\n",
       "    </tr>\n",
       "    <tr>\n",
       "      <th>2</th>\n",
       "      <td>30128</td>\n",
       "      <td>91</td>\n",
       "      <td>0.983780</td>\n",
       "      <td>0</td>\n",
       "    </tr>\n",
       "    <tr>\n",
       "      <th>3</th>\n",
       "      <td>29473</td>\n",
       "      <td>189</td>\n",
       "      <td>0.983930</td>\n",
       "      <td>0</td>\n",
       "    </tr>\n",
       "    <tr>\n",
       "      <th>4</th>\n",
       "      <td>10625</td>\n",
       "      <td>225</td>\n",
       "      <td>0.983925</td>\n",
       "      <td>0</td>\n",
       "    </tr>\n",
       "  </tbody>\n",
       "</table>\n",
       "</div>"
      ],
      "text/plain": [
       "   user_id  item_id      time  phase\n",
       "0     4965       18  0.983763      0\n",
       "1    20192       34  0.983772      0\n",
       "2    30128       91  0.983780      0\n",
       "3    29473      189  0.983930      0\n",
       "4    10625      225  0.983925      0"
      ]
     },
     "execution_count": 163,
     "metadata": {},
     "output_type": "execute_result"
    }
   ],
   "source": [
    "underexpose_train_click.head()"
   ]
  },
  {
   "cell_type": "code",
   "execution_count": 164,
   "metadata": {},
   "outputs": [
    {
     "data": {
      "text/html": [
       "<div>\n",
       "<style scoped>\n",
       "    .dataframe tbody tr th:only-of-type {\n",
       "        vertical-align: middle;\n",
       "    }\n",
       "\n",
       "    .dataframe tbody tr th {\n",
       "        vertical-align: top;\n",
       "    }\n",
       "\n",
       "    .dataframe thead th {\n",
       "        text-align: right;\n",
       "    }\n",
       "</style>\n",
       "<table border=\"1\" class=\"dataframe\">\n",
       "  <thead>\n",
       "    <tr style=\"text-align: right;\">\n",
       "      <th></th>\n",
       "      <th>user_id</th>\n",
       "      <th>item_id</th>\n",
       "      <th>time</th>\n",
       "      <th>phase</th>\n",
       "    </tr>\n",
       "  </thead>\n",
       "  <tbody>\n",
       "    <tr>\n",
       "      <th>0</th>\n",
       "      <td>1133</td>\n",
       "      <td>221</td>\n",
       "      <td>0.983812</td>\n",
       "      <td>0</td>\n",
       "    </tr>\n",
       "    <tr>\n",
       "      <th>1</th>\n",
       "      <td>17864</td>\n",
       "      <td>253</td>\n",
       "      <td>0.983783</td>\n",
       "      <td>0</td>\n",
       "    </tr>\n",
       "    <tr>\n",
       "      <th>2</th>\n",
       "      <td>6941</td>\n",
       "      <td>309</td>\n",
       "      <td>0.983785</td>\n",
       "      <td>0</td>\n",
       "    </tr>\n",
       "    <tr>\n",
       "      <th>3</th>\n",
       "      <td>34089</td>\n",
       "      <td>358</td>\n",
       "      <td>0.983781</td>\n",
       "      <td>0</td>\n",
       "    </tr>\n",
       "    <tr>\n",
       "      <th>4</th>\n",
       "      <td>21659</td>\n",
       "      <td>536</td>\n",
       "      <td>0.983793</td>\n",
       "      <td>0</td>\n",
       "    </tr>\n",
       "  </tbody>\n",
       "</table>\n",
       "</div>"
      ],
      "text/plain": [
       "   user_id  item_id      time  phase\n",
       "0     1133      221  0.983812      0\n",
       "1    17864      253  0.983783      0\n",
       "2     6941      309  0.983785      0\n",
       "3    34089      358  0.983781      0\n",
       "4    21659      536  0.983793      0"
      ]
     },
     "execution_count": 164,
     "metadata": {},
     "output_type": "execute_result"
    }
   ],
   "source": [
    "underexpose_test_click.head()"
   ]
  },
  {
   "cell_type": "code",
   "execution_count": null,
   "metadata": {},
   "outputs": [],
   "source": []
  },
  {
   "cell_type": "markdown",
   "metadata": {},
   "source": [
    "# 建模"
   ]
  },
  {
   "cell_type": "markdown",
   "metadata": {},
   "source": [
    "构建训练数据"
   ]
  },
  {
   "cell_type": "code",
   "execution_count": 252,
   "metadata": {},
   "outputs": [],
   "source": [
    "def get_train_data(dict_user_action, sep_last_num):\n",
    "    # user_id-sep_last_num, item_seq, diff_time_seq, item_seq_next\n",
    "    # sep_last_num = -1, -2, -3\n",
    "    list_index, list_user_id, list_item_seq, list_diff_time_seq, list_item_seq_next = [], [], [], [], []\n",
    "    for user_id in dict_user_action.keys():\n",
    "        if sep_last_num < len(dict_user_action[user_id][\"item_seq\"]):\n",
    "            list_index.append(str(user_id) + \"_\" + str(sep_last_num))\n",
    "            list_user_id.append(user_id)\n",
    "            list_item_seq.append(dict_user_action[user_id][\"item_seq\"][:-sep_last_num])\n",
    "            if 1-sep_last_num == 0:\n",
    "                list_diff_time_seq.append(dict_user_action[user_id][\"diff_time_seq\"][:])\n",
    "            else:\n",
    "                list_diff_time_seq.append(dict_user_action[user_id][\"diff_time_seq\"][:1-sep_last_num])\n",
    "            list_item_seq_next.append(dict_user_action[user_id][\"item_seq\"][-sep_last_num])\n",
    "    df_train_data = pd.DataFrame()\n",
    "    df_train_data[\"index\"], df_train_data[\"user_id\"], df_train_data[\"item_seq\"], df_train_data[\"diff_time_seq\"], df_train_data[\"item_seq_next\"] = list_index, list_user_id, list_item_seq, list_diff_time_seq, list_item_seq_next\n",
    "    return df_train_data"
   ]
  },
  {
   "cell_type": "code",
   "execution_count": 253,
   "metadata": {},
   "outputs": [],
   "source": [
    "df_train_data = get_train_data(dict_user_action_train_click_0, 1)"
   ]
  },
  {
   "cell_type": "code",
   "execution_count": 257,
   "metadata": {
    "scrolled": true
   },
   "outputs": [
    {
     "data": {
      "text/html": [
       "<div>\n",
       "<style scoped>\n",
       "    .dataframe tbody tr th:only-of-type {\n",
       "        vertical-align: middle;\n",
       "    }\n",
       "\n",
       "    .dataframe tbody tr th {\n",
       "        vertical-align: top;\n",
       "    }\n",
       "\n",
       "    .dataframe thead th {\n",
       "        text-align: right;\n",
       "    }\n",
       "</style>\n",
       "<table border=\"1\" class=\"dataframe\">\n",
       "  <thead>\n",
       "    <tr style=\"text-align: right;\">\n",
       "      <th></th>\n",
       "      <th>index</th>\n",
       "      <th>user_id</th>\n",
       "      <th>item_seq</th>\n",
       "      <th>diff_time_seq</th>\n",
       "      <th>item_seq_next</th>\n",
       "    </tr>\n",
       "  </thead>\n",
       "  <tbody>\n",
       "    <tr>\n",
       "      <th>0</th>\n",
       "      <td>1_1</td>\n",
       "      <td>1</td>\n",
       "      <td>[78142, 26646, 89568, 76240, 87533, 78380, 854...</td>\n",
       "      <td>[0.15036582135641297, 0.06781414004120023, 0.0...</td>\n",
       "      <td>69359</td>\n",
       "    </tr>\n",
       "    <tr>\n",
       "      <th>1</th>\n",
       "      <td>2_1</td>\n",
       "      <td>2</td>\n",
       "      <td>[72912, 7745, 28099, 73084, 111576, 104635, 70...</td>\n",
       "      <td>[0.1862444160538601, 0.000977876239982578, 0.0...</td>\n",
       "      <td>58621</td>\n",
       "    </tr>\n",
       "    <tr>\n",
       "      <th>2</th>\n",
       "      <td>4_1</td>\n",
       "      <td>4</td>\n",
       "      <td>[8291, 6609, 13283, 35419, 64404]</td>\n",
       "      <td>[0.0025109338297468753, 0.00054887247191715, 0...</td>\n",
       "      <td>90818</td>\n",
       "    </tr>\n",
       "    <tr>\n",
       "      <th>3</th>\n",
       "      <td>7_1</td>\n",
       "      <td>7</td>\n",
       "      <td>[19110, 24258, 39291, 6731]</td>\n",
       "      <td>[0.011179333534450109, 0.6648549013099636, 0.0...</td>\n",
       "      <td>23436</td>\n",
       "    </tr>\n",
       "    <tr>\n",
       "      <th>4</th>\n",
       "      <td>9_1</td>\n",
       "      <td>9</td>\n",
       "      <td>[109463, 88371, 78360, 63216, 30767, 102526]</td>\n",
       "      <td>[7.57065488077302e-05, 0.19621244482737055, 0....</td>\n",
       "      <td>114268</td>\n",
       "    </tr>\n",
       "  </tbody>\n",
       "</table>\n",
       "</div>"
      ],
      "text/plain": [
       "  index  user_id                                           item_seq  \\\n",
       "0   1_1        1  [78142, 26646, 89568, 76240, 87533, 78380, 854...   \n",
       "1   2_1        2  [72912, 7745, 28099, 73084, 111576, 104635, 70...   \n",
       "2   4_1        4                  [8291, 6609, 13283, 35419, 64404]   \n",
       "3   7_1        7                        [19110, 24258, 39291, 6731]   \n",
       "4   9_1        9       [109463, 88371, 78360, 63216, 30767, 102526]   \n",
       "\n",
       "                                       diff_time_seq  item_seq_next  \n",
       "0  [0.15036582135641297, 0.06781414004120023, 0.0...          69359  \n",
       "1  [0.1862444160538601, 0.000977876239982578, 0.0...          58621  \n",
       "2  [0.0025109338297468753, 0.00054887247191715, 0...          90818  \n",
       "3  [0.011179333534450109, 0.6648549013099636, 0.0...          23436  \n",
       "4  [7.57065488077302e-05, 0.19621244482737055, 0....         114268  "
      ]
     },
     "execution_count": 257,
     "metadata": {},
     "output_type": "execute_result"
    }
   ],
   "source": [
    "df_train_data.head()"
   ]
  },
  {
   "cell_type": "code",
   "execution_count": 255,
   "metadata": {},
   "outputs": [
    {
     "data": {
      "text/plain": [
       "12"
      ]
     },
     "execution_count": 255,
     "metadata": {},
     "output_type": "execute_result"
    }
   ],
   "source": [
    "len(df_train_data.values[0][2])"
   ]
  },
  {
   "cell_type": "code",
   "execution_count": 256,
   "metadata": {
    "scrolled": true
   },
   "outputs": [
    {
     "data": {
      "text/plain": [
       "12"
      ]
     },
     "execution_count": 256,
     "metadata": {},
     "output_type": "execute_result"
    }
   ],
   "source": [
    "len(df_train_data.values[0][3])"
   ]
  },
  {
   "cell_type": "code",
   "execution_count": 243,
   "metadata": {},
   "outputs": [],
   "source": [
    "def get_pred_data(dict_user_action_test_click, test_qtime):\n",
    "    # user_id-0, item_seq_diff_time_seq, pred_item_seq_next\n",
    "    list_user_id, list_query_time, list_item_seq, list_diff_time_seq = [], [], [], []\n",
    "    for i,row in test_qtime.iterrows(): \n",
    "        user_id, query_time = int(row[\"user_id\"]), float(row[\"query_time\"])\n",
    "        list_user_id.append(user_id)\n",
    "        list_query_time.append(query_time)\n",
    "        list_item_seq.append(dict_user_action_test_click[user_id][\"item_seq\"])\n",
    "        list_diff_time_seq.append(dict_user_action_test_click[user_id][\"diff_time_seq\"] + [(query_time-dict_user_action_test_click[user_id][\"time_seq\"][-1]) * 10**4])\n",
    "    df_test_data = pd.DataFrame()\n",
    "    df_test_data[\"user_id\"], df_test_data[\"query_time\"], df_test_data[\"item_seq\"], df_test_data[\"diff_time_seq\"] = list_user_id, list_query_time, list_item_seq, list_diff_time_seq\n",
    "    return df_test_data"
   ]
  },
  {
   "cell_type": "code",
   "execution_count": 244,
   "metadata": {},
   "outputs": [],
   "source": [
    "df_test_data = get_pred_data(dict_user_action_test_click_0, underexpose_test_qtime_0)"
   ]
  },
  {
   "cell_type": "markdown",
   "metadata": {},
   "source": [
    "## 解题思路一"
   ]
  },
  {
   "cell_type": "code",
   "execution_count": null,
   "metadata": {},
   "outputs": [],
   "source": []
  },
  {
   "cell_type": "markdown",
   "metadata": {},
   "source": [
    "## 解题思路二"
   ]
  },
  {
   "cell_type": "code",
   "execution_count": null,
   "metadata": {},
   "outputs": [],
   "source": []
  },
  {
   "cell_type": "markdown",
   "metadata": {},
   "source": [
    "## 解题思路三"
   ]
  },
  {
   "cell_type": "code",
   "execution_count": null,
   "metadata": {},
   "outputs": [],
   "source": []
  },
  {
   "cell_type": "code",
   "execution_count": null,
   "metadata": {},
   "outputs": [],
   "source": []
  },
  {
   "cell_type": "code",
   "execution_count": null,
   "metadata": {},
   "outputs": [],
   "source": []
  },
  {
   "cell_type": "code",
   "execution_count": null,
   "metadata": {},
   "outputs": [],
   "source": []
  },
  {
   "cell_type": "code",
   "execution_count": null,
   "metadata": {},
   "outputs": [],
   "source": []
  },
  {
   "cell_type": "code",
   "execution_count": null,
   "metadata": {},
   "outputs": [],
   "source": []
  },
  {
   "cell_type": "code",
   "execution_count": null,
   "metadata": {},
   "outputs": [],
   "source": []
  },
  {
   "cell_type": "code",
   "execution_count": null,
   "metadata": {},
   "outputs": [],
   "source": []
  }
 ],
 "metadata": {
  "kernelspec": {
   "display_name": "Python3 (PySpark)",
   "language": "python",
   "name": "python3"
  },
  "language_info": {
   "codemirror_mode": {
    "name": "ipython",
    "version": 3
   },
   "file_extension": ".py",
   "mimetype": "text/x-python",
   "name": "python",
   "nbconvert_exporter": "python",
   "pygments_lexer": "ipython3",
   "version": "3.6.7"
  }
 },
 "nbformat": 4,
 "nbformat_minor": 2
}
