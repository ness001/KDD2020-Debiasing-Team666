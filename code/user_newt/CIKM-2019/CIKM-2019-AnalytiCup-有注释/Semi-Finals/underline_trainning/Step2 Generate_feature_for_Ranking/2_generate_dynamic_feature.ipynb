{
 "cells": [
  {
   "cell_type": "code",
   "execution_count": 1,
   "metadata": {},
   "outputs": [],
   "source": [
    "import pandas as pd\n",
    "import numpy as np"
   ]
  },
  {
   "cell_type": "code",
   "execution_count": 2,
   "metadata": {},
   "outputs": [],
   "source": [
    "def reduce_mem_usage(df):\n",
    "    \"\"\" iterate through all the columns of a dataframe and modify the data type\n",
    "        to reduce memory usage.        \n",
    "    \"\"\"\n",
    "    start_mem = df.memory_usage().sum() \n",
    "    print('Memory usage of dataframe is {:.2f} MB'.format(start_mem))\n",
    "    \n",
    "    for col in df.columns:\n",
    "        col_type = df[col].dtype\n",
    "        \n",
    "        if col_type != object:\n",
    "            c_min = df[col].min()\n",
    "            c_max = df[col].max()\n",
    "            if str(col_type)[:3] == 'int':\n",
    "                if c_min > np.iinfo(np.int8).min and c_max < np.iinfo(np.int8).max:\n",
    "                    df[col] = df[col].astype(np.int8)\n",
    "                elif c_min > np.iinfo(np.int16).min and c_max < np.iinfo(np.int16).max:\n",
    "                    df[col] = df[col].astype(np.int16)\n",
    "                elif c_min > np.iinfo(np.int32).min and c_max < np.iinfo(np.int32).max:\n",
    "                    df[col] = df[col].astype(np.int32)\n",
    "                elif c_min > np.iinfo(np.int64).min and c_max < np.iinfo(np.int64).max:\n",
    "                    df[col] = df[col].astype(np.int64)  \n",
    "            else:\n",
    "                if c_min > np.finfo(np.float16).min and c_max < np.finfo(np.float16).max:\n",
    "                    df[col] = df[col].astype(np.float16)\n",
    "                elif c_min > np.finfo(np.float32).min and c_max < np.finfo(np.float32).max:\n",
    "                    df[col] = df[col].astype(np.float32)\n",
    "                else:\n",
    "                    df[col] = df[col].astype(np.float64)\n",
    "        else:\n",
    "            df[col] = df[col].astype('category')\n",
    "\n",
    "    end_mem = df.memory_usage().sum() \n",
    "    print('Memory usage after optimization is: {:.2f} MB'.format(end_mem))\n",
    "    print('Decreased by {:.1f}%'.format(100 * (start_mem - end_mem) / start_mem))\n",
    "    \n",
    "    return df\n",
    "\n",
    "def load_data(path):\n",
    "    user = reduce_mem_usage(pd.read_csv(path + 'user.csv',header=None))\n",
    "    item = reduce_mem_usage(pd.read_csv(path + 'item.csv',header=None))\n",
    "    data = pd.read_csv(path + 'user_behavior.csv',header=None)\n",
    "\n",
    "    data.columns = ['userID','itemID','behavior','timestamp']\n",
    "    data['day'] = data['timestamp'] // 86400\n",
    "    data['hour'] = data['timestamp'] // 3600 % 24\n",
    "    \n",
    "    ## 生成behavior的onehot\n",
    "    for i in ['pv','fav','cart','buy']:\n",
    "        data[i] = 0\n",
    "        data.loc[data['behavior'] == i, i] = 1\n",
    "\n",
    "    ## 生成behavior的加权\n",
    "    \n",
    "    data['day_hour'] = data['day'] + data['hour'] / float(24)\n",
    "    data.loc[data['behavior']=='pv','behavior'] = 1\n",
    "    data.loc[data['behavior']=='fav','behavior'] = 2\n",
    "    data.loc[data['behavior']=='cart','behavior'] = 3\n",
    "    data.loc[data['behavior']=='buy','behavior'] = 1\n",
    "    max_day = max(data['day'])\n",
    "    min_day = min(data['day'])\n",
    "    data['behavior'] = (1 - (max_day-data['day_hour']+2)/(max_day-min_day+2)) * data['behavior'] \n",
    "\n",
    "    item.columns = ['itemID','category','shop','brand']\n",
    "    user.columns = ['userID','sex','age','ability']\n",
    "    \n",
    "    data = reduce_mem_usage(data)\n",
    "\n",
    "    data = pd.merge(left=data, right=item, on='itemID',how='left')\n",
    "    data = pd.merge(left=data, right=user, on='userID',how='left')\n",
    "\n",
    "    return user, item, data\n",
    "    "
   ]
  },
  {
   "cell_type": "code",
   "execution_count": null,
   "metadata": {},
   "outputs": [
    {
     "name": "stdout",
     "output_type": "stream",
     "text": [
      "Memory usage of dataframe is 44702560.00 MB\n",
      "Memory usage after optimization is: 9778785.00 MB\n",
      "Decreased by 78.1%\n",
      "Memory usage of dataframe is 138182592.00 MB\n",
      "Memory usage after optimization is: 60454956.00 MB\n",
      "Decreased by 56.2%\n",
      "Memory usage of dataframe is 7081839904.00 MB\n",
      "Memory usage after optimization is: 1770460072.00 MB\n",
      "Decreased by 75.0%\n"
     ]
    }
   ],
   "source": [
    "#path = '..\\\\data\\\\'\n",
    "path = '../ECommAI_EUIR_round2_train_20190816/'\n",
    "user, item, data = load_data(path = path)"
   ]
  },
  {
   "cell_type": "code",
   "execution_count": null,
   "metadata": {},
   "outputs": [],
   "source": [
    "train = data[data['day'] < 15]"
   ]
  },
  {
   "cell_type": "code",
   "execution_count": null,
   "metadata": {},
   "outputs": [],
   "source": [
    "train = data[data['day'] < 15]\n",
    "\n",
    "online_features = []\n",
    "for count_feature in ['category','shop','brand']:\n",
    "    train[['behavior','userID',count_feature]].groupby(['userID', count_feature], as_index=False).agg(\n",
    "        {'behavior': 'count'}).rename(columns={'behavior':'user_to_'\n",
    "                                               + count_feature + '_count'}).to_csv('user_to_' + str(count_feature)+'_count.csv', index=False)\n",
    "for count_feature in ['category','shop','brand']:\n",
    "    train[['behavior','userID',count_feature]].groupby(['userID', count_feature], as_index=False).agg(\n",
    "        {'behavior': 'sum'}).rename(columns={'behavior':'user_to_' \n",
    "                                             + count_feature + '_sum'}).to_csv('user_to_' + str(count_feature)+'_sum.csv', index=False)\n",
    "\n",
    "for count_feature in ['category','shop','brand']:\n",
    "    for behavior_type in ['pv','fav','cart','buy']:\n",
    "        train[[behavior_type,'userID',count_feature]].groupby(['userID', count_feature], as_index=False).agg(\n",
    "            {behavior_type: 'sum'}).rename(columns={behavior_type:'user_to_'\n",
    "                                                   + count_feature + '_count_' + behavior_type}).to_csv('user_to_' + str(count_feature) + '_count_' + behavior_type + '.csv', index=False)\n",
    "\n"
   ]
  },
  {
   "cell_type": "code",
   "execution_count": null,
   "metadata": {},
   "outputs": [],
   "source": [
    "yestday = data[data['day'] == 14]\n",
    "\n",
    "for count_feature in ['category','shop','brand']:\n",
    "    yestday[['behavior','userID',count_feature]].groupby(['userID', count_feature], as_index=False).agg(\n",
    "        {'behavior': 'count'}).rename(columns={'behavior':'user_to_'\n",
    "                                               + count_feature + '_count_yestday'}).to_csv('user_to_' + str(count_feature)+'_count_yestday.csv', index=False)\n",
    "\n",
    "for count_feature in ['category','shop','brand']:\n",
    "    for behavior_type in ['pv','fav','cart','buy']:\n",
    "        yestday[[behavior_type,'userID',count_feature]].groupby(['userID', count_feature], as_index=False).agg(\n",
    "            {behavior_type: 'sum'}).rename(columns={behavior_type:'user_to_'\n",
    "                                                   + count_feature + '_count_' + behavior_type+'_yestday'}).to_csv('user_to_' + str(count_feature) + '_count_' + behavior_type + '_yestday.csv', index=False)\n"
   ]
  },
  {
   "cell_type": "code",
   "execution_count": null,
   "metadata": {},
   "outputs": [],
   "source": [
    "a5days = data[(data['day'] > 15 - 5) & (data['day'] < 15)]\n",
    "\n",
    "for count_feature in ['category','shop','brand']:\n",
    "    a5days[['behavior','userID',count_feature]].groupby(['userID', count_feature], as_index=False).agg(\n",
    "        {'behavior': 'count'}).rename(columns={'behavior':'user_to_'\n",
    "                                               + count_feature + '_count_5days'}).to_csv('user_to_' + str(count_feature)+'_count_5days.csv', index=False)\n",
    "\n",
    "for count_feature in ['category','shop','brand']:\n",
    "    for behavior_type in ['pv','fav','cart','buy']:\n",
    "        a5days[[behavior_type,'userID',count_feature]].groupby(['userID', count_feature], as_index=False).agg(\n",
    "            {behavior_type: 'sum'}).rename(columns={behavior_type:'user_to_'\n",
    "                                                   + count_feature + '_count_' + behavior_type+'_5days'}).to_csv('user_to_' + str(count_feature) + '_count_' + behavior_type + '_5days.csv', index=False)\n"
   ]
  },
  {
   "cell_type": "code",
   "execution_count": null,
   "metadata": {},
   "outputs": [],
   "source": [
    "start_timestamp  = max(data[data['day'] < 15]['timestamp'])"
   ]
  },
  {
   "cell_type": "code",
   "execution_count": null,
   "metadata": {},
   "outputs": [],
   "source": [
    "time_features = []\n",
    "test = data[data['day'] < 15]\n",
    "for time_feature in ['shop', 'category','brand']:\n",
    "    time_features.append(test[['last_time','userID',time_feature,'day']].groupby(['userID',time_feature], as_index=False).agg({'last_time': 'min', 'day':'max'}).rename(columns={'last_time': 'user_to_'\n",
    "                                                   + time_feature + '_lasttime', 'day':'user_to_'+ time_feature + '_lastday'}))"
   ]
  },
  {
   "cell_type": "code",
   "execution_count": null,
   "metadata": {},
   "outputs": [],
   "source": [
    "for f in time_features:\n",
    "    f.to_csv(str(f.columns[2])+'.csv', index=False)"
   ]
  },
  {
   "cell_type": "code",
   "execution_count": null,
   "metadata": {},
   "outputs": [],
   "source": [
    "for f in time_features:\n",
    "    print(str(f.columns[2])+'.csv')"
   ]
  },
  {
   "cell_type": "code",
   "execution_count": null,
   "metadata": {},
   "outputs": [],
   "source": [
    "for count_feature in ['sex','ability','age']:\n",
    "    train[['behavior','itemID',count_feature]].groupby(['itemID', count_feature], as_index=False).agg(\n",
    "        {'behavior': 'count'}).rename(columns={'behavior':'user_to_'\n",
    "                                               + count_feature + '_count'}).to_csv('item_to_' + str(count_feature)+'_count.csv', index=False)"
   ]
  }
 ],
 "metadata": {
  "kernelspec": {
   "display_name": "Python 3",
   "language": "python",
   "name": "python3"
  },
  "language_info": {
   "codemirror_mode": {
    "name": "ipython",
    "version": 3
   },
   "file_extension": ".py",
   "mimetype": "text/x-python",
   "name": "python",
   "nbconvert_exporter": "python",
   "pygments_lexer": "ipython3",
   "version": "3.7.3"
  }
 },
 "nbformat": 4,
 "nbformat_minor": 2
}
