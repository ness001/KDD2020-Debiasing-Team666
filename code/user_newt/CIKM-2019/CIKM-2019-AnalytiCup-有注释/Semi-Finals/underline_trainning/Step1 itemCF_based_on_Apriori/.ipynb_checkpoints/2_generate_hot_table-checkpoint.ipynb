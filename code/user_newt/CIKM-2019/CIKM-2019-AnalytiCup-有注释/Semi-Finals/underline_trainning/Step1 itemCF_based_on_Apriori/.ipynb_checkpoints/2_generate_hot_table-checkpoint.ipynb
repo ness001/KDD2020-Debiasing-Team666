{
 "cells": [
  {
   "cell_type": "markdown",
   "metadata": {},
   "source": [
    "## 生成中间文件\n",
    "\n",
    "本代码的目的是生成三个中间文件，其中hot_map是统计的商品的出现次数，upwardmap与downward_map是将商品id映射到实数集\\[0, m\\]，其中m代表商品总数。\n",
    "\n",
    "This code aims to generate three temporary files. Hot_map statistics the number of appearance of each item. Upward_map and Downward_map can map the ItemID into \\[0, m\\], where m indicates the size of item corpus."
   ]
  },
  {
   "cell_type": "code",
   "execution_count": 2,
   "metadata": {},
   "outputs": [],
   "source": [
    "import pandas as pd\n",
    "import numpy as np\n",
    "import os\n",
    "# round2 train的路径\n",
    "path =r'C:\\Users\\NewtScamander\\github\\CIKM-2019-AnalytiCup\\data\\ECommAI_EUIR_round1_testA_20190701'\n",
    "\n",
    "data = pd.read_csv(os.path.join(path, 'user_behavior.csv'),header=None)\n",
    "item=pd.read_csv(os.path.join(path, 'item.csv'), header=None)\n",
    "data.columns = ['userID','itemID','behavior','timestamp']\n",
    "item.columns = ['itemID', 'category', 'shop', 'band']"
   ]
  },
  {
   "cell_type": "code",
   "execution_count": 3,
   "metadata": {},
   "outputs": [],
   "source": [
    "data['day'] = data['timestamp'] // 86400\n",
    "data['hour'] = data['timestamp'] // 3600 % 24"
   ]
  },
  {
   "cell_type": "code",
   "execution_count": 4,
   "metadata": {},
   "outputs": [],
   "source": [
    "user_times = data[['itemID','userID']].groupby('userID', as_index=False).count()"
   ]
  },
  {
   "cell_type": "code",
   "execution_count": 5,
   "metadata": {},
   "outputs": [],
   "source": [
    "user_times.columns = ['userID','itemCount']"
   ]
  },
  {
   "cell_type": "code",
   "execution_count": 6,
   "metadata": {},
   "outputs": [
    {
     "data": {
      "text/html": [
       "<div>\n",
       "<style scoped>\n",
       "    .dataframe tbody tr th:only-of-type {\n",
       "        vertical-align: middle;\n",
       "    }\n",
       "\n",
       "    .dataframe tbody tr th {\n",
       "        vertical-align: top;\n",
       "    }\n",
       "\n",
       "    .dataframe thead th {\n",
       "        text-align: right;\n",
       "    }\n",
       "</style>\n",
       "<table border=\"1\" class=\"dataframe\">\n",
       "  <thead>\n",
       "    <tr style=\"text-align: right;\">\n",
       "      <th></th>\n",
       "      <th>userID</th>\n",
       "      <th>itemCount</th>\n",
       "    </tr>\n",
       "  </thead>\n",
       "  <tbody>\n",
       "    <tr>\n",
       "      <th>0</th>\n",
       "      <td>45</td>\n",
       "      <td>17</td>\n",
       "    </tr>\n",
       "    <tr>\n",
       "      <th>1</th>\n",
       "      <td>67</td>\n",
       "      <td>162</td>\n",
       "    </tr>\n",
       "    <tr>\n",
       "      <th>2</th>\n",
       "      <td>75</td>\n",
       "      <td>48</td>\n",
       "    </tr>\n",
       "    <tr>\n",
       "      <th>3</th>\n",
       "      <td>82</td>\n",
       "      <td>31</td>\n",
       "    </tr>\n",
       "    <tr>\n",
       "      <th>4</th>\n",
       "      <td>286</td>\n",
       "      <td>108</td>\n",
       "    </tr>\n",
       "  </tbody>\n",
       "</table>\n",
       "</div>"
      ],
      "text/plain": [
       "   userID  itemCount\n",
       "0      45         17\n",
       "1      67        162\n",
       "2      75         48\n",
       "3      82         31\n",
       "4     286        108"
      ]
     },
     "execution_count": 6,
     "metadata": {},
     "output_type": "execute_result"
    }
   ],
   "source": [
    "user_times.head()"
   ]
  },
  {
   "cell_type": "code",
   "execution_count": 7,
   "metadata": {},
   "outputs": [],
   "source": [
    "user_times_map = dict(zip(user_times['userID'], user_times['itemCount'])) # 用户活跃度 {'userID': 'itemCount'}"
   ]
  },
  {
   "cell_type": "code",
   "execution_count": 8,
   "metadata": {},
   "outputs": [
    {
     "data": {
      "text/plain": [
       "50000"
      ]
     },
     "execution_count": 8,
     "metadata": {},
     "output_type": "execute_result"
    }
   ],
   "source": [
    "len(user_times_map)"
   ]
  },
  {
   "cell_type": "code",
   "execution_count": 9,
   "metadata": {},
   "outputs": [],
   "source": [
    "f = open('usersActivity_map.txt', 'w')\n",
    "f.write(str(user_times_map))\n",
    "f.close()"
   ]
  },
  {
   "cell_type": "markdown",
   "metadata": {},
   "source": [
    "生成upward_map 与 downward_map:"
   ]
  },
  {
   "cell_type": "code",
   "execution_count": 10,
   "metadata": {},
   "outputs": [],
   "source": [
    "from sklearn import preprocessing\n",
    "# 对itemID进行编码，比如[2311,2312,2313]->[1,2,3]\n",
    "le = preprocessing.LabelEncoder()\n",
    "item['encoding'] = le.fit_transform(item['itemID'])\n",
    "upward_map = dict(zip(item['itemID'], item['encoding']))\n",
    "downward_map = dict(zip(item['encoding'], item['itemID']))"
   ]
  },
  {
   "cell_type": "markdown",
   "metadata": {},
   "source": [
    "生成hot table"
   ]
  },
  {
   "cell_type": "code",
   "execution_count": 11,
   "metadata": {},
   "outputs": [],
   "source": [
    "temp = data[['itemID','behavior']].groupby('itemID',as_index=False).count()\n",
    "hot_map = dict(zip(temp['itemID'], temp['behavior']))"
   ]
  },
  {
   "cell_type": "code",
   "execution_count": 12,
   "metadata": {},
   "outputs": [],
   "source": [
    "def save_to_file(trans_map, file_path):\n",
    "    trans_map = str(trans_map)\n",
    "    f = open(file_path, 'w')\n",
    "    f.write(trans_map)\n",
    "    f.close()"
   ]
  },
  {
   "cell_type": "code",
   "execution_count": 13,
   "metadata": {},
   "outputs": [],
   "source": [
    "save_to_file(hot_map,'hot_items_map.txt')"
   ]
  },
  {
   "cell_type": "code",
   "execution_count": 14,
   "metadata": {},
   "outputs": [],
   "source": [
    "save_to_file(upward_map,'upward_map.txt')"
   ]
  },
  {
   "cell_type": "code",
   "execution_count": 15,
   "metadata": {},
   "outputs": [],
   "source": [
    "save_to_file(downward_map,'downward_map.txt')"
   ]
  },
  {
   "cell_type": "code",
   "execution_count": null,
   "metadata": {},
   "outputs": [],
   "source": []
  }
 ],
 "metadata": {
  "kernelspec": {
   "display_name": "Python 3",
   "language": "python",
   "name": "python3"
  },
  "language_info": {
   "codemirror_mode": {
    "name": "ipython",
    "version": 3
   },
   "file_extension": ".py",
   "mimetype": "text/x-python",
   "name": "python",
   "nbconvert_exporter": "python",
   "pygments_lexer": "ipython3",
   "version": "3.6.4"
  },
  "toc": {
   "base_numbering": 1,
   "nav_menu": {},
   "number_sections": true,
   "sideBar": true,
   "skip_h1_title": false,
   "title_cell": "Table of Contents",
   "title_sidebar": "Contents",
   "toc_cell": false,
   "toc_position": {},
   "toc_section_display": true,
   "toc_window_display": false
  }
 },
 "nbformat": 4,
 "nbformat_minor": 2
}
