{
 "cells": [
  {
   "cell_type": "markdown",
   "metadata": {},
   "source": [
    "## 统计相似度矩阵\n",
    "\n",
    "此代码目的是统计每个group中的相似度矩阵，由于cython和multiprocessing在notebook环境下同时使用会出现一些问题，所以分了很多个文件。\n",
    "\n",
    "This code aims to calculate the similarity matrix in each group. Due to cython and multiprocessing cannot work well together in notebook envirment, so we generated many simliar codes to finish the same work for multiprocessing."
   ]
  },
  {
   "cell_type": "code",
   "execution_count": 2,
   "metadata": {},
   "outputs": [],
   "source": [
    "import pandas as pd\n",
    "import numpy as np\n",
    "import sys\n",
    "from scipy.sparse import lil_matrix\n",
    "import scipy as scp\n",
    "import time\n",
    "%load_ext Cython"
   ]
  },
  {
   "cell_type": "code",
   "execution_count": 3,
   "metadata": {},
   "outputs": [],
   "source": [
    "ITEM_NUM = 4318201\n",
    "\n",
    "def get_logs_from_hardisk(path):\n",
    "    f = open(path, 'r')\n",
    "    a = f.read()\n",
    "    dict_name = eval(a)\n",
    "    f.close()\n",
    "    return dict_name\n",
    "\n",
    "\n",
    "f = open('usersActivity_map.txt', 'r')\n",
    "m = f.read()\n",
    "user_times_map = eval(m)  # user_times_map 用户活跃度字典{'userID':'itemCount'}\n",
    "f.close()"
   ]
  },
  {
   "cell_type": "code",
   "execution_count": 4,
   "metadata": {},
   "outputs": [],
   "source": [
    "%%cython\n",
    "\n",
    "import datetime\n",
    "import math\n",
    "\n",
    "cpdef calculate_matrix(mat, list user_logs, dict user_times_map):\n",
    "    # mat物品相似度的稀疏矩阵， user_logs用户对应商品列表的字典{'userID':[itemID1,itemID2,...]},user_times_map用户活跃度字典\n",
    "    cdef int index, i1, i2, count\n",
    "    cdef list item_log\n",
    "    cdef tuple u\n",
    "    \n",
    "    count = 0\n",
    "    for u in user_logs:\n",
    "        count += 1\n",
    "        if count % 1000 == 0:\n",
    "            print('The %d'%count + ' users are finished.')\n",
    "            print(datetime.datetime.now().strftime('%H:%M:%S'))\n",
    "            \n",
    "        item_log = u[1]   \n",
    "\n",
    "        for index, i1 in enumerate(item_log):\n",
    "            for i2 in item_log[(index+1): ]:\n",
    "                weight = 1/(math.log(1+user_times_map[u[0]])) # Inverse User Frequence 用户活跃度越大对物品相似度贡献越小\n",
    "                mat[i1, i2] += weight\n",
    "                mat[i2, i1] += weight\n",
    "    return mat"
   ]
  },
  {
   "cell_type": "code",
   "execution_count": 6,
   "metadata": {},
   "outputs": [
    {
     "name": "stdout",
     "output_type": "stream",
     "text": [
      "(673722, [825271, 52231, 178267, 192527, 105960, 230881, 499699, 212976, 306880, 774576, 877405, 267886, 61577, 638997, 82367, 101117])\n"
     ]
    }
   ],
   "source": [
    "f = open('upward_map.txt','r')\n",
    "upward_map = eval(f.read())  # upward_map商品ID到商品编码的字典\n",
    "f.close()\n",
    "\n",
    "user_logs = get_logs_from_hardisk('userlogs_group0.txt')\n",
    "for u in user_logs:  \n",
    "    user_logs[u] = [int(upward_map[x]) for x in user_logs[u]] #商品ID映射到商品编码\n",
    "    \n",
    "user_logs = list(user_logs.items())\n",
    "print(user_logs[0])"
   ]
  },
  {
   "cell_type": "code",
   "execution_count": null,
   "metadata": {},
   "outputs": [],
   "source": [
    "for i in range(0, len(user_logs), 10000):\n",
    "    print('The %d '%i + ' batch is started!')\n",
    "    print('--------------------------------')\n",
    "    mat = lil_matrix((ITEM_NUM+1, ITEM_NUM+1), dtype=float)\n",
    "    mat = calculate_matrix(mat, user_logs[i: i + 10000], user_times_map)\n",
    "    scp.sparse.save_npz('sparse_matrix_%d_batch_group0.npz'%i, mat.tocsr())\n",
    "    print('save successfully')\n",
    "    print('--------------------------------')"
   ]
  }
 ],
 "metadata": {
  "kernelspec": {
   "display_name": "Python 3",
   "language": "python",
   "name": "python3"
  },
  "language_info": {
   "codemirror_mode": {
    "name": "ipython",
    "version": 3
   },
   "file_extension": ".py",
   "mimetype": "text/x-python",
   "name": "python",
   "nbconvert_exporter": "python",
   "pygments_lexer": "ipython3",
   "version": "3.6.4"
  },
  "toc": {
   "base_numbering": 1,
   "nav_menu": {},
   "number_sections": true,
   "sideBar": true,
   "skip_h1_title": false,
   "title_cell": "Table of Contents",
   "title_sidebar": "Contents",
   "toc_cell": false,
   "toc_position": {},
   "toc_section_display": true,
   "toc_window_display": false
  }
 },
 "nbformat": 4,
 "nbformat_minor": 2
}
