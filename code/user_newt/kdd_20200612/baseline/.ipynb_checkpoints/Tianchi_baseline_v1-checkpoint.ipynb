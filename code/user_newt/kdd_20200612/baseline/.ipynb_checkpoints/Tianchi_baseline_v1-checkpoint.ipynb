{
 "cells": [
  {
   "cell_type": "code",
   "execution_count": 1,
   "metadata": {},
   "outputs": [
    {
     "name": "stdout",
     "output_type": "stream",
     "text": [
      "phase:  0\n"
     ]
    },
    {
     "name": "stderr",
     "output_type": "stream",
     "text": [
      "100%|██████████████████████████████████████████████████████████████████████████| 18505/18505 [00:15<00:00, 1215.74it/s]\n",
      "100%|█████████████████████████████████████████████████████████████████████████| 40776/40776 [00:03<00:00, 10816.85it/s]\n",
      "100%|█████████████████████████████████████████████████████████████████████████████| 1663/1663 [00:07<00:00, 220.69it/s]\n"
     ]
    },
    {
     "name": "stdout",
     "output_type": "stream",
     "text": [
      "phase:  1\n"
     ]
    },
    {
     "name": "stderr",
     "output_type": "stream",
     "text": [
      "100%|███████████████████████████████████████████████████████████████████████████| 21457/21457 [00:24<00:00, 868.33it/s]\n",
      "100%|██████████████████████████████████████████████████████████████████████████| 51914/51914 [00:05<00:00, 9237.38it/s]\n",
      "100%|██████████████████████████████████████████████████████████████████████████████| 1726/1726 [00:18<00:00, 91.19it/s]\n"
     ]
    },
    {
     "name": "stdout",
     "output_type": "stream",
     "text": [
      "phase:  2\n"
     ]
    },
    {
     "name": "stderr",
     "output_type": "stream",
     "text": [
      "100%|███████████████████████████████████████████████████████████████████████████| 23816/23816 [00:40<00:00, 585.51it/s]\n",
      "100%|██████████████████████████████████████████████████████████████████████████| 61905/61905 [00:09<00:00, 6628.21it/s]\n",
      "100%|██████████████████████████████████████████████████████████████████████████████| 1690/1690 [00:26<00:00, 63.82it/s]\n"
     ]
    },
    {
     "name": "stdout",
     "output_type": "stream",
     "text": [
      "phase:  3\n"
     ]
    },
    {
     "name": "stderr",
     "output_type": "stream",
     "text": [
      "100%|███████████████████████████████████████████████████████████████████████████| 26046/26046 [01:02<00:00, 417.07it/s]\n",
      "100%|██████████████████████████████████████████████████████████████████████████| 71904/71904 [00:21<00:00, 3305.87it/s]\n",
      "100%|██████████████████████████████████████████████████████████████████████████████| 1675/1675 [00:46<00:00, 35.84it/s]\n"
     ]
    },
    {
     "name": "stdout",
     "output_type": "stream",
     "text": [
      "phase:  4\n"
     ]
    },
    {
     "name": "stderr",
     "output_type": "stream",
     "text": [
      "100%|███████████████████████████████████████████████████████████████████████████| 27768/27768 [01:23<00:00, 332.34it/s]\n",
      "100%|██████████████████████████████████████████████████████████████████████████| 80750/80750 [00:18<00:00, 4299.72it/s]\n",
      "100%|██████████████████████████████████████████████████████████████████████████████| 1708/1708 [01:10<00:00, 24.21it/s]\n"
     ]
    },
    {
     "name": "stdout",
     "output_type": "stream",
     "text": [
      "phase:  5\n"
     ]
    },
    {
     "name": "stderr",
     "output_type": "stream",
     "text": [
      "100%|███████████████████████████████████████████████████████████████████████████| 29571/29571 [01:55<00:00, 256.67it/s]\n",
      "100%|██████████████████████████████████████████████████████████████████████████| 89473/89473 [00:23<00:00, 3739.74it/s]\n",
      "100%|██████████████████████████████████████████████████████████████████████████████| 1798/1798 [01:35<00:00, 18.76it/s]\n"
     ]
    },
    {
     "name": "stdout",
     "output_type": "stream",
     "text": [
      "phase:  6\n"
     ]
    },
    {
     "name": "stderr",
     "output_type": "stream",
     "text": [
      "100%|███████████████████████████████████████████████████████████████████████████| 31525/31525 [02:33<00:00, 206.02it/s]\n",
      "100%|██████████████████████████████████████████████████████████████████████████| 98769/98769 [00:32<00:00, 3050.50it/s]\n",
      "100%|██████████████████████████████████████████████████████████████████████████████| 1821/1821 [02:10<00:00, 13.91it/s]\n"
     ]
    }
   ],
   "source": [
    "import pandas as pd\n",
    "from tqdm import tqdm \n",
    "from collections import defaultdict\n",
    "import math \n",
    "\n",
    "import time\n",
    "\n",
    "def get_sim_item(all_click, user_col, item_col, time_col, use_iuf = False, use_time = False):\n",
    "    #生成用户的点击商品序列，一行代表一个用户的点击序列\n",
    "    user_item = all_click.groupby(user_col)[item_col].agg(list).reset_index()\n",
    "    #生成字典\n",
    "    user_item_dict = dict(zip(user_item[user_col], user_item[item_col]))\n",
    "    #生成用户的点击时间序列\n",
    "    user_time = all_click.groupby(user_col)[time_col].agg(list).reset_index()#引入时间因素\n",
    "    user_time_dict = dict(zip(user_time[user_col], user_time[time_col]))\n",
    "\n",
    "    sim_item = {}#保存商品相似度\n",
    "    item_cnt = defaultdict(int) #商品被点击次数\n",
    "    for user, items in tqdm(user_item_dict.items()):\n",
    "        #被同一个用户点击的商品\n",
    "        for ixi, i in enumerate(items):#ixi是loc1，i是item\n",
    "            item_cnt[i] += 1\n",
    "            sim_item.setdefault(i, {})\n",
    "\n",
    "            for ixj, j in enumerate(items):#ixj是loc2，j是relate_item\n",
    "                if i == j:\n",
    "                    continue\n",
    "                sim_item[i].setdefault(j, 0)\n",
    "\n",
    "                t1 = user_time_dict[user][ixi]#点击时间提取\n",
    "                t2 = user_time_dict[user][ixj]\n",
    "\n",
    "                if not use_iuf:\n",
    "                    sim_item[i][j] += 1\n",
    "                else:\n",
    "                    if not use_time:\n",
    "                        sim_item[i][j] += 1 / math.log(1 + len(items))\n",
    "                    else:\n",
    "                        flag = True if ixi > ixj else False \n",
    "                        num = max(ixi - ixj, ixj - ixi) - 1\n",
    "                        t = max(t1 - t2, t2 - t1) * 10000\n",
    "                        indicator = 1.0 if flag else 1.0 \n",
    "                        sim_item[i][j] += 1.0 * indicator * (0.8 ** num) * (1 - t) / math.log(1 + len(items))\n",
    "    \n",
    "    sim_item_corr = sim_item.copy()#引入AB的各种被点击次数\n",
    "    for i, related_items in tqdm(sim_item.items()):\n",
    "        for j, sim in related_items.items():\n",
    "            #sim_item_corr[i][j] = sim / math.sqrt(item_cnt[i] * item_cnt[j])\n",
    "            sim_item_corr[i][j] = sim / (item_cnt[i] * item_cnt[j]) ** 0.2\n",
    "\n",
    "    return sim_item_corr, user_item_dict\n",
    "\n",
    "#交互行为打分，根据位置远近添加权重\n",
    "def recommend(item_sim_list, user_item_dict, user_id, topk, item_num):\n",
    "    \n",
    "    user_items = user_item_dict[user_id]\n",
    "    user_items = user_items[::-1]\n",
    "    rank = {}\n",
    "    for ixi, i in enumerate(user_items):\n",
    "        for j, sim in sorted(item_sim_list[i].items(), key = lambda x: x[1], reverse = True)[: topk]:\n",
    "       # 青禹小生\n",
    "            if j not in user_items:\n",
    "                rank.setdefault(j, 0)\n",
    "                rank[j] += sim * (0.75 ** ixi)\n",
    "                \n",
    "    return  sorted(rank.items(), key = lambda x: x[1], reverse = True)[: item_num]\n",
    "\n",
    "#fill user to 50 items，召回的50个商品中，是最后一次点击的商品label是1，反之为0.\n",
    "def get_predict(rec_df, pred_col, top_50_clicks):\n",
    "    top_50_clicks = [int(t) for t in top_50_clicks.split(',')]\n",
    "    scores = [-1 * (i + 1) for i in range(0, len(top_50_clicks))]\n",
    "    ids = list(rec_df['user_id'].unique())\n",
    "    \n",
    "    fill_df = pd.DataFrame(ids * len(top_50_clicks), columns=['user_id'])\n",
    "    fill_df.sort_values('user_id', inplace = True)\n",
    "    fill_df['item_id'] = top_50_clicks * len(ids)\n",
    "    fill_df[pred_col] = scores * len(ids)\n",
    "    rec_df = rec_df.append(fill_df)\n",
    "    rec_df.sort_values(pred_col, ascending=False, inplace=True)\n",
    "    rec_df = rec_df.drop_duplicates(subset=['user_id', 'item_id'], keep='first')\n",
    "    rec_df['rank'] = rec_df.groupby('user_id')[pred_col].rank(method = 'first', ascending=False)\n",
    "    rec_df = rec_df[rec_df['rank'] <= 50]\n",
    "    rec_df = rec_df.groupby('user_id')['item_id'].apply(lambda x : ','.join([str(i) for i in x])).str.split(',', expand = True).reset_index()\n",
    "    \n",
    "    return rec_df\n",
    "\n",
    "\n",
    "if __name__ == '__main__':\n",
    "    current_phase = 9\n",
    "    train_path = 'E:/JupyterFile/Code/KDD/data/underexpose_train/'\n",
    "    test_path = 'E:/JupyterFile/Code/KDD/data/underexpose_test/'\n",
    "    rec_items = []\n",
    "\n",
    "    whole_click = pd.DataFrame()\n",
    "    for phase in range(7, current_phase + 1):\n",
    "        print(\"phase: \", phase)\n",
    "        train_click = pd.read_csv(train_path + 'underexpose_train_click-{}.csv'.format(phase), header = None, names=['user_id', 'item_id', 'time'])\n",
    "        test_click = pd.read_csv(test_path + 'underexpose_test_click-{}.csv'.format(phase), header = None, names = ['user_id', 'item_id', 'time'])\n",
    "        test_users = pd.read_csv(test_path + 'underexpose_test_qtime-{}.csv'.format(phase), header = None, names = ['user_id','time'])\n",
    "\n",
    "        all_click = train_click.append(test_click)\n",
    "        whole_click = whole_click.append(all_click)\n",
    "        whole_click = whole_click.drop_duplicates(subset = ['user_id', 'item_id', 'time'], keep = 'last')\n",
    "        whole_click = whole_click.sort_values('time')#get_sim_click的输入\n",
    "\n",
    "        item_sim_list, user_item = get_sim_item(whole_click, 'user_id', 'item_id', 'time', use_iuf = True, use_time = True)\n",
    "        \n",
    "        \n",
    "        for i in tqdm(test_users['user_id'].unique()):#qtime，unique()返回参数数组中所有不同的数并从小到大排序\n",
    "            rank_items = recommend(item_sim_list, user_item, i, 500, 50)#推荐50\n",
    "            for j in rank_items:\n",
    "                rec_items.append([i, j[0], j[1]])\n",
    "        \n",
    "    '''\n",
    "    test_users = pd.read_csv(test_path + 'underexpose_test_qtime-{}.csv'.format(current_phase), header = None, names = ['user_id','time'])\n",
    "\n",
    "    for i in tqdm(test_users['user_id'].unique()):\n",
    "            rank_items = recommend(item_sim_list, user_item, i, 500, 50)\n",
    "            for j in rank_items:\n",
    "                rec_items.append([i, j[0], j[1]])\n",
    "    '''\n",
    "    # find most popular items for cold-start users\n",
    "    top_50_clicks = whole_click['item_id'].value_counts().index[:50].values \n",
    "    top_50_clicks = ','.join([str(i) for i in top_50_clicks])\n",
    "\n",
    "    rec_df = pd.DataFrame(rec_items, columns=['user_id', 'item_id', 'sim'])\n",
    "    result = get_predict(rec_df, 'sim', top_50_clicks)\n",
    "    time_str = time.strftime(\"%Y-%m-%d_%H_%M_%S\", time.localtime())\n",
    "    file_name = './underexpose_submit{time_str}.csv'.format(time_str=time_str)\n",
    "    result.to_csv(file_name, index = False, header = None)\n",
    "\n"
   ]
  },
  {
   "cell_type": "code",
   "execution_count": null,
   "metadata": {
    "collapsed": true
   },
   "outputs": [],
   "source": []
  }
 ],
 "metadata": {
  "kernelspec": {
   "display_name": "Python 3",
   "language": "python",
   "name": "python3"
  },
  "language_info": {
   "codemirror_mode": {
    "name": "ipython",
    "version": 3
   },
   "file_extension": ".py",
   "mimetype": "text/x-python",
   "name": "python",
   "nbconvert_exporter": "python",
   "pygments_lexer": "ipython3",
   "version": "3.6.4"
  }
 },
 "nbformat": 4,
 "nbformat_minor": 2
}
