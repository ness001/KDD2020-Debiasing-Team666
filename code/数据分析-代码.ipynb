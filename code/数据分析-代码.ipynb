{
 "cells": [
  {
   "cell_type": "markdown",
   "metadata": {
    "toc": true
   },
   "source": [
    "<h1>Table of Contents<span class=\"tocSkip\"></span></h1>\n",
    "<div class=\"toc\"><ul class=\"toc-item\"><li><span><a href=\"#查看目录下数据\" data-toc-modified-id=\"查看目录下数据-1\"><span class=\"toc-item-num\">1&nbsp;&nbsp;</span>查看目录下数据</a></span><ul class=\"toc-item\"><li><span><a href=\"#列出../data目录\" data-toc-modified-id=\"列出../data目录-1.1\"><span class=\"toc-item-num\">1.1&nbsp;&nbsp;</span>列出../data目录</a></span></li><li><span><a href=\"#列出../data/underexpose_train/目录下数据\" data-toc-modified-id=\"列出../data/underexpose_train/目录下数据-1.2\"><span class=\"toc-item-num\">1.2&nbsp;&nbsp;</span>列出../data/underexpose_train/目录下数据</a></span></li><li><span><a href=\"#列出../data/underexpose_test/目录下目录\" data-toc-modified-id=\"列出../data/underexpose_test/目录下目录-1.3\"><span class=\"toc-item-num\">1.3&nbsp;&nbsp;</span>列出../data/underexpose_test/目录下目录</a></span></li><li><span><a href=\"#列出../data/underexpose_test/underexpose_test_click-0/目录下数据\" data-toc-modified-id=\"列出../data/underexpose_test/underexpose_test_click-0/目录下数据-1.4\"><span class=\"toc-item-num\">1.4&nbsp;&nbsp;</span>列出../data/underexpose_test/underexpose_test_click-0/目录下数据</a></span></li><li><span><a href=\"#查看../data/underexpose_train/underexpose_user_feat.csv数据\" data-toc-modified-id=\"查看../data/underexpose_train/underexpose_user_feat.csv数据-1.5\"><span class=\"toc-item-num\">1.5&nbsp;&nbsp;</span>查看../data/underexpose_train/underexpose_user_feat.csv数据</a></span></li><li><span><a href=\"#查看../data/underexpose_train/underexpose_item_feat.csv数据\" data-toc-modified-id=\"查看../data/underexpose_train/underexpose_item_feat.csv数据-1.6\"><span class=\"toc-item-num\">1.6&nbsp;&nbsp;</span>查看../data/underexpose_train/underexpose_item_feat.csv数据</a></span></li><li><span><a href=\"#查看../data/underexpose_train/underexpose_train_click-0.csv数据\" data-toc-modified-id=\"查看../data/underexpose_train/underexpose_train_click-0.csv数据-1.7\"><span class=\"toc-item-num\">1.7&nbsp;&nbsp;</span>查看../data/underexpose_train/underexpose_train_click-0.csv数据</a></span></li><li><span><a href=\"#查看../data/underexpose_test/underexpose_test_click-0/underexpose_test_click-0.csv数据\" data-toc-modified-id=\"查看../data/underexpose_test/underexpose_test_click-0/underexpose_test_click-0.csv数据-1.8\"><span class=\"toc-item-num\">1.8&nbsp;&nbsp;</span>查看../data/underexpose_test/underexpose_test_click-0/underexpose_test_click-0.csv数据</a></span></li><li><span><a href=\"#查看../data/underexpose_test/underexpose_test_click-0/underexpose_test_qtime-0.csv数据\" data-toc-modified-id=\"查看../data/underexpose_test/underexpose_test_click-0/underexpose_test_qtime-0.csv数据-1.9\"><span class=\"toc-item-num\">1.9&nbsp;&nbsp;</span>查看../data/underexpose_test/underexpose_test_click-0/underexpose_test_qtime-0.csv数据</a></span></li></ul></li><li><span><a href=\"#导入python包\" data-toc-modified-id=\"导入python包-2\"><span class=\"toc-item-num\">2&nbsp;&nbsp;</span>导入python包</a></span></li><li><span><a href=\"#读取数据\" data-toc-modified-id=\"读取数据-3\"><span class=\"toc-item-num\">3&nbsp;&nbsp;</span>读取数据</a></span><ul class=\"toc-item\"><li><span><a href=\"#候选集——用户候选集，商品候选集\" data-toc-modified-id=\"候选集——用户候选集，商品候选集-3.1\"><span class=\"toc-item-num\">3.1&nbsp;&nbsp;</span>候选集——用户候选集，商品候选集</a></span></li><li><span><a href=\"#用户候选集\" data-toc-modified-id=\"用户候选集-3.2\"><span class=\"toc-item-num\">3.2&nbsp;&nbsp;</span>用户候选集</a></span></li><li><span><a href=\"#候选用户user_id个数\" data-toc-modified-id=\"候选用户user_id个数-3.3\"><span class=\"toc-item-num\">3.3&nbsp;&nbsp;</span>候选用户user_id个数</a></span></li><li><span><a href=\"#查看用户user_age_level分布\" data-toc-modified-id=\"查看用户user_age_level分布-3.4\"><span class=\"toc-item-num\">3.4&nbsp;&nbsp;</span>查看用户user_age_level分布</a></span></li><li><span><a href=\"#查看用户user_gender分布\" data-toc-modified-id=\"查看用户user_gender分布-3.5\"><span class=\"toc-item-num\">3.5&nbsp;&nbsp;</span>查看用户user_gender分布</a></span></li><li><span><a href=\"#查看用户user_city_level分布\" data-toc-modified-id=\"查看用户user_city_level分布-3.6\"><span class=\"toc-item-num\">3.6&nbsp;&nbsp;</span>查看用户user_city_level分布</a></span></li><li><span><a href=\"#商品候选集\" data-toc-modified-id=\"商品候选集-3.7\"><span class=\"toc-item-num\">3.7&nbsp;&nbsp;</span>商品候选集</a></span></li></ul></li><li><span><a href=\"#训练集——用户点击商品数据\" data-toc-modified-id=\"训练集——用户点击商品数据-4\"><span class=\"toc-item-num\">4&nbsp;&nbsp;</span>训练集——用户点击商品数据</a></span><ul class=\"toc-item\"><li><span><a href=\"#查看训练集--点击用户点击商品数据\" data-toc-modified-id=\"查看训练集--点击用户点击商品数据-4.1\"><span class=\"toc-item-num\">4.1&nbsp;&nbsp;</span>查看训练集--点击用户点击商品数据</a></span></li></ul></li><li><span><a href=\"#测试集——用户点击数据-待预测数据\" data-toc-modified-id=\"测试集——用户点击数据-待预测数据-5\"><span class=\"toc-item-num\">5&nbsp;&nbsp;</span>测试集——用户点击数据-待预测数据</a></span><ul class=\"toc-item\"><li><span><a href=\"#查看测试集合数据-待预测的数据\" data-toc-modified-id=\"查看测试集合数据-待预测的数据-5.1\"><span class=\"toc-item-num\">5.1&nbsp;&nbsp;</span>查看测试集合数据-待预测的数据</a></span></li></ul></li><li><span><a href=\"#建模数据准备\" data-toc-modified-id=\"建模数据准备-6\"><span class=\"toc-item-num\">6&nbsp;&nbsp;</span>建模数据准备</a></span><ul class=\"toc-item\"><li><span><a href=\"#序列数据处理\" data-toc-modified-id=\"序列数据处理-6.1\"><span class=\"toc-item-num\">6.1&nbsp;&nbsp;</span>序列数据处理</a></span></li><li><span><a href=\"#查看处理好的序列数据\" data-toc-modified-id=\"查看处理好的序列数据-6.2\"><span class=\"toc-item-num\">6.2&nbsp;&nbsp;</span>查看处理好的序列数据</a></span><ul class=\"toc-item\"><li><span><a href=\"#训练数据\" data-toc-modified-id=\"训练数据-6.2.1\"><span class=\"toc-item-num\">6.2.1&nbsp;&nbsp;</span>训练数据</a></span></li><li><span><a href=\"#测试数据\" data-toc-modified-id=\"测试数据-6.2.2\"><span class=\"toc-item-num\">6.2.2&nbsp;&nbsp;</span>测试数据</a></span></li></ul></li><li><span><a href=\"#用户画像数据处理\" data-toc-modified-id=\"用户画像数据处理-6.3\"><span class=\"toc-item-num\">6.3&nbsp;&nbsp;</span>用户画像数据处理</a></span></li><li><span><a href=\"#商品画像数据处理\" data-toc-modified-id=\"商品画像数据处理-6.4\"><span class=\"toc-item-num\">6.4&nbsp;&nbsp;</span>商品画像数据处理</a></span></li></ul></li><li><span><a href=\"#id-转化为embeeding特征\" data-toc-modified-id=\"id-转化为embeeding特征-7\"><span class=\"toc-item-num\">7&nbsp;&nbsp;</span>id 转化为embeeding特征</a></span><ul class=\"toc-item\"><li><span><a href=\"#user_id,-item_id-特征\" data-toc-modified-id=\"user_id,-item_id-特征-7.1\"><span class=\"toc-item-num\">7.1&nbsp;&nbsp;</span>user_id, item_id 特征</a></span><ul class=\"toc-item\"><li><span><a href=\"#探索数据\" data-toc-modified-id=\"探索数据-7.1.1\"><span class=\"toc-item-num\">7.1.1&nbsp;&nbsp;</span>探索数据</a></span></li><li><span><a href=\"#underexpose_user_feat-用户画像只覆盖部分用户\" data-toc-modified-id=\"underexpose_user_feat-用户画像只覆盖部分用户-7.1.2\"><span class=\"toc-item-num\">7.1.2&nbsp;&nbsp;</span>underexpose_user_feat 用户画像只覆盖部分用户</a></span></li><li><span><a href=\"#underexpose_item_feat-商品画像只覆盖部分商品\" data-toc-modified-id=\"underexpose_item_feat-商品画像只覆盖部分商品-7.1.3\"><span class=\"toc-item-num\">7.1.3&nbsp;&nbsp;</span>underexpose_item_feat 商品画像只覆盖部分商品</a></span></li></ul></li></ul></li><li><span><a href=\"#导入tensorflow\" data-toc-modified-id=\"导入tensorflow-8\"><span class=\"toc-item-num\">8&nbsp;&nbsp;</span>导入tensorflow</a></span><ul class=\"toc-item\"><li><span><a href=\"#矩阵分解-图算法-Word2Vec-FM\" data-toc-modified-id=\"矩阵分解-图算法-Word2Vec-FM-8.1\"><span class=\"toc-item-num\">8.1&nbsp;&nbsp;</span>矩阵分解 图算法 Word2Vec FM</a></span></li><li><span><a href=\"#矩阵分解\" data-toc-modified-id=\"矩阵分解-8.2\"><span class=\"toc-item-num\">8.2&nbsp;&nbsp;</span>矩阵分解</a></span></li><li><span><a href=\"#抽取user_id的embeeding\" data-toc-modified-id=\"抽取user_id的embeeding-8.3\"><span class=\"toc-item-num\">8.3&nbsp;&nbsp;</span>抽取user_id的embeeding</a></span></li><li><span><a href=\"#抽取item_id的embeeding\" data-toc-modified-id=\"抽取item_id的embeeding-8.4\"><span class=\"toc-item-num\">8.4&nbsp;&nbsp;</span>抽取item_id的embeeding</a></span></li><li><span><a href=\"#LINE-分解\" data-toc-modified-id=\"LINE-分解-8.5\"><span class=\"toc-item-num\">8.5&nbsp;&nbsp;</span>LINE 分解</a></span></li><li><span><a href=\"#深度学习Baseline\" data-toc-modified-id=\"深度学习Baseline-8.6\"><span class=\"toc-item-num\">8.6&nbsp;&nbsp;</span>深度学习Baseline</a></span></li></ul></li><li><span><a href=\"#建模\" data-toc-modified-id=\"建模-9\"><span class=\"toc-item-num\">9&nbsp;&nbsp;</span>建模</a></span></li><li><span><a href=\"#特征工程-+-辅助特征\" data-toc-modified-id=\"特征工程-+-辅助特征-10\"><span class=\"toc-item-num\">10&nbsp;&nbsp;</span>特征工程 + 辅助特征</a></span></li><li><span><a href=\"#模型\" data-toc-modified-id=\"模型-11\"><span class=\"toc-item-num\">11&nbsp;&nbsp;</span>模型</a></span></li><li><span><a href=\"#建模\" data-toc-modified-id=\"建模-12\"><span class=\"toc-item-num\">12&nbsp;&nbsp;</span>建模</a></span><ul class=\"toc-item\"><li><span><a href=\"#解题思路一\" data-toc-modified-id=\"解题思路一-12.1\"><span class=\"toc-item-num\">12.1&nbsp;&nbsp;</span>解题思路一</a></span></li><li><span><a href=\"#解题思路二\" data-toc-modified-id=\"解题思路二-12.2\"><span class=\"toc-item-num\">12.2&nbsp;&nbsp;</span>解题思路二</a></span></li><li><span><a href=\"#解题思路三\" data-toc-modified-id=\"解题思路三-12.3\"><span class=\"toc-item-num\">12.3&nbsp;&nbsp;</span>解题思路三</a></span></li></ul></li></ul></div>"
   ]
  },
  {
   "cell_type": "markdown",
   "metadata": {},
   "source": [
    "# 查看目录下数据"
   ]
  },
  {
   "cell_type": "markdown",
   "metadata": {},
   "source": [
    "## 列出../data目录"
   ]
  },
  {
   "cell_type": "code",
   "execution_count": 1,
   "metadata": {},
   "outputs": [
    {
     "name": "stderr",
     "output_type": "stream",
     "text": [
      "'ls' 不是内部或外部命令，也不是可运行的程序\n",
      "或批处理文件。\n"
     ]
    }
   ],
   "source": [
    "!ls ../data/"
   ]
  },
  {
   "cell_type": "markdown",
   "metadata": {},
   "source": [
    "## 列出../data/underexpose_train/目录下数据"
   ]
  },
  {
   "cell_type": "code",
   "execution_count": 2,
   "metadata": {},
   "outputs": [
    {
     "name": "stderr",
     "output_type": "stream",
     "text": [
      "'ls' 不是内部或外部命令，也不是可运行的程序\n",
      "或批处理文件。\n"
     ]
    }
   ],
   "source": [
    "!ls ../data/underexpose_train/"
   ]
  },
  {
   "cell_type": "markdown",
   "metadata": {},
   "source": [
    "## 列出../data/underexpose_test/目录下目录"
   ]
  },
  {
   "cell_type": "code",
   "execution_count": 3,
   "metadata": {},
   "outputs": [
    {
     "name": "stderr",
     "output_type": "stream",
     "text": [
      "'ls' 不是内部或外部命令，也不是可运行的程序\n",
      "或批处理文件。\n"
     ]
    }
   ],
   "source": [
    "!ls ../data/underexpose_test/"
   ]
  },
  {
   "cell_type": "markdown",
   "metadata": {},
   "source": [
    "## 列出../data/underexpose_test/underexpose_test_click-0/目录下数据"
   ]
  },
  {
   "cell_type": "code",
   "execution_count": 4,
   "metadata": {
    "scrolled": true
   },
   "outputs": [
    {
     "name": "stderr",
     "output_type": "stream",
     "text": [
      "'ls' 不是内部或外部命令，也不是可运行的程序\n",
      "或批处理文件。\n"
     ]
    }
   ],
   "source": [
    "!ls ../data/underexpose_test/underexpose_test_click-0/"
   ]
  },
  {
   "cell_type": "markdown",
   "metadata": {},
   "source": [
    "## 查看../data/underexpose_train/underexpose_user_feat.csv数据"
   ]
  },
  {
   "cell_type": "code",
   "execution_count": 5,
   "metadata": {},
   "outputs": [
    {
     "name": "stderr",
     "output_type": "stream",
     "text": [
      "'head' 不是内部或外部命令，也不是可运行的程序\n",
      "或批处理文件。\n"
     ]
    }
   ],
   "source": [
    "!head ../data/underexpose_train/underexpose_user_feat.csv"
   ]
  },
  {
   "cell_type": "markdown",
   "metadata": {},
   "source": [
    "## 查看../data/underexpose_train/underexpose_item_feat.csv数据"
   ]
  },
  {
   "cell_type": "code",
   "execution_count": 6,
   "metadata": {},
   "outputs": [
    {
     "name": "stderr",
     "output_type": "stream",
     "text": [
      "'head' 不是内部或外部命令，也不是可运行的程序\n",
      "或批处理文件。\n"
     ]
    }
   ],
   "source": [
    "!head -1 ../data/underexpose_train/underexpose_item_feat.csv"
   ]
  },
  {
   "cell_type": "markdown",
   "metadata": {},
   "source": [
    "## 查看../data/underexpose_train/underexpose_train_click-0.csv数据"
   ]
  },
  {
   "cell_type": "code",
   "execution_count": 7,
   "metadata": {
    "scrolled": true
   },
   "outputs": [
    {
     "name": "stderr",
     "output_type": "stream",
     "text": [
      "'head' 不是内部或外部命令，也不是可运行的程序\n",
      "或批处理文件。\n"
     ]
    }
   ],
   "source": [
    "!head ../data/underexpose_train/underexpose_train_click-0.csv"
   ]
  },
  {
   "cell_type": "markdown",
   "metadata": {},
   "source": [
    "## 查看../data/underexpose_test/underexpose_test_click-0/underexpose_test_click-0.csv数据"
   ]
  },
  {
   "cell_type": "code",
   "execution_count": 8,
   "metadata": {},
   "outputs": [
    {
     "name": "stderr",
     "output_type": "stream",
     "text": [
      "'head' 不是内部或外部命令，也不是可运行的程序\n",
      "或批处理文件。\n"
     ]
    }
   ],
   "source": [
    "!head ../data/underexpose_test/underexpose_test_click-0/underexpose_test_click-0.csv"
   ]
  },
  {
   "cell_type": "markdown",
   "metadata": {},
   "source": [
    "## 查看../data/underexpose_test/underexpose_test_click-0/underexpose_test_qtime-0.csv数据"
   ]
  },
  {
   "cell_type": "code",
   "execution_count": 9,
   "metadata": {},
   "outputs": [
    {
     "name": "stderr",
     "output_type": "stream",
     "text": [
      "'head' 不是内部或外部命令，也不是可运行的程序\n",
      "或批处理文件。\n"
     ]
    }
   ],
   "source": [
    "!head ../data/underexpose_test/underexpose_test_click-0/underexpose_test_qtime-0.csv"
   ]
  },
  {
   "cell_type": "markdown",
   "metadata": {},
   "source": [
    "# 导入python包"
   ]
  },
  {
   "cell_type": "code",
   "execution_count": 16,
   "metadata": {},
   "outputs": [
    {
     "ename": "ModuleNotFoundError",
     "evalue": "No module named 'pandas'",
     "output_type": "error",
     "traceback": [
      "\u001b[1;31m---------------------------------------------------------------------------\u001b[0m",
      "\u001b[1;31mModuleNotFoundError\u001b[0m                       Traceback (most recent call last)",
      "\u001b[1;32m<ipython-input-16-276c924c3426>\u001b[0m in \u001b[0;36m<module>\u001b[1;34m\u001b[0m\n\u001b[1;32m----> 1\u001b[1;33m \u001b[1;32mimport\u001b[0m \u001b[0mpandas\u001b[0m \u001b[1;32mas\u001b[0m \u001b[0mpd\u001b[0m\u001b[1;33m\u001b[0m\u001b[1;33m\u001b[0m\u001b[0m\n\u001b[0m\u001b[0;32m      2\u001b[0m \u001b[1;32mimport\u001b[0m \u001b[0mnumpy\u001b[0m \u001b[1;32mas\u001b[0m \u001b[0mnp\u001b[0m\u001b[1;33m\u001b[0m\u001b[1;33m\u001b[0m\u001b[0m\n\u001b[0;32m      3\u001b[0m \u001b[1;32mfrom\u001b[0m \u001b[0mtqdm\u001b[0m \u001b[1;32mimport\u001b[0m \u001b[0mtqdm\u001b[0m\u001b[1;33m\u001b[0m\u001b[1;33m\u001b[0m\u001b[0m\n\u001b[0;32m      4\u001b[0m \u001b[1;32mimport\u001b[0m \u001b[0mwarnings\u001b[0m\u001b[1;33m\u001b[0m\u001b[1;33m\u001b[0m\u001b[0m\n\u001b[0;32m      5\u001b[0m \u001b[0mwarnings\u001b[0m\u001b[1;33m.\u001b[0m\u001b[0mfilterwarnings\u001b[0m\u001b[1;33m(\u001b[0m\u001b[1;34m\"ignore\"\u001b[0m\u001b[1;33m)\u001b[0m\u001b[1;33m\u001b[0m\u001b[1;33m\u001b[0m\u001b[0m\n",
      "\u001b[1;31mModuleNotFoundError\u001b[0m: No module named 'pandas'"
     ]
    }
   ],
   "source": [
    "import pandas as pd\n",
    "import numpy as np\n",
    "from tqdm import tqdm\n",
    "import warnings\n",
    "warnings.filterwarnings(\"ignore\")"
   ]
  },
  {
   "cell_type": "markdown",
   "metadata": {},
   "source": [
    "# 读取数据"
   ]
  },
  {
   "cell_type": "markdown",
   "metadata": {},
   "source": [
    "## 候选集——用户候选集，商品候选集"
   ]
  },
  {
   "cell_type": "markdown",
   "metadata": {},
   "source": [
    "## 用户候选集"
   ]
  },
  {
   "cell_type": "code",
   "execution_count": null,
   "metadata": {},
   "outputs": [],
   "source": [
    "underexpose_user_feat = pd.read_csv(\"../data/underexpose_train/underexpose_user_feat.csv\"\n",
    "                                    ,names=[\"user_id\", \"user_age_level\", \"user_gender\", \"user_city_level\"]\n",
    "                                    ,nrows=None      \n",
    "                                    ,sep=\",\"\n",
    "                                   )"
   ]
  },
  {
   "cell_type": "code",
   "execution_count": null,
   "metadata": {
    "scrolled": true
   },
   "outputs": [],
   "source": [
    "underexpose_user_feat.head()"
   ]
  },
  {
   "cell_type": "markdown",
   "metadata": {},
   "source": [
    "## 候选用户user_id个数"
   ]
  },
  {
   "cell_type": "code",
   "execution_count": null,
   "metadata": {},
   "outputs": [],
   "source": [
    "underexpose_user_feat.user_id.count()"
   ]
  },
  {
   "cell_type": "markdown",
   "metadata": {},
   "source": [
    "## 查看用户user_age_level分布"
   ]
  },
  {
   "cell_type": "code",
   "execution_count": null,
   "metadata": {},
   "outputs": [],
   "source": [
    "underexpose_user_feat.user_age_level.value_counts(dropna=False,ascending=False)"
   ]
  },
  {
   "cell_type": "markdown",
   "metadata": {},
   "source": [
    "## 查看用户user_gender分布"
   ]
  },
  {
   "cell_type": "code",
   "execution_count": null,
   "metadata": {},
   "outputs": [],
   "source": [
    "underexpose_user_feat.user_gender.value_counts(dropna=False,ascending=False)"
   ]
  },
  {
   "cell_type": "markdown",
   "metadata": {},
   "source": [
    "## 查看用户user_city_level分布"
   ]
  },
  {
   "cell_type": "code",
   "execution_count": null,
   "metadata": {},
   "outputs": [],
   "source": [
    "underexpose_user_feat.user_city_level.value_counts(dropna=False,ascending=False)"
   ]
  },
  {
   "cell_type": "markdown",
   "metadata": {},
   "source": [
    "## 商品候选集"
   ]
  },
  {
   "cell_type": "code",
   "execution_count": null,
   "metadata": {},
   "outputs": [],
   "source": [
    "col_name=['id']\n",
    "for i in range(0,128):\n",
    "    col_name.append('tv'+str(i))\n",
    "for i in range(0,128):\n",
    "    col_name.append('iv'+str(i))"
   ]
  },
  {
   "cell_type": "code",
   "execution_count": null,
   "metadata": {},
   "outputs": [],
   "source": [
    "underexpose_item_feat = pd.read_csv(\"../data/underexpose_train/underexpose_item_feat.csv\",low_memory=False,names=col_name)"
   ]
  },
  {
   "cell_type": "raw",
   "metadata": {},
   "source": [
    "underexpose_item_feat.head(3).dtypes"
   ]
  },
  {
   "cell_type": "code",
   "execution_count": null,
   "metadata": {},
   "outputs": [],
   "source": [
    "underexpose_item_feat.head(3)['tv0'].str.replace('[','')"
   ]
  },
  {
   "cell_type": "code",
   "execution_count": null,
   "metadata": {},
   "outputs": [],
   "source": [
    "underexpose_item_feat.head(3).apply(lambda x: x.str.replace('[\\[\\]]',''),axis=1)## mixed dtypes gen many nans\n"
   ]
  },
  {
   "cell_type": "code",
   "execution_count": null,
   "metadata": {},
   "outputs": [],
   "source": [
    "underexpose_item_feat[underexpose_item_feat.select_dtypes('object').columns]=underexpose_item_feat.select_dtypes('object').apply(lambda x: x.str.replace('[\\[\\]]',''),axis=1)"
   ]
  },
  {
   "cell_type": "code",
   "execution_count": null,
   "metadata": {},
   "outputs": [],
   "source": [
    "underexpose_item_feat"
   ]
  },
  {
   "cell_type": "markdown",
   "metadata": {},
   "source": [
    "# 训练集——用户点击商品数据"
   ]
  },
  {
   "cell_type": "code",
   "execution_count": null,
   "metadata": {},
   "outputs": [],
   "source": [
    "list_phase_range = [0,1,2,3,4]\n",
    "list_train_phase_file = [(x_,\"../data/underexpose_train/underexpose_train_click-\"+str(x_)+\".csv\") for x_ in list_phase_range]"
   ]
  },
  {
   "cell_type": "code",
   "execution_count": null,
   "metadata": {},
   "outputs": [],
   "source": [
    "list_train_phase_file"
   ]
  },
  {
   "cell_type": "code",
   "execution_count": null,
   "metadata": {},
   "outputs": [],
   "source": [
    "def get_train_click(list_train_phase_file):\n",
    "    list_underexpose_click = []\n",
    "    columns = [\"user_id\", \"item_id\", \"time\", \"phase\"]\n",
    "    for phase, file in tqdm(list_train_phase_file):\n",
    "        underexpose_click = pd.read_csv(file\n",
    "                                        ,names=[\"user_id\", \"item_id\", \"time\"]\n",
    "                                        ,nrows=None      \n",
    "                                        ,sep=\",\"\n",
    "                                       )\n",
    "        underexpose_click[\"phase\"] = phase\n",
    "        underexpose_click = underexpose_click[columns]\n",
    "        list_underexpose_click.append(underexpose_click)\n",
    "    all_underexpose_click = pd.concat(list_underexpose_click)\n",
    "    return all_underexpose_click[columns]"
   ]
  },
  {
   "cell_type": "code",
   "execution_count": null,
   "metadata": {
    "scrolled": true
   },
   "outputs": [],
   "source": [
    "underexpose_train_click = get_train_click(list_train_phase_file)"
   ]
  },
  {
   "cell_type": "markdown",
   "metadata": {},
   "source": [
    "## 查看训练集--点击用户点击商品数据"
   ]
  },
  {
   "cell_type": "code",
   "execution_count": null,
   "metadata": {
    "scrolled": true
   },
   "outputs": [],
   "source": [
    "underexpose_train_click.sort_values(['user_id','time']).head(20)"
   ]
  },
  {
   "cell_type": "code",
   "execution_count": null,
   "metadata": {},
   "outputs": [],
   "source": [
    "underexpose_train_click[underexpose_train_click['item_id']==-999]"
   ]
  },
  {
   "cell_type": "code",
   "execution_count": null,
   "metadata": {},
   "outputs": [],
   "source": [
    "underexpose_train_click[underexpose_train_click['user_id']==-999]"
   ]
  },
  {
   "cell_type": "markdown",
   "metadata": {},
   "source": [
    "# 测试集——用户点击数据-待预测数据"
   ]
  },
  {
   "cell_type": "code",
   "execution_count": null,
   "metadata": {},
   "outputs": [],
   "source": [
    "list_phase_range = [0,1,2,3,4]\n",
    "list_test_phase_file = [(x_,\"../data/underexpose_test/underexpose_test_click-\"+str(x_)+\"/underexpose_test_click-\"+str(x_)+\".csv\") for x_ in list_phase_range]\n",
    "list_test_phase_query_file = [(x_,\"../data/underexpose_test/underexpose_test_click-\"+str(x_)+\"/underexpose_test_qtime-\"+str(x_)+\".csv\") for x_ in list_phase_range]"
   ]
  },
  {
   "cell_type": "code",
   "execution_count": 11,
   "metadata": {},
   "outputs": [],
   "source": [
    "def get_test_click(list_test_phase_file, list_test_phase_query_file):\n",
    "    list_underexpose_click = []\n",
    "    columns = [\"user_id\", \"item_id\", \"time\", \"phase\"]\n",
    "    for phase, file in tqdm(list_test_phase_file):\n",
    "        underexpose_click = pd.read_csv(file\n",
    "                                        ,names=[\"user_id\", \"item_id\", \"time\"]\n",
    "                                        ,nrows=None      \n",
    "                                        ,sep=\",\"\n",
    "                                       )\n",
    "        underexpose_click[\"phase\"] = phase\n",
    "        underexpose_click = underexpose_click[columns] \n",
    "        list_underexpose_click.append(underexpose_click)\n",
    "    for phase, file in tqdm(list_test_phase_query_file):\n",
    "        underexpose_qtime = pd.read_csv(file\n",
    "                                    ,names=[\"user_id\", \"query_time\"]\n",
    "                                    ,nrows=None      \n",
    "                                    ,sep=\",\"\n",
    "                                   )   \n",
    "        underexpose_qtime.columns = [\"user_id\", \"time\"]\n",
    "        underexpose_qtime[\"phase\"] = phase\n",
    "        underexpose_qtime[\"item_id\"] = -999\n",
    "        underexpose_qtime = underexpose_qtime[columns]\n",
    "        list_underexpose_click.append(underexpose_qtime)\n",
    "    all_underexpose_click = pd.concat(list_underexpose_click)\n",
    "    return all_underexpose_click[columns]"
   ]
  },
  {
   "cell_type": "code",
   "execution_count": 12,
   "metadata": {
    "scrolled": true
   },
   "outputs": [
    {
     "ename": "NameError",
     "evalue": "name 'list_test_phase_file' is not defined",
     "output_type": "error",
     "traceback": [
      "\u001b[1;31m---------------------------------------------------------------------------\u001b[0m",
      "\u001b[1;31mNameError\u001b[0m                                 Traceback (most recent call last)",
      "\u001b[1;32m<ipython-input-12-e6299379fc52>\u001b[0m in \u001b[0;36m<module>\u001b[1;34m\u001b[0m\n\u001b[1;32m----> 1\u001b[1;33m \u001b[0munderexpose_test_click\u001b[0m \u001b[1;33m=\u001b[0m \u001b[0mget_test_click\u001b[0m\u001b[1;33m(\u001b[0m\u001b[0mlist_test_phase_file\u001b[0m\u001b[1;33m,\u001b[0m \u001b[0mlist_test_phase_query_file\u001b[0m\u001b[1;33m)\u001b[0m\u001b[1;33m\u001b[0m\u001b[1;33m\u001b[0m\u001b[0m\n\u001b[0m",
      "\u001b[1;31mNameError\u001b[0m: name 'list_test_phase_file' is not defined"
     ]
    }
   ],
   "source": [
    "underexpose_test_click = get_test_click(list_test_phase_file, list_test_phase_query_file)"
   ]
  },
  {
   "cell_type": "markdown",
   "metadata": {},
   "source": [
    "## 查看测试集合数据-待预测的数据"
   ]
  },
  {
   "cell_type": "code",
   "execution_count": null,
   "metadata": {},
   "outputs": [],
   "source": [
    "len(underexpose_test_click[underexpose_test_click[\"item_id\"]== -999])"
   ]
  },
  {
   "cell_type": "code",
   "execution_count": null,
   "metadata": {},
   "outputs": [],
   "source": [
    "len(underexpose_test_click[underexpose_test_click[\"item_id\"]!=-999])"
   ]
  },
  {
   "cell_type": "markdown",
   "metadata": {},
   "source": [
    "# 建模数据准备"
   ]
  },
  {
   "cell_type": "markdown",
   "metadata": {},
   "source": [
    "## 序列数据处理"
   ]
  },
  {
   "cell_type": "code",
   "execution_count": null,
   "metadata": {},
   "outputs": [],
   "source": [
    "def deal_click_data(underexpose_click_data):\n",
    "    underexpose_click_data = underexpose_click_data.sort_values(['user_id','phase','time'])\n",
    "    dict_user_phase_action = {}\n",
    "    for i,row in tqdm(underexpose_click_data.iterrows()):\n",
    "        user_id, item_id, time, phase = int(row[\"user_id\"]), int(row[\"item_id\"]), float(row[\"time\"]), int(row[\"phase\"])\n",
    "        if phase not in dict_user_phase_action:\n",
    "            dict_user_phase_action[phase] = {}\n",
    "        if user_id not in dict_user_phase_action[phase]:\n",
    "            dict_user_phase_action[phase][user_id] = {\"item_seq\":[],\"time_seq\":[],\"diff_time_seq\":[]}\n",
    "        else:\n",
    "            diff_time = (time - dict_user_phase_action[phase][user_id][\"time_seq\"][-1]) * 10**4\n",
    "            dict_user_phase_action[phase][user_id][\"diff_time_seq\"].append(diff_time)    \n",
    "        dict_user_phase_action[phase][user_id][\"item_seq\"].append(item_id)\n",
    "        dict_user_phase_action[phase][user_id][\"time_seq\"].append(time)\n",
    "    return dict_user_phase_action"
   ]
  },
  {
   "cell_type": "code",
   "execution_count": null,
   "metadata": {},
   "outputs": [],
   "source": [
    "# 2 * 10 **4"
   ]
  },
  {
   "cell_type": "code",
   "execution_count": null,
   "metadata": {},
   "outputs": [],
   "source": [
    "dict_train_user_phase_action = deal_click_data(underexpose_train_click)"
   ]
  },
  {
   "cell_type": "code",
   "execution_count": null,
   "metadata": {},
   "outputs": [],
   "source": [
    "dict_test_user_phase_action = deal_click_data(underexpose_test_click)"
   ]
  },
  {
   "cell_type": "markdown",
   "metadata": {},
   "source": [
    "## 查看处理好的序列数据"
   ]
  },
  {
   "cell_type": "markdown",
   "metadata": {},
   "source": [
    "### 训练数据"
   ]
  },
  {
   "cell_type": "code",
   "execution_count": null,
   "metadata": {},
   "outputs": [],
   "source": [
    "dict_train_user_phase_action.keys()"
   ]
  },
  {
   "cell_type": "code",
   "execution_count": null,
   "metadata": {
    "scrolled": true
   },
   "outputs": [],
   "source": [
    "dict_train_user_phase_action[0].keys()"
   ]
  },
  {
   "cell_type": "code",
   "execution_count": null,
   "metadata": {
    "ExecuteTime": {
     "end_time": "2020-05-15T12:01:12.610527Z",
     "start_time": "2020-05-15T12:01:12.578764Z"
    },
    "scrolled": true
   },
   "outputs": [],
   "source": [
    "dict_train_user_phase_action[0][1]"
   ]
  },
  {
   "cell_type": "markdown",
   "metadata": {},
   "source": [
    "### 测试数据"
   ]
  },
  {
   "cell_type": "code",
   "execution_count": null,
   "metadata": {
    "ExecuteTime": {
     "end_time": "2020-05-15T12:01:21.795328Z",
     "start_time": "2020-05-15T12:01:21.762968Z"
    }
   },
   "outputs": [],
   "source": [
    "dict_test_user_phase_action.keys()"
   ]
  },
  {
   "cell_type": "code",
   "execution_count": null,
   "metadata": {
    "ExecuteTime": {
     "end_time": "2020-05-15T12:01:31.195828Z",
     "start_time": "2020-05-15T12:01:31.166339Z"
    },
    "scrolled": true
   },
   "outputs": [],
   "source": [
    "dict_test_user_phase_action[0].keys()"
   ]
  },
  {
   "cell_type": "code",
   "execution_count": null,
   "metadata": {
    "ExecuteTime": {
     "end_time": "2020-05-15T12:01:40.001887Z",
     "start_time": "2020-05-15T12:01:39.972427Z"
    },
    "scrolled": true
   },
   "outputs": [],
   "source": [
    "dict_test_user_phase_action[0][11]"
   ]
  },
  {
   "cell_type": "markdown",
   "metadata": {},
   "source": [
    "## 用户画像数据处理"
   ]
  },
  {
   "cell_type": "code",
   "execution_count": null,
   "metadata": {
    "ExecuteTime": {
     "end_time": "2020-05-15T12:01:50.976439Z",
     "start_time": "2020-05-15T12:01:50.942965Z"
    }
   },
   "outputs": [],
   "source": [
    "underexpose_user_feat.head()"
   ]
  },
  {
   "cell_type": "code",
   "execution_count": null,
   "metadata": {
    "ExecuteTime": {
     "end_time": "2020-05-15T12:02:02.233639Z",
     "start_time": "2020-05-15T12:02:02.200378Z"
    }
   },
   "outputs": [],
   "source": [
    "def deal_user_feat_data(user_feat_data):\n",
    "    user_feat_data = user_feat_data.fillna(-1)\n",
    "    dict_user_feat = {}\n",
    "    dict_user_age_level, index_user_age_level = {}, 0\n",
    "    dict_user_gender, index_user_gender = {}, 0\n",
    "    dict_user_city_level, index_user_city_level = {}, 0\n",
    "    for i,row in tqdm(user_feat_data.iterrows()):\n",
    "        user_id, user_age_level, user_gender, user_city_level = int(row[\"user_id\"]), int(row[\"user_age_level\"]), row[\"user_gender\"], int(row[\"user_city_level\"])\n",
    "        if user_id not in dict_user_feat:\n",
    "            dict_user_feat[user_id] = {}\n",
    "        if user_age_level not in dict_user_age_level:\n",
    "            dict_user_age_level[user_age_level] = index_user_age_level\n",
    "            index_user_age_level += 1\n",
    "        if user_gender not in dict_user_gender:\n",
    "            dict_user_gender[user_gender] = index_user_gender\n",
    "            index_user_gender += 1\n",
    "        if user_city_level not in dict_user_city_level:\n",
    "            dict_user_city_level[user_city_level] = index_user_city_level\n",
    "            index_user_city_level += 1\n",
    "        dict_user_feat[user_id][\"user_age_level\"] = dict_user_age_level[user_age_level]\n",
    "        dict_user_feat[user_id][\"user_gender\"] = dict_user_gender[user_gender]\n",
    "        dict_user_feat[user_id][\"user_city_level\"] = dict_user_city_level[user_city_level]\n",
    "    return dict_user_feat, dict_user_age_level, dict_user_gender, dict_user_city_level"
   ]
  },
  {
   "cell_type": "code",
   "execution_count": null,
   "metadata": {
    "ExecuteTime": {
     "end_time": "2020-05-15T12:02:12.286471Z",
     "start_time": "2020-05-15T12:02:11.491774Z"
    }
   },
   "outputs": [],
   "source": [
    "dict_user_feat, dict_user_age_level, dict_user_gender, dict_user_city_level = deal_user_feat_data(underexpose_user_feat)"
   ]
  },
  {
   "cell_type": "code",
   "execution_count": null,
   "metadata": {
    "ExecuteTime": {
     "end_time": "2020-05-15T12:02:21.016434Z",
     "start_time": "2020-05-15T12:02:20.985727Z"
    }
   },
   "outputs": [],
   "source": [
    "dict_user_feat[17]"
   ]
  },
  {
   "cell_type": "code",
   "execution_count": null,
   "metadata": {
    "ExecuteTime": {
     "end_time": "2020-05-15T12:02:29.773485Z",
     "start_time": "2020-05-15T12:02:29.743297Z"
    }
   },
   "outputs": [],
   "source": [
    "dict_user_age_level"
   ]
  },
  {
   "cell_type": "code",
   "execution_count": null,
   "metadata": {
    "ExecuteTime": {
     "end_time": "2020-05-15T12:02:38.516460Z",
     "start_time": "2020-05-15T12:02:38.487095Z"
    }
   },
   "outputs": [],
   "source": [
    "dict_user_gender"
   ]
  },
  {
   "cell_type": "code",
   "execution_count": null,
   "metadata": {
    "ExecuteTime": {
     "end_time": "2020-05-15T12:02:47.300518Z",
     "start_time": "2020-05-15T12:02:47.271183Z"
    }
   },
   "outputs": [],
   "source": [
    "dict_user_city_level"
   ]
  },
  {
   "cell_type": "markdown",
   "metadata": {},
   "source": [
    "## 商品画像数据处理"
   ]
  },
  {
   "cell_type": "code",
   "execution_count": null,
   "metadata": {},
   "outputs": [],
   "source": [
    "list_item_id = []\n",
    "list_txt_vec = []\n",
    "list_img_vec = []\n",
    "with open(\"../data/underexpose_train/underexpose_item_feat.csv\") as f:\n",
    "    for line in tqdm(f):\n",
    "        line_split = line.strip().split(',[')\n",
    "        list_item_id.append(line_split[0])\n",
    "        list_txt_vec.append(line_split[1].strip(']'))\n",
    "        list_img_vec.append(line_split[2].strip(']'))\n",
    "underexpose_item_feat = pd.DataFrame({\"item_id\":list_item_id,\"txt_vec\":list_txt_vec,\"img_vec\":list_img_vec})\n",
    "underexpose_item_feat = underexpose_item_feat[[\"item_id\", \"txt_vec\", \"img_vec\"]]"
   ]
  },
  {
   "cell_type": "code",
   "execution_count": null,
   "metadata": {
    "ExecuteTime": {
     "end_time": "2020-05-15T12:02:56.436074Z",
     "start_time": "2020-05-15T12:02:56.404477Z"
    }
   },
   "outputs": [],
   "source": [
    "underexpose_item_feat.head()"
   ]
  },
  {
   "cell_type": "code",
   "execution_count": null,
   "metadata": {
    "ExecuteTime": {
     "end_time": "2020-05-15T12:03:05.639218Z",
     "start_time": "2020-05-15T12:03:05.603560Z"
    }
   },
   "outputs": [],
   "source": [
    "def deal_item_feat_data(item_feat_data):\n",
    "    dict_item_feat = {}\n",
    "    for i,row in tqdm(item_feat_data.iterrows()):    \n",
    "        item_id, txt_vec, img_vec = int(row[\"item_id\"]), [float(x_) for x_ in row[\"txt_vec\"].split(\",\")], [float(x_) for x_ in row[\"img_vec\"].split(\",\")]   \n",
    "        if item_id not in dict_item_feat:\n",
    "            dict_item_feat[item_id] = {}\n",
    "        dict_item_feat[item_id][\"txt_vec\"] = txt_vec\n",
    "        dict_item_feat[item_id][\"img_vec\"] = img_vec\n",
    "    return dict_item_feat"
   ]
  },
  {
   "cell_type": "code",
   "execution_count": null,
   "metadata": {
    "ExecuteTime": {
     "end_time": "2020-05-15T12:03:50.636827Z",
     "start_time": "2020-05-15T12:03:16.912369Z"
    }
   },
   "outputs": [],
   "source": [
    "dict_item_feat = deal_item_feat_data(underexpose_item_feat)"
   ]
  },
  {
   "cell_type": "code",
   "execution_count": null,
   "metadata": {
    "ExecuteTime": {
     "end_time": "2020-05-15T12:09:17.257269Z",
     "start_time": "2020-05-15T12:09:17.218908Z"
    }
   },
   "outputs": [],
   "source": [
    "dict_item_feat[1]"
   ]
  },
  {
   "cell_type": "code",
   "execution_count": null,
   "metadata": {},
   "outputs": [],
   "source": []
  },
  {
   "cell_type": "markdown",
   "metadata": {},
   "source": [
    "# id 转化为embeeding特征"
   ]
  },
  {
   "cell_type": "markdown",
   "metadata": {},
   "source": [
    "## user_id, item_id 特征"
   ]
  },
  {
   "cell_type": "code",
   "execution_count": null,
   "metadata": {
    "ExecuteTime": {
     "end_time": "2020-05-15T12:10:08.615099Z",
     "start_time": "2020-05-15T12:10:08.573750Z"
    }
   },
   "outputs": [],
   "source": [
    "def get_node_user_item(underexpose_train_click, underexpose_test_click):\n",
    "    list_user_id = []\n",
    "    list_item_id = []\n",
    "    list_index_user_id = []\n",
    "    list_index_item_id = []\n",
    "    list_score = []\n",
    "    index_user_id = 0\n",
    "    index_item_id = 0\n",
    "    dict_user_id = {}\n",
    "    dict_item_id = {}\n",
    "    list_underexpose_click = [underexpose_train_click, underexpose_test_click]\n",
    "    for underexpose_click in list_underexpose_click:\n",
    "        for i,row in tqdm(underexpose_click.iterrows()):\n",
    "            user_id, item_id, time, phase = int(row[\"user_id\"]), int(row[\"item_id\"]), float(row[\"time\"]), int(row[\"phase\"])\n",
    "            if item_id > 0:\n",
    "                list_user_id.append(user_id)\n",
    "                list_item_id.append(item_id)\n",
    "                list_score.append(1)\n",
    "                if user_id not in dict_user_id:\n",
    "                    dict_user_id[user_id] = index_user_id\n",
    "                    index_user_id += 1\n",
    "                list_index_user_id.append(dict_user_id[user_id])\n",
    "                if item_id not in dict_item_id:\n",
    "                    dict_item_id[item_id] = index_item_id\n",
    "                    index_item_id += 1\n",
    "                list_index_item_id.append(dict_item_id[item_id])\n",
    "    node_user_item = pd.DataFrame({\"user_id\":list_user_id, \"item_id\":list_item_id, \"score\":list_score, \"index_user_id\":list_index_user_id, \"index_item_id\":list_index_item_id})\n",
    "    node_user_item = node_user_item.groupby([\"user_id\", \"item_id\", \"index_user_id\", \"index_item_id\"])[\"score\"].sum().reset_index()\n",
    "    node_user_item.columns = [\"user_id\", \"item_id\", \"index_user_id\", \"index_item_id\", \"score\"]\n",
    "    return node_user_item, dict_user_id, dict_item_id"
   ]
  },
  {
   "cell_type": "code",
   "execution_count": null,
   "metadata": {
    "ExecuteTime": {
     "start_time": "2020-05-15T12:09:07.382Z"
    }
   },
   "outputs": [],
   "source": [
    "node_user_item, dict_user_id, dict_item_id = get_node_user_item(underexpose_train_click, underexpose_test_click)"
   ]
  },
  {
   "cell_type": "markdown",
   "metadata": {},
   "source": [
    "### 探索数据"
   ]
  },
  {
   "cell_type": "code",
   "execution_count": 13,
   "metadata": {},
   "outputs": [
    {
     "ename": "NameError",
     "evalue": "name 'node_user_item' is not defined",
     "output_type": "error",
     "traceback": [
      "\u001b[1;31m---------------------------------------------------------------------------\u001b[0m",
      "\u001b[1;31mNameError\u001b[0m                                 Traceback (most recent call last)",
      "\u001b[1;32m<ipython-input-13-4bb43cb1615b>\u001b[0m in \u001b[0;36m<module>\u001b[1;34m\u001b[0m\n\u001b[1;32m----> 1\u001b[1;33m \u001b[0mnode_user_item\u001b[0m\u001b[1;33m.\u001b[0m\u001b[0mindex_user_id\u001b[0m\u001b[1;33m.\u001b[0m\u001b[0mmin\u001b[0m\u001b[1;33m(\u001b[0m\u001b[1;33m)\u001b[0m\u001b[1;33m\u001b[0m\u001b[1;33m\u001b[0m\u001b[0m\n\u001b[0m",
      "\u001b[1;31mNameError\u001b[0m: name 'node_user_item' is not defined"
     ]
    }
   ],
   "source": [
    "node_user_item.index_user_id.min()"
   ]
  },
  {
   "cell_type": "code",
   "execution_count": null,
   "metadata": {},
   "outputs": [],
   "source": [
    "node_user_item.index_user_id.max()"
   ]
  },
  {
   "cell_type": "code",
   "execution_count": null,
   "metadata": {},
   "outputs": [],
   "source": [
    "node_user_item.index_item_id.min()"
   ]
  },
  {
   "cell_type": "code",
   "execution_count": null,
   "metadata": {},
   "outputs": [],
   "source": [
    "node_user_item.index_item_id.max()"
   ]
  },
  {
   "cell_type": "markdown",
   "metadata": {},
   "source": [
    "### underexpose_user_feat 用户画像只覆盖部分用户"
   ]
  },
  {
   "cell_type": "markdown",
   "metadata": {},
   "source": [
    "训练集中有的用户 和 用户画像 共有"
   ]
  },
  {
   "cell_type": "code",
   "execution_count": null,
   "metadata": {},
   "outputs": [],
   "source": [
    "len((set(underexpose_test_click.user_id.astype(str)) |\n",
    "    set(underexpose_train_click.user_id.astype(str)))\n",
    "    & set(underexpose_user_feat.user_id.astype(str)))"
   ]
  },
  {
   "cell_type": "markdown",
   "metadata": {},
   "source": [
    "训练集中有的用户 有 和 用户画像 没有"
   ]
  },
  {
   "cell_type": "code",
   "execution_count": null,
   "metadata": {},
   "outputs": [],
   "source": [
    "len((set(underexpose_test_click.user_id.astype(str)) |\n",
    "    set(underexpose_train_click.user_id.astype(str))) \n",
    "    - set(underexpose_user_feat.user_id.astype(str)))"
   ]
  },
  {
   "cell_type": "markdown",
   "metadata": {},
   "source": [
    "训练集中有的用户 没有 和 用户画像 有"
   ]
  },
  {
   "cell_type": "code",
   "execution_count": null,
   "metadata": {},
   "outputs": [],
   "source": [
    "len(set(underexpose_user_feat.user_id.astype(str)) \n",
    "    - (set(underexpose_test_click.user_id.astype(str)) |\n",
    "    set(underexpose_train_click.user_id.astype(str))))"
   ]
  },
  {
   "cell_type": "markdown",
   "metadata": {},
   "source": [
    "### underexpose_item_feat 商品画像只覆盖部分商品"
   ]
  },
  {
   "cell_type": "markdown",
   "metadata": {},
   "source": [
    "训练集中有的商品 和 商品画像 共有"
   ]
  },
  {
   "cell_type": "code",
   "execution_count": null,
   "metadata": {},
   "outputs": [],
   "source": [
    "len((set(underexpose_test_click.item_id.astype(str)) |\n",
    "    set(underexpose_train_click.item_id.astype(str)))\n",
    "    & set(underexpose_item_feat.item_id.astype(str)))"
   ]
  },
  {
   "cell_type": "markdown",
   "metadata": {},
   "source": [
    "训练集中有的商品 有 和 商品画像 没有"
   ]
  },
  {
   "cell_type": "code",
   "execution_count": null,
   "metadata": {},
   "outputs": [],
   "source": [
    "len((set(underexpose_test_click.item_id.astype(str)) |\n",
    "    set(underexpose_train_click.item_id.astype(str))) \n",
    "    - set(underexpose_item_feat.item_id.astype(str)))"
   ]
  },
  {
   "cell_type": "markdown",
   "metadata": {},
   "source": [
    "训练集中有的商品 没有 和 商品画像 有"
   ]
  },
  {
   "cell_type": "code",
   "execution_count": null,
   "metadata": {},
   "outputs": [],
   "source": [
    "len(set(underexpose_item_feat.item_id.astype(str)) \n",
    "    - (set(underexpose_test_click.item_id.astype(str)) |\n",
    "    set(underexpose_train_click.item_id.astype(str))))"
   ]
  },
  {
   "cell_type": "markdown",
   "metadata": {},
   "source": [
    "# 导入tensorflow"
   ]
  },
  {
   "cell_type": "code",
   "execution_count": null,
   "metadata": {},
   "outputs": [],
   "source": [
    "import tensorflow.compat.v1 as tf\n",
    "tf.disable_v2_behavior()"
   ]
  },
  {
   "cell_type": "markdown",
   "metadata": {},
   "source": [
    "## 矩阵分解 图算法 Word2Vec FM"
   ]
  },
  {
   "cell_type": "markdown",
   "metadata": {},
   "source": [
    "## 矩阵分解"
   ]
  },
  {
   "cell_type": "code",
   "execution_count": null,
   "metadata": {},
   "outputs": [],
   "source": [
    "class Decompose:\n",
    "    def __init__(self\n",
    "                 ,size_user_id\n",
    "                 ,size_item_id\n",
    "                 ,embedding_size\n",
    "                 ,learning_rate\n",
    "                ):\n",
    "        self.size_user_id = size_user_id+1\n",
    "        self.size_item_id = size_item_id+1\n",
    "        self.embedding_size = 128\n",
    "        self.learning_rate = learning_rate\n",
    "        self.model()\n",
    "        self.sess = tf.InteractiveSession()\n",
    "        self.saver = tf.train.Saver()\n",
    "\n",
    "    def model(self):\n",
    "        self.input_user_id = tf.placeholder(dtype=tf.int32, shape=[None])\n",
    "        self.input_item_id = tf.placeholder(dtype=tf.int32, shape=[None])\n",
    "        self.input_score = tf.placeholder(dtype=tf.float32, shape=[None])\n",
    "\n",
    "        self.variable_user_id = tf.Variable(tf.random_uniform([self.size_user_id, self.embedding_size], -1.0, 1.0), name=\"variable_user_id\")\n",
    "        self.variable_item_id = tf.Variable(tf.random_uniform([self.size_item_id, self.embedding_size], -1.0, 1.0), name=\"variable_item_id\")\n",
    "\n",
    "        self.embeeding_user_id = tf.nn.embedding_lookup(self.variable_user_id, self.input_user_id)\n",
    "        self.embeeding_item_id = tf.nn.embedding_lookup(self.variable_item_id, self.input_item_id)\n",
    "\n",
    "        self.output_score = tf.reduce_sum(self.embeeding_user_id * self.embeeding_item_id, axis=1)\n",
    "        self.loss = tf.reduce_mean((self.input_score-self.output_score) ** 2)\n",
    "\n",
    "        self.optimizer = tf.train.GradientDescentOptimizer(self.learning_rate).minimize(self.loss)\n",
    "\n",
    "    def initializer(self):\n",
    "        self.sess.run(tf.global_variables_initializer())\n",
    "        \n",
    "    def train(self, feed_dict):\n",
    "        return self.sess.run([self.loss, self.optimizer], feed_dict)\n",
    "        \n",
    "    def loss(self, feed_dict):\n",
    "        return self.sess.run(self.loss, feed_dict)\n",
    "\n",
    "    def get_embeeding_user_id(self, feed_dict):\n",
    "        return self.sess.run(self.embeeding_user_id, feed_dict)\n",
    "        \n",
    "    def get_embeeding_item_id(self, feed_dict):\n",
    "        return self.sess.run(self.embeeding_item_id, feed_dict)\n",
    "        \n",
    "    def save(self, model_name):\n",
    "        self.saver.save(self.sess, \"./tf_model/\"+model_name)\n",
    "    \n",
    "    def load(self, model_name):\n",
    "        self.saver.restore(self.sess, \"./tf_model/\"+model_name)"
   ]
  },
  {
   "cell_type": "code",
   "execution_count": null,
   "metadata": {},
   "outputs": [],
   "source": [
    "size_user_id = node_user_item.index_user_id.max()\n",
    "size_item_id = node_user_item.index_item_id.max()\n",
    "embedding_size = 128\n",
    "learning_rate = 0.03"
   ]
  },
  {
   "cell_type": "code",
   "execution_count": null,
   "metadata": {},
   "outputs": [],
   "source": [
    "decompose = Decompose(\n",
    "                  size_user_id=size_user_id\n",
    "                 ,size_item_id=size_item_id\n",
    "                 ,embedding_size=embedding_size\n",
    "                 ,learning_rate=learning_rate\n",
    "                )\n",
    "decompose.initializer()"
   ]
  },
  {
   "cell_type": "code",
   "execution_count": null,
   "metadata": {},
   "outputs": [],
   "source": [
    "decompose.load(\"decompose.model05\")"
   ]
  },
  {
   "cell_type": "code",
   "execution_count": null,
   "metadata": {},
   "outputs": [],
   "source": [
    "node_user_item.head()"
   ]
  },
  {
   "cell_type": "code",
   "execution_count": null,
   "metadata": {},
   "outputs": [],
   "source": [
    "set_index_user_id = set(node_user_item[\"index_user_id\"])\n",
    "set_index_item_id = set(node_user_item[\"index_item_id\"])\n",
    "# set_index_user_id_item_id = set([str(index_user_id)+\"-\"+str(index_item_id) for (index_user_id, index_item_id) in zip(node_user_item[\"index_user_id\"], node_user_item[\"index_item_id\"])])\n",
    "set_index_user_id_index_item_id = set(zip(node_user_item[\"index_user_id\"], node_user_item[\"index_item_id\"]))"
   ]
  },
  {
   "cell_type": "code",
   "execution_count": null,
   "metadata": {},
   "outputs": [],
   "source": [
    "# (17811, 732) in set_index_user_id_item_id"
   ]
  },
  {
   "cell_type": "code",
   "execution_count": null,
   "metadata": {},
   "outputs": [],
   "source": [
    "import random"
   ]
  },
  {
   "cell_type": "code",
   "execution_count": null,
   "metadata": {},
   "outputs": [],
   "source": [
    "size_item_id"
   ]
  },
  {
   "cell_type": "code",
   "execution_count": null,
   "metadata": {},
   "outputs": [],
   "source": [
    "size_user_id"
   ]
  },
  {
   "cell_type": "code",
   "execution_count": null,
   "metadata": {},
   "outputs": [],
   "source": [
    "random.sample(set_index_item_id, 5)"
   ]
  },
  {
   "cell_type": "code",
   "execution_count": null,
   "metadata": {},
   "outputs": [],
   "source": [
    "sample_num = 5\n",
    "epoch_num = 10"
   ]
  },
  {
   "cell_type": "code",
   "execution_count": null,
   "metadata": {},
   "outputs": [],
   "source": [
    "len(set_index_user_id_index_item_id)"
   ]
  },
  {
   "cell_type": "code",
   "execution_count": null,
   "metadata": {},
   "outputs": [],
   "source": [
    "index = 0\n",
    "n = 1000\n",
    "# max_index = 1000"
   ]
  },
  {
   "cell_type": "code",
   "execution_count": null,
   "metadata": {},
   "outputs": [],
   "source": [
    "log_file = open('./temp/log/decompose.log','w')"
   ]
  },
  {
   "cell_type": "code",
   "execution_count": null,
   "metadata": {},
   "outputs": [],
   "source": [
    "for epoch in tqdm(range(epoch_num)):\n",
    "    for (index_user_id, index_item_id) in set_index_user_id_index_item_id:\n",
    "        list_input_user_id = []\n",
    "        list_input_item_id = []\n",
    "        list_input_score = []\n",
    "\n",
    "        list_input_user_id.append(index_user_id)\n",
    "        list_input_item_id.append(index_item_id)\n",
    "        list_input_score.append(1)\n",
    "\n",
    "        for sample_index_item_id in random.sample(set_index_item_id, sample_num):\n",
    "            if (index_item_id, sample_index_item_id) not in set_index_user_id_index_item_id:\n",
    "                list_input_user_id.append(index_user_id)\n",
    "                list_input_item_id.append(sample_index_item_id)\n",
    "                list_input_score.append(0)\n",
    "\n",
    "        for sample_index_user_id in random.sample(set_index_user_id, sample_num):\n",
    "            if (sample_index_user_id, index_item_id) not in set_index_user_id_index_item_id:\n",
    "                list_input_user_id.append(sample_index_user_id)\n",
    "                list_input_item_id.append(index_item_id)\n",
    "                list_input_score.append(0)   \n",
    "\n",
    "        feed_dict = {\n",
    "            decompose.input_user_id:list_input_user_id,\n",
    "            decompose.input_item_id:list_input_item_id,\n",
    "            decompose.input_score:list_input_score\n",
    "        }\n",
    "        loss, optimizer = decompose.train(feed_dict)\n",
    "        index += 1\n",
    "        if index % n == 0:\n",
    "            log_file.write(\"epoch : \" + str(epoch) +\", index : \" + str(index) + \", loss :\" + str(loss) + \"\\n\")\n",
    "            log_file.flush()\n",
    "# decompose.save(\"decompose.model\")"
   ]
  },
  {
   "cell_type": "code",
   "execution_count": null,
   "metadata": {},
   "outputs": [],
   "source": []
  },
  {
   "cell_type": "code",
   "execution_count": null,
   "metadata": {},
   "outputs": [],
   "source": [
    "for epoch in tqdm(range(1)):\n",
    "    for (index_user_id, index_item_id) in random.sample(set_index_user_id_index_item_id, 20):\n",
    "        list_input_user_id = []\n",
    "        list_input_item_id = []\n",
    "        list_input_score = []\n",
    "\n",
    "#         list_input_user_id.append(index_user_id)\n",
    "#         list_input_item_id.append(index_item_id)\n",
    "#         list_input_score.append(1)\n",
    "\n",
    "        for sample_index_item_id in random.sample(set_index_item_id, sample_num):\n",
    "            if (index_item_id, sample_index_item_id) not in set_index_user_id_index_item_id:\n",
    "                list_input_user_id.append(index_user_id)\n",
    "                list_input_item_id.append(sample_index_item_id)\n",
    "                list_input_score.append(0)\n",
    "\n",
    "        for sample_index_user_id in random.sample(set_index_user_id, sample_num):\n",
    "            if (sample_index_user_id, index_item_id) not in set_index_user_id_index_item_id:\n",
    "                list_input_user_id.append(sample_index_user_id)\n",
    "                list_input_item_id.append(index_item_id)\n",
    "                list_input_score.append(0)   \n",
    "\n",
    "        feed_dict = {\n",
    "            decompose.input_user_id:list_input_user_id,\n",
    "            decompose.input_item_id:list_input_item_id,\n",
    "            decompose.input_score:list_input_score\n",
    "        }\n",
    "        print(list_input_score)\n",
    "        loss, optimizer = decompose.train(feed_dict)\n",
    "        print(loss)\n",
    "        \n",
    "        list_input_user_id = []\n",
    "        list_input_item_id = []\n",
    "        list_input_score = []\n",
    "        \n",
    "        list_input_user_id.append(index_user_id)\n",
    "        list_input_item_id.append(index_item_id)\n",
    "        list_input_score.append(1)\n",
    "        \n",
    "        feed_dict = {\n",
    "            decompose.input_user_id:list_input_user_id,\n",
    "            decompose.input_item_id:list_input_item_id,\n",
    "            decompose.input_score:list_input_score\n",
    "        }\n",
    "        print(list_input_score)\n",
    "        loss, optimizer = decompose.train(feed_dict)\n",
    "        print(loss)  \n",
    "\n",
    "#         index += 1\n",
    "        \n",
    "#         if index > 20:\n",
    "#             break\n",
    "#         if index % n == 0:\n",
    "#             log_file.write(\"epoch : \" + str(epoch) +\", index : \" + str(index) + \", loss :\" + str(loss) + \"\\n\")\n",
    "#             log_file.flush()\n",
    "#         break"
   ]
  },
  {
   "cell_type": "code",
   "execution_count": null,
   "metadata": {},
   "outputs": [],
   "source": []
  },
  {
   "cell_type": "code",
   "execution_count": null,
   "metadata": {},
   "outputs": [],
   "source": []
  },
  {
   "cell_type": "code",
   "execution_count": null,
   "metadata": {},
   "outputs": [],
   "source": [
    "# decompose.save(\"decompose.model05\")"
   ]
  },
  {
   "cell_type": "code",
   "execution_count": null,
   "metadata": {},
   "outputs": [],
   "source": [
    "# decompose.save(\"decompose.model\")"
   ]
  },
  {
   "cell_type": "code",
   "execution_count": null,
   "metadata": {},
   "outputs": [],
   "source": [
    "# user_id\titem_id\tindex_user_id\tindex_item_id\tscore"
   ]
  },
  {
   "cell_type": "markdown",
   "metadata": {},
   "source": [
    "## 抽取user_id的embeeding"
   ]
  },
  {
   "cell_type": "code",
   "execution_count": 14,
   "metadata": {
    "scrolled": true
   },
   "outputs": [
    {
     "ename": "NameError",
     "evalue": "name 'node_user_item' is not defined",
     "output_type": "error",
     "traceback": [
      "\u001b[1;31m---------------------------------------------------------------------------\u001b[0m",
      "\u001b[1;31mNameError\u001b[0m                                 Traceback (most recent call last)",
      "\u001b[1;32m<ipython-input-14-bfdc4016d3ca>\u001b[0m in \u001b[0;36m<module>\u001b[1;34m\u001b[0m\n\u001b[1;32m----> 1\u001b[1;33m \u001b[0mdict_index_user_id_to_user_id\u001b[0m \u001b[1;33m=\u001b[0m \u001b[0mdict\u001b[0m\u001b[1;33m(\u001b[0m\u001b[0mzip\u001b[0m\u001b[1;33m(\u001b[0m\u001b[0mnode_user_item\u001b[0m\u001b[1;33m.\u001b[0m\u001b[0mindex_user_id\u001b[0m\u001b[1;33m,\u001b[0m\u001b[0mnode_user_item\u001b[0m\u001b[1;33m.\u001b[0m\u001b[0muser_id\u001b[0m\u001b[1;33m)\u001b[0m\u001b[1;33m)\u001b[0m\u001b[1;33m\u001b[0m\u001b[1;33m\u001b[0m\u001b[0m\n\u001b[0m\u001b[0;32m      2\u001b[0m \u001b[0mdict_user_id_embeeding\u001b[0m \u001b[1;33m=\u001b[0m \u001b[1;33m{\u001b[0m\u001b[1;33m}\u001b[0m\u001b[1;33m\u001b[0m\u001b[1;33m\u001b[0m\u001b[0m\n\u001b[0;32m      3\u001b[0m \u001b[1;32mfor\u001b[0m \u001b[0mindex_user_id\u001b[0m \u001b[1;32min\u001b[0m \u001b[0mset_index_user_id\u001b[0m\u001b[1;33m:\u001b[0m\u001b[1;33m\u001b[0m\u001b[1;33m\u001b[0m\u001b[0m\n\u001b[0;32m      4\u001b[0m     \u001b[0muser_id_embeeding\u001b[0m \u001b[1;33m=\u001b[0m \u001b[0mdecompose\u001b[0m\u001b[1;33m.\u001b[0m\u001b[0mget_embeeding_user_id\u001b[0m\u001b[1;33m(\u001b[0m\u001b[0mfeed_dict\u001b[0m\u001b[1;33m=\u001b[0m\u001b[1;33m{\u001b[0m\u001b[0mdecompose\u001b[0m\u001b[1;33m.\u001b[0m\u001b[0minput_user_id\u001b[0m\u001b[1;33m:\u001b[0m\u001b[1;33m[\u001b[0m\u001b[0mindex_user_id\u001b[0m\u001b[1;33m]\u001b[0m\u001b[1;33m}\u001b[0m\u001b[1;33m)\u001b[0m\u001b[1;33m\u001b[0m\u001b[1;33m\u001b[0m\u001b[0m\n\u001b[0;32m      5\u001b[0m     \u001b[0mdict_user_id_embeeding\u001b[0m\u001b[1;33m[\u001b[0m\u001b[0mdict_index_user_id_to_user_id\u001b[0m\u001b[1;33m[\u001b[0m\u001b[0mindex_user_id\u001b[0m\u001b[1;33m]\u001b[0m\u001b[1;33m]\u001b[0m \u001b[1;33m=\u001b[0m \u001b[0muser_id_embeeding\u001b[0m\u001b[1;33m[\u001b[0m\u001b[1;36m0\u001b[0m\u001b[1;33m]\u001b[0m\u001b[1;33m\u001b[0m\u001b[1;33m\u001b[0m\u001b[0m\n",
      "\u001b[1;31mNameError\u001b[0m: name 'node_user_item' is not defined"
     ]
    }
   ],
   "source": [
    "dict_index_user_id_to_user_id = dict(zip(node_user_item.index_user_id,node_user_item.user_id))\n",
    "dict_user_id_embeeding = {}\n",
    "for index_user_id in set_index_user_id:\n",
    "    user_id_embeeding = decompose.get_embeeding_user_id(feed_dict={decompose.input_user_id:[index_user_id]})\n",
    "    dict_user_id_embeeding[dict_index_user_id_to_user_id[index_user_id]] = user_id_embeeding[0]"
   ]
  },
  {
   "cell_type": "code",
   "execution_count": null,
   "metadata": {},
   "outputs": [],
   "source": [
    "def save_embeeding(dict_embeeding, file_name):\n",
    "    with open(file_name,'w') as f:\n",
    "        for k in tqdm(dict_embeeding.keys()):\n",
    "            embeeding = ','.join([str(x_) for x_ in dict_embeeding[k]])\n",
    "            f.write(str(k)+','+embeeding+'\\n')"
   ]
  },
  {
   "cell_type": "code",
   "execution_count": null,
   "metadata": {},
   "outputs": [],
   "source": [
    "# dict_user_id_embeeding[11]"
   ]
  },
  {
   "cell_type": "code",
   "execution_count": null,
   "metadata": {},
   "outputs": [],
   "source": [
    "save_embeeding(dict_user_id_embeeding, './embeeding/embeeding_user_id.txt')"
   ]
  },
  {
   "cell_type": "code",
   "execution_count": null,
   "metadata": {},
   "outputs": [],
   "source": [
    "# dict_user_id_embeeding."
   ]
  },
  {
   "cell_type": "markdown",
   "metadata": {},
   "source": [
    "## 抽取item_id的embeeding"
   ]
  },
  {
   "cell_type": "code",
   "execution_count": null,
   "metadata": {},
   "outputs": [],
   "source": [
    "dict_index_item_id_to_item_id = dict(zip(node_user_item.index_item_id,node_user_item.item_id))\n",
    "dict_item_id_embeeding = {}\n",
    "for index_item_id in set_index_item_id:\n",
    "    item_id_embeeding = decompose.get_embeeding_item_id(feed_dict={decompose.input_item_id:[index_item_id]})\n",
    "    dict_item_id_embeeding[dict_index_item_id_to_item_id[index_item_id]] = item_id_embeeding[0]"
   ]
  },
  {
   "cell_type": "code",
   "execution_count": null,
   "metadata": {},
   "outputs": [],
   "source": [
    "save_embeeding(dict_item_id_embeeding, './embeeding/embeeding_item_id.txt')"
   ]
  },
  {
   "cell_type": "code",
   "execution_count": null,
   "metadata": {},
   "outputs": [],
   "source": [
    "# !head ./embeeding/embeeding_item_id.txt"
   ]
  },
  {
   "cell_type": "code",
   "execution_count": null,
   "metadata": {},
   "outputs": [],
   "source": [
    "# !head ./embeeding/embeeding_user_id.txt"
   ]
  },
  {
   "cell_type": "code",
   "execution_count": null,
   "metadata": {},
   "outputs": [],
   "source": [
    "dict_item_id_embeeding[18]"
   ]
  },
  {
   "cell_type": "code",
   "execution_count": null,
   "metadata": {},
   "outputs": [],
   "source": []
  },
  {
   "cell_type": "code",
   "execution_count": null,
   "metadata": {},
   "outputs": [],
   "source": [
    "node_user_item.head()"
   ]
  },
  {
   "cell_type": "code",
   "execution_count": null,
   "metadata": {},
   "outputs": [],
   "source": [
    "node_user_item.sample(10)"
   ]
  },
  {
   "cell_type": "code",
   "execution_count": null,
   "metadata": {},
   "outputs": [],
   "source": [
    "for i, row in node_user_item.sample(30).iterrows():\n",
    "    item_id = int(row[\"item_id\"])\n",
    "    user_id = int(row[\"user_id\"])\n",
    "    score1 = np.sum(dict_user_id_embeeding[user_id] * dict_item_id_embeeding[item_id])\n",
    "    \n",
    "    sample_item_id = int(node_user_item.sample(1)[\"item_id\"].values)\n",
    "    score2 = np.sum(dict_user_id_embeeding[user_id] * dict_item_id_embeeding[sample_item_id])\n",
    "    \n",
    "    sample_user_id = int(node_user_item.sample(1)[\"user_id\"].values)\n",
    "    score3 = np.sum(dict_user_id_embeeding[sample_user_id] * dict_item_id_embeeding[item_id])\n",
    "    \n",
    "    print(score1, score2, score3, np.argmax([score1, score2, score3]))\n",
    "    "
   ]
  },
  {
   "cell_type": "code",
   "execution_count": null,
   "metadata": {},
   "outputs": [],
   "source": [
    "# 保存 用户 和 商品特征"
   ]
  },
  {
   "cell_type": "code",
   "execution_count": null,
   "metadata": {},
   "outputs": [],
   "source": []
  },
  {
   "cell_type": "markdown",
   "metadata": {},
   "source": [
    "## LINE 分解"
   ]
  },
  {
   "cell_type": "code",
   "execution_count": null,
   "metadata": {
    "scrolled": true
   },
   "outputs": [],
   "source": [
    "# !./tool/LINE-master/linux/line"
   ]
  },
  {
   "cell_type": "code",
   "execution_count": null,
   "metadata": {},
   "outputs": [],
   "source": [
    "# !ls \"./line_model/\""
   ]
  },
  {
   "cell_type": "code",
   "execution_count": null,
   "metadata": {
    "scrolled": true
   },
   "outputs": [],
   "source": [
    "# node_user_item[[\"item_id\",\"user_id\",\"score\"]].to_csv(\"./line_model/net.txt\")"
   ]
  },
  {
   "cell_type": "code",
   "execution_count": null,
   "metadata": {},
   "outputs": [],
   "source": [
    "# !./tool/LINE-master/linux/line -train ./line_model/net.txt -output ./line_model/vec.txt -binary 1 -size 200 -order 2 -negative 5 -samples 100 -rho 0.025"
   ]
  },
  {
   "cell_type": "code",
   "execution_count": null,
   "metadata": {},
   "outputs": [],
   "source": [
    "# decompose.load(\"decompose.model\")"
   ]
  },
  {
   "cell_type": "code",
   "execution_count": null,
   "metadata": {},
   "outputs": [],
   "source": [
    "# !ls ./line_model/"
   ]
  },
  {
   "cell_type": "markdown",
   "metadata": {},
   "source": [
    "## 深度学习Baseline"
   ]
  },
  {
   "cell_type": "markdown",
   "metadata": {},
   "source": [
    "# 建模"
   ]
  },
  {
   "cell_type": "markdown",
   "metadata": {},
   "source": [
    "构建训练数据"
   ]
  },
  {
   "cell_type": "code",
   "execution_count": null,
   "metadata": {},
   "outputs": [],
   "source": [
    "underexpose_train_click.head()"
   ]
  },
  {
   "cell_type": "code",
   "execution_count": null,
   "metadata": {
    "scrolled": true
   },
   "outputs": [],
   "source": [
    "dict_train_user_phase_action[0][1]"
   ]
  },
  {
   "cell_type": "code",
   "execution_count": null,
   "metadata": {},
   "outputs": [],
   "source": [
    "underexpose_test_click.head()"
   ]
  },
  {
   "cell_type": "code",
   "execution_count": null,
   "metadata": {
    "scrolled": true
   },
   "outputs": [],
   "source": [
    "dict_test_user_phase_action[0][11]"
   ]
  },
  {
   "cell_type": "code",
   "execution_count": null,
   "metadata": {},
   "outputs": [],
   "source": [
    "len(dict_test_user_phase_action[0][11][\"item_seq\"]),len(dict_test_user_phase_action[0][11][\"diff_time_seq\"])"
   ]
  },
  {
   "cell_type": "code",
   "execution_count": null,
   "metadata": {
    "scrolled": true
   },
   "outputs": [],
   "source": [
    "[1,2,3][-1], [1,2,3][:-1]"
   ]
  },
  {
   "cell_type": "code",
   "execution_count": null,
   "metadata": {},
   "outputs": [],
   "source": [
    "([1,2,3] + [0])[:-1]"
   ]
  },
  {
   "cell_type": "code",
   "execution_count": null,
   "metadata": {},
   "outputs": [],
   "source": [
    "[1,2,3,4][:-3], [1,2,3,4][-3]"
   ]
  },
  {
   "cell_type": "code",
   "execution_count": null,
   "metadata": {},
   "outputs": [],
   "source": [
    "def get_train_test_data(\n",
    "            dict_train_user_phase_action\n",
    "            ,dict_test_user_phase_action\n",
    "            ,list_sep_last_num\n",
    "            ):\n",
    "    list_seq_last_num, list_flag, list_phase, list_user_id, list_item_seq, list_diff_time, list_item_seq_next = [], [], [], [], [], [], []\n",
    "    list_data = [(1, dict_train_user_phase_action), (0, dict_test_user_phase_action)]\n",
    "    for sep_last_num in list_sep_last_num:\n",
    "        for (flag, dict_user_phase_action) in list_data:\n",
    "            for phase in dict_user_phase_action.keys():\n",
    "                for user_id in dict_user_phase_action[phase].keys():\n",
    "                    if sep_last_num < len(dict_user_phase_action[phase][user_id][\"item_seq\"]):\n",
    "                        list_seq_last_num.append(sep_last_num)\n",
    "                        list_flag.append(flag)\n",
    "                        list_phase.append(phase)\n",
    "                        list_user_id.append(user_id)\n",
    "                        list_item_seq.append(dict_user_phase_action[phase][user_id][\"item_seq\"][:-sep_last_num])\n",
    "                        list_diff_time.append((dict_user_phase_action[phase][user_id][\"diff_time_seq\"]+[0])[:-sep_last_num])\n",
    "                        list_item_seq_next.append(dict_user_phase_action[phase][user_id][\"item_seq\"][-sep_last_num])\n",
    "    underexpose_train_test_data = pd.DataFrame()\n",
    "    underexpose_train_test_data[\"seq_last_num\"] = list_seq_last_num\n",
    "    underexpose_train_test_data[\"flag\"] = list_flag\n",
    "    underexpose_train_test_data[\"phase\"] = list_phase\n",
    "    underexpose_train_test_data[\"user_id\"] = list_user_id\n",
    "    underexpose_train_test_data[\"item_seq\"] = list_item_seq\n",
    "    underexpose_train_test_data[\"diff_time\"] = list_diff_time\n",
    "    underexpose_train_test_data[\"item_seq_next\"] = list_item_seq_next\n",
    "    underexpose_train_test_data[\"pred_if\"] = underexpose_train_test_data[\"item_seq_next\"].map(lambda x: 1 if x==-999 else 0)\n",
    "    return underexpose_train_test_data "
   ]
  },
  {
   "cell_type": "code",
   "execution_count": null,
   "metadata": {
    "scrolled": true
   },
   "outputs": [],
   "source": [
    "underexpose_train_test_data = get_train_test_data(\n",
    "                            dict_train_user_phase_action\n",
    "                            ,dict_test_user_phase_action \n",
    "                            ,list_sep_last_num=[1,2,3]\n",
    "                            )"
   ]
  },
  {
   "cell_type": "code",
   "execution_count": null,
   "metadata": {},
   "outputs": [],
   "source": [
    "underexpose_train_test_data.head()"
   ]
  },
  {
   "cell_type": "markdown",
   "metadata": {},
   "source": [
    "# 特征工程 + 辅助特征"
   ]
  },
  {
   "cell_type": "code",
   "execution_count": null,
   "metadata": {},
   "outputs": [],
   "source": [
    "underexpose_train_test_data_feat = underexpose_train_test_data.copy()"
   ]
  },
  {
   "cell_type": "code",
   "execution_count": null,
   "metadata": {
    "scrolled": true
   },
   "outputs": [],
   "source": [
    "underexpose_train_test_data_feat.head()"
   ]
  },
  {
   "cell_type": "code",
   "execution_count": null,
   "metadata": {},
   "outputs": [],
   "source": [
    "underexpose_train_test_data_feat[\"item_seq_num\"] = underexpose_train_test_data_feat[\"item_seq\"].map(lambda x:len(x))\n",
    "underexpose_train_test_data_feat[\"diff_time_max\"] = underexpose_train_test_data_feat[\"diff_time\"].map(lambda x:np.max(x))\n",
    "underexpose_train_test_data_feat[\"diff_time_min\"] = underexpose_train_test_data_feat[\"diff_time\"].map(lambda x:np.min(x))\n",
    "underexpose_train_test_data_feat[\"diff_time_mean\"] = underexpose_train_test_data_feat[\"diff_time\"].map(lambda x:np.mean(x))\n",
    "underexpose_train_test_data_feat[\"diff_time_std\"] = underexpose_train_test_data_feat[\"diff_time\"].map(lambda x:np.std(x))"
   ]
  },
  {
   "cell_type": "code",
   "execution_count": null,
   "metadata": {},
   "outputs": [],
   "source": [
    "def diff2_time(diff_time):\n",
    "    if len(diff_time) < 2:\n",
    "        return [0]\n",
    "    else:\n",
    "        diff2_time = []\n",
    "        for i in range(len(diff_time)-1):\n",
    "            diff2_time.append(diff_time[i+1]-diff_time[i])\n",
    "        return diff2_time"
   ]
  },
  {
   "cell_type": "code",
   "execution_count": null,
   "metadata": {},
   "outputs": [],
   "source": [
    "underexpose_train_test_data_feat[\"diff2_time\"] = underexpose_train_test_data_feat[\"diff_time\"].map(lambda x:diff2_time(x))"
   ]
  },
  {
   "cell_type": "code",
   "execution_count": 15,
   "metadata": {},
   "outputs": [
    {
     "ename": "NameError",
     "evalue": "name 'underexpose_train_test_data_feat' is not defined",
     "output_type": "error",
     "traceback": [
      "\u001b[1;31m---------------------------------------------------------------------------\u001b[0m",
      "\u001b[1;31mNameError\u001b[0m                                 Traceback (most recent call last)",
      "\u001b[1;32m<ipython-input-15-87fd0d52c78e>\u001b[0m in \u001b[0;36m<module>\u001b[1;34m\u001b[0m\n\u001b[1;32m----> 1\u001b[1;33m \u001b[0munderexpose_train_test_data_feat\u001b[0m\u001b[1;33m[\u001b[0m\u001b[1;34m\"diff2_time_max\"\u001b[0m\u001b[1;33m]\u001b[0m \u001b[1;33m=\u001b[0m \u001b[0munderexpose_train_test_data_feat\u001b[0m\u001b[1;33m[\u001b[0m\u001b[1;34m\"diff2_time\"\u001b[0m\u001b[1;33m]\u001b[0m\u001b[1;33m.\u001b[0m\u001b[0mmap\u001b[0m\u001b[1;33m(\u001b[0m\u001b[1;32mlambda\u001b[0m \u001b[0mx\u001b[0m\u001b[1;33m:\u001b[0m\u001b[0mnp\u001b[0m\u001b[1;33m.\u001b[0m\u001b[0mmax\u001b[0m\u001b[1;33m(\u001b[0m\u001b[0mx\u001b[0m\u001b[1;33m)\u001b[0m\u001b[1;33m)\u001b[0m\u001b[1;33m\u001b[0m\u001b[1;33m\u001b[0m\u001b[0m\n\u001b[0m\u001b[0;32m      2\u001b[0m \u001b[0munderexpose_train_test_data_feat\u001b[0m\u001b[1;33m[\u001b[0m\u001b[1;34m\"diff2_time_min\"\u001b[0m\u001b[1;33m]\u001b[0m \u001b[1;33m=\u001b[0m \u001b[0munderexpose_train_test_data_feat\u001b[0m\u001b[1;33m[\u001b[0m\u001b[1;34m\"diff2_time\"\u001b[0m\u001b[1;33m]\u001b[0m\u001b[1;33m.\u001b[0m\u001b[0mmap\u001b[0m\u001b[1;33m(\u001b[0m\u001b[1;32mlambda\u001b[0m \u001b[0mx\u001b[0m\u001b[1;33m:\u001b[0m\u001b[0mnp\u001b[0m\u001b[1;33m.\u001b[0m\u001b[0mmin\u001b[0m\u001b[1;33m(\u001b[0m\u001b[0mx\u001b[0m\u001b[1;33m)\u001b[0m\u001b[1;33m)\u001b[0m\u001b[1;33m\u001b[0m\u001b[1;33m\u001b[0m\u001b[0m\n\u001b[0;32m      3\u001b[0m \u001b[0munderexpose_train_test_data_feat\u001b[0m\u001b[1;33m[\u001b[0m\u001b[1;34m\"diff2_time_mean\"\u001b[0m\u001b[1;33m]\u001b[0m \u001b[1;33m=\u001b[0m \u001b[0munderexpose_train_test_data_feat\u001b[0m\u001b[1;33m[\u001b[0m\u001b[1;34m\"diff2_time\"\u001b[0m\u001b[1;33m]\u001b[0m\u001b[1;33m.\u001b[0m\u001b[0mmap\u001b[0m\u001b[1;33m(\u001b[0m\u001b[1;32mlambda\u001b[0m \u001b[0mx\u001b[0m\u001b[1;33m:\u001b[0m\u001b[0mnp\u001b[0m\u001b[1;33m.\u001b[0m\u001b[0mmean\u001b[0m\u001b[1;33m(\u001b[0m\u001b[0mx\u001b[0m\u001b[1;33m)\u001b[0m\u001b[1;33m)\u001b[0m\u001b[1;33m\u001b[0m\u001b[1;33m\u001b[0m\u001b[0m\n\u001b[0;32m      4\u001b[0m \u001b[0munderexpose_train_test_data_feat\u001b[0m\u001b[1;33m[\u001b[0m\u001b[1;34m\"diff2_time_std\"\u001b[0m\u001b[1;33m]\u001b[0m \u001b[1;33m=\u001b[0m \u001b[0munderexpose_train_test_data_feat\u001b[0m\u001b[1;33m[\u001b[0m\u001b[1;34m\"diff2_time\"\u001b[0m\u001b[1;33m]\u001b[0m\u001b[1;33m.\u001b[0m\u001b[0mmap\u001b[0m\u001b[1;33m(\u001b[0m\u001b[1;32mlambda\u001b[0m \u001b[0mx\u001b[0m\u001b[1;33m:\u001b[0m\u001b[0mnp\u001b[0m\u001b[1;33m.\u001b[0m\u001b[0mstd\u001b[0m\u001b[1;33m(\u001b[0m\u001b[0mx\u001b[0m\u001b[1;33m)\u001b[0m\u001b[1;33m)\u001b[0m\u001b[1;33m\u001b[0m\u001b[1;33m\u001b[0m\u001b[0m\n",
      "\u001b[1;31mNameError\u001b[0m: name 'underexpose_train_test_data_feat' is not defined"
     ]
    }
   ],
   "source": [
    "underexpose_train_test_data_feat[\"diff2_time_max\"] = underexpose_train_test_data_feat[\"diff2_time\"].map(lambda x:np.max(x))\n",
    "underexpose_train_test_data_feat[\"diff2_time_min\"] = underexpose_train_test_data_feat[\"diff2_time\"].map(lambda x:np.min(x))\n",
    "underexpose_train_test_data_feat[\"diff2_time_mean\"] = underexpose_train_test_data_feat[\"diff2_time\"].map(lambda x:np.mean(x))\n",
    "underexpose_train_test_data_feat[\"diff2_time_std\"] = underexpose_train_test_data_feat[\"diff2_time\"].map(lambda x:np.std(x))"
   ]
  },
  {
   "cell_type": "code",
   "execution_count": null,
   "metadata": {},
   "outputs": [],
   "source": [
    "def get_item_seq_similarity(item_seq, dict_item_id_embeeding):\n",
    "    item_seq_similarity = []\n",
    "    for i in range(len(item_seq)-1):\n",
    "        item_id_0 = item_seq[i]\n",
    "        item_id_1 = item_seq[i+1]\n",
    "        similarity = np.sum(dict_item_id_embeeding[item_id_0] * dict_item_id_embeeding[item_id_1]) / np.sqrt(np.sum(dict_item_id_embeeding[item_id_0]**2) * np.sum(dict_item_id_embeeding[item_id_1]**2))\n",
    "        item_seq_similarity.append(similarity)\n",
    "    return item_seq_similarity "
   ]
  },
  {
   "cell_type": "code",
   "execution_count": null,
   "metadata": {},
   "outputs": [],
   "source": [
    "underexpose_train_test_data_feat[\"item_seq_similarity\"] = underexpose_train_test_data_feat[\"item_seq\"].map(lambda x:get_item_seq_similarity(x,dict_item_id_embeeding))"
   ]
  },
  {
   "cell_type": "code",
   "execution_count": null,
   "metadata": {},
   "outputs": [],
   "source": []
  },
  {
   "cell_type": "code",
   "execution_count": null,
   "metadata": {},
   "outputs": [],
   "source": [
    "def get_user_item_seq_similarity(list_user_id, list_item_seq, dict_user_id_embeeding, dict_item_id_embeeding):\n",
    "    list_user_id_item_seq_similarity = []\n",
    "    for (user_id, item_seq) in zip(list_user_id, list_item_seq):\n",
    "        user_id_item_seq_similarity = []\n",
    "        for item_id in item_seq:\n",
    "            similarity = np.sum(dict_user_id_embeeding[user_id] * dict_item_id_embeeding[item_id]) / np.sqrt(np.sum(dict_user_id_embeeding[user_id]**2) * np.sum(dict_item_id_embeeding[item_id]**2))\n",
    "            user_id_item_seq_similarity.append(similarity)\n",
    "        list_user_id_item_seq_similarity.append(user_id_item_seq_similarity)\n",
    "    return list_user_id_item_seq_similarity"
   ]
  },
  {
   "cell_type": "code",
   "execution_count": null,
   "metadata": {},
   "outputs": [],
   "source": [
    "underexpose_train_test_data_feat[\"user_id_item_seq_similarity\"] = get_user_item_seq_similarity(\n",
    "                                                    underexpose_train_test_data_feat[\"user_id\"]\n",
    "                                                    ,underexpose_train_test_data_feat[\"item_seq\"]\n",
    "                                                    ,dict_user_id_embeeding\n",
    "                                                    ,dict_item_id_embeeding)"
   ]
  },
  {
   "cell_type": "code",
   "execution_count": null,
   "metadata": {},
   "outputs": [],
   "source": [
    "underexpose_train_test_data_feat.head().head()"
   ]
  },
  {
   "cell_type": "code",
   "execution_count": null,
   "metadata": {},
   "outputs": [],
   "source": [
    "underexpose_train_test_data_feat.columns"
   ]
  },
  {
   "cell_type": "code",
   "execution_count": null,
   "metadata": {},
   "outputs": [],
   "source": []
  },
  {
   "cell_type": "markdown",
   "metadata": {},
   "source": [
    "# 模型"
   ]
  },
  {
   "cell_type": "code",
   "execution_count": null,
   "metadata": {},
   "outputs": [],
   "source": []
  },
  {
   "cell_type": "code",
   "execution_count": null,
   "metadata": {},
   "outputs": [],
   "source": [
    "def get_train_data(dict_user_action, sep_last_num):\n",
    "    # user_id-sep_last_num, item_seq, diff_time_seq, item_seq_next\n",
    "    # sep_last_num = -1, -2, -3\n",
    "    list_index, list_user_id, list_item_seq, list_diff_time_seq, list_item_seq_next = [], [], [], [], []\n",
    "    for user_id in dict_user_action.keys():\n",
    "        if sep_last_num < len(dict_user_action[user_id][\"item_seq\"]):\n",
    "            list_index.append(str(user_id) + \"_\" + str(sep_last_num))\n",
    "            list_user_id.append(user_id)\n",
    "            list_item_seq.append(dict_user_action[user_id][\"item_seq\"][:-sep_last_num])\n",
    "            if 1-sep_last_num == 0:\n",
    "                list_diff_time_seq.append(dict_user_action[user_id][\"diff_time_seq\"][:])\n",
    "            else:\n",
    "                list_diff_time_seq.append(dict_user_action[user_id][\"diff_time_seq\"][:1-sep_last_num])\n",
    "            list_item_seq_next.append(dict_user_action[user_id][\"item_seq\"][-sep_last_num])\n",
    "    df_train_data = pd.DataFrame()\n",
    "    df_train_data[\"index\"], df_train_data[\"user_id\"], df_train_data[\"item_seq\"], df_train_data[\"diff_time_seq\"], df_train_data[\"item_seq_next\"] = list_index, list_user_id, list_item_seq, list_diff_time_seq, list_item_seq_next\n",
    "    return df_train_data"
   ]
  },
  {
   "cell_type": "code",
   "execution_count": null,
   "metadata": {},
   "outputs": [],
   "source": []
  },
  {
   "cell_type": "code",
   "execution_count": null,
   "metadata": {},
   "outputs": [],
   "source": [
    "def get_pred_data(dict_user_action_test_click, test_qtime):\n",
    "    # user_id-0, item_seq_diff_time_seq, pred_item_seq_next\n",
    "    list_user_id, list_query_time, list_item_seq, list_diff_time_seq = [], [], [], []\n",
    "    for i,row in test_qtime.iterrows(): \n",
    "        user_id, query_time = int(row[\"user_id\"]), float(row[\"query_time\"])\n",
    "        list_user_id.append(user_id)\n",
    "        list_query_time.append(query_time)\n",
    "        list_item_seq.append(dict_user_action_test_click[user_id][\"item_seq\"])\n",
    "        list_diff_time_seq.append(dict_user_action_test_click[user_id][\"diff_time_seq\"] + [(query_time-dict_user_action_test_click[user_id][\"time_seq\"][-1]) * 10**4])\n",
    "    df_test_data = pd.DataFrame()\n",
    "    df_test_data[\"user_id\"], df_test_data[\"query_time\"], df_test_data[\"item_seq\"], df_test_data[\"diff_time_seq\"] = list_user_id, list_query_time, list_item_seq, list_diff_time_seq\n",
    "    return df_test_data"
   ]
  },
  {
   "cell_type": "code",
   "execution_count": null,
   "metadata": {},
   "outputs": [],
   "source": []
  },
  {
   "cell_type": "code",
   "execution_count": null,
   "metadata": {},
   "outputs": [],
   "source": [
    "underexpose_test_click.sort_values(['user_id']).head()"
   ]
  },
  {
   "cell_type": "code",
   "execution_count": null,
   "metadata": {},
   "outputs": [],
   "source": [
    "underexpose_train_click.sort_values(['user_id']).head()"
   ]
  },
  {
   "cell_type": "code",
   "execution_count": null,
   "metadata": {},
   "outputs": [],
   "source": [
    "set(underexpose_train_click.user_id)-set(underexpose_user_feat.user_id)"
   ]
  },
  {
   "cell_type": "code",
   "execution_count": null,
   "metadata": {},
   "outputs": [],
   "source": [
    "node_user_item"
   ]
  },
  {
   "cell_type": "code",
   "execution_count": null,
   "metadata": {},
   "outputs": [],
   "source": []
  },
  {
   "cell_type": "code",
   "execution_count": null,
   "metadata": {},
   "outputs": [],
   "source": [
    "# underexpose_user_feat.user_id.max()"
   ]
  },
  {
   "cell_type": "code",
   "execution_count": null,
   "metadata": {},
   "outputs": [],
   "source": []
  },
  {
   "cell_type": "code",
   "execution_count": null,
   "metadata": {},
   "outputs": [],
   "source": [
    "pd.DataFrame"
   ]
  },
  {
   "cell_type": "code",
   "execution_count": null,
   "metadata": {},
   "outputs": [],
   "source": [
    "underexpose_train_click.head()"
   ]
  },
  {
   "cell_type": "code",
   "execution_count": null,
   "metadata": {},
   "outputs": [],
   "source": [
    "underexpose_test_click.head()"
   ]
  },
  {
   "cell_type": "code",
   "execution_count": null,
   "metadata": {},
   "outputs": [],
   "source": []
  },
  {
   "cell_type": "markdown",
   "metadata": {},
   "source": [
    "# 建模"
   ]
  },
  {
   "cell_type": "markdown",
   "metadata": {},
   "source": [
    "构建训练数据"
   ]
  },
  {
   "cell_type": "code",
   "execution_count": null,
   "metadata": {},
   "outputs": [],
   "source": [
    "def get_train_data(dict_user_action, sep_last_num):\n",
    "    # user_id-sep_last_num, item_seq, diff_time_seq, item_seq_next\n",
    "    # sep_last_num = -1, -2, -3\n",
    "    list_index, list_user_id, list_item_seq, list_diff_time_seq, list_item_seq_next = [], [], [], [], []\n",
    "    for user_id in dict_user_action.keys():\n",
    "        if sep_last_num < len(dict_user_action[user_id][\"item_seq\"]):\n",
    "            list_index.append(str(user_id) + \"_\" + str(sep_last_num))\n",
    "            list_user_id.append(user_id)\n",
    "            list_item_seq.append(dict_user_action[user_id][\"item_seq\"][:-sep_last_num])\n",
    "            if 1-sep_last_num == 0:\n",
    "                list_diff_time_seq.append(dict_user_action[user_id][\"diff_time_seq\"][:])\n",
    "            else:\n",
    "                list_diff_time_seq.append(dict_user_action[user_id][\"diff_time_seq\"][:1-sep_last_num])\n",
    "            list_item_seq_next.append(dict_user_action[user_id][\"item_seq\"][-sep_last_num])\n",
    "    df_train_data = pd.DataFrame()\n",
    "    df_train_data[\"index\"], df_train_data[\"user_id\"], df_train_data[\"item_seq\"], df_train_data[\"diff_time_seq\"], df_train_data[\"item_seq_next\"] = list_index, list_user_id, list_item_seq, list_diff_time_seq, list_item_seq_next\n",
    "    return df_train_data"
   ]
  },
  {
   "cell_type": "code",
   "execution_count": null,
   "metadata": {},
   "outputs": [],
   "source": [
    "df_train_data = get_train_data(dict_user_action_train_click_0, 1)"
   ]
  },
  {
   "cell_type": "code",
   "execution_count": null,
   "metadata": {
    "scrolled": true
   },
   "outputs": [],
   "source": [
    "df_train_data.head()"
   ]
  },
  {
   "cell_type": "code",
   "execution_count": null,
   "metadata": {},
   "outputs": [],
   "source": [
    "len(df_train_data.values[0][2])"
   ]
  },
  {
   "cell_type": "code",
   "execution_count": null,
   "metadata": {
    "scrolled": true
   },
   "outputs": [],
   "source": [
    "len(df_train_data.values[0][3])"
   ]
  },
  {
   "cell_type": "code",
   "execution_count": null,
   "metadata": {},
   "outputs": [],
   "source": [
    "def get_pred_data(dict_user_action_test_click, test_qtime):\n",
    "    # user_id-0, item_seq_diff_time_seq, pred_item_seq_next\n",
    "    list_user_id, list_query_time, list_item_seq, list_diff_time_seq = [], [], [], []\n",
    "    for i,row in test_qtime.iterrows(): \n",
    "        user_id, query_time = int(row[\"user_id\"]), float(row[\"query_time\"])\n",
    "        list_user_id.append(user_id)\n",
    "        list_query_time.append(query_time)\n",
    "        list_item_seq.append(dict_user_action_test_click[user_id][\"item_seq\"])\n",
    "        list_diff_time_seq.append(dict_user_action_test_click[user_id][\"diff_time_seq\"] + [(query_time-dict_user_action_test_click[user_id][\"time_seq\"][-1]) * 10**4])\n",
    "    df_test_data = pd.DataFrame()\n",
    "    df_test_data[\"user_id\"], df_test_data[\"query_time\"], df_test_data[\"item_seq\"], df_test_data[\"diff_time_seq\"] = list_user_id, list_query_time, list_item_seq, list_diff_time_seq\n",
    "    return df_test_data"
   ]
  },
  {
   "cell_type": "code",
   "execution_count": null,
   "metadata": {},
   "outputs": [],
   "source": [
    "df_test_data = get_pred_data(dict_user_action_test_click_0, underexpose_test_qtime_0)"
   ]
  },
  {
   "cell_type": "markdown",
   "metadata": {},
   "source": [
    "## 解题思路一"
   ]
  },
  {
   "cell_type": "code",
   "execution_count": null,
   "metadata": {},
   "outputs": [],
   "source": []
  },
  {
   "cell_type": "markdown",
   "metadata": {},
   "source": [
    "## 解题思路二"
   ]
  },
  {
   "cell_type": "code",
   "execution_count": null,
   "metadata": {},
   "outputs": [],
   "source": []
  },
  {
   "cell_type": "markdown",
   "metadata": {},
   "source": [
    "## 解题思路三"
   ]
  },
  {
   "cell_type": "code",
   "execution_count": null,
   "metadata": {},
   "outputs": [],
   "source": []
  },
  {
   "cell_type": "code",
   "execution_count": null,
   "metadata": {},
   "outputs": [],
   "source": []
  },
  {
   "cell_type": "code",
   "execution_count": null,
   "metadata": {},
   "outputs": [],
   "source": []
  },
  {
   "cell_type": "code",
   "execution_count": null,
   "metadata": {},
   "outputs": [],
   "source": []
  },
  {
   "cell_type": "code",
   "execution_count": null,
   "metadata": {},
   "outputs": [],
   "source": []
  },
  {
   "cell_type": "code",
   "execution_count": null,
   "metadata": {},
   "outputs": [],
   "source": []
  },
  {
   "cell_type": "code",
   "execution_count": null,
   "metadata": {},
   "outputs": [],
   "source": []
  },
  {
   "cell_type": "code",
   "execution_count": null,
   "metadata": {},
   "outputs": [],
   "source": []
  }
 ],
 "metadata": {
  "hide_input": false,
  "kernelspec": {
   "display_name": "Python 3",
   "language": "python",
   "name": "python3"
  },
  "language_info": {
   "codemirror_mode": {
    "name": "ipython",
    "version": 3
   },
   "file_extension": ".py",
   "mimetype": "text/x-python",
   "name": "python",
   "nbconvert_exporter": "python",
   "pygments_lexer": "ipython3",
   "version": "3.7.7"
  },
  "toc": {
   "base_numbering": 1,
   "nav_menu": {},
   "number_sections": true,
   "sideBar": true,
   "skip_h1_title": false,
   "title_cell": "Table of Contents",
   "title_sidebar": "Contents",
   "toc_cell": true,
   "toc_position": {},
   "toc_section_display": true,
   "toc_window_display": true
  },
  "varInspector": {
   "cols": {
    "lenName": 16,
    "lenType": 16,
    "lenVar": 40
   },
   "kernels_config": {
    "python": {
     "delete_cmd_postfix": "",
     "delete_cmd_prefix": "del ",
     "library": "var_list.py",
     "varRefreshCmd": "print(var_dic_list())"
    },
    "r": {
     "delete_cmd_postfix": ") ",
     "delete_cmd_prefix": "rm(",
     "library": "var_list.r",
     "varRefreshCmd": "cat(var_dic_list()) "
    }
   },
   "types_to_exclude": [
    "module",
    "function",
    "builtin_function_or_method",
    "instance",
    "_Feature"
   ],
   "window_display": false
  }
 },
 "nbformat": 4,
 "nbformat_minor": 4
}
