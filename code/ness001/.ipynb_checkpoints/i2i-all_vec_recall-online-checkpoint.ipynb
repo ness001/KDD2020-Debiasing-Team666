{
 "cells": [
  {
   "cell_type": "code",
   "execution_count": 15,
   "metadata": {},
   "outputs": [],
   "source": [
    "import sys\n",
    "import csv\n",
    "print(sys.version, sys.platform, sys.executable)\n",
    "from tqdm import tqdm\n",
    "\n",
    "import pandas as pd\n",
    "from sklearn.metrics.pairwise import cosine_similarity\n",
    "pd.set_option('display.precision',16)\n",
    "\n",
    "train_path = './'\n",
    "test_path = './'\n",
    "\n",
    "\n",
    "col_name = ['item_id']\n",
    "for i in range(0, 128):\n",
    "    col_name.append('tv' + str(i))\n",
    "for i in range(0, 128):\n",
    "    col_name.append('iv' + str(i))\n",
    "\n",
    "itemft = pd.read_csv(train_path + 'underexpose_item_feat.csv', low_memory=False, names=col_name)\n",
    "itemft = itemft.replace('[\\[\\]]', '', regex=True)  # regex=True is the key\n",
    "\n",
    "vec = itemft.iloc[:, 1:].to_numpy()\n",
    "vec.shape\n",
    "\n",
    "\n",
    "\n",
    "chunk_size = 500\n",
    "matrix_len = vec.shape[0]\n",
    "\n",
    "\n",
    "def sim_chunk(start, end):\n",
    "    if end > matrix_len:\n",
    "        end = matrix_len\n",
    "    return cosine_similarity(vec[start:end], vec)\n",
    "\n",
    "\n",
    "import numpy as np\n",
    "\n",
    "sim_matrix = np.ndarray(shape=(matrix_len, matrix_len))\n",
    "\n",
    "# ---------------------------------------------------------------------\n",
    "\n",
    "for start in tqdm(range(0, matrix_len, chunk_size)):\n",
    "    cos_sim_chunk = sim_chunk(start, start + chunk_size)\n",
    "    if (start + chunk_size) <= matrix_len:\n",
    "        sim_matrix[start:start + chunk_size] = cos_sim_chunk\n",
    "    else:\n",
    "        sim_matrix[start:matrix_len] = cos_sim_chunk\n",
    "\n",
    "\n",
    "results = {}\n",
    "\n",
    "recall_num=500\n",
    "for idx, row in tqdm(itemft[['item_id']].iterrows(),total=sim_matrix.shape[0]):\n",
    "    similar_indices = sim_matrix[idx].argsort()[\n",
    "                      :-recall_num:-1]  # ascending return index, : means reverse order, -100:-1 means last 100-1 to last 1-1 position\n",
    "    similar_items = [(sim_matrix[idx][i], itemft['item_id'][i]) for i in similar_indices]\n",
    "\n",
    "    results[row['item_id']] = similar_items[1:]\n",
    "    \n",
    "# with open('result_vec.txt','w') as f:\n",
    "#     print(results,file=f)\n",
    "\n",
    "file_path='all_vec_result-5-31.csv'\n",
    "with open(file_path, 'w') as csv_file:  \n",
    "    writer = csv.writer(csv_file)\n",
    "    for key, value in results.items():\n",
    "        writer.writerow([key, value])\n",
    "        \n",
    "# with open(file_path) as csv_file:\n",
    "#     reader = csv.reader(csv_file)\n",
    "#     mydict = dict(reader)"
   ]
  },
  {
   "cell_type": "code",
   "execution_count": 18,
   "metadata": {},
   "outputs": [
    {
     "name": "stdout",
     "output_type": "stream",
     "text": [
      "Recommending 5 products similar to 1...\n",
      "-------\n",
      "[(0.7412481239635497, 60268), (0.7154533810786937, 81448), (0.6957638213171138, 75224), (0.6946299147484594, 24871), (0.6573989783528436, 26004)]\n"
     ]
    }
   ],
   "source": [
    "all_click_test=pd.DataFrame()\n",
    "for p in tqdm(range(0,now_phase)):\n",
    "    user_last = pd.read_csv(test_path + 'underexpose_test_click-{}.csv'.format(p),names=['user_id','item_id','time'])\n",
    "    all_click=all_click.append(user_last)\n",
    "user_last.drop_duplicates(inplace=True)    \n",
    "user_last=user_last.sort_values(['user_id', 'time'],ascending=[True,False]).reset_index(drop=True)\n",
    "user_train = user_last.drop_duplicates(['user_id'], keep='first')"
   ]
  },
  {
   "cell_type": "code",
   "execution_count": 19,
   "metadata": {},
   "outputs": [],
   "source": [
    "recall_num=450\n",
    "itemlist=list(itemft.item_id.unique())\n",
    "recall_frame = pd.DataFrame(columns=['user_id', 'item_id_pred','rank'],index=range(0,recall_num*len(user_train.user_id.unique())))\n",
    "row_num=0\n",
    "for user in tqdm(user_train.user_id.unique()):\n",
    "    latest_item = user_train.loc[user_train.user_id == user, 'item_id'].values[0]\n",
    "    if latest_item in itemlist: \n",
    "        recs = results[latest_item][:recall_num]\n",
    "        for i in range(0, recall_num):\n",
    "            recall_frame.iloc[row_num]['user_id'] = user\n",
    "            recall_frame.iloc[row_num]['item_id_pred'] = recs[i][1]\n",
    "            recall_frame.iloc[row_num]['rank'] = i+1\n",
    "            row_num+=1\n",
    "    else:\n",
    "        recall_frame.iloc[row_num]['user_id'] = user\n",
    "        recall_frame.iloc[row_num]['item_id_pred'] = np.nan\n",
    "        recall_frame.iloc[row_num]['rank'] = np.nan\n",
    "        row_num+=1\n",
    "recall_frame\n",
    "recall_frame=recall_frame.dropna(how='all').astype('float32')\n",
    "\n",
    "recall_frame.to_csv('recall_allvec_df.csv',index=False)"
   ]
  },
  {
   "cell_type": "code",
   "execution_count": null,
   "metadata": {},
   "outputs": [],
   "source": [
    "pred_df=pd.read_csv('recall_allvec_df.csv',low_memory=False, quoting=csv.QUOTE_NONE, error_bad_lines=False)\n",
    "pred_df=pred_df.dropna(['item_id_pred'])\n",
    "pred_df=pred_df.loc[pred_df['rank'] <=50 ]\n",
    "preds={}\n",
    "for user in pred_df.user_id.unique():\n",
    "    assert len(pred_df.loc[pred_df.user_id == user ]) == 50\n",
    "    index_list = pred_df.loc[pred_df.user_id == user].index[:50]\n",
    "    preds[int(user)] = pred_df.loc[index_list].item_id_pred.astype(int).to_list()\n",
    "\n",
    "top50_items = [52766, 12845, 4340, 13302, 111225, 21426, 21279, 2420, 7156, 4230, 1604, 42651, 34716, 77047, 6568, 12061, 87254, 44534, 1518, 4999, 91838, 59903, 14777, 78364, 24025, 113569, 73761, 29931, 49787, 2611, 35452, 43439, 41755, 13845, 67536, 114125, 35264, 29594, 42884, 8149, 51182, 80227, 899, 4483, 14239, 69717, 78831, 90006, 110172, 102105]\n",
    "user_to_be_filled= set(user_train.user_id) - preds.keys()\n",
    "for user in user_to_be_filled:\n",
    "    preds[user] = top50_items"
   ]
  },
  {
   "cell_type": "code",
   "execution_count": null,
   "metadata": {},
   "outputs": [],
   "source": [
    "submit=pd.DataFrame.from_dict(data=preds,orient='index')\n",
    "submit.replace('[\\[\\]]',regex=True)\n",
    "submit.to_csv('submit.csv',header=False)"
   ]
  }
 ],
 "metadata": {
  "kernelspec": {
   "display_name": "Python 3",
   "language": "python",
   "name": "python3"
  },
  "language_info": {
   "codemirror_mode": {
    "name": "ipython",
    "version": 3
   },
   "file_extension": ".py",
   "mimetype": "text/x-python",
   "name": "python",
   "nbconvert_exporter": "python",
   "pygments_lexer": "ipython3",
   "version": "3.7.3"
  }
 },
 "nbformat": 4,
 "nbformat_minor": 4
}
