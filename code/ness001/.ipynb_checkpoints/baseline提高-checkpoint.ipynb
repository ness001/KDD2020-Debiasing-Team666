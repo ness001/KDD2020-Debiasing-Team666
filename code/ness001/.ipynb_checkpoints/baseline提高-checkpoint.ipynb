{
 "cells": [
  {
   "cell_type": "markdown",
   "metadata": {},
   "source": [
    "# 导入工具包"
   ]
  },
  {
   "cell_type": "code",
   "execution_count": 1,
   "metadata": {},
   "outputs": [],
   "source": [
    "import numpy as np\n",
    "import pandas as pd\n",
    "from tqdm import tqdm\n",
    "import warnings\n",
    "warnings.filterwarnings(\"ignore\")"
   ]
  },
  {
   "cell_type": "markdown",
   "metadata": {},
   "source": [
    "# 数据路径地址"
   ]
  },
  {
   "cell_type": "code",
   "execution_count": 2,
   "metadata": {},
   "outputs": [],
   "source": [
    "phase = 0\n",
    "nrows = None\n",
    "train_path = '../../data/underexpose_train'  \n",
    "test_path = '../../data/underexpose_test' "
   ]
  },
  {
   "cell_type": "code",
   "execution_count": 3,
   "metadata": {},
   "outputs": [],
   "source": [
    "click_train = pd.read_csv(\n",
    "                        train_path + '/underexpose_train_click-{phase}.csv'.format(phase=phase)\n",
    "                        ,header=None\n",
    "                        ,nrows=nrows\n",
    "                        ,names=['user_id', 'item_id', 'time']\n",
    "                        ,sep=','\n",
    "                        ,dtype={'user_id':np.str,'item_id':np.str,'time':np.str}\n",
    "                        ) "
   ]
  },
  {
   "cell_type": "code",
   "execution_count": 4,
   "metadata": {},
   "outputs": [],
   "source": [
    "click_test = pd.read_csv(\n",
    "                        test_path + '/underexpose_test_click-{phase}/underexpose_test_click-{phase}.csv'.format(phase=phase)\n",
    "                        ,header=None\n",
    "                        ,nrows=nrows\n",
    "                        ,names=['user_id', 'item_id', 'time']\n",
    "                        ,sep=','\n",
    "                        ,dtype={'user_id':np.str,'item_id':np.str,'time':np.str}\n",
    "                        )"
   ]
  },
  {
   "cell_type": "markdown",
   "metadata": {},
   "source": [
    "# 合并数据集"
   ]
  },
  {
   "cell_type": "code",
   "execution_count": 5,
   "metadata": {},
   "outputs": [],
   "source": [
    "click_all = click_train.append(click_test)"
   ]
  },
  {
   "cell_type": "code",
   "execution_count": 6,
   "metadata": {},
   "outputs": [
    {
     "data": {
      "text/html": [
       "<div>\n",
       "<style scoped>\n",
       "    .dataframe tbody tr th:only-of-type {\n",
       "        vertical-align: middle;\n",
       "    }\n",
       "\n",
       "    .dataframe tbody tr th {\n",
       "        vertical-align: top;\n",
       "    }\n",
       "\n",
       "    .dataframe thead th {\n",
       "        text-align: right;\n",
       "    }\n",
       "</style>\n",
       "<table border=\"1\" class=\"dataframe\">\n",
       "  <thead>\n",
       "    <tr style=\"text-align: right;\">\n",
       "      <th></th>\n",
       "      <th>user_id</th>\n",
       "      <th>item_id</th>\n",
       "      <th>time</th>\n",
       "    </tr>\n",
       "  </thead>\n",
       "  <tbody>\n",
       "    <tr>\n",
       "      <th>0</th>\n",
       "      <td>4965</td>\n",
       "      <td>18</td>\n",
       "      <td>0.9837634760241426</td>\n",
       "    </tr>\n",
       "    <tr>\n",
       "      <th>1</th>\n",
       "      <td>20192</td>\n",
       "      <td>34</td>\n",
       "      <td>0.9837723702817137</td>\n",
       "    </tr>\n",
       "    <tr>\n",
       "      <th>2</th>\n",
       "      <td>30128</td>\n",
       "      <td>91</td>\n",
       "      <td>0.9837801863518689</td>\n",
       "    </tr>\n",
       "    <tr>\n",
       "      <th>3</th>\n",
       "      <td>29473</td>\n",
       "      <td>189</td>\n",
       "      <td>0.9839301484049713</td>\n",
       "    </tr>\n",
       "    <tr>\n",
       "      <th>4</th>\n",
       "      <td>10625</td>\n",
       "      <td>225</td>\n",
       "      <td>0.9839253997117711</td>\n",
       "    </tr>\n",
       "  </tbody>\n",
       "</table>\n",
       "</div>"
      ],
      "text/plain": [
       "  user_id item_id                time\n",
       "0    4965      18  0.9837634760241426\n",
       "1   20192      34  0.9837723702817137\n",
       "2   30128      91  0.9837801863518689\n",
       "3   29473     189  0.9839301484049713\n",
       "4   10625     225  0.9839253997117711"
      ]
     },
     "execution_count": 6,
     "metadata": {},
     "output_type": "execute_result"
    }
   ],
   "source": [
    "click_all.head()"
   ]
  },
  {
   "cell_type": "markdown",
   "metadata": {},
   "source": [
    "# 数据集按时间排序"
   ]
  },
  {
   "cell_type": "code",
   "execution_count": 7,
   "metadata": {},
   "outputs": [],
   "source": [
    "click_all = click_all.sort_values('time')"
   ]
  },
  {
   "cell_type": "markdown",
   "metadata": {},
   "source": [
    "# 数据按 user_id, item_id, time 去重，保存最后一条"
   ]
  },
  {
   "cell_type": "code",
   "execution_count": 8,
   "metadata": {},
   "outputs": [],
   "source": [
    "click_all = click_all.drop_duplicates(['user_id','item_id','time'],keep='last')"
   ]
  },
  {
   "cell_type": "markdown",
   "metadata": {},
   "source": [
    "# 获取用户 训练用户集 和 测试用户集"
   ]
  },
  {
   "cell_type": "code",
   "execution_count": 9,
   "metadata": {},
   "outputs": [],
   "source": [
    "set_pred = set(click_test['user_id'])\n",
    "set_train = set(click_all['user_id']) - set_pred"
   ]
  },
  {
   "cell_type": "markdown",
   "metadata": {},
   "source": [
    "# 获取 训练集合最后一条数据 当作召回的标签评判召回的效果"
   ]
  },
  {
   "cell_type": "code",
   "execution_count": 10,
   "metadata": {},
   "outputs": [],
   "source": [
    "temp_ = click_all\n",
    "temp_['pred'] = temp_['user_id'].map(lambda x: 'test' if x in set_pred else 'train')\n",
    "temp_ = temp_[temp_['pred']=='train'].drop_duplicates(['user_id'],keep='last')\n",
    "temp_['remove'] = 'remove'\n",
    "\n",
    "train_test = click_all\n",
    "train_test = train_test.merge(temp_,on=['user_id','item_id','time','pred'],how='left')\n",
    "train_test = train_test[train_test['remove']!='remove']\n",
    "    \n",
    "dict_label_user_item = dict(zip(temp_['user_id'],temp_['item_id']))"
   ]
  },
  {
   "cell_type": "markdown",
   "metadata": {},
   "source": [
    "# 获取热门候选集 用于补全"
   ]
  },
  {
   "cell_type": "code",
   "execution_count": 11,
   "metadata": {},
   "outputs": [],
   "source": [
    "temp_ = train_test.groupby(['item_id'])['user_id'].count().reset_index()\n",
    "temp_ = temp_.sort_values(['user_id']) # 修改\n",
    "hot_list = list(temp_['item_id'])[::-1]"
   ]
  },
  {
   "cell_type": "markdown",
   "metadata": {},
   "source": [
    "# 召回"
   ]
  },
  {
   "cell_type": "code",
   "execution_count": 12,
   "metadata": {},
   "outputs": [],
   "source": [
    "from collections import Counter"
   ]
  },
  {
   "cell_type": "code",
   "execution_count": 13,
   "metadata": {},
   "outputs": [],
   "source": [
    "click_all = train_test"
   ]
  },
  {
   "cell_type": "markdown",
   "metadata": {},
   "source": [
    "# 统计热门的商品 用于关联规则未召回足够数量商品补全"
   ]
  },
  {
   "cell_type": "code",
   "execution_count": 14,
   "metadata": {},
   "outputs": [
    {
     "data": {
      "text/plain": [
       "['113569', '52766', '87107', '87254', '31005']"
      ]
     },
     "execution_count": 14,
     "metadata": {},
     "output_type": "execute_result"
    }
   ],
   "source": [
    "temp_ = click_all.groupby(['item_id'])['user_id'].count().reset_index()\n",
    "temp_ = temp_.sort_values(['user_id']) # 修改\n",
    "hot_list = list(temp_['item_id'])[::-1]\n",
    "hot_list[:5]"
   ]
  },
  {
   "cell_type": "markdown",
   "metadata": {},
   "source": [
    "# 统计商品频率"
   ]
  },
  {
   "cell_type": "code",
   "execution_count": 15,
   "metadata": {},
   "outputs": [
    {
     "data": {
      "text/plain": [
       "[('113569', 234),\n",
       " ('52766', 200),\n",
       " ('87107', 193),\n",
       " ('87254', 148),\n",
       " ('31005', 141),\n",
       " ('115860', 136),\n",
       " ('116073', 135),\n",
       " ('2420', 130),\n",
       " ('39291', 128),\n",
       " ('82029', 127)]"
      ]
     },
     "execution_count": 15,
     "metadata": {},
     "output_type": "execute_result"
    }
   ],
   "source": [
    "stat_cnt = Counter(list(click_all['item_id'])) \n",
    "stat_cnt.most_common(10)"
   ]
  },
  {
   "cell_type": "markdown",
   "metadata": {},
   "source": [
    "# 聚合数据以便后续使用"
   ]
  },
  {
   "cell_type": "code",
   "execution_count": 18,
   "metadata": {},
   "outputs": [
    {
     "data": {
      "text/html": [
       "<div>\n",
       "<style scoped>\n",
       "    .dataframe tbody tr th:only-of-type {\n",
       "        vertical-align: middle;\n",
       "    }\n",
       "\n",
       "    .dataframe tbody tr th {\n",
       "        vertical-align: top;\n",
       "    }\n",
       "\n",
       "    .dataframe thead th {\n",
       "        text-align: right;\n",
       "    }\n",
       "</style>\n",
       "<table border=\"1\" class=\"dataframe\">\n",
       "  <thead>\n",
       "    <tr style=\"text-align: right;\">\n",
       "      <th></th>\n",
       "      <th>user_id</th>\n",
       "      <th>item_id</th>\n",
       "      <th>time</th>\n",
       "    </tr>\n",
       "  </thead>\n",
       "  <tbody>\n",
       "    <tr>\n",
       "      <th>0</th>\n",
       "      <td>1</td>\n",
       "      <td>78142,26646,89568,76240,87533,78380,85492,9779...</td>\n",
       "      <td>0.9837416195438411,0.9837566561259767,0.983763...</td>\n",
       "    </tr>\n",
       "    <tr>\n",
       "      <th>1</th>\n",
       "      <td>10</td>\n",
       "      <td>74658,114577,9946,69421,59454,68248,110931,864...</td>\n",
       "      <td>0.9837580005480852,0.9837590434057788,0.983786...</td>\n",
       "    </tr>\n",
       "    <tr>\n",
       "      <th>2</th>\n",
       "      <td>100</td>\n",
       "      <td>62106,550,51671,79574,49546,74156,112139,69773...</td>\n",
       "      <td>0.9837622205572277,0.9837735235447893,0.983812...</td>\n",
       "    </tr>\n",
       "    <tr>\n",
       "      <th>3</th>\n",
       "      <td>10000</td>\n",
       "      <td>6320,62273</td>\n",
       "      <td>0.9837585557294344,0.9837843931123657</td>\n",
       "    </tr>\n",
       "    <tr>\n",
       "      <th>4</th>\n",
       "      <td>10002</td>\n",
       "      <td>71749,27646,82001,102124,45579,54124,7847,3899...</td>\n",
       "      <td>0.9838403516070484,0.9838409345474651,0.983840...</td>\n",
       "    </tr>\n",
       "  </tbody>\n",
       "</table>\n",
       "</div>"
      ],
      "text/plain": [
       "  user_id                                            item_id  \\\n",
       "0       1  78142,26646,89568,76240,87533,78380,85492,9779...   \n",
       "1      10  74658,114577,9946,69421,59454,68248,110931,864...   \n",
       "2     100  62106,550,51671,79574,49546,74156,112139,69773...   \n",
       "3   10000                                         6320,62273   \n",
       "4   10002  71749,27646,82001,102124,45579,54124,7847,3899...   \n",
       "\n",
       "                                                time  \n",
       "0  0.9837416195438411,0.9837566561259767,0.983763...  \n",
       "1  0.9837580005480852,0.9837590434057788,0.983786...  \n",
       "2  0.9837622205572277,0.9837735235447893,0.983812...  \n",
       "3              0.9837585557294344,0.9837843931123657  \n",
       "4  0.9838403516070484,0.9838409345474651,0.983840...  "
      ]
     },
     "execution_count": 18,
     "metadata": {},
     "output_type": "execute_result"
    }
   ],
   "source": [
    "group_by_col, agg_col = 'user_id', 'item_id'\n",
    "data_ = click_all.groupby(['user_id'])[['item_id','time']].agg({'item_id':lambda x:','.join(list(x)), 'time':lambda x:','.join(list(x))}).reset_index()\n",
    "data_.head(5)"
   ]
  },
  {
   "cell_type": "markdown",
   "metadata": {},
   "source": [
    "# 统计用户序列长度"
   ]
  },
  {
   "cell_type": "code",
   "execution_count": 19,
   "metadata": {},
   "outputs": [
    {
     "data": {
      "text/plain": [
       "13.3022426371251"
      ]
     },
     "execution_count": 19,
     "metadata": {},
     "output_type": "execute_result"
    }
   ],
   "source": [
    "stat_length = np.mean([ len(item_txt.split(',')) for item_txt in data_['item_id']])\n",
    "stat_length"
   ]
  },
  {
   "cell_type": "markdown",
   "metadata": {},
   "source": [
    "# 构建打分矩阵"
   ]
  },
  {
   "cell_type": "code",
   "execution_count": 20,
   "metadata": {},
   "outputs": [
    {
     "name": "stderr",
     "output_type": "stream",
     "text": [
      "21it [00:00, 204.81it/s]"
     ]
    },
    {
     "name": "stdout",
     "output_type": "stream",
     "text": [
      "------- association rules matrix 生成 ---------\n"
     ]
    },
    {
     "name": "stderr",
     "output_type": "stream",
     "text": [
      "18505it [00:54, 337.58it/s]\n"
     ]
    }
   ],
   "source": [
    "matrix_association_rules = {}\n",
    "print('------- association rules matrix 生成 ---------')\n",
    "for i, row in tqdm(data_.iterrows()):\n",
    "\n",
    "    list_item_id = row['item_id'].split(',')\n",
    "    len_list_item = len(list_item_id)\n",
    "\n",
    "    for i, item_i in enumerate(list_item_id):\n",
    "        for j, item_j in enumerate(list_item_id):\n",
    "\n",
    "            if i <= j:\n",
    "                if item_i not in matrix_association_rules:\n",
    "                        matrix_association_rules[item_i] = {}\n",
    "                if item_j not in matrix_association_rules[item_i]:\n",
    "                        matrix_association_rules[item_i][item_j] = 0\n",
    "\n",
    "                alpha, beta, gama = 1.0, 0.8, 0.8\n",
    "                matrix_association_rules[item_i][item_j] += 1.0 * alpha  / (beta + np.abs(i-j)) * 1.0 / stat_cnt[item_i] * 1.0 / (1 + gama * len_list_item / stat_length)\n",
    "            if i >= j:\n",
    "                if item_i not in matrix_association_rules:\n",
    "                    matrix_association_rules[item_i] = {}\n",
    "                if item_j not in matrix_association_rules[item_i]:\n",
    "                    matrix_association_rules[item_i][item_j] = 0\n",
    "\n",
    "                alpha, beta, gama = 0.5, 0.8, 0.8\n",
    "                matrix_association_rules[item_i][item_j] += 1.0 * alpha  / (beta + np.abs(i-j)) * 1.0 / stat_cnt[item_i] * 1.0 / (1 + gama * len_list_item / stat_length)\n",
    "\n",
    "assert len(matrix_association_rules.keys()) == len(set(click_all['item_id']))"
   ]
  },
  {
   "cell_type": "code",
   "execution_count": 21,
   "metadata": {},
   "outputs": [
    {
     "name": "stdout",
     "output_type": "stream",
     "text": [
      "item :  78142  score :  {'78142': 0.9422978158521171, '26646': 0.02482166993759562, '89568': 0.015956787817025753, '76240': 0.011757633128334766, '87533': 0.009308126226598358, '78380': 0.0077032768771848475, '85492': 0.006570442042304722, '97795': 0.006451408557301851, '18522': 0.00507715975996274, '47611': 0.004559082233435929, '31443': 0.004136944989599269, '17887': 0.0037863564311586533, '77989': 0.003818800241615233, '109553': 0.00447721407637648, '109061': 0.005409967008954914, '58168': 0.006833642537627259, '81427': 0.009274229158208422, '69707': 0.014426578690546437, '46095': 0.028853157381092873, '113176': 0.00035952540751002477, '113394': 0.0003704865479828914, '113175': 0.00038213706835971183, '114982': 0.00039454411603372834, '115845': 0.00040778385147110185, '13953': 0.00042194301298051514, '93195': 0.00043712081920283576, '19365': 0.0004534312975312998, '28676': 0.0004710061540247611, '93854': 0.0004899983376547918, '77333': 0.0005105865031024721, '87069': 0.0005329806479753875, '109781': 0.0005574293015522401, '108834': 0.0005842287872037901, '83112': 0.000613735291608022, '52149': 0.0006463807858424913, '112396': 0.0006826943131370131, '52146': 0.0007691113147999262, '57018': 0.0008210782955296509, '57619': 0.0008805767227419446, '36730': 0.0009493717792061591, '83594': 0.0010298270147321045, '71778': 0.0011251813679480401, '72595': 0.0012399957932488607, '100492': 0.0013809044061180494, '27510': 0.0015579434325434407, '46612': 0.0017870527608586523, '95965': 0.002095165305834282, '29702': 0.002531658077883091, '63228': 0.0031978838878523254, '99078': 0.004339985276371013, '77400': 0.006751088207688242, '52723': 0.013502176415376484, '21178': 0.008679970552742026, '87258': 0.005638933152827363, '99581': 0.007122862929887195, '91341': 0.00966674254770405, '71375': 0.0150371550742063, '89302': 0.0300743101484126, '53582': 0.0193334850954081, '68988': 0.022467253821024925, '41866': 0.014443234599230309, '79212': 0.010642383388906544, '40087': 0.008425220182884349, '54528': 0.006972596013421529, '95423': 0.005947214246741892, '41105': 0.005184750881774984, '64229': 0.004595574645209643, '64750': 0.004126638456922945, '66068': 0.0037445423035041537, '109416': 0.0034272082099868527, '98347': 0.00315945756858163, '16011': 0.002930511367959773, '26007': 0.002732503843097626, '105290': 0.0008584276195541748, '94281': 0.0016477979614416397, '99193': 0.0009606213837868144, '90590': 0.0010214202055454735, '110712': 0.001090435084298546, '74712': 0.0011694521193926439, '58450': 0.0012608155662201942, '30435': 0.0013676643430185155, '13135': 0.0014942999303350448, '111133': 0.0016467795150631106, '32453': 0.00565271379248097, '52085': 0.002069030672771601, '17962': 0.0023732998893556596, '68376': 0.002782489525451463, '85619': 0.003362174843253851, '17226': 0.004246957696741707, '8243': 0.0057637283027208875, '89695': 0.00896579958201027, '104717': 0.01793159916402054, '50493': 0.011527456605441775, '81253': 0.008493915393483414, '71340': 0.006724349686507702, '23446': 0.00028857991979271906, '95036': 0.00029642176543926037, '20201': 0.0008945918820808276, '39291': 0.00031345749908519483, '108288': 0.000322731389590674, '115514': 0.000332570761224536, '110473': 0.0003430289612630434, '108849': 0.00035416626520015513, '5453': 0.00036605103920016037, '27787': 0.00037876114472794374, '39074': 0.00039238564633686254, '78951': 0.00040702690179719324, '41189': 0.00042280313830096044, '38198': 0.00043985165194212816, '67301': 0.0004583328137884361, '58512': 0.00047843513018266574, '85734': 0.0005003816957873751, '5186': 0.0005244385080848451, '11903': 0.0005509253014224636, '38809': 0.0005802298387321691, '42454': 0.0006128270206834145, '84635': 0.0006493048195336177, '85919': 0.0006904000612762518, '64724': 0.0007370487140651878, '114347': 0.0007904580411713609, '108094': 0.0008522125756378734, '79523': 0.0009244339803529474, '108282': 0.0010100297192745164, '71918': 0.0011130939763433448, '18265': 0.001239581928200543, '11989': 0.001398502688226254, '28346': 0.0016041648482595264, '6776': 0.001880744994511169, '110362': 0.0022725668683676627, '116491': 0.0028706107810959947, '116572': 0.003895828917201707, '115601': 0.0060601783156471, '41119': 0.0121203566312942, '22733': 0.007791657834403414, '106388': 0.0057412215621919895, '26171': 0.004545133736735325, '76085': 0.0015313121388323449, '111407': 0.0016610843539876282, '109280': 0.0018148884608383345, '71955': 0.0020000811609238787, '103133': 0.002227363111028865, '56888': 0.0025129224842376945, '14771': 0.002882469908390296, '56768': 0.0033794474788024164, '2527': 0.004083499036886254, '22429': 0.005158104046593162, '85790': 0.007000284063233576, '22420': 0.010889330765030007, '39321': 0.021778661530060014, '23142': 0.014000568126467152, '67016': 0.010316208093186324, '67027': 0.003329210467049178, '106005': 0.00447721407637648, '95235': 0.005409967008954914, '109870': 0.006833642537627259, '72634': 0.009274229158208422, '33103': 0.014426578690546437, '77242': 0.010889330765030007, '10538': 0.021778661530060014, '13848': 0.014000568126467152, '45411': 0.010316208093186324, '27563': 0.008166998073772507, '33117': 0.006758894957604833, '6665': 0.005764939816780592, '49290': 0.005025844968475389, '32479': 0.00445472622205773, '24350': 0.0040001623218477575, '32867': 0.003629776921676669, '2313': 0.0033221687079752565, '3341': 0.0030626242776646898, '94697': 0.0028406949821817413, '107804': 0.002648756132034326, '78817': 0.00188456235981463, '47251': 0.0020987171734299288, '40230': 0.002367783477715818, '102647': 0.0027159869303210846, '105622': 0.0031842605389971338, '52188': 0.0038476481512882037, '42826': 0.004860187138469309, '70422': 0.006595968259351205, '7637': 0.010260395070101876, '89338': 0.020520790140203752, '101429': 0.01319193651870241, '33809': 0.009720374276938618, '7047': 0.007695296302576407, '76894': 0.0063685210779942675, '28281': 0.005431973860642169, '64563': 0.004735566955431636, '82469': 0.0041974343468598576, '16629': 0.00016147831717270274, '102700': 0.00016611849870065397, '94341': 0.00017103324718292185, '93324': 0.00017624767545069384, '69341': 0.00018179005518184773, '26079': 0.00018769232970073884, '88218': 0.00019399073002626704, '102846': 0.0002007265192632902, '45271': 0.00020794689765405602, '91124': 0.00021570611025308793, '27595': 0.00022406681220088208, '15127': 0.00023310176430575634, '83097': 0.00024289595608330912, '87020': 0.0002535492874904718, '52369': 0.00026517998875150265, '9338': 0.00027792902667224796, '14666': 0.0002919658462011494, '7709': 0.00030749594440333816, '19697': 0.00032477099745970543, '4453': 0.0003441026044513546, '39912': 0.0003658812503027061, '4829': 0.00039060295640424035, '103063': 0.0004189075184625187, '27675': 0.000451634668342403, '63482': 0.0004899087927781997, '69135': 0.0005352707180354405, '109900': 0.000656923153952586, '79349': 0.000850135846291582, '79329': 0.0009967109922039237, '108576': 0.0012043591155797412, '111970': 0.001521295724942831, '115648': 0.0020646156267081278, '103066': 0.003211624308212643, '69308': 0.006423248616425286, '20518': 0.0041292312534162556, '110930': 0.003042591449885662, '56854': 0.0024087182311594824, '48848': 0.0019934219844078473, '99338': 0.001700271692583164, '83384': 0.0014822881422519893, '53802': 0.001313846307905172, '47716': 0.00117978035811893, '106062': 0.001070541436070881, '70025': 0.0009798175855563994, '107080': 0.000903269336684806, '21982': 0.0008378150369250374, '47049': 0.0007812059128084807, '114201': 0.0007317625006054122, '2656': 0.0006882052089027092, '6368': 0.0006495419949194109, '24252': 0.0006149918888066763, '108560': 0.0005839316924022988, '19227': 0.0005558580533444959, '31986': 0.0005303599775030053, '110': 0.0005070985749809436, '8180': 0.00048579191216661824, '50870': 0.0004662035286115127, '13097': 0.00044813362440176415, '80604': 0.00043141222050617587, '100417': 0.00041589379530811203, '94730': 0.0004014530385265804, '103515': 0.00038798146005253407, '15664': 0.0003753846594014777, '106890': 0.00036358011036369546, '90381': 0.0003524953509013877, '65836': 0.0003420664943658437, '90151': 0.00033223699740130794, '23175': 0.00032295663434540547, '83363': 0.000314180638846889, '86966': 0.00030586898173453746, '17287': 0.0002979857605558123, '8049': 0.0002904986811448622, '77221': 0.0002833786154305274, '47400': 0.00027659922271687835, '103520': 0.0002701366240552691, '91205': 0.000263969121222957, '26421': 0.00025807695333851597, '69102': 0.0002524420853616925, '28799': 0.00024704802370866484, '62673': 0.00024187965501183087, '21559': 0.00023692310470421141, '19326': 0.00023216561264187782, '88058': 0.000227595423416644, '102082': 0.00022320168937385164, '85154': 0.00021897438465086203, '11354': 0.000214904228802333, '3170': 0.0002109826187876919, '77367': 0.00020720156827178345, '16823': 0.00020355365333742104, '80542': 0.00020003196383331344, '13554': 0.00019663005968648838, '46073': 0.007122862929887195, '99342': 0.00966674254770405, '79133': 0.0150371550742063, '12069': 0.0300743101484126, '97567': 0.0193334850954081, '71777': 0.01424572585977439} \n",
      "\n"
     ]
    }
   ],
   "source": [
    "for item, score in matrix_association_rules.items():\n",
    "    print(\"item : \", item, \" score : \", score, '\\n')\n",
    "    break"
   ]
  },
  {
   "cell_type": "code",
   "execution_count": 22,
   "metadata": {},
   "outputs": [],
   "source": [
    "# data_"
   ]
  },
  {
   "cell_type": "markdown",
   "metadata": {},
   "source": [
    "# 召回 50个"
   ]
  },
  {
   "cell_type": "code",
   "execution_count": 23,
   "metadata": {},
   "outputs": [],
   "source": [
    "k = 50"
   ]
  },
  {
   "cell_type": "code",
   "execution_count": 24,
   "metadata": {},
   "outputs": [
    {
     "name": "stderr",
     "output_type": "stream",
     "text": [
      "28it [00:00, 275.41it/s]"
     ]
    },
    {
     "name": "stdout",
     "output_type": "stream",
     "text": [
      "------- association rules 召回 ---------\n"
     ]
    },
    {
     "name": "stderr",
     "output_type": "stream",
     "text": [
      "18505it [01:18, 235.39it/s]\n"
     ]
    }
   ],
   "source": [
    "list_user_id = []\n",
    "list_item_similar = []\n",
    "list_score_similar = []\n",
    "print('------- association rules 召回 ---------')\n",
    "for i, row in tqdm(data_.iterrows()):\n",
    "\n",
    "    list_item_id = row['item_id'].split(',')\n",
    "\n",
    "    dict_item_id_score = {}\n",
    "    for i, item_i in enumerate(list_item_id[::-1]):\n",
    "        for item_j, score_similar in sorted(matrix_association_rules[item_i].items(), reverse=True)[0:k]:\n",
    "            if item_j not in list_item_id:\n",
    "                if item_j not in dict_item_id_score:\n",
    "                    dict_item_id_score[item_j] = 0\n",
    "                sigma = 0.8\n",
    "                dict_item_id_score[item_j] +=  1.0 / (1 + sigma * i) * score_similar\n",
    "\n",
    "    dict_item_id_score_topk = sorted(dict_item_id_score.items(), key=lambda kv: kv[1], reverse=True)[:k]\n",
    "    dict_item_id_set = set([item_similar for item_similar, score_similar in dict_item_id_score_topk])\n",
    "\n",
    "    # 不足的热度补全\n",
    "    if len(dict_item_id_score_topk) < k:\n",
    "        for i, item in enumerate(hot_list):\n",
    "            if (item not in list_item_id) and (item not in dict_item_id_set):\n",
    "                item_similar = item\n",
    "                score_similar = - i - 100 \n",
    "                dict_item_id_score_topk.append( (item_similar, score_similar) )\n",
    "            if len(dict_item_id_score_topk) == k:\n",
    "                break\n",
    "\n",
    "    assert len(dict_item_id_score_topk) == k\n",
    "    dict_item_id_set = set([item_similar for item_similar, score_similar in dict_item_id_score_topk])\n",
    "    assert len(dict_item_id_set) == k\n",
    "    for item_similar, score_similar in dict_item_id_score_topk:\n",
    "        list_item_similar.append(item_similar)\n",
    "        list_score_similar.append(score_similar)\n",
    "        list_user_id.append(row['user_id'])"
   ]
  },
  {
   "cell_type": "markdown",
   "metadata": {},
   "source": [
    "# 打上标签 以便后续rank使用"
   ]
  },
  {
   "cell_type": "code",
   "execution_count": 25,
   "metadata": {},
   "outputs": [],
   "source": [
    "dict_label = dict_label_user_item"
   ]
  },
  {
   "cell_type": "code",
   "execution_count": 26,
   "metadata": {},
   "outputs": [],
   "source": [
    "topk_recall = pd.DataFrame({'user_id':list_user_id,'item_similar':list_item_similar,'score_similar':list_score_similar})\n",
    "topk_recall['next_item_id'] = topk_recall['user_id'].map(dict_label)\n",
    "topk_recall['pred'] = topk_recall['user_id'].map(lambda x: 'train' if x in dict_label else 'test')"
   ]
  },
  {
   "cell_type": "markdown",
   "metadata": {},
   "source": [
    "# 查看模型召回效果"
   ]
  },
  {
   "cell_type": "code",
   "execution_count": 27,
   "metadata": {},
   "outputs": [
    {
     "name": "stdout",
     "output_type": "stream",
     "text": [
      "-------- 召回效果 -------------\n",
      "--------:phase:  0  -------------\n",
      "phase:  0  top_ 0  :  hit_num :  129 hit_rate :  0.0076594228713929464  data_num :  16842\n",
      "\n",
      "phase:  0  top_ 5  :  hit_num :  387 hit_rate :  0.02297826861417884  data_num :  16842\n",
      "\n",
      "phase:  0  top_ 10  :  hit_num :  519 hit_rate :  0.03081581759885999  data_num :  16842\n",
      "\n",
      "phase:  0  top_ 15  :  hit_num :  625 hit_rate :  0.037109606935043345  data_num :  16842\n",
      "\n",
      "phase:  0  top_ 20  :  hit_num :  697 hit_rate :  0.041384633653960334  data_num :  16842\n",
      "\n",
      "phase:  0  top_ 25  :  hit_num :  756 hit_rate :  0.04488778054862843  data_num :  16842\n",
      "\n",
      "phase:  0  top_ 30  :  hit_num :  815 hit_rate :  0.04839092744329652  data_num :  16842\n",
      "\n",
      "phase:  0  top_ 35  :  hit_num :  855 hit_rate :  0.05076594228713929  data_num :  16842\n",
      "\n",
      "phase:  0  top_ 40  :  hit_num :  908 hit_rate :  0.05391283695523097  data_num :  16842\n",
      "\n",
      "phase:  0  top_ 45  :  hit_num :  945 hit_rate :  0.05610972568578554  data_num :  16842\n",
      "\n",
      "phase:  0  top_ 50  :  hit_num :  973 hit_rate :  0.057772236076475476  data_num :  16842\n",
      "\n"
     ]
    }
   ],
   "source": [
    "sep = 5\n",
    "data_2 = topk_recall[topk_recall['pred']=='train'].sort_values(['user_id','score_similar'],ascending=False)\n",
    "data_2 = data_2.groupby(['user_id']).agg({'item_similar':lambda x:list(x),'next_item_id':lambda x:''.join(set(x))})\n",
    "\n",
    "data_2['index'] = [recall_.index(label_) if label_ in recall_ else -1 for (label_, recall_) in zip(data_2['next_item_id'],data_2['item_similar'])]\n",
    "\n",
    "print('-------- 召回效果 -------------')\n",
    "print('--------:phase: ', phase,' -------------')\n",
    "data_num = len(data_2)\n",
    "for topk in range(0,k+1,sep):\n",
    "    hit_num = len(data_2[(data_2['index']!=-1) & (data_2['index']<=topk)]) \n",
    "    hit_rate = hit_num * 1.0 / data_num\n",
    "    print('phase: ', phase, ' top_', topk, ' : ', 'hit_num : ', hit_num, 'hit_rate : ', hit_rate, ' data_num : ', data_num)\n",
    "    print() \n",
    "\n",
    "hit_rate = len(data_2[data_2['index']!=-1]) * 1.0 / data_num"
   ]
  },
  {
   "cell_type": "markdown",
   "metadata": {},
   "source": [
    "# 修改序列召回个数 "
   ]
  },
  {
   "cell_type": "code",
   "execution_count": 28,
   "metadata": {},
   "outputs": [],
   "source": [
    "k = 50"
   ]
  },
  {
   "cell_type": "code",
   "execution_count": 29,
   "metadata": {},
   "outputs": [
    {
     "name": "stderr",
     "output_type": "stream",
     "text": [
      "9it [00:00, 89.93it/s]"
     ]
    },
    {
     "name": "stdout",
     "output_type": "stream",
     "text": [
      "------- association rules 召回 ---------\n"
     ]
    },
    {
     "name": "stderr",
     "output_type": "stream",
     "text": [
      "18505it [03:16, 93.95it/s] \n"
     ]
    }
   ],
   "source": [
    "list_user_id = []\n",
    "list_item_similar = []\n",
    "list_score_similar = []\n",
    "print('------- association rules 召回 ---------')\n",
    "for i, row in tqdm(data_.iterrows()):\n",
    "\n",
    "    list_item_id = row['item_id'].split(',')\n",
    "\n",
    "    dict_item_id_score = {}\n",
    "    for i, item_i in enumerate(list_item_id[::-1]):\n",
    "        # for item_j, score_similar in sorted(matrix_association_rules[item_i].items(), reverse=True)[0:k]:\n",
    "        # 每个item 招回 1888个会不会更好？\n",
    "        for item_j, score_similar in sorted(matrix_association_rules[item_i].items(), reverse=True)[0:1888]:   \n",
    "            if item_j not in list_item_id:\n",
    "                if item_j not in dict_item_id_score:\n",
    "                    dict_item_id_score[item_j] = 0\n",
    "                sigma = 0.8\n",
    "                dict_item_id_score[item_j] +=  1.0 / (1 + sigma * i) * score_similar\n",
    "\n",
    "    dict_item_id_score_topk = sorted(dict_item_id_score.items(), key=lambda kv: kv[1], reverse=True)[:k]\n",
    "    dict_item_id_set = set([item_similar for item_similar, score_similar in dict_item_id_score_topk])\n",
    "\n",
    "    # 不足的热度补全\n",
    "    if len(dict_item_id_score_topk) < k:\n",
    "        for i, item in enumerate(hot_list):\n",
    "            if (item not in list_item_id) and (item not in dict_item_id_set):\n",
    "                item_similar = item\n",
    "                score_similar = - i - 100 \n",
    "                dict_item_id_score_topk.append( (item_similar, score_similar) )\n",
    "            if len(dict_item_id_score_topk) == k:\n",
    "                break\n",
    "\n",
    "    assert len(dict_item_id_score_topk) == k\n",
    "    dict_item_id_set = set([item_similar for item_similar, score_similar in dict_item_id_score_topk])\n",
    "    assert len(dict_item_id_set) == k\n",
    "    for item_similar, score_similar in dict_item_id_score_topk:\n",
    "        list_item_similar.append(item_similar)\n",
    "        list_score_similar.append(score_similar)\n",
    "        list_user_id.append(row['user_id'])"
   ]
  },
  {
   "cell_type": "markdown",
   "metadata": {},
   "source": [
    "# 打上标签"
   ]
  },
  {
   "cell_type": "code",
   "execution_count": 30,
   "metadata": {},
   "outputs": [],
   "source": [
    "dict_label = dict_label_user_item\n",
    "topk_recall = pd.DataFrame({'user_id':list_user_id,'item_similar':list_item_similar,'score_similar':list_score_similar})\n",
    "topk_recall['next_item_id'] = topk_recall['user_id'].map(dict_label)\n",
    "topk_recall['pred'] = topk_recall['user_id'].map(lambda x: 'train' if x in dict_label else 'test')"
   ]
  },
  {
   "cell_type": "code",
   "execution_count": 31,
   "metadata": {},
   "outputs": [
    {
     "data": {
      "text/html": [
       "<div>\n",
       "<style scoped>\n",
       "    .dataframe tbody tr th:only-of-type {\n",
       "        vertical-align: middle;\n",
       "    }\n",
       "\n",
       "    .dataframe tbody tr th {\n",
       "        vertical-align: top;\n",
       "    }\n",
       "\n",
       "    .dataframe thead th {\n",
       "        text-align: right;\n",
       "    }\n",
       "</style>\n",
       "<table border=\"1\" class=\"dataframe\">\n",
       "  <thead>\n",
       "    <tr style=\"text-align: right;\">\n",
       "      <th></th>\n",
       "      <th>user_id</th>\n",
       "      <th>item_id</th>\n",
       "      <th>time</th>\n",
       "    </tr>\n",
       "  </thead>\n",
       "  <tbody>\n",
       "    <tr>\n",
       "      <th>0</th>\n",
       "      <td>1</td>\n",
       "      <td>78142,26646,89568,76240,87533,78380,85492,9779...</td>\n",
       "      <td>0.9837416195438411,0.9837566561259767,0.983763...</td>\n",
       "    </tr>\n",
       "    <tr>\n",
       "      <th>1</th>\n",
       "      <td>10</td>\n",
       "      <td>74658,114577,9946,69421,59454,68248,110931,864...</td>\n",
       "      <td>0.9837580005480852,0.9837590434057788,0.983786...</td>\n",
       "    </tr>\n",
       "    <tr>\n",
       "      <th>2</th>\n",
       "      <td>100</td>\n",
       "      <td>62106,550,51671,79574,49546,74156,112139,69773...</td>\n",
       "      <td>0.9837622205572277,0.9837735235447893,0.983812...</td>\n",
       "    </tr>\n",
       "    <tr>\n",
       "      <th>3</th>\n",
       "      <td>10000</td>\n",
       "      <td>6320,62273</td>\n",
       "      <td>0.9837585557294344,0.9837843931123657</td>\n",
       "    </tr>\n",
       "    <tr>\n",
       "      <th>4</th>\n",
       "      <td>10002</td>\n",
       "      <td>71749,27646,82001,102124,45579,54124,7847,3899...</td>\n",
       "      <td>0.9838403516070484,0.9838409345474651,0.983840...</td>\n",
       "    </tr>\n",
       "  </tbody>\n",
       "</table>\n",
       "</div>"
      ],
      "text/plain": [
       "  user_id                                            item_id  \\\n",
       "0       1  78142,26646,89568,76240,87533,78380,85492,9779...   \n",
       "1      10  74658,114577,9946,69421,59454,68248,110931,864...   \n",
       "2     100  62106,550,51671,79574,49546,74156,112139,69773...   \n",
       "3   10000                                         6320,62273   \n",
       "4   10002  71749,27646,82001,102124,45579,54124,7847,3899...   \n",
       "\n",
       "                                                time  \n",
       "0  0.9837416195438411,0.9837566561259767,0.983763...  \n",
       "1  0.9837580005480852,0.9837590434057788,0.983786...  \n",
       "2  0.9837622205572277,0.9837735235447893,0.983812...  \n",
       "3              0.9837585557294344,0.9837843931123657  \n",
       "4  0.9838403516070484,0.9838409345474651,0.983840...  "
      ]
     },
     "execution_count": 31,
     "metadata": {},
     "output_type": "execute_result"
    }
   ],
   "source": [
    "data_.head()"
   ]
  },
  {
   "cell_type": "code",
   "execution_count": 32,
   "metadata": {},
   "outputs": [
    {
     "data": {
      "text/html": [
       "<div>\n",
       "<style scoped>\n",
       "    .dataframe tbody tr th:only-of-type {\n",
       "        vertical-align: middle;\n",
       "    }\n",
       "\n",
       "    .dataframe tbody tr th {\n",
       "        vertical-align: top;\n",
       "    }\n",
       "\n",
       "    .dataframe thead th {\n",
       "        text-align: right;\n",
       "    }\n",
       "</style>\n",
       "<table border=\"1\" class=\"dataframe\">\n",
       "  <thead>\n",
       "    <tr style=\"text-align: right;\">\n",
       "      <th></th>\n",
       "      <th>item_similar</th>\n",
       "      <th>score_similar</th>\n",
       "      <th>user_id</th>\n",
       "      <th>next_item_id</th>\n",
       "      <th>pred</th>\n",
       "    </tr>\n",
       "  </thead>\n",
       "  <tbody>\n",
       "    <tr>\n",
       "      <th>0</th>\n",
       "      <td>91290</td>\n",
       "      <td>0.086018</td>\n",
       "      <td>1</td>\n",
       "      <td>69359</td>\n",
       "      <td>train</td>\n",
       "    </tr>\n",
       "    <tr>\n",
       "      <th>1</th>\n",
       "      <td>42845</td>\n",
       "      <td>0.066693</td>\n",
       "      <td>1</td>\n",
       "      <td>69359</td>\n",
       "      <td>train</td>\n",
       "    </tr>\n",
       "    <tr>\n",
       "      <th>2</th>\n",
       "      <td>87837</td>\n",
       "      <td>0.064948</td>\n",
       "      <td>1</td>\n",
       "      <td>69359</td>\n",
       "      <td>train</td>\n",
       "    </tr>\n",
       "    <tr>\n",
       "      <th>3</th>\n",
       "      <td>30474</td>\n",
       "      <td>0.061375</td>\n",
       "      <td>1</td>\n",
       "      <td>69359</td>\n",
       "      <td>train</td>\n",
       "    </tr>\n",
       "    <tr>\n",
       "      <th>4</th>\n",
       "      <td>19228</td>\n",
       "      <td>0.057324</td>\n",
       "      <td>1</td>\n",
       "      <td>69359</td>\n",
       "      <td>train</td>\n",
       "    </tr>\n",
       "  </tbody>\n",
       "</table>\n",
       "</div>"
      ],
      "text/plain": [
       "  item_similar  score_similar user_id next_item_id   pred\n",
       "0        91290       0.086018       1        69359  train\n",
       "1        42845       0.066693       1        69359  train\n",
       "2        87837       0.064948       1        69359  train\n",
       "3        30474       0.061375       1        69359  train\n",
       "4        19228       0.057324       1        69359  train"
      ]
     },
     "execution_count": 32,
     "metadata": {},
     "output_type": "execute_result"
    }
   ],
   "source": [
    "topk_recall.head()"
   ]
  },
  {
   "cell_type": "markdown",
   "metadata": {},
   "source": [
    "# 查看模型召回效果"
   ]
  },
  {
   "cell_type": "code",
   "execution_count": 33,
   "metadata": {},
   "outputs": [
    {
     "name": "stdout",
     "output_type": "stream",
     "text": [
      "-------- 召回效果 -------------\n",
      "--------:phase:  0  -------------\n",
      "phase:  0  top_ 0  :  hit_num :  294 hit_rate :  0.017456359102244388  data_num :  16842\n",
      "\n",
      "phase:  0  top_ 5  :  hit_num :  811 hit_rate :  0.04815342595891224  data_num :  16842\n",
      "\n",
      "phase:  0  top_ 10  :  hit_num :  1073 hit_rate :  0.06370977318608241  data_num :  16842\n",
      "\n",
      "phase:  0  top_ 15  :  hit_num :  1243 hit_rate :  0.0738035862724142  data_num :  16842\n",
      "\n",
      "phase:  0  top_ 20  :  hit_num :  1382 hit_rate :  0.08205676285476785  data_num :  16842\n",
      "\n",
      "phase:  0  top_ 25  :  hit_num :  1511 hit_rate :  0.08971618572616079  data_num :  16842\n",
      "\n",
      "phase:  0  top_ 30  :  hit_num :  1601 hit_rate :  0.09505996912480703  data_num :  16842\n",
      "\n",
      "phase:  0  top_ 35  :  hit_num :  1691 hit_rate :  0.10040375252345327  data_num :  16842\n",
      "\n",
      "phase:  0  top_ 40  :  hit_num :  1771 hit_rate :  0.10515378221113882  data_num :  16842\n",
      "\n",
      "phase:  0  top_ 45  :  hit_num :  1845 hit_rate :  0.10954755967224795  data_num :  16842\n",
      "\n",
      "phase:  0  top_ 50  :  hit_num :  1900 hit_rate :  0.11281320508253176  data_num :  16842\n",
      "\n"
     ]
    }
   ],
   "source": [
    "sep = 5\n",
    "data_2 = topk_recall[topk_recall['pred']=='train'].sort_values(['user_id','score_similar'],ascending=False)\n",
    "data_2 = data_2.groupby(['user_id']).agg({'item_similar':lambda x:list(x),'next_item_id':lambda x:''.join(set(x))})\n",
    "\n",
    "data_2['index'] = [recall_.index(label_) if label_ in recall_ else -1 for (label_, recall_) in zip(data_2['next_item_id'],data_2['item_similar'])]\n",
    "\n",
    "print('-------- 召回效果 -------------')\n",
    "print('--------:phase: ', phase,' -------------')\n",
    "data_num = len(data_2)\n",
    "for topk in range(0,k+1,sep):\n",
    "    hit_num = len(data_2[(data_2['index']!=-1) & (data_2['index']<=topk)]) \n",
    "    hit_rate = hit_num * 1.0 / data_num\n",
    "    print('phase: ', phase, ' top_', topk, ' : ', 'hit_num : ', hit_num, 'hit_rate : ', hit_rate, ' data_num : ', data_num)\n",
    "    print() \n",
    "\n",
    "hit_rate = len(data_2[data_2['index']!=-1]) * 1.0 / data_num"
   ]
  },
  {
   "cell_type": "markdown",
   "metadata": {},
   "source": [
    "# 优化模型rank"
   ]
  },
  {
   "cell_type": "markdown",
   "metadata": {},
   "source": [
    "# 获取label 召回的item == item_next 真实 则为1"
   ]
  },
  {
   "cell_type": "code",
   "execution_count": 34,
   "metadata": {},
   "outputs": [
    {
     "name": "stdout",
     "output_type": "stream",
     "text": [
      "------- 构建样本 -----------\n"
     ]
    }
   ],
   "source": [
    "data_list = []\n",
    "\n",
    "print('------- 构建样本 -----------')\n",
    "temp_ = topk_recall\n",
    "temp_['label'] = [ 1 if next_item_id == item_similar else 0 for (next_item_id, item_similar) in zip(temp_['next_item_id'], temp_['item_similar'])] "
   ]
  },
  {
   "cell_type": "markdown",
   "metadata": {},
   "source": [
    "# 为了减少训练样本，降低内存的压力，只取召回样本中存在真实next_item_id训练"
   ]
  },
  {
   "cell_type": "code",
   "execution_count": 35,
   "metadata": {},
   "outputs": [],
   "source": [
    "set_user_label_1 = set(temp_[temp_['label']==1]['user_id'])\n",
    "temp_['keep'] = temp_['user_id'].map(lambda x: 1 if x in set_user_label_1 else 0)\n",
    "train_data = temp_[temp_['keep']==1][['user_id','item_similar','score_similar','label']]\n",
    "\n",
    "# temp_['pred'] = temp_['user_id'].map(lambda x: 'test' if x in set_pred else 'train')\n",
    "test_data = temp_[temp_['pred']=='test'][['user_id','item_similar','score_similar']]"
   ]
  },
  {
   "cell_type": "markdown",
   "metadata": {},
   "source": [
    "# 加入用户行为序列 方便后续构建特征"
   ]
  },
  {
   "cell_type": "code",
   "execution_count": 36,
   "metadata": {},
   "outputs": [],
   "source": [
    "train_data = train_data.merge(data_,on=['user_id'],how='left')\n",
    "test_data = test_data.merge(data_,on=['user_id'],how='left')"
   ]
  },
  {
   "cell_type": "code",
   "execution_count": 40,
   "metadata": {},
   "outputs": [],
   "source": [
    "list_train_test = [('train', train_data), ('test', test_data)]"
   ]
  },
  {
   "cell_type": "markdown",
   "metadata": {},
   "source": [
    "# 加入训练特征"
   ]
  },
  {
   "cell_type": "code",
   "execution_count": 41,
   "metadata": {},
   "outputs": [
    {
     "name": "stderr",
     "output_type": "stream",
     "text": [
      "309it [00:00, 3081.50it/s]"
     ]
    },
    {
     "name": "stdout",
     "output_type": "stream",
     "text": [
      "------- 加入特征 train -----------\n"
     ]
    },
    {
     "name": "stderr",
     "output_type": "stream",
     "text": [
      "95000it [00:21, 4454.36it/s]\n",
      "109it [00:00, 1055.10it/s]"
     ]
    },
    {
     "name": "stdout",
     "output_type": "stream",
     "text": [
      "------- 加入特征 test -----------\n"
     ]
    },
    {
     "name": "stderr",
     "output_type": "stream",
     "text": [
      "83150it [00:19, 4369.84it/s]\n"
     ]
    },
    {
     "name": "stdout",
     "output_type": "stream",
     "text": [
      "--------------------------- 特征数据 ---------------------\n",
      "所有数据条数 178150\n",
      "训练数据 :  95000\n",
      "训练数据 label 1 :  1900\n",
      "训练数据 1 / 0 rate :  0.010665169800729722\n",
      "测试数据 :  83150\n",
      "flag :  {'train', 'test'}\n",
      "--------------------------- 特征数据 ---------------------\n"
     ]
    }
   ],
   "source": [
    "data_list = []\n",
    "for flag, data in list_train_test:\n",
    "\n",
    "    print('------- 加入特征 {flag} -----------'.format(flag=flag))\n",
    "        \n",
    "    list_train_flag, list_user_id, list_item_similar, list_label, list_features = [], [], [], [], []\n",
    "    \n",
    "    for i,row in tqdm(data.iterrows()):\n",
    "\n",
    "        user_id, item_id, score_similar = str(row['user_id']), str(row['item_similar']), float(row['score_similar'])\n",
    "        \n",
    "        list_item_id = row['item_id'].split(',')[::-1]\n",
    "        \n",
    "        feature = [score_similar, len(list_item_id), stat_cnt[item_id]]\n",
    "#         feature = []\n",
    "        feature_col_name = ['score_similar','len_item_clicked','recall_item_cnt']\n",
    "        \n",
    "        len_ = len(list_item_id)\n",
    "        \n",
    "        for i in range(10):\n",
    "            if i < len_:\n",
    "                item_i = list_item_id[i]\n",
    "            \n",
    "#                 feature += [item_i, stat_cnt[item_i]]\n",
    "                if (item_i in matrix_association_rules) and (item_id in matrix_association_rules[item_i]):\n",
    "                    feature += [matrix_association_rules[item_i][item_id]]\n",
    "                else:\n",
    "                    feature += [0]\n",
    "                if (item_id in matrix_association_rules) and (item_i in matrix_association_rules[item_id]):\n",
    "                    feature += [matrix_association_rules[item_id][item_i]]\n",
    "                else:\n",
    "                    feature += [0]\n",
    "        \n",
    "            else:\n",
    "                feature += [0] * 2\n",
    "                \n",
    "            feature_col_name += ['clicked_item_'+str(i)+'_to_item_'+str(i)+'_score',\n",
    "                                 'item_'+str(i)+'_to_'+'clicked_item_'+str(i)+'_score']\n",
    "\n",
    "        list_features.append(feature)\n",
    "\n",
    "        list_train_flag.append(flag)\n",
    "        list_user_id.append(user_id)\n",
    "        list_item_similar.append(item_id)\n",
    "\n",
    "        if flag == 'train':\n",
    "            label = int(row['label'])\n",
    "            list_label.append(label)\n",
    "\n",
    "        if flag == 'test':  \n",
    "            label = -1\n",
    "            list_label.append(label)\n",
    "\n",
    "    feature_all = pd.DataFrame(list_features)\n",
    "    feature_all.columns = ['f_'+str(i) for i in range(len(feature_all.columns))]\n",
    "\n",
    "    feature_all['train_flag'] = list_train_flag\n",
    "    feature_all['user_id'] = list_user_id\n",
    "    feature_all['item_similar'] = list_item_similar\n",
    "    feature_all['label'] = list_label\n",
    "\n",
    "    data_list.append(feature_all)\n",
    "\n",
    "feature_all_train_test = pd.concat(data_list)\n",
    "\n",
    "\n",
    "print('--------------------------- 特征数据 ---------------------')\n",
    "len_f = len(feature_all_train_test)\n",
    "len_train = len(feature_all_train_test[feature_all_train_test['train_flag']=='train'])\n",
    "len_test = len(feature_all_train_test[feature_all_train_test['train_flag']=='test'])\n",
    "len_train_1 = len(feature_all_train_test[(feature_all_train_test['train_flag']=='train') & (feature_all_train_test['label']== 1)]) \n",
    "print('所有数据条数', len_f)\n",
    "print('训练数据 : ', len_train)\n",
    "print('训练数据 label 1 : ', len_train_1)\n",
    "print('训练数据 1 / 0 rate : ', len_train_1 * 1.0 / len_f)\n",
    "print('测试数据 : ' , len_test)\n",
    "print('flag : ', set(feature_all_train_test['train_flag']))\n",
    "print('--------------------------- 特征数据 ---------------------')"
   ]
  },
  {
   "cell_type": "code",
   "execution_count": 42,
   "metadata": {},
   "outputs": [
    {
     "data": {
      "text/html": [
       "<div>\n",
       "<style scoped>\n",
       "    .dataframe tbody tr th:only-of-type {\n",
       "        vertical-align: middle;\n",
       "    }\n",
       "\n",
       "    .dataframe tbody tr th {\n",
       "        vertical-align: top;\n",
       "    }\n",
       "\n",
       "    .dataframe thead th {\n",
       "        text-align: right;\n",
       "    }\n",
       "</style>\n",
       "<table border=\"1\" class=\"dataframe\">\n",
       "  <thead>\n",
       "    <tr style=\"text-align: right;\">\n",
       "      <th></th>\n",
       "      <th>f_0</th>\n",
       "      <th>f_1</th>\n",
       "      <th>f_2</th>\n",
       "      <th>f_3</th>\n",
       "      <th>f_4</th>\n",
       "      <th>f_5</th>\n",
       "      <th>f_6</th>\n",
       "      <th>f_7</th>\n",
       "      <th>f_8</th>\n",
       "      <th>f_9</th>\n",
       "      <th>...</th>\n",
       "      <th>f_17</th>\n",
       "      <th>f_18</th>\n",
       "      <th>f_19</th>\n",
       "      <th>f_20</th>\n",
       "      <th>f_21</th>\n",
       "      <th>f_22</th>\n",
       "      <th>train_flag</th>\n",
       "      <th>user_id</th>\n",
       "      <th>item_similar</th>\n",
       "      <th>label</th>\n",
       "    </tr>\n",
       "  </thead>\n",
       "  <tbody>\n",
       "    <tr>\n",
       "      <th>0</th>\n",
       "      <td>0.101110</td>\n",
       "      <td>9</td>\n",
       "      <td>7</td>\n",
       "      <td>0.000000</td>\n",
       "      <td>0.000000</td>\n",
       "      <td>0.150323</td>\n",
       "      <td>0.072382</td>\n",
       "      <td>0.000000</td>\n",
       "      <td>0.000000</td>\n",
       "      <td>0.0</td>\n",
       "      <td>...</td>\n",
       "      <td>0.0</td>\n",
       "      <td>0.0</td>\n",
       "      <td>0.0</td>\n",
       "      <td>0.0</td>\n",
       "      <td>0.0</td>\n",
       "      <td>0.0</td>\n",
       "      <td>train</td>\n",
       "      <td>10017</td>\n",
       "      <td>115250</td>\n",
       "      <td>0</td>\n",
       "    </tr>\n",
       "    <tr>\n",
       "      <th>1</th>\n",
       "      <td>0.074928</td>\n",
       "      <td>9</td>\n",
       "      <td>9</td>\n",
       "      <td>0.049158</td>\n",
       "      <td>0.032772</td>\n",
       "      <td>0.000000</td>\n",
       "      <td>0.000000</td>\n",
       "      <td>0.067001</td>\n",
       "      <td>0.053510</td>\n",
       "      <td>0.0</td>\n",
       "      <td>...</td>\n",
       "      <td>0.0</td>\n",
       "      <td>0.0</td>\n",
       "      <td>0.0</td>\n",
       "      <td>0.0</td>\n",
       "      <td>0.0</td>\n",
       "      <td>0.0</td>\n",
       "      <td>train</td>\n",
       "      <td>10017</td>\n",
       "      <td>105160</td>\n",
       "      <td>0</td>\n",
       "    </tr>\n",
       "    <tr>\n",
       "      <th>2</th>\n",
       "      <td>0.043984</td>\n",
       "      <td>9</td>\n",
       "      <td>8</td>\n",
       "      <td>0.027955</td>\n",
       "      <td>0.052613</td>\n",
       "      <td>0.000000</td>\n",
       "      <td>0.000000</td>\n",
       "      <td>0.031298</td>\n",
       "      <td>0.046947</td>\n",
       "      <td>0.0</td>\n",
       "      <td>...</td>\n",
       "      <td>0.0</td>\n",
       "      <td>0.0</td>\n",
       "      <td>0.0</td>\n",
       "      <td>0.0</td>\n",
       "      <td>0.0</td>\n",
       "      <td>0.0</td>\n",
       "      <td>train</td>\n",
       "      <td>10017</td>\n",
       "      <td>112366</td>\n",
       "      <td>0</td>\n",
       "    </tr>\n",
       "    <tr>\n",
       "      <th>3</th>\n",
       "      <td>0.042977</td>\n",
       "      <td>9</td>\n",
       "      <td>4</td>\n",
       "      <td>0.020458</td>\n",
       "      <td>0.030688</td>\n",
       "      <td>0.040533</td>\n",
       "      <td>0.020266</td>\n",
       "      <td>0.000000</td>\n",
       "      <td>0.000000</td>\n",
       "      <td>0.0</td>\n",
       "      <td>...</td>\n",
       "      <td>0.0</td>\n",
       "      <td>0.0</td>\n",
       "      <td>0.0</td>\n",
       "      <td>0.0</td>\n",
       "      <td>0.0</td>\n",
       "      <td>0.0</td>\n",
       "      <td>train</td>\n",
       "      <td>10017</td>\n",
       "      <td>113906</td>\n",
       "      <td>0</td>\n",
       "    </tr>\n",
       "    <tr>\n",
       "      <th>4</th>\n",
       "      <td>0.041175</td>\n",
       "      <td>9</td>\n",
       "      <td>13</td>\n",
       "      <td>0.038058</td>\n",
       "      <td>0.040754</td>\n",
       "      <td>0.000000</td>\n",
       "      <td>0.000000</td>\n",
       "      <td>0.008103</td>\n",
       "      <td>0.007479</td>\n",
       "      <td>0.0</td>\n",
       "      <td>...</td>\n",
       "      <td>0.0</td>\n",
       "      <td>0.0</td>\n",
       "      <td>0.0</td>\n",
       "      <td>0.0</td>\n",
       "      <td>0.0</td>\n",
       "      <td>0.0</td>\n",
       "      <td>train</td>\n",
       "      <td>10017</td>\n",
       "      <td>109955</td>\n",
       "      <td>0</td>\n",
       "    </tr>\n",
       "  </tbody>\n",
       "</table>\n",
       "<p>5 rows × 27 columns</p>\n",
       "</div>"
      ],
      "text/plain": [
       "        f_0  f_1  f_2       f_3       f_4       f_5       f_6       f_7  \\\n",
       "0  0.101110    9    7  0.000000  0.000000  0.150323  0.072382  0.000000   \n",
       "1  0.074928    9    9  0.049158  0.032772  0.000000  0.000000  0.067001   \n",
       "2  0.043984    9    8  0.027955  0.052613  0.000000  0.000000  0.031298   \n",
       "3  0.042977    9    4  0.020458  0.030688  0.040533  0.020266  0.000000   \n",
       "4  0.041175    9   13  0.038058  0.040754  0.000000  0.000000  0.008103   \n",
       "\n",
       "        f_8  f_9  ...    f_17  f_18  f_19  f_20  f_21  f_22  train_flag  \\\n",
       "0  0.000000  0.0  ...     0.0   0.0   0.0   0.0   0.0   0.0       train   \n",
       "1  0.053510  0.0  ...     0.0   0.0   0.0   0.0   0.0   0.0       train   \n",
       "2  0.046947  0.0  ...     0.0   0.0   0.0   0.0   0.0   0.0       train   \n",
       "3  0.000000  0.0  ...     0.0   0.0   0.0   0.0   0.0   0.0       train   \n",
       "4  0.007479  0.0  ...     0.0   0.0   0.0   0.0   0.0   0.0       train   \n",
       "\n",
       "   user_id  item_similar  label  \n",
       "0    10017        115250      0  \n",
       "1    10017        105160      0  \n",
       "2    10017        112366      0  \n",
       "3    10017        113906      0  \n",
       "4    10017        109955      0  \n",
       "\n",
       "[5 rows x 27 columns]"
      ]
     },
     "execution_count": 42,
     "metadata": {},
     "output_type": "execute_result"
    }
   ],
   "source": [
    "feature_all_train_test.head()"
   ]
  },
  {
   "cell_type": "markdown",
   "metadata": {},
   "source": [
    "# 导入模型 训练 rank"
   ]
  },
  {
   "cell_type": "code",
   "execution_count": 43,
   "metadata": {},
   "outputs": [
    {
     "name": "stderr",
     "output_type": "stream",
     "text": [
      "/Users/hongpengfei/anaconda3/lib/python3.6/site-packages/sklearn/ensemble/weight_boosting.py:29: DeprecationWarning: numpy.core.umath_tests is an internal NumPy module and should not be imported. It will be removed in a future NumPy release.\n",
      "  from numpy.core.umath_tests import inner1d\n"
     ]
    }
   ],
   "source": [
    "from sklearn.ensemble import RandomForestClassifier"
   ]
  },
  {
   "cell_type": "markdown",
   "metadata": {},
   "source": [
    "# 获取训练集和测试集"
   ]
  },
  {
   "cell_type": "code",
   "execution_count": 44,
   "metadata": {},
   "outputs": [],
   "source": [
    "feature_all = feature_all_train_test\n",
    "train_data = feature_all[feature_all['train_flag']=='train']\n",
    "test_data = feature_all[feature_all['train_flag']=='test']"
   ]
  },
  {
   "cell_type": "markdown",
   "metadata": {},
   "source": [
    "# 根据用户切分数据集 验证集占20%"
   ]
  },
  {
   "cell_type": "code",
   "execution_count": 45,
   "metadata": {},
   "outputs": [],
   "source": [
    "valid=0.2\n",
    "\n",
    "df_user = pd.DataFrame(list(set(train_data['user_id'])))\n",
    "df_user.columns = ['user_id']\n",
    "\n",
    "# df = df_user.sample(frac=1.0)  \n",
    "df = df_user\n",
    "cut_idx = int(round(valid * df.shape[0]))\n",
    "df_train_0, df_train_1 = df.iloc[:cut_idx], df.iloc[cut_idx:]\n",
    "\n",
    "train_data_0 = df_train_0.merge(train_data,on=['user_id'],how='left')\n",
    "train_data_1 = df_train_1.merge(train_data,on=['user_id'],how='left')"
   ]
  },
  {
   "cell_type": "markdown",
   "metadata": {},
   "source": [
    "# 获取特征数据"
   ]
  },
  {
   "cell_type": "code",
   "execution_count": 46,
   "metadata": {},
   "outputs": [],
   "source": [
    "f_col = [c for c in feature_all.columns if c not in ['train_flag','label','user_id','item_similar']]\n",
    "f_label = 'label'\n",
    "\n",
    "X0 = train_data_0[f_col].values\n",
    "y0 = train_data_0[f_label].values\n",
    "\n",
    "X1 = train_data_1[f_col].values\n",
    "y1 = train_data_1[f_label].values\n",
    "\n",
    "X_pred = test_data[f_col].values"
   ]
  },
  {
   "cell_type": "markdown",
   "metadata": {},
   "source": [
    "# 训练模型"
   ]
  },
  {
   "cell_type": "code",
   "execution_count": 47,
   "metadata": {},
   "outputs": [],
   "source": [
    "clf = RandomForestClassifier(n_estimators=100)\n",
    "clf = clf.fit(X0, y0)"
   ]
  },
  {
   "cell_type": "markdown",
   "metadata": {},
   "source": [
    "# 验证集验证模型效果并和没有rank的对比"
   ]
  },
  {
   "cell_type": "markdown",
   "metadata": {},
   "source": [
    "# 获取用户、召回、标签、以及召回score"
   ]
  },
  {
   "cell_type": "code",
   "execution_count": 48,
   "metadata": {},
   "outputs": [],
   "source": [
    "train_eval = train_data_1[['user_id','item_similar','label','f_0']]\n",
    "len_hot = len(hot_list)\n",
    "high_half_item, low_half_item = hot_list[:len_hot//2], hot_list[len_hot//2:] \n",
    "train_eval['half'] = train_eval['item_similar'].map(lambda x: 1 if x in low_half_item else 0)"
   ]
  },
  {
   "cell_type": "markdown",
   "metadata": {},
   "source": [
    "# 验证集预测，并排序"
   ]
  },
  {
   "cell_type": "code",
   "execution_count": 49,
   "metadata": {},
   "outputs": [],
   "source": [
    "topk = 50\n",
    "\n",
    "y1_pred = clf.predict_proba(X1)[:,1]\n",
    "train_eval['pred_prob'] = y1_pred \n",
    "\n",
    "train_eval['rank'] = train_eval.groupby(['user_id'])['pred_prob'].rank(ascending=False, method='first')\n",
    "train_eval['rank_recall'] = train_eval.groupby(['user_id'])['f_0'].rank(ascending=False, method='first')\n",
    "\n",
    "train_eval_rank = train_eval[train_eval['rank']<=topk]\n",
    "train_eval_rank_recall = train_eval[train_eval['rank_recall']<=topk]"
   ]
  },
  {
   "cell_type": "markdown",
   "metadata": {},
   "source": [
    "# 打印模型rank效果并和原始召回对比"
   ]
  },
  {
   "cell_type": "code",
   "execution_count": 50,
   "metadata": {},
   "outputs": [],
   "source": [
    "recall_rate = hit_rate"
   ]
  },
  {
   "cell_type": "markdown",
   "metadata": {},
   "source": [
    "#  rank 模型训练 效果"
   ]
  },
  {
   "cell_type": "code",
   "execution_count": 51,
   "metadata": {},
   "outputs": [
    {
     "name": "stdout",
     "output_type": "stream",
     "text": [
      "------------- eval result -------------\n",
      "hitrate_50_full :  0.11281320508253176 ndcg_50_full :  60.06381568921192 \n",
      "\n",
      "hitrate_50_half :  0.03362130388314927 ndcg_50_half :  17.758613810817334 \n",
      "\n",
      "------------- eval result -------------\n"
     ]
    }
   ],
   "source": [
    "len_user_id = len(set(train_eval.user_id))\n",
    "\n",
    "hitrate_50_full = np.sum(train_eval_rank['label']) / len_user_id * recall_rate\n",
    "hitrate_50_half = np.sum(train_eval_rank['label'] * train_eval_rank['half']) / len_user_id * recall_rate\n",
    "ndcg_50_full = np.sum(train_eval_rank['label'] / np.log2(train_eval_rank['rank'] + 2.0) * recall_rate)\n",
    "ndcg_50_half = np.sum(train_eval_rank['label'] * train_eval_rank['half'] / np.log2(train_eval_rank['rank'] + 2.0) * recall_rate)\n",
    "\n",
    "print(\"------------- eval result -------------\")\n",
    "print(\"hitrate_50_full : \", hitrate_50_full, 'ndcg_50_full : ', ndcg_50_full, '\\n')\n",
    "print(\"hitrate_50_half : \", hitrate_50_half, 'ndcg_50_half : ', ndcg_50_half, '\\n')\n",
    "print(\"------------- eval result -------------\")"
   ]
  },
  {
   "cell_type": "markdown",
   "metadata": {},
   "source": [
    "# 原始直接召回 效果"
   ]
  },
  {
   "cell_type": "code",
   "execution_count": 52,
   "metadata": {},
   "outputs": [
    {
     "name": "stdout",
     "output_type": "stream",
     "text": [
      "------------- eval result -------------\n",
      "hitrate_50_full :  0.11281320508253176 ndcg_50_full :  58.92521907471739 \n",
      "\n",
      "hitrate_50_half :  0.03362130388314927 ndcg_50_half :  15.763012514521709 \n",
      "\n",
      "------------- eval result -------------\n"
     ]
    }
   ],
   "source": [
    "len_user_id = len(set(train_eval.user_id))\n",
    "\n",
    "hitrate_50_full = np.sum(train_eval_rank_recall['label']) / len_user_id * recall_rate\n",
    "hitrate_50_half = np.sum(train_eval_rank_recall['label'] * train_eval_rank_recall['half']) / len_user_id * recall_rate\n",
    "ndcg_50_full = np.sum(train_eval_rank_recall['label'] / np.log2(train_eval_rank_recall['rank_recall'] + 2.0) * recall_rate)\n",
    "ndcg_50_half = np.sum(train_eval_rank_recall['label'] * train_eval_rank_recall['half'] / np.log2(train_eval_rank_recall['rank_recall'] + 2.0) * recall_rate)\n",
    "\n",
    "print(\"------------- eval result -------------\")\n",
    "print(\"hitrate_50_full : \", hitrate_50_full, 'ndcg_50_full : ', ndcg_50_full, '\\n')\n",
    "print(\"hitrate_50_half : \", hitrate_50_half, 'ndcg_50_half : ', ndcg_50_half, '\\n')\n",
    "print(\"------------- eval result -------------\")"
   ]
  },
  {
   "cell_type": "markdown",
   "metadata": {},
   "source": [
    "# 查看特征重要性"
   ]
  },
  {
   "cell_type": "code",
   "execution_count": 55,
   "metadata": {},
   "outputs": [],
   "source": [
    "df_feature_importances = pd.DataFrame()\n",
    "df_feature_importances['f_name'] = feature_col_name\n",
    "df_feature_importances['importances'] = clf.feature_importances_"
   ]
  },
  {
   "cell_type": "code",
   "execution_count": 56,
   "metadata": {},
   "outputs": [
    {
     "data": {
      "text/html": [
       "<div>\n",
       "<style scoped>\n",
       "    .dataframe tbody tr th:only-of-type {\n",
       "        vertical-align: middle;\n",
       "    }\n",
       "\n",
       "    .dataframe tbody tr th {\n",
       "        vertical-align: top;\n",
       "    }\n",
       "\n",
       "    .dataframe thead th {\n",
       "        text-align: right;\n",
       "    }\n",
       "</style>\n",
       "<table border=\"1\" class=\"dataframe\">\n",
       "  <thead>\n",
       "    <tr style=\"text-align: right;\">\n",
       "      <th></th>\n",
       "      <th>f_name</th>\n",
       "      <th>importances</th>\n",
       "    </tr>\n",
       "  </thead>\n",
       "  <tbody>\n",
       "    <tr>\n",
       "      <th>0</th>\n",
       "      <td>score_similar</td>\n",
       "      <td>0.168788</td>\n",
       "    </tr>\n",
       "    <tr>\n",
       "      <th>4</th>\n",
       "      <td>item_0_to_clicked_item_0_score</td>\n",
       "      <td>0.131143</td>\n",
       "    </tr>\n",
       "    <tr>\n",
       "      <th>3</th>\n",
       "      <td>clicked_item_0_to_item_0_score</td>\n",
       "      <td>0.120445</td>\n",
       "    </tr>\n",
       "    <tr>\n",
       "      <th>1</th>\n",
       "      <td>len_item_clicked</td>\n",
       "      <td>0.098493</td>\n",
       "    </tr>\n",
       "    <tr>\n",
       "      <th>2</th>\n",
       "      <td>recall_item_cnt</td>\n",
       "      <td>0.093328</td>\n",
       "    </tr>\n",
       "    <tr>\n",
       "      <th>6</th>\n",
       "      <td>item_1_to_clicked_item_1_score</td>\n",
       "      <td>0.063260</td>\n",
       "    </tr>\n",
       "    <tr>\n",
       "      <th>5</th>\n",
       "      <td>clicked_item_1_to_item_1_score</td>\n",
       "      <td>0.058691</td>\n",
       "    </tr>\n",
       "    <tr>\n",
       "      <th>7</th>\n",
       "      <td>clicked_item_2_to_item_2_score</td>\n",
       "      <td>0.037717</td>\n",
       "    </tr>\n",
       "    <tr>\n",
       "      <th>8</th>\n",
       "      <td>item_2_to_clicked_item_2_score</td>\n",
       "      <td>0.035174</td>\n",
       "    </tr>\n",
       "    <tr>\n",
       "      <th>10</th>\n",
       "      <td>item_3_to_clicked_item_3_score</td>\n",
       "      <td>0.022363</td>\n",
       "    </tr>\n",
       "    <tr>\n",
       "      <th>9</th>\n",
       "      <td>clicked_item_3_to_item_3_score</td>\n",
       "      <td>0.021751</td>\n",
       "    </tr>\n",
       "    <tr>\n",
       "      <th>11</th>\n",
       "      <td>clicked_item_4_to_item_4_score</td>\n",
       "      <td>0.020942</td>\n",
       "    </tr>\n",
       "    <tr>\n",
       "      <th>12</th>\n",
       "      <td>item_4_to_clicked_item_4_score</td>\n",
       "      <td>0.020385</td>\n",
       "    </tr>\n",
       "    <tr>\n",
       "      <th>14</th>\n",
       "      <td>item_5_to_clicked_item_5_score</td>\n",
       "      <td>0.016090</td>\n",
       "    </tr>\n",
       "    <tr>\n",
       "      <th>13</th>\n",
       "      <td>clicked_item_5_to_item_5_score</td>\n",
       "      <td>0.014600</td>\n",
       "    </tr>\n",
       "    <tr>\n",
       "      <th>15</th>\n",
       "      <td>clicked_item_6_to_item_6_score</td>\n",
       "      <td>0.013449</td>\n",
       "    </tr>\n",
       "    <tr>\n",
       "      <th>16</th>\n",
       "      <td>item_6_to_clicked_item_6_score</td>\n",
       "      <td>0.011469</td>\n",
       "    </tr>\n",
       "    <tr>\n",
       "      <th>17</th>\n",
       "      <td>clicked_item_7_to_item_7_score</td>\n",
       "      <td>0.010709</td>\n",
       "    </tr>\n",
       "    <tr>\n",
       "      <th>22</th>\n",
       "      <td>item_9_to_clicked_item_9_score</td>\n",
       "      <td>0.009991</td>\n",
       "    </tr>\n",
       "    <tr>\n",
       "      <th>21</th>\n",
       "      <td>clicked_item_9_to_item_9_score</td>\n",
       "      <td>0.009961</td>\n",
       "    </tr>\n",
       "    <tr>\n",
       "      <th>18</th>\n",
       "      <td>item_7_to_clicked_item_7_score</td>\n",
       "      <td>0.008581</td>\n",
       "    </tr>\n",
       "    <tr>\n",
       "      <th>20</th>\n",
       "      <td>item_8_to_clicked_item_8_score</td>\n",
       "      <td>0.006701</td>\n",
       "    </tr>\n",
       "    <tr>\n",
       "      <th>19</th>\n",
       "      <td>clicked_item_8_to_item_8_score</td>\n",
       "      <td>0.005966</td>\n",
       "    </tr>\n",
       "  </tbody>\n",
       "</table>\n",
       "</div>"
      ],
      "text/plain": [
       "                            f_name  importances\n",
       "0                    score_similar     0.168788\n",
       "4   item_0_to_clicked_item_0_score     0.131143\n",
       "3   clicked_item_0_to_item_0_score     0.120445\n",
       "1                 len_item_clicked     0.098493\n",
       "2                  recall_item_cnt     0.093328\n",
       "6   item_1_to_clicked_item_1_score     0.063260\n",
       "5   clicked_item_1_to_item_1_score     0.058691\n",
       "7   clicked_item_2_to_item_2_score     0.037717\n",
       "8   item_2_to_clicked_item_2_score     0.035174\n",
       "10  item_3_to_clicked_item_3_score     0.022363\n",
       "9   clicked_item_3_to_item_3_score     0.021751\n",
       "11  clicked_item_4_to_item_4_score     0.020942\n",
       "12  item_4_to_clicked_item_4_score     0.020385\n",
       "14  item_5_to_clicked_item_5_score     0.016090\n",
       "13  clicked_item_5_to_item_5_score     0.014600\n",
       "15  clicked_item_6_to_item_6_score     0.013449\n",
       "16  item_6_to_clicked_item_6_score     0.011469\n",
       "17  clicked_item_7_to_item_7_score     0.010709\n",
       "22  item_9_to_clicked_item_9_score     0.009991\n",
       "21  clicked_item_9_to_item_9_score     0.009961\n",
       "18  item_7_to_clicked_item_7_score     0.008581\n",
       "20  item_8_to_clicked_item_8_score     0.006701\n",
       "19  clicked_item_8_to_item_8_score     0.005966"
      ]
     },
     "execution_count": 56,
     "metadata": {},
     "output_type": "execute_result"
    }
   ],
   "source": [
    "df_feature_importances.sort_values(['importances'],ascending=0)"
   ]
  },
  {
   "cell_type": "markdown",
   "metadata": {},
   "source": [
    "# 我还想提高怎么办？"
   ]
  },
  {
   "cell_type": "markdown",
   "metadata": {},
   "source": [
    "## 增加新特征"
   ]
  },
  {
   "cell_type": "code",
   "execution_count": 57,
   "metadata": {},
   "outputs": [
    {
     "name": "stderr",
     "output_type": "stream",
     "text": [
      "352it [00:00, 3514.03it/s]"
     ]
    },
    {
     "name": "stdout",
     "output_type": "stream",
     "text": [
      "------- 加入特征 train -----------\n"
     ]
    },
    {
     "name": "stderr",
     "output_type": "stream",
     "text": [
      "95000it [00:22, 4136.91it/s]\n",
      "282it [00:00, 2817.97it/s]"
     ]
    },
    {
     "name": "stdout",
     "output_type": "stream",
     "text": [
      "------- 加入特征 test -----------\n"
     ]
    },
    {
     "name": "stderr",
     "output_type": "stream",
     "text": [
      "83150it [00:19, 4306.29it/s]\n"
     ]
    },
    {
     "name": "stdout",
     "output_type": "stream",
     "text": [
      "--------------------------- 特征数据 ---------------------\n",
      "所有数据条数 178150\n",
      "训练数据 :  95000\n",
      "训练数据 label 1 :  1900\n",
      "训练数据 1 / 0 rate :  0.010665169800729722\n",
      "测试数据 :  83150\n",
      "flag :  {'train', 'test'}\n",
      "--------------------------- 特征数据 ---------------------\n"
     ]
    }
   ],
   "source": [
    "data_list = []\n",
    "for flag, data in list_train_test:\n",
    "\n",
    "    print('------- 加入特征 {flag} -----------'.format(flag=flag))\n",
    "        \n",
    "    list_train_flag, list_user_id, list_item_similar, list_label, list_features = [], [], [], [], []\n",
    "    \n",
    "    for i,row in tqdm(data.iterrows()):\n",
    "\n",
    "        user_id, item_id, score_similar = str(row['user_id']), str(row['item_similar']), float(row['score_similar'])\n",
    "        \n",
    "        list_item_id = row['item_id'].split(',')[::-1]\n",
    "        \n",
    "        feature = [score_similar, len(list_item_id), stat_cnt[item_id]]\n",
    "        feature_col_name = ['score_similar','len_item_clicked','recall_item_cnt']\n",
    "#         feature = []\n",
    "        \n",
    "        len_ = len(list_item_id)\n",
    "        \n",
    "        for i in range(10):\n",
    "            if i < len_:\n",
    "                item_i = list_item_id[i]\n",
    "            \n",
    "                feature += [item_i, stat_cnt[item_i]]\n",
    "                if (item_i in matrix_association_rules) and (item_id in matrix_association_rules[item_i]):\n",
    "                    feature += [matrix_association_rules[item_i][item_id]]\n",
    "                else:\n",
    "                    feature += [0]\n",
    "                if (item_id in matrix_association_rules) and (item_i in matrix_association_rules[item_id]):\n",
    "                    feature += [matrix_association_rules[item_id][item_i]]\n",
    "                else:\n",
    "                    feature += [0]\n",
    "        \n",
    "            else:\n",
    "                feature += [0] * 4\n",
    "            feature_col_name += ['clicked_item_'+str(i),\n",
    "                                 'clicked_item_'+str(i)+'_cnt',\n",
    "                                 'clicked_item_'+str(i)+'_to_item_'+str(i)+'_score',\n",
    "                                 'item_'+str(i)+'_to_'+'clicked_item_'+str(i)+'_score']\n",
    "\n",
    "        list_features.append(feature)\n",
    "\n",
    "        list_train_flag.append(flag)\n",
    "        list_user_id.append(user_id)\n",
    "        list_item_similar.append(item_id)\n",
    "\n",
    "        if flag == 'train':\n",
    "            label = int(row['label'])\n",
    "            list_label.append(label)\n",
    "\n",
    "        if flag == 'test':  \n",
    "            label = -1\n",
    "            list_label.append(label)\n",
    "\n",
    "    feature_all = pd.DataFrame(list_features)\n",
    "    feature_all.columns = ['f_'+str(i) for i in range(len(feature_all.columns))]\n",
    "\n",
    "    feature_all['train_flag'] = list_train_flag\n",
    "    feature_all['user_id'] = list_user_id\n",
    "    feature_all['item_similar'] = list_item_similar\n",
    "    feature_all['label'] = list_label\n",
    "\n",
    "    data_list.append(feature_all)\n",
    "\n",
    "feature_all_train_test = pd.concat(data_list)\n",
    "\n",
    "\n",
    "print('--------------------------- 特征数据 ---------------------')\n",
    "len_f = len(feature_all_train_test)\n",
    "len_train = len(feature_all_train_test[feature_all_train_test['train_flag']=='train'])\n",
    "len_test = len(feature_all_train_test[feature_all_train_test['train_flag']=='test'])\n",
    "len_train_1 = len(feature_all_train_test[(feature_all_train_test['train_flag']=='train') & (feature_all_train_test['label']== 1)]) \n",
    "print('所有数据条数', len_f)\n",
    "print('训练数据 : ', len_train)\n",
    "print('训练数据 label 1 : ', len_train_1)\n",
    "print('训练数据 1 / 0 rate : ', len_train_1 * 1.0 / len_f)\n",
    "print('测试数据 : ' , len_test)\n",
    "print('flag : ', set(feature_all_train_test['train_flag']))\n",
    "print('--------------------------- 特征数据 ---------------------')"
   ]
  },
  {
   "cell_type": "code",
   "execution_count": 58,
   "metadata": {},
   "outputs": [
    {
     "data": {
      "text/html": [
       "<div>\n",
       "<style scoped>\n",
       "    .dataframe tbody tr th:only-of-type {\n",
       "        vertical-align: middle;\n",
       "    }\n",
       "\n",
       "    .dataframe tbody tr th {\n",
       "        vertical-align: top;\n",
       "    }\n",
       "\n",
       "    .dataframe thead th {\n",
       "        text-align: right;\n",
       "    }\n",
       "</style>\n",
       "<table border=\"1\" class=\"dataframe\">\n",
       "  <thead>\n",
       "    <tr style=\"text-align: right;\">\n",
       "      <th></th>\n",
       "      <th>f_0</th>\n",
       "      <th>f_1</th>\n",
       "      <th>f_2</th>\n",
       "      <th>f_3</th>\n",
       "      <th>f_4</th>\n",
       "      <th>f_5</th>\n",
       "      <th>f_6</th>\n",
       "      <th>f_7</th>\n",
       "      <th>f_8</th>\n",
       "      <th>f_9</th>\n",
       "      <th>...</th>\n",
       "      <th>f_37</th>\n",
       "      <th>f_38</th>\n",
       "      <th>f_39</th>\n",
       "      <th>f_40</th>\n",
       "      <th>f_41</th>\n",
       "      <th>f_42</th>\n",
       "      <th>train_flag</th>\n",
       "      <th>user_id</th>\n",
       "      <th>item_similar</th>\n",
       "      <th>label</th>\n",
       "    </tr>\n",
       "  </thead>\n",
       "  <tbody>\n",
       "    <tr>\n",
       "      <th>0</th>\n",
       "      <td>0.101110</td>\n",
       "      <td>9</td>\n",
       "      <td>7</td>\n",
       "      <td>104653</td>\n",
       "      <td>12</td>\n",
       "      <td>0.000000</td>\n",
       "      <td>0.000000</td>\n",
       "      <td>117009</td>\n",
       "      <td>4</td>\n",
       "      <td>0.150323</td>\n",
       "      <td>...</td>\n",
       "      <td>0.0</td>\n",
       "      <td>0.0</td>\n",
       "      <td>0</td>\n",
       "      <td>0</td>\n",
       "      <td>0.0</td>\n",
       "      <td>0.0</td>\n",
       "      <td>train</td>\n",
       "      <td>10017</td>\n",
       "      <td>115250</td>\n",
       "      <td>0</td>\n",
       "    </tr>\n",
       "    <tr>\n",
       "      <th>1</th>\n",
       "      <td>0.074928</td>\n",
       "      <td>9</td>\n",
       "      <td>9</td>\n",
       "      <td>104653</td>\n",
       "      <td>12</td>\n",
       "      <td>0.049158</td>\n",
       "      <td>0.032772</td>\n",
       "      <td>117009</td>\n",
       "      <td>4</td>\n",
       "      <td>0.000000</td>\n",
       "      <td>...</td>\n",
       "      <td>0.0</td>\n",
       "      <td>0.0</td>\n",
       "      <td>0</td>\n",
       "      <td>0</td>\n",
       "      <td>0.0</td>\n",
       "      <td>0.0</td>\n",
       "      <td>train</td>\n",
       "      <td>10017</td>\n",
       "      <td>105160</td>\n",
       "      <td>0</td>\n",
       "    </tr>\n",
       "    <tr>\n",
       "      <th>2</th>\n",
       "      <td>0.043984</td>\n",
       "      <td>9</td>\n",
       "      <td>8</td>\n",
       "      <td>104653</td>\n",
       "      <td>12</td>\n",
       "      <td>0.027955</td>\n",
       "      <td>0.052613</td>\n",
       "      <td>117009</td>\n",
       "      <td>4</td>\n",
       "      <td>0.000000</td>\n",
       "      <td>...</td>\n",
       "      <td>0.0</td>\n",
       "      <td>0.0</td>\n",
       "      <td>0</td>\n",
       "      <td>0</td>\n",
       "      <td>0.0</td>\n",
       "      <td>0.0</td>\n",
       "      <td>train</td>\n",
       "      <td>10017</td>\n",
       "      <td>112366</td>\n",
       "      <td>0</td>\n",
       "    </tr>\n",
       "    <tr>\n",
       "      <th>3</th>\n",
       "      <td>0.042977</td>\n",
       "      <td>9</td>\n",
       "      <td>4</td>\n",
       "      <td>104653</td>\n",
       "      <td>12</td>\n",
       "      <td>0.020458</td>\n",
       "      <td>0.030688</td>\n",
       "      <td>117009</td>\n",
       "      <td>4</td>\n",
       "      <td>0.040533</td>\n",
       "      <td>...</td>\n",
       "      <td>0.0</td>\n",
       "      <td>0.0</td>\n",
       "      <td>0</td>\n",
       "      <td>0</td>\n",
       "      <td>0.0</td>\n",
       "      <td>0.0</td>\n",
       "      <td>train</td>\n",
       "      <td>10017</td>\n",
       "      <td>113906</td>\n",
       "      <td>0</td>\n",
       "    </tr>\n",
       "    <tr>\n",
       "      <th>4</th>\n",
       "      <td>0.041175</td>\n",
       "      <td>9</td>\n",
       "      <td>13</td>\n",
       "      <td>104653</td>\n",
       "      <td>12</td>\n",
       "      <td>0.038058</td>\n",
       "      <td>0.040754</td>\n",
       "      <td>117009</td>\n",
       "      <td>4</td>\n",
       "      <td>0.000000</td>\n",
       "      <td>...</td>\n",
       "      <td>0.0</td>\n",
       "      <td>0.0</td>\n",
       "      <td>0</td>\n",
       "      <td>0</td>\n",
       "      <td>0.0</td>\n",
       "      <td>0.0</td>\n",
       "      <td>train</td>\n",
       "      <td>10017</td>\n",
       "      <td>109955</td>\n",
       "      <td>0</td>\n",
       "    </tr>\n",
       "  </tbody>\n",
       "</table>\n",
       "<p>5 rows × 47 columns</p>\n",
       "</div>"
      ],
      "text/plain": [
       "        f_0  f_1  f_2     f_3  f_4       f_5       f_6     f_7  f_8       f_9  \\\n",
       "0  0.101110    9    7  104653   12  0.000000  0.000000  117009    4  0.150323   \n",
       "1  0.074928    9    9  104653   12  0.049158  0.032772  117009    4  0.000000   \n",
       "2  0.043984    9    8  104653   12  0.027955  0.052613  117009    4  0.000000   \n",
       "3  0.042977    9    4  104653   12  0.020458  0.030688  117009    4  0.040533   \n",
       "4  0.041175    9   13  104653   12  0.038058  0.040754  117009    4  0.000000   \n",
       "\n",
       "   ...   f_37 f_38  f_39  f_40  f_41 f_42  train_flag  user_id  item_similar  \\\n",
       "0  ...    0.0  0.0     0     0   0.0  0.0       train    10017        115250   \n",
       "1  ...    0.0  0.0     0     0   0.0  0.0       train    10017        105160   \n",
       "2  ...    0.0  0.0     0     0   0.0  0.0       train    10017        112366   \n",
       "3  ...    0.0  0.0     0     0   0.0  0.0       train    10017        113906   \n",
       "4  ...    0.0  0.0     0     0   0.0  0.0       train    10017        109955   \n",
       "\n",
       "  label  \n",
       "0     0  \n",
       "1     0  \n",
       "2     0  \n",
       "3     0  \n",
       "4     0  \n",
       "\n",
       "[5 rows x 47 columns]"
      ]
     },
     "execution_count": 58,
     "metadata": {},
     "output_type": "execute_result"
    }
   ],
   "source": [
    "feature_all_train_test.head()"
   ]
  },
  {
   "cell_type": "markdown",
   "metadata": {},
   "source": [
    "# 导入模型"
   ]
  },
  {
   "cell_type": "code",
   "execution_count": 59,
   "metadata": {},
   "outputs": [],
   "source": [
    "from sklearn.ensemble import RandomForestClassifier"
   ]
  },
  {
   "cell_type": "markdown",
   "metadata": {},
   "source": [
    "## 获取训练集和测试集"
   ]
  },
  {
   "cell_type": "code",
   "execution_count": 60,
   "metadata": {},
   "outputs": [],
   "source": [
    "feature_all = feature_all_train_test\n",
    "train_data = feature_all[feature_all['train_flag']=='train']\n",
    "test_data = feature_all[feature_all['train_flag']=='test']"
   ]
  },
  {
   "cell_type": "markdown",
   "metadata": {},
   "source": [
    "# 根据用户切分数据集 验证集占20%"
   ]
  },
  {
   "cell_type": "code",
   "execution_count": 61,
   "metadata": {},
   "outputs": [],
   "source": [
    "valid=0.2\n",
    "\n",
    "df_user = pd.DataFrame(list(set(train_data['user_id'])))\n",
    "df_user.columns = ['user_id']\n",
    "\n",
    "# df = df_user.sample(frac=1.0)  \n",
    "df = df_user\n",
    "cut_idx = int(round(valid * df.shape[0]))\n",
    "df_train_0, df_train_1 = df.iloc[:cut_idx], df.iloc[cut_idx:]\n",
    "\n",
    "train_data_0 = df_train_0.merge(train_data,on=['user_id'],how='left')\n",
    "train_data_1 = df_train_1.merge(train_data,on=['user_id'],how='left')"
   ]
  },
  {
   "cell_type": "markdown",
   "metadata": {},
   "source": [
    "# 获取特征数据"
   ]
  },
  {
   "cell_type": "code",
   "execution_count": 62,
   "metadata": {},
   "outputs": [],
   "source": [
    "f_col = [c for c in feature_all.columns if c not in ['train_flag','label','user_id','item_similar']]\n",
    "f_label = 'label'\n",
    "\n",
    "X0 = train_data_0[f_col].values\n",
    "y0 = train_data_0[f_label].values\n",
    "\n",
    "X1 = train_data_1[f_col].values\n",
    "y1 = train_data_1[f_label].values\n",
    "\n",
    "X_pred = test_data[f_col].values"
   ]
  },
  {
   "cell_type": "markdown",
   "metadata": {},
   "source": [
    "# 训练模型"
   ]
  },
  {
   "cell_type": "code",
   "execution_count": 63,
   "metadata": {},
   "outputs": [],
   "source": [
    "clf = RandomForestClassifier(n_estimators=100)\n",
    "clf = clf.fit(X0, y0)"
   ]
  },
  {
   "cell_type": "markdown",
   "metadata": {},
   "source": [
    "# 获取用户、召回、标签、以及召回score"
   ]
  },
  {
   "cell_type": "code",
   "execution_count": 64,
   "metadata": {},
   "outputs": [],
   "source": [
    "train_eval = train_data_1[['user_id','item_similar','label','f_0']]\n",
    "len_hot = len(hot_list)\n",
    "high_half_item, low_half_item = hot_list[:len_hot//2], hot_list[len_hot//2:] \n",
    "train_eval['half'] = train_eval['item_similar'].map(lambda x: 1 if x in low_half_item else 0)"
   ]
  },
  {
   "cell_type": "markdown",
   "metadata": {},
   "source": [
    "# 验证集预测，并排序"
   ]
  },
  {
   "cell_type": "code",
   "execution_count": 65,
   "metadata": {},
   "outputs": [],
   "source": [
    "topk = 50\n",
    "\n",
    "y1_pred = clf.predict_proba(X1)[:,1]\n",
    "train_eval['pred_prob'] = y1_pred \n",
    "\n",
    "train_eval['rank'] = train_eval.groupby(['user_id'])['pred_prob'].rank(ascending=False, method='first')\n",
    "train_eval['rank_recall'] = train_eval.groupby(['user_id'])['f_0'].rank(ascending=False, method='first')\n",
    "\n",
    "train_eval_rank = train_eval[train_eval['rank']<=topk]\n",
    "train_eval_rank_recall = train_eval[train_eval['rank_recall']<=topk]"
   ]
  },
  {
   "cell_type": "markdown",
   "metadata": {},
   "source": [
    "# 打印模型rank效果并和原始召回对比"
   ]
  },
  {
   "cell_type": "code",
   "execution_count": 66,
   "metadata": {},
   "outputs": [],
   "source": [
    "recall_rate = hit_rate"
   ]
  },
  {
   "cell_type": "markdown",
   "metadata": {},
   "source": [
    "# rank 模型训练 效果"
   ]
  },
  {
   "cell_type": "code",
   "execution_count": 67,
   "metadata": {},
   "outputs": [
    {
     "name": "stdout",
     "output_type": "stream",
     "text": [
      "------------- eval result -------------\n",
      "hitrate_50_full :  0.11281320508253176 ndcg_50_full :  61.584075915351264 \n",
      "\n",
      "hitrate_50_half :  0.03362130388314927 ndcg_50_half :  18.2432843789127 \n",
      "\n",
      "------------- eval result -------------\n"
     ]
    }
   ],
   "source": [
    "len_user_id = len(set(train_eval.user_id))\n",
    "\n",
    "hitrate_50_full = np.sum(train_eval_rank['label']) / len_user_id * recall_rate\n",
    "hitrate_50_half = np.sum(train_eval_rank['label'] * train_eval_rank['half']) / len_user_id * recall_rate\n",
    "ndcg_50_full = np.sum(train_eval_rank['label'] / np.log2(train_eval_rank['rank'] + 2.0) * recall_rate)\n",
    "ndcg_50_half = np.sum(train_eval_rank['label'] * train_eval_rank['half'] / np.log2(train_eval_rank['rank'] + 2.0) * recall_rate)\n",
    "\n",
    "print(\"------------- eval result -------------\")\n",
    "print(\"hitrate_50_full : \", hitrate_50_full, 'ndcg_50_full : ', ndcg_50_full, '\\n')\n",
    "print(\"hitrate_50_half : \", hitrate_50_half, 'ndcg_50_half : ', ndcg_50_half, '\\n')\n",
    "print(\"------------- eval result -------------\")"
   ]
  },
  {
   "cell_type": "markdown",
   "metadata": {},
   "source": [
    "# 原始召回结果"
   ]
  },
  {
   "cell_type": "code",
   "execution_count": 68,
   "metadata": {},
   "outputs": [
    {
     "name": "stdout",
     "output_type": "stream",
     "text": [
      "------------- eval result -------------\n",
      "hitrate_50_full :  0.11281320508253176 ndcg_50_full :  58.92521907471739 \n",
      "\n",
      "hitrate_50_half :  0.03362130388314927 ndcg_50_half :  15.763012514521709 \n",
      "\n",
      "------------- eval result -------------\n"
     ]
    }
   ],
   "source": [
    "len_user_id = len(set(train_eval.user_id))\n",
    "\n",
    "hitrate_50_full = np.sum(train_eval_rank_recall['label']) / len_user_id * recall_rate\n",
    "hitrate_50_half = np.sum(train_eval_rank_recall['label'] * train_eval_rank_recall['half']) / len_user_id * recall_rate\n",
    "ndcg_50_full = np.sum(train_eval_rank_recall['label'] / np.log2(train_eval_rank_recall['rank_recall'] + 2.0) * recall_rate)\n",
    "ndcg_50_half = np.sum(train_eval_rank_recall['label'] * train_eval_rank_recall['half'] / np.log2(train_eval_rank_recall['rank_recall'] + 2.0) * recall_rate)\n",
    "\n",
    "print(\"------------- eval result -------------\")\n",
    "print(\"hitrate_50_full : \", hitrate_50_full, 'ndcg_50_full : ', ndcg_50_full, '\\n')\n",
    "print(\"hitrate_50_half : \", hitrate_50_half, 'ndcg_50_half : ', ndcg_50_half, '\\n')\n",
    "print(\"------------- eval result -------------\")"
   ]
  },
  {
   "cell_type": "markdown",
   "metadata": {},
   "source": [
    "# 查看特征重要性"
   ]
  },
  {
   "cell_type": "code",
   "execution_count": 69,
   "metadata": {},
   "outputs": [
    {
     "data": {
      "text/html": [
       "<div>\n",
       "<style scoped>\n",
       "    .dataframe tbody tr th:only-of-type {\n",
       "        vertical-align: middle;\n",
       "    }\n",
       "\n",
       "    .dataframe tbody tr th {\n",
       "        vertical-align: top;\n",
       "    }\n",
       "\n",
       "    .dataframe thead th {\n",
       "        text-align: right;\n",
       "    }\n",
       "</style>\n",
       "<table border=\"1\" class=\"dataframe\">\n",
       "  <thead>\n",
       "    <tr style=\"text-align: right;\">\n",
       "      <th></th>\n",
       "      <th>f_name</th>\n",
       "      <th>importances</th>\n",
       "    </tr>\n",
       "  </thead>\n",
       "  <tbody>\n",
       "    <tr>\n",
       "      <th>0</th>\n",
       "      <td>score_similar</td>\n",
       "      <td>0.108926</td>\n",
       "    </tr>\n",
       "    <tr>\n",
       "      <th>6</th>\n",
       "      <td>item_0_to_clicked_item_0_score</td>\n",
       "      <td>0.090925</td>\n",
       "    </tr>\n",
       "    <tr>\n",
       "      <th>5</th>\n",
       "      <td>clicked_item_0_to_item_0_score</td>\n",
       "      <td>0.081878</td>\n",
       "    </tr>\n",
       "    <tr>\n",
       "      <th>2</th>\n",
       "      <td>recall_item_cnt</td>\n",
       "      <td>0.072961</td>\n",
       "    </tr>\n",
       "    <tr>\n",
       "      <th>10</th>\n",
       "      <td>item_1_to_clicked_item_1_score</td>\n",
       "      <td>0.044522</td>\n",
       "    </tr>\n",
       "    <tr>\n",
       "      <th>9</th>\n",
       "      <td>clicked_item_1_to_item_1_score</td>\n",
       "      <td>0.038812</td>\n",
       "    </tr>\n",
       "    <tr>\n",
       "      <th>4</th>\n",
       "      <td>clicked_item_0_cnt</td>\n",
       "      <td>0.027211</td>\n",
       "    </tr>\n",
       "    <tr>\n",
       "      <th>3</th>\n",
       "      <td>clicked_item_0</td>\n",
       "      <td>0.027063</td>\n",
       "    </tr>\n",
       "    <tr>\n",
       "      <th>13</th>\n",
       "      <td>clicked_item_2_to_item_2_score</td>\n",
       "      <td>0.025555</td>\n",
       "    </tr>\n",
       "    <tr>\n",
       "      <th>14</th>\n",
       "      <td>item_2_to_clicked_item_2_score</td>\n",
       "      <td>0.025550</td>\n",
       "    </tr>\n",
       "    <tr>\n",
       "      <th>7</th>\n",
       "      <td>clicked_item_1</td>\n",
       "      <td>0.025113</td>\n",
       "    </tr>\n",
       "    <tr>\n",
       "      <th>11</th>\n",
       "      <td>clicked_item_2</td>\n",
       "      <td>0.023743</td>\n",
       "    </tr>\n",
       "    <tr>\n",
       "      <th>15</th>\n",
       "      <td>clicked_item_3</td>\n",
       "      <td>0.023211</td>\n",
       "    </tr>\n",
       "    <tr>\n",
       "      <th>8</th>\n",
       "      <td>clicked_item_1_cnt</td>\n",
       "      <td>0.021737</td>\n",
       "    </tr>\n",
       "    <tr>\n",
       "      <th>12</th>\n",
       "      <td>clicked_item_2_cnt</td>\n",
       "      <td>0.020415</td>\n",
       "    </tr>\n",
       "    <tr>\n",
       "      <th>19</th>\n",
       "      <td>clicked_item_4</td>\n",
       "      <td>0.019572</td>\n",
       "    </tr>\n",
       "    <tr>\n",
       "      <th>1</th>\n",
       "      <td>len_item_clicked</td>\n",
       "      <td>0.019003</td>\n",
       "    </tr>\n",
       "    <tr>\n",
       "      <th>27</th>\n",
       "      <td>clicked_item_6</td>\n",
       "      <td>0.017567</td>\n",
       "    </tr>\n",
       "    <tr>\n",
       "      <th>23</th>\n",
       "      <td>clicked_item_5</td>\n",
       "      <td>0.017541</td>\n",
       "    </tr>\n",
       "    <tr>\n",
       "      <th>16</th>\n",
       "      <td>clicked_item_3_cnt</td>\n",
       "      <td>0.016872</td>\n",
       "    </tr>\n",
       "    <tr>\n",
       "      <th>31</th>\n",
       "      <td>clicked_item_7</td>\n",
       "      <td>0.015484</td>\n",
       "    </tr>\n",
       "    <tr>\n",
       "      <th>20</th>\n",
       "      <td>clicked_item_4_cnt</td>\n",
       "      <td>0.014944</td>\n",
       "    </tr>\n",
       "    <tr>\n",
       "      <th>22</th>\n",
       "      <td>item_4_to_clicked_item_4_score</td>\n",
       "      <td>0.014883</td>\n",
       "    </tr>\n",
       "    <tr>\n",
       "      <th>35</th>\n",
       "      <td>clicked_item_8</td>\n",
       "      <td>0.014657</td>\n",
       "    </tr>\n",
       "    <tr>\n",
       "      <th>21</th>\n",
       "      <td>clicked_item_4_to_item_4_score</td>\n",
       "      <td>0.014587</td>\n",
       "    </tr>\n",
       "    <tr>\n",
       "      <th>39</th>\n",
       "      <td>clicked_item_9</td>\n",
       "      <td>0.014145</td>\n",
       "    </tr>\n",
       "    <tr>\n",
       "      <th>17</th>\n",
       "      <td>clicked_item_3_to_item_3_score</td>\n",
       "      <td>0.013655</td>\n",
       "    </tr>\n",
       "    <tr>\n",
       "      <th>28</th>\n",
       "      <td>clicked_item_6_cnt</td>\n",
       "      <td>0.012841</td>\n",
       "    </tr>\n",
       "    <tr>\n",
       "      <th>18</th>\n",
       "      <td>item_3_to_clicked_item_3_score</td>\n",
       "      <td>0.012822</td>\n",
       "    </tr>\n",
       "    <tr>\n",
       "      <th>24</th>\n",
       "      <td>clicked_item_5_cnt</td>\n",
       "      <td>0.012766</td>\n",
       "    </tr>\n",
       "    <tr>\n",
       "      <th>36</th>\n",
       "      <td>clicked_item_8_cnt</td>\n",
       "      <td>0.012016</td>\n",
       "    </tr>\n",
       "    <tr>\n",
       "      <th>40</th>\n",
       "      <td>clicked_item_9_cnt</td>\n",
       "      <td>0.011895</td>\n",
       "    </tr>\n",
       "    <tr>\n",
       "      <th>32</th>\n",
       "      <td>clicked_item_7_cnt</td>\n",
       "      <td>0.011365</td>\n",
       "    </tr>\n",
       "    <tr>\n",
       "      <th>26</th>\n",
       "      <td>item_5_to_clicked_item_5_score</td>\n",
       "      <td>0.010924</td>\n",
       "    </tr>\n",
       "    <tr>\n",
       "      <th>29</th>\n",
       "      <td>clicked_item_6_to_item_6_score</td>\n",
       "      <td>0.010078</td>\n",
       "    </tr>\n",
       "    <tr>\n",
       "      <th>25</th>\n",
       "      <td>clicked_item_5_to_item_5_score</td>\n",
       "      <td>0.009848</td>\n",
       "    </tr>\n",
       "    <tr>\n",
       "      <th>30</th>\n",
       "      <td>item_6_to_clicked_item_6_score</td>\n",
       "      <td>0.008475</td>\n",
       "    </tr>\n",
       "    <tr>\n",
       "      <th>33</th>\n",
       "      <td>clicked_item_7_to_item_7_score</td>\n",
       "      <td>0.007837</td>\n",
       "    </tr>\n",
       "    <tr>\n",
       "      <th>34</th>\n",
       "      <td>item_7_to_clicked_item_7_score</td>\n",
       "      <td>0.007319</td>\n",
       "    </tr>\n",
       "    <tr>\n",
       "      <th>41</th>\n",
       "      <td>clicked_item_9_to_item_9_score</td>\n",
       "      <td>0.006791</td>\n",
       "    </tr>\n",
       "    <tr>\n",
       "      <th>42</th>\n",
       "      <td>item_9_to_clicked_item_9_score</td>\n",
       "      <td>0.005640</td>\n",
       "    </tr>\n",
       "    <tr>\n",
       "      <th>37</th>\n",
       "      <td>clicked_item_8_to_item_8_score</td>\n",
       "      <td>0.004522</td>\n",
       "    </tr>\n",
       "    <tr>\n",
       "      <th>38</th>\n",
       "      <td>item_8_to_clicked_item_8_score</td>\n",
       "      <td>0.004326</td>\n",
       "    </tr>\n",
       "  </tbody>\n",
       "</table>\n",
       "</div>"
      ],
      "text/plain": [
       "                            f_name  importances\n",
       "0                    score_similar     0.108926\n",
       "6   item_0_to_clicked_item_0_score     0.090925\n",
       "5   clicked_item_0_to_item_0_score     0.081878\n",
       "2                  recall_item_cnt     0.072961\n",
       "10  item_1_to_clicked_item_1_score     0.044522\n",
       "9   clicked_item_1_to_item_1_score     0.038812\n",
       "4               clicked_item_0_cnt     0.027211\n",
       "3                   clicked_item_0     0.027063\n",
       "13  clicked_item_2_to_item_2_score     0.025555\n",
       "14  item_2_to_clicked_item_2_score     0.025550\n",
       "7                   clicked_item_1     0.025113\n",
       "11                  clicked_item_2     0.023743\n",
       "15                  clicked_item_3     0.023211\n",
       "8               clicked_item_1_cnt     0.021737\n",
       "12              clicked_item_2_cnt     0.020415\n",
       "19                  clicked_item_4     0.019572\n",
       "1                 len_item_clicked     0.019003\n",
       "27                  clicked_item_6     0.017567\n",
       "23                  clicked_item_5     0.017541\n",
       "16              clicked_item_3_cnt     0.016872\n",
       "31                  clicked_item_7     0.015484\n",
       "20              clicked_item_4_cnt     0.014944\n",
       "22  item_4_to_clicked_item_4_score     0.014883\n",
       "35                  clicked_item_8     0.014657\n",
       "21  clicked_item_4_to_item_4_score     0.014587\n",
       "39                  clicked_item_9     0.014145\n",
       "17  clicked_item_3_to_item_3_score     0.013655\n",
       "28              clicked_item_6_cnt     0.012841\n",
       "18  item_3_to_clicked_item_3_score     0.012822\n",
       "24              clicked_item_5_cnt     0.012766\n",
       "36              clicked_item_8_cnt     0.012016\n",
       "40              clicked_item_9_cnt     0.011895\n",
       "32              clicked_item_7_cnt     0.011365\n",
       "26  item_5_to_clicked_item_5_score     0.010924\n",
       "29  clicked_item_6_to_item_6_score     0.010078\n",
       "25  clicked_item_5_to_item_5_score     0.009848\n",
       "30  item_6_to_clicked_item_6_score     0.008475\n",
       "33  clicked_item_7_to_item_7_score     0.007837\n",
       "34  item_7_to_clicked_item_7_score     0.007319\n",
       "41  clicked_item_9_to_item_9_score     0.006791\n",
       "42  item_9_to_clicked_item_9_score     0.005640\n",
       "37  clicked_item_8_to_item_8_score     0.004522\n",
       "38  item_8_to_clicked_item_8_score     0.004326"
      ]
     },
     "execution_count": 69,
     "metadata": {},
     "output_type": "execute_result"
    }
   ],
   "source": [
    "df_feature_importances = pd.DataFrame()\n",
    "# df_feature_importances['f_name'] = f_col\n",
    "df_feature_importances['f_name'] = feature_col_name\n",
    "df_feature_importances['importances'] = clf.feature_importances_\n",
    "df_feature_importances.sort_values(['importances'],ascending=0)"
   ]
  },
  {
   "cell_type": "markdown",
   "metadata": {},
   "source": [
    "# 我怎么优化half指标"
   ]
  },
  {
   "cell_type": "markdown",
   "metadata": {},
   "source": [
    "# 获取特征数据"
   ]
  },
  {
   "cell_type": "code",
   "execution_count": 70,
   "metadata": {},
   "outputs": [],
   "source": [
    "f_col = [c for c in feature_all.columns if c not in ['train_flag','label','user_id','item_similar']]\n",
    "f_label = 'label'\n",
    "\n",
    "X0 = train_data_0[f_col].values\n",
    "y0 = train_data_0[f_label].values\n",
    "\n",
    "X1 = train_data_1[f_col].values\n",
    "y1 = train_data_1[f_label].values\n",
    "\n",
    "X_pred = test_data[f_col].values"
   ]
  },
  {
   "cell_type": "markdown",
   "metadata": {},
   "source": [
    "# half 数据增加"
   ]
  },
  {
   "cell_type": "code",
   "execution_count": 71,
   "metadata": {},
   "outputs": [],
   "source": [
    "train_add = train_data_0\n",
    "len_hot = len(hot_list)\n",
    "high_half_item, low_half_item = hot_list[:len_hot//2], hot_list[len_hot//2:] \n",
    "train_add['half'] = train_eval['item_similar'].map(lambda x: 1 if x in low_half_item else 0)\n",
    "train_add = train_add[train_add['half']==1]"
   ]
  },
  {
   "cell_type": "code",
   "execution_count": 72,
   "metadata": {},
   "outputs": [],
   "source": [
    "del train_add['half']"
   ]
  },
  {
   "cell_type": "code",
   "execution_count": 73,
   "metadata": {},
   "outputs": [],
   "source": [
    "train_data_0_add = pd.concat([train_data_0,train_add,train_add])"
   ]
  },
  {
   "cell_type": "code",
   "execution_count": 74,
   "metadata": {},
   "outputs": [],
   "source": [
    "X0_add = train_data_0_add[f_col].values\n",
    "y0_add = train_data_0_add[f_label].values"
   ]
  },
  {
   "cell_type": "markdown",
   "metadata": {},
   "source": [
    "# 训练模型"
   ]
  },
  {
   "cell_type": "code",
   "execution_count": 75,
   "metadata": {},
   "outputs": [],
   "source": [
    "clf = RandomForestClassifier(n_estimators=100)\n",
    "clf = clf.fit(X0, y0)"
   ]
  },
  {
   "cell_type": "markdown",
   "metadata": {},
   "source": [
    "# 获取用户、召回、标签、以及召回score"
   ]
  },
  {
   "cell_type": "code",
   "execution_count": 76,
   "metadata": {},
   "outputs": [],
   "source": [
    "train_eval = train_data_1[['user_id','item_similar','label','f_0']]\n",
    "len_hot = len(hot_list)\n",
    "high_half_item, low_half_item = hot_list[:len_hot//2], hot_list[len_hot//2:] \n",
    "train_eval['half'] = train_eval['item_similar'].map(lambda x: 1 if x in low_half_item else 0)"
   ]
  },
  {
   "cell_type": "markdown",
   "metadata": {},
   "source": [
    "# 验证集预测，并排序"
   ]
  },
  {
   "cell_type": "code",
   "execution_count": 77,
   "metadata": {},
   "outputs": [],
   "source": [
    "topk = 50\n",
    "\n",
    "y1_pred = clf.predict_proba(X1)[:,1]\n",
    "train_eval['pred_prob'] = y1_pred \n",
    "\n",
    "train_eval['rank'] = train_eval.groupby(['user_id'])['pred_prob'].rank(ascending=False, method='first')\n",
    "train_eval['rank_recall'] = train_eval.groupby(['user_id'])['f_0'].rank(ascending=False, method='first')\n",
    "\n",
    "train_eval_rank = train_eval[train_eval['rank']<=topk]\n",
    "train_eval_rank_recall = train_eval[train_eval['rank_recall']<=topk]"
   ]
  },
  {
   "cell_type": "markdown",
   "metadata": {},
   "source": [
    "# 打印模型rank效果并和原始召回对比"
   ]
  },
  {
   "cell_type": "code",
   "execution_count": 78,
   "metadata": {},
   "outputs": [],
   "source": [
    "recall_rate = hit_rate"
   ]
  },
  {
   "cell_type": "markdown",
   "metadata": {},
   "source": [
    "# rank 模型训练 效果"
   ]
  },
  {
   "cell_type": "code",
   "execution_count": 277,
   "metadata": {},
   "outputs": [
    {
     "name": "stdout",
     "output_type": "stream",
     "text": [
      "------------- eval result -------------\n",
      "hitrate_50_full :  0.11281320508253176 ndcg_50_full :  62.18469719610212 \n",
      "\n",
      "hitrate_50_half :  0.03295333095831849 ndcg_50_half :  18.341852749227353 \n",
      "\n",
      "------------- eval result -------------\n"
     ]
    }
   ],
   "source": [
    "len_user_id = len(set(train_eval.user_id))\n",
    "\n",
    "hitrate_50_full = np.sum(train_eval_rank['label']) / len_user_id * recall_rate\n",
    "hitrate_50_half = np.sum(train_eval_rank['label'] * train_eval_rank['half']) / len_user_id * recall_rate\n",
    "ndcg_50_full = np.sum(train_eval_rank['label'] / np.log2(train_eval_rank['rank'] + 2.0) * recall_rate)\n",
    "ndcg_50_half = np.sum(train_eval_rank['label'] * train_eval_rank['half'] / np.log2(train_eval_rank['rank'] + 2.0) * recall_rate)\n",
    "\n",
    "print(\"------------- eval result -------------\")\n",
    "print(\"hitrate_50_full : \", hitrate_50_full, 'ndcg_50_full : ', ndcg_50_full, '\\n')\n",
    "print(\"hitrate_50_half : \", hitrate_50_half, 'ndcg_50_half : ', ndcg_50_half, '\\n')\n",
    "print(\"------------- eval result -------------\")"
   ]
  },
  {
   "cell_type": "markdown",
   "metadata": {},
   "source": [
    "# 换好模型？"
   ]
  },
  {
   "cell_type": "markdown",
   "metadata": {},
   "source": [
    "# Stacking？"
   ]
  },
  {
   "cell_type": "markdown",
   "metadata": {},
   "source": [
    "# 加特征？什么是有效特征？"
   ]
  },
  {
   "cell_type": "markdown",
   "metadata": {},
   "source": [
    "# 召回提高？"
   ]
  },
  {
   "cell_type": "code",
   "execution_count": null,
   "metadata": {},
   "outputs": [],
   "source": []
  },
  {
   "cell_type": "code",
   "execution_count": null,
   "metadata": {},
   "outputs": [],
   "source": []
  },
  {
   "cell_type": "code",
   "execution_count": null,
   "metadata": {},
   "outputs": [],
   "source": []
  },
  {
   "cell_type": "code",
   "execution_count": null,
   "metadata": {},
   "outputs": [],
   "source": []
  },
  {
   "cell_type": "code",
   "execution_count": null,
   "metadata": {},
   "outputs": [],
   "source": []
  },
  {
   "cell_type": "code",
   "execution_count": null,
   "metadata": {},
   "outputs": [],
   "source": []
  },
  {
   "cell_type": "code",
   "execution_count": null,
   "metadata": {},
   "outputs": [],
   "source": []
  },
  {
   "cell_type": "code",
   "execution_count": null,
   "metadata": {},
   "outputs": [],
   "source": []
  },
  {
   "cell_type": "code",
   "execution_count": null,
   "metadata": {},
   "outputs": [],
   "source": []
  },
  {
   "cell_type": "code",
   "execution_count": null,
   "metadata": {},
   "outputs": [],
   "source": []
  },
  {
   "cell_type": "code",
   "execution_count": null,
   "metadata": {},
   "outputs": [],
   "source": []
  },
  {
   "cell_type": "code",
   "execution_count": null,
   "metadata": {},
   "outputs": [],
   "source": []
  },
  {
   "cell_type": "code",
   "execution_count": null,
   "metadata": {},
   "outputs": [],
   "source": []
  },
  {
   "cell_type": "code",
   "execution_count": null,
   "metadata": {},
   "outputs": [],
   "source": []
  }
 ],
 "metadata": {
  "kernelspec": {
   "display_name": "Python 3",
   "language": "python",
   "name": "python3"
  },
  "language_info": {
   "codemirror_mode": {
    "name": "ipython",
    "version": 3
   },
   "file_extension": ".py",
   "mimetype": "text/x-python",
   "name": "python",
   "nbconvert_exporter": "python",
   "pygments_lexer": "ipython3",
   "version": "3.6.4"
  }
 },
 "nbformat": 4,
 "nbformat_minor": 2
}
