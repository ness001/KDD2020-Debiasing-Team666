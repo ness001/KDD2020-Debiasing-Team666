{
 "cells": [
  {
   "cell_type": "code",
   "execution_count": 14,
   "metadata": {},
   "outputs": [],
   "source": [
    "from tqdm import tqdm\n",
    "import pandas as pd\n",
    "import random\n",
    "\n",
    "\n",
    "pd.set_option(\"display.precision\",16 )\n",
    "train_path='../data/underexpose_train/'\n",
    "test_path='../data/underexpose_test/'\n",
    "now_p=6\n",
    "\n",
    "col_name=['item_id']\n",
    "for i in range(0,128):\n",
    "    col_name.append('tv'+str(i))\n",
    "for i in range(0,128):\n",
    "    col_name.append('iv'+str(i))\n",
    "\n",
    "\n",
    "\n",
    "itemft=pd.read_csv(train_path+'underexpose_item_feat.csv',low_memory=False,names=col_name)\n",
    "itemft=itemft.replace('[\\[\\]]','',regex=True)#regex=True is the key\n",
    "#underexpose_item_feat.apply(lambda x: x.str.replace('[\\[\\]]',''),axis=1)\n",
    "userft=pd.read_csv(train_path+'underexpose_user_feat.csv',low_memory=False,names=['user_id','age','gender','city'],dtype=\\\n",
    "                  {'user_id': np.int32,'age':'category','gender':'category','city':'category'})\n"
   ]
  },
  {
   "cell_type": "code",
   "execution_count": 81,
   "metadata": {},
   "outputs": [
    {
     "name": "stderr",
     "output_type": "stream",
     "text": [
      "100%|██████████| 7/7 [24:43<00:00, 211.94s/it]\n"
     ]
    }
   ],
   "source": [
    "for p in tqdm(range(0,now_p+1)):\n",
    "\n",
    "\n",
    "    tnc=pd.read_csv(train_path+r'underexpose_train_click-{}.csv'.format(p),low_memory=False,names=['user_id','item_id','time'])\n",
    "    ttc=pd.read_csv(test_path+r'underexpose_test_click-{}/underexpose_test_click-{}.csv'.format(p,p),low_memory=False\\\n",
    "                   ,names=['user_id','item_id','time'])\n",
    "\n",
    "    # ttt=pd.read_csv(test_path+'utc_click-{}.csv'.format(p),low_memory=False)\n",
    "    # ttt.drop(ttt.columns[0],axis=1,inplace=True) # !!\n",
    "    a=userft.user_id.value_counts()\n",
    "    dup_user_id=a[a>1].index.to_list()\n",
    "    dup_index=userft.loc[userft.user_id.isin(dup_user_id),:].index.to_list()\n",
    "    dup_index=[i for i in dup_index if i%2 == 0]\n",
    "    userft.drop(dup_index,inplace=True)\n",
    "    temp=tnc.merge(itemft,how='left')\n",
    "    assert tnc.shape[0]==temp.shape[0]\n",
    "\n",
    "    all_tn=temp.merge(userft,left_on=['user_id'],right_on=['user_id'],how='left')\n",
    "    assert temp.shape[0] == all_tn.shape[0]\n",
    "    all_tn.to_csv(train_path+'train_{}.csv'.format(p),index=False)"
   ]
  },
  {
   "cell_type": "markdown",
   "metadata": {},
   "source": [
    "## get matrix"
   ]
  },
  {
   "cell_type": "code",
   "execution_count": 4,
   "metadata": {},
   "outputs": [],
   "source": [
    "from tqdm import tqdm\n",
    "import pandas as pd\n",
    "train_path='../data/underexpose_train/'\n",
    "test_path='../data/underexpose_test/'\n",
    "now_p=6\n",
    "df=pd.read_csv('../user_data/'+'train_{}.csv'.format(now_p),low_memory=False)"
   ]
  },
  {
   "cell_type": "code",
   "execution_count": 4,
   "metadata": {},
   "outputs": [],
   "source": [
    "item_user_matrix=df.pivot_table(index='item_id',columns='user_id',aggfunc='size',fill_value=0)"
   ]
  },
  {
   "cell_type": "code",
   "execution_count": 5,
   "metadata": {},
   "outputs": [
    {
     "data": {
      "text/plain": [
       "(48662, 18575)"
      ]
     },
     "execution_count": 5,
     "metadata": {},
     "output_type": "execute_result"
    }
   ],
   "source": [
    "item_user_matrix.shape"
   ]
  },
  {
   "cell_type": "code",
   "execution_count": 11,
   "metadata": {},
   "outputs": [],
   "source": [
    "item_user_matrix_min=item_user_matrix.dropna()"
   ]
  },
  {
   "cell_type": "code",
   "execution_count": 9,
   "metadata": {},
   "outputs": [
    {
     "ename": "HDF5ExtError",
     "evalue": "Problems creating the Array.",
     "output_type": "error",
     "traceback": [
      "\u001b[0;31m---------------------------------------------------------------------------\u001b[0m",
      "\u001b[0;31mHDF5ExtError\u001b[0m                              Traceback (most recent call last)",
      "\u001b[0;32m<ipython-input-9-ab2235ae326b>\u001b[0m in \u001b[0;36m<module>\u001b[0;34m\u001b[0m\n\u001b[0;32m----> 1\u001b[0;31m \u001b[0mitem_user_matrix\u001b[0m\u001b[0;34m.\u001b[0m\u001b[0mto_hdf\u001b[0m\u001b[0;34m(\u001b[0m\u001b[0mtrain_path\u001b[0m\u001b[0;34m+\u001b[0m\u001b[0;34m'item_user_matrix.h5'\u001b[0m\u001b[0;34m,\u001b[0m\u001b[0mkey\u001b[0m\u001b[0;34m=\u001b[0m\u001b[0;34m'result'\u001b[0m\u001b[0;34m,\u001b[0m\u001b[0mindex\u001b[0m\u001b[0;34m=\u001b[0m\u001b[0;32mFalse\u001b[0m\u001b[0;34m)\u001b[0m\u001b[0;34m\u001b[0m\u001b[0;34m\u001b[0m\u001b[0m\n\u001b[0m",
      "\u001b[0;32m~/anaconda3/envs/newborn/lib/python3.7/site-packages/pandas/core/generic.py\u001b[0m in \u001b[0;36mto_hdf\u001b[0;34m(self, path_or_buf, key, **kwargs)\u001b[0m\n\u001b[1;32m   2528\u001b[0m         \u001b[0;32mfrom\u001b[0m \u001b[0mpandas\u001b[0m\u001b[0;34m.\u001b[0m\u001b[0mio\u001b[0m \u001b[0;32mimport\u001b[0m \u001b[0mpytables\u001b[0m\u001b[0;34m\u001b[0m\u001b[0;34m\u001b[0m\u001b[0m\n\u001b[1;32m   2529\u001b[0m \u001b[0;34m\u001b[0m\u001b[0m\n\u001b[0;32m-> 2530\u001b[0;31m         \u001b[0mpytables\u001b[0m\u001b[0;34m.\u001b[0m\u001b[0mto_hdf\u001b[0m\u001b[0;34m(\u001b[0m\u001b[0mpath_or_buf\u001b[0m\u001b[0;34m,\u001b[0m \u001b[0mkey\u001b[0m\u001b[0;34m,\u001b[0m \u001b[0mself\u001b[0m\u001b[0;34m,\u001b[0m \u001b[0;34m**\u001b[0m\u001b[0mkwargs\u001b[0m\u001b[0;34m)\u001b[0m\u001b[0;34m\u001b[0m\u001b[0;34m\u001b[0m\u001b[0m\n\u001b[0m\u001b[1;32m   2531\u001b[0m \u001b[0;34m\u001b[0m\u001b[0m\n\u001b[1;32m   2532\u001b[0m     \u001b[0;32mdef\u001b[0m \u001b[0mto_msgpack\u001b[0m\u001b[0;34m(\u001b[0m\u001b[0mself\u001b[0m\u001b[0;34m,\u001b[0m \u001b[0mpath_or_buf\u001b[0m\u001b[0;34m=\u001b[0m\u001b[0;32mNone\u001b[0m\u001b[0;34m,\u001b[0m \u001b[0mencoding\u001b[0m\u001b[0;34m=\u001b[0m\u001b[0;34m\"utf-8\"\u001b[0m\u001b[0;34m,\u001b[0m \u001b[0;34m**\u001b[0m\u001b[0mkwargs\u001b[0m\u001b[0;34m)\u001b[0m\u001b[0;34m:\u001b[0m\u001b[0;34m\u001b[0m\u001b[0;34m\u001b[0m\u001b[0m\n",
      "\u001b[0;32m~/anaconda3/envs/newborn/lib/python3.7/site-packages/pandas/io/pytables.py\u001b[0m in \u001b[0;36mto_hdf\u001b[0;34m(path_or_buf, key, value, mode, complevel, complib, append, **kwargs)\u001b[0m\n\u001b[1;32m    276\u001b[0m             \u001b[0mpath_or_buf\u001b[0m\u001b[0;34m,\u001b[0m \u001b[0mmode\u001b[0m\u001b[0;34m=\u001b[0m\u001b[0mmode\u001b[0m\u001b[0;34m,\u001b[0m \u001b[0mcomplevel\u001b[0m\u001b[0;34m=\u001b[0m\u001b[0mcomplevel\u001b[0m\u001b[0;34m,\u001b[0m \u001b[0mcomplib\u001b[0m\u001b[0;34m=\u001b[0m\u001b[0mcomplib\u001b[0m\u001b[0;34m\u001b[0m\u001b[0;34m\u001b[0m\u001b[0m\n\u001b[1;32m    277\u001b[0m         ) as store:\n\u001b[0;32m--> 278\u001b[0;31m             \u001b[0mf\u001b[0m\u001b[0;34m(\u001b[0m\u001b[0mstore\u001b[0m\u001b[0;34m)\u001b[0m\u001b[0;34m\u001b[0m\u001b[0;34m\u001b[0m\u001b[0m\n\u001b[0m\u001b[1;32m    279\u001b[0m     \u001b[0;32melse\u001b[0m\u001b[0;34m:\u001b[0m\u001b[0;34m\u001b[0m\u001b[0;34m\u001b[0m\u001b[0m\n\u001b[1;32m    280\u001b[0m         \u001b[0mf\u001b[0m\u001b[0;34m(\u001b[0m\u001b[0mpath_or_buf\u001b[0m\u001b[0;34m)\u001b[0m\u001b[0;34m\u001b[0m\u001b[0;34m\u001b[0m\u001b[0m\n",
      "\u001b[0;32m~/anaconda3/envs/newborn/lib/python3.7/site-packages/pandas/io/pytables.py\u001b[0m in \u001b[0;36m<lambda>\u001b[0;34m(store)\u001b[0m\n\u001b[1;32m    269\u001b[0m         \u001b[0mf\u001b[0m \u001b[0;34m=\u001b[0m \u001b[0;32mlambda\u001b[0m \u001b[0mstore\u001b[0m\u001b[0;34m:\u001b[0m \u001b[0mstore\u001b[0m\u001b[0;34m.\u001b[0m\u001b[0mappend\u001b[0m\u001b[0;34m(\u001b[0m\u001b[0mkey\u001b[0m\u001b[0;34m,\u001b[0m \u001b[0mvalue\u001b[0m\u001b[0;34m,\u001b[0m \u001b[0;34m**\u001b[0m\u001b[0mkwargs\u001b[0m\u001b[0;34m)\u001b[0m\u001b[0;34m\u001b[0m\u001b[0;34m\u001b[0m\u001b[0m\n\u001b[1;32m    270\u001b[0m     \u001b[0;32melse\u001b[0m\u001b[0;34m:\u001b[0m\u001b[0;34m\u001b[0m\u001b[0;34m\u001b[0m\u001b[0m\n\u001b[0;32m--> 271\u001b[0;31m         \u001b[0mf\u001b[0m \u001b[0;34m=\u001b[0m \u001b[0;32mlambda\u001b[0m \u001b[0mstore\u001b[0m\u001b[0;34m:\u001b[0m \u001b[0mstore\u001b[0m\u001b[0;34m.\u001b[0m\u001b[0mput\u001b[0m\u001b[0;34m(\u001b[0m\u001b[0mkey\u001b[0m\u001b[0;34m,\u001b[0m \u001b[0mvalue\u001b[0m\u001b[0;34m,\u001b[0m \u001b[0;34m**\u001b[0m\u001b[0mkwargs\u001b[0m\u001b[0;34m)\u001b[0m\u001b[0;34m\u001b[0m\u001b[0;34m\u001b[0m\u001b[0m\n\u001b[0m\u001b[1;32m    272\u001b[0m \u001b[0;34m\u001b[0m\u001b[0m\n\u001b[1;32m    273\u001b[0m     \u001b[0mpath_or_buf\u001b[0m \u001b[0;34m=\u001b[0m \u001b[0m_stringify_path\u001b[0m\u001b[0;34m(\u001b[0m\u001b[0mpath_or_buf\u001b[0m\u001b[0;34m)\u001b[0m\u001b[0;34m\u001b[0m\u001b[0;34m\u001b[0m\u001b[0m\n",
      "\u001b[0;32m~/anaconda3/envs/newborn/lib/python3.7/site-packages/pandas/io/pytables.py\u001b[0m in \u001b[0;36mput\u001b[0;34m(self, key, value, format, append, **kwargs)\u001b[0m\n\u001b[1;32m    957\u001b[0m             \u001b[0mformat\u001b[0m \u001b[0;34m=\u001b[0m \u001b[0mget_option\u001b[0m\u001b[0;34m(\u001b[0m\u001b[0;34m\"io.hdf.default_format\"\u001b[0m\u001b[0;34m)\u001b[0m \u001b[0;32mor\u001b[0m \u001b[0;34m\"fixed\"\u001b[0m\u001b[0;34m\u001b[0m\u001b[0;34m\u001b[0m\u001b[0m\n\u001b[1;32m    958\u001b[0m         \u001b[0mkwargs\u001b[0m \u001b[0;34m=\u001b[0m \u001b[0mself\u001b[0m\u001b[0;34m.\u001b[0m\u001b[0m_validate_format\u001b[0m\u001b[0;34m(\u001b[0m\u001b[0mformat\u001b[0m\u001b[0;34m,\u001b[0m \u001b[0mkwargs\u001b[0m\u001b[0;34m)\u001b[0m\u001b[0;34m\u001b[0m\u001b[0;34m\u001b[0m\u001b[0m\n\u001b[0;32m--> 959\u001b[0;31m         \u001b[0mself\u001b[0m\u001b[0;34m.\u001b[0m\u001b[0m_write_to_group\u001b[0m\u001b[0;34m(\u001b[0m\u001b[0mkey\u001b[0m\u001b[0;34m,\u001b[0m \u001b[0mvalue\u001b[0m\u001b[0;34m,\u001b[0m \u001b[0mappend\u001b[0m\u001b[0;34m=\u001b[0m\u001b[0mappend\u001b[0m\u001b[0;34m,\u001b[0m \u001b[0;34m**\u001b[0m\u001b[0mkwargs\u001b[0m\u001b[0;34m)\u001b[0m\u001b[0;34m\u001b[0m\u001b[0;34m\u001b[0m\u001b[0m\n\u001b[0m\u001b[1;32m    960\u001b[0m \u001b[0;34m\u001b[0m\u001b[0m\n\u001b[1;32m    961\u001b[0m     \u001b[0;32mdef\u001b[0m \u001b[0mremove\u001b[0m\u001b[0;34m(\u001b[0m\u001b[0mself\u001b[0m\u001b[0;34m,\u001b[0m \u001b[0mkey\u001b[0m\u001b[0;34m,\u001b[0m \u001b[0mwhere\u001b[0m\u001b[0;34m=\u001b[0m\u001b[0;32mNone\u001b[0m\u001b[0;34m,\u001b[0m \u001b[0mstart\u001b[0m\u001b[0;34m=\u001b[0m\u001b[0;32mNone\u001b[0m\u001b[0;34m,\u001b[0m \u001b[0mstop\u001b[0m\u001b[0;34m=\u001b[0m\u001b[0;32mNone\u001b[0m\u001b[0;34m)\u001b[0m\u001b[0;34m:\u001b[0m\u001b[0;34m\u001b[0m\u001b[0;34m\u001b[0m\u001b[0m\n",
      "\u001b[0;32m~/anaconda3/envs/newborn/lib/python3.7/site-packages/pandas/io/pytables.py\u001b[0m in \u001b[0;36m_write_to_group\u001b[0;34m(self, key, value, format, index, append, complib, encoding, **kwargs)\u001b[0m\n\u001b[1;32m   1523\u001b[0m \u001b[0;34m\u001b[0m\u001b[0m\n\u001b[1;32m   1524\u001b[0m         \u001b[0;31m# write the object\u001b[0m\u001b[0;34m\u001b[0m\u001b[0;34m\u001b[0m\u001b[0;34m\u001b[0m\u001b[0m\n\u001b[0;32m-> 1525\u001b[0;31m         \u001b[0ms\u001b[0m\u001b[0;34m.\u001b[0m\u001b[0mwrite\u001b[0m\u001b[0;34m(\u001b[0m\u001b[0mobj\u001b[0m\u001b[0;34m=\u001b[0m\u001b[0mvalue\u001b[0m\u001b[0;34m,\u001b[0m \u001b[0mappend\u001b[0m\u001b[0;34m=\u001b[0m\u001b[0mappend\u001b[0m\u001b[0;34m,\u001b[0m \u001b[0mcomplib\u001b[0m\u001b[0;34m=\u001b[0m\u001b[0mcomplib\u001b[0m\u001b[0;34m,\u001b[0m \u001b[0;34m**\u001b[0m\u001b[0mkwargs\u001b[0m\u001b[0;34m)\u001b[0m\u001b[0;34m\u001b[0m\u001b[0;34m\u001b[0m\u001b[0m\n\u001b[0m\u001b[1;32m   1526\u001b[0m \u001b[0;34m\u001b[0m\u001b[0m\n\u001b[1;32m   1527\u001b[0m         \u001b[0;32mif\u001b[0m \u001b[0ms\u001b[0m\u001b[0;34m.\u001b[0m\u001b[0mis_table\u001b[0m \u001b[0;32mand\u001b[0m \u001b[0mindex\u001b[0m\u001b[0;34m:\u001b[0m\u001b[0;34m\u001b[0m\u001b[0;34m\u001b[0m\u001b[0m\n",
      "\u001b[0;32m~/anaconda3/envs/newborn/lib/python3.7/site-packages/pandas/io/pytables.py\u001b[0m in \u001b[0;36mwrite\u001b[0;34m(self, obj, **kwargs)\u001b[0m\n\u001b[1;32m   3230\u001b[0m             \u001b[0mblk_items\u001b[0m \u001b[0;34m=\u001b[0m \u001b[0mdata\u001b[0m\u001b[0;34m.\u001b[0m\u001b[0mitems\u001b[0m\u001b[0;34m.\u001b[0m\u001b[0mtake\u001b[0m\u001b[0;34m(\u001b[0m\u001b[0mblk\u001b[0m\u001b[0;34m.\u001b[0m\u001b[0mmgr_locs\u001b[0m\u001b[0;34m)\u001b[0m\u001b[0;34m\u001b[0m\u001b[0;34m\u001b[0m\u001b[0m\n\u001b[1;32m   3231\u001b[0m             self.write_array(\n\u001b[0;32m-> 3232\u001b[0;31m                 \u001b[0;34m\"block{idx}_values\"\u001b[0m\u001b[0;34m.\u001b[0m\u001b[0mformat\u001b[0m\u001b[0;34m(\u001b[0m\u001b[0midx\u001b[0m\u001b[0;34m=\u001b[0m\u001b[0mi\u001b[0m\u001b[0;34m)\u001b[0m\u001b[0;34m,\u001b[0m \u001b[0mblk\u001b[0m\u001b[0;34m.\u001b[0m\u001b[0mvalues\u001b[0m\u001b[0;34m,\u001b[0m \u001b[0mitems\u001b[0m\u001b[0;34m=\u001b[0m\u001b[0mblk_items\u001b[0m\u001b[0;34m\u001b[0m\u001b[0;34m\u001b[0m\u001b[0m\n\u001b[0m\u001b[1;32m   3233\u001b[0m             )\n\u001b[1;32m   3234\u001b[0m             \u001b[0mself\u001b[0m\u001b[0;34m.\u001b[0m\u001b[0mwrite_index\u001b[0m\u001b[0;34m(\u001b[0m\u001b[0;34m\"block{idx}_items\"\u001b[0m\u001b[0;34m.\u001b[0m\u001b[0mformat\u001b[0m\u001b[0;34m(\u001b[0m\u001b[0midx\u001b[0m\u001b[0;34m=\u001b[0m\u001b[0mi\u001b[0m\u001b[0;34m)\u001b[0m\u001b[0;34m,\u001b[0m \u001b[0mblk_items\u001b[0m\u001b[0;34m)\u001b[0m\u001b[0;34m\u001b[0m\u001b[0;34m\u001b[0m\u001b[0m\n",
      "\u001b[0;32m~/anaconda3/envs/newborn/lib/python3.7/site-packages/pandas/io/pytables.py\u001b[0m in \u001b[0;36mwrite_array\u001b[0;34m(self, key, value, items)\u001b[0m\n\u001b[1;32m   3017\u001b[0m                     \u001b[0mgetattr\u001b[0m\u001b[0;34m(\u001b[0m\u001b[0mself\u001b[0m\u001b[0;34m.\u001b[0m\u001b[0mgroup\u001b[0m\u001b[0;34m,\u001b[0m \u001b[0mkey\u001b[0m\u001b[0;34m)\u001b[0m\u001b[0;34m.\u001b[0m\u001b[0m_v_attrs\u001b[0m\u001b[0;34m.\u001b[0m\u001b[0mvalue_type\u001b[0m \u001b[0;34m=\u001b[0m \u001b[0;34m\"timedelta64\"\u001b[0m\u001b[0;34m\u001b[0m\u001b[0;34m\u001b[0m\u001b[0m\n\u001b[1;32m   3018\u001b[0m                 \u001b[0;32melse\u001b[0m\u001b[0;34m:\u001b[0m\u001b[0;34m\u001b[0m\u001b[0;34m\u001b[0m\u001b[0m\n\u001b[0;32m-> 3019\u001b[0;31m                     \u001b[0mself\u001b[0m\u001b[0;34m.\u001b[0m\u001b[0m_handle\u001b[0m\u001b[0;34m.\u001b[0m\u001b[0mcreate_array\u001b[0m\u001b[0;34m(\u001b[0m\u001b[0mself\u001b[0m\u001b[0;34m.\u001b[0m\u001b[0mgroup\u001b[0m\u001b[0;34m,\u001b[0m \u001b[0mkey\u001b[0m\u001b[0;34m,\u001b[0m \u001b[0mvalue\u001b[0m\u001b[0;34m)\u001b[0m\u001b[0;34m\u001b[0m\u001b[0;34m\u001b[0m\u001b[0m\n\u001b[0m\u001b[1;32m   3020\u001b[0m \u001b[0;34m\u001b[0m\u001b[0m\n\u001b[1;32m   3021\u001b[0m         \u001b[0mgetattr\u001b[0m\u001b[0;34m(\u001b[0m\u001b[0mself\u001b[0m\u001b[0;34m.\u001b[0m\u001b[0mgroup\u001b[0m\u001b[0;34m,\u001b[0m \u001b[0mkey\u001b[0m\u001b[0;34m)\u001b[0m\u001b[0;34m.\u001b[0m\u001b[0m_v_attrs\u001b[0m\u001b[0;34m.\u001b[0m\u001b[0mtransposed\u001b[0m \u001b[0;34m=\u001b[0m \u001b[0mtransposed\u001b[0m\u001b[0;34m\u001b[0m\u001b[0;34m\u001b[0m\u001b[0m\n",
      "\u001b[0;32m~/anaconda3/envs/newborn/lib/python3.7/site-packages/tables/file.py\u001b[0m in \u001b[0;36mcreate_array\u001b[0;34m(self, where, name, obj, title, byteorder, createparents, atom, shape, track_times)\u001b[0m\n\u001b[1;32m   1157\u001b[0m         return Array(parentnode, name,\n\u001b[1;32m   1158\u001b[0m                      \u001b[0mobj\u001b[0m\u001b[0;34m=\u001b[0m\u001b[0mobj\u001b[0m\u001b[0;34m,\u001b[0m \u001b[0mtitle\u001b[0m\u001b[0;34m=\u001b[0m\u001b[0mtitle\u001b[0m\u001b[0;34m,\u001b[0m \u001b[0mbyteorder\u001b[0m\u001b[0;34m=\u001b[0m\u001b[0mbyteorder\u001b[0m\u001b[0;34m,\u001b[0m\u001b[0;34m\u001b[0m\u001b[0;34m\u001b[0m\u001b[0m\n\u001b[0;32m-> 1159\u001b[0;31m                      track_times=track_times)\n\u001b[0m\u001b[1;32m   1160\u001b[0m \u001b[0;34m\u001b[0m\u001b[0m\n\u001b[1;32m   1161\u001b[0m \u001b[0;34m\u001b[0m\u001b[0m\n",
      "\u001b[0;32m~/anaconda3/envs/newborn/lib/python3.7/site-packages/tables/array.py\u001b[0m in \u001b[0;36m__init__\u001b[0;34m(self, parentnode, name, obj, title, byteorder, _log, _atom, track_times)\u001b[0m\n\u001b[1;32m    191\u001b[0m         \u001b[0;31m# Ordinary arrays have no filters: leaf is created with default ones.\u001b[0m\u001b[0;34m\u001b[0m\u001b[0;34m\u001b[0m\u001b[0;34m\u001b[0m\u001b[0m\n\u001b[1;32m    192\u001b[0m         super(Array, self).__init__(parentnode, name, new, Filters(),\n\u001b[0;32m--> 193\u001b[0;31m                                     byteorder, _log, track_times)\n\u001b[0m\u001b[1;32m    194\u001b[0m \u001b[0;34m\u001b[0m\u001b[0m\n\u001b[1;32m    195\u001b[0m     \u001b[0;32mdef\u001b[0m \u001b[0m_g_create\u001b[0m\u001b[0;34m(\u001b[0m\u001b[0mself\u001b[0m\u001b[0;34m)\u001b[0m\u001b[0;34m:\u001b[0m\u001b[0;34m\u001b[0m\u001b[0;34m\u001b[0m\u001b[0m\n",
      "\u001b[0;32m~/anaconda3/envs/newborn/lib/python3.7/site-packages/tables/leaf.py\u001b[0m in \u001b[0;36m__init__\u001b[0;34m(self, parentnode, name, new, filters, byteorder, _log, track_times)\u001b[0m\n\u001b[1;32m    284\u001b[0m \u001b[0;34m\u001b[0m\u001b[0m\n\u001b[1;32m    285\u001b[0m \u001b[0;34m\u001b[0m\u001b[0m\n\u001b[0;32m--> 286\u001b[0;31m         \u001b[0msuper\u001b[0m\u001b[0;34m(\u001b[0m\u001b[0mLeaf\u001b[0m\u001b[0;34m,\u001b[0m \u001b[0mself\u001b[0m\u001b[0;34m)\u001b[0m\u001b[0;34m.\u001b[0m\u001b[0m__init__\u001b[0m\u001b[0;34m(\u001b[0m\u001b[0mparentnode\u001b[0m\u001b[0;34m,\u001b[0m \u001b[0mname\u001b[0m\u001b[0;34m,\u001b[0m \u001b[0m_log\u001b[0m\u001b[0;34m)\u001b[0m\u001b[0;34m\u001b[0m\u001b[0;34m\u001b[0m\u001b[0m\n\u001b[0m\u001b[1;32m    287\u001b[0m \u001b[0;34m\u001b[0m\u001b[0m\n\u001b[1;32m    288\u001b[0m     \u001b[0;32mdef\u001b[0m \u001b[0m__len__\u001b[0m\u001b[0;34m(\u001b[0m\u001b[0mself\u001b[0m\u001b[0;34m)\u001b[0m\u001b[0;34m:\u001b[0m\u001b[0;34m\u001b[0m\u001b[0;34m\u001b[0m\u001b[0m\n",
      "\u001b[0;32m~/anaconda3/envs/newborn/lib/python3.7/site-packages/tables/node.py\u001b[0m in \u001b[0;36m__init__\u001b[0;34m(self, parentnode, name, _log)\u001b[0m\n\u001b[1;32m    262\u001b[0m             \u001b[0;31m#   Create or open the node and get its object ID.\u001b[0m\u001b[0;34m\u001b[0m\u001b[0;34m\u001b[0m\u001b[0;34m\u001b[0m\u001b[0m\n\u001b[1;32m    263\u001b[0m             \u001b[0;32mif\u001b[0m \u001b[0mnew\u001b[0m\u001b[0;34m:\u001b[0m\u001b[0;34m\u001b[0m\u001b[0;34m\u001b[0m\u001b[0m\n\u001b[0;32m--> 264\u001b[0;31m                 \u001b[0mself\u001b[0m\u001b[0;34m.\u001b[0m\u001b[0m_v_objectid\u001b[0m \u001b[0;34m=\u001b[0m \u001b[0mself\u001b[0m\u001b[0;34m.\u001b[0m\u001b[0m_g_create\u001b[0m\u001b[0;34m(\u001b[0m\u001b[0;34m)\u001b[0m\u001b[0;34m\u001b[0m\u001b[0;34m\u001b[0m\u001b[0m\n\u001b[0m\u001b[1;32m    265\u001b[0m             \u001b[0;32melse\u001b[0m\u001b[0;34m:\u001b[0m\u001b[0;34m\u001b[0m\u001b[0;34m\u001b[0m\u001b[0m\n\u001b[1;32m    266\u001b[0m                 \u001b[0mself\u001b[0m\u001b[0;34m.\u001b[0m\u001b[0m_v_objectid\u001b[0m \u001b[0;34m=\u001b[0m \u001b[0mself\u001b[0m\u001b[0;34m.\u001b[0m\u001b[0m_g_open\u001b[0m\u001b[0;34m(\u001b[0m\u001b[0;34m)\u001b[0m\u001b[0;34m\u001b[0m\u001b[0;34m\u001b[0m\u001b[0m\n",
      "\u001b[0;32m~/anaconda3/envs/newborn/lib/python3.7/site-packages/tables/array.py\u001b[0m in \u001b[0;36m_g_create\u001b[0;34m(self)\u001b[0m\n\u001b[1;32m    223\u001b[0m             \u001b[0;31m# on\u001b[0m\u001b[0;34m\u001b[0m\u001b[0;34m\u001b[0m\u001b[0;34m\u001b[0m\u001b[0m\n\u001b[1;32m    224\u001b[0m             (self._v_objectid, self.shape, self.atom) = self._create_array(\n\u001b[0;32m--> 225\u001b[0;31m                 nparr, self._v_new_title, self.atom)\n\u001b[0m\u001b[1;32m    226\u001b[0m         \u001b[0;32mexcept\u001b[0m\u001b[0;34m:\u001b[0m  \u001b[0;31m# XXX\u001b[0m\u001b[0;34m\u001b[0m\u001b[0;34m\u001b[0m\u001b[0m\n\u001b[1;32m    227\u001b[0m             \u001b[0;31m# Problems creating the Array on disk. Close node and re-raise.\u001b[0m\u001b[0;34m\u001b[0m\u001b[0;34m\u001b[0m\u001b[0;34m\u001b[0m\u001b[0m\n",
      "\u001b[0;32mtables/hdf5extension.pyx\u001b[0m in \u001b[0;36mtables.hdf5extension.Array._create_array\u001b[0;34m()\u001b[0m\n",
      "\u001b[0;31mHDF5ExtError\u001b[0m: Problems creating the Array."
     ]
    }
   ],
   "source": [
    "item_user_matrix.to_hdf(train_path+'item_user_matrix.h5',key='result',index=False)"
   ]
  },
  {
   "cell_type": "code",
   "execution_count": 14,
   "metadata": {},
   "outputs": [
    {
     "data": {
      "text/plain": [
       "(310372, 262)"
      ]
     },
     "execution_count": 14,
     "metadata": {},
     "output_type": "execute_result"
    }
   ],
   "source": [
    "df.shape"
   ]
  },
  {
   "cell_type": "code",
   "execution_count": 15,
   "metadata": {},
   "outputs": [
    {
     "data": {
      "text/plain": [
       "(71688, 262)"
      ]
     },
     "execution_count": 15,
     "metadata": {},
     "output_type": "execute_result"
    }
   ],
   "source": [
    "df.dropna().shape"
   ]
  },
  {
   "cell_type": "markdown",
   "metadata": {},
   "source": [
    "## get non-null database"
   ]
  },
  {
   "cell_type": "code",
   "execution_count": 16,
   "metadata": {},
   "outputs": [],
   "source": [
    "df_min=df.dropna()"
   ]
  },
  {
   "cell_type": "code",
   "execution_count": 17,
   "metadata": {},
   "outputs": [],
   "source": [
    "df_min.to_csv(train_path+'train_min_{}'.format(now_p),index=False)"
   ]
  },
  {
   "cell_type": "code",
   "execution_count": 5,
   "metadata": {},
   "outputs": [],
   "source": [
    "df_min=pd.read_csv('../user_data/'+'train_min_{}'.format(now_p))"
   ]
  },
  {
   "cell_type": "code",
   "execution_count": 6,
   "metadata": {},
   "outputs": [
    {
     "data": {
      "text/html": [
       "<div>\n",
       "<style scoped>\n",
       "    .dataframe tbody tr th:only-of-type {\n",
       "        vertical-align: middle;\n",
       "    }\n",
       "\n",
       "    .dataframe tbody tr th {\n",
       "        vertical-align: top;\n",
       "    }\n",
       "\n",
       "    .dataframe thead th {\n",
       "        text-align: right;\n",
       "    }\n",
       "</style>\n",
       "<table border=\"1\" class=\"dataframe\">\n",
       "  <thead>\n",
       "    <tr style=\"text-align: right;\">\n",
       "      <th></th>\n",
       "      <th>time</th>\n",
       "      <th>tv0</th>\n",
       "      <th>tv1</th>\n",
       "      <th>tv2</th>\n",
       "      <th>tv3</th>\n",
       "      <th>tv4</th>\n",
       "      <th>tv5</th>\n",
       "      <th>tv6</th>\n",
       "      <th>tv7</th>\n",
       "      <th>tv8</th>\n",
       "      <th>...</th>\n",
       "      <th>iv121</th>\n",
       "      <th>iv122</th>\n",
       "      <th>iv123</th>\n",
       "      <th>iv124</th>\n",
       "      <th>iv125</th>\n",
       "      <th>iv126</th>\n",
       "      <th>iv127</th>\n",
       "      <th>age</th>\n",
       "      <th>gender</th>\n",
       "      <th>city</th>\n",
       "    </tr>\n",
       "  </thead>\n",
       "  <tbody>\n",
       "    <tr>\n",
       "      <th>0</th>\n",
       "      <td>0.984111</td>\n",
       "      <td>4.148138</td>\n",
       "      <td>-0.213997</td>\n",
       "      <td>-0.274804</td>\n",
       "      <td>0.394361</td>\n",
       "      <td>-2.207227</td>\n",
       "      <td>-1.437607</td>\n",
       "      <td>2.098062</td>\n",
       "      <td>-0.612489</td>\n",
       "      <td>-4.826493</td>\n",
       "      <td>...</td>\n",
       "      <td>-2.937082</td>\n",
       "      <td>-0.981116</td>\n",
       "      <td>0.425762</td>\n",
       "      <td>1.491055</td>\n",
       "      <td>3.889630</td>\n",
       "      <td>1.439132</td>\n",
       "      <td>-0.080906</td>\n",
       "      <td>4</td>\n",
       "      <td>0</td>\n",
       "      <td>4</td>\n",
       "    </tr>\n",
       "    <tr>\n",
       "      <th>1</th>\n",
       "      <td>0.984263</td>\n",
       "      <td>4.148138</td>\n",
       "      <td>-0.213997</td>\n",
       "      <td>-0.274804</td>\n",
       "      <td>0.394361</td>\n",
       "      <td>-2.207227</td>\n",
       "      <td>-1.437607</td>\n",
       "      <td>2.098062</td>\n",
       "      <td>-0.612489</td>\n",
       "      <td>-4.826493</td>\n",
       "      <td>...</td>\n",
       "      <td>-2.937082</td>\n",
       "      <td>-0.981116</td>\n",
       "      <td>0.425762</td>\n",
       "      <td>1.491055</td>\n",
       "      <td>3.889630</td>\n",
       "      <td>1.439132</td>\n",
       "      <td>-0.080906</td>\n",
       "      <td>4</td>\n",
       "      <td>0</td>\n",
       "      <td>2</td>\n",
       "    </tr>\n",
       "    <tr>\n",
       "      <th>2</th>\n",
       "      <td>0.984069</td>\n",
       "      <td>5.053555</td>\n",
       "      <td>1.216570</td>\n",
       "      <td>0.348558</td>\n",
       "      <td>0.380879</td>\n",
       "      <td>5.722718</td>\n",
       "      <td>-0.903466</td>\n",
       "      <td>-2.930219</td>\n",
       "      <td>-2.049398</td>\n",
       "      <td>-7.384793</td>\n",
       "      <td>...</td>\n",
       "      <td>-1.356675</td>\n",
       "      <td>-1.060216</td>\n",
       "      <td>0.303131</td>\n",
       "      <td>1.582733</td>\n",
       "      <td>1.423042</td>\n",
       "      <td>2.876045</td>\n",
       "      <td>-0.571884</td>\n",
       "      <td>3</td>\n",
       "      <td>0</td>\n",
       "      <td>5</td>\n",
       "    </tr>\n",
       "  </tbody>\n",
       "</table>\n",
       "<p>3 rows × 260 columns</p>\n",
       "</div>"
      ],
      "text/plain": [
       "       time       tv0       tv1       tv2       tv3       tv4       tv5  \\\n",
       "0  0.984111  4.148138 -0.213997 -0.274804  0.394361 -2.207227 -1.437607   \n",
       "1  0.984263  4.148138 -0.213997 -0.274804  0.394361 -2.207227 -1.437607   \n",
       "2  0.984069  5.053555  1.216570  0.348558  0.380879  5.722718 -0.903466   \n",
       "\n",
       "        tv6       tv7       tv8  ...     iv121     iv122     iv123     iv124  \\\n",
       "0  2.098062 -0.612489 -4.826493  ... -2.937082 -0.981116  0.425762  1.491055   \n",
       "1  2.098062 -0.612489 -4.826493  ... -2.937082 -0.981116  0.425762  1.491055   \n",
       "2 -2.930219 -2.049398 -7.384793  ... -1.356675 -1.060216  0.303131  1.582733   \n",
       "\n",
       "      iv125     iv126     iv127  age  gender  city  \n",
       "0  3.889630  1.439132 -0.080906    4       0     4  \n",
       "1  3.889630  1.439132 -0.080906    4       0     2  \n",
       "2  1.423042  2.876045 -0.571884    3       0     5  \n",
       "\n",
       "[3 rows x 260 columns]"
      ]
     },
     "execution_count": 6,
     "metadata": {},
     "output_type": "execute_result"
    }
   ],
   "source": [
    "database=df_min.copy().drop(['user_id','item_id'],axis=1)\n",
    "database=database.replace({'M':1,'F':0})\n",
    "database=database.astype({'age': 'int','gender':'int','city':'int'})\n",
    "database.head(3)"
   ]
  },
  {
   "cell_type": "markdown",
   "metadata": {},
   "source": [
    "## true value"
   ]
  },
  {
   "cell_type": "code",
   "execution_count": 9,
   "metadata": {},
   "outputs": [
    {
     "data": {
      "text/html": [
       "<div>\n",
       "<style scoped>\n",
       "    .dataframe tbody tr th:only-of-type {\n",
       "        vertical-align: middle;\n",
       "    }\n",
       "\n",
       "    .dataframe tbody tr th {\n",
       "        vertical-align: top;\n",
       "    }\n",
       "\n",
       "    .dataframe thead th {\n",
       "        text-align: right;\n",
       "    }\n",
       "</style>\n",
       "<table border=\"1\" class=\"dataframe\">\n",
       "  <thead>\n",
       "    <tr style=\"text-align: right;\">\n",
       "      <th></th>\n",
       "      <th>time</th>\n",
       "      <th>tv0</th>\n",
       "      <th>tv1</th>\n",
       "      <th>tv2</th>\n",
       "      <th>tv3</th>\n",
       "      <th>tv4</th>\n",
       "      <th>tv5</th>\n",
       "      <th>tv6</th>\n",
       "      <th>tv7</th>\n",
       "      <th>tv8</th>\n",
       "      <th>...</th>\n",
       "      <th>iv121</th>\n",
       "      <th>iv122</th>\n",
       "      <th>iv123</th>\n",
       "      <th>iv124</th>\n",
       "      <th>iv125</th>\n",
       "      <th>iv126</th>\n",
       "      <th>iv127</th>\n",
       "      <th>age</th>\n",
       "      <th>gender</th>\n",
       "      <th>city</th>\n",
       "    </tr>\n",
       "  </thead>\n",
       "  <tbody>\n",
       "    <tr>\n",
       "      <th>0</th>\n",
       "      <td>0.9842771241305298</td>\n",
       "      <td>2.101147174835205</td>\n",
       "      <td>-0.8465766906738281</td>\n",
       "      <td>0.0573386922478676</td>\n",
       "      <td>-3.1112377643585205</td>\n",
       "      <td>-0.8484025001525879</td>\n",
       "      <td>2.9340057373046875</td>\n",
       "      <td>1.1302022933959959</td>\n",
       "      <td>-0.5584614276885986</td>\n",
       "      <td>-2.9435551166534424</td>\n",
       "      <td>...</td>\n",
       "      <td>1.5269055366516111</td>\n",
       "      <td>-2.7677159309387207</td>\n",
       "      <td>-0.5956848263740540</td>\n",
       "      <td>0.1572125703096390</td>\n",
       "      <td>1.0126974582672121</td>\n",
       "      <td>2.7917819023132324</td>\n",
       "      <td>0.3088803291320801</td>\n",
       "      <td>8</td>\n",
       "      <td>1.0</td>\n",
       "      <td>4</td>\n",
       "    </tr>\n",
       "    <tr>\n",
       "      <th>1</th>\n",
       "      <td>0.9842517769474944</td>\n",
       "      <td>1.900734305381775</td>\n",
       "      <td>2.1579475402832031</td>\n",
       "      <td>3.0377004146575928</td>\n",
       "      <td>-3.0554065704345703</td>\n",
       "      <td>1.2677739858627319</td>\n",
       "      <td>-1.0928924083709717</td>\n",
       "      <td>-3.7414407730102539</td>\n",
       "      <td>-1.1887992620468140</td>\n",
       "      <td>-3.2973101139068604</td>\n",
       "      <td>...</td>\n",
       "      <td>1.0075087547302246</td>\n",
       "      <td>-1.0377058982849119</td>\n",
       "      <td>0.3403505682945251</td>\n",
       "      <td>2.2763986587524414</td>\n",
       "      <td>2.3016302585601807</td>\n",
       "      <td>1.0346159934997561</td>\n",
       "      <td>-0.8432886004447937</td>\n",
       "      <td>NaN</td>\n",
       "      <td>NaN</td>\n",
       "      <td>NaN</td>\n",
       "    </tr>\n",
       "    <tr>\n",
       "      <th>2</th>\n",
       "      <td>0.9842692676835492</td>\n",
       "      <td>1.830065131187439</td>\n",
       "      <td>1.8811055421829224</td>\n",
       "      <td>2.6448986530303955</td>\n",
       "      <td>-2.4803488254547119</td>\n",
       "      <td>-1.0310925245285034</td>\n",
       "      <td>1.9788519144058228</td>\n",
       "      <td>-1.2319024801254272</td>\n",
       "      <td>-1.8476966619491575</td>\n",
       "      <td>-3.5557911396026611</td>\n",
       "      <td>...</td>\n",
       "      <td>-0.2710131108760834</td>\n",
       "      <td>0.2487333118915558</td>\n",
       "      <td>2.4548890590667725</td>\n",
       "      <td>-0.1799300462007523</td>\n",
       "      <td>2.5021350383758545</td>\n",
       "      <td>0.2804744839668274</td>\n",
       "      <td>0.44003647565841675</td>\n",
       "      <td>NaN</td>\n",
       "      <td>NaN</td>\n",
       "      <td>NaN</td>\n",
       "    </tr>\n",
       "  </tbody>\n",
       "</table>\n",
       "<p>3 rows × 260 columns</p>\n",
       "</div>"
      ],
      "text/plain": [
       "                 time                tv0                 tv1  \\\n",
       "0  0.9842771241305298  2.101147174835205 -0.8465766906738281   \n",
       "1  0.9842517769474944  1.900734305381775  2.1579475402832031   \n",
       "2  0.9842692676835492  1.830065131187439  1.8811055421829224   \n",
       "\n",
       "                  tv2                 tv3                 tv4  \\\n",
       "0  0.0573386922478676 -3.1112377643585205 -0.8484025001525879   \n",
       "1  3.0377004146575928 -3.0554065704345703  1.2677739858627319   \n",
       "2  2.6448986530303955 -2.4803488254547119 -1.0310925245285034   \n",
       "\n",
       "                  tv5                 tv6                 tv7  \\\n",
       "0  2.9340057373046875  1.1302022933959959 -0.5584614276885986   \n",
       "1 -1.0928924083709717 -3.7414407730102539 -1.1887992620468140   \n",
       "2  1.9788519144058228 -1.2319024801254272 -1.8476966619491575   \n",
       "\n",
       "                  tv8  ...               iv121               iv122  \\\n",
       "0 -2.9435551166534424  ...  1.5269055366516111 -2.7677159309387207   \n",
       "1 -3.2973101139068604  ...  1.0075087547302246 -1.0377058982849119   \n",
       "2 -3.5557911396026611  ... -0.2710131108760834  0.2487333118915558   \n",
       "\n",
       "                iv123               iv124               iv125  \\\n",
       "0 -0.5956848263740540  0.1572125703096390  1.0126974582672121   \n",
       "1  0.3403505682945251  2.2763986587524414  2.3016302585601807   \n",
       "2  2.4548890590667725 -0.1799300462007523  2.5021350383758545   \n",
       "\n",
       "                iv126                 iv127  age  gender  city  \n",
       "0  2.7917819023132324    0.3088803291320801    8     1.0     4  \n",
       "1  1.0346159934997561   -0.8432886004447937  NaN     NaN   NaN  \n",
       "2  0.2804744839668274   0.44003647565841675  NaN     NaN   NaN  \n",
       "\n",
       "[3 rows x 260 columns]"
      ]
     },
     "execution_count": 9,
     "metadata": {},
     "output_type": "execute_result"
    },
    {
     "name": "stdout",
     "output_type": "stream",
     "text": [
      "<class 'pandas.core.frame.DataFrame'>\n",
      "Int64Index: 1821 entries, 0 to 1820\n",
      "Columns: 260 entries, time to city\n",
      "dtypes: category(2), float64(254), object(4)\n",
      "memory usage: 3.6+ MB\n"
     ]
    },
    {
     "data": {
      "text/plain": [
       "(1821, 260)"
      ]
     },
     "execution_count": 9,
     "metadata": {},
     "output_type": "execute_result"
    },
    {
     "data": {
      "text/html": [
       "<div>\n",
       "<style scoped>\n",
       "    .dataframe tbody tr th:only-of-type {\n",
       "        vertical-align: middle;\n",
       "    }\n",
       "\n",
       "    .dataframe tbody tr th {\n",
       "        vertical-align: top;\n",
       "    }\n",
       "\n",
       "    .dataframe thead th {\n",
       "        text-align: right;\n",
       "    }\n",
       "</style>\n",
       "<table border=\"1\" class=\"dataframe\">\n",
       "  <thead>\n",
       "    <tr style=\"text-align: right;\">\n",
       "      <th></th>\n",
       "      <th>age</th>\n",
       "      <th>city</th>\n",
       "    </tr>\n",
       "  </thead>\n",
       "  <tbody>\n",
       "    <tr>\n",
       "      <th>0</th>\n",
       "      <td>8</td>\n",
       "      <td>4</td>\n",
       "    </tr>\n",
       "    <tr>\n",
       "      <th>1</th>\n",
       "      <td>NaN</td>\n",
       "      <td>NaN</td>\n",
       "    </tr>\n",
       "    <tr>\n",
       "      <th>2</th>\n",
       "      <td>NaN</td>\n",
       "      <td>NaN</td>\n",
       "    </tr>\n",
       "    <tr>\n",
       "      <th>3</th>\n",
       "      <td>NaN</td>\n",
       "      <td>NaN</td>\n",
       "    </tr>\n",
       "    <tr>\n",
       "      <th>4</th>\n",
       "      <td>6</td>\n",
       "      <td>1</td>\n",
       "    </tr>\n",
       "    <tr>\n",
       "      <th>...</th>\n",
       "      <td>...</td>\n",
       "      <td>...</td>\n",
       "    </tr>\n",
       "    <tr>\n",
       "      <th>1816</th>\n",
       "      <td>NaN</td>\n",
       "      <td>NaN</td>\n",
       "    </tr>\n",
       "    <tr>\n",
       "      <th>1817</th>\n",
       "      <td>NaN</td>\n",
       "      <td>NaN</td>\n",
       "    </tr>\n",
       "    <tr>\n",
       "      <th>1818</th>\n",
       "      <td>NaN</td>\n",
       "      <td>NaN</td>\n",
       "    </tr>\n",
       "    <tr>\n",
       "      <th>1819</th>\n",
       "      <td>NaN</td>\n",
       "      <td>NaN</td>\n",
       "    </tr>\n",
       "    <tr>\n",
       "      <th>1820</th>\n",
       "      <td>NaN</td>\n",
       "      <td>NaN</td>\n",
       "    </tr>\n",
       "  </tbody>\n",
       "</table>\n",
       "<p>1821 rows × 2 columns</p>\n",
       "</div>"
      ],
      "text/plain": [
       "      age city\n",
       "0       8    4\n",
       "1     NaN  NaN\n",
       "2     NaN  NaN\n",
       "3     NaN  NaN\n",
       "4       6    1\n",
       "...   ...  ...\n",
       "1816  NaN  NaN\n",
       "1817  NaN  NaN\n",
       "1818  NaN  NaN\n",
       "1819  NaN  NaN\n",
       "1820  NaN  NaN\n",
       "\n",
       "[1821 rows x 2 columns]"
      ]
     },
     "execution_count": 9,
     "metadata": {},
     "output_type": "execute_result"
    },
    {
     "data": {
      "text/plain": [
       "True"
      ]
     },
     "execution_count": 9,
     "metadata": {},
     "output_type": "execute_result"
    },
    {
     "data": {
      "text/plain": [
       "4.0"
      ]
     },
     "execution_count": 9,
     "metadata": {},
     "output_type": "execute_result"
    },
    {
     "data": {
      "text/plain": [
       "True"
      ]
     },
     "execution_count": 9,
     "metadata": {},
     "output_type": "execute_result"
    },
    {
     "data": {
      "text/html": [
       "<div>\n",
       "<style scoped>\n",
       "    .dataframe tbody tr th:only-of-type {\n",
       "        vertical-align: middle;\n",
       "    }\n",
       "\n",
       "    .dataframe tbody tr th {\n",
       "        vertical-align: top;\n",
       "    }\n",
       "\n",
       "    .dataframe thead th {\n",
       "        text-align: right;\n",
       "    }\n",
       "</style>\n",
       "<table border=\"1\" class=\"dataframe\">\n",
       "  <thead>\n",
       "    <tr style=\"text-align: right;\">\n",
       "      <th></th>\n",
       "      <th>time</th>\n",
       "      <th>tv0</th>\n",
       "      <th>tv1</th>\n",
       "      <th>tv2</th>\n",
       "      <th>tv3</th>\n",
       "      <th>tv4</th>\n",
       "      <th>tv5</th>\n",
       "      <th>tv6</th>\n",
       "      <th>tv7</th>\n",
       "      <th>tv8</th>\n",
       "      <th>...</th>\n",
       "      <th>iv121</th>\n",
       "      <th>iv122</th>\n",
       "      <th>iv123</th>\n",
       "      <th>iv124</th>\n",
       "      <th>iv125</th>\n",
       "      <th>iv126</th>\n",
       "      <th>iv127</th>\n",
       "      <th>age</th>\n",
       "      <th>gender</th>\n",
       "      <th>city</th>\n",
       "    </tr>\n",
       "  </thead>\n",
       "  <tbody>\n",
       "    <tr>\n",
       "      <th>0</th>\n",
       "      <td>0.9842771241305298</td>\n",
       "      <td>2.101147174835205</td>\n",
       "      <td>-0.8465766906738281</td>\n",
       "      <td>0.0573386922478676</td>\n",
       "      <td>-3.1112377643585205</td>\n",
       "      <td>-0.8484025001525879</td>\n",
       "      <td>2.9340057373046875</td>\n",
       "      <td>1.1302022933959959</td>\n",
       "      <td>-0.5584614276885986</td>\n",
       "      <td>-2.9435551166534424</td>\n",
       "      <td>...</td>\n",
       "      <td>1.5269055366516111</td>\n",
       "      <td>-2.7677159309387207</td>\n",
       "      <td>-0.5956848263740540</td>\n",
       "      <td>0.1572125703096390</td>\n",
       "      <td>1.0126974582672121</td>\n",
       "      <td>2.7917819023132324</td>\n",
       "      <td>0.3088803291320801</td>\n",
       "      <td>8</td>\n",
       "      <td>1.0000000000000000</td>\n",
       "      <td>4</td>\n",
       "    </tr>\n",
       "    <tr>\n",
       "      <th>1</th>\n",
       "      <td>0.9842517769474944</td>\n",
       "      <td>1.900734305381775</td>\n",
       "      <td>2.1579475402832031</td>\n",
       "      <td>3.0377004146575928</td>\n",
       "      <td>-3.0554065704345703</td>\n",
       "      <td>1.2677739858627319</td>\n",
       "      <td>-1.0928924083709717</td>\n",
       "      <td>-3.7414407730102539</td>\n",
       "      <td>-1.1887992620468140</td>\n",
       "      <td>-3.2973101139068604</td>\n",
       "      <td>...</td>\n",
       "      <td>1.0075087547302246</td>\n",
       "      <td>-1.0377058982849119</td>\n",
       "      <td>0.3403505682945251</td>\n",
       "      <td>2.2763986587524414</td>\n",
       "      <td>2.3016302585601807</td>\n",
       "      <td>1.0346159934997561</td>\n",
       "      <td>-0.8432886004447937</td>\n",
       "      <td>4.248995647807164</td>\n",
       "      <td>0.1149425287356322</td>\n",
       "      <td>3.674087713424841</td>\n",
       "    </tr>\n",
       "    <tr>\n",
       "      <th>2</th>\n",
       "      <td>0.9842692676835492</td>\n",
       "      <td>1.830065131187439</td>\n",
       "      <td>1.8811055421829224</td>\n",
       "      <td>2.6448986530303955</td>\n",
       "      <td>-2.4803488254547119</td>\n",
       "      <td>-1.0310925245285034</td>\n",
       "      <td>1.9788519144058228</td>\n",
       "      <td>-1.2319024801254272</td>\n",
       "      <td>-1.8476966619491575</td>\n",
       "      <td>-3.5557911396026611</td>\n",
       "      <td>...</td>\n",
       "      <td>-0.2710131108760834</td>\n",
       "      <td>0.2487333118915558</td>\n",
       "      <td>2.4548890590667725</td>\n",
       "      <td>-0.1799300462007523</td>\n",
       "      <td>2.5021350383758545</td>\n",
       "      <td>0.2804744839668274</td>\n",
       "      <td>0.44003647565841675</td>\n",
       "      <td>4.248995647807164</td>\n",
       "      <td>0.1149425287356322</td>\n",
       "      <td>3.674087713424841</td>\n",
       "    </tr>\n",
       "    <tr>\n",
       "      <th>3</th>\n",
       "      <td>0.9842643606374868</td>\n",
       "      <td>1.8137321472167969</td>\n",
       "      <td>1.3914031982421875</td>\n",
       "      <td>2.1369509696960449</td>\n",
       "      <td>-4.1689491271972665</td>\n",
       "      <td>-2.8606204986572266</td>\n",
       "      <td>1.9786089658737185</td>\n",
       "      <td>-0.2026271671056747</td>\n",
       "      <td>-1.7621158361434937</td>\n",
       "      <td>-3.4887967109680176</td>\n",
       "      <td>...</td>\n",
       "      <td>-1.4988899230957031</td>\n",
       "      <td>1.6837480068206787</td>\n",
       "      <td>1.1026927232742310</td>\n",
       "      <td>-0.2537772655487061</td>\n",
       "      <td>2.9432177543640137</td>\n",
       "      <td>1.3797429800033569</td>\n",
       "      <td>-0.885633647441864</td>\n",
       "      <td>4.248995647807164</td>\n",
       "      <td>0.1149425287356322</td>\n",
       "      <td>3.674087713424841</td>\n",
       "    </tr>\n",
       "    <tr>\n",
       "      <th>4</th>\n",
       "      <td>0.9842105925855824</td>\n",
       "      <td>0.8316391706466675</td>\n",
       "      <td>1.8352080583572388</td>\n",
       "      <td>1.0361447334289549</td>\n",
       "      <td>-3.9268870353698730</td>\n",
       "      <td>-0.4585402011871338</td>\n",
       "      <td>0.8195793628692627</td>\n",
       "      <td>3.3453412055969238</td>\n",
       "      <td>-4.2287759780883789</td>\n",
       "      <td>-3.3158850669860840</td>\n",
       "      <td>...</td>\n",
       "      <td>1.4824553728103638</td>\n",
       "      <td>4.6624727249145508</td>\n",
       "      <td>0.7338652014732361</td>\n",
       "      <td>1.7606782913208008</td>\n",
       "      <td>1.0468974113464355</td>\n",
       "      <td>0.5324596166610718</td>\n",
       "      <td>-0.70954829454422</td>\n",
       "      <td>6</td>\n",
       "      <td>1.0000000000000000</td>\n",
       "      <td>1</td>\n",
       "    </tr>\n",
       "  </tbody>\n",
       "</table>\n",
       "<p>5 rows × 260 columns</p>\n",
       "</div>"
      ],
      "text/plain": [
       "                 time                 tv0                 tv1  \\\n",
       "0  0.9842771241305298   2.101147174835205 -0.8465766906738281   \n",
       "1  0.9842517769474944   1.900734305381775  2.1579475402832031   \n",
       "2  0.9842692676835492   1.830065131187439  1.8811055421829224   \n",
       "3  0.9842643606374868  1.8137321472167969  1.3914031982421875   \n",
       "4  0.9842105925855824  0.8316391706466675  1.8352080583572388   \n",
       "\n",
       "                  tv2                 tv3                 tv4  \\\n",
       "0  0.0573386922478676 -3.1112377643585205 -0.8484025001525879   \n",
       "1  3.0377004146575928 -3.0554065704345703  1.2677739858627319   \n",
       "2  2.6448986530303955 -2.4803488254547119 -1.0310925245285034   \n",
       "3  2.1369509696960449 -4.1689491271972665 -2.8606204986572266   \n",
       "4  1.0361447334289549 -3.9268870353698730 -0.4585402011871338   \n",
       "\n",
       "                  tv5                 tv6                 tv7  \\\n",
       "0  2.9340057373046875  1.1302022933959959 -0.5584614276885986   \n",
       "1 -1.0928924083709717 -3.7414407730102539 -1.1887992620468140   \n",
       "2  1.9788519144058228 -1.2319024801254272 -1.8476966619491575   \n",
       "3  1.9786089658737185 -0.2026271671056747 -1.7621158361434937   \n",
       "4  0.8195793628692627  3.3453412055969238 -4.2287759780883789   \n",
       "\n",
       "                  tv8  ...               iv121               iv122  \\\n",
       "0 -2.9435551166534424  ...  1.5269055366516111 -2.7677159309387207   \n",
       "1 -3.2973101139068604  ...  1.0075087547302246 -1.0377058982849119   \n",
       "2 -3.5557911396026611  ... -0.2710131108760834  0.2487333118915558   \n",
       "3 -3.4887967109680176  ... -1.4988899230957031  1.6837480068206787   \n",
       "4 -3.3158850669860840  ...  1.4824553728103638  4.6624727249145508   \n",
       "\n",
       "                iv123               iv124               iv125  \\\n",
       "0 -0.5956848263740540  0.1572125703096390  1.0126974582672121   \n",
       "1  0.3403505682945251  2.2763986587524414  2.3016302585601807   \n",
       "2  2.4548890590667725 -0.1799300462007523  2.5021350383758545   \n",
       "3  1.1026927232742310 -0.2537772655487061  2.9432177543640137   \n",
       "4  0.7338652014732361  1.7606782913208008  1.0468974113464355   \n",
       "\n",
       "                iv126                 iv127                age  \\\n",
       "0  2.7917819023132324    0.3088803291320801                  8   \n",
       "1  1.0346159934997561   -0.8432886004447937  4.248995647807164   \n",
       "2  0.2804744839668274   0.44003647565841675  4.248995647807164   \n",
       "3  1.3797429800033569    -0.885633647441864  4.248995647807164   \n",
       "4  0.5324596166610718     -0.70954829454422                  6   \n",
       "\n",
       "               gender               city  \n",
       "0  1.0000000000000000                  4  \n",
       "1  0.1149425287356322  3.674087713424841  \n",
       "2  0.1149425287356322  3.674087713424841  \n",
       "3  0.1149425287356322  3.674087713424841  \n",
       "4  1.0000000000000000                  1  \n",
       "\n",
       "[5 rows x 260 columns]"
      ]
     },
     "execution_count": 9,
     "metadata": {},
     "output_type": "execute_result"
    },
    {
     "data": {
      "text/html": [
       "<div>\n",
       "<style scoped>\n",
       "    .dataframe tbody tr th:only-of-type {\n",
       "        vertical-align: middle;\n",
       "    }\n",
       "\n",
       "    .dataframe tbody tr th {\n",
       "        vertical-align: top;\n",
       "    }\n",
       "\n",
       "    .dataframe thead th {\n",
       "        text-align: right;\n",
       "    }\n",
       "</style>\n",
       "<table border=\"1\" class=\"dataframe\">\n",
       "  <thead>\n",
       "    <tr style=\"text-align: right;\">\n",
       "      <th></th>\n",
       "      <th>time</th>\n",
       "      <th>tv0</th>\n",
       "      <th>tv1</th>\n",
       "      <th>tv2</th>\n",
       "      <th>tv3</th>\n",
       "      <th>tv4</th>\n",
       "      <th>tv5</th>\n",
       "      <th>tv6</th>\n",
       "      <th>tv7</th>\n",
       "      <th>tv8</th>\n",
       "      <th>...</th>\n",
       "      <th>iv121</th>\n",
       "      <th>iv122</th>\n",
       "      <th>iv123</th>\n",
       "      <th>iv124</th>\n",
       "      <th>iv125</th>\n",
       "      <th>iv126</th>\n",
       "      <th>iv127</th>\n",
       "      <th>age</th>\n",
       "      <th>gender</th>\n",
       "      <th>city</th>\n",
       "    </tr>\n",
       "  </thead>\n",
       "  <tbody>\n",
       "    <tr>\n",
       "      <th>0</th>\n",
       "      <td>0.9841110719125040</td>\n",
       "      <td>4.1481380462646484</td>\n",
       "      <td>-0.2139974832534789</td>\n",
       "      <td>-0.2748044133186340</td>\n",
       "      <td>0.3943611383438110</td>\n",
       "      <td>-2.2072267532348642</td>\n",
       "      <td>-1.4376068115234375</td>\n",
       "      <td>2.0980615615844727</td>\n",
       "      <td>-0.6124892234802246</td>\n",
       "      <td>-4.8264927864074716</td>\n",
       "      <td>...</td>\n",
       "      <td>-2.9370822906494136</td>\n",
       "      <td>-0.9811164140701294</td>\n",
       "      <td>0.4257615506649017</td>\n",
       "      <td>1.4910547733306885</td>\n",
       "      <td>3.8896303176879878</td>\n",
       "      <td>1.4391320943832395</td>\n",
       "      <td>-0.0809062123298645</td>\n",
       "      <td>4</td>\n",
       "      <td>0</td>\n",
       "      <td>4</td>\n",
       "    </tr>\n",
       "    <tr>\n",
       "      <th>1</th>\n",
       "      <td>0.9842627512424618</td>\n",
       "      <td>4.1481380462646484</td>\n",
       "      <td>-0.2139974832534789</td>\n",
       "      <td>-0.2748044133186340</td>\n",
       "      <td>0.3943611383438110</td>\n",
       "      <td>-2.2072267532348642</td>\n",
       "      <td>-1.4376068115234375</td>\n",
       "      <td>2.0980615615844727</td>\n",
       "      <td>-0.6124892234802246</td>\n",
       "      <td>-4.8264927864074716</td>\n",
       "      <td>...</td>\n",
       "      <td>-2.9370822906494136</td>\n",
       "      <td>-0.9811164140701294</td>\n",
       "      <td>0.4257615506649017</td>\n",
       "      <td>1.4910547733306885</td>\n",
       "      <td>3.8896303176879878</td>\n",
       "      <td>1.4391320943832395</td>\n",
       "      <td>-0.0809062123298645</td>\n",
       "      <td>4</td>\n",
       "      <td>0</td>\n",
       "      <td>2</td>\n",
       "    </tr>\n",
       "    <tr>\n",
       "      <th>2</th>\n",
       "      <td>0.9840694762116832</td>\n",
       "      <td>5.0535550117492685</td>\n",
       "      <td>1.2165696620941162</td>\n",
       "      <td>0.3485578894615173</td>\n",
       "      <td>0.3808794021606445</td>\n",
       "      <td>5.7227177619934073</td>\n",
       "      <td>-0.9034663438796996</td>\n",
       "      <td>-2.9302191734313965</td>\n",
       "      <td>-2.0493977069854736</td>\n",
       "      <td>-7.3847928047180176</td>\n",
       "      <td>...</td>\n",
       "      <td>-1.3566752672195437</td>\n",
       "      <td>-1.0602157115936279</td>\n",
       "      <td>0.3031310141086578</td>\n",
       "      <td>1.5827329158782959</td>\n",
       "      <td>1.4230424165725708</td>\n",
       "      <td>2.8760449886322017</td>\n",
       "      <td>-0.5718842148780823</td>\n",
       "      <td>3</td>\n",
       "      <td>0</td>\n",
       "      <td>5</td>\n",
       "    </tr>\n",
       "    <tr>\n",
       "      <th>3</th>\n",
       "      <td>0.9842570189950302</td>\n",
       "      <td>2.9716651439666748</td>\n",
       "      <td>-0.5788695812225342</td>\n",
       "      <td>2.2469174861907959</td>\n",
       "      <td>-1.7302743196487431</td>\n",
       "      <td>-2.3264360427856445</td>\n",
       "      <td>-0.5912094712257385</td>\n",
       "      <td>-2.3438596725463867</td>\n",
       "      <td>0.4770196080207825</td>\n",
       "      <td>-3.7080161571502690</td>\n",
       "      <td>...</td>\n",
       "      <td>0.9559630155563354</td>\n",
       "      <td>-0.0576305389404297</td>\n",
       "      <td>-2.8185224533081050</td>\n",
       "      <td>-3.0371842384338379</td>\n",
       "      <td>0.8351709246635437</td>\n",
       "      <td>1.1768972873687744</td>\n",
       "      <td>0.4194931983947754</td>\n",
       "      <td>2</td>\n",
       "      <td>0</td>\n",
       "      <td>5</td>\n",
       "    </tr>\n",
       "    <tr>\n",
       "      <th>4</th>\n",
       "      <td>0.9840924399002436</td>\n",
       "      <td>0.4042505621910095</td>\n",
       "      <td>-1.0307354927062988</td>\n",
       "      <td>-0.3946554064750672</td>\n",
       "      <td>-1.1291629076004028</td>\n",
       "      <td>1.5390796661376951</td>\n",
       "      <td>0.4129871129989624</td>\n",
       "      <td>-0.1573128253221512</td>\n",
       "      <td>0.0748407095670700</td>\n",
       "      <td>-3.0261974334716801</td>\n",
       "      <td>...</td>\n",
       "      <td>-1.2563368082046509</td>\n",
       "      <td>-1.1090230941772459</td>\n",
       "      <td>1.2311370372772217</td>\n",
       "      <td>1.1668357849121094</td>\n",
       "      <td>3.2568092346191406</td>\n",
       "      <td>2.9602167606353764</td>\n",
       "      <td>-1.0459980964660645</td>\n",
       "      <td>4</td>\n",
       "      <td>0</td>\n",
       "      <td>6</td>\n",
       "    </tr>\n",
       "  </tbody>\n",
       "</table>\n",
       "<p>5 rows × 260 columns</p>\n",
       "</div>"
      ],
      "text/plain": [
       "                 time                 tv0                 tv1  \\\n",
       "0  0.9841110719125040  4.1481380462646484 -0.2139974832534789   \n",
       "1  0.9842627512424618  4.1481380462646484 -0.2139974832534789   \n",
       "2  0.9840694762116832  5.0535550117492685  1.2165696620941162   \n",
       "3  0.9842570189950302  2.9716651439666748 -0.5788695812225342   \n",
       "4  0.9840924399002436  0.4042505621910095 -1.0307354927062988   \n",
       "\n",
       "                  tv2                 tv3                 tv4  \\\n",
       "0 -0.2748044133186340  0.3943611383438110 -2.2072267532348642   \n",
       "1 -0.2748044133186340  0.3943611383438110 -2.2072267532348642   \n",
       "2  0.3485578894615173  0.3808794021606445  5.7227177619934073   \n",
       "3  2.2469174861907959 -1.7302743196487431 -2.3264360427856445   \n",
       "4 -0.3946554064750672 -1.1291629076004028  1.5390796661376951   \n",
       "\n",
       "                  tv5                 tv6                 tv7  \\\n",
       "0 -1.4376068115234375  2.0980615615844727 -0.6124892234802246   \n",
       "1 -1.4376068115234375  2.0980615615844727 -0.6124892234802246   \n",
       "2 -0.9034663438796996 -2.9302191734313965 -2.0493977069854736   \n",
       "3 -0.5912094712257385 -2.3438596725463867  0.4770196080207825   \n",
       "4  0.4129871129989624 -0.1573128253221512  0.0748407095670700   \n",
       "\n",
       "                  tv8  ...               iv121               iv122  \\\n",
       "0 -4.8264927864074716  ... -2.9370822906494136 -0.9811164140701294   \n",
       "1 -4.8264927864074716  ... -2.9370822906494136 -0.9811164140701294   \n",
       "2 -7.3847928047180176  ... -1.3566752672195437 -1.0602157115936279   \n",
       "3 -3.7080161571502690  ...  0.9559630155563354 -0.0576305389404297   \n",
       "4 -3.0261974334716801  ... -1.2563368082046509 -1.1090230941772459   \n",
       "\n",
       "                iv123               iv124               iv125  \\\n",
       "0  0.4257615506649017  1.4910547733306885  3.8896303176879878   \n",
       "1  0.4257615506649017  1.4910547733306885  3.8896303176879878   \n",
       "2  0.3031310141086578  1.5827329158782959  1.4230424165725708   \n",
       "3 -2.8185224533081050 -3.0371842384338379  0.8351709246635437   \n",
       "4  1.2311370372772217  1.1668357849121094  3.2568092346191406   \n",
       "\n",
       "                iv126               iv127  age  gender  city  \n",
       "0  1.4391320943832395 -0.0809062123298645    4       0     4  \n",
       "1  1.4391320943832395 -0.0809062123298645    4       0     2  \n",
       "2  2.8760449886322017 -0.5718842148780823    3       0     5  \n",
       "3  1.1768972873687744  0.4194931983947754    2       0     5  \n",
       "4  2.9602167606353764 -1.0459980964660645    4       0     6  \n",
       "\n",
       "[5 rows x 260 columns]"
      ]
     },
     "execution_count": 9,
     "metadata": {},
     "output_type": "execute_result"
    }
   ],
   "source": [
    "c=6\n",
    "temp=pd.read_csv(test_path + '/underexpose_test_click-{}/underexpose_test_click-{}.csv'.format(c,c), header=None,  names=['user_id', 'item_id', 'time'])\n",
    "temp=temp.sort_values(['user_id','time'],ascending=[True,False]).groupby(['user_id']).agg('max').reset_index()\n",
    "query=temp.merge(itemft,how='left').merge(userft,how='left').drop(['user_id','item_id'],axis=1)\n",
    "query=query.replace({'M':1,'F':0})\n",
    "query=query.astype({'age': 'int','gender':'int','city':'int'},errors='ignore')\n",
    "query.head(3)\n",
    "\n",
    "query.info()\n",
    "query.shape\n",
    "query.select_dtypes(['category'])\n",
    "query['age'].dtype =='category'\n",
    "\n",
    "database['age'].median()\n",
    "\n",
    "summary=database.mean()\n",
    "for col in query.isna().any().loc[query.isna().any() == True].index:\n",
    "    if col in ['age','gender','city']:\n",
    "        a=summary[col]\n",
    "    else:\n",
    "        a=database[col].median()\n",
    "    query[col]=query[col].replace(np.nan,a)\n",
    "query.shape == query.dropna().shape\n",
    "\n",
    "query.head()\n",
    "database.head()\n",
    "\n",
    "from sklearn.preprocessing import StandardScaler\n",
    "ss=StandardScaler()\n",
    "query1=ss.fit_transform(query)\n",
    "database1=ss.fit_transform(database)"
   ]
  },
  {
   "cell_type": "markdown",
   "metadata": {},
   "source": [
    "## query records"
   ]
  },
  {
   "cell_type": "code",
   "execution_count": 183,
   "metadata": {},
   "outputs": [],
   "source": [
    "temp=temp.sort_values(by=['user_id','time'],ascending=[True,False]).groupby(['user_id']).apply(\\\n",
    "                                                        lambda x : x.nlargest(2,'time').min()).drop(['user_id'],axis=1).reset_index()\n",
    "temp.head(3) # GET the second last click\n",
    "\n",
    "query=temp.merge(itemft,how='left').merge(userft,how='left').drop(['user_id','item_id'],axis=1)\n",
    "query=query.replace({'M':1,'F':0})\n",
    "query=query.astype({'age': 'int','gender':'int','city':'int'},errors='ignore')\n",
    "query.head(3)\n",
    "\n",
    "query.info()\n",
    "query.shape\n",
    "query.select_dtypes(['category'])\n",
    "query['age'].dtype =='category'\n",
    "\n",
    "database['age'].median()\n",
    "\n",
    "summary=database.mean()\n",
    "for col in query.isna().any().loc[query.isna().any() == True].index:\n",
    "    if col in ['age','gender','city']:\n",
    "        a=summary[col]\n",
    "    else:\n",
    "        a=database[col].median()\n",
    "    query[col]=query[col].replace(np.nan,a)\n",
    "query.shape == query.dropna().shape\n",
    "\n",
    "query.head()\n",
    "database.head()\n",
    "\n",
    "from sklearn.preprocessing import StandardScaler\n",
    "ss=StandardScaler()\n",
    "query1=ss.fit_transform(query)\n",
    "database1=ss.fit_transform(database)"
   ]
  },
  {
   "cell_type": "markdown",
   "metadata": {},
   "source": [
    "## find similarity"
   ]
  },
  {
   "cell_type": "code",
   "execution_count": null,
   "metadata": {},
   "outputs": [],
   "source": []
  },
  {
   "cell_type": "code",
   "execution_count": 16,
   "metadata": {},
   "outputs": [
    {
     "data": {
      "text/plain": [
       "array([[-1.65853636,  0.42432929, -1.06798817, ..., -0.13081972,\n",
       "        -0.20516912, -0.15768494],\n",
       "       [-1.65843807, -0.46582549, -0.11851271, ..., -0.13081972,\n",
       "        -0.20516912, -0.15768494],\n",
       "       [-1.65833978, -0.20378177,  0.36148371, ..., -0.13081972,\n",
       "        -0.20516912, -0.15768494],\n",
       "       ...,\n",
       "       [ 1.82410461,  0.99336521,  0.37027228, ..., -0.13081972,\n",
       "        -0.20516912, -0.15768494],\n",
       "       [ 1.82420289,  1.30946385,  1.13300477, ..., -0.13081972,\n",
       "        -0.20516912, -0.15768494],\n",
       "       [ 1.82430118,  1.75579629,  1.54891634, ..., -0.13081972,\n",
       "        -0.20516912, -0.15768494]])"
      ]
     },
     "execution_count": 16,
     "metadata": {},
     "output_type": "execute_result"
    }
   ],
   "source": [
    "user_path='../user_data/'\n",
    "\n",
    "from numpy import genfromtxt\n",
    "database1 = genfromtxt(user_path+'database1.csv', delimiter=',')\n",
    "query1 = genfromtxt(user_path+'query1.csv', delimiter=',')\n",
    "query1\n"
   ]
  },
  {
   "cell_type": "code",
   "execution_count": 20,
   "metadata": {},
   "outputs": [],
   "source": [
    "user_id=genfromtxt(user_path+'user_id.csv',delimiter=',').reshape(-1,1)"
   ]
  },
  {
   "cell_type": "code",
   "execution_count": 21,
   "metadata": {},
   "outputs": [
    {
     "data": {
      "text/plain": [
       "(5984, 260)"
      ]
     },
     "execution_count": 21,
     "metadata": {},
     "output_type": "execute_result"
    },
    {
     "data": {
      "text/plain": [
       "(12081, 262)"
      ]
     },
     "execution_count": 21,
     "metadata": {},
     "output_type": "execute_result"
    },
    {
     "data": {
      "text/plain": [
       "(12081, 1)"
      ]
     },
     "execution_count": 21,
     "metadata": {},
     "output_type": "execute_result"
    }
   ],
   "source": [
    "database1.shape\n",
    "query1.shape\n",
    "user_id.shape"
   ]
  },
  {
   "cell_type": "code",
   "execution_count": 22,
   "metadata": {},
   "outputs": [],
   "source": [
    "query1=np.delete(query1,[0,1],1)"
   ]
  },
  {
   "cell_type": "code",
   "execution_count": 23,
   "metadata": {},
   "outputs": [
    {
     "data": {
      "text/plain": [
       "dtype('float64')"
      ]
     },
     "execution_count": 23,
     "metadata": {},
     "output_type": "execute_result"
    }
   ],
   "source": [
    "import faiss\n",
    "\n",
    "database1.dtype\n",
    "database1=np.ascontiguousarray(database1.astype('float32'))\n",
    "query1=np.ascontiguousarray(query1.astype('float32'))\n",
    "\n",
    "\n",
    "\n",
    "dim=260\n",
    "k=50 # recall 10\n",
    "nlist=100\n",
    "quantizer = faiss.IndexFlatL2(dim)\n",
    "idx=faiss.IndexIVFPQ(quantizer,dim,nlist,10,8)\n",
    "idx.nprobe =10\n",
    "\n",
    "# index_sim.add(np.ascontiguousarray(tr_features_np))\n",
    "\n",
    "\n",
    "idx.train(np.ascontiguousarray(database1))\n",
    "idx.add(np.ascontiguousarray(database1))\n",
    "d,i=idx.search(np.ascontiguousarray(query1),100)"
   ]
  },
  {
   "cell_type": "code",
   "execution_count": 24,
   "metadata": {},
   "outputs": [],
   "source": [
    "result=np.ndarray(shape=d.shape)"
   ]
  },
  {
   "cell_type": "code",
   "execution_count": 35,
   "metadata": {},
   "outputs": [
    {
     "data": {
      "text/plain": [
       "(12081, 100)"
      ]
     },
     "execution_count": 35,
     "metadata": {},
     "output_type": "execute_result"
    }
   ],
   "source": [
    "i.shape"
   ]
  },
  {
   "cell_type": "code",
   "execution_count": 27,
   "metadata": {},
   "outputs": [
    {
     "data": {
      "text/html": [
       "<div>\n",
       "<style scoped>\n",
       "    .dataframe tbody tr th:only-of-type {\n",
       "        vertical-align: middle;\n",
       "    }\n",
       "\n",
       "    .dataframe tbody tr th {\n",
       "        vertical-align: top;\n",
       "    }\n",
       "\n",
       "    .dataframe thead th {\n",
       "        text-align: right;\n",
       "    }\n",
       "</style>\n",
       "<table border=\"1\" class=\"dataframe\">\n",
       "  <thead>\n",
       "    <tr style=\"text-align: right;\">\n",
       "      <th></th>\n",
       "      <th>user_id</th>\n",
       "      <th>item_id</th>\n",
       "      <th>time</th>\n",
       "      <th>tv0</th>\n",
       "      <th>tv1</th>\n",
       "      <th>tv2</th>\n",
       "      <th>tv3</th>\n",
       "      <th>tv4</th>\n",
       "      <th>tv5</th>\n",
       "      <th>tv6</th>\n",
       "      <th>...</th>\n",
       "      <th>iv121</th>\n",
       "      <th>iv122</th>\n",
       "      <th>iv123</th>\n",
       "      <th>iv124</th>\n",
       "      <th>iv125</th>\n",
       "      <th>iv126</th>\n",
       "      <th>iv127</th>\n",
       "      <th>age</th>\n",
       "      <th>gender</th>\n",
       "      <th>city</th>\n",
       "    </tr>\n",
       "  </thead>\n",
       "  <tbody>\n",
       "    <tr>\n",
       "      <th>0</th>\n",
       "      <td>10</td>\n",
       "      <td>88804</td>\n",
       "      <td>0.9842770799683772</td>\n",
       "      <td>6.0212249755859375</td>\n",
       "      <td>-4.5798912048339844</td>\n",
       "      <td>3.2130193710327148</td>\n",
       "      <td>-2.1399679183959961</td>\n",
       "      <td>-0.9064429402351379</td>\n",
       "      <td>2.4552919864654541</td>\n",
       "      <td>0.9194136857986450</td>\n",
       "      <td>...</td>\n",
       "      <td>-1.8558883666992188</td>\n",
       "      <td>1.1678773164749146</td>\n",
       "      <td>1.3769862651824951</td>\n",
       "      <td>-3.4025032520294189</td>\n",
       "      <td>1.5410439968109131</td>\n",
       "      <td>3.6849513053894039</td>\n",
       "      <td>2.9092373847961426</td>\n",
       "      <td>6</td>\n",
       "      <td>F</td>\n",
       "      <td>1</td>\n",
       "    </tr>\n",
       "    <tr>\n",
       "      <th>1</th>\n",
       "      <td>13</td>\n",
       "      <td>42888</td>\n",
       "      <td>0.9842780035882582</td>\n",
       "      <td>-0.6111484169960022</td>\n",
       "      <td>-0.1359649300575257</td>\n",
       "      <td>3.6519391536712646</td>\n",
       "      <td>-1.3654018640518188</td>\n",
       "      <td>0.9543317556381226</td>\n",
       "      <td>-1.1697646379470823</td>\n",
       "      <td>2.4903392791748047</td>\n",
       "      <td>...</td>\n",
       "      <td>-2.1855368614196777</td>\n",
       "      <td>1.3929390907287598</td>\n",
       "      <td>-0.0513036102056503</td>\n",
       "      <td>0.0396473109722138</td>\n",
       "      <td>2.7789900302886963</td>\n",
       "      <td>2.3467061519622803</td>\n",
       "      <td>-0.6091269850730896</td>\n",
       "      <td>7</td>\n",
       "      <td>M</td>\n",
       "      <td>6</td>\n",
       "    </tr>\n",
       "    <tr>\n",
       "      <th>2</th>\n",
       "      <td>16</td>\n",
       "      <td>73359</td>\n",
       "      <td>0.9842585274479918</td>\n",
       "      <td>-0.1482433378696441</td>\n",
       "      <td>3.3703970909118652</td>\n",
       "      <td>1.3680076599121094</td>\n",
       "      <td>-1.4550262689590454</td>\n",
       "      <td>2.8250017166137682</td>\n",
       "      <td>-2.0104930400848398</td>\n",
       "      <td>-4.0500035285949716</td>\n",
       "      <td>...</td>\n",
       "      <td>-1.3966966867446899</td>\n",
       "      <td>-0.9993148446083068</td>\n",
       "      <td>0.7488551735877991</td>\n",
       "      <td>1.6849117279052734</td>\n",
       "      <td>3.7666616439819336</td>\n",
       "      <td>2.0998668670654297</td>\n",
       "      <td>-2.2072551250457764</td>\n",
       "      <td>6</td>\n",
       "      <td>F</td>\n",
       "      <td>2</td>\n",
       "    </tr>\n",
       "  </tbody>\n",
       "</table>\n",
       "<p>3 rows × 262 columns</p>\n",
       "</div>"
      ],
      "text/plain": [
       "   user_id  item_id                time                 tv0  \\\n",
       "0       10    88804  0.9842770799683772  6.0212249755859375   \n",
       "1       13    42888  0.9842780035882582 -0.6111484169960022   \n",
       "2       16    73359  0.9842585274479918 -0.1482433378696441   \n",
       "\n",
       "                  tv1                 tv2                 tv3  \\\n",
       "0 -4.5798912048339844  3.2130193710327148 -2.1399679183959961   \n",
       "1 -0.1359649300575257  3.6519391536712646 -1.3654018640518188   \n",
       "2  3.3703970909118652  1.3680076599121094 -1.4550262689590454   \n",
       "\n",
       "                  tv4                 tv5                 tv6  ...  \\\n",
       "0 -0.9064429402351379  2.4552919864654541  0.9194136857986450  ...   \n",
       "1  0.9543317556381226 -1.1697646379470823  2.4903392791748047  ...   \n",
       "2  2.8250017166137682 -2.0104930400848398 -4.0500035285949716  ...   \n",
       "\n",
       "                iv121               iv122               iv123  \\\n",
       "0 -1.8558883666992188  1.1678773164749146  1.3769862651824951   \n",
       "1 -2.1855368614196777  1.3929390907287598 -0.0513036102056503   \n",
       "2 -1.3966966867446899 -0.9993148446083068  0.7488551735877991   \n",
       "\n",
       "                iv124               iv125               iv126  \\\n",
       "0 -3.4025032520294189  1.5410439968109131  3.6849513053894039   \n",
       "1  0.0396473109722138  2.7789900302886963  2.3467061519622803   \n",
       "2  1.6849117279052734  3.7666616439819336  2.0998668670654297   \n",
       "\n",
       "                iv127  age  gender  city  \n",
       "0  2.9092373847961426    6       F     1  \n",
       "1 -0.6091269850730896    7       M     6  \n",
       "2 -2.2072551250457764    6       F     2  \n",
       "\n",
       "[3 rows x 262 columns]"
      ]
     },
     "execution_count": 27,
     "metadata": {},
     "output_type": "execute_result"
    }
   ],
   "source": [
    "df_min=pd.read_csv(user_path+'df_min.csv')\n",
    "df_min.head(3)"
   ]
  },
  {
   "cell_type": "code",
   "execution_count": 28,
   "metadata": {},
   "outputs": [
    {
     "data": {
      "text/plain": [
       "(5984, 262)"
      ]
     },
     "execution_count": 28,
     "metadata": {},
     "output_type": "execute_result"
    }
   ],
   "source": [
    "df_min.shape"
   ]
  },
  {
   "cell_type": "code",
   "execution_count": 29,
   "metadata": {},
   "outputs": [
    {
     "name": "stderr",
     "output_type": "stream",
     "text": [
      "100%|██████████| 12081/12081 [00:12<00:00, 961.08it/s] \n"
     ]
    }
   ],
   "source": [
    "for row_i in tqdm(range(len(d))):\n",
    "    result[row_i]=df_min.loc[i[row_i],'item_id'].values"
   ]
  },
  {
   "cell_type": "code",
   "execution_count": 40,
   "metadata": {},
   "outputs": [
    {
     "data": {
      "text/plain": [
       "array([[ 69359.,  50909.,   5099., ...,  10255.,  93590.,  47448.],\n",
       "       [ 51505.,  92384.,  18071., ..., 101172.,  30208.,  90430.],\n",
       "       [ 72872., 106214.,  72108., ...,  92873.,  63028.,  25356.],\n",
       "       ...,\n",
       "       [ 23012.,  26666., 102702., ...,  23614.,  69029.,   7264.],\n",
       "       [101786.,  55365., 108477., ..., 107396.,  87163.,  58509.],\n",
       "       [108744., 111098., 111189., ..., 107032.,  52206., 115323.]])"
      ]
     },
     "execution_count": 40,
     "metadata": {},
     "output_type": "execute_result"
    }
   ],
   "source": [
    "result"
   ]
  },
  {
   "cell_type": "code",
   "execution_count": 42,
   "metadata": {},
   "outputs": [],
   "source": [
    "\n",
    "resultdf=pd.DataFrame(result,columns=['col'+ str(i) for i in range(0,100)])"
   ]
  },
  {
   "cell_type": "code",
   "execution_count": 44,
   "metadata": {},
   "outputs": [
    {
     "data": {
      "text/html": [
       "<div>\n",
       "<style scoped>\n",
       "    .dataframe tbody tr th:only-of-type {\n",
       "        vertical-align: middle;\n",
       "    }\n",
       "\n",
       "    .dataframe tbody tr th {\n",
       "        vertical-align: top;\n",
       "    }\n",
       "\n",
       "    .dataframe thead th {\n",
       "        text-align: right;\n",
       "    }\n",
       "</style>\n",
       "<table border=\"1\" class=\"dataframe\">\n",
       "  <thead>\n",
       "    <tr style=\"text-align: right;\">\n",
       "      <th></th>\n",
       "      <th>col0</th>\n",
       "      <th>col1</th>\n",
       "      <th>col2</th>\n",
       "      <th>col3</th>\n",
       "      <th>col4</th>\n",
       "      <th>col5</th>\n",
       "      <th>col6</th>\n",
       "      <th>col7</th>\n",
       "      <th>col8</th>\n",
       "      <th>col9</th>\n",
       "      <th>...</th>\n",
       "      <th>col90</th>\n",
       "      <th>col91</th>\n",
       "      <th>col92</th>\n",
       "      <th>col93</th>\n",
       "      <th>col94</th>\n",
       "      <th>col95</th>\n",
       "      <th>col96</th>\n",
       "      <th>col97</th>\n",
       "      <th>col98</th>\n",
       "      <th>col99</th>\n",
       "    </tr>\n",
       "  </thead>\n",
       "  <tbody>\n",
       "    <tr>\n",
       "      <th>0</th>\n",
       "      <td>69359.0</td>\n",
       "      <td>50909.0</td>\n",
       "      <td>5099.0</td>\n",
       "      <td>21671.0</td>\n",
       "      <td>4685.0</td>\n",
       "      <td>36760.0</td>\n",
       "      <td>2997.0</td>\n",
       "      <td>46494.0</td>\n",
       "      <td>23409.0</td>\n",
       "      <td>81561.0</td>\n",
       "      <td>...</td>\n",
       "      <td>46335.0</td>\n",
       "      <td>19248.0</td>\n",
       "      <td>27133.0</td>\n",
       "      <td>17019.0</td>\n",
       "      <td>16780.0</td>\n",
       "      <td>48284.0</td>\n",
       "      <td>83784.0</td>\n",
       "      <td>10255.0</td>\n",
       "      <td>93590.0</td>\n",
       "      <td>47448.0</td>\n",
       "    </tr>\n",
       "    <tr>\n",
       "      <th>1</th>\n",
       "      <td>51505.0</td>\n",
       "      <td>92384.0</td>\n",
       "      <td>18071.0</td>\n",
       "      <td>67625.0</td>\n",
       "      <td>99693.0</td>\n",
       "      <td>97339.0</td>\n",
       "      <td>81417.0</td>\n",
       "      <td>45621.0</td>\n",
       "      <td>55194.0</td>\n",
       "      <td>52342.0</td>\n",
       "      <td>...</td>\n",
       "      <td>106510.0</td>\n",
       "      <td>40460.0</td>\n",
       "      <td>89179.0</td>\n",
       "      <td>105452.0</td>\n",
       "      <td>49125.0</td>\n",
       "      <td>75373.0</td>\n",
       "      <td>113694.0</td>\n",
       "      <td>101172.0</td>\n",
       "      <td>30208.0</td>\n",
       "      <td>90430.0</td>\n",
       "    </tr>\n",
       "    <tr>\n",
       "      <th>2</th>\n",
       "      <td>72872.0</td>\n",
       "      <td>106214.0</td>\n",
       "      <td>72108.0</td>\n",
       "      <td>92002.0</td>\n",
       "      <td>77056.0</td>\n",
       "      <td>8207.0</td>\n",
       "      <td>8207.0</td>\n",
       "      <td>8207.0</td>\n",
       "      <td>26223.0</td>\n",
       "      <td>62422.0</td>\n",
       "      <td>...</td>\n",
       "      <td>78868.0</td>\n",
       "      <td>63028.0</td>\n",
       "      <td>6969.0</td>\n",
       "      <td>76562.0</td>\n",
       "      <td>76562.0</td>\n",
       "      <td>76562.0</td>\n",
       "      <td>92433.0</td>\n",
       "      <td>92873.0</td>\n",
       "      <td>63028.0</td>\n",
       "      <td>25356.0</td>\n",
       "    </tr>\n",
       "    <tr>\n",
       "      <th>3</th>\n",
       "      <td>101786.0</td>\n",
       "      <td>52526.0</td>\n",
       "      <td>55365.0</td>\n",
       "      <td>39885.0</td>\n",
       "      <td>96240.0</td>\n",
       "      <td>108477.0</td>\n",
       "      <td>108477.0</td>\n",
       "      <td>75373.0</td>\n",
       "      <td>88653.0</td>\n",
       "      <td>44114.0</td>\n",
       "      <td>...</td>\n",
       "      <td>81217.0</td>\n",
       "      <td>75182.0</td>\n",
       "      <td>57934.0</td>\n",
       "      <td>46368.0</td>\n",
       "      <td>31323.0</td>\n",
       "      <td>30208.0</td>\n",
       "      <td>110812.0</td>\n",
       "      <td>67910.0</td>\n",
       "      <td>45587.0</td>\n",
       "      <td>101295.0</td>\n",
       "    </tr>\n",
       "    <tr>\n",
       "      <th>4</th>\n",
       "      <td>43555.0</td>\n",
       "      <td>53413.0</td>\n",
       "      <td>17460.0</td>\n",
       "      <td>82329.0</td>\n",
       "      <td>113135.0</td>\n",
       "      <td>42193.0</td>\n",
       "      <td>53413.0</td>\n",
       "      <td>113135.0</td>\n",
       "      <td>11933.0</td>\n",
       "      <td>46983.0</td>\n",
       "      <td>...</td>\n",
       "      <td>70204.0</td>\n",
       "      <td>91294.0</td>\n",
       "      <td>105391.0</td>\n",
       "      <td>111639.0</td>\n",
       "      <td>112830.0</td>\n",
       "      <td>28993.0</td>\n",
       "      <td>44775.0</td>\n",
       "      <td>71158.0</td>\n",
       "      <td>86504.0</td>\n",
       "      <td>28571.0</td>\n",
       "    </tr>\n",
       "  </tbody>\n",
       "</table>\n",
       "<p>5 rows × 100 columns</p>\n",
       "</div>"
      ],
      "text/plain": [
       "       col0      col1     col2     col3      col4      col5      col6  \\\n",
       "0   69359.0   50909.0   5099.0  21671.0    4685.0   36760.0    2997.0   \n",
       "1   51505.0   92384.0  18071.0  67625.0   99693.0   97339.0   81417.0   \n",
       "2   72872.0  106214.0  72108.0  92002.0   77056.0    8207.0    8207.0   \n",
       "3  101786.0   52526.0  55365.0  39885.0   96240.0  108477.0  108477.0   \n",
       "4   43555.0   53413.0  17460.0  82329.0  113135.0   42193.0   53413.0   \n",
       "\n",
       "       col7     col8     col9  ...     col90    col91     col92     col93  \\\n",
       "0   46494.0  23409.0  81561.0  ...   46335.0  19248.0   27133.0   17019.0   \n",
       "1   45621.0  55194.0  52342.0  ...  106510.0  40460.0   89179.0  105452.0   \n",
       "2    8207.0  26223.0  62422.0  ...   78868.0  63028.0    6969.0   76562.0   \n",
       "3   75373.0  88653.0  44114.0  ...   81217.0  75182.0   57934.0   46368.0   \n",
       "4  113135.0  11933.0  46983.0  ...   70204.0  91294.0  105391.0  111639.0   \n",
       "\n",
       "      col94    col95     col96     col97    col98     col99  \n",
       "0   16780.0  48284.0   83784.0   10255.0  93590.0   47448.0  \n",
       "1   49125.0  75373.0  113694.0  101172.0  30208.0   90430.0  \n",
       "2   76562.0  76562.0   92433.0   92873.0  63028.0   25356.0  \n",
       "3   31323.0  30208.0  110812.0   67910.0  45587.0  101295.0  \n",
       "4  112830.0  28993.0   44775.0   71158.0  86504.0   28571.0  \n",
       "\n",
       "[5 rows x 100 columns]"
      ]
     },
     "execution_count": 44,
     "metadata": {},
     "output_type": "execute_result"
    }
   ],
   "source": [
    "resultdf.head()"
   ]
  },
  {
   "cell_type": "code",
   "execution_count": 45,
   "metadata": {},
   "outputs": [],
   "source": [
    "top50_click = df_min['item_id'].value_counts().index[:50].values\n",
    "\n",
    "top50_click=list(top50_click)"
   ]
  },
  {
   "cell_type": "code",
   "execution_count": 46,
   "metadata": {},
   "outputs": [
    {
     "data": {
      "text/plain": [
       "{5, 7}"
      ]
     },
     "execution_count": 46,
     "metadata": {},
     "output_type": "execute_result"
    }
   ],
   "source": [
    "set([2,3,5,7])-set([2,3,6])"
   ]
  },
  {
   "cell_type": "code",
   "execution_count": 48,
   "metadata": {},
   "outputs": [
    {
     "data": {
      "text/plain": [
       "0"
      ]
     },
     "execution_count": 48,
     "metadata": {},
     "output_type": "execute_result"
    },
    {
     "data": {
      "text/plain": [
       "False"
      ]
     },
     "execution_count": 48,
     "metadata": {},
     "output_type": "execute_result"
    }
   ],
   "source": [
    "result_filled=np.ndarray(shape=(d.shape[0],50))\n",
    "\n",
    "sm=0\n",
    "row_i=0\n",
    "for item in list(map(set,resultdf.values)):\n",
    "    diff=50-len(item)\n",
    "    if diff>=0:\n",
    "        result_filled[row_i]=list(item)+random.sample(list(set(top50_click)-item),diff)\n",
    "        if len(list(set(top50_click)-item))<diff:\n",
    "            print('ooooops')\n",
    "            random.sample(list(set(top50_click)-item),diff)\n",
    "        sm+=1\n",
    "    else:\n",
    "        result_filled[row_i]=list(item)[:50]\n",
    "        \n",
    "    row_i=row_i+1\n",
    "\n",
    "        \n",
    "sm\n",
    "result_filled.shape == d.shape"
   ]
  },
  {
   "cell_type": "code",
   "execution_count": 49,
   "metadata": {},
   "outputs": [
    {
     "data": {
      "text/plain": [
       "(12081, 50)"
      ]
     },
     "execution_count": 49,
     "metadata": {},
     "output_type": "execute_result"
    }
   ],
   "source": [
    "result_filled.shape"
   ]
  },
  {
   "cell_type": "code",
   "execution_count": 51,
   "metadata": {},
   "outputs": [
    {
     "data": {
      "text/plain": [
       "(12081, 1)"
      ]
     },
     "execution_count": 51,
     "metadata": {},
     "output_type": "execute_result"
    }
   ],
   "source": [
    "user_id.shape"
   ]
  },
  {
   "cell_type": "code",
   "execution_count": 50,
   "metadata": {},
   "outputs": [
    {
     "data": {
      "text/plain": [
       "(12081, 100)"
      ]
     },
     "execution_count": 50,
     "metadata": {},
     "output_type": "execute_result"
    }
   ],
   "source": [
    "d.shape"
   ]
  },
  {
   "cell_type": "code",
   "execution_count": 53,
   "metadata": {},
   "outputs": [],
   "source": [
    "result_filled=np.concatenate((user_id,result_filled),axis=1)"
   ]
  },
  {
   "cell_type": "code",
   "execution_count": 54,
   "metadata": {},
   "outputs": [
    {
     "data": {
      "text/plain": [
       "(12081, 51)"
      ]
     },
     "execution_count": 54,
     "metadata": {},
     "output_type": "execute_result"
    }
   ],
   "source": [
    "result_filled.shape"
   ]
  },
  {
   "cell_type": "code",
   "execution_count": 55,
   "metadata": {},
   "outputs": [],
   "source": [
    "np.savetxt('underexpose_submit-6.csv',result_filled,delimiter=',',fmt='%i')"
   ]
  },
  {
   "cell_type": "code",
   "execution_count": null,
   "metadata": {},
   "outputs": [],
   "source": []
  }
 ],
 "metadata": {
  "kernelspec": {
   "display_name": "Python 3",
   "language": "python",
   "name": "python3"
  },
  "language_info": {
   "codemirror_mode": {
    "name": "ipython",
    "version": 3
   },
   "file_extension": ".py",
   "mimetype": "text/x-python",
   "name": "python",
   "nbconvert_exporter": "python",
   "pygments_lexer": "ipython3",
   "version": "3.7.3"
  },
  "toc": {
   "base_numbering": 1,
   "nav_menu": {},
   "number_sections": true,
   "sideBar": true,
   "skip_h1_title": false,
   "title_cell": "Table of Contents",
   "title_sidebar": "Contents",
   "toc_cell": false,
   "toc_position": {},
   "toc_section_display": true,
   "toc_window_display": false
  },
  "varInspector": {
   "cols": {
    "lenName": 16,
    "lenType": 16,
    "lenVar": 40
   },
   "kernels_config": {
    "python": {
     "delete_cmd_postfix": "",
     "delete_cmd_prefix": "del ",
     "library": "var_list.py",
     "varRefreshCmd": "print(var_dic_list())"
    },
    "r": {
     "delete_cmd_postfix": ") ",
     "delete_cmd_prefix": "rm(",
     "library": "var_list.r",
     "varRefreshCmd": "cat(var_dic_list()) "
    }
   },
   "types_to_exclude": [
    "module",
    "function",
    "builtin_function_or_method",
    "instance",
    "_Feature"
   ],
   "window_display": false
  }
 },
 "nbformat": 4,
 "nbformat_minor": 4
}
