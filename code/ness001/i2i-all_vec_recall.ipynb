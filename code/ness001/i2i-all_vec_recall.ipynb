{
 "cells": [
  {
   "cell_type": "markdown",
   "metadata": {
    "toc": true
   },
   "source": [
    "<h1>Table of Contents<span class=\"tocSkip\"></span></h1>\n",
    "<div class=\"toc\"><ul class=\"toc-item\"></ul></div>"
   ]
  },
  {
   "cell_type": "code",
   "execution_count": 4,
   "metadata": {},
   "outputs": [
    {
     "data": {
      "text/plain": [
       "'/Users/ness001/OneDrive/推荐系统/KDD2020-Debiasing-Team666/code/ness001'"
      ]
     },
     "execution_count": 4,
     "metadata": {},
     "output_type": "execute_result"
    }
   ],
   "source": [
    "import os\n",
    "os.getcwd()\n",
    "KDD2020-Debiasing-Team666/data/underexpose_train/underexpose_item_feat.csv"
   ]
  },
  {
   "cell_type": "code",
   "execution_count": 8,
   "metadata": {},
   "outputs": [
    {
     "name": "stdout",
     "output_type": "stream",
     "text": [
      "3.7.3 (default, Mar 27 2019, 16:54:48) \n",
      "[Clang 4.0.1 (tags/RELEASE_401/final)] darwin /Users/ness001/anaconda3/envs/newborn/bin/python\n"
     ]
    }
   ],
   "source": [
    "import sys\n",
    "\n",
    "print(sys.version, sys.platform, sys.executable)\n",
    "from tqdm import tqdm\n",
    "\n",
    "import pandas as pd\n",
    "from sklearn.metrics.pairwise import cosine_similarity\n",
    "pd.set_option('display.precision',16)\n",
    "\n",
    "train_path = '../../data/underexpose_train/'\n",
    "test_path = '../../data/'\n",
    "\n",
    "\n",
    "col_name = ['item_id']\n",
    "for i in range(0, 128):\n",
    "    col_name.append('tv' + str(i))\n",
    "for i in range(0, 128):\n",
    "    col_name.append('iv' + str(i))\n",
    "\n",
    "itemft = pd.read_csv(train_path + 'underexpose_item_feat.csv', low_memory=False, names=col_name)\n",
    "itemft = itemft.replace('[\\[\\]]', '', regex=True)  # regex=True is the key\n",
    "\n"
   ]
  },
  {
   "cell_type": "code",
   "execution_count": null,
   "metadata": {},
   "outputs": [],
   "source": []
  },
  {
   "cell_type": "code",
   "execution_count": null,
   "metadata": {},
   "outputs": [],
   "source": [
    "# dft = pd.DataFrame()\n",
    "# for p in tqdm(phase):\n",
    "#     # 获取test用户的近n次点击\n",
    "#     temp_ = all_click_df[p][0][all_click_df[p][0].user_id.isin(all_click_df[p][1].user_id)].groupby('user_id')['item_id'].agg(list)\n",
    "#     temp_ = pd.DataFrame(temp_)\n",
    "#     for i in range(0, 5):\n",
    "#         temp_[f'last_{i+1}'] = temp_.item_id.str.get(-(i+1))\n",
    "#     dft = dft.append(temp_.reset_index())\n",
    "#     # 计算每个phase的item_id cnt\n",
    "#     t_ = all_click_df[p][0].groupby('item_id')['user_id'].count()\n",
    "#     df.loc[df.phase==p, 'item_cnt'] = df.item_id_pred.map(lambda x: t_[x] if x in t_ else 0)"
   ]
  },
  {
   "cell_type": "code",
   "execution_count": null,
   "metadata": {},
   "outputs": [],
   "source": [
    "vec = itemft.iloc[:, 1:].to_numpy()\n",
    "vec.shape"
   ]
  },
  {
   "cell_type": "code",
   "execution_count": null,
   "metadata": {},
   "outputs": [],
   "source": [
    "form "
   ]
  },
  {
   "cell_type": "code",
   "execution_count": 4,
   "metadata": {},
   "outputs": [
    {
     "name": "stderr",
     "output_type": "stream",
     "text": [
      "100%|██████████| 218/218 [03:58<00:00,  1.10s/it]\n"
     ]
    }
   ],
   "source": [
    "\n",
    "\n",
    "chunk_size = 500\n",
    "matrix_len = vec.shape[0]\n",
    "\n",
    "\n",
    "def sim_chunk(start, end):\n",
    "    if end > matrix_len:\n",
    "        end = matrix_len\n",
    "    return cosine_similarity(vec[start:end], vec)\n",
    "\n",
    "\n",
    "import numpy as np\n",
    "\n",
    "sim_matrix = np.ndarray(shape=(matrix_len, matrix_len))\n",
    "\n",
    "# ---------------------------------------------------------------------\n",
    "\n",
    "for start in tqdm(range(0, matrix_len, chunk_size)):\n",
    "    cos_sim_chunk = sim_chunk(start, start + chunk_size)\n",
    "    if (start + chunk_size) <= matrix_len:\n",
    "        sim_matrix[start:start + chunk_size] = cos_sim_chunk\n",
    "    else:\n",
    "        sim_matrix[start:matrix_len] = cos_sim_chunk\n"
   ]
  },
  {
   "cell_type": "code",
   "execution_count": 16,
   "metadata": {},
   "outputs": [
    {
     "name": "stderr",
     "output_type": "stream",
     "text": [
      "100%|██████████| 108916/108916 [30:24<00:00, 59.70it/s] \n"
     ]
    }
   ],
   "source": [
    "results = {}\n",
    "\n",
    "recall_num=500\n",
    "for idx, row in tqdm(itemft[['item_id']].iterrows(),total=sim_matrix.shape[0]):\n",
    "    similar_indices = sim_matrix[idx].argsort()[\n",
    "                      :-recall_num:-1]  # ascending return index, : means reverse order, -100:-1 means last 100-1 to last 1-1 position\n",
    "    similar_items = [(sim_matrix[idx][i], itemft['item_id'][i]) for i in similar_indices]\n",
    "\n",
    "    results[row['item_id']] = similar_items[1:]\n",
    "    \n",
    "with open('result_vec.txt','w') as f:\n",
    "    print(results,file=f)"
   ]
  },
  {
   "cell_type": "code",
   "execution_count": 17,
   "metadata": {},
   "outputs": [
    {
     "data": {
      "text/plain": [
       "498"
      ]
     },
     "execution_count": 17,
     "metadata": {},
     "output_type": "execute_result"
    }
   ],
   "source": [
    "len(similar_items[1:])"
   ]
  },
  {
   "cell_type": "code",
   "execution_count": 18,
   "metadata": {},
   "outputs": [
    {
     "name": "stdout",
     "output_type": "stream",
     "text": [
      "Recommending 5 products similar to 1...\n",
      "-------\n",
      "[(0.7412481239635497, 60268), (0.7154533810786937, 81448), (0.6957638213171138, 75224), (0.6946299147484594, 24871), (0.6573989783528436, 26004)]\n"
     ]
    }
   ],
   "source": [
    "# simple test\n",
    "def recommend(item_id, top_num):\n",
    "    print(\"Recommending \" + str(top_num) + \" products similar to \" + str(item_id) + \"...\")\n",
    "    print(\"-------\")\n",
    "    recs = results[item_id][:top_num]\n",
    "    return recs\n",
    "\n",
    "\n",
    "print(recommend(item_id=1, top_num=5))\n",
    "\n",
    "# --- ------ ----------------------\n",
    "\n",
    "p = 6\n",
    "user_last = pd.read_csv(test_path + 'underexpose_test_click-{}.csv'.format(p),names=['user_id','item_id','time'])\n",
    "user_last=user_last.sort_values(['user_id', 'time'],ascending=[True,False]).reset_index(drop=True)\n",
    "user_true = user_last.drop_duplicates(['user_id'], keep='first')\n",
    "user_train = user_last.iloc[user_true.index+1,:]"
   ]
  },
  {
   "cell_type": "code",
   "execution_count": 1,
   "metadata": {},
   "outputs": [],
   "source": [
    "# user_path='../../user_data/'\n",
    "# results= open(user_path+'result_vec.txt').read()"
   ]
  },
  {
   "cell_type": "code",
   "execution_count": 19,
   "metadata": {},
   "outputs": [
    {
     "name": "stderr",
     "output_type": "stream",
     "text": [
      "100%|██████████| 1821/1821 [07:17<00:00,  4.17it/s]\n"
     ]
    },
    {
     "data": {
      "text/plain": [
       "0.13948380010982978"
      ]
     },
     "execution_count": 19,
     "metadata": {},
     "output_type": "execute_result"
    }
   ],
   "source": [
    "recall_num=450\n",
    "itemlist=list(itemft.item_id.unique())\n",
    "recall_frame = pd.DataFrame(columns=['user_id', 'item_id_pred', 'score', 'rank', 'item_id_true'],index=range(0,recall_num*len(user_train.user_id.unique())))\n",
    "row_num=0\n",
    "for user in tqdm(user_train.user_id.unique()):\n",
    "    latest_item = user_train.loc[user_train.user_id == user, 'item_id'].values[0]\n",
    "    true_item = user_true.loc[user_true.user_id == user, 'item_id'].values[0]\n",
    "    if latest_item in itemlist: \n",
    "        recs = results[latest_item][:recall_num]\n",
    "        for i in range(0, recall_num):\n",
    "            \n",
    "            recall_frame.iloc[row_num]['user_id'] = user\n",
    "            recall_frame.iloc[row_num]['item_id_pred'] = recs[i][1]\n",
    "            recall_frame.iloc[row_num]['score'] = recs[i][0]\n",
    "            recall_frame.iloc[row_num]['rank'] = i+1\n",
    "            recall_frame.iloc[row_num]['item_id_true'] = true_item\n",
    "            row_num+=1\n",
    "    else:\n",
    "#         print(user,latest_item,latest_item in itemlist)\n",
    "        recall_frame.iloc[row_num]['user_id'] = user\n",
    "        recall_frame.iloc[row_num]['item_id_pred'] = np.nan\n",
    "        recall_frame.iloc[row_num]['score'] = np.nan\n",
    "        recall_frame.iloc[row_num]['rank'] = np.nan\n",
    "        recall_frame.iloc[row_num]['item_id_true'] = true_item\n",
    "        row_num+=1\n",
    "recall_frame\n",
    "\n",
    "recall_frame=recall_frame.dropna(how='all').astype('float32')\n",
    "sum(recall_frame.item_id_pred == recall_frame.item_id_true)/1821"
   ]
  },
  {
   "cell_type": "code",
   "execution_count": null,
   "metadata": {},
   "outputs": [],
   "source": [
    "recall_frame.to_csv('recall_allvec_df.csv',index=False)"
   ]
  },
  {
   "cell_type": "code",
   "execution_count": null,
   "metadata": {},
   "outputs": [],
   "source": [
    "# import faiss\n",
    "\n",
    "# vec=np.ascontiguousarray(vec.astype('float32'))\n",
    "\n",
    "# dim=vec.shape[1]\n",
    "# k=500 # recall \n",
    "# nlist=100\n",
    "# quantizer = faiss.IndexFlatL2(dim)\n",
    "# idx=faiss.IndexIVFPQ(quantizer,dim,nlist,10,8)\n",
    "# idx.nprobe =10\n",
    "\n",
    "# idx.train(vec)\n",
    "# idx.add(vec)\n",
    "# d,i=idx.search(vec,100)"
   ]
  },
  {
   "cell_type": "code",
   "execution_count": null,
   "metadata": {},
   "outputs": [],
   "source": []
  }
 ],
 "metadata": {
  "hide_input": false,
  "kernelspec": {
   "display_name": "Python 3",
   "language": "python",
   "name": "python3"
  },
  "language_info": {
   "codemirror_mode": {
    "name": "ipython",
    "version": 3
   },
   "file_extension": ".py",
   "mimetype": "text/x-python",
   "name": "python",
   "nbconvert_exporter": "python",
   "pygments_lexer": "ipython3",
   "version": "3.7.3"
  },
  "toc": {
   "base_numbering": 1,
   "nav_menu": {},
   "number_sections": true,
   "sideBar": true,
   "skip_h1_title": false,
   "title_cell": "Table of Contents",
   "title_sidebar": "Contents",
   "toc_cell": true,
   "toc_position": {},
   "toc_section_display": true,
   "toc_window_display": false
  },
  "varInspector": {
   "cols": {
    "lenName": 16,
    "lenType": 16,
    "lenVar": 40
   },
   "kernels_config": {
    "python": {
     "delete_cmd_postfix": "",
     "delete_cmd_prefix": "del ",
     "library": "var_list.py",
     "varRefreshCmd": "print(var_dic_list())"
    },
    "r": {
     "delete_cmd_postfix": ") ",
     "delete_cmd_prefix": "rm(",
     "library": "var_list.r",
     "varRefreshCmd": "cat(var_dic_list()) "
    }
   },
   "types_to_exclude": [
    "module",
    "function",
    "builtin_function_or_method",
    "instance",
    "_Feature"
   ],
   "window_display": false
  }
 },
 "nbformat": 4,
 "nbformat_minor": 4
}
