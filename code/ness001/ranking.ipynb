{
 "cells": [
  {
   "cell_type": "code",
   "execution_count": 1,
   "metadata": {},
   "outputs": [],
   "source": [
    "user_path='../../user_data/'\n",
    "import pandas as pd\n",
    "df=pd.read_pickle(user_path+'r_list_binn_0527.pkl')\n",
    "df=df[0]\n",
    "\n",
    "pred_df=df\n",
    "\n",
    "pred_df=pred_df.loc[pred_df['rank'] <=50 ]\n",
    "preds={}\n",
    "for user in pred_df.user_id.unique():\n",
    "    last = len(pred_df.loc[pred_df.user_id == user ])\n",
    "    if last == 50:\n",
    "        index_list = pred_df.loc[pred_df.user_id == user].index[:50] # it returns row labels\n",
    "        preds[int(user)] = pred_df.loc[index_list].item_id_pred.astype(int).to_list()\n",
    "    else:\n",
    "        index_list = pred_df.loc[pred_df.user_id == user].index[:last]\n",
    "        preds[int(user)] = pred_df.loc[index_list].item_id_pred.astype(int).to_list()+top50_items[last:]\n",
    "\n",
    "user_to_be_filled= answers[p].keys() - preds.keys()\n",
    "for user in user_to_be_filled:\n",
    "    preds[user] = top50_items"
   ]
  }
 ],
 "metadata": {
  "kernelspec": {
   "display_name": "Python 3",
   "language": "python",
   "name": "python3"
  },
  "language_info": {
   "codemirror_mode": {
    "name": "ipython",
    "version": 3
   },
   "file_extension": ".py",
   "mimetype": "text/x-python",
   "name": "python",
   "nbconvert_exporter": "python",
   "pygments_lexer": "ipython3",
   "version": "3.7.3"
  }
 },
 "nbformat": 4,
 "nbformat_minor": 4
}
