{
 "cells": [
  {
   "cell_type": "markdown",
   "metadata": {},
   "source": [
    "## install pacakges"
   ]
  },
  {
   "cell_type": "code",
   "execution_count": null,
   "metadata": {},
   "outputs": [],
   "source": [
    "import os\n",
    "import zipfile\n",
    "import csv\n",
    "\n",
    "import requests\n",
    "\n",
    "\n",
    "def _download(url: str, dest_path: str):\n",
    "\n",
    "    req = requests.get(url, stream=True)\n",
    "    req.raise_for_status()\n",
    "\n",
    "    with open(dest_path, \"wb\") as fd:\n",
    "        for chunk in req.iter_content(chunk_size=2 ** 20):\n",
    "            fd.write(chunk)\n",
    "\n",
    "\n",
    "def get_data():\n",
    "\n",
    "    ratings_url = (\"http://www2.informatik.uni-freiburg.de/\" \"~cziegler/BX/BX-CSV-Dump.zip\")\n",
    "\n",
    "    if not os.path.exists(\"data\"):\n",
    "        os.makedirs(\"data\")\n",
    "\n",
    "        _download(ratings_url, \"data/data.zip\")\n",
    "\n",
    "    with zipfile.ZipFile(\"data/data.zip\") as archive:\n",
    "        return (\n",
    "            csv.DictReader(\n",
    "                (x.decode(\"utf-8\", \"ignore\") for x in archive.open(\"BX-Book-Ratings.csv\")),\n",
    "                delimiter=\";\",\n",
    "            ),\n",
    "            csv.DictReader(\n",
    "                (x.decode(\"utf-8\", \"ignore\") for x in archive.open(\"BX-Books.csv\")), delimiter=\";\"\n",
    "            ),\n",
    "        )\n",
    "\n",
    "\n",
    "def get_ratings():\n",
    "\n",
    "    return get_data()[0]\n",
    "\n",
    "\n",
    "def get_book_features():\n",
    "\n",
    "    return get_data()[1]"
   ]
  },
  {
   "cell_type": "code",
   "execution_count": null,
   "metadata": {},
   "outputs": [],
   "source": [
    "import json\n",
    "from itertools import islice\n",
    "\n",
    "ratings, book_features = get_data()"
   ]
  },
  {
   "cell_type": "code",
   "execution_count": null,
   "metadata": {},
   "outputs": [],
   "source": [
    "for line in islice(ratings, 2):\n",
    "    print(json.dumps(line, indent=4))"
   ]
  },
  {
   "cell_type": "code",
   "execution_count": null,
   "metadata": {},
   "outputs": [],
   "source": [
    "for line in islice(book_features, 1):\n",
    "    print(json.dumps(line, indent=4))"
   ]
  },
  {
   "cell_type": "code",
   "execution_count": null,
   "metadata": {},
   "outputs": [],
   "source": [
    "from lightfm.data import Dataset\n",
    "\n",
    "dataset = Dataset()\n",
    "dataset.fit((x['User-ID'] for x in get_ratings()),\n",
    "            (x['ISBN'] for x in get_ratings()))\n",
    "\n",
    "num_users, num_items = dataset.interactions_shape()\n",
    "print('Num users: {}, num_items {}.'.format(num_users, num_items))\n",
    "\n",
    "dataset.fit_partial(items=(x['ISBN'] for x in get_book_features()),\n",
    "                    item_features=(x['Book-Author'] for x in get_book_features()))\n",
    "\n",
    "(interactions, weights) = dataset.build_interactions(((x['User-ID'], x['ISBN'])\n",
    "                                                      for x in get_ratings()))\n",
    "\n",
    "print(repr(interactions))"
   ]
  },
  {
   "cell_type": "code",
   "execution_count": null,
   "metadata": {},
   "outputs": [],
   "source": [
    "item_features = dataset.build_item_features(((x['ISBN'], [x['Book-Author']])\n",
    "                                              for x in get_book_features()))\n",
    "print(repr(item_features))"
   ]
  },
  {
   "cell_type": "code",
   "execution_count": null,
   "metadata": {},
   "outputs": [],
   "source": []
  },
  {
   "cell_type": "code",
   "execution_count": null,
   "metadata": {},
   "outputs": [],
   "source": []
  },
  {
   "cell_type": "code",
   "execution_count": null,
   "metadata": {},
   "outputs": [],
   "source": []
  },
  {
   "cell_type": "code",
   "execution_count": null,
   "metadata": {},
   "outputs": [],
   "source": []
  },
  {
   "cell_type": "code",
   "execution_count": null,
   "metadata": {},
   "outputs": [],
   "source": []
  },
  {
   "cell_type": "code",
   "execution_count": null,
   "metadata": {},
   "outputs": [],
   "source": []
  },
  {
   "cell_type": "code",
   "execution_count": null,
   "metadata": {},
   "outputs": [],
   "source": []
  },
  {
   "cell_type": "code",
   "execution_count": 1,
   "metadata": {},
   "outputs": [],
   "source": [
    "!pip install pandas==0.21\n",
    "!pip install tqdm \n",
    "!pip install lightfm\n",
    "\n",
    "!pip install loguru"
   ]
  },
  {
   "cell_type": "markdown",
   "metadata": {},
   "source": [
    "## load data"
   ]
  },
  {
   "cell_type": "code",
   "execution_count": 2,
   "metadata": {},
   "outputs": [
    {
     "name": "stderr",
     "output_type": "stream",
     "text": [
      "2020-06-05 01:50:03.367 | INFO     | __main__:load_click_data_per_phase:36 - phase: 0\n",
      "2020-06-05 01:50:04.574 | INFO     | __main__:load_click_data_per_phase:47 - all_click: (261337, 3), click_test1_val: (1663, 3), test_qtime1: (1663, 2)\n",
      "2020-06-05 01:50:04.575 | INFO     | __main__:load_click_data_per_phase:36 - phase: 1\n",
      "2020-06-05 01:50:05.663 | INFO     | __main__:load_click_data_per_phase:47 - all_click: (264871, 3), click_test1_val: (1726, 3), test_qtime1: (1726, 2)\n",
      "2020-06-05 01:50:05.664 | INFO     | __main__:load_click_data_per_phase:36 - phase: 2\n",
      "2020-06-05 01:50:06.760 | INFO     | __main__:load_click_data_per_phase:47 - all_click: (264624, 3), click_test1_val: (1690, 3), test_qtime1: (1690, 2)\n",
      "2020-06-05 01:50:06.761 | INFO     | __main__:load_click_data_per_phase:36 - phase: 3\n",
      "2020-06-05 01:50:07.949 | INFO     | __main__:load_click_data_per_phase:47 - all_click: (286609, 3), click_test1_val: (1675, 3), test_qtime1: (1675, 2)\n",
      "2020-06-05 01:50:07.952 | INFO     | __main__:load_click_data_per_phase:36 - phase: 4\n",
      "2020-06-05 01:50:09.182 | INFO     | __main__:load_click_data_per_phase:47 - all_click: (291672, 3), click_test1_val: (1708, 3), test_qtime1: (1708, 2)\n",
      "2020-06-05 01:50:09.184 | INFO     | __main__:load_click_data_per_phase:36 - phase: 5\n",
      "2020-06-05 01:50:10.567 | INFO     | __main__:load_click_data_per_phase:47 - all_click: (313378, 3), click_test1_val: (1798, 3), test_qtime1: (1798, 2)\n",
      "2020-06-05 01:50:10.568 | INFO     | __main__:load_click_data_per_phase:36 - phase: 6\n",
      "2020-06-05 01:50:12.029 | INFO     | __main__:load_click_data_per_phase:47 - all_click: (337339, 3), click_test1_val: (1821, 3), test_qtime1: (1821, 2)\n"
     ]
    }
   ],
   "source": [
    "from IPython.core.interactiveshell import InteractiveShell\n",
    "InteractiveShell.ast_node_interactivity = 'all'\n",
    "import os\n",
    "import pandas as pd\n",
    "import numpy as np\n",
    "from tqdm import tqdm\n",
    "import pickle\n",
    "from loguru import logger\n",
    "import argparse\n",
    "import multiprocessing\n",
    "\n",
    "\n",
    "\n",
    "\n",
    "\n",
    "\n",
    "parser = argparse.ArgumentParser(description='t')\n",
    "parser.add_argument('--now_phase', type=int, default=6, help='')\n",
    "parser.add_argument('--window', type=int, default=10, help='cocur_matr的时间窗')\n",
    "parser.add_argument('--time_decay', type=float, default=7/8, help='时间衰减')\n",
    "parser.add_argument('--mode', type=str, default='train', help='train test')\n",
    "parser.add_argument('--topk', type=int, default=500, help='每种召回策略召回的样本数')\n",
    "parser.add_argument('--DATA_DIR', type=str, default='./', help='data dir')\n",
    "\n",
    "args = parser.parse_args(args=[])\n",
    "trace = logger.add(os.path.join(args.DATA_DIR, 'data_gen/runtime.log'))\n",
    "\n",
    "# Cell\n",
    "def load_click_data_per_phase(now_phase, base_dir):\n",
    "    \"\"\"\n",
    "    \"\"\"\n",
    "\n",
    "\n",
    "    all_click_df = []\n",
    "    for c in range(now_phase + 1):\n",
    "        logger.info(f'phase: {c}')\n",
    "        cols_str = 'user_id item_id time'.split()\n",
    "        click_train1 = pd.read_csv( './underexpose_train_click-{}.csv'.format(c), header=None,  names=['user_id', 'item_id', 'time'], converters={c: str for c in cols_str})\n",
    "        click_test1 = pd.read_csv( './underexpose_test_click-{}.csv'.format(c, c), header=None,  names=['user_id', 'item_id', 'time'], converters={c: str for c in cols_str})\n",
    "        test_qtime1 = pd.read_csv( './underexpose_test_qtime-{}.csv'.format(c, c), header=None,  names=['user_id','time'], converters={c: str for c in cols_str})\n",
    "        click_test1_val = click_test1.sort_values(['user_id', 'time']).drop_duplicates(subset=['user_id'],keep='last')\n",
    "\n",
    "        click_test1 = click_test1[~click_test1.index.isin(click_test1_val.index)]\n",
    "        all_click = click_train1.append(click_test1).drop_duplicates().sort_values('time')\n",
    "\n",
    "        all_click_df.append((all_click, click_test1_val, test_qtime1))\n",
    "        logger.info(f'all_click: {all_click.shape}, click_test1_val: {click_test1_val.shape}, test_qtime1: {test_qtime1.shape}')\n",
    "    return all_click_df\n",
    "all_click_df = load_click_data_per_phase(args.now_phase, args.DATA_DIR)\n",
    "all_train=pd.concat([all_click_df[i][0] for i in range(0,7)]).drop_duplicates().reset_index(drop=True)\n",
    "all_train=all_train.sort_values(by=['user_id','time'],ascending=['True','False'])\n",
    "\n",
    "\n",
    "\n",
    "\n"
   ]
  },
  {
   "cell_type": "code",
   "execution_count": 3,
   "metadata": {},
   "outputs": [],
   "source": [
    "col_name=['item_id']\n",
    "for i in range(0,128):\n",
    "    col_name.append('tv'+str(i))\n",
    "for i in range(0,128):\n",
    "    col_name.append('iv'+str(i))\n",
    "itemft=pd.read_csv('./underexpose_item_feat.csv',low_memory=False,names=col_name)\n",
    "itemft=itemft.replace('[\\[\\]]','',regex=True)#regex=True is the key\n",
    "itemft=itemft.astype({'item_id':int, 'tv0':float, 'tv127':float, 'iv0':float, 'iv127':float})"
   ]
  },
  {
   "cell_type": "code",
   "execution_count": 4,
   "metadata": {},
   "outputs": [],
   "source": [
    "userft=pd.read_csv('./underexpose_user_feat.csv',low_memory=False,names=['user_id','age','gender','city'],dtype=\\\n",
    "                  {'user_id': int,'age':'object','gender':'object','city':'object'})\n"
   ]
  },
  {
   "cell_type": "code",
   "execution_count": 5,
   "metadata": {},
   "outputs": [],
   "source": [
    "# user feat have duplicated user ids\n",
    "a=userft.user_id.value_counts()\n",
    "dup_user_id=a[a>1].index.tolist()\n",
    "dup_index=userft.loc[userft.user_id.isin(dup_user_id),:].index.tolist()\n",
    "dup_index=[i for i in dup_index if i%2 == 0]\n",
    "userft.drop(dup_index,inplace=True)"
   ]
  },
  {
   "cell_type": "markdown",
   "metadata": {},
   "source": [
    "## get a phase"
   ]
  },
  {
   "cell_type": "code",
   "execution_count": 6,
   "metadata": {},
   "outputs": [],
   "source": [
    "all_train=all_click_df[6][0].astype(float)\n",
    "all_test=all_click_df[6][1].astype(float)"
   ]
  },
  {
   "cell_type": "markdown",
   "metadata": {},
   "source": [
    "## prepare train test coo_matrix"
   ]
  },
  {
   "cell_type": "code",
   "execution_count": 18,
   "metadata": {},
   "outputs": [],
   "source": [
    "from sklearn.preprocessing import LabelEncoder"
   ]
  },
  {
   "cell_type": "code",
   "execution_count": 19,
   "metadata": {},
   "outputs": [
    {
     "data": {
      "text/plain": [
       "(337339, 3)"
      ]
     },
     "execution_count": 19,
     "metadata": {},
     "output_type": "execute_result"
    }
   ],
   "source": [
    "all_train.shape"
   ]
  },
  {
   "cell_type": "code",
   "execution_count": 20,
   "metadata": {},
   "outputs": [
    {
     "data": {
      "text/plain": [
       "(1821, 3)"
      ]
     },
     "execution_count": 20,
     "metadata": {},
     "output_type": "execute_result"
    },
    {
     "data": {
      "text/plain": [
       "(1821, 3)"
      ]
     },
     "execution_count": 20,
     "metadata": {},
     "output_type": "execute_result"
    }
   ],
   "source": [
    "all_test.shape\n",
    "all_test=all_test[(all_test['user_id'].isin(all_train['user_id'])) & (all_test['item_id'].isin(all_train['item_id']))]\n",
    "all_test.shape"
   ]
  },
  {
   "cell_type": "code",
   "execution_count": 22,
   "metadata": {},
   "outputs": [],
   "source": [
    "le_cols=['item_id','user_id']\n",
    "encoded_train=dict()\n",
    "encoded_test=dict()\n",
    "for key in le_cols:\n",
    "    le=LabelEncoder()\n",
    "    encoded_train[key]=le.fit_transform(all_train[key].values)\n",
    "    encoded_test[key]=le.transform(all_test[key].values)"
   ]
  },
  {
   "cell_type": "code",
   "execution_count": 23,
   "metadata": {},
   "outputs": [
    {
     "data": {
      "text/plain": [
       "{'item_id': array([28564, 28838, 39475, ..., 16177,  8617, 46694]),\n",
       " 'user_id': array([ 8240, 17391,  1965, ..., 18781,  7473,  6533])}"
      ]
     },
     "execution_count": 23,
     "metadata": {},
     "output_type": "execute_result"
    }
   ],
   "source": [
    "encoded_train"
   ]
  },
  {
   "cell_type": "code",
   "execution_count": 25,
   "metadata": {},
   "outputs": [],
   "source": [
    "n_users,n_items=len(np.unique(encoded_train['user_id'])),len(np.unique(encoded_train['item_id']))\n",
    "\n",
    "n_users,n_items\n",
    "\n",
    "train_codata=np.ones(shape=(all_train.shape[0],))\n",
    "test_codata=np.ones(shape=(all_test.shape[0],))\n",
    "\n",
    "from scipy.sparse import coo_matrix\n",
    "\n",
    "train = coo_matrix((train_codata,(encoded_train['user_id'],encoded_train['item_id'])),shape=(n_users,n_items))\n",
    "test = coo_matrix((test_codata,(encoded_test['user_id'],encoded_test['item_id'])),shape=(n_users,n_items))"
   ]
  },
  {
   "cell_type": "code",
   "execution_count": null,
   "metadata": {},
   "outputs": [],
   "source": []
  },
  {
   "cell_type": "markdown",
   "metadata": {},
   "source": [
    "## prepare userft itemft"
   ]
  },
  {
   "cell_type": "code",
   "execution_count": 7,
   "metadata": {},
   "outputs": [
    {
     "data": {
      "text/plain": [
       "True"
      ]
     },
     "execution_count": 7,
     "metadata": {},
     "output_type": "execute_result"
    },
    {
     "data": {
      "text/plain": [
       "True"
      ]
     },
     "execution_count": 7,
     "metadata": {},
     "output_type": "execute_result"
    },
    {
     "name": "stdout",
     "output_type": "stream",
     "text": [
      "<class 'pandas.core.frame.DataFrame'>\n",
      "Int64Index: 20396 entries, 0 to 20395\n",
      "Data columns (total 4 columns):\n",
      "user_id    20396 non-null float64\n",
      "age        20396 non-null object\n",
      "gender     20396 non-null object\n",
      "city       20396 non-null object\n",
      "dtypes: float64(1), object(3)\n",
      "memory usage: 796.7+ KB\n",
      "<class 'pandas.core.frame.DataFrame'>\n",
      "Int64Index: 48664 entries, 0 to 48663\n",
      "Columns: 257 entries, item_id to iv127\n",
      "dtypes: float64(257)\n",
      "memory usage: 95.8 MB\n"
     ]
    },
    {
     "data": {
      "text/plain": [
       "(20396, 3)"
      ]
     },
     "execution_count": 7,
     "metadata": {},
     "output_type": "execute_result"
    },
    {
     "data": {
      "text/plain": [
       "(20396, 3)"
      ]
     },
     "execution_count": 7,
     "metadata": {},
     "output_type": "execute_result"
    },
    {
     "data": {
      "text/plain": [
       "(48664, 256)"
      ]
     },
     "execution_count": 7,
     "metadata": {},
     "output_type": "execute_result"
    },
    {
     "data": {
      "text/plain": [
       "(48664, 256)"
      ]
     },
     "execution_count": 7,
     "metadata": {},
     "output_type": "execute_result"
    },
    {
     "data": {
      "text/plain": [
       "(20396, 3)"
      ]
     },
     "execution_count": 7,
     "metadata": {},
     "output_type": "execute_result"
    },
    {
     "data": {
      "text/plain": [
       "(48664, 256)"
      ]
     },
     "execution_count": 7,
     "metadata": {},
     "output_type": "execute_result"
    }
   ],
   "source": [
    "user_item_matrix=all_train.pivot_table(index='user_id',columns='item_id',aggfunc=len,fill_value=0)\n",
    "users=pd.DataFrame(data=list(user_item_matrix.index),columns=['user_id'])\n",
    "user_features=users.merge(userft,how='left')\n",
    "user_features.shape[0] == user_item_matrix.shape[0]\n",
    "\n",
    "\n",
    "items=pd.DataFrame(data=list(user_item_matrix.columns.droplevel(level=0)),columns=['item_id'])\n",
    "item_features=items.merge(itemft,how='left')\n",
    "item_features.shape[0] == user_item_matrix.shape[1]\n",
    "\n",
    "\n",
    "user_features.fillna(0,inplace=True)\n",
    "item_features.fillna(0,inplace=True)\n",
    "\n",
    "user_features.info()\n",
    "item_features.info()\n",
    "\n",
    "user_features=user_features.replace({'M':1,'F':0})\n",
    "\n",
    "user_features=user_features.astype({'user_id':int,'age':int,'gender':int,'city':int})\n",
    "\n",
    "user_features.set_index('user_id',inplace=True)\n",
    "item_features.set_index('item_id',inplace=True)\n",
    "\n",
    "user_features.dropna().shape\n",
    "user_features.shape\n",
    "item_features.dropna().shape\n",
    "item_features.shape\n",
    "\n",
    "\n",
    "from scipy.sparse import csr_matrix\n",
    "uft_csr=csr_matrix(user_features.values)\n",
    "ift_csr=csr_matrix(item_features.values)\n",
    "uft_csr.shape\n",
    "ift_csr.shape\n",
    "\n"
   ]
  },
  {
   "cell_type": "markdown",
   "metadata": {},
   "source": [
    "## model"
   ]
  },
  {
   "cell_type": "markdown",
   "metadata": {},
   "source": [
    "## abort: user feature is too sparse"
   ]
  },
  {
   "cell_type": "code",
   "execution_count": 163,
   "metadata": {
    "collapsed": true,
    "jupyter": {
     "outputs_hidden": true
    }
   },
   "outputs": [
    {
     "name": "stdout",
     "output_type": "stream",
     "text": [
      "Epoch 0\n"
     ]
    },
    {
     "ename": "ValueError",
     "evalue": "Not all estimated parameters are finite, your model may have diverged. Try decreasing the learning rate or normalising feature values and sample weights",
     "output_type": "error",
     "traceback": [
      "\u001b[0;31m---------------------------------------------------------------------------\u001b[0m",
      "\u001b[0;31mValueError\u001b[0m                                Traceback (most recent call last)",
      "\u001b[0;32m<ipython-input-163-c827341ca491>\u001b[0m in \u001b[0;36m<module>\u001b[0;34m\u001b[0m\n\u001b[1;32m      4\u001b[0m \u001b[0;32mfrom\u001b[0m \u001b[0mlightfm\u001b[0m \u001b[0;32mimport\u001b[0m \u001b[0mLightFM\u001b[0m\u001b[0;34m\u001b[0m\u001b[0;34m\u001b[0m\u001b[0m\n\u001b[1;32m      5\u001b[0m \u001b[0mmodel\u001b[0m\u001b[0;34m=\u001b[0m\u001b[0mLightFM\u001b[0m\u001b[0;34m(\u001b[0m\u001b[0mlearning_rate\u001b[0m\u001b[0;34m=\u001b[0m\u001b[0;36m5\u001b[0m\u001b[0;34m*\u001b[0m\u001b[0;36m10\u001b[0m\u001b[0;34m**\u001b[0m\u001b[0;34m(\u001b[0m\u001b[0;34m-\u001b[0m\u001b[0;36m10\u001b[0m\u001b[0;34m)\u001b[0m\u001b[0;34m,\u001b[0m\u001b[0mloss\u001b[0m\u001b[0;34m=\u001b[0m\u001b[0;34m'bpr'\u001b[0m\u001b[0;34m)\u001b[0m\u001b[0;34m\u001b[0m\u001b[0;34m\u001b[0m\u001b[0m\n\u001b[0;32m----> 6\u001b[0;31m \u001b[0mmodel\u001b[0m\u001b[0;34m.\u001b[0m\u001b[0mfit\u001b[0m\u001b[0;34m(\u001b[0m\u001b[0mcoo\u001b[0m\u001b[0;34m,\u001b[0m\u001b[0muser_features\u001b[0m\u001b[0;34m=\u001b[0m\u001b[0muft_csr\u001b[0m\u001b[0;34m,\u001b[0m\u001b[0mitem_features\u001b[0m\u001b[0;34m=\u001b[0m\u001b[0mift_csr\u001b[0m\u001b[0;34m,\u001b[0m\u001b[0mepochs\u001b[0m\u001b[0;34m=\u001b[0m\u001b[0;36m3\u001b[0m\u001b[0;34m,\u001b[0m\u001b[0mverbose\u001b[0m\u001b[0;34m=\u001b[0m\u001b[0;32mTrue\u001b[0m\u001b[0;34m)\u001b[0m\u001b[0;34m\u001b[0m\u001b[0;34m\u001b[0m\u001b[0m\n\u001b[0m",
      "\u001b[0;32m~/anaconda3/envs/python367/lib/python3.6/site-packages/lightfm/lightfm.py\u001b[0m in \u001b[0;36mfit\u001b[0;34m(self, interactions, user_features, item_features, sample_weight, epochs, num_threads, verbose)\u001b[0m\n\u001b[1;32m    477\u001b[0m                                 \u001b[0mepochs\u001b[0m\u001b[0;34m=\u001b[0m\u001b[0mepochs\u001b[0m\u001b[0;34m,\u001b[0m\u001b[0;34m\u001b[0m\u001b[0;34m\u001b[0m\u001b[0m\n\u001b[1;32m    478\u001b[0m                                 \u001b[0mnum_threads\u001b[0m\u001b[0;34m=\u001b[0m\u001b[0mnum_threads\u001b[0m\u001b[0;34m,\u001b[0m\u001b[0;34m\u001b[0m\u001b[0;34m\u001b[0m\u001b[0m\n\u001b[0;32m--> 479\u001b[0;31m                                 verbose=verbose)\n\u001b[0m\u001b[1;32m    480\u001b[0m \u001b[0;34m\u001b[0m\u001b[0m\n\u001b[1;32m    481\u001b[0m     def fit_partial(self, interactions,\n",
      "\u001b[0;32m~/anaconda3/envs/python367/lib/python3.6/site-packages/lightfm/lightfm.py\u001b[0m in \u001b[0;36mfit_partial\u001b[0;34m(self, interactions, user_features, item_features, sample_weight, epochs, num_threads, verbose)\u001b[0m\n\u001b[1;32m    576\u001b[0m                             self.loss)\n\u001b[1;32m    577\u001b[0m \u001b[0;34m\u001b[0m\u001b[0m\n\u001b[0;32m--> 578\u001b[0;31m             \u001b[0mself\u001b[0m\u001b[0;34m.\u001b[0m\u001b[0m_check_finite\u001b[0m\u001b[0;34m(\u001b[0m\u001b[0;34m)\u001b[0m\u001b[0;34m\u001b[0m\u001b[0;34m\u001b[0m\u001b[0m\n\u001b[0m\u001b[1;32m    579\u001b[0m \u001b[0;34m\u001b[0m\u001b[0m\n\u001b[1;32m    580\u001b[0m         \u001b[0;32mreturn\u001b[0m \u001b[0mself\u001b[0m\u001b[0;34m\u001b[0m\u001b[0;34m\u001b[0m\u001b[0m\n",
      "\u001b[0;32m~/anaconda3/envs/python367/lib/python3.6/site-packages/lightfm/lightfm.py\u001b[0m in \u001b[0;36m_check_finite\u001b[0;34m(self)\u001b[0m\n\u001b[1;32m    411\u001b[0m             \u001b[0;31m# large boolean temporary.\u001b[0m\u001b[0;34m\u001b[0m\u001b[0;34m\u001b[0m\u001b[0;34m\u001b[0m\u001b[0m\n\u001b[1;32m    412\u001b[0m             \u001b[0;32mif\u001b[0m \u001b[0;32mnot\u001b[0m \u001b[0mnp\u001b[0m\u001b[0;34m.\u001b[0m\u001b[0misfinite\u001b[0m\u001b[0;34m(\u001b[0m\u001b[0mnp\u001b[0m\u001b[0;34m.\u001b[0m\u001b[0msum\u001b[0m\u001b[0;34m(\u001b[0m\u001b[0mparameter\u001b[0m\u001b[0;34m)\u001b[0m\u001b[0;34m)\u001b[0m\u001b[0;34m:\u001b[0m\u001b[0;34m\u001b[0m\u001b[0;34m\u001b[0m\u001b[0m\n\u001b[0;32m--> 413\u001b[0;31m                 raise ValueError(\"Not all estimated parameters are finite,\"\n\u001b[0m\u001b[1;32m    414\u001b[0m                                  \u001b[0;34m\" your model may have diverged. Try decreasing\"\u001b[0m\u001b[0;34m\u001b[0m\u001b[0;34m\u001b[0m\u001b[0m\n\u001b[1;32m    415\u001b[0m                                  \u001b[0;34m\" the learning rate or normalising feature values\"\u001b[0m\u001b[0;34m\u001b[0m\u001b[0;34m\u001b[0m\u001b[0m\n",
      "\u001b[0;31mValueError\u001b[0m: Not all estimated parameters are finite, your model may have diverged. Try decreasing the learning rate or normalising feature values and sample weights"
     ]
    }
   ],
   "source": [
    "from lightfm.data import Dataset\n",
    "# Dataset.build_item_features(data=uft_csr)\n",
    "from lightfm import LightFM\n",
    "model=LightFM(learning_rate=5*10**(-10),loss='bpr')\n",
    "model.fit(coo,user_features=uft_csr,item_features=ift_csr,epochs=3,verbose=True)"
   ]
  },
  {
   "cell_type": "markdown",
   "metadata": {},
   "source": [
    "error: ValueError: Not all estimated parameters are finite, your model may have diverged. Try decreasing the learning rate or normalising feature values and sample weights\n"
   ]
  },
  {
   "cell_type": "code",
   "execution_count": null,
   "metadata": {},
   "outputs": [],
   "source": [
    "np.isnan(np.min(user_features.values))\n",
    "np.isnan(np.min(item_features.values))\n",
    "np.isnan(np.min(user_item_matrix.values[:,1:]))"
   ]
  },
  {
   "cell_type": "code",
   "execution_count": 59,
   "metadata": {},
   "outputs": [],
   "source": [
    "def fm_eval(coo,prec_k=10,recall_k=100,use='itemft',train_interactions=None,ift_csr=None,t=1):\n",
    "    from lightfm.evaluation import precision_at_k,auc_score,recall_at_k\n",
    "    if use == 'itemft':\n",
    "        train_precision = precision_at_k(model,coo,train_interactions=train_interactions,item_features=ift_csr,k=prec_k,num_threads=t).mean()\n",
    "        train_auc = auc_score(model,coo,train_interactions=train_interactions,item_features=ift_csr,num_threads=t).mean()\n",
    "        train_recall=recall_at_k(model,coo,train_interactions=train_interactions,k=recall_k,item_features=ift_csr,num_threads=t).mean()\n",
    "        print('train: prec: {} with top {},auc: {} , recall: {} with top {}'.format(train_precision,prec_k,train_auc,train_recall,recall_k))\n",
    "    if use == None:\n",
    "        train_precision = precision_at_k(model,coo,train_interactions=train_interactions,k=prec_k,num_threads=t).mean()\n",
    "        train_auc = auc_score(model,coo,train_interactions=train_interactions,num_threads=t).mean()\n",
    "        train_recall=recall_at_k(model,coo,train_interactions=train_interactions,k=recall_k,num_threads=t).mean()\n",
    "        print('train: prec: {} with top {},auc: {} , recall: {} with top {}'.format(train_precision,prec_k,train_auc,train_recall,recall_k))"
   ]
  },
  {
   "cell_type": "code",
   "execution_count": 13,
   "metadata": {},
   "outputs": [],
   "source": [
    "import multiprocessing\n",
    "num_threads=multiprocessing.cpu_count()"
   ]
  },
  {
   "cell_type": "markdown",
   "metadata": {},
   "source": [
    "## with no feature"
   ]
  },
  {
   "cell_type": "code",
   "execution_count": null,
   "metadata": {},
   "outputs": [],
   "source": [
    "user_item_matrix.shape\n",
    "user_item_matrix.fillna(0,inplace=True)\n",
    "user_item_matrix.dropna().shape\n",
    "\n",
    "users=pd.DataFrame(data=list(user_item_matrix.index),columns=['user_id'])\n",
    "user_features=users.merge(userft,how='left')\n",
    "user_features.shape[0] == user_item_matrix.shape[0]\n",
    "\n",
    "\n",
    "items=pd.DataFrame(data=list(user_item_matrix.columns.droplevel(level=0))[1:],columns=['item_id'])\n",
    "item_features=items.merge(itemft,how='left')\n",
    "item_features.shape[1] == user_item_matrix.shape[1]\n",
    "\n",
    "user_features.fillna(0,inplace=True)\n",
    "item_features.fillna(0,inplace=True)\n",
    "\n",
    "from scipy.sparse import csr_matrix\n",
    "uft_csr=csr_matrix(user_features.values)\n",
    "ift_csr=csr_matrix(item_features.values)\n",
    "uft_csr.shape\n",
    "ift_csr.shape\n",
    "\n",
    "user_features.dropna().shape\n",
    "user_features.shape\n",
    "item_features.dropna().shape\n",
    "item_features.shape\n",
    "\n",
    "\n",
    "\n",
    "from scipy.sparse import coo_matrix\n",
    "coo=coo_matrix(user_item_matrix.values[:,1:])\n",
    "coo.shape"
   ]
  },
  {
   "cell_type": "markdown",
   "metadata": {},
   "source": [
    "### with le constructed train"
   ]
  },
  {
   "cell_type": "code",
   "execution_count": 43,
   "metadata": {},
   "outputs": [],
   "source": [
    "from lightfm import LightFM\n",
    "model=LightFM(learning_rate=0.05,loss='bpr')\n",
    "model.fit(interactions=train,epochs=50,verbose=False,num_threads=num_threads-1,item_features=None)"
   ]
  },
  {
   "cell_type": "code",
   "execution_count": 38,
   "metadata": {},
   "outputs": [
    {
     "name": "stdout",
     "output_type": "stream",
     "text": [
      "train: prec: 0.11159050464630127 with top 1,auc: 0.9218184947967529 , recall: 0.010510707295504637 with top 1\n"
     ]
    }
   ],
   "source": [
    "fm_eval(train,recall_k=1,prec_k=1,use=None)"
   ]
  },
  {
   "cell_type": "code",
   "execution_count": 42,
   "metadata": {},
   "outputs": [
    {
     "name": "stdout",
     "output_type": "stream",
     "text": [
      "train: prec: 0.1086977869272232 with top 1,auc: 0.9098623394966125 , recall: 0.2905786382196576 with top 500\n"
     ]
    }
   ],
   "source": [
    "fm_eval(train,recall_k=500,prec_k=1,use=None)"
   ]
  },
  {
   "cell_type": "code",
   "execution_count": 40,
   "metadata": {},
   "outputs": [
    {
     "name": "stdout",
     "output_type": "stream",
     "text": [
      "train: prec: 0.0007688084151595831 with top 10,auc: 0.6545107364654541 , recall: 0.08896210873146623 with top 500\n"
     ]
    }
   ],
   "source": [
    "fm_eval(test,train_interactions=train,recall_k=500,prec_k=10,use=None)"
   ]
  },
  {
   "cell_type": "code",
   "execution_count": 41,
   "metadata": {},
   "outputs": [
    {
     "name": "stdout",
     "output_type": "stream",
     "text": [
      "train: prec: 0.0009884679457172751 with top 10,auc: 0.6510509252548218 , recall: 0.08951125755079627 with top 500\n"
     ]
    }
   ],
   "source": [
    "model.item_biases *= 0.0\n",
    "fm_eval(test,train_interactions=train,recall_k=1,prec_k=10,use=None)"
   ]
  },
  {
   "cell_type": "markdown",
   "metadata": {},
   "source": [
    "### only on train with simple pivot"
   ]
  },
  {
   "cell_type": "code",
   "execution_count": null,
   "metadata": {},
   "outputs": [],
   "source": [
    "from scipy.sparse import coo_matrix\n",
    "coo=coo_matrix(user_item_matrix)\n",
    "coo.shape"
   ]
  },
  {
   "cell_type": "code",
   "execution_count": 14,
   "metadata": {},
   "outputs": [],
   "source": [
    "from lightfm import LightFM\n",
    "model=LightFM(learning_rate=0.05,loss='bpr')\n",
    "model.fit(interactions=coo,epochs=50,verbose=False,num_threads=num_threads-1,item_features=None)\n",
    "fm_eval(coo,recall_k=1,prec_k=1,use=None)"
   ]
  },
  {
   "cell_type": "markdown",
   "metadata": {},
   "source": [
    "## with only item feature ***"
   ]
  },
  {
   "cell_type": "markdown",
   "metadata": {},
   "source": [
    "### with le constructed train"
   ]
  },
  {
   "cell_type": "code",
   "execution_count": 71,
   "metadata": {},
   "outputs": [],
   "source": [
    "def fm_eval(coo,prec_k=10,recall_k=100,use='itemft',train_interactions=None,ift_csr=None,t=1):\n",
    "    from lightfm.evaluation import precision_at_k,auc_score,recall_at_k\n",
    "    if use == 'itemft':\n",
    "        train_precision = precision_at_k(model,coo,train_interactions=train_interactions,item_features=ift_csr,k=prec_k,num_threads=t).mean()\n",
    "        train_auc = auc_score(model,coo,train_interactions=train_interactions,item_features=ift_csr,num_threads=t).mean()\n",
    "        train_recall=recall_at_k(model,coo,train_interactions=train_interactions,k=recall_k,item_features=ift_csr,num_threads=t).mean()\n",
    "        print('train: prec: {} with top {},auc: {} , recall: {} with top {}'.format(train_precision,prec_k,train_auc,train_recall,recall_k))\n",
    "    if use == None:\n",
    "        train_precision = precision_at_k(model,coo,train_interactions=train_interactions,k=prec_k,num_threads=t).mean()\n",
    "        train_auc = auc_score(model,coo,train_interactions=train_interactions,num_threads=t).mean()\n",
    "        train_recall=recall_at_k(model,coo,train_interactions=train_interactions,k=recall_k,num_threads=t).mean()\n",
    "        print('train: prec: {} with top {},auc: {} , recall: {} with top {}'.format(train_precision,prec_k,train_auc,train_recall,recall_k))"
   ]
  },
  {
   "cell_type": "code",
   "execution_count": 76,
   "metadata": {},
   "outputs": [
    {
     "name": "stdout",
     "output_type": "stream",
     "text": [
      "Epoch 0\n",
      "Epoch 1\n",
      "Epoch 2\n",
      "Epoch 3\n",
      "Epoch 4\n",
      "Epoch 5\n",
      "Epoch 6\n",
      "Epoch 7\n",
      "Epoch 8\n",
      "Epoch 9\n",
      "Epoch 10\n",
      "Epoch 11\n",
      "Epoch 12\n",
      "Epoch 13\n",
      "Epoch 14\n",
      "Epoch 15\n",
      "Epoch 16\n",
      "Epoch 17\n",
      "Epoch 18\n",
      "Epoch 19\n",
      "Epoch 20\n",
      "Epoch 21\n",
      "Epoch 22\n",
      "Epoch 23\n",
      "Epoch 24\n",
      "Epoch 25\n",
      "Epoch 26\n",
      "Epoch 27\n",
      "Epoch 28\n",
      "Epoch 29\n"
     ]
    },
    {
     "data": {
      "text/plain": [
       "<lightfm.lightfm.LightFM at 0x7f651f81b5c0>"
      ]
     },
     "execution_count": 76,
     "metadata": {},
     "output_type": "execute_result"
    }
   ],
   "source": [
    "model=LightFM(no_components=128,learning_rate=0.02,loss='bpr')\n",
    "model.fit(train,epochs=30,item_features=ift_csr,verbose=True,num_threads=num_threads-1)\n"
   ]
  },
  {
   "cell_type": "code",
   "execution_count": 77,
   "metadata": {},
   "outputs": [
    {
     "name": "stdout",
     "output_type": "stream",
     "text": [
      "train: prec: 0.001702361274510622 with top 10,auc: 0.7816762328147888 , recall: 0.17792421746293247 with top 500\n"
     ]
    }
   ],
   "source": [
    "fm_eval(test,train_interactions=train,recall_k=500,prec_k=10,use='itemft',ift_csr=ift_csr,t=num_threads-1)"
   ]
  },
  {
   "cell_type": "code",
   "execution_count": 83,
   "metadata": {},
   "outputs": [],
   "source": [
    "def get_mapping_dict(le):\n",
    "    d={}\n",
    "    for c in le.classes_:\n",
    "        d.update({c:le.transform([c])[0]})\n",
    "    return d\n",
    "\n",
    "\n",
    "le_cols=['item_id','user_id']\n",
    "encoded_train=dict()\n",
    "encoded_test=dict()\n",
    "for key in le_cols:\n",
    "    le=LabelEncoder()\n",
    "    encoded_train[key]=le.fit_transform(all_train[key].values)\n",
    "    encoded_test[key]=le.transform(all_test[key].values)\n",
    "    if key=='item_id':\n",
    "        item_dict=get_mapping_dict(le)\n",
    "    else:\n",
    "        user_dict=get_mapping_dict(le)"
   ]
  },
  {
   "cell_type": "code",
   "execution_count": 84,
   "metadata": {},
   "outputs": [
    {
     "data": {
      "text/plain": [
       "[(1.0, 0),\n",
       " (2.0, 1),\n",
       " (3.0, 2),\n",
       " (4.0, 3),\n",
       " (5.0, 4),\n",
       " (7.0, 5),\n",
       " (8.0, 6),\n",
       " (9.0, 7),\n",
       " (10.0, 8),\n",
       " (13.0, 9)]"
      ]
     },
     "execution_count": 84,
     "metadata": {},
     "output_type": "execute_result"
    },
    {
     "data": {
      "text/plain": [
       "[(3.0, 0),\n",
       " (9.0, 1),\n",
       " (14.0, 2),\n",
       " (16.0, 3),\n",
       " (18.0, 4),\n",
       " (23.0, 5),\n",
       " (28.0, 6),\n",
       " (29.0, 7),\n",
       " (31.0, 8),\n",
       " (32.0, 9)]"
      ]
     },
     "execution_count": 84,
     "metadata": {},
     "output_type": "execute_result"
    }
   ],
   "source": [
    "from itertools import islice\n",
    "def take(n, iterable):\n",
    "    \"Return first n items of the iterable as a list\"\n",
    "    return list(islice(iterable, n))\n",
    "take(10, user_dict.items())\n",
    "take(10, item_dict.items())"
   ]
  },
  {
   "cell_type": "markdown",
   "metadata": {},
   "source": [
    "## all_predict"
   ]
  },
  {
   "cell_type": "code",
   "execution_count": 139,
   "metadata": {},
   "outputs": [
    {
     "name": "stderr",
     "output_type": "stream",
     "text": [
      "100%|██████████| 1821/1821 [13:39<00:00,  2.22it/s]\n"
     ]
    }
   ],
   "source": [
    "\n",
    "\n",
    "recall_frame=pd.DataFrame()\n",
    "topn=500\n",
    "item_history=all_train.groupby('user_id')['item_id'].agg(lambda x: list(x))\n",
    "recall_frame=pd.DataFrame()\n",
    "topn=500\n",
    "\n",
    "\n",
    "for user in tqdm(all_test.user_id.unique()):\n",
    "    user_code=user_dict[user]\n",
    "    scores=pd.Series(model.predict(user_code,np.arange(n_items),item_features=ift_csr))\n",
    "    scores.index=user_item_matrix.columns.droplevel(0)\n",
    "    all_recall = pd.Series(scores.sort_values(ascending=False))\n",
    "    history = item_history[user]\n",
    "    recall_items = [x for x in all_recall.index if x not in history][0:topn]\n",
    "    recall_scores=all_recall.loc[recall_items].values\n",
    "    n=len(recall_items)\n",
    "\n",
    "    true_item=list(all_test.loc[all_test.user_id==user].item_id.values)\n",
    "\n",
    "    df=pd.DataFrame({'rank':range(1,n+1),'user': [user]*n, 'scores':recall_scores,'item_pred':recall_items,'item_true':true_item*n} )\n",
    "    recall_frame=pd.concat([recall_frame,df])\n"
   ]
  },
  {
   "cell_type": "code",
   "execution_count": 142,
   "metadata": {},
   "outputs": [
    {
     "data": {
      "text/html": [
       "<div>\n",
       "<style scoped>\n",
       "    .dataframe tbody tr th:only-of-type {\n",
       "        vertical-align: middle;\n",
       "    }\n",
       "\n",
       "    .dataframe tbody tr th {\n",
       "        vertical-align: top;\n",
       "    }\n",
       "\n",
       "    .dataframe thead th {\n",
       "        text-align: right;\n",
       "    }\n",
       "</style>\n",
       "<table border=\"1\" class=\"dataframe\">\n",
       "  <thead>\n",
       "    <tr style=\"text-align: right;\">\n",
       "      <th></th>\n",
       "      <th>item_pred</th>\n",
       "      <th>item_true</th>\n",
       "      <th>rank</th>\n",
       "      <th>scores</th>\n",
       "      <th>user</th>\n",
       "    </tr>\n",
       "  </thead>\n",
       "  <tbody>\n",
       "    <tr>\n",
       "      <th>0</th>\n",
       "      <td>81508.0</td>\n",
       "      <td>43173.0</td>\n",
       "      <td>1</td>\n",
       "      <td>8.721670</td>\n",
       "      <td>10005.0</td>\n",
       "    </tr>\n",
       "    <tr>\n",
       "      <th>1</th>\n",
       "      <td>21923.0</td>\n",
       "      <td>43173.0</td>\n",
       "      <td>2</td>\n",
       "      <td>8.465993</td>\n",
       "      <td>10005.0</td>\n",
       "    </tr>\n",
       "    <tr>\n",
       "      <th>2</th>\n",
       "      <td>94797.0</td>\n",
       "      <td>43173.0</td>\n",
       "      <td>3</td>\n",
       "      <td>8.377849</td>\n",
       "      <td>10005.0</td>\n",
       "    </tr>\n",
       "    <tr>\n",
       "      <th>3</th>\n",
       "      <td>885.0</td>\n",
       "      <td>43173.0</td>\n",
       "      <td>4</td>\n",
       "      <td>8.302359</td>\n",
       "      <td>10005.0</td>\n",
       "    </tr>\n",
       "    <tr>\n",
       "      <th>4</th>\n",
       "      <td>87621.0</td>\n",
       "      <td>43173.0</td>\n",
       "      <td>5</td>\n",
       "      <td>8.141705</td>\n",
       "      <td>10005.0</td>\n",
       "    </tr>\n",
       "    <tr>\n",
       "      <th>5</th>\n",
       "      <td>6879.0</td>\n",
       "      <td>43173.0</td>\n",
       "      <td>6</td>\n",
       "      <td>8.133941</td>\n",
       "      <td>10005.0</td>\n",
       "    </tr>\n",
       "    <tr>\n",
       "      <th>6</th>\n",
       "      <td>97241.0</td>\n",
       "      <td>43173.0</td>\n",
       "      <td>7</td>\n",
       "      <td>8.037683</td>\n",
       "      <td>10005.0</td>\n",
       "    </tr>\n",
       "    <tr>\n",
       "      <th>7</th>\n",
       "      <td>105419.0</td>\n",
       "      <td>43173.0</td>\n",
       "      <td>8</td>\n",
       "      <td>7.942738</td>\n",
       "      <td>10005.0</td>\n",
       "    </tr>\n",
       "    <tr>\n",
       "      <th>8</th>\n",
       "      <td>78507.0</td>\n",
       "      <td>43173.0</td>\n",
       "      <td>9</td>\n",
       "      <td>7.892912</td>\n",
       "      <td>10005.0</td>\n",
       "    </tr>\n",
       "    <tr>\n",
       "      <th>9</th>\n",
       "      <td>88028.0</td>\n",
       "      <td>43173.0</td>\n",
       "      <td>10</td>\n",
       "      <td>7.889555</td>\n",
       "      <td>10005.0</td>\n",
       "    </tr>\n",
       "    <tr>\n",
       "      <th>10</th>\n",
       "      <td>89180.0</td>\n",
       "      <td>43173.0</td>\n",
       "      <td>11</td>\n",
       "      <td>7.883130</td>\n",
       "      <td>10005.0</td>\n",
       "    </tr>\n",
       "    <tr>\n",
       "      <th>11</th>\n",
       "      <td>94780.0</td>\n",
       "      <td>43173.0</td>\n",
       "      <td>12</td>\n",
       "      <td>7.777550</td>\n",
       "      <td>10005.0</td>\n",
       "    </tr>\n",
       "    <tr>\n",
       "      <th>12</th>\n",
       "      <td>68282.0</td>\n",
       "      <td>43173.0</td>\n",
       "      <td>13</td>\n",
       "      <td>7.747831</td>\n",
       "      <td>10005.0</td>\n",
       "    </tr>\n",
       "    <tr>\n",
       "      <th>13</th>\n",
       "      <td>34836.0</td>\n",
       "      <td>43173.0</td>\n",
       "      <td>14</td>\n",
       "      <td>7.679563</td>\n",
       "      <td>10005.0</td>\n",
       "    </tr>\n",
       "    <tr>\n",
       "      <th>14</th>\n",
       "      <td>6321.0</td>\n",
       "      <td>43173.0</td>\n",
       "      <td>15</td>\n",
       "      <td>7.613523</td>\n",
       "      <td>10005.0</td>\n",
       "    </tr>\n",
       "    <tr>\n",
       "      <th>15</th>\n",
       "      <td>19447.0</td>\n",
       "      <td>43173.0</td>\n",
       "      <td>16</td>\n",
       "      <td>7.533205</td>\n",
       "      <td>10005.0</td>\n",
       "    </tr>\n",
       "    <tr>\n",
       "      <th>16</th>\n",
       "      <td>98091.0</td>\n",
       "      <td>43173.0</td>\n",
       "      <td>17</td>\n",
       "      <td>7.530992</td>\n",
       "      <td>10005.0</td>\n",
       "    </tr>\n",
       "    <tr>\n",
       "      <th>17</th>\n",
       "      <td>72890.0</td>\n",
       "      <td>43173.0</td>\n",
       "      <td>18</td>\n",
       "      <td>7.491286</td>\n",
       "      <td>10005.0</td>\n",
       "    </tr>\n",
       "    <tr>\n",
       "      <th>18</th>\n",
       "      <td>53854.0</td>\n",
       "      <td>43173.0</td>\n",
       "      <td>19</td>\n",
       "      <td>7.379835</td>\n",
       "      <td>10005.0</td>\n",
       "    </tr>\n",
       "    <tr>\n",
       "      <th>19</th>\n",
       "      <td>94803.0</td>\n",
       "      <td>43173.0</td>\n",
       "      <td>20</td>\n",
       "      <td>7.365088</td>\n",
       "      <td>10005.0</td>\n",
       "    </tr>\n",
       "    <tr>\n",
       "      <th>20</th>\n",
       "      <td>41340.0</td>\n",
       "      <td>43173.0</td>\n",
       "      <td>21</td>\n",
       "      <td>7.245782</td>\n",
       "      <td>10005.0</td>\n",
       "    </tr>\n",
       "    <tr>\n",
       "      <th>21</th>\n",
       "      <td>13247.0</td>\n",
       "      <td>43173.0</td>\n",
       "      <td>22</td>\n",
       "      <td>7.138545</td>\n",
       "      <td>10005.0</td>\n",
       "    </tr>\n",
       "    <tr>\n",
       "      <th>22</th>\n",
       "      <td>63520.0</td>\n",
       "      <td>43173.0</td>\n",
       "      <td>23</td>\n",
       "      <td>7.134003</td>\n",
       "      <td>10005.0</td>\n",
       "    </tr>\n",
       "    <tr>\n",
       "      <th>23</th>\n",
       "      <td>43979.0</td>\n",
       "      <td>43173.0</td>\n",
       "      <td>24</td>\n",
       "      <td>7.133385</td>\n",
       "      <td>10005.0</td>\n",
       "    </tr>\n",
       "    <tr>\n",
       "      <th>24</th>\n",
       "      <td>14681.0</td>\n",
       "      <td>43173.0</td>\n",
       "      <td>25</td>\n",
       "      <td>7.116866</td>\n",
       "      <td>10005.0</td>\n",
       "    </tr>\n",
       "    <tr>\n",
       "      <th>25</th>\n",
       "      <td>83985.0</td>\n",
       "      <td>43173.0</td>\n",
       "      <td>26</td>\n",
       "      <td>7.113834</td>\n",
       "      <td>10005.0</td>\n",
       "    </tr>\n",
       "    <tr>\n",
       "      <th>26</th>\n",
       "      <td>4607.0</td>\n",
       "      <td>43173.0</td>\n",
       "      <td>27</td>\n",
       "      <td>7.112077</td>\n",
       "      <td>10005.0</td>\n",
       "    </tr>\n",
       "    <tr>\n",
       "      <th>27</th>\n",
       "      <td>32973.0</td>\n",
       "      <td>43173.0</td>\n",
       "      <td>28</td>\n",
       "      <td>7.040993</td>\n",
       "      <td>10005.0</td>\n",
       "    </tr>\n",
       "    <tr>\n",
       "      <th>28</th>\n",
       "      <td>7124.0</td>\n",
       "      <td>43173.0</td>\n",
       "      <td>29</td>\n",
       "      <td>7.013610</td>\n",
       "      <td>10005.0</td>\n",
       "    </tr>\n",
       "    <tr>\n",
       "      <th>29</th>\n",
       "      <td>228.0</td>\n",
       "      <td>43173.0</td>\n",
       "      <td>30</td>\n",
       "      <td>6.994743</td>\n",
       "      <td>10005.0</td>\n",
       "    </tr>\n",
       "    <tr>\n",
       "      <th>...</th>\n",
       "      <td>...</td>\n",
       "      <td>...</td>\n",
       "      <td>...</td>\n",
       "      <td>...</td>\n",
       "      <td>...</td>\n",
       "    </tr>\n",
       "    <tr>\n",
       "      <th>470</th>\n",
       "      <td>19986.0</td>\n",
       "      <td>921.0</td>\n",
       "      <td>471</td>\n",
       "      <td>0.479825</td>\n",
       "      <td>9994.0</td>\n",
       "    </tr>\n",
       "    <tr>\n",
       "      <th>471</th>\n",
       "      <td>79153.0</td>\n",
       "      <td>921.0</td>\n",
       "      <td>472</td>\n",
       "      <td>0.476699</td>\n",
       "      <td>9994.0</td>\n",
       "    </tr>\n",
       "    <tr>\n",
       "      <th>472</th>\n",
       "      <td>18335.0</td>\n",
       "      <td>921.0</td>\n",
       "      <td>473</td>\n",
       "      <td>0.473176</td>\n",
       "      <td>9994.0</td>\n",
       "    </tr>\n",
       "    <tr>\n",
       "      <th>473</th>\n",
       "      <td>106536.0</td>\n",
       "      <td>921.0</td>\n",
       "      <td>474</td>\n",
       "      <td>0.471878</td>\n",
       "      <td>9994.0</td>\n",
       "    </tr>\n",
       "    <tr>\n",
       "      <th>474</th>\n",
       "      <td>99763.0</td>\n",
       "      <td>921.0</td>\n",
       "      <td>475</td>\n",
       "      <td>0.469872</td>\n",
       "      <td>9994.0</td>\n",
       "    </tr>\n",
       "    <tr>\n",
       "      <th>475</th>\n",
       "      <td>91733.0</td>\n",
       "      <td>921.0</td>\n",
       "      <td>476</td>\n",
       "      <td>0.468940</td>\n",
       "      <td>9994.0</td>\n",
       "    </tr>\n",
       "    <tr>\n",
       "      <th>476</th>\n",
       "      <td>2186.0</td>\n",
       "      <td>921.0</td>\n",
       "      <td>477</td>\n",
       "      <td>0.467077</td>\n",
       "      <td>9994.0</td>\n",
       "    </tr>\n",
       "    <tr>\n",
       "      <th>477</th>\n",
       "      <td>48074.0</td>\n",
       "      <td>921.0</td>\n",
       "      <td>478</td>\n",
       "      <td>0.463863</td>\n",
       "      <td>9994.0</td>\n",
       "    </tr>\n",
       "    <tr>\n",
       "      <th>478</th>\n",
       "      <td>3606.0</td>\n",
       "      <td>921.0</td>\n",
       "      <td>479</td>\n",
       "      <td>0.462261</td>\n",
       "      <td>9994.0</td>\n",
       "    </tr>\n",
       "    <tr>\n",
       "      <th>479</th>\n",
       "      <td>24328.0</td>\n",
       "      <td>921.0</td>\n",
       "      <td>480</td>\n",
       "      <td>0.461847</td>\n",
       "      <td>9994.0</td>\n",
       "    </tr>\n",
       "    <tr>\n",
       "      <th>480</th>\n",
       "      <td>96709.0</td>\n",
       "      <td>921.0</td>\n",
       "      <td>481</td>\n",
       "      <td>0.459538</td>\n",
       "      <td>9994.0</td>\n",
       "    </tr>\n",
       "    <tr>\n",
       "      <th>481</th>\n",
       "      <td>1447.0</td>\n",
       "      <td>921.0</td>\n",
       "      <td>482</td>\n",
       "      <td>0.459060</td>\n",
       "      <td>9994.0</td>\n",
       "    </tr>\n",
       "    <tr>\n",
       "      <th>482</th>\n",
       "      <td>54148.0</td>\n",
       "      <td>921.0</td>\n",
       "      <td>483</td>\n",
       "      <td>0.455563</td>\n",
       "      <td>9994.0</td>\n",
       "    </tr>\n",
       "    <tr>\n",
       "      <th>483</th>\n",
       "      <td>83545.0</td>\n",
       "      <td>921.0</td>\n",
       "      <td>484</td>\n",
       "      <td>0.454133</td>\n",
       "      <td>9994.0</td>\n",
       "    </tr>\n",
       "    <tr>\n",
       "      <th>484</th>\n",
       "      <td>46036.0</td>\n",
       "      <td>921.0</td>\n",
       "      <td>485</td>\n",
       "      <td>0.451103</td>\n",
       "      <td>9994.0</td>\n",
       "    </tr>\n",
       "    <tr>\n",
       "      <th>485</th>\n",
       "      <td>34709.0</td>\n",
       "      <td>921.0</td>\n",
       "      <td>486</td>\n",
       "      <td>0.450551</td>\n",
       "      <td>9994.0</td>\n",
       "    </tr>\n",
       "    <tr>\n",
       "      <th>486</th>\n",
       "      <td>6695.0</td>\n",
       "      <td>921.0</td>\n",
       "      <td>487</td>\n",
       "      <td>0.450088</td>\n",
       "      <td>9994.0</td>\n",
       "    </tr>\n",
       "    <tr>\n",
       "      <th>487</th>\n",
       "      <td>1249.0</td>\n",
       "      <td>921.0</td>\n",
       "      <td>488</td>\n",
       "      <td>0.449754</td>\n",
       "      <td>9994.0</td>\n",
       "    </tr>\n",
       "    <tr>\n",
       "      <th>488</th>\n",
       "      <td>4601.0</td>\n",
       "      <td>921.0</td>\n",
       "      <td>489</td>\n",
       "      <td>0.449084</td>\n",
       "      <td>9994.0</td>\n",
       "    </tr>\n",
       "    <tr>\n",
       "      <th>489</th>\n",
       "      <td>109885.0</td>\n",
       "      <td>921.0</td>\n",
       "      <td>490</td>\n",
       "      <td>0.447828</td>\n",
       "      <td>9994.0</td>\n",
       "    </tr>\n",
       "    <tr>\n",
       "      <th>490</th>\n",
       "      <td>21010.0</td>\n",
       "      <td>921.0</td>\n",
       "      <td>491</td>\n",
       "      <td>0.447648</td>\n",
       "      <td>9994.0</td>\n",
       "    </tr>\n",
       "    <tr>\n",
       "      <th>491</th>\n",
       "      <td>85822.0</td>\n",
       "      <td>921.0</td>\n",
       "      <td>492</td>\n",
       "      <td>0.447118</td>\n",
       "      <td>9994.0</td>\n",
       "    </tr>\n",
       "    <tr>\n",
       "      <th>492</th>\n",
       "      <td>706.0</td>\n",
       "      <td>921.0</td>\n",
       "      <td>493</td>\n",
       "      <td>0.446685</td>\n",
       "      <td>9994.0</td>\n",
       "    </tr>\n",
       "    <tr>\n",
       "      <th>493</th>\n",
       "      <td>21978.0</td>\n",
       "      <td>921.0</td>\n",
       "      <td>494</td>\n",
       "      <td>0.444715</td>\n",
       "      <td>9994.0</td>\n",
       "    </tr>\n",
       "    <tr>\n",
       "      <th>494</th>\n",
       "      <td>46110.0</td>\n",
       "      <td>921.0</td>\n",
       "      <td>495</td>\n",
       "      <td>0.442793</td>\n",
       "      <td>9994.0</td>\n",
       "    </tr>\n",
       "    <tr>\n",
       "      <th>495</th>\n",
       "      <td>5631.0</td>\n",
       "      <td>921.0</td>\n",
       "      <td>496</td>\n",
       "      <td>0.438138</td>\n",
       "      <td>9994.0</td>\n",
       "    </tr>\n",
       "    <tr>\n",
       "      <th>496</th>\n",
       "      <td>30018.0</td>\n",
       "      <td>921.0</td>\n",
       "      <td>497</td>\n",
       "      <td>0.436086</td>\n",
       "      <td>9994.0</td>\n",
       "    </tr>\n",
       "    <tr>\n",
       "      <th>497</th>\n",
       "      <td>51391.0</td>\n",
       "      <td>921.0</td>\n",
       "      <td>498</td>\n",
       "      <td>0.435992</td>\n",
       "      <td>9994.0</td>\n",
       "    </tr>\n",
       "    <tr>\n",
       "      <th>498</th>\n",
       "      <td>52178.0</td>\n",
       "      <td>921.0</td>\n",
       "      <td>499</td>\n",
       "      <td>0.433109</td>\n",
       "      <td>9994.0</td>\n",
       "    </tr>\n",
       "    <tr>\n",
       "      <th>499</th>\n",
       "      <td>19244.0</td>\n",
       "      <td>921.0</td>\n",
       "      <td>500</td>\n",
       "      <td>0.433079</td>\n",
       "      <td>9994.0</td>\n",
       "    </tr>\n",
       "  </tbody>\n",
       "</table>\n",
       "<p>910500 rows × 5 columns</p>\n",
       "</div>"
      ],
      "text/plain": [
       "     item_pred  item_true  rank    scores     user\n",
       "0      81508.0    43173.0     1  8.721670  10005.0\n",
       "1      21923.0    43173.0     2  8.465993  10005.0\n",
       "2      94797.0    43173.0     3  8.377849  10005.0\n",
       "3        885.0    43173.0     4  8.302359  10005.0\n",
       "4      87621.0    43173.0     5  8.141705  10005.0\n",
       "5       6879.0    43173.0     6  8.133941  10005.0\n",
       "6      97241.0    43173.0     7  8.037683  10005.0\n",
       "7     105419.0    43173.0     8  7.942738  10005.0\n",
       "8      78507.0    43173.0     9  7.892912  10005.0\n",
       "9      88028.0    43173.0    10  7.889555  10005.0\n",
       "10     89180.0    43173.0    11  7.883130  10005.0\n",
       "11     94780.0    43173.0    12  7.777550  10005.0\n",
       "12     68282.0    43173.0    13  7.747831  10005.0\n",
       "13     34836.0    43173.0    14  7.679563  10005.0\n",
       "14      6321.0    43173.0    15  7.613523  10005.0\n",
       "15     19447.0    43173.0    16  7.533205  10005.0\n",
       "16     98091.0    43173.0    17  7.530992  10005.0\n",
       "17     72890.0    43173.0    18  7.491286  10005.0\n",
       "18     53854.0    43173.0    19  7.379835  10005.0\n",
       "19     94803.0    43173.0    20  7.365088  10005.0\n",
       "20     41340.0    43173.0    21  7.245782  10005.0\n",
       "21     13247.0    43173.0    22  7.138545  10005.0\n",
       "22     63520.0    43173.0    23  7.134003  10005.0\n",
       "23     43979.0    43173.0    24  7.133385  10005.0\n",
       "24     14681.0    43173.0    25  7.116866  10005.0\n",
       "25     83985.0    43173.0    26  7.113834  10005.0\n",
       "26      4607.0    43173.0    27  7.112077  10005.0\n",
       "27     32973.0    43173.0    28  7.040993  10005.0\n",
       "28      7124.0    43173.0    29  7.013610  10005.0\n",
       "29       228.0    43173.0    30  6.994743  10005.0\n",
       "..         ...        ...   ...       ...      ...\n",
       "470    19986.0      921.0   471  0.479825   9994.0\n",
       "471    79153.0      921.0   472  0.476699   9994.0\n",
       "472    18335.0      921.0   473  0.473176   9994.0\n",
       "473   106536.0      921.0   474  0.471878   9994.0\n",
       "474    99763.0      921.0   475  0.469872   9994.0\n",
       "475    91733.0      921.0   476  0.468940   9994.0\n",
       "476     2186.0      921.0   477  0.467077   9994.0\n",
       "477    48074.0      921.0   478  0.463863   9994.0\n",
       "478     3606.0      921.0   479  0.462261   9994.0\n",
       "479    24328.0      921.0   480  0.461847   9994.0\n",
       "480    96709.0      921.0   481  0.459538   9994.0\n",
       "481     1447.0      921.0   482  0.459060   9994.0\n",
       "482    54148.0      921.0   483  0.455563   9994.0\n",
       "483    83545.0      921.0   484  0.454133   9994.0\n",
       "484    46036.0      921.0   485  0.451103   9994.0\n",
       "485    34709.0      921.0   486  0.450551   9994.0\n",
       "486     6695.0      921.0   487  0.450088   9994.0\n",
       "487     1249.0      921.0   488  0.449754   9994.0\n",
       "488     4601.0      921.0   489  0.449084   9994.0\n",
       "489   109885.0      921.0   490  0.447828   9994.0\n",
       "490    21010.0      921.0   491  0.447648   9994.0\n",
       "491    85822.0      921.0   492  0.447118   9994.0\n",
       "492      706.0      921.0   493  0.446685   9994.0\n",
       "493    21978.0      921.0   494  0.444715   9994.0\n",
       "494    46110.0      921.0   495  0.442793   9994.0\n",
       "495     5631.0      921.0   496  0.438138   9994.0\n",
       "496    30018.0      921.0   497  0.436086   9994.0\n",
       "497    51391.0      921.0   498  0.435992   9994.0\n",
       "498    52178.0      921.0   499  0.433109   9994.0\n",
       "499    19244.0      921.0   500  0.433079   9994.0\n",
       "\n",
       "[910500 rows x 5 columns]"
      ]
     },
     "execution_count": 142,
     "metadata": {},
     "output_type": "execute_result"
    }
   ],
   "source": [
    "recall_frame"
   ]
  },
  {
   "cell_type": "code",
   "execution_count": 141,
   "metadata": {},
   "outputs": [
    {
     "data": {
      "text/plain": [
       "0.17792421746293247"
      ]
     },
     "execution_count": 141,
     "metadata": {},
     "output_type": "execute_result"
    }
   ],
   "source": [
    "sum(recall_frame.item_pred == recall_frame.item_true)/1821"
   ]
  },
  {
   "cell_type": "code",
   "execution_count": 144,
   "metadata": {},
   "outputs": [],
   "source": [
    "import pickle\n",
    "with open('./hybrid.pkl','wb') as f:\n",
    "    pickle.dump(model,f)"
   ]
  },
  {
   "cell_type": "code",
   "execution_count": 151,
   "metadata": {},
   "outputs": [],
   "source": [
    "recall_frame.to_csv('./fm_recall.csv')"
   ]
  },
  {
   "cell_type": "markdown",
   "metadata": {},
   "source": [
    "### only on train with simple pivot"
   ]
  },
  {
   "cell_type": "code",
   "execution_count": 9,
   "metadata": {},
   "outputs": [],
   "source": [
    "from scipy.sparse import coo_matrix\n",
    "coo=coo_matrix(user_item_matrix)\n",
    "coo.shape\n",
    "coo.shape[0] == user_features.shape[0]\n",
    "coo.shape[1] == item_features.shape[0]\n",
    "from lightfm import LightFM\n",
    "model=LightFM(learning_rate=0.05,loss='bpr')\n",
    "model.fit(coo,epochs=10,item_features=ift_csr,verbose=True,num_threads=num_threads-1)"
   ]
  },
  {
   "cell_type": "code",
   "execution_count": null,
   "metadata": {},
   "outputs": [],
   "source": []
  },
  {
   "cell_type": "code",
   "execution_count": null,
   "metadata": {},
   "outputs": [],
   "source": []
  },
  {
   "cell_type": "code",
   "execution_count": null,
   "metadata": {},
   "outputs": [],
   "source": []
  },
  {
   "cell_type": "code",
   "execution_count": null,
   "metadata": {},
   "outputs": [],
   "source": []
  },
  {
   "cell_type": "code",
   "execution_count": null,
   "metadata": {},
   "outputs": [],
   "source": []
  },
  {
   "cell_type": "code",
   "execution_count": null,
   "metadata": {},
   "outputs": [],
   "source": []
  },
  {
   "cell_type": "code",
   "execution_count": null,
   "metadata": {},
   "outputs": [],
   "source": []
  },
  {
   "cell_type": "code",
   "execution_count": null,
   "metadata": {},
   "outputs": [],
   "source": []
  },
  {
   "cell_type": "markdown",
   "metadata": {},
   "source": [
    "## plot learning schedule"
   ]
  },
  {
   "cell_type": "code",
   "execution_count": 145,
   "metadata": {
    "collapsed": true,
    "jupyter": {
     "outputs_hidden": true
    }
   },
   "outputs": [
    {
     "data": {
      "text/plain": [
       "<lightfm.lightfm.LightFM at 0x7f651d160da0>"
      ]
     },
     "execution_count": 145,
     "metadata": {},
     "output_type": "execute_result"
    },
    {
     "data": {
      "text/plain": [
       "<lightfm.lightfm.LightFM at 0x7f651d160da0>"
      ]
     },
     "execution_count": 145,
     "metadata": {},
     "output_type": "execute_result"
    },
    {
     "data": {
      "text/plain": [
       "<lightfm.lightfm.LightFM at 0x7f651d160da0>"
      ]
     },
     "execution_count": 145,
     "metadata": {},
     "output_type": "execute_result"
    },
    {
     "data": {
      "text/plain": [
       "<lightfm.lightfm.LightFM at 0x7f651d160da0>"
      ]
     },
     "execution_count": 145,
     "metadata": {},
     "output_type": "execute_result"
    },
    {
     "data": {
      "text/plain": [
       "<lightfm.lightfm.LightFM at 0x7f651d160da0>"
      ]
     },
     "execution_count": 145,
     "metadata": {},
     "output_type": "execute_result"
    },
    {
     "data": {
      "text/plain": [
       "<lightfm.lightfm.LightFM at 0x7f651d160da0>"
      ]
     },
     "execution_count": 145,
     "metadata": {},
     "output_type": "execute_result"
    },
    {
     "data": {
      "text/plain": [
       "<lightfm.lightfm.LightFM at 0x7f651d160da0>"
      ]
     },
     "execution_count": 145,
     "metadata": {},
     "output_type": "execute_result"
    },
    {
     "data": {
      "text/plain": [
       "<lightfm.lightfm.LightFM at 0x7f651d160da0>"
      ]
     },
     "execution_count": 145,
     "metadata": {},
     "output_type": "execute_result"
    },
    {
     "data": {
      "text/plain": [
       "<lightfm.lightfm.LightFM at 0x7f651d160da0>"
      ]
     },
     "execution_count": 145,
     "metadata": {},
     "output_type": "execute_result"
    },
    {
     "data": {
      "text/plain": [
       "<lightfm.lightfm.LightFM at 0x7f651d160da0>"
      ]
     },
     "execution_count": 145,
     "metadata": {},
     "output_type": "execute_result"
    },
    {
     "data": {
      "text/plain": [
       "<lightfm.lightfm.LightFM at 0x7f651d160da0>"
      ]
     },
     "execution_count": 145,
     "metadata": {},
     "output_type": "execute_result"
    },
    {
     "data": {
      "text/plain": [
       "<lightfm.lightfm.LightFM at 0x7f651d160da0>"
      ]
     },
     "execution_count": 145,
     "metadata": {},
     "output_type": "execute_result"
    },
    {
     "data": {
      "text/plain": [
       "<lightfm.lightfm.LightFM at 0x7f651d160da0>"
      ]
     },
     "execution_count": 145,
     "metadata": {},
     "output_type": "execute_result"
    },
    {
     "data": {
      "text/plain": [
       "<lightfm.lightfm.LightFM at 0x7f651d160da0>"
      ]
     },
     "execution_count": 145,
     "metadata": {},
     "output_type": "execute_result"
    },
    {
     "data": {
      "text/plain": [
       "<lightfm.lightfm.LightFM at 0x7f651d160da0>"
      ]
     },
     "execution_count": 145,
     "metadata": {},
     "output_type": "execute_result"
    },
    {
     "data": {
      "text/plain": [
       "<lightfm.lightfm.LightFM at 0x7f651d160da0>"
      ]
     },
     "execution_count": 145,
     "metadata": {},
     "output_type": "execute_result"
    },
    {
     "data": {
      "text/plain": [
       "<lightfm.lightfm.LightFM at 0x7f651d160da0>"
      ]
     },
     "execution_count": 145,
     "metadata": {},
     "output_type": "execute_result"
    },
    {
     "data": {
      "text/plain": [
       "<lightfm.lightfm.LightFM at 0x7f651d160da0>"
      ]
     },
     "execution_count": 145,
     "metadata": {},
     "output_type": "execute_result"
    },
    {
     "data": {
      "text/plain": [
       "<lightfm.lightfm.LightFM at 0x7f651d160da0>"
      ]
     },
     "execution_count": 145,
     "metadata": {},
     "output_type": "execute_result"
    },
    {
     "data": {
      "text/plain": [
       "<lightfm.lightfm.LightFM at 0x7f651d160da0>"
      ]
     },
     "execution_count": 145,
     "metadata": {},
     "output_type": "execute_result"
    },
    {
     "data": {
      "text/plain": [
       "<lightfm.lightfm.LightFM at 0x7f651d160da0>"
      ]
     },
     "execution_count": 145,
     "metadata": {},
     "output_type": "execute_result"
    },
    {
     "data": {
      "text/plain": [
       "<lightfm.lightfm.LightFM at 0x7f651d160da0>"
      ]
     },
     "execution_count": 145,
     "metadata": {},
     "output_type": "execute_result"
    },
    {
     "data": {
      "text/plain": [
       "<lightfm.lightfm.LightFM at 0x7f651d160da0>"
      ]
     },
     "execution_count": 145,
     "metadata": {},
     "output_type": "execute_result"
    },
    {
     "data": {
      "text/plain": [
       "<lightfm.lightfm.LightFM at 0x7f651d160da0>"
      ]
     },
     "execution_count": 145,
     "metadata": {},
     "output_type": "execute_result"
    },
    {
     "data": {
      "text/plain": [
       "<lightfm.lightfm.LightFM at 0x7f651d160da0>"
      ]
     },
     "execution_count": 145,
     "metadata": {},
     "output_type": "execute_result"
    },
    {
     "data": {
      "text/plain": [
       "<lightfm.lightfm.LightFM at 0x7f651d160da0>"
      ]
     },
     "execution_count": 145,
     "metadata": {},
     "output_type": "execute_result"
    },
    {
     "data": {
      "text/plain": [
       "<lightfm.lightfm.LightFM at 0x7f651d160da0>"
      ]
     },
     "execution_count": 145,
     "metadata": {},
     "output_type": "execute_result"
    },
    {
     "data": {
      "text/plain": [
       "<lightfm.lightfm.LightFM at 0x7f651d160da0>"
      ]
     },
     "execution_count": 145,
     "metadata": {},
     "output_type": "execute_result"
    },
    {
     "data": {
      "text/plain": [
       "<lightfm.lightfm.LightFM at 0x7f651d160da0>"
      ]
     },
     "execution_count": 145,
     "metadata": {},
     "output_type": "execute_result"
    },
    {
     "data": {
      "text/plain": [
       "<lightfm.lightfm.LightFM at 0x7f651d160da0>"
      ]
     },
     "execution_count": 145,
     "metadata": {},
     "output_type": "execute_result"
    },
    {
     "data": {
      "text/plain": [
       "<lightfm.lightfm.LightFM at 0x7f651d160da0>"
      ]
     },
     "execution_count": 145,
     "metadata": {},
     "output_type": "execute_result"
    },
    {
     "data": {
      "text/plain": [
       "<lightfm.lightfm.LightFM at 0x7f651d160da0>"
      ]
     },
     "execution_count": 145,
     "metadata": {},
     "output_type": "execute_result"
    },
    {
     "data": {
      "text/plain": [
       "<lightfm.lightfm.LightFM at 0x7f651d160da0>"
      ]
     },
     "execution_count": 145,
     "metadata": {},
     "output_type": "execute_result"
    },
    {
     "data": {
      "text/plain": [
       "<lightfm.lightfm.LightFM at 0x7f651d160da0>"
      ]
     },
     "execution_count": 145,
     "metadata": {},
     "output_type": "execute_result"
    },
    {
     "data": {
      "text/plain": [
       "<lightfm.lightfm.LightFM at 0x7f651d160da0>"
      ]
     },
     "execution_count": 145,
     "metadata": {},
     "output_type": "execute_result"
    },
    {
     "data": {
      "text/plain": [
       "<lightfm.lightfm.LightFM at 0x7f651d160da0>"
      ]
     },
     "execution_count": 145,
     "metadata": {},
     "output_type": "execute_result"
    },
    {
     "data": {
      "text/plain": [
       "<lightfm.lightfm.LightFM at 0x7f651d160da0>"
      ]
     },
     "execution_count": 145,
     "metadata": {},
     "output_type": "execute_result"
    },
    {
     "data": {
      "text/plain": [
       "<lightfm.lightfm.LightFM at 0x7f651d160da0>"
      ]
     },
     "execution_count": 145,
     "metadata": {},
     "output_type": "execute_result"
    },
    {
     "data": {
      "text/plain": [
       "<lightfm.lightfm.LightFM at 0x7f651d160da0>"
      ]
     },
     "execution_count": 145,
     "metadata": {},
     "output_type": "execute_result"
    },
    {
     "data": {
      "text/plain": [
       "<lightfm.lightfm.LightFM at 0x7f651d160da0>"
      ]
     },
     "execution_count": 145,
     "metadata": {},
     "output_type": "execute_result"
    },
    {
     "data": {
      "text/plain": [
       "<lightfm.lightfm.LightFM at 0x7f651d160da0>"
      ]
     },
     "execution_count": 145,
     "metadata": {},
     "output_type": "execute_result"
    },
    {
     "data": {
      "text/plain": [
       "<lightfm.lightfm.LightFM at 0x7f651d160da0>"
      ]
     },
     "execution_count": 145,
     "metadata": {},
     "output_type": "execute_result"
    },
    {
     "data": {
      "text/plain": [
       "<lightfm.lightfm.LightFM at 0x7f651d160da0>"
      ]
     },
     "execution_count": 145,
     "metadata": {},
     "output_type": "execute_result"
    },
    {
     "data": {
      "text/plain": [
       "<lightfm.lightfm.LightFM at 0x7f651d160da0>"
      ]
     },
     "execution_count": 145,
     "metadata": {},
     "output_type": "execute_result"
    },
    {
     "data": {
      "text/plain": [
       "<lightfm.lightfm.LightFM at 0x7f651d160da0>"
      ]
     },
     "execution_count": 145,
     "metadata": {},
     "output_type": "execute_result"
    },
    {
     "data": {
      "text/plain": [
       "<lightfm.lightfm.LightFM at 0x7f651d160da0>"
      ]
     },
     "execution_count": 145,
     "metadata": {},
     "output_type": "execute_result"
    },
    {
     "data": {
      "text/plain": [
       "<lightfm.lightfm.LightFM at 0x7f651d160da0>"
      ]
     },
     "execution_count": 145,
     "metadata": {},
     "output_type": "execute_result"
    },
    {
     "data": {
      "text/plain": [
       "<lightfm.lightfm.LightFM at 0x7f651d160da0>"
      ]
     },
     "execution_count": 145,
     "metadata": {},
     "output_type": "execute_result"
    },
    {
     "data": {
      "text/plain": [
       "<lightfm.lightfm.LightFM at 0x7f651d160da0>"
      ]
     },
     "execution_count": 145,
     "metadata": {},
     "output_type": "execute_result"
    },
    {
     "data": {
      "text/plain": [
       "<lightfm.lightfm.LightFM at 0x7f651d160da0>"
      ]
     },
     "execution_count": 145,
     "metadata": {},
     "output_type": "execute_result"
    },
    {
     "data": {
      "text/plain": [
       "<lightfm.lightfm.LightFM at 0x7f651d160da0>"
      ]
     },
     "execution_count": 145,
     "metadata": {},
     "output_type": "execute_result"
    },
    {
     "data": {
      "text/plain": [
       "<lightfm.lightfm.LightFM at 0x7f651d160da0>"
      ]
     },
     "execution_count": 145,
     "metadata": {},
     "output_type": "execute_result"
    },
    {
     "data": {
      "text/plain": [
       "<lightfm.lightfm.LightFM at 0x7f651d160da0>"
      ]
     },
     "execution_count": 145,
     "metadata": {},
     "output_type": "execute_result"
    },
    {
     "data": {
      "text/plain": [
       "<lightfm.lightfm.LightFM at 0x7f651d160da0>"
      ]
     },
     "execution_count": 145,
     "metadata": {},
     "output_type": "execute_result"
    },
    {
     "data": {
      "text/plain": [
       "<lightfm.lightfm.LightFM at 0x7f651d160da0>"
      ]
     },
     "execution_count": 145,
     "metadata": {},
     "output_type": "execute_result"
    },
    {
     "data": {
      "text/plain": [
       "<lightfm.lightfm.LightFM at 0x7f651d160da0>"
      ]
     },
     "execution_count": 145,
     "metadata": {},
     "output_type": "execute_result"
    },
    {
     "data": {
      "text/plain": [
       "<lightfm.lightfm.LightFM at 0x7f651d160da0>"
      ]
     },
     "execution_count": 145,
     "metadata": {},
     "output_type": "execute_result"
    },
    {
     "data": {
      "text/plain": [
       "<lightfm.lightfm.LightFM at 0x7f651d160da0>"
      ]
     },
     "execution_count": 145,
     "metadata": {},
     "output_type": "execute_result"
    },
    {
     "data": {
      "text/plain": [
       "<lightfm.lightfm.LightFM at 0x7f651d160da0>"
      ]
     },
     "execution_count": 145,
     "metadata": {},
     "output_type": "execute_result"
    },
    {
     "data": {
      "text/plain": [
       "<lightfm.lightfm.LightFM at 0x7f651d160da0>"
      ]
     },
     "execution_count": 145,
     "metadata": {},
     "output_type": "execute_result"
    },
    {
     "data": {
      "text/plain": [
       "<lightfm.lightfm.LightFM at 0x7f651d160da0>"
      ]
     },
     "execution_count": 145,
     "metadata": {},
     "output_type": "execute_result"
    },
    {
     "data": {
      "text/plain": [
       "<lightfm.lightfm.LightFM at 0x7f651d160da0>"
      ]
     },
     "execution_count": 145,
     "metadata": {},
     "output_type": "execute_result"
    },
    {
     "data": {
      "text/plain": [
       "<lightfm.lightfm.LightFM at 0x7f651d160da0>"
      ]
     },
     "execution_count": 145,
     "metadata": {},
     "output_type": "execute_result"
    },
    {
     "data": {
      "text/plain": [
       "<lightfm.lightfm.LightFM at 0x7f651d160da0>"
      ]
     },
     "execution_count": 145,
     "metadata": {},
     "output_type": "execute_result"
    },
    {
     "data": {
      "text/plain": [
       "<lightfm.lightfm.LightFM at 0x7f651d160da0>"
      ]
     },
     "execution_count": 145,
     "metadata": {},
     "output_type": "execute_result"
    },
    {
     "data": {
      "text/plain": [
       "<lightfm.lightfm.LightFM at 0x7f651d160da0>"
      ]
     },
     "execution_count": 145,
     "metadata": {},
     "output_type": "execute_result"
    },
    {
     "data": {
      "text/plain": [
       "<lightfm.lightfm.LightFM at 0x7f651d160da0>"
      ]
     },
     "execution_count": 145,
     "metadata": {},
     "output_type": "execute_result"
    },
    {
     "data": {
      "text/plain": [
       "<lightfm.lightfm.LightFM at 0x7f651d160da0>"
      ]
     },
     "execution_count": 145,
     "metadata": {},
     "output_type": "execute_result"
    },
    {
     "data": {
      "text/plain": [
       "<lightfm.lightfm.LightFM at 0x7f651d160da0>"
      ]
     },
     "execution_count": 145,
     "metadata": {},
     "output_type": "execute_result"
    },
    {
     "data": {
      "text/plain": [
       "<lightfm.lightfm.LightFM at 0x7f651d160da0>"
      ]
     },
     "execution_count": 145,
     "metadata": {},
     "output_type": "execute_result"
    },
    {
     "data": {
      "text/plain": [
       "<lightfm.lightfm.LightFM at 0x7f651d160128>"
      ]
     },
     "execution_count": 145,
     "metadata": {},
     "output_type": "execute_result"
    },
    {
     "data": {
      "text/plain": [
       "<lightfm.lightfm.LightFM at 0x7f651d160128>"
      ]
     },
     "execution_count": 145,
     "metadata": {},
     "output_type": "execute_result"
    },
    {
     "data": {
      "text/plain": [
       "<lightfm.lightfm.LightFM at 0x7f651d160128>"
      ]
     },
     "execution_count": 145,
     "metadata": {},
     "output_type": "execute_result"
    },
    {
     "data": {
      "text/plain": [
       "<lightfm.lightfm.LightFM at 0x7f651d160128>"
      ]
     },
     "execution_count": 145,
     "metadata": {},
     "output_type": "execute_result"
    },
    {
     "data": {
      "text/plain": [
       "<lightfm.lightfm.LightFM at 0x7f651d160128>"
      ]
     },
     "execution_count": 145,
     "metadata": {},
     "output_type": "execute_result"
    },
    {
     "data": {
      "text/plain": [
       "<lightfm.lightfm.LightFM at 0x7f651d160128>"
      ]
     },
     "execution_count": 145,
     "metadata": {},
     "output_type": "execute_result"
    },
    {
     "data": {
      "text/plain": [
       "<lightfm.lightfm.LightFM at 0x7f651d160128>"
      ]
     },
     "execution_count": 145,
     "metadata": {},
     "output_type": "execute_result"
    },
    {
     "data": {
      "text/plain": [
       "<lightfm.lightfm.LightFM at 0x7f651d160128>"
      ]
     },
     "execution_count": 145,
     "metadata": {},
     "output_type": "execute_result"
    },
    {
     "data": {
      "text/plain": [
       "<lightfm.lightfm.LightFM at 0x7f651d160128>"
      ]
     },
     "execution_count": 145,
     "metadata": {},
     "output_type": "execute_result"
    },
    {
     "data": {
      "text/plain": [
       "<lightfm.lightfm.LightFM at 0x7f651d160128>"
      ]
     },
     "execution_count": 145,
     "metadata": {},
     "output_type": "execute_result"
    },
    {
     "data": {
      "text/plain": [
       "<lightfm.lightfm.LightFM at 0x7f651d160128>"
      ]
     },
     "execution_count": 145,
     "metadata": {},
     "output_type": "execute_result"
    },
    {
     "data": {
      "text/plain": [
       "<lightfm.lightfm.LightFM at 0x7f651d160128>"
      ]
     },
     "execution_count": 145,
     "metadata": {},
     "output_type": "execute_result"
    },
    {
     "data": {
      "text/plain": [
       "<lightfm.lightfm.LightFM at 0x7f651d160128>"
      ]
     },
     "execution_count": 145,
     "metadata": {},
     "output_type": "execute_result"
    },
    {
     "data": {
      "text/plain": [
       "<lightfm.lightfm.LightFM at 0x7f651d160128>"
      ]
     },
     "execution_count": 145,
     "metadata": {},
     "output_type": "execute_result"
    },
    {
     "data": {
      "text/plain": [
       "<lightfm.lightfm.LightFM at 0x7f651d160128>"
      ]
     },
     "execution_count": 145,
     "metadata": {},
     "output_type": "execute_result"
    },
    {
     "data": {
      "text/plain": [
       "<lightfm.lightfm.LightFM at 0x7f651d160128>"
      ]
     },
     "execution_count": 145,
     "metadata": {},
     "output_type": "execute_result"
    },
    {
     "data": {
      "text/plain": [
       "<lightfm.lightfm.LightFM at 0x7f651d160128>"
      ]
     },
     "execution_count": 145,
     "metadata": {},
     "output_type": "execute_result"
    },
    {
     "data": {
      "text/plain": [
       "<lightfm.lightfm.LightFM at 0x7f651d160128>"
      ]
     },
     "execution_count": 145,
     "metadata": {},
     "output_type": "execute_result"
    },
    {
     "data": {
      "text/plain": [
       "<lightfm.lightfm.LightFM at 0x7f651d160128>"
      ]
     },
     "execution_count": 145,
     "metadata": {},
     "output_type": "execute_result"
    },
    {
     "data": {
      "text/plain": [
       "<lightfm.lightfm.LightFM at 0x7f651d160128>"
      ]
     },
     "execution_count": 145,
     "metadata": {},
     "output_type": "execute_result"
    },
    {
     "data": {
      "text/plain": [
       "<lightfm.lightfm.LightFM at 0x7f651d160128>"
      ]
     },
     "execution_count": 145,
     "metadata": {},
     "output_type": "execute_result"
    },
    {
     "data": {
      "text/plain": [
       "<lightfm.lightfm.LightFM at 0x7f651d160128>"
      ]
     },
     "execution_count": 145,
     "metadata": {},
     "output_type": "execute_result"
    },
    {
     "data": {
      "text/plain": [
       "<lightfm.lightfm.LightFM at 0x7f651d160128>"
      ]
     },
     "execution_count": 145,
     "metadata": {},
     "output_type": "execute_result"
    },
    {
     "data": {
      "text/plain": [
       "<lightfm.lightfm.LightFM at 0x7f651d160128>"
      ]
     },
     "execution_count": 145,
     "metadata": {},
     "output_type": "execute_result"
    },
    {
     "data": {
      "text/plain": [
       "<lightfm.lightfm.LightFM at 0x7f651d160128>"
      ]
     },
     "execution_count": 145,
     "metadata": {},
     "output_type": "execute_result"
    },
    {
     "data": {
      "text/plain": [
       "<lightfm.lightfm.LightFM at 0x7f651d160128>"
      ]
     },
     "execution_count": 145,
     "metadata": {},
     "output_type": "execute_result"
    },
    {
     "data": {
      "text/plain": [
       "<lightfm.lightfm.LightFM at 0x7f651d160128>"
      ]
     },
     "execution_count": 145,
     "metadata": {},
     "output_type": "execute_result"
    },
    {
     "data": {
      "text/plain": [
       "<lightfm.lightfm.LightFM at 0x7f651d160128>"
      ]
     },
     "execution_count": 145,
     "metadata": {},
     "output_type": "execute_result"
    },
    {
     "data": {
      "text/plain": [
       "<lightfm.lightfm.LightFM at 0x7f651d160128>"
      ]
     },
     "execution_count": 145,
     "metadata": {},
     "output_type": "execute_result"
    },
    {
     "data": {
      "text/plain": [
       "<lightfm.lightfm.LightFM at 0x7f651d160128>"
      ]
     },
     "execution_count": 145,
     "metadata": {},
     "output_type": "execute_result"
    },
    {
     "data": {
      "text/plain": [
       "<lightfm.lightfm.LightFM at 0x7f651d160128>"
      ]
     },
     "execution_count": 145,
     "metadata": {},
     "output_type": "execute_result"
    },
    {
     "data": {
      "text/plain": [
       "<lightfm.lightfm.LightFM at 0x7f651d160128>"
      ]
     },
     "execution_count": 145,
     "metadata": {},
     "output_type": "execute_result"
    },
    {
     "data": {
      "text/plain": [
       "<lightfm.lightfm.LightFM at 0x7f651d160128>"
      ]
     },
     "execution_count": 145,
     "metadata": {},
     "output_type": "execute_result"
    },
    {
     "data": {
      "text/plain": [
       "<lightfm.lightfm.LightFM at 0x7f651d160128>"
      ]
     },
     "execution_count": 145,
     "metadata": {},
     "output_type": "execute_result"
    },
    {
     "data": {
      "text/plain": [
       "<lightfm.lightfm.LightFM at 0x7f651d160128>"
      ]
     },
     "execution_count": 145,
     "metadata": {},
     "output_type": "execute_result"
    },
    {
     "data": {
      "text/plain": [
       "<lightfm.lightfm.LightFM at 0x7f651d160128>"
      ]
     },
     "execution_count": 145,
     "metadata": {},
     "output_type": "execute_result"
    },
    {
     "data": {
      "text/plain": [
       "<lightfm.lightfm.LightFM at 0x7f651d160128>"
      ]
     },
     "execution_count": 145,
     "metadata": {},
     "output_type": "execute_result"
    },
    {
     "data": {
      "text/plain": [
       "<lightfm.lightfm.LightFM at 0x7f651d160128>"
      ]
     },
     "execution_count": 145,
     "metadata": {},
     "output_type": "execute_result"
    },
    {
     "data": {
      "text/plain": [
       "<lightfm.lightfm.LightFM at 0x7f651d160128>"
      ]
     },
     "execution_count": 145,
     "metadata": {},
     "output_type": "execute_result"
    },
    {
     "data": {
      "text/plain": [
       "<lightfm.lightfm.LightFM at 0x7f651d160128>"
      ]
     },
     "execution_count": 145,
     "metadata": {},
     "output_type": "execute_result"
    },
    {
     "data": {
      "text/plain": [
       "<lightfm.lightfm.LightFM at 0x7f651d160128>"
      ]
     },
     "execution_count": 145,
     "metadata": {},
     "output_type": "execute_result"
    },
    {
     "data": {
      "text/plain": [
       "<lightfm.lightfm.LightFM at 0x7f651d160128>"
      ]
     },
     "execution_count": 145,
     "metadata": {},
     "output_type": "execute_result"
    },
    {
     "data": {
      "text/plain": [
       "<lightfm.lightfm.LightFM at 0x7f651d160128>"
      ]
     },
     "execution_count": 145,
     "metadata": {},
     "output_type": "execute_result"
    },
    {
     "data": {
      "text/plain": [
       "<lightfm.lightfm.LightFM at 0x7f651d160128>"
      ]
     },
     "execution_count": 145,
     "metadata": {},
     "output_type": "execute_result"
    },
    {
     "data": {
      "text/plain": [
       "<lightfm.lightfm.LightFM at 0x7f651d160128>"
      ]
     },
     "execution_count": 145,
     "metadata": {},
     "output_type": "execute_result"
    },
    {
     "data": {
      "text/plain": [
       "<lightfm.lightfm.LightFM at 0x7f651d160128>"
      ]
     },
     "execution_count": 145,
     "metadata": {},
     "output_type": "execute_result"
    },
    {
     "data": {
      "text/plain": [
       "<lightfm.lightfm.LightFM at 0x7f651d160128>"
      ]
     },
     "execution_count": 145,
     "metadata": {},
     "output_type": "execute_result"
    },
    {
     "data": {
      "text/plain": [
       "<lightfm.lightfm.LightFM at 0x7f651d160128>"
      ]
     },
     "execution_count": 145,
     "metadata": {},
     "output_type": "execute_result"
    },
    {
     "data": {
      "text/plain": [
       "<lightfm.lightfm.LightFM at 0x7f651d160128>"
      ]
     },
     "execution_count": 145,
     "metadata": {},
     "output_type": "execute_result"
    },
    {
     "data": {
      "text/plain": [
       "<lightfm.lightfm.LightFM at 0x7f651d160128>"
      ]
     },
     "execution_count": 145,
     "metadata": {},
     "output_type": "execute_result"
    },
    {
     "data": {
      "text/plain": [
       "<lightfm.lightfm.LightFM at 0x7f651d160128>"
      ]
     },
     "execution_count": 145,
     "metadata": {},
     "output_type": "execute_result"
    },
    {
     "data": {
      "text/plain": [
       "<lightfm.lightfm.LightFM at 0x7f651d160128>"
      ]
     },
     "execution_count": 145,
     "metadata": {},
     "output_type": "execute_result"
    },
    {
     "data": {
      "text/plain": [
       "<lightfm.lightfm.LightFM at 0x7f651d160128>"
      ]
     },
     "execution_count": 145,
     "metadata": {},
     "output_type": "execute_result"
    },
    {
     "data": {
      "text/plain": [
       "<lightfm.lightfm.LightFM at 0x7f651d160128>"
      ]
     },
     "execution_count": 145,
     "metadata": {},
     "output_type": "execute_result"
    },
    {
     "data": {
      "text/plain": [
       "<lightfm.lightfm.LightFM at 0x7f651d160128>"
      ]
     },
     "execution_count": 145,
     "metadata": {},
     "output_type": "execute_result"
    },
    {
     "data": {
      "text/plain": [
       "<lightfm.lightfm.LightFM at 0x7f651d160128>"
      ]
     },
     "execution_count": 145,
     "metadata": {},
     "output_type": "execute_result"
    },
    {
     "data": {
      "text/plain": [
       "<lightfm.lightfm.LightFM at 0x7f651d160128>"
      ]
     },
     "execution_count": 145,
     "metadata": {},
     "output_type": "execute_result"
    },
    {
     "data": {
      "text/plain": [
       "<lightfm.lightfm.LightFM at 0x7f651d160128>"
      ]
     },
     "execution_count": 145,
     "metadata": {},
     "output_type": "execute_result"
    },
    {
     "data": {
      "text/plain": [
       "<lightfm.lightfm.LightFM at 0x7f651d160128>"
      ]
     },
     "execution_count": 145,
     "metadata": {},
     "output_type": "execute_result"
    },
    {
     "data": {
      "text/plain": [
       "<lightfm.lightfm.LightFM at 0x7f651d160128>"
      ]
     },
     "execution_count": 145,
     "metadata": {},
     "output_type": "execute_result"
    },
    {
     "data": {
      "text/plain": [
       "<lightfm.lightfm.LightFM at 0x7f651d160128>"
      ]
     },
     "execution_count": 145,
     "metadata": {},
     "output_type": "execute_result"
    },
    {
     "data": {
      "text/plain": [
       "<lightfm.lightfm.LightFM at 0x7f651d160128>"
      ]
     },
     "execution_count": 145,
     "metadata": {},
     "output_type": "execute_result"
    },
    {
     "data": {
      "text/plain": [
       "<lightfm.lightfm.LightFM at 0x7f651d160128>"
      ]
     },
     "execution_count": 145,
     "metadata": {},
     "output_type": "execute_result"
    },
    {
     "data": {
      "text/plain": [
       "<lightfm.lightfm.LightFM at 0x7f651d160128>"
      ]
     },
     "execution_count": 145,
     "metadata": {},
     "output_type": "execute_result"
    },
    {
     "data": {
      "text/plain": [
       "<lightfm.lightfm.LightFM at 0x7f651d160128>"
      ]
     },
     "execution_count": 145,
     "metadata": {},
     "output_type": "execute_result"
    },
    {
     "data": {
      "text/plain": [
       "<lightfm.lightfm.LightFM at 0x7f651d160128>"
      ]
     },
     "execution_count": 145,
     "metadata": {},
     "output_type": "execute_result"
    },
    {
     "data": {
      "text/plain": [
       "<lightfm.lightfm.LightFM at 0x7f651d160128>"
      ]
     },
     "execution_count": 145,
     "metadata": {},
     "output_type": "execute_result"
    },
    {
     "data": {
      "text/plain": [
       "<lightfm.lightfm.LightFM at 0x7f651d160128>"
      ]
     },
     "execution_count": 145,
     "metadata": {},
     "output_type": "execute_result"
    },
    {
     "data": {
      "text/plain": [
       "<lightfm.lightfm.LightFM at 0x7f651d160128>"
      ]
     },
     "execution_count": 145,
     "metadata": {},
     "output_type": "execute_result"
    },
    {
     "data": {
      "text/plain": [
       "<lightfm.lightfm.LightFM at 0x7f651d160128>"
      ]
     },
     "execution_count": 145,
     "metadata": {},
     "output_type": "execute_result"
    },
    {
     "ename": "NameError",
     "evalue": "name 'plt' is not defined",
     "output_type": "error",
     "traceback": [
      "\u001b[0;31m---------------------------------------------------------------------------\u001b[0m",
      "\u001b[0;31mNameError\u001b[0m                                 Traceback (most recent call last)",
      "\u001b[0;32m<ipython-input-145-92c05ea972d5>\u001b[0m in \u001b[0;36m<module>\u001b[0;34m\u001b[0m\n\u001b[1;32m     27\u001b[0m \u001b[0;34m\u001b[0m\u001b[0m\n\u001b[1;32m     28\u001b[0m \u001b[0mx\u001b[0m \u001b[0;34m=\u001b[0m \u001b[0mnp\u001b[0m\u001b[0;34m.\u001b[0m\u001b[0marange\u001b[0m\u001b[0;34m(\u001b[0m\u001b[0mlen\u001b[0m\u001b[0;34m(\u001b[0m\u001b[0madagrad_auc\u001b[0m\u001b[0;34m)\u001b[0m\u001b[0;34m)\u001b[0m\u001b[0;34m\u001b[0m\u001b[0;34m\u001b[0m\u001b[0m\n\u001b[0;32m---> 29\u001b[0;31m \u001b[0mplt\u001b[0m\u001b[0;34m.\u001b[0m\u001b[0mplot\u001b[0m\u001b[0;34m(\u001b[0m\u001b[0mx\u001b[0m\u001b[0;34m,\u001b[0m \u001b[0mnp\u001b[0m\u001b[0;34m.\u001b[0m\u001b[0marray\u001b[0m\u001b[0;34m(\u001b[0m\u001b[0madagrad_auc\u001b[0m\u001b[0;34m)\u001b[0m\u001b[0;34m)\u001b[0m\u001b[0;34m\u001b[0m\u001b[0;34m\u001b[0m\u001b[0m\n\u001b[0m\u001b[1;32m     30\u001b[0m \u001b[0mplt\u001b[0m\u001b[0;34m.\u001b[0m\u001b[0mplot\u001b[0m\u001b[0;34m(\u001b[0m\u001b[0mx\u001b[0m\u001b[0;34m,\u001b[0m \u001b[0mnp\u001b[0m\u001b[0;34m.\u001b[0m\u001b[0marray\u001b[0m\u001b[0;34m(\u001b[0m\u001b[0madadelta_auc\u001b[0m\u001b[0;34m)\u001b[0m\u001b[0;34m)\u001b[0m\u001b[0;34m\u001b[0m\u001b[0;34m\u001b[0m\u001b[0m\n\u001b[1;32m     31\u001b[0m \u001b[0mplt\u001b[0m\u001b[0;34m.\u001b[0m\u001b[0mlegend\u001b[0m\u001b[0;34m(\u001b[0m\u001b[0;34m[\u001b[0m\u001b[0;34m'adagrad'\u001b[0m\u001b[0;34m,\u001b[0m \u001b[0;34m'adadelta'\u001b[0m\u001b[0;34m]\u001b[0m\u001b[0;34m,\u001b[0m \u001b[0mloc\u001b[0m\u001b[0;34m=\u001b[0m\u001b[0;34m'lower right'\u001b[0m\u001b[0;34m)\u001b[0m\u001b[0;34m\u001b[0m\u001b[0;34m\u001b[0m\u001b[0m\n",
      "\u001b[0;31mNameError\u001b[0m: name 'plt' is not defined"
     ]
    }
   ],
   "source": [
    "alpha = 1e-3\n",
    "epochs = 70\n",
    "\n",
    "adagrad_model = LightFM(no_components=30,\n",
    "                        loss='warp',\n",
    "                        learning_schedule='adagrad',\n",
    "                        user_alpha=alpha,\n",
    "                        item_alpha=alpha)\n",
    "adadelta_model = LightFM(no_components=30,\n",
    "                        loss='warp',\n",
    "                        learning_schedule='adadelta',\n",
    "                        user_alpha=alpha,\n",
    "                        item_alpha=alpha)\n",
    "\n",
    "adagrad_auc = []\n",
    "\n",
    "for epoch in range(epochs):\n",
    "    adagrad_model.fit_partial(train, epochs=1)\n",
    "    adagrad_auc.append(auc_score(adagrad_model, test).mean())\n",
    "\n",
    "\n",
    "adadelta_auc = []\n",
    "\n",
    "for epoch in range(epochs):\n",
    "    adadelta_model.fit_partial(train, epochs=1)\n",
    "    adadelta_auc.append(auc_score(adadelta_model, test).mean())\n",
    "\n"
   ]
  },
  {
   "cell_type": "code",
   "execution_count": 150,
   "metadata": {},
   "outputs": [
    {
     "data": {
      "text/plain": [
       "[<matplotlib.lines.Line2D at 0x7f651dc16b70>]"
      ]
     },
     "execution_count": 150,
     "metadata": {},
     "output_type": "execute_result"
    },
    {
     "data": {
      "text/plain": [
       "[<matplotlib.lines.Line2D at 0x7f65c91c3e80>]"
      ]
     },
     "execution_count": 150,
     "metadata": {},
     "output_type": "execute_result"
    },
    {
     "data": {
      "text/plain": [
       "<matplotlib.legend.Legend at 0x7f65c8dcf6d8>"
      ]
     },
     "execution_count": 150,
     "metadata": {},
     "output_type": "execute_result"
    },
    {
     "data": {
      "image/png": "[encoded data removed]",
      "text/plain": [
       "<Figure size 432x288 with 1 Axes>"
      ]
     },
     "metadata": {
      "needs_background": "light"
     },
     "output_type": "display_data"
    }
   ],
   "source": [
    "import matplotlib.pyplot as plt\n",
    "x = np.arange(len(adagrad_auc))\n",
    "plt.plot(x, np.array(adagrad_auc))\n",
    "plt.plot(x, np.array(adadelta_auc))\n",
    "plt.legend(['adagrad', 'adadelta'], loc='lower right')\n",
    "plt.show()"
   ]
  },
  {
   "cell_type": "code",
   "execution_count": 155,
   "metadata": {},
   "outputs": [],
   "source": [
    "import pickle\n",
    "with open('./user_item_matrix.pkl','wb') as f:\n",
    "    pickle.dump(user_item_matrix,f,protocol=4)"
   ]
  },
  {
   "cell_type": "code",
   "execution_count": 7,
   "metadata": {},
   "outputs": [],
   "source": [
    "recall_frame=pd.read_csv('./fm_recall.csv').iloc[:,1:]"
   ]
  },
  {
   "cell_type": "code",
   "execution_count": 15,
   "metadata": {},
   "outputs": [
    {
     "data": {
      "text/plain": [
       "0.04612850082372323"
      ]
     },
     "execution_count": 15,
     "metadata": {},
     "output_type": "execute_result"
    },
    {
     "data": {
      "text/plain": [
       "0.07303679297089512"
      ]
     },
     "execution_count": 15,
     "metadata": {},
     "output_type": "execute_result"
    },
    {
     "data": {
      "text/plain": [
       "0.17792421746293247"
      ]
     },
     "execution_count": 15,
     "metadata": {},
     "output_type": "execute_result"
    }
   ],
   "source": [
    "recall_50=recall_frame.loc[recall_frame['rank'] <=50]\n",
    "recall_100=recall_frame.loc[recall_frame['rank']<=100]\n",
    "recall_500=recall_frame.loc[recall_frame['rank']<=500]\n",
    "\n",
    "\n",
    "sum(recall_50.item_pred == recall_50.item_true)/1821\n",
    "sum(recall_100.item_pred == recall_100.item_true )/1821\n",
    "sum(recall_500.item_pred == recall_500.item_true )/1821\n",
    "\n"
   ]
  },
  {
   "cell_type": "code",
   "execution_count": null,
   "metadata": {},
   "outputs": [],
   "source": []
  }
 ],
 "metadata": {
  "kernelspec": {
   "display_name": "Python 3",
   "language": "python",
   "name": "python3"
  },
  "language_info": {
   "codemirror_mode": {
    "name": "ipython",
    "version": 3
   },
   "file_extension": ".py",
   "mimetype": "text/x-python",
   "name": "python",
   "nbconvert_exporter": "python",
   "pygments_lexer": "ipython3",
   "version": "3.7.3"
  }
 },
 "nbformat": 4,
 "nbformat_minor": 4
}
