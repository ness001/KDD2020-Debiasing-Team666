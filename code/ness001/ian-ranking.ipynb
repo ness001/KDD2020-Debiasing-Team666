{
 "cells": [
  {
   "cell_type": "code",
   "execution_count": null,
   "metadata": {},
   "outputs": [
    {
     "data": {
      "text/plain": [
       "_StoreAction(option_strings=['--now_phase'], dest='now_phase', nargs=None, const=None, default=6, type=<class 'int'>, choices=None, help='', metavar=None)"
      ]
     },
     "execution_count": 2,
     "metadata": {},
     "output_type": "execute_result"
    },
    {
     "data": {
      "text/plain": [
       "_StoreAction(option_strings=['--window'], dest='window', nargs=None, const=None, default=10, type=<class 'int'>, choices=None, help='cocur_matr的时间窗', metavar=None)"
      ]
     },
     "execution_count": 2,
     "metadata": {},
     "output_type": "execute_result"
    },
    {
     "data": {
      "text/plain": [
       "_StoreAction(option_strings=['--time_decay'], dest='time_decay', nargs=None, const=None, default=0.875, type=<class 'float'>, choices=None, help='时间衰减', metavar=None)"
      ]
     },
     "execution_count": 2,
     "metadata": {},
     "output_type": "execute_result"
    },
    {
     "data": {
      "text/plain": [
       "_StoreAction(option_strings=['--mode'], dest='mode', nargs=None, const=None, default='train', type=<class 'str'>, choices=None, help='train test', metavar=None)"
      ]
     },
     "execution_count": 2,
     "metadata": {},
     "output_type": "execute_result"
    },
    {
     "data": {
      "text/plain": [
       "_StoreAction(option_strings=['--topk'], dest='topk', nargs=None, const=None, default=500, type=<class 'int'>, choices=None, help='每种召回策略召回的样本数', metavar=None)"
      ]
     },
     "execution_count": 2,
     "metadata": {},
     "output_type": "execute_result"
    },
    {
     "data": {
      "text/plain": [
       "_StoreAction(option_strings=['--DATA_DIR'], dest='DATA_DIR', nargs=None, const=None, default='./', type=<class 'str'>, choices=None, help='data dir', metavar=None)"
      ]
     },
     "execution_count": 2,
     "metadata": {},
     "output_type": "execute_result"
    },
    {
     "name": "stderr",
     "output_type": "stream",
     "text": [
      "2020-06-04 14:30:38.898 | INFO     | __main__:load_click_data_per_phase:52 - phase: 0\n",
      "2020-06-04 14:30:39.839 | INFO     | __main__:load_click_data_per_phase:63 - all_click: (261337, 3), click_test1_val: (1663, 3), test_qtime1: (1663, 2)\n",
      "2020-06-04 14:30:39.841 | INFO     | __main__:load_click_data_per_phase:52 - phase: 1\n",
      "2020-06-04 14:30:40.548 | INFO     | __main__:load_click_data_per_phase:63 - all_click: (264871, 3), click_test1_val: (1726, 3), test_qtime1: (1726, 2)\n",
      "2020-06-04 14:30:40.549 | INFO     | __main__:load_click_data_per_phase:52 - phase: 2\n",
      "2020-06-04 14:30:41.450 | INFO     | __main__:load_click_data_per_phase:63 - all_click: (264624, 3), click_test1_val: (1690, 3), test_qtime1: (1690, 2)\n",
      "2020-06-04 14:30:41.451 | INFO     | __main__:load_click_data_per_phase:52 - phase: 3\n",
      "2020-06-04 14:30:42.241 | INFO     | __main__:load_click_data_per_phase:63 - all_click: (286609, 3), click_test1_val: (1675, 3), test_qtime1: (1675, 2)\n",
      "2020-06-04 14:30:42.244 | INFO     | __main__:load_click_data_per_phase:52 - phase: 4\n",
      "2020-06-04 14:30:43.050 | INFO     | __main__:load_click_data_per_phase:63 - all_click: (291672, 3), click_test1_val: (1708, 3), test_qtime1: (1708, 2)\n",
      "2020-06-04 14:30:43.051 | INFO     | __main__:load_click_data_per_phase:52 - phase: 5\n",
      "2020-06-04 14:30:44.059 | INFO     | __main__:load_click_data_per_phase:63 - all_click: (313378, 3), click_test1_val: (1798, 3), test_qtime1: (1798, 2)\n",
      "2020-06-04 14:30:44.060 | INFO     | __main__:load_click_data_per_phase:52 - phase: 6\n",
      "2020-06-04 14:30:44.979 | INFO     | __main__:load_click_data_per_phase:63 - all_click: (337339, 3), click_test1_val: (1821, 3), test_qtime1: (1821, 2)\n"
     ]
    },
    {
     "data": {
      "text/plain": [
       "user_id\n",
       "1        [78142, 26646, 89568, 76240, 87533, 78380, 637...\n",
       "10       [74658, 114577, 9946, 69421, 30076, 51956, 594...\n",
       "100      [62106, 550, 51671, 79574, 49546, 74156, 11213...\n",
       "10000        [6320, 62273, 19339, 2301, 1011, 6229, 11023]\n",
       "10001    [58374, 15105, 9978, 25595, 66100, 82523, 7536...\n",
       "                               ...                        \n",
       "9995                                   [55296, 7532, 4255]\n",
       "9996     [113569, 93772, 53718, 116437, 87107, 45431, 1...\n",
       "9997     [29627, 69383, 106676, 29627, 74551, 16623, 39...\n",
       "9998     [111982, 113442, 27961, 27715, 116073, 49854, ...\n",
       "9999     [112819, 99692, 14560, 88062, 83170, 50485, 95...\n",
       "Name: item_id, Length: 31525, dtype: object"
      ]
     },
     "execution_count": 2,
     "metadata": {},
     "output_type": "execute_result"
    },
    {
     "data": {
      "text/plain": [
       "(98769, 129)"
      ]
     },
     "execution_count": 2,
     "metadata": {},
     "output_type": "execute_result"
    },
    {
     "name": "stdout",
     "output_type": "stream",
     "text": [
      "3.6.10 (default, Dec 19 2019, 23:04:32) \n",
      "[GCC 5.4.0 20160609] linux /usr/bin/python3\n"
     ]
    },
    {
     "data": {
      "text/plain": [
       "(108916, 257)"
      ]
     },
     "execution_count": 2,
     "metadata": {},
     "output_type": "execute_result"
    },
    {
     "data": {
      "text/plain": [
       "(98769, 129)"
      ]
     },
     "execution_count": 2,
     "metadata": {},
     "output_type": "execute_result"
    },
    {
     "data": {
      "text/plain": [
       "(108916, 386)"
      ]
     },
     "execution_count": 2,
     "metadata": {},
     "output_type": "execute_result"
    },
    {
     "data": {
      "text/plain": [
       "(108916, 385)"
      ]
     },
     "execution_count": 2,
     "metadata": {},
     "output_type": "execute_result"
    },
    {
     "data": {
      "text/plain": [
       "(108916, 384)"
      ]
     },
     "execution_count": 2,
     "metadata": {},
     "output_type": "execute_result"
    },
    {
     "name": "stderr",
     "output_type": "stream",
     "text": [
      "100%|██████████| 218/218 [06:24<00:00,  1.77s/it]\n",
      " 10%|▉         | 10778/108916 [03:37<29:09, 56.08it/s]  "
     ]
    }
   ],
   "source": [
    "from IPython.core.interactiveshell import InteractiveShell\n",
    "InteractiveShell.ast_node_interactivity = 'all'\n",
    "import os\n",
    "import pandas as pd\n",
    "import numpy as np\n",
    "from tqdm import tqdm\n",
    "import pickle\n",
    "from loguru import logger\n",
    "import argparse\n",
    "\n",
    "\n",
    "class PickleWrapper(object):\n",
    "\n",
    "    @classmethod\n",
    "    def loadFromFile(cls, file, mode='rb'):\n",
    "        with open(file, mode) as f:\n",
    "            return pickle.load(f)\n",
    "\n",
    "    @classmethod\n",
    "    def dump2File(cls, o, file, mode='wb'):\n",
    "        '''\n",
    "        把目标对象序列化到文件\n",
    "        :param o: 目标对象\n",
    "        :param file: 文件\n",
    "        :param mode:\n",
    "        :return:\n",
    "        '''\n",
    "        with open(file, mode) as f:\n",
    "            pickle.dump(o, f)\n",
    "\n",
    "\n",
    "\n",
    "parser = argparse.ArgumentParser(description='t')\n",
    "parser.add_argument('--now_phase', type=int, default=6, help='')\n",
    "parser.add_argument('--window', type=int, default=10, help='cocur_matr的时间窗')\n",
    "parser.add_argument('--time_decay', type=float, default=7/8, help='时间衰减')\n",
    "parser.add_argument('--mode', type=str, default='train', help='train test')\n",
    "parser.add_argument('--topk', type=int, default=500, help='每种召回策略召回的样本数')\n",
    "parser.add_argument('--DATA_DIR', type=str, default='./', help='data dir')\n",
    "\n",
    "args = parser.parse_args(args=[])\n",
    "trace = logger.add(os.path.join(args.DATA_DIR, 'data_gen/runtime.log'))\n",
    "\n",
    "# Cell\n",
    "def load_click_data_per_phase(now_phase, base_dir):\n",
    "    \"\"\"\n",
    "    \"\"\"\n",
    "\n",
    "\n",
    "    all_click_df = []\n",
    "    for c in range(now_phase + 1):\n",
    "        logger.info(f'phase: {c}')\n",
    "        cols_str = 'user_id item_id time'.split()\n",
    "        click_train1 = pd.read_csv( './underexpose_train_click-{}.csv'.format(c), header=None,  names=['user_id', 'item_id', 'time'], converters={c: str for c in cols_str})\n",
    "        click_test1 = pd.read_csv( './underexpose_test_click-{}.csv'.format(c, c), header=None,  names=['user_id', 'item_id', 'time'], converters={c: str for c in cols_str})\n",
    "        test_qtime1 = pd.read_csv( './underexpose_test_qtime-{}.csv'.format(c, c), header=None,  names=['user_id','time'], converters={c: str for c in cols_str})\n",
    "        click_test1_val = click_test1.sort_values(['user_id', 'time']).drop_duplicates(subset=['user_id'],keep='last')\n",
    "\n",
    "        click_test1 = click_test1[~click_test1.index.isin(click_test1_val.index)]\n",
    "        all_click = click_train1.append(click_test1).drop_duplicates().sort_values('time')\n",
    "\n",
    "        all_click_df.append((all_click, click_test1_val, test_qtime1))\n",
    "        logger.info(f'all_click: {all_click.shape}, click_test1_val: {click_test1_val.shape}, test_qtime1: {test_qtime1.shape}')\n",
    "    return all_click_df\n",
    "all_click_df = load_click_data_per_phase(args.now_phase, args.DATA_DIR)\n",
    "all_train=pd.concat([all_click_df[i][0] for i in range(0,7)]).drop_duplicates().reset_index(drop=True)\n",
    "all_train=all_train.sort_values(by=['user_id','time'],ascending=['True','False'])\n",
    "\n",
    "import multiprocessing\n",
    "\n",
    "item2vec=all_train.groupby('user_id')['item_id'].agg(list)\n",
    "item2vec\n",
    "# user2vec=all_train.groupby('item_id')['user_id'].agg(list)\n",
    "# user2vec\n",
    "\n",
    "# sentences=list(user2vec.values)\n",
    "sentences=list(item2vec.values)\n",
    "\n",
    "\n",
    "\n",
    "import gensim\n",
    "from gensim.models.callbacks import CallbackAny2Vec\n",
    "\n",
    "class callback(CallbackAny2Vec):\n",
    "    '''callback to print loss after each epoch'''\n",
    "    def __init__(self):\n",
    "        self.epoch=0\n",
    "        self.last_loss=0\n",
    "    def on_epoch_end(self,model):\n",
    "        loss=model.get_latest_training_loss()\n",
    "        now_loss=loss-self.last_loss\n",
    "        self.last_loss=loss\n",
    "        test_word=list(model.wv.vocab.keys())[0]\n",
    "        print('Loss after epoch {}: {}'.format(self.epoch,now_loss))\n",
    "        print('for word {}: the array now is: {}'.format(test_word, model.wv.vectors[0][:10]))              \n",
    "        print('for word {}: the top 3 sim user is {}'.format(test_word,model.wv.most_similar(test_word,topn=3)))                                                \n",
    "        self.epoch+=1\n",
    "\n",
    "# model = gensim.models.Word2Vec(sentences,\n",
    "#                     size=256,\n",
    "#                     alpha=0.02,\n",
    "#                     window=999999,\n",
    "#                     min_count=1,\n",
    "#                     workers=multiprocessing.cpu_count(),\n",
    "#                     compute_loss=True,\n",
    "#                     iter=35,\n",
    "#                     hs=0,\n",
    "#                     sg=1,\n",
    "#                     seed=42,callbacks=[callback()])\n",
    "# # model.save('../../user_data/user2vec-0.4')\n",
    "\n",
    "model=gensim.models.Word2Vec.load('./item2vec-0.4a')\n",
    "\n",
    "iv_df=pd.DataFrame(model.wv.vectors,index=model.wv.vocab.keys(),columns=['iv'+str(i) for i in range(0,128)]).reset_index()\n",
    "\n",
    "iv_df.shape\n",
    "\n",
    "import sys\n",
    "\n",
    "print(sys.version, sys.platform, sys.executable)\n",
    "from tqdm import tqdm\n",
    "\n",
    "import pandas as pd\n",
    "from sklearn.metrics.pairwise import cosine_similarity\n",
    "pd.set_option('display.precision',16)\n",
    "\n",
    "train_path = './'\n",
    "test_path = './'\n",
    "\n",
    "\n",
    "col_name = ['item_id']\n",
    "for i in range(0, 128):\n",
    "    col_name.append('tv' + str(i))\n",
    "for i in range(0, 128):\n",
    "    col_name.append('iv' + str(i))\n",
    "\n",
    "itemft = pd.read_csv(train_path + 'underexpose_item_feat.csv', low_memory=False, names=col_name)\n",
    "itemft = itemft.replace('[\\[\\]]', '', regex=True)  # regex=True is the key\n",
    "\n",
    "\n",
    "itemft.shape\n",
    "iv_df.shape\n",
    "\n",
    "\n",
    "iv_df['index']=iv_df['index'].astype(int)\n",
    "\n",
    "itemft=itemft.merge(iv_df,left_on='item_id',right_on='index',how='left')\n",
    "itemft.shape\n",
    "\n",
    "\n",
    "\n",
    "itemft.drop(['index'],axis=1,inplace=True)\n",
    "\n",
    "itemft.fillna(0,inplace=True)\n",
    "\n",
    "itemft.dropna().shape\n",
    "\n",
    "vec = itemft.iloc[:, 1:].to_numpy()\n",
    "vec.shape\n",
    "\n",
    "\n",
    "\n",
    "\n",
    "chunk_size = 500\n",
    "matrix_len = vec.shape[0]\n",
    "\n",
    "\n",
    "def sim_chunk(start, end):\n",
    "    if end > matrix_len:\n",
    "        end = matrix_len\n",
    "    return cosine_similarity(vec[start:end], vec)\n",
    "\n",
    "\n",
    "import numpy as np\n",
    "\n",
    "sim_matrix = np.ndarray(shape=(matrix_len, matrix_len))\n",
    "\n",
    "# ---------------------------------------------------------------------\n",
    "\n",
    "for start in tqdm(range(0, matrix_len, chunk_size)):\n",
    "    cos_sim_chunk = sim_chunk(start, start + chunk_size)\n",
    "    if (start + chunk_size) <= matrix_len:\n",
    "        sim_matrix[start:start + chunk_size] = cos_sim_chunk\n",
    "    else:\n",
    "        sim_matrix[start:matrix_len] = cos_sim_chunk\n",
    "\n",
    "\n",
    "results = {}\n",
    "\n",
    "recall_num=501\n",
    "for idx, row in tqdm(itemft[['item_id']].iterrows(),total=sim_matrix.shape[0]):\n",
    "    similar_indices = sim_matrix[idx].argsort()[\n",
    "                      :-recall_num:-1]  # ascending return index, : means reverse order, -100:-1 means last 100-1 to last 1-1 position\n",
    "    similar_items = [(sim_matrix[idx][i], itemft['item_id'][i]) for i in similar_indices]\n",
    "\n",
    "    results[row['item_id']] = similar_items[1:]\n",
    "    \n",
    "\n",
    "\n",
    "\n",
    "for p in tqdm(range(0,6+1)):\n",
    "    user_train=all_click_df[p][0].sort_values(by=['user_id','time'],ascending=[True,False])\n",
    "    user_true=all_click_df[p][1] \n",
    "    recall_num=500\n",
    "    itemlist=list(itemft.item_id.unique())\n",
    "    recall_frame = pd.DataFrame(columns=['user_id', 'item_id_pred', 'score', 'rank', 'item_id_true'],index=range(0,recall_num*len(user_train.user_id.unique())))\n",
    "    row_num=0\n",
    "    for user in tqdm(user_true.user_id.unique()):\n",
    "        latest_item = user_train.loc[user_train.user_id == user, 'item_id'].values[0]\n",
    "        true_item = user_true.loc[user_true.user_id == user, 'item_id'].values[0]\n",
    "    #     history_item=user_train.groupby(['user_id'])['item_id'].agg(list)[user]\n",
    "        if int(latest_item) in itemlist: \n",
    "            recs = results[int(latest_item)][:recall_num]\n",
    "            rank=1\n",
    "            for i in range(0, recall_num-1):\n",
    "    #             if str(recs[i][1]) not in history_item:\n",
    "    #                 recall_frame.iloc[row_num]['user_id'] = user\n",
    "    #                 recall_frame.iloc[row_num]['item_id_pred'] = recs[i][1]\n",
    "    #                 recall_frame.iloc[row_num]['score'] = recs[i][0]\n",
    "    #                 recall_frame.iloc[row_num]['rank'] = rank\n",
    "    #                 rank=rank+1\n",
    "    #                 recall_frame.iloc[row_num]['item_id_true'] = true_item\n",
    "    #                 row_num+=1\n",
    "                recall_frame.iloc[row_num]['user_id'] = user\n",
    "                recall_frame.iloc[row_num]['item_id_pred'] = recs[i][1]\n",
    "                recall_frame.iloc[row_num]['score'] = recs[i][0]\n",
    "                recall_frame.iloc[row_num]['rank'] = rank\n",
    "                rank=rank+1\n",
    "                recall_frame.iloc[row_num]['item_id_true'] = true_item\n",
    "                row_num+=1\n",
    "        else:\n",
    "    #         print(user,latest_item,latest_item in itemlist)\n",
    "            recall_frame.iloc[row_num]['user_id'] = user\n",
    "            recall_frame.iloc[row_num]['item_id_pred'] = np.nan\n",
    "            recall_frame.iloc[row_num]['score'] = np.nan\n",
    "            recall_frame.iloc[row_num]['rank'] = np.nan\n",
    "            recall_frame.iloc[row_num]['item_id_true'] = true_item\n",
    "            row_num+=1\n",
    "    recall_frame=recall_frame.dropna(how='all').astype('float32')\n",
    "    print(sum(recall_frame.item_id_pred == recall_frame.item_id_true)/1821)\n",
    "    recall_frame.dropna().to_csv('128vec-add-i2i.csv')"
   ]
  },
  {
   "cell_type": "code",
   "execution_count": null,
   "metadata": {},
   "outputs": [],
   "source": []
  }
 ],
 "metadata": {
  "kernelspec": {
   "display_name": "Python 3",
   "language": "python",
   "name": "python3"
  },
  "language_info": {
   "codemirror_mode": {
    "name": "ipython",
    "version": 3
   },
   "file_extension": ".py",
   "mimetype": "text/x-python",
   "name": "python",
   "nbconvert_exporter": "python",
   "pygments_lexer": "ipython3",
   "version": "3.7.3"
  }
 },
 "nbformat": 4,
 "nbformat_minor": 4
}
