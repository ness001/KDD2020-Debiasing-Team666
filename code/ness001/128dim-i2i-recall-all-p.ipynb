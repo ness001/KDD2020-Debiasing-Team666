{
 "cells": [
  {
   "cell_type": "code",
   "execution_count": 35,
   "metadata": {},
   "outputs": [
    {
     "ename": "ValueError",
     "evalue": "inconsistent shapes: (10, 10) != (1, 1)",
     "output_type": "error",
     "traceback": [
      "\u001b[0;31m---------------------------------------------------------------------------\u001b[0m",
      "\u001b[0;31mValueError\u001b[0m                                Traceback (most recent call last)",
      "\u001b[0;32m<ipython-input-35-5f35b2457fff>\u001b[0m in \u001b[0;36m<module>\u001b[0;34m\u001b[0m\n\u001b[1;32m      1\u001b[0m \u001b[0;32mfrom\u001b[0m \u001b[0mscipy\u001b[0m\u001b[0;34m.\u001b[0m\u001b[0msparse\u001b[0m \u001b[0;32mimport\u001b[0m \u001b[0mcoo_matrix\u001b[0m\u001b[0;34m\u001b[0m\u001b[0;34m\u001b[0m\u001b[0m\n\u001b[1;32m      2\u001b[0m \u001b[0ma\u001b[0m\u001b[0;34m=\u001b[0m\u001b[0mcoo_matrix\u001b[0m\u001b[0;34m(\u001b[0m\u001b[0mnp\u001b[0m\u001b[0;34m.\u001b[0m\u001b[0mones\u001b[0m\u001b[0;34m(\u001b[0m\u001b[0mshape\u001b[0m\u001b[0;34m=\u001b[0m\u001b[0;34m(\u001b[0m\u001b[0;36m10\u001b[0m\u001b[0;34m,\u001b[0m\u001b[0;36m10\u001b[0m\u001b[0;34m)\u001b[0m\u001b[0;34m)\u001b[0m\u001b[0;34m,\u001b[0m\u001b[0mshape\u001b[0m\u001b[0;34m=\u001b[0m\u001b[0;34m(\u001b[0m\u001b[0;36m10\u001b[0m\u001b[0;34m,\u001b[0m\u001b[0;36m10\u001b[0m\u001b[0;34m)\u001b[0m\u001b[0;34m)\u001b[0m\u001b[0;34m\u001b[0m\u001b[0;34m\u001b[0m\u001b[0m\n\u001b[0;32m----> 3\u001b[0;31m \u001b[0mb\u001b[0m\u001b[0;34m=\u001b[0m\u001b[0mcoo_matrix\u001b[0m\u001b[0;34m(\u001b[0m\u001b[0;36m0\u001b[0m\u001b[0;34m,\u001b[0m\u001b[0mshape\u001b[0m\u001b[0;34m=\u001b[0m\u001b[0;34m(\u001b[0m\u001b[0;36m10\u001b[0m\u001b[0;34m,\u001b[0m\u001b[0;36m10\u001b[0m\u001b[0;34m)\u001b[0m\u001b[0;34m)\u001b[0m\u001b[0;34m\u001b[0m\u001b[0;34m\u001b[0m\u001b[0m\n\u001b[0m",
      "\u001b[0;32m~/.local/lib/python3.7/site-packages/scipy/sparse/coo.py\u001b[0m in \u001b[0;36m__init__\u001b[0;34m(self, arg1, shape, dtype, copy)\u001b[0m\n\u001b[1;32m    187\u001b[0m                     \u001b[0;32mif\u001b[0m \u001b[0mcheck_shape\u001b[0m\u001b[0;34m(\u001b[0m\u001b[0mshape\u001b[0m\u001b[0;34m)\u001b[0m \u001b[0;34m!=\u001b[0m \u001b[0mself\u001b[0m\u001b[0;34m.\u001b[0m\u001b[0m_shape\u001b[0m\u001b[0;34m:\u001b[0m\u001b[0;34m\u001b[0m\u001b[0;34m\u001b[0m\u001b[0m\n\u001b[1;32m    188\u001b[0m                         raise ValueError('inconsistent shapes: %s != %s' %\n\u001b[0;32m--> 189\u001b[0;31m                                          (shape, self._shape))\n\u001b[0m\u001b[1;32m    190\u001b[0m \u001b[0;34m\u001b[0m\u001b[0m\n\u001b[1;32m    191\u001b[0m                 \u001b[0mself\u001b[0m\u001b[0;34m.\u001b[0m\u001b[0mrow\u001b[0m\u001b[0;34m,\u001b[0m \u001b[0mself\u001b[0m\u001b[0;34m.\u001b[0m\u001b[0mcol\u001b[0m \u001b[0;34m=\u001b[0m \u001b[0mM\u001b[0m\u001b[0;34m.\u001b[0m\u001b[0mnonzero\u001b[0m\u001b[0;34m(\u001b[0m\u001b[0;34m)\u001b[0m\u001b[0;34m\u001b[0m\u001b[0;34m\u001b[0m\u001b[0m\n",
      "\u001b[0;31mValueError\u001b[0m: inconsistent shapes: (10, 10) != (1, 1)"
     ]
    }
   ],
   "source": [
    "from scipy.sparse import coo_matrix\n",
    "a=coo_matrix(np.ones(shape=(10,10)),shape=(10,10))\n",
    "b=coo_matrix(0,shape=(10,10))"
   ]
  },
  {
   "cell_type": "code",
   "execution_count": 5,
   "metadata": {},
   "outputs": [],
   "source": [
    "from gensim.models.callbacks import CallbackAny2Vec\n",
    "\n",
    "class callback(CallbackAny2Vec):\n",
    "    '''callback to print loss after each epoch'''\n",
    "    def __init__(self):\n",
    "        self.epoch=0\n",
    "        self.last_loss=0\n",
    "    def on_epoch_end(self,model):\n",
    "        loss=model.get_latest_training_loss()\n",
    "        now_loss=loss-self.last_loss\n",
    "        self.last_loss=loss\n",
    "        test_word=list(model.wv.vocab.keys())[0]\n",
    "        print('Loss after epoch {}: {}'.format(self.epoch,now_loss))\n",
    "        print('for word {}: the array now is: {}'.format(test_word, model.wv.vectors[0][:10]))              \n",
    "        print('for word {}: the top 3 sim user is {}'.format(test_word,model.wv.most_similar(test_word,topn=3)))                                                \n",
    "        self.epoch+=1"
   ]
  },
  {
   "cell_type": "code",
   "execution_count": 7,
   "metadata": {},
   "outputs": [],
   "source": [
    "from gensim.models import Word2Vec\n",
    "model=Word2Vec.load('./item2vec-0.4a')\n",
    "iv_df=pd.DataFrame(model.wv.vectors,index=model.wv.vocab.keys(),columns=['iv'+str(i) for i in range(0,128)]).reset_index()"
   ]
  },
  {
   "cell_type": "code",
   "execution_count": 11,
   "metadata": {},
   "outputs": [],
   "source": [
    "iv_df['i2vec']=iv_df.iloc[:,1:].values.tolist()"
   ]
  },
  {
   "cell_type": "code",
   "execution_count": 17,
   "metadata": {},
   "outputs": [],
   "source": [
    "iv_df.rename(columns={'index':'item_id'},inplace=True)"
   ]
  },
  {
   "cell_type": "code",
   "execution_count": 19,
   "metadata": {},
   "outputs": [],
   "source": [
    "iv_df=iv_df[['item_id','i2vec']]"
   ]
  },
  {
   "cell_type": "code",
   "execution_count": null,
   "metadata": {},
   "outputs": [],
   "source": []
  },
  {
   "cell_type": "code",
   "execution_count": 29,
   "metadata": {},
   "outputs": [
    {
     "data": {
      "text/plain": [
       "(98769, 2)"
      ]
     },
     "execution_count": 29,
     "metadata": {},
     "output_type": "execute_result"
    },
    {
     "data": {
      "text/plain": [
       "(31525, 2)"
      ]
     },
     "execution_count": 29,
     "metadata": {},
     "output_type": "execute_result"
    }
   ],
   "source": [
    "iv_df.shape\n",
    "uv_df.shape"
   ]
  },
  {
   "cell_type": "code",
   "execution_count": 21,
   "metadata": {},
   "outputs": [],
   "source": [
    "from gensim.models import Word2Vec\n",
    "model=Word2Vec.load('./user2vec-0.4a')\n",
    "uv_df=pd.DataFrame(model.wv.vectors,index=model.wv.vocab.keys(),columns=['iv'+str(i) for i in range(0,128)]).reset_index()"
   ]
  },
  {
   "cell_type": "code",
   "execution_count": 24,
   "metadata": {},
   "outputs": [],
   "source": [
    "uv_df.rename(columns={'index':'user_id'},inplace=True)\n",
    "uv_df['u2vec']=uv_df.iloc[:,1:].values.tolist()\n",
    "uv_df=uv_df[['user_id','u2vec']]"
   ]
  },
  {
   "cell_type": "code",
   "execution_count": 28,
   "metadata": {},
   "outputs": [
    {
     "data": {
      "text/html": [
       "<div>\n",
       "<style scoped>\n",
       "    .dataframe tbody tr th:only-of-type {\n",
       "        vertical-align: middle;\n",
       "    }\n",
       "\n",
       "    .dataframe tbody tr th {\n",
       "        vertical-align: top;\n",
       "    }\n",
       "\n",
       "    .dataframe thead th {\n",
       "        text-align: right;\n",
       "    }\n",
       "</style>\n",
       "<table border=\"1\" class=\"dataframe\">\n",
       "  <thead>\n",
       "    <tr style=\"text-align: right;\">\n",
       "      <th></th>\n",
       "      <th>user_id</th>\n",
       "      <th>u2vec</th>\n",
       "    </tr>\n",
       "  </thead>\n",
       "  <tbody>\n",
       "    <tr>\n",
       "      <th>0</th>\n",
       "      <td>1489</td>\n",
       "      <td>[-0.028489112854003906, -5.017876625061035, 3....</td>\n",
       "    </tr>\n",
       "    <tr>\n",
       "      <th>1</th>\n",
       "      <td>10088</td>\n",
       "      <td>[-4.466788291931152, -12.94594669342041, 7.529...</td>\n",
       "    </tr>\n",
       "    <tr>\n",
       "      <th>2</th>\n",
       "      <td>13420</td>\n",
       "      <td>[15.137311935424805, 5.448592185974121, -14.88...</td>\n",
       "    </tr>\n",
       "    <tr>\n",
       "      <th>3</th>\n",
       "      <td>19312</td>\n",
       "      <td>[-1.0070946216583252, -18.049047470092773, 6.8...</td>\n",
       "    </tr>\n",
       "    <tr>\n",
       "      <th>4</th>\n",
       "      <td>31286</td>\n",
       "      <td>[2.9684486389160156, -0.52272629737854, -8.469...</td>\n",
       "    </tr>\n",
       "    <tr>\n",
       "      <th>...</th>\n",
       "      <td>...</td>\n",
       "      <td>...</td>\n",
       "    </tr>\n",
       "    <tr>\n",
       "      <th>31520</th>\n",
       "      <td>1518</td>\n",
       "      <td>[-1.346155047416687, -0.9486507773399353, -0.0...</td>\n",
       "    </tr>\n",
       "    <tr>\n",
       "      <th>31521</th>\n",
       "      <td>33187</td>\n",
       "      <td>[0.3565931022167206, -0.7588027119636536, 0.29...</td>\n",
       "    </tr>\n",
       "    <tr>\n",
       "      <th>31522</th>\n",
       "      <td>26614</td>\n",
       "      <td>[-0.9818758964538574, -1.3186801671981812, 0.8...</td>\n",
       "    </tr>\n",
       "    <tr>\n",
       "      <th>31523</th>\n",
       "      <td>31461</td>\n",
       "      <td>[-0.7148497104644775, -1.5795958042144775, 1.0...</td>\n",
       "    </tr>\n",
       "    <tr>\n",
       "      <th>31524</th>\n",
       "      <td>14853</td>\n",
       "      <td>[-0.3996420204639435, -0.8112951517105103, 0.9...</td>\n",
       "    </tr>\n",
       "  </tbody>\n",
       "</table>\n",
       "<p>31525 rows × 2 columns</p>\n",
       "</div>"
      ],
      "text/plain": [
       "      user_id                                              u2vec\n",
       "0        1489  [-0.028489112854003906, -5.017876625061035, 3....\n",
       "1       10088  [-4.466788291931152, -12.94594669342041, 7.529...\n",
       "2       13420  [15.137311935424805, 5.448592185974121, -14.88...\n",
       "3       19312  [-1.0070946216583252, -18.049047470092773, 6.8...\n",
       "4       31286  [2.9684486389160156, -0.52272629737854, -8.469...\n",
       "...       ...                                                ...\n",
       "31520    1518  [-1.346155047416687, -0.9486507773399353, -0.0...\n",
       "31521   33187  [0.3565931022167206, -0.7588027119636536, 0.29...\n",
       "31522   26614  [-0.9818758964538574, -1.3186801671981812, 0.8...\n",
       "31523   31461  [-0.7148497104644775, -1.5795958042144775, 1.0...\n",
       "31524   14853  [-0.3996420204639435, -0.8112951517105103, 0.9...\n",
       "\n",
       "[31525 rows x 2 columns]"
      ]
     },
     "execution_count": 28,
     "metadata": {},
     "output_type": "execute_result"
    }
   ],
   "source": [
    "uv_df"
   ]
  },
  {
   "cell_type": "code",
   "execution_count": 26,
   "metadata": {},
   "outputs": [],
   "source": [
    "user_path='../user_data/'"
   ]
  },
  {
   "cell_type": "code",
   "execution_count": 27,
   "metadata": {},
   "outputs": [],
   "source": [
    "uv_df.to_csv(user_path+'user_embedding.csv',index=False)\n",
    "iv_df.to_csv(user_path+'item_embedding.csv',index=False)"
   ]
  },
  {
   "cell_type": "code",
   "execution_count": 3,
   "metadata": {},
   "outputs": [
    {
     "data": {
      "text/plain": [
       "_StoreAction(option_strings=['--now_phase'], dest='now_phase', nargs=None, const=None, default=6, type=<class 'int'>, choices=None, help='', metavar=None)"
      ]
     },
     "execution_count": 3,
     "metadata": {},
     "output_type": "execute_result"
    },
    {
     "data": {
      "text/plain": [
       "_StoreAction(option_strings=['--window'], dest='window', nargs=None, const=None, default=10, type=<class 'int'>, choices=None, help='cocur_matr的时间窗', metavar=None)"
      ]
     },
     "execution_count": 3,
     "metadata": {},
     "output_type": "execute_result"
    },
    {
     "data": {
      "text/plain": [
       "_StoreAction(option_strings=['--time_decay'], dest='time_decay', nargs=None, const=None, default=0.875, type=<class 'float'>, choices=None, help='时间衰减', metavar=None)"
      ]
     },
     "execution_count": 3,
     "metadata": {},
     "output_type": "execute_result"
    },
    {
     "data": {
      "text/plain": [
       "_StoreAction(option_strings=['--mode'], dest='mode', nargs=None, const=None, default='train', type=<class 'str'>, choices=None, help='train test', metavar=None)"
      ]
     },
     "execution_count": 3,
     "metadata": {},
     "output_type": "execute_result"
    },
    {
     "data": {
      "text/plain": [
       "_StoreAction(option_strings=['--topk'], dest='topk', nargs=None, const=None, default=500, type=<class 'int'>, choices=None, help='每种召回策略召回的样本数', metavar=None)"
      ]
     },
     "execution_count": 3,
     "metadata": {},
     "output_type": "execute_result"
    },
    {
     "data": {
      "text/plain": [
       "_StoreAction(option_strings=['--DATA_DIR'], dest='DATA_DIR', nargs=None, const=None, default='./', type=<class 'str'>, choices=None, help='data dir', metavar=None)"
      ]
     },
     "execution_count": 3,
     "metadata": {},
     "output_type": "execute_result"
    },
    {
     "name": "stderr",
     "output_type": "stream",
     "text": [
      "2020-06-04 13:22:27.013 | INFO     | __main__:load_click_data_per_phase:52 - phase: 0\n",
      "2020-06-04 13:22:27.692 | INFO     | __main__:load_click_data_per_phase:63 - all_click: (261337, 3), click_test1_val: (1663, 3), test_qtime1: (1663, 2)\n",
      "2020-06-04 13:22:27.694 | INFO     | __main__:load_click_data_per_phase:52 - phase: 1\n",
      "2020-06-04 13:22:28.359 | INFO     | __main__:load_click_data_per_phase:63 - all_click: (264871, 3), click_test1_val: (1726, 3), test_qtime1: (1726, 2)\n",
      "2020-06-04 13:22:28.360 | INFO     | __main__:load_click_data_per_phase:52 - phase: 2\n",
      "2020-06-04 13:22:29.041 | INFO     | __main__:load_click_data_per_phase:63 - all_click: (264624, 3), click_test1_val: (1690, 3), test_qtime1: (1690, 2)\n",
      "2020-06-04 13:22:29.043 | INFO     | __main__:load_click_data_per_phase:52 - phase: 3\n",
      "2020-06-04 13:22:29.795 | INFO     | __main__:load_click_data_per_phase:63 - all_click: (286609, 3), click_test1_val: (1675, 3), test_qtime1: (1675, 2)\n",
      "2020-06-04 13:22:29.797 | INFO     | __main__:load_click_data_per_phase:52 - phase: 4\n",
      "2020-06-04 13:22:30.568 | INFO     | __main__:load_click_data_per_phase:63 - all_click: (291672, 3), click_test1_val: (1708, 3), test_qtime1: (1708, 2)\n",
      "2020-06-04 13:22:30.569 | INFO     | __main__:load_click_data_per_phase:52 - phase: 5\n",
      "2020-06-04 13:22:31.387 | INFO     | __main__:load_click_data_per_phase:63 - all_click: (313378, 3), click_test1_val: (1798, 3), test_qtime1: (1798, 2)\n",
      "2020-06-04 13:22:31.388 | INFO     | __main__:load_click_data_per_phase:52 - phase: 6\n",
      "2020-06-04 13:22:32.281 | INFO     | __main__:load_click_data_per_phase:63 - all_click: (337339, 3), click_test1_val: (1821, 3), test_qtime1: (1821, 2)\n"
     ]
    },
    {
     "data": {
      "text/plain": [
       "item_id\n",
       "1                              [1489, 10088, 13420, 19312]\n",
       "10                                    [31286, 8401, 16881]\n",
       "100          [32252, 6591, 19538, 9914, 790, 13780, 10602]\n",
       "1000     [14546, 9531, 32114, 6934, 20558, 30360, 33492...\n",
       "10000                          [26044, 24047, 5063, 22077]\n",
       "                               ...                        \n",
       "99994    [9287, 6305, 28964, 17648, 22420, 15431, 32017...\n",
       "99996                          [7266, 25455, 25016, 13092]\n",
       "99997                    [20924, 6843, 15103, 3138, 28030]\n",
       "99998    [24217, 9796, 20948, 25551, 16599, 33363, 2946...\n",
       "99999    [31021, 21028, 11225, 14902, 16578, 11050, 225...\n",
       "Name: user_id, Length: 98769, dtype: object"
      ]
     },
     "execution_count": 3,
     "metadata": {},
     "output_type": "execute_result"
    },
    {
     "name": "stdout",
     "output_type": "stream",
     "text": [
      "Loss after epoch 0: 25268.736328125\n",
      "for word 1489: the array now is: [-1.659646   -4.375808    1.5798957  -3.4722328   1.9806672   4.901176\n",
      "  5.6547112   0.23472086 -3.1559265  -1.7262268 ]\n",
      "for word 1489: the top 3 sim user is [('18806', 0.8132525682449341), ('5374', 0.8051040172576904), ('29258', 0.8050020933151245)]\n",
      "Loss after epoch 1: 3065.96875\n",
      "for word 1489: the array now is: [-1.0222683 -5.3737926  1.9490113 -9.064284   4.053353   4.707161\n",
      "  6.033243   1.5210111 -3.2908812 -2.001929 ]\n",
      "for word 1489: the top 3 sim user is [('18806', 0.8132525682449341), ('5374', 0.8051040172576904), ('29258', 0.8050020933151245)]\n",
      "Loss after epoch 2: 1286.427734375\n",
      "for word 1489: the array now is: [-0.9802516 -5.398981   2.0609684 -9.088509   3.8956044  4.7317953\n",
      "  5.955675   1.6005725 -3.3330247 -2.0296798]\n",
      "for word 1489: the top 3 sim user is [('18806', 0.8132525682449341), ('5374', 0.8051040172576904), ('29258', 0.8050020933151245)]\n",
      "Loss after epoch 3: 1062.26171875\n",
      "for word 1489: the array now is: [-0.9802516 -5.398981   2.0609684 -9.088509   3.8956044  4.7317953\n",
      "  5.955675   1.6005725 -3.3330247 -2.0296798]\n",
      "for word 1489: the top 3 sim user is [('18806', 0.8132525682449341), ('5374', 0.8051040172576904), ('29258', 0.8050020933151245)]\n",
      "Loss after epoch 4: 690.33203125\n",
      "for word 1489: the array now is: [-0.9802516 -5.398981   2.0609684 -9.088509   3.8956044  4.7317953\n",
      "  5.955675   1.6005725 -3.3330247 -2.0296798]\n",
      "for word 1489: the top 3 sim user is [('18806', 0.8132525682449341), ('5374', 0.8051040172576904), ('29258', 0.8050020933151245)]\n",
      "Loss after epoch 5: 709.263671875\n",
      "for word 1489: the array now is: [-0.02848911 -5.0178766   3.1692467  -7.333072    2.264514    3.8301902\n",
      "  6.418398    2.6212177  -2.9636102  -1.2809864 ]\n",
      "for word 1489: the top 3 sim user is [('18806', 0.8132525682449341), ('5374', 0.8051040172576904), ('29258', 0.8050020933151245)]\n",
      "Loss after epoch 6: 408.876953125\n",
      "for word 1489: the array now is: [-0.02848911 -5.0178766   3.1692467  -7.333072    2.264514    3.8301902\n",
      "  6.418398    2.6212177  -2.9636102  -1.2809864 ]\n",
      "for word 1489: the top 3 sim user is [('18806', 0.8132525682449341), ('5374', 0.8051040172576904), ('29258', 0.8050020933151245)]\n",
      "Loss after epoch 7: 131.9453125\n",
      "for word 1489: the array now is: [-0.02848911 -5.0178766   3.1692467  -7.333072    2.264514    3.8301902\n",
      "  6.418398    2.6212177  -2.9636102  -1.2809864 ]\n",
      "for word 1489: the top 3 sim user is [('18806', 0.8132525682449341), ('5374', 0.8051040172576904), ('29258', 0.8050020933151245)]\n",
      "Loss after epoch 8: 270.26171875\n",
      "for word 1489: the array now is: [-0.02848911 -5.0178766   3.1692467  -7.333072    2.264514    3.8301902\n",
      "  6.418398    2.6212177  -2.9636102  -1.2809864 ]\n",
      "for word 1489: the top 3 sim user is [('18806', 0.8132525682449341), ('5374', 0.8051040172576904), ('29258', 0.8050020933151245)]\n",
      "Loss after epoch 9: 340.34765625\n",
      "for word 1489: the array now is: [-0.02848911 -5.0178766   3.1692467  -7.333072    2.264514    3.8301902\n",
      "  6.418398    2.6212177  -2.9636102  -1.2809864 ]\n",
      "for word 1489: the top 3 sim user is [('18806', 0.8132525682449341), ('5374', 0.8051040172576904), ('29258', 0.8050020933151245)]\n",
      "Loss after epoch 10: 370.78515625\n",
      "for word 1489: the array now is: [-0.02848911 -5.0178766   3.1692467  -7.333072    2.264514    3.8301902\n",
      "  6.418398    2.6212177  -2.9636102  -1.2809864 ]\n",
      "for word 1489: the top 3 sim user is [('18806', 0.8132525682449341), ('5374', 0.8051040172576904), ('29258', 0.8050020933151245)]\n",
      "Loss after epoch 11: 246.32421875\n",
      "for word 1489: the array now is: [-0.02848911 -5.0178766   3.1692467  -7.333072    2.264514    3.8301902\n",
      "  6.418398    2.6212177  -2.9636102  -1.2809864 ]\n",
      "for word 1489: the top 3 sim user is [('18806', 0.8132525682449341), ('5374', 0.8051040172576904), ('29258', 0.8050020933151245)]\n",
      "Loss after epoch 12: 170.84375\n",
      "for word 1489: the array now is: [-0.02848911 -5.0178766   3.1692467  -7.333072    2.264514    3.8301902\n",
      "  6.418398    2.6212177  -2.9636102  -1.2809864 ]\n",
      "for word 1489: the top 3 sim user is [('18806', 0.8132525682449341), ('5374', 0.8051040172576904), ('29258', 0.8050020933151245)]\n",
      "Loss after epoch 13: 147.203125\n",
      "for word 1489: the array now is: [-0.02848911 -5.0178766   3.1692467  -7.333072    2.264514    3.8301902\n",
      "  6.418398    2.6212177  -2.9636102  -1.2809864 ]\n",
      "for word 1489: the top 3 sim user is [('18806', 0.8132525682449341), ('5374', 0.8051040172576904), ('29258', 0.8050020933151245)]\n",
      "Loss after epoch 14: 158.8828125\n",
      "for word 1489: the array now is: [-0.02848911 -5.0178766   3.1692467  -7.333072    2.264514    3.8301902\n",
      "  6.418398    2.6212177  -2.9636102  -1.2809864 ]\n",
      "for word 1489: the top 3 sim user is [('18806', 0.8132525682449341), ('5374', 0.8051040172576904), ('29258', 0.8050020933151245)]\n",
      "Loss after epoch 15: 303.7265625\n",
      "for word 1489: the array now is: [-0.02848911 -5.0178766   3.1692467  -7.333072    2.264514    3.8301902\n",
      "  6.418398    2.6212177  -2.9636102  -1.2809864 ]\n",
      "for word 1489: the top 3 sim user is [('18806', 0.8132525682449341), ('5374', 0.8051040172576904), ('29258', 0.8050020933151245)]\n",
      "Loss after epoch 16: 39.82421875\n",
      "for word 1489: the array now is: [-0.02848911 -5.0178766   3.1692467  -7.333072    2.264514    3.8301902\n",
      "  6.418398    2.6212177  -2.9636102  -1.2809864 ]\n",
      "for word 1489: the top 3 sim user is [('18806', 0.8132525682449341), ('5374', 0.8051040172576904), ('29258', 0.8050020933151245)]\n",
      "Loss after epoch 17: 102.96875\n",
      "for word 1489: the array now is: [-0.02848911 -5.0178766   3.1692467  -7.333072    2.264514    3.8301902\n",
      "  6.418398    2.6212177  -2.9636102  -1.2809864 ]\n",
      "for word 1489: the top 3 sim user is [('18806', 0.8132525682449341), ('5374', 0.8051040172576904), ('29258', 0.8050020933151245)]\n",
      "Loss after epoch 18: 94.9140625\n",
      "for word 1489: the array now is: [-0.02848911 -5.0178766   3.1692467  -7.333072    2.264514    3.8301902\n",
      "  6.418398    2.6212177  -2.9636102  -1.2809864 ]\n",
      "for word 1489: the top 3 sim user is [('18806', 0.8132525682449341), ('5374', 0.8051040172576904), ('29258', 0.8050020933151245)]\n",
      "Loss after epoch 19: 63.2734375\n",
      "for word 1489: the array now is: [-0.02848911 -5.0178766   3.1692467  -7.333072    2.264514    3.8301902\n",
      "  6.418398    2.6212177  -2.9636102  -1.2809864 ]\n",
      "for word 1489: the top 3 sim user is [('18806', 0.8132525682449341), ('5374', 0.8051040172576904), ('29258', 0.8050020933151245)]\n",
      "Loss after epoch 20: 103.21484375\n",
      "for word 1489: the array now is: [-0.02848911 -5.0178766   3.1692467  -7.333072    2.264514    3.8301902\n",
      "  6.418398    2.6212177  -2.9636102  -1.2809864 ]\n",
      "for word 1489: the top 3 sim user is [('18806', 0.8132525682449341), ('5374', 0.8051040172576904), ('29258', 0.8050020933151245)]\n",
      "Loss after epoch 21: 39.00390625\n",
      "for word 1489: the array now is: [-0.02848911 -5.0178766   3.1692467  -7.333072    2.264514    3.8301902\n",
      "  6.418398    2.6212177  -2.9636102  -1.2809864 ]\n",
      "for word 1489: the top 3 sim user is [('18806', 0.8132525682449341), ('5374', 0.8051040172576904), ('29258', 0.8050020933151245)]\n",
      "Loss after epoch 22: 65.3515625\n",
      "for word 1489: the array now is: [-0.02848911 -5.0178766   3.1692467  -7.333072    2.264514    3.8301902\n",
      "  6.418398    2.6212177  -2.9636102  -1.2809864 ]\n",
      "for word 1489: the top 3 sim user is [('18806', 0.8132525682449341), ('5374', 0.8051040172576904), ('29258', 0.8050020933151245)]\n",
      "Loss after epoch 23: 66.359375\n",
      "for word 1489: the array now is: [-0.02848911 -5.0178766   3.1692467  -7.333072    2.264514    3.8301902\n",
      "  6.418398    2.6212177  -2.9636102  -1.2809864 ]\n",
      "for word 1489: the top 3 sim user is [('18806', 0.8132525682449341), ('5374', 0.8051040172576904), ('29258', 0.8050020933151245)]\n",
      "Loss after epoch 24: 46.13671875\n",
      "for word 1489: the array now is: [-0.02848911 -5.0178766   3.1692467  -7.333072    2.264514    3.8301902\n",
      "  6.418398    2.6212177  -2.9636102  -1.2809864 ]\n",
      "for word 1489: the top 3 sim user is [('18806', 0.8132525682449341), ('5374', 0.8051040172576904), ('29258', 0.8050020933151245)]\n",
      "Loss after epoch 25: 23.39453125\n",
      "for word 1489: the array now is: [-0.02848911 -5.0178766   3.1692467  -7.333072    2.264514    3.8301902\n",
      "  6.418398    2.6212177  -2.9636102  -1.2809864 ]\n",
      "for word 1489: the top 3 sim user is [('18806', 0.8132525682449341), ('5374', 0.8051040172576904), ('29258', 0.8050020933151245)]\n",
      "Loss after epoch 26: 54.47265625\n",
      "for word 1489: the array now is: [-0.02848911 -5.0178766   3.1692467  -7.333072    2.264514    3.8301902\n",
      "  6.418398    2.6212177  -2.9636102  -1.2809864 ]\n",
      "for word 1489: the top 3 sim user is [('18806', 0.8132525682449341), ('5374', 0.8051040172576904), ('29258', 0.8050020933151245)]\n"
     ]
    },
    {
     "ename": "NameError",
     "evalue": "name 'test6' is not defined",
     "output_type": "error",
     "traceback": [
      "\u001b[0;31m---------------------------------------------------------------------------\u001b[0m",
      "\u001b[0;31mNameError\u001b[0m                                 Traceback (most recent call last)",
      "\u001b[0;32m<ipython-input-3-810d022d3603>\u001b[0m in \u001b[0;36m<module>\u001b[0;34m\u001b[0m\n\u001b[1;32m    106\u001b[0m \u001b[0mmodel\u001b[0m\u001b[0;34m.\u001b[0m\u001b[0msave\u001b[0m\u001b[0;34m(\u001b[0m\u001b[0;34m'./user2vec-0.4'\u001b[0m\u001b[0;34m)\u001b[0m\u001b[0;34m\u001b[0m\u001b[0;34m\u001b[0m\u001b[0m\n\u001b[1;32m    107\u001b[0m \u001b[0;34m\u001b[0m\u001b[0m\n\u001b[0;32m--> 108\u001b[0;31m \u001b[0mrecall_frame\u001b[0m \u001b[0;34m=\u001b[0m \u001b[0mpd\u001b[0m\u001b[0;34m.\u001b[0m\u001b[0mDataFrame\u001b[0m\u001b[0;34m(\u001b[0m\u001b[0mcolumns\u001b[0m\u001b[0;34m=\u001b[0m\u001b[0;34m[\u001b[0m\u001b[0;34m'user_id'\u001b[0m\u001b[0;34m,\u001b[0m \u001b[0;34m'item_id_pred'\u001b[0m\u001b[0;34m,\u001b[0m \u001b[0;34m'score'\u001b[0m\u001b[0;34m,\u001b[0m \u001b[0;34m'rank'\u001b[0m\u001b[0;34m,\u001b[0m \u001b[0;34m'item_id_true'\u001b[0m\u001b[0;34m]\u001b[0m\u001b[0;34m,\u001b[0m\u001b[0mindex\u001b[0m\u001b[0;34m=\u001b[0m\u001b[0mrange\u001b[0m\u001b[0;34m(\u001b[0m\u001b[0;36m0\u001b[0m\u001b[0;34m,\u001b[0m\u001b[0;36m500\u001b[0m\u001b[0;34m*\u001b[0m\u001b[0mlen\u001b[0m\u001b[0;34m(\u001b[0m\u001b[0mtest6\u001b[0m\u001b[0;34m.\u001b[0m\u001b[0muser_id\u001b[0m\u001b[0;34m.\u001b[0m\u001b[0munique\u001b[0m\u001b[0;34m(\u001b[0m\u001b[0;34m)\u001b[0m\u001b[0;34m)\u001b[0m\u001b[0;34m)\u001b[0m\u001b[0;34m)\u001b[0m\u001b[0;34m\u001b[0m\u001b[0;34m\u001b[0m\u001b[0m\n\u001b[0m\u001b[1;32m    109\u001b[0m \u001b[0;34m\u001b[0m\u001b[0m\n\u001b[1;32m    110\u001b[0m \u001b[0muser_list\u001b[0m\u001b[0;34m=\u001b[0m\u001b[0mtest6\u001b[0m\u001b[0;34m.\u001b[0m\u001b[0muser_id\u001b[0m\u001b[0;34m.\u001b[0m\u001b[0munique\u001b[0m\u001b[0;34m(\u001b[0m\u001b[0;34m)\u001b[0m\u001b[0;34m\u001b[0m\u001b[0;34m\u001b[0m\u001b[0m\n",
      "\u001b[0;31mNameError\u001b[0m: name 'test6' is not defined"
     ]
    }
   ],
   "source": [
    "from IPython.core.interactiveshell import InteractiveShell\n",
    "InteractiveShell.ast_node_interactivity = 'all'\n",
    "import os\n",
    "import pandas as pd\n",
    "import numpy as np\n",
    "from tqdm import tqdm\n",
    "import pickle\n",
    "from loguru import logger\n",
    "import argparse\n",
    "\n",
    "\n",
    "class PickleWrapper(object):\n",
    "\n",
    "    @classmethod\n",
    "    def loadFromFile(cls, file, mode='rb'):\n",
    "        with open(file, mode) as f:\n",
    "            return pickle.load(f)\n",
    "\n",
    "    @classmethod\n",
    "    def dump2File(cls, o, file, mode='wb'):\n",
    "        '''\n",
    "        把目标对象序列化到文件\n",
    "        :param o: 目标对象\n",
    "        :param file: 文件\n",
    "        :param mode:\n",
    "        :return:\n",
    "        '''\n",
    "        with open(file, mode) as f:\n",
    "            pickle.dump(o, f)\n",
    "\n",
    "\n",
    "\n",
    "parser = argparse.ArgumentParser(description='t')\n",
    "parser.add_argument('--now_phase', type=int, default=6, help='')\n",
    "parser.add_argument('--window', type=int, default=10, help='cocur_matr的时间窗')\n",
    "parser.add_argument('--time_decay', type=float, default=7/8, help='时间衰减')\n",
    "parser.add_argument('--mode', type=str, default='train', help='train test')\n",
    "parser.add_argument('--topk', type=int, default=500, help='每种召回策略召回的样本数')\n",
    "parser.add_argument('--DATA_DIR', type=str, default='./', help='data dir')\n",
    "\n",
    "args = parser.parse_args(args=[])\n",
    "trace = logger.add(os.path.join(args.DATA_DIR, 'data_gen/runtime.log'))\n",
    "\n",
    "# Cell\n",
    "def load_click_data_per_phase(now_phase, base_dir):\n",
    "    \"\"\"\n",
    "    \"\"\"\n",
    "\n",
    "\n",
    "    all_click_df = []\n",
    "    for c in range(now_phase + 1):\n",
    "        logger.info(f'phase: {c}')\n",
    "        cols_str = 'user_id item_id time'.split()\n",
    "        click_train1 = pd.read_csv( './underexpose_train_click-{}.csv'.format(c), header=None,  names=['user_id', 'item_id', 'time'], converters={c: str for c in cols_str})\n",
    "        click_test1 = pd.read_csv( './underexpose_test_click-{}.csv'.format(c, c), header=None,  names=['user_id', 'item_id', 'time'], converters={c: str for c in cols_str})\n",
    "        test_qtime1 = pd.read_csv( './underexpose_test_qtime-{}.csv'.format(c, c), header=None,  names=['user_id','time'], converters={c: str for c in cols_str})\n",
    "        click_test1_val = click_test1.sort_values(['user_id', 'time']).drop_duplicates(subset=['user_id'],keep='last')\n",
    "\n",
    "        click_test1 = click_test1[~click_test1.index.isin(click_test1_val.index)]\n",
    "        all_click = click_train1.append(click_test1).drop_duplicates().sort_values('time')\n",
    "\n",
    "        all_click_df.append((all_click, click_test1_val, test_qtime1))\n",
    "        logger.info(f'all_click: {all_click.shape}, click_test1_val: {click_test1_val.shape}, test_qtime1: {test_qtime1.shape}')\n",
    "    return all_click_df\n",
    "all_click_df = load_click_data_per_phase(args.now_phase, args.DATA_DIR)\n",
    "all_train=pd.concat([all_click_df[i][0] for i in range(0,7)]).drop_duplicates().reset_index(drop=True)\n",
    "\n",
    "\n",
    "# item2vec=train6.groupby('user_id')['item_id'].agg(list)\n",
    "# item2vec\n",
    "user2vec=all_train.groupby('item_id')['user_id'].agg(list)\n",
    "user2vec\n",
    "\n",
    "sentences=list(user2vec.values)\n",
    "\n",
    "import multiprocessing\n",
    "import gensim\n",
    "from gensim.models.callbacks import CallbackAny2Vec\n",
    "\n",
    "class callback(CallbackAny2Vec):\n",
    "    '''callback to print loss after each epoch'''\n",
    "    def __init__(self):\n",
    "        self.epoch=0\n",
    "        self.last_loss=0\n",
    "    def on_epoch_end(self,model):\n",
    "        loss=model.get_latest_training_loss()\n",
    "        now_loss=loss-self.last_loss\n",
    "        self.last_loss=loss\n",
    "        test_word=list(model.wv.vocab.keys())[0]\n",
    "        print('Loss after epoch {}: {}'.format(self.epoch,now_loss))\n",
    "        print('for word {}: the array now is: {}'.format(test_word, model.wv.vectors[0][:10]))              \n",
    "        print('for word {}: the top 3 sim user is {}'.format(test_word,model.wv.most_similar(test_word,topn=3)))                                                \n",
    "        self.epoch+=1\n",
    "\n",
    "model = gensim.models.Word2Vec(sentences,\n",
    "                    size=128,\n",
    "                    alpha=0.4,\n",
    "                    window=999999,\n",
    "                    min_count=1,\n",
    "                    workers=multiprocessing.cpu_count(),\n",
    "                    compute_loss=True,\n",
    "                    iter=27,\n",
    "                    hs=0,\n",
    "                    sg=1,\n",
    "                    seed=42,callbacks=[callback()])\n",
    "model.save('./user2vec-0.4')\n",
    "\n",
    "\n",
    "\n"
   ]
  },
  {
   "cell_type": "code",
   "execution_count": 7,
   "metadata": {},
   "outputs": [
    {
     "name": "stderr",
     "output_type": "stream",
     "text": [
      "100%|██████████| 1821/1821 [29:57<00:00,  1.01it/s]\n"
     ]
    },
    {
     "data": {
      "text/plain": [
       "0.030752333882482153"
      ]
     },
     "execution_count": 7,
     "metadata": {},
     "output_type": "execute_result"
    }
   ],
   "source": [
    "\n",
    "\n",
    "user_train=all_click_df[6][0].sort_values(by=['user_id','time'],ascending=[True,False])\n",
    "user_true=all_click_df[6][1] \n",
    "recall_frame = pd.DataFrame(columns=['user_id', 'item_id_pred', 'score', 'rank', 'item_id_true'],index=range(0,500*len(user_true.user_id.unique())))\n",
    "search_df=user_train.drop_duplicates(['user_id'],keep='first')\n",
    "user_list=search_df.user_id.unique()\n",
    "\n",
    "\n",
    "\n",
    "\n",
    "\n",
    "\n",
    "row_num=0\n",
    "for user in tqdm(user_true.user_id.unique()):\n",
    "    true_item = user_true.loc[user_true.user_id == user, 'item_id'].values[0]\n",
    "    i=0\n",
    "    for user_sim,score in model.wv.most_similar(user,topn=500):\n",
    "        if user_sim in user_list:\n",
    "            recall_frame.iloc[row_num]['user_id'] = user\n",
    "            recall_frame.iloc[row_num]['item_id_pred'] = search_df.loc[search_df.user_id == user_sim,'item_id'].values[0]\n",
    "            recall_frame.iloc[row_num]['score'] = score\n",
    "            recall_frame.iloc[row_num]['rank'] = i+1\n",
    "            recall_frame.iloc[row_num]['item_id_true'] = true_item\n",
    "            row_num+=1\n",
    "sum(recall_frame.item_id_pred == recall_frame.item_id_true)/1821\n",
    "\n",
    "\n"
   ]
  },
  {
   "cell_type": "code",
   "execution_count": 37,
   "metadata": {},
   "outputs": [
    {
     "data": {
      "text/plain": [
       "_StoreAction(option_strings=['--now_phase'], dest='now_phase', nargs=None, const=None, default=6, type=<class 'int'>, choices=None, help='', metavar=None)"
      ]
     },
     "execution_count": 37,
     "metadata": {},
     "output_type": "execute_result"
    },
    {
     "data": {
      "text/plain": [
       "_StoreAction(option_strings=['--window'], dest='window', nargs=None, const=None, default=10, type=<class 'int'>, choices=None, help='cocur_matr的时间窗', metavar=None)"
      ]
     },
     "execution_count": 37,
     "metadata": {},
     "output_type": "execute_result"
    },
    {
     "data": {
      "text/plain": [
       "_StoreAction(option_strings=['--time_decay'], dest='time_decay', nargs=None, const=None, default=0.875, type=<class 'float'>, choices=None, help='时间衰减', metavar=None)"
      ]
     },
     "execution_count": 37,
     "metadata": {},
     "output_type": "execute_result"
    },
    {
     "data": {
      "text/plain": [
       "_StoreAction(option_strings=['--mode'], dest='mode', nargs=None, const=None, default='train', type=<class 'str'>, choices=None, help='train test', metavar=None)"
      ]
     },
     "execution_count": 37,
     "metadata": {},
     "output_type": "execute_result"
    },
    {
     "data": {
      "text/plain": [
       "_StoreAction(option_strings=['--topk'], dest='topk', nargs=None, const=None, default=500, type=<class 'int'>, choices=None, help='每种召回策略召回的样本数', metavar=None)"
      ]
     },
     "execution_count": 37,
     "metadata": {},
     "output_type": "execute_result"
    },
    {
     "data": {
      "text/plain": [
       "_StoreAction(option_strings=['--DATA_DIR'], dest='DATA_DIR', nargs=None, const=None, default='../../data/contest/kdd_debiasing', type=<class 'str'>, choices=None, help='data dir', metavar=None)"
      ]
     },
     "execution_count": 37,
     "metadata": {},
     "output_type": "execute_result"
    },
    {
     "name": "stderr",
     "output_type": "stream",
     "text": [
      "2020-06-04 14:18:14.956 | INFO     | __main__:load_click_data_per_phase:52 - phase: 0\n",
      "2020-06-04 14:18:16.293 | INFO     | __main__:load_click_data_per_phase:63 - all_click: (261337, 3), click_test1_val: (1663, 3), test_qtime1: (1663, 2)\n",
      "2020-06-04 14:18:16.295 | INFO     | __main__:load_click_data_per_phase:52 - phase: 1\n",
      "2020-06-04 14:18:17.595 | INFO     | __main__:load_click_data_per_phase:63 - all_click: (264871, 3), click_test1_val: (1726, 3), test_qtime1: (1726, 2)\n",
      "2020-06-04 14:18:17.597 | INFO     | __main__:load_click_data_per_phase:52 - phase: 2\n",
      "2020-06-04 14:18:18.399 | INFO     | __main__:load_click_data_per_phase:63 - all_click: (264624, 3), click_test1_val: (1690, 3), test_qtime1: (1690, 2)\n",
      "2020-06-04 14:18:18.401 | INFO     | __main__:load_click_data_per_phase:52 - phase: 3\n",
      "2020-06-04 14:18:19.153 | INFO     | __main__:load_click_data_per_phase:63 - all_click: (286609, 3), click_test1_val: (1675, 3), test_qtime1: (1675, 2)\n",
      "2020-06-04 14:18:19.155 | INFO     | __main__:load_click_data_per_phase:52 - phase: 4\n",
      "2020-06-04 14:18:21.679 | INFO     | __main__:load_click_data_per_phase:63 - all_click: (291672, 3), click_test1_val: (1708, 3), test_qtime1: (1708, 2)\n",
      "2020-06-04 14:18:21.683 | INFO     | __main__:load_click_data_per_phase:52 - phase: 5\n",
      "2020-06-04 14:18:27.607 | INFO     | __main__:load_click_data_per_phase:63 - all_click: (313378, 3), click_test1_val: (1798, 3), test_qtime1: (1798, 2)\n",
      "2020-06-04 14:18:27.613 | INFO     | __main__:load_click_data_per_phase:52 - phase: 6\n",
      "2020-06-04 14:18:34.219 | INFO     | __main__:load_click_data_per_phase:63 - all_click: (337339, 3), click_test1_val: (1821, 3), test_qtime1: (1821, 2)\n",
      "/usr/local/lib/python3.6/dist-packages/ipykernel_launcher.py:31: ParserWarning: Falling back to the 'python' engine because the 'c' engine does not support regex separators (separators > 1 char and different from '\\s+' are interpreted as regex); you can avoid this warning by specifying engine='python'.\n"
     ]
    },
    {
     "ename": "FileNotFoundError",
     "evalue": "[Errno 2] No such file or directory: '../../data/contest/kdd_debiasing/data_gen/r_list_itemcf_0527.pkl'",
     "output_type": "error",
     "traceback": [
      "\u001b[0;31m---------------------------------------------------------------------------\u001b[0m",
      "\u001b[0;31mFileNotFoundError\u001b[0m                         Traceback (most recent call last)",
      "\u001b[0;32m<ipython-input-37-de2cf3129d7e>\u001b[0m in \u001b[0;36m<module>\u001b[0;34m\u001b[0m\n\u001b[1;32m    259\u001b[0m     \u001b[0;31m# match_num = 200\u001b[0m\u001b[0;34m\u001b[0m\u001b[0;34m\u001b[0m\u001b[0;34m\u001b[0m\u001b[0m\n\u001b[1;32m    260\u001b[0m     \u001b[0mmatch_num\u001b[0m \u001b[0;34m=\u001b[0m \u001b[0;36m500\u001b[0m\u001b[0;34m\u001b[0m\u001b[0;34m\u001b[0m\u001b[0m\n\u001b[0;32m--> 261\u001b[0;31m     \u001b[0mr_itemcf\u001b[0m\u001b[0;34m,\u001b[0m \u001b[0mr_binn\u001b[0m\u001b[0;34m,\u001b[0m \u001b[0mr_itemcf_yl\u001b[0m \u001b[0;34m=\u001b[0m \u001b[0mload_match_items\u001b[0m\u001b[0;34m(\u001b[0m\u001b[0;34m)\u001b[0m\u001b[0;34m\u001b[0m\u001b[0;34m\u001b[0m\u001b[0m\n\u001b[0m\u001b[1;32m    262\u001b[0m     \u001b[0mdf\u001b[0m \u001b[0;34m=\u001b[0m \u001b[0mdata_preporcess\u001b[0m\u001b[0;34m(\u001b[0m\u001b[0;34m[\u001b[0m\u001b[0mr_itemcf\u001b[0m\u001b[0;34m,\u001b[0m \u001b[0mr_binn\u001b[0m\u001b[0;34m,\u001b[0m \u001b[0mr_itemcf_yl\u001b[0m\u001b[0;34m]\u001b[0m\u001b[0;34m,\u001b[0m \u001b[0mmatch_num\u001b[0m\u001b[0;34m,\u001b[0m \u001b[0mphase\u001b[0m\u001b[0;34m)\u001b[0m\u001b[0;34m\u001b[0m\u001b[0;34m\u001b[0m\u001b[0m\n\u001b[1;32m    263\u001b[0m     \u001b[0mdf\u001b[0m \u001b[0;34m=\u001b[0m \u001b[0mfe\u001b[0m\u001b[0;34m(\u001b[0m\u001b[0mdf\u001b[0m\u001b[0;34m)\u001b[0m\u001b[0;34m\u001b[0m\u001b[0;34m\u001b[0m\u001b[0m\n",
      "\u001b[0;32m<ipython-input-37-de2cf3129d7e>\u001b[0m in \u001b[0;36mload_match_items\u001b[0;34m()\u001b[0m\n\u001b[1;32m     59\u001b[0m \u001b[0;31m# Cell\u001b[0m\u001b[0;34m\u001b[0m\u001b[0;34m\u001b[0m\u001b[0;34m\u001b[0m\u001b[0m\n\u001b[1;32m     60\u001b[0m \u001b[0;32mdef\u001b[0m \u001b[0mload_match_items\u001b[0m\u001b[0;34m(\u001b[0m\u001b[0;34m)\u001b[0m\u001b[0;34m:\u001b[0m\u001b[0;34m\u001b[0m\u001b[0;34m\u001b[0m\u001b[0m\n\u001b[0;32m---> 61\u001b[0;31m     \u001b[0mr_itemcf\u001b[0m \u001b[0;34m=\u001b[0m \u001b[0mPickleWrapper\u001b[0m\u001b[0;34m.\u001b[0m\u001b[0mloadFromFile\u001b[0m\u001b[0;34m(\u001b[0m\u001b[0mos\u001b[0m\u001b[0;34m.\u001b[0m\u001b[0mpath\u001b[0m\u001b[0;34m.\u001b[0m\u001b[0mjoin\u001b[0m\u001b[0;34m(\u001b[0m\u001b[0margs\u001b[0m\u001b[0;34m.\u001b[0m\u001b[0mDATA_DIR\u001b[0m\u001b[0;34m,\u001b[0m \u001b[0;34m'data_gen/r_list_itemcf_0527.pkl'\u001b[0m\u001b[0;34m)\u001b[0m\u001b[0;34m)\u001b[0m\u001b[0;34m\u001b[0m\u001b[0;34m\u001b[0m\u001b[0m\n\u001b[0m\u001b[1;32m     62\u001b[0m \u001b[0;34m\u001b[0m\u001b[0m\n\u001b[1;32m     63\u001b[0m     \u001b[0mr_binn\u001b[0m \u001b[0;34m=\u001b[0m \u001b[0mPickleWrapper\u001b[0m\u001b[0;34m.\u001b[0m\u001b[0mloadFromFile\u001b[0m\u001b[0;34m(\u001b[0m\u001b[0mos\u001b[0m\u001b[0;34m.\u001b[0m\u001b[0mpath\u001b[0m\u001b[0;34m.\u001b[0m\u001b[0mjoin\u001b[0m\u001b[0;34m(\u001b[0m\u001b[0margs\u001b[0m\u001b[0;34m.\u001b[0m\u001b[0mDATA_DIR\u001b[0m\u001b[0;34m,\u001b[0m \u001b[0;34m'data_gen/r_list_binn_0527.pkl'\u001b[0m\u001b[0;34m)\u001b[0m\u001b[0;34m)\u001b[0m\u001b[0;34m\u001b[0m\u001b[0;34m\u001b[0m\u001b[0m\n",
      "\u001b[0;32m<ipython-input-37-de2cf3129d7e>\u001b[0m in \u001b[0;36mloadFromFile\u001b[0;34m(cls, file, mode)\u001b[0m\n\u001b[1;32m     10\u001b[0m     \u001b[0;34m@\u001b[0m\u001b[0mclassmethod\u001b[0m\u001b[0;34m\u001b[0m\u001b[0;34m\u001b[0m\u001b[0m\n\u001b[1;32m     11\u001b[0m     \u001b[0;32mdef\u001b[0m \u001b[0mloadFromFile\u001b[0m\u001b[0;34m(\u001b[0m\u001b[0mcls\u001b[0m\u001b[0;34m,\u001b[0m \u001b[0mfile\u001b[0m\u001b[0;34m,\u001b[0m \u001b[0mmode\u001b[0m\u001b[0;34m=\u001b[0m\u001b[0;34m'rb'\u001b[0m\u001b[0;34m)\u001b[0m\u001b[0;34m:\u001b[0m\u001b[0;34m\u001b[0m\u001b[0;34m\u001b[0m\u001b[0m\n\u001b[0;32m---> 12\u001b[0;31m         \u001b[0;32mwith\u001b[0m \u001b[0mopen\u001b[0m\u001b[0;34m(\u001b[0m\u001b[0mfile\u001b[0m\u001b[0;34m,\u001b[0m \u001b[0mmode\u001b[0m\u001b[0;34m)\u001b[0m \u001b[0;32mas\u001b[0m \u001b[0mf\u001b[0m\u001b[0;34m:\u001b[0m\u001b[0;34m\u001b[0m\u001b[0;34m\u001b[0m\u001b[0m\n\u001b[0m\u001b[1;32m     13\u001b[0m             \u001b[0;32mreturn\u001b[0m \u001b[0mpickle\u001b[0m\u001b[0;34m.\u001b[0m\u001b[0mload\u001b[0m\u001b[0;34m(\u001b[0m\u001b[0mf\u001b[0m\u001b[0;34m)\u001b[0m\u001b[0;34m\u001b[0m\u001b[0;34m\u001b[0m\u001b[0m\n\u001b[1;32m     14\u001b[0m \u001b[0;34m\u001b[0m\u001b[0m\n",
      "\u001b[0;31mFileNotFoundError\u001b[0m: [Errno 2] No such file or directory: '../../data/contest/kdd_debiasing/data_gen/r_list_itemcf_0527.pkl'"
     ]
    }
   ],
   "source": [
    "import os\n",
    "import pandas as pd\n",
    "import numpy as np\n",
    "from tqdm import tqdm\n",
    "import pickle\n",
    "from loguru import logger\n",
    "import argparse\n",
    "class PickleWrapper(object):\n",
    "\n",
    "    @classmethod\n",
    "    def loadFromFile(cls, file, mode='rb'):\n",
    "        with open(file, mode) as f:\n",
    "            return pickle.load(f)\n",
    "\n",
    "    @classmethod\n",
    "    def dump2File(cls, o, file, mode='wb'):\n",
    "        '''\n",
    "        把目标对象序列化到文件\n",
    "        :param o: 目标对象\n",
    "        :param file: 文件\n",
    "        :param mode:\n",
    "        :return:\n",
    "        '''\n",
    "        with open(file, mode) as f:\n",
    "            pickle.dump(o, f)\n",
    "\n",
    "# Cell\n",
    "\n",
    "\n",
    "def get_item_data():\n",
    "    train_item_df = pd.read_csv( './underexpose_item_feat.csv', sep=r',\\s+|,\\[|\\],\\[',names=['item_id']+list(range(256)),converters={'item_id':str})\n",
    "    train_item_df.iloc[:, -1] = train_item_df.iloc[:, -1].str.replace(']', '').map(float)\n",
    "    return train_item_df\n",
    "# Cell\n",
    "def val1(df, topk, click_val):\n",
    "    \"\"\"\n",
    "    \"\"\"\n",
    "    sr = df.groupby('user_id')['item_id_pred'].agg(list)\n",
    "    r_list = []\n",
    "    pred_num = click_val.shape[0]\n",
    "    for line in click_val.itertuples():\n",
    "        try:\n",
    "            df.loc[df.user_id==line.user_id, 'item_id_true'] = line.item_id\n",
    "            t = sr[line.user_id]\n",
    "            i = t.index(line.item_id)\n",
    "        except:\n",
    "            i = 99999\n",
    "\n",
    "        r_list.append(i)\n",
    "    r_series = pd.Series(r_list)\n",
    "    for i in range(50, topk+1, 50):\n",
    "        logger.info(f'recall{i}:{r_series[r_series<i].shape[0]/pred_num}')\n",
    "\n",
    "#     r_series[r_series<9999].plot(kind='box', title='pp', rot=45)\n",
    "    return df\n",
    "\n",
    "\n",
    "\n",
    "# Cell\n",
    "def load_match_items():\n",
    "    r_itemcf = PickleWrapper.loadFromFile('./r_list_itemcf_0527.pkl'))\n",
    "\n",
    "    r_binn = PickleWrapper.loadFromFile( './r_list_binn_0527.pkl'))\n",
    "\n",
    "#     r_itemcf_phase4 = PickleWrapper.loadFromFile(os.path.join(args.DATA_DIR, 'data_gen/r_list_itemcf_0527_phase4.pkl'))\n",
    "\n",
    "#     r_binn_phase4 = PickleWrapper.loadFromFile(os.path.join(args.DATA_DIR, 'data_gen/r_list_binn_0527_phase4.pkl'))\n",
    "\n",
    "\n",
    "    r_itemcf_yl = PickleWrapper.loadFromFile('./r_list_itemcf_yulao_0527.pkl'))\n",
    "\n",
    "    # r_itemcf = r_itemcf + r_itemcf_phase4\n",
    "    # r_binn = r_binn + r_binn_phase4\n",
    "    r_itemcf_yl = [r_itemcf_yl[0], r_itemcf_yl[1],r_itemcf_yl[2],r_itemcf_yl[3],r_itemcf_yl[5],r_itemcf_yl[6],r_itemcf_yl[4]]\n",
    "    return r_itemcf, r_binn, r_itemcf_yl\n",
    "#     return r_itemcf_phase4, r_binn_phase4, [r_itemcf_yl[4]]\n",
    "\n",
    "\n",
    "# Cell\n",
    "\n",
    "def data_preporcess(recall_list, match_num, phase, mode='train'):\n",
    "\n",
    "    itemcf, r_binn, r_itemcf_yl = recall_list\n",
    "    df1 = pd.DataFrame()\n",
    "    df2 = pd.DataFrame()\n",
    "    df3 = pd.DataFrame()\n",
    "    for i in range(len(phase)):\n",
    "        r_itemcf[i]['phase'] = phase[i]\n",
    "        r_binn[i]['phase'] = phase[i]\n",
    "        r_itemcf_yl[i]['phase'] = phase[i]\n",
    "        df1 = df1.append(r_itemcf[i])\n",
    "        df2 = df2.append(r_binn[i])\n",
    "        df3 = df3.append(r_itemcf_yl[i])\n",
    "        \n",
    "    df1_ = df1[df1['rank']<(match_num+1)]\n",
    "    df2_ = df2[df2['rank']<(match_num+1)]\n",
    "    df3_ = df3[df3['rank']<(match_num+1)]\n",
    "\n",
    "    print('merge Multi-channel recall...')\n",
    "    cols = 'user_id item_id_pred phase'.split()\n",
    "\n",
    "    if mode == 'train':\n",
    "        cols = 'user_id item_id_pred item_id_true phase'.split()\n",
    "    df = pd.merge(pd.merge(df1_, df2_, on=cols, how='outer'),df3_, on=cols, how='outer')\n",
    "\n",
    "    df = df.fillna(0)\n",
    "    if mode == 'train':\n",
    "        df['label'] = (df['item_id_pred'] == df['item_id_true']).map(int)\n",
    "\n",
    "\n",
    "    dft = pd.DataFrame()\n",
    "    for p in tqdm(phase):\n",
    "        # 获取test用户的近n次点击\n",
    "        temp_ = all_click_df[p][0][all_click_df[p][0].user_id.isin(all_click_df[p][1].user_id)].groupby('user_id')['item_id'].agg(list)\n",
    "        temp_ = pd.DataFrame(temp_)\n",
    "        for i in range(0, 5):\n",
    "            temp_[f'last_{i+1}'] = temp_.item_id.str.get(-(i+1))\n",
    "        dft = dft.append(temp_.reset_index())\n",
    "        # 计算每个phase的item_id cnt\n",
    "        t_ = all_click_df[p][0].groupby('item_id')['user_id'].count()\n",
    "        df.loc[df.phase==p, 'item_cnt'] = df.item_id_pred.map(lambda x: t_[x] if x in t_ else 0)\n",
    "\n",
    "    df = pd.merge(df, dft.drop(columns='item_id'))\n",
    "\n",
    "    df['item_id_pred_text_vec'] = df.item_id_pred.map(lambda x: item_feat['text_vec'][x] if x in item_feat['text_vec'] else np.zeros(128))\n",
    "\n",
    "    df['item_id_pred_img_vec'] = df.item_id_pred.map(lambda x: item_feat['img_vec'][x] if x in item_feat['img_vec'] else np.arange(128))\n",
    "\n",
    "    for c in tqdm('last_1 last_2 last_3'.split()):\n",
    "        df[f'{c}_text_vec'] = df.item_id_pred.map(lambda x: item_feat['text_vec'][x] if x in item_feat['text_vec'] else np.zeros(128))\n",
    "\n",
    "        df[f'{c}_img_vec'] = df.item_id_pred.map(lambda x: item_feat['img_vec'][x] if x in item_feat['img_vec'] else np.arange(128))\n",
    "\n",
    "\n",
    "    # 太大了，不建议存储\n",
    "    # df.to_pickle(os.path.join(args.DATA_DIR, f'data_gen/dft{match_num}.pkl'))\n",
    "\n",
    "    # df = pd.read_pickle(os.path.join(args.DATA_DIR, f'data_gen/dft{match_num}.pkl'))\n",
    "    return df\n",
    "\n",
    "# Cell\n",
    "def fe(df):\n",
    "    for i in tqdm('rank score'.split()):\n",
    "        df[f'{i}1_sub_{i}2'] = df[f'{i}_x']-df[f'{i}_y']\n",
    "        df[f'{i}1_add_{i}2'] = df[f'{i}_x']+df[f'{i}_y']\n",
    "        df[f'{i}1_mul_{i}2'] = df[f'{i}_x']*df[f'{i}_y']\n",
    "\n",
    "        df[f'{i}1_sub_{i}3'] = df[f'{i}_x']-df[f'{i}']\n",
    "        df[f'{i}1_add_{i}3'] = df[f'{i}_x']+df[f'{i}']\n",
    "        df[f'{i}1_mul_{i}3'] = df[f'{i}_x']*df[f'{i}']\n",
    "\n",
    "        df[f'{i}2_sub_{i}3'] = df[f'{i}_y']-df[f'{i}']\n",
    "        df[f'{i}2_add_{i}3'] = df[f'{i}_y']+df[f'{i}']\n",
    "        df[f'{i}2_mul_{i}3'] = df[f'{i}_y']*df[f'{i}']\n",
    "\n",
    "    df['sim1_text'] = (df['item_id_pred_text_vec'] * df['last_1_text_vec']).map(sum)\n",
    "\n",
    "    df['sim1_img'] = (df['item_id_pred_img_vec'] * df['last_1_img_vec']).map(sum)\n",
    "\n",
    "    df['sim2_text'] = (df['item_id_pred_text_vec'] * df['last_2_text_vec']).map(sum)\n",
    "    df['sim2_img'] = (df['item_id_pred_img_vec'] * df['last_2_img_vec']).map(sum)\n",
    "\n",
    "    df['sim3_text'] = (df['item_id_pred_text_vec'] * df['last_3_text_vec']).map(sum)\n",
    "    df['sim3_img'] = (df['item_id_pred_img_vec'] * df['last_3_img_vec']).map(sum)\n",
    "\n",
    "#     df['sim4_text'] = (df['item_id_pred_text_vec'] * df['last_4_text_vec']).map(sum)\n",
    "#     df['sim4_img'] = (df['item_id_pred_img_vec'] * df['last_4_img_vec']).map(sum)\n",
    "\n",
    "#     df['sim5_text'] = (df['item_id_pred_text_vec'] * df['last_5_text_vec']).map(sum)\n",
    "#     df['sim5_img'] = (df['item_id_pred_img_vec'] * df['last_5_img_vec']).map(sum)\n",
    "\n",
    "\n",
    "\n",
    "    df['sim1_text_img'] = df['sim1_text'] *  df['sim1_img']\n",
    "    df['sim2_text_img'] = df['sim2_text'] *  df['sim2_img']\n",
    "    df['sim3_text_img'] = df['sim3_text'] *  df['sim3_img']\n",
    "#     df['sim4_text_img'] = df['sim4_text'] *  df['sim4_img']\n",
    "#     df['sim5_text_img'] = df['sim5_text'] *  df['sim5_img']\n",
    "\n",
    "    df['sim12_text'] = df['sim1_text'] + df['sim2_text']\n",
    "    df['sim123_text'] = df['sim1_text'] + df['sim2_text'] + df['sim3_text']\n",
    "#     df['sim1234_text'] = df['sim1_text'] + df['sim2_text'] + df['sim3_text'] + df['sim4_text']\n",
    "#     df['sim12345_text'] = df['sim1_text'] + df['sim2_text'] + df['sim3_text'] + df['sim4_text'] + df['sim5_text']\n",
    "\n",
    "    df['sim12_img'] = df['sim1_img'] + df['sim2_img']\n",
    "    df['sim123_img'] = df['sim1_img'] + df['sim2_img'] + df['sim3_img']\n",
    "#     df['sim1234_img'] = df['sim1_img'] + df['sim2_img'] + df['sim3_img'] + df['sim4_img']\n",
    "#     df['sim12345_img'] = df['sim1_img'] + df['sim2_img'] + df['sim3_img'] + df['sim4_img'] + df['sim5_img']\n",
    "\n",
    "    df['sim12_text_img'] = df['sim1_text_img'] + df['sim2_text_img']\n",
    "    df['sim123_text_img'] = df['sim1_text_img'] + df['sim2_text_img'] + df['sim3_text_img']\n",
    "#     df['sim1234_text_img'] = df['sim1_text_img'] + df['sim2_text_img'] + df['sim3_text_img'] + df['sim4_text_img']\n",
    "#     df['sim12345_text_img'] = df['sim1_text_img'] + df['sim2_text_img'] + df['sim3_text_img'] + df['sim4_text_img'] + df['sim5_text_img']\n",
    "\n",
    "\n",
    "    return df\n",
    "\n",
    "# Cell\n",
    "def get_model_input(df, mode='train'):\n",
    "    from catboost import Pool, CatBoostClassifier\n",
    "\n",
    "    cols = ['score_x', 'rank_x','score_y', 'rank_y', 'score', 'rank', 'item_cnt','sim1_text', 'sim1_img', 'sim2_text','sim2_img', 'sim3_text', 'sim3_img', 'sim4_text', 'sim4_img','sim5_text', 'sim5_img', 'rank1_sub_rank2', 'rank1_add_rank2','rank1_mul_rank2', 'rank1_sub_rank3', 'rank1_add_rank3','rank1_mul_rank3', 'rank2_sub_rank3', 'rank2_add_rank3','rank2_mul_rank3', 'score1_sub_score2', 'score1_add_score2','score1_mul_score2', 'score1_sub_score3', 'score1_add_score3','score1_mul_score3', 'score2_sub_score3', 'score2_add_score3','score2_mul_score3', 'sim1_text_img', 'sim2_text_img', 'sim3_text_img','sim4_text_img', 'sim5_text_img', 'sim12_text', 'sim123_text','sim1234_text', 'sim12345_text', 'sim12_img', 'sim123_img','sim1234_img', 'sim12345_img', 'sim12_text_img', 'sim123_text_img','sim1234_text_img', 'sim12345_text_img']\n",
    "    \n",
    "    df['fscore'] = 0\n",
    "    df['frank'] = 999\n",
    "    cat_cols = []\n",
    "    if mode=='train':\n",
    "        X_train, X_test, y_train, y_test = df.loc[df['phase']<6, cols], df.loc[df['phase']==6, cols], df.loc[df['phase']<6, 'label'],df.loc[df['phase']==6, 'label']\n",
    "\n",
    "\n",
    "        train_data = Pool(data=X_train,label=y_train,cat_features=cat_cols)\n",
    "        val_data = Pool(data=X_test, label=y_test, cat_features=cat_cols)\n",
    "        return train_data, val_data, cat_cols\n",
    "    X_test = df[cols]\n",
    "    test_data = Pool(data=X_test, cat_features=cat_cols)\n",
    "    return test_data, cat_cols\n",
    "\n",
    "# Cell\n",
    "def get_model():\n",
    "    from catboost import Pool, CatBoostClassifier\n",
    "    params = {'iterations': 360,'learning_rate': 0.1,'random_seed': 144,'custom_metric': 'F1','loss_function': 'Logloss','class_weights': [1, 20],}\n",
    "    print(params)\n",
    "    model = CatBoostClassifier(**params)\n",
    "    return model\n",
    "\n",
    "# Cell\n",
    "if __name__ == '__main__':\n",
    "\n",
    "    parser = argparse.ArgumentParser(description='t')\n",
    "    parser.add_argument('--now_phase', type=int, default=6, help='')\n",
    "    parser.add_argument('--window', type=int, default=10, help='cocur_matr的时间窗')\n",
    "    parser.add_argument('--time_decay', type=float, default=7/8, help='时间衰减')\n",
    "    parser.add_argument('--mode', type=str, default='train', help='train test')\n",
    "    parser.add_argument('--topk', type=int, default=500, help='每种召回策略召回的样本数')\n",
    "    parser.add_argument('--DATA_DIR', type=str, default='../../data/contest/kdd_debiasing', help='data dir')\n",
    "\n",
    "    args = parser.parse_args(args=[])\n",
    "    trace = logger.add(os.path.join(args.DATA_DIR, 'data_gen/runtime.log'))\n",
    "    # Cell\n",
    "    all_click_df = load_click_data_per_phase(args.now_phase, args.DATA_DIR)\n",
    "\n",
    "    # Cell\n",
    "    item_feat = get_item_data()\n",
    "\n",
    "    # Cell\n",
    "    item_feat['text_vec'] = item_feat.iloc[:, 1:129].values.tolist()\n",
    "    item_feat['img_vec'] = item_feat.iloc[:, 129:257].values.tolist()\n",
    "\n",
    "    item_feat['text_vec'] = item_feat['text_vec'].map(np.array)\n",
    "\n",
    "    item_feat['img_vec'] = item_feat['img_vec'].map(np.array)\n",
    "\n",
    "    item_feat.set_index('item_id', inplace=True)\n",
    "\n",
    "    # Cell\n",
    "    phase = [0, 1, 2, 3, 5, 6]\n",
    "\n",
    "    # phase = [4]\n",
    "    # match_num = 200\n",
    "    match_num = 500\n",
    "   "
   ]
  },
  {
   "cell_type": "code",
   "execution_count": null,
   "metadata": {},
   "outputs": [
    {
     "name": "stdout",
     "output_type": "stream",
     "text": [
      "merge Multi-channel recall...\n"
     ]
    },
    {
     "name": "stderr",
     "output_type": "stream",
     "text": [
      " 83%|████████▎ | 5/6 [10:29<02:10, 130.42s/it]"
     ]
    }
   ],
   "source": [
    "def load_match_items():\n",
    "    r_itemcf = PickleWrapper.loadFromFile('./r_list_itemcf_0527.pkl')\n",
    "\n",
    "    r_binn = PickleWrapper.loadFromFile( './r_list_binn_0527.pkl')\n",
    "\n",
    "#     r_itemcf_phase4 = PickleWrapper.loadFromFile(os.path.join(args.DATA_DIR, 'data_gen/r_list_itemcf_0527_phase4.pkl'))\n",
    "\n",
    "#     r_binn_phase4 = PickleWrapper.loadFromFile(os.path.join(args.DATA_DIR, 'data_gen/r_list_binn_0527_phase4.pkl'))\n",
    "\n",
    "\n",
    "    r_itemcf_yl = PickleWrapper.loadFromFile('./r_list_itemcf_yulao_0527.pkl')\n",
    "\n",
    "    # r_itemcf = r_itemcf + r_itemcf_phase4\n",
    "    # r_binn = r_binn + r_binn_phase4\n",
    "    r_itemcf_yl = [r_itemcf_yl[0], r_itemcf_yl[1],r_itemcf_yl[2],r_itemcf_yl[3],r_itemcf_yl[5],r_itemcf_yl[6],r_itemcf_yl[4]]\n",
    "    return r_itemcf, r_binn, r_itemcf_yl\n",
    "#     return r_itemcf_phase4, r_binn_phase4, [r_itemcf_yl[4]]\n",
    "\n",
    "\n",
    "r_itemcf, r_binn, r_itemcf_yl = load_match_items()\n",
    "df = data_preporcess([r_itemcf, r_binn, r_itemcf_yl], match_num, phase)\n",
    "df = fe(df)\n",
    "train_data, val_data, cat_cols = get_model_input(df)\n",
    "model = get_model()\n",
    "r = model.fit(train_data,verbose=False,plot=False)\n",
    "df.loc[df['phase']==6, 'fscore'] = model.predict_proba(val_data)[:, 1]\n",
    "\n",
    "df.loc[df['phase']==6, 'frank'] = df.loc[df['phase']==6].groupby('user_id')['fscore'].rank(method='first', ascending=False)\n",
    "r = val1(df.loc[(df['phase']==6)&(df['frank']<101)], 100, all_click_df[6][1])"
   ]
  },
  {
   "cell_type": "code",
   "execution_count": null,
   "metadata": {},
   "outputs": [],
   "source": []
  }
 ],
 "metadata": {
  "kernelspec": {
   "display_name": "Python 3",
   "language": "python",
   "name": "python3"
  },
  "language_info": {
   "codemirror_mode": {
    "name": "ipython",
    "version": 3
   },
   "file_extension": ".py",
   "mimetype": "text/x-python",
   "name": "python",
   "nbconvert_exporter": "python",
   "pygments_lexer": "ipython3",
   "version": "3.7.3"
  }
 },
 "nbformat": 4,
 "nbformat_minor": 4
}
